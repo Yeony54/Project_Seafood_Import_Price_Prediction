{
 "cells": [
  {
   "cell_type": "markdown",
   "metadata": {},
   "source": [
    "# 전처리 가설 검증\n",
    "- df_train + weather/oil 제외 추가데이터\n",
    "- 모든 나라에 대해서 진행"
   ]
  },
  {
   "cell_type": "markdown",
   "metadata": {},
   "source": [
    "# Setting"
   ]
  },
  {
   "cell_type": "code",
   "execution_count": 1,
   "metadata": {},
   "outputs": [],
   "source": [
    "# Import Libraries & Functions\n",
    "from utility import *"
   ]
  },
  {
   "cell_type": "code",
   "execution_count": 2,
   "metadata": {},
   "outputs": [],
   "source": [
    "# Turn off warnings\n",
    "warnings.filterwarnings('ignore')\n",
    "%matplotlib inline"
   ]
  },
  {
   "cell_type": "code",
   "execution_count": 3,
   "metadata": {},
   "outputs": [],
   "source": [
    "# Visualization Setting\n",
    "color_palette = 'Set3'\n",
    "title_size = 20\n",
    "sns.set_style(\"whitegrid\")\n",
    "plt.rcParams['font.family'] = 'NanumGothic'"
   ]
  },
  {
   "cell_type": "code",
   "execution_count": 4,
   "metadata": {},
   "outputs": [],
   "source": [
    "# Data directory\n",
    "root = os.path.join(os.getcwd(), 'DATA')"
   ]
  },
  {
   "cell_type": "markdown",
   "metadata": {},
   "source": [
    "### Merging dataframes"
   ]
  },
  {
   "cell_type": "code",
   "execution_count": 5,
   "metadata": {},
   "outputs": [],
   "source": [
    "from functools import reduce\n",
    "\n",
    "def merge_df(df_list):\n",
    "    return reduce(lambda  left,right: pd.merge(left,right, on=['year', 'week'], how='left'), df_list)"
   ]
  },
  {
   "cell_type": "markdown",
   "metadata": {},
   "source": [
    "# Import Data"
   ]
  },
  {
   "cell_type": "code",
   "execution_count": 6,
   "metadata": {},
   "outputs": [],
   "source": [
    "df_train = pd.read_excel(os.path.join(root, 'train.xlsx'))\n",
    "df_oil = pd.read_csv(os.path.join(root, 'preprocessed_oil.csv'))\n",
    "df_weather_kr = pd.read_csv(os.path.join(root, 'preprocessed_weather_korea.csv'))\n",
    "df_cpi = pd.read_csv(os.path.join(root, 'preprocessed_cpi.csv'))"
   ]
  },
  {
   "cell_type": "markdown",
   "metadata": {},
   "source": [
    "----"
   ]
  },
  {
   "cell_type": "markdown",
   "metadata": {},
   "source": [
    "# Basic Dataframe\n",
    "df_train\n",
    "- 날짜 데이터 수정 (REG_DATE to 'year', 'week')\n",
    "- 미사용 컬럼 drop (P_TYPE)"
   ]
  },
  {
   "cell_type": "code",
   "execution_count": 7,
   "metadata": {},
   "outputs": [],
   "source": [
    "df_train = df_train.replace([np.datetime64('2017-01-01'), np.datetime64('2017-01-06')],\n",
    "                            [np.datetime64('2017-01-02'), np.datetime64('2017-01-09')])"
   ]
  },
  {
   "cell_type": "code",
   "execution_count": 8,
   "metadata": {},
   "outputs": [
    {
     "name": "stdout",
     "output_type": "stream",
     "text": [
      "missing 0 values\n"
     ]
    }
   ],
   "source": [
    "set_week(df_train, 'REG_DATE')\n",
    "check_week(df_train)"
   ]
  },
  {
   "cell_type": "code",
   "execution_count": 9,
   "metadata": {},
   "outputs": [],
   "source": [
    "df_train.drop(columns = ['P_TYPE'], inplace=True)"
   ]
  },
  {
   "cell_type": "markdown",
   "metadata": {},
   "source": [
    "----"
   ]
  },
  {
   "cell_type": "markdown",
   "metadata": {},
   "source": [
    "# Baseline Dataframe\n",
    "**df0_base**:  \n",
    "- One hot encoding on categorical features"
   ]
  },
  {
   "cell_type": "markdown",
   "metadata": {},
   "source": [
    "## Preprocess"
   ]
  },
  {
   "cell_type": "code",
   "execution_count": 10,
   "metadata": {},
   "outputs": [],
   "source": [
    "df0_base = df_train.copy()"
   ]
  },
  {
   "cell_type": "markdown",
   "metadata": {
    "id": "h3OU0ctu7TKo"
   },
   "source": [
    "### One hot encoding"
   ]
  },
  {
   "cell_type": "code",
   "execution_count": 11,
   "metadata": {
    "id": "WfYJ0J9I7TKo"
   },
   "outputs": [],
   "source": [
    "# P_IMPORT_TYPE\n",
    "import_type_list = set()\n",
    "for tmp in df0_base.P_IMPORT_TYPE.unique():\n",
    "    for a in tmp.split(','):\n",
    "        import_type_list.add(a)\n",
    "for name in import_type_list:\n",
    "    df0_base[name] = 0\n",
    "    df0_base.loc[df0_base['P_IMPORT_TYPE'].str.contains(name, regex=False), name] = 1"
   ]
  },
  {
   "cell_type": "code",
   "execution_count": 12,
   "metadata": {
    "id": "D2wAIEY_7TKw"
   },
   "outputs": [],
   "source": [
    "# Others\n",
    "one_hot = ['CTRY_1', 'CTRY_2', 'P_PURPOSE', 'CATEGORY_1', 'CATEGORY_2', 'P_NAME']\n",
    "df0_base = pd.get_dummies(df0_base, columns=one_hot)"
   ]
  },
  {
   "cell_type": "markdown",
   "metadata": {
    "id": "9TjOq4PM7TKx"
   },
   "source": [
    "### Drop Columns"
   ]
  },
  {
   "cell_type": "code",
   "execution_count": 13,
   "metadata": {
    "id": "02DqP-aR7TKx"
   },
   "outputs": [],
   "source": [
    "df0_base.drop(columns = ['P_IMPORT_TYPE'], inplace=True)"
   ]
  },
  {
   "cell_type": "markdown",
   "metadata": {
    "id": "Yr1Q_9kz7TKx"
   },
   "source": [
    "## Train"
   ]
  },
  {
   "cell_type": "markdown",
   "metadata": {},
   "source": [
    "#### Numerical Features"
   ]
  },
  {
   "cell_type": "code",
   "execution_count": 14,
   "metadata": {},
   "outputs": [],
   "source": [
    "numerical_columns = ['P_PRICE', 'year', 'week']"
   ]
  },
  {
   "cell_type": "code",
   "execution_count": 15,
   "metadata": {
    "scrolled": false
   },
   "outputs": [
    {
     "name": "stderr",
     "output_type": "stream",
     "text": [
      "findfont: Font family ['NanumGothic'] not found. Falling back to DejaVu Sans.\n"
     ]
    },
    {
     "data": {
      "image/png": "[encoded data removed]",
      "text/plain": [
       "<Figure size 432x288 with 2 Axes>"
      ]
     },
     "metadata": {},
     "output_type": "display_data"
    }
   ],
   "source": [
    "#Using Pearson Correlation\n",
    "plt.figure(figsize=(6, 4))\n",
    "cor = df0_base[numerical_columns].corr()\n",
    "sns.heatmap(cor, annot=True, cmap=plt.cm.Reds)\n",
    "plt.show()"
   ]
  },
  {
   "cell_type": "markdown",
   "metadata": {},
   "source": [
    "날짜 데이터('year', 'week')는 P_PRICE 결정에 큰 영향을 미치지 않음을 확인 할 수 있다  \n",
    "다만, 데이터를 추가하는 기준으로 사용해야하므로 인덱스로 가져가준다"
   ]
  },
  {
   "cell_type": "code",
   "execution_count": 16,
   "metadata": {},
   "outputs": [
    {
     "name": "stdout",
     "output_type": "stream",
     "text": [
      "Model Training Complete!\n"
     ]
    },
    {
     "data": {
      "image/png": "[encoded data removed]",
      "text/plain": [
       "<Figure size 720x576 with 1 Axes>"
      ]
     },
     "metadata": {},
     "output_type": "display_data"
    },
    {
     "name": "stdout",
     "output_type": "stream",
     "text": [
      ">> RMSE train = 14.252151846665338\n",
      ">> RMSE validation = 912703084.9382205\n",
      "-------------------------------------------------\n"
     ]
    }
   ],
   "source": [
    "model0, plt0 = train_model(df0_base.drop(columns=['P_PRICE']), df0_base['P_PRICE'])"
   ]
  },
  {
   "cell_type": "code",
   "execution_count": 17,
   "metadata": {},
   "outputs": [],
   "source": [
    "save_img(plt0, '3-1. model0')"
   ]
  },
  {
   "cell_type": "code",
   "execution_count": 18,
   "metadata": {},
   "outputs": [
    {
     "name": "stdout",
     "output_type": "stream",
     "text": [
      "-------------------------------------------------\n",
      "총 625 개\n"
     ]
    }
   ],
   "source": [
    "# plot feature importance\n",
    "features = print_importance(model0, df0_base, [])"
   ]
  },
  {
   "cell_type": "markdown",
   "metadata": {},
   "source": [
    "----"
   ]
  },
  {
   "cell_type": "markdown",
   "metadata": {},
   "source": [
    "# Adding Columns\n",
    "- 어종별 수 컬럼 추가\n",
    "- 수입용도 수 컬럼 추가\n",
    "- 가공여부 컬럼 추가"
   ]
  },
  {
   "cell_type": "code",
   "execution_count": null,
   "metadata": {},
   "outputs": [],
   "source": [
    "df1_add_columns = df_train.copy()"
   ]
  },
  {
   "cell_type": "markdown",
   "metadata": {},
   "source": [
    "## Preprocess"
   ]
  },
  {
   "cell_type": "markdown",
   "metadata": {},
   "source": [
    "#### Add columns"
   ]
  },
  {
   "cell_type": "code",
   "execution_count": null,
   "metadata": {},
   "outputs": [],
   "source": [
    "added_columns = []"
   ]
  },
  {
   "cell_type": "code",
   "execution_count": null,
   "metadata": {},
   "outputs": [],
   "source": [
    "def get_cnt(df, column, new_column):\n",
    "    value_dict = {}\n",
    "    for name, value in zip(df[column].value_counts().index, df[column].value_counts()):\n",
    "        value_dict[name] = value\n",
    "    def value(col):\n",
    "        return value_dict[col]\n",
    "\n",
    "    df[new_column] = df[column].apply(value)"
   ]
  },
  {
   "cell_type": "code",
   "execution_count": null,
   "metadata": {},
   "outputs": [],
   "source": [
    "# 제조국 수 컬럼 추가\n",
    "get_cnt(df1_add_columns, 'CTRY_1', 'ctry1_cnt')\n",
    "added_columns.append('ctry1_cnt')"
   ]
  },
  {
   "cell_type": "code",
   "execution_count": null,
   "metadata": {},
   "outputs": [],
   "source": [
    "# 수출국 수 컬럼 추가\n",
    "get_cnt(df1_add_columns, 'CTRY_2', 'ctry2_cnt')\n",
    "added_columns.append('ctry2_cnt')"
   ]
  },
  {
   "cell_type": "code",
   "execution_count": null,
   "metadata": {},
   "outputs": [],
   "source": [
    "# 수입용도 수 컬럼 추가\n",
    "get_cnt(df1_add_columns, 'P_PURPOSE', 'purpose_cnt')\n",
    "added_columns.append('purpose_cnt')"
   ]
  },
  {
   "cell_type": "code",
   "execution_count": null,
   "metadata": {},
   "outputs": [],
   "source": [
    "# 분류 수 컬럼 추가\n",
    "get_cnt(df1_add_columns, 'CATEGORY_1', 'category1_cnt')\n",
    "added_columns.append('category1_cnt')"
   ]
  },
  {
   "cell_type": "code",
   "execution_count": null,
   "metadata": {},
   "outputs": [],
   "source": [
    "# 어종 수 컬럼 추가 \n",
    "get_cnt(df1_add_columns, 'CATEGORY_2', 'category2_cnt')\n",
    "added_columns.append('category2_cnt')"
   ]
  },
  {
   "cell_type": "code",
   "execution_count": null,
   "metadata": {},
   "outputs": [],
   "source": [
    "# 상세어종별 수 컬럼 추가\n",
    "get_cnt(df1_add_columns, 'P_NAME', 'name_cnt')\n",
    "added_columns.append('name_cnt')"
   ]
  },
  {
   "cell_type": "code",
   "execution_count": null,
   "metadata": {},
   "outputs": [],
   "source": [
    "# 가공 여부 컬럼 추가\n",
    "df1_add_columns['is_processed'] = (df1_add_columns['CTRY_1'] != df1_add_columns['CTRY_2'])\n",
    "added_columns.append('is_processed')"
   ]
  },
  {
   "cell_type": "code",
   "execution_count": null,
   "metadata": {
    "id": "9Sem0cl37TKo"
   },
   "outputs": [],
   "source": [
    "# 수입형태\n",
    "import_type_list = set()\n",
    "for tmp in df1_add_columns.P_IMPORT_TYPE.unique():\n",
    "    for a in tmp.split(','):\n",
    "        import_type_list.add(a)\n",
    "for name in import_type_list:\n",
    "    df1_add_columns[name] = 0\n",
    "    df1_add_columns.loc[df1_add_columns['P_IMPORT_TYPE'].str.contains(name, regex=False), name] = 1"
   ]
  },
  {
   "cell_type": "code",
   "execution_count": null,
   "metadata": {},
   "outputs": [],
   "source": [
    "# 수입형태 수 컬럼 추가\n",
    "df1_add_columns['import_cnt'] = 0\n",
    "for i, row in df1_add_columns.iterrows():\n",
    "    for name in import_type_list:\n",
    "        if row[name] == 1:\n",
    "            df1_add_columns.at[i, 'import_cnt'] += 1\n",
    "added_columns.append('import_cnt')"
   ]
  },
  {
   "cell_type": "markdown",
   "metadata": {},
   "source": [
    "#### One hot encoding"
   ]
  },
  {
   "cell_type": "code",
   "execution_count": null,
   "metadata": {},
   "outputs": [],
   "source": [
    "# Others\n",
    "one_hot = ['CTRY_1', 'CTRY_2', 'P_PURPOSE', 'CATEGORY_1', 'CATEGORY_2', 'P_NAME']\n",
    "df1_add_columns = pd.get_dummies(df1_add_columns, columns=one_hot)"
   ]
  },
  {
   "cell_type": "markdown",
   "metadata": {
    "id": "9TjOq4PM7TKx"
   },
   "source": [
    "### Drop Columns"
   ]
  },
  {
   "cell_type": "code",
   "execution_count": null,
   "metadata": {
    "id": "02DqP-aR7TKx"
   },
   "outputs": [],
   "source": [
    "df1_add_columns.drop(columns = ['P_IMPORT_TYPE'], inplace=True)"
   ]
  },
  {
   "cell_type": "markdown",
   "metadata": {},
   "source": [
    "## Check"
   ]
  },
  {
   "cell_type": "code",
   "execution_count": null,
   "metadata": {},
   "outputs": [],
   "source": [
    "df1_add_columns['name_cnt'].describe()"
   ]
  },
  {
   "cell_type": "code",
   "execution_count": null,
   "metadata": {},
   "outputs": [],
   "source": [
    "df1_add_columns['import_cnt'].value_counts()"
   ]
  },
  {
   "cell_type": "code",
   "execution_count": null,
   "metadata": {},
   "outputs": [],
   "source": [
    "df1_add_columns['is_processed'].value_counts()"
   ]
  },
  {
   "cell_type": "markdown",
   "metadata": {},
   "source": [
    "## Train"
   ]
  },
  {
   "cell_type": "code",
   "execution_count": null,
   "metadata": {},
   "outputs": [],
   "source": [
    "model1 = train_model(df1_add_columns.drop(columns=['P_PRICE']), df1_add_columns['P_PRICE'])"
   ]
  },
  {
   "cell_type": "code",
   "execution_count": null,
   "metadata": {},
   "outputs": [],
   "source": [
    "t = print_importance(model1, df1_add_columns, added_columns)"
   ]
  },
  {
   "cell_type": "markdown",
   "metadata": {},
   "source": [
    "- name_cnt와 import_Cnt 는 중요도가 꽤나 높다\n",
    "- 그 외는 작다\n",
    "- 그럼에도 변수 추가를 통해 모델 정확도가 상승한 것을 확인할 수 있다"
   ]
  },
  {
   "cell_type": "markdown",
   "metadata": {},
   "source": [
    "----"
   ]
  },
  {
   "cell_type": "markdown",
   "metadata": {},
   "source": [
    "# Detecting Anomaly & Standardization"
   ]
  },
  {
   "cell_type": "code",
   "execution_count": null,
   "metadata": {},
   "outputs": [],
   "source": [
    "df2_transformed = df1_add_columns.copy()"
   ]
  },
  {
   "cell_type": "markdown",
   "metadata": {},
   "source": [
    "## Univariate Analysis"
   ]
  },
  {
   "cell_type": "code",
   "execution_count": null,
   "metadata": {},
   "outputs": [],
   "source": [
    "price_scale = StandardScaler().fit_transform(df2_transformed['P_PRICE'][:,np.newaxis]);\n",
    "low_range = price_scale[price_scale[:,0].argsort()][:10]\n",
    "high_range= price_scale[price_scale[:,0].argsort()][-10:]\n",
    "print('outer range (low) of the distribution:')\n",
    "print(*low_range)\n",
    "print('\\nouter range (high) of the distribution:')\n",
    "print(*high_range)"
   ]
  },
  {
   "cell_type": "markdown",
   "metadata": {},
   "source": [
    "- lower range 는 0에 가까워 크게 신경 쓸 필요 없다\n",
    "- higher range의 경우 상당히 큰 값들이 있음을 확인할 수 있다\n",
    "- 이 중 특히 마지막 3 ~ 6개는 그 값이 급증하므로 이상치로 생각할 수 있다"
   ]
  },
  {
   "cell_type": "markdown",
   "metadata": {},
   "source": [
    "## Bivariate Analysis"
   ]
  },
  {
   "cell_type": "markdown",
   "metadata": {},
   "source": [
    "- name_cnt\n",
    "- import_cnt\n",
    "\n",
    "추가한 numerical feature 중 중요도가 높았던 두 변수에 대해 bivariate analysis를 진행한다"
   ]
  },
  {
   "cell_type": "code",
   "execution_count": null,
   "metadata": {},
   "outputs": [],
   "source": [
    "plt.figure(figsize=(8,6))\n",
    "sns.scatterplot(x='name_cnt', y='P_PRICE', data=df2_transformed, color='mediumseagreen')\n",
    "plt.title(\"name_cnt\",fontsize=title_size)\n",
    "plt.show()"
   ]
  },
  {
   "cell_type": "code",
   "execution_count": null,
   "metadata": {
    "scrolled": false
   },
   "outputs": [],
   "source": [
    "plt.figure(figsize=(8,6))\n",
    "sns.scatterplot(x='import_cnt', y='P_PRICE', data=df2_transformed, color='mediumseagreen')\n",
    "plt.title(\"import_cnt\",fontsize=title_size)\n",
    "plt.show()"
   ]
  },
  {
   "cell_type": "markdown",
   "metadata": {},
   "source": [
    "앞서 이상치가 6개가 될 것이라고 예상하였는데,  \n",
    "역시나 공통적으로 P_PRICE가 약 500 이상인 값이 눈에 띄게 크다  \n",
    "따라서 해당 row는 anamoly 로 취급한다"
   ]
  },
  {
   "cell_type": "code",
   "execution_count": null,
   "metadata": {},
   "outputs": [],
   "source": [
    "# Drop Row\n",
    "df2_transformed = df2_transformed[df2_transformed['P_PRICE'] < 500]"
   ]
  },
  {
   "cell_type": "markdown",
   "metadata": {},
   "source": [
    "## Standardization"
   ]
  },
  {
   "cell_type": "markdown",
   "metadata": {},
   "source": [
    "Numerical feature 에 대해서 정규화를 진행해야한다\n",
    "- P_PRICE\n",
    "- ctry1_cnt\n",
    "- ctry2_cnt\n",
    "- purpose_cnt\n",
    "- name_cnt\n",
    "- category1_cnt\n",
    "- category2_cnt\n",
    "- import_cnt\n",
    "\n",
    "이 중, target value 인 P_PRICE와 함께 앞서 확인한 우선순위가 높은 name_cnt, import_cnt에 대해 진행한다"
   ]
  },
  {
   "cell_type": "markdown",
   "metadata": {},
   "source": [
    "#### P_PRICE"
   ]
  },
  {
   "cell_type": "code",
   "execution_count": null,
   "metadata": {},
   "outputs": [],
   "source": [
    "plt.figure(figsize=(20, 8))\n",
    "\n",
    "plt.subplot(1, 2, 1)\n",
    "plt.title('DIstribution Plot', fontsize=title_size)\n",
    "sns.distplot(df2_transformed['P_PRICE'], fit=norm);\n",
    "\n",
    "plt.subplot(1, 2, 2)\n",
    "plt.title('Probability Plot', fontsize=title_size)\n",
    "stats.probplot(df2_transformed['P_PRICE'], plot=plt)\n",
    "\n",
    "plt.show()"
   ]
  },
  {
   "cell_type": "markdown",
   "metadata": {},
   "source": [
    "- Peakedness\n",
    "- Positive Skewedness\n",
    "- Doesn't follow the diagonal line"
   ]
  },
  {
   "cell_type": "code",
   "execution_count": null,
   "metadata": {},
   "outputs": [],
   "source": [
    "df2_transformed['P_PRICE'] = np.log1p(df2_transformed['P_PRICE'])"
   ]
  },
  {
   "cell_type": "code",
   "execution_count": null,
   "metadata": {
    "scrolled": false
   },
   "outputs": [],
   "source": [
    "plt.figure(figsize=(20, 8))\n",
    "\n",
    "plt.subplot(1, 2, 1)\n",
    "plt.title('DIstribution Plot', fontsize=title_size)\n",
    "sns.distplot(df2_transformed['P_PRICE'], fit=norm);\n",
    "\n",
    "plt.subplot(1, 2, 2)\n",
    "plt.title('Probability Plot', fontsize=title_size)\n",
    "stats.probplot(df2_transformed['P_PRICE'], plot=plt)\n",
    "\n",
    "plt.show()"
   ]
  },
  {
   "cell_type": "markdown",
   "metadata": {},
   "source": [
    "#### name_cnt"
   ]
  },
  {
   "cell_type": "code",
   "execution_count": null,
   "metadata": {},
   "outputs": [],
   "source": [
    "plt.figure(figsize=(20, 8))\n",
    "\n",
    "plt.subplot(1, 2, 1)\n",
    "plt.title('DIstribution Plot', fontsize=title_size)\n",
    "sns.distplot(df2_transformed['name_cnt'], fit=norm);\n",
    "\n",
    "plt.subplot(1, 2, 2)\n",
    "plt.title('Probability Plot', fontsize=title_size)\n",
    "stats.probplot(df2_transformed['name_cnt'], plot=plt)\n",
    "\n",
    "plt.show()"
   ]
  },
  {
   "cell_type": "code",
   "execution_count": null,
   "metadata": {},
   "outputs": [],
   "source": [
    "df2_transformed['name_cnt'] = np.log1p(df2_transformed['name_cnt'])"
   ]
  },
  {
   "cell_type": "code",
   "execution_count": null,
   "metadata": {},
   "outputs": [],
   "source": [
    "plt.figure(figsize=(20, 8))\n",
    "\n",
    "plt.subplot(1, 2, 1)\n",
    "plt.title('DIstribution Plot', fontsize=title_size)\n",
    "sns.distplot(df2_transformed['name_cnt'], fit=norm);\n",
    "\n",
    "plt.subplot(1, 2, 2)\n",
    "plt.title('Probability Plot', fontsize=title_size)\n",
    "stats.probplot(df2_transformed['name_cnt'], plot=plt)\n",
    "\n",
    "plt.show()"
   ]
  },
  {
   "cell_type": "markdown",
   "metadata": {},
   "source": [
    "#### import_cnt"
   ]
  },
  {
   "cell_type": "code",
   "execution_count": null,
   "metadata": {},
   "outputs": [],
   "source": [
    "plt.figure(figsize=(20, 8))\n",
    "\n",
    "plt.subplot(1, 2, 1)\n",
    "plt.title('DIstribution Plot', fontsize=title_size)\n",
    "sns.distplot(df2_transformed['import_cnt'], fit=norm);\n",
    "\n",
    "plt.subplot(1, 2, 2)\n",
    "plt.title('Probability Plot', fontsize=title_size)\n",
    "stats.probplot(df2_transformed['import_cnt'], plot=plt)\n",
    "\n",
    "plt.show()"
   ]
  },
  {
   "cell_type": "code",
   "execution_count": null,
   "metadata": {},
   "outputs": [],
   "source": [
    "df2_transformed['import_cnt'] = np.log1p(df2_transformed['import_cnt'])"
   ]
  },
  {
   "cell_type": "code",
   "execution_count": null,
   "metadata": {},
   "outputs": [],
   "source": [
    "plt.figure(figsize=(20, 8))\n",
    "\n",
    "plt.subplot(1, 2, 1)\n",
    "plt.title('DIstribution Plot', fontsize=title_size)\n",
    "sns.distplot(df2_transformed['import_cnt'], fit=norm);\n",
    "\n",
    "plt.subplot(1, 2, 2)\n",
    "plt.title('Probability Plot', fontsize=title_size)\n",
    "stats.probplot(df2_transformed['import_cnt'], plot=plt)\n",
    "\n",
    "plt.show()"
   ]
  },
  {
   "cell_type": "markdown",
   "metadata": {},
   "source": [
    "## Train"
   ]
  },
  {
   "cell_type": "code",
   "execution_count": null,
   "metadata": {},
   "outputs": [],
   "source": [
    "model2 = train_model(df2_transformed.drop(columns=['P_PRICE']), df2_transformed['P_PRICE'])"
   ]
  },
  {
   "cell_type": "markdown",
   "metadata": {},
   "source": [
    "----"
   ]
  },
  {
   "cell_type": "markdown",
   "metadata": {},
   "source": [
    "# Dropping Columns\n",
    "- df3_drop_1 : CATEGORY_2, P_NAME drop\n",
    "- df4_drop_2 : CATEGORY_1, CATEGORY_2 drop\n",
    "- df5_drop_3 : CATEOGRY_2 drop"
   ]
  },
  {
   "cell_type": "code",
   "execution_count": null,
   "metadata": {},
   "outputs": [],
   "source": [
    "df3_drop_1 = df2_transformed.copy()\n",
    "df4_drop_2 = df2_transformed.copy()\n",
    "df5_drop_3 = df2_transformed.copy()"
   ]
  },
  {
   "cell_type": "markdown",
   "metadata": {},
   "source": [
    "## Preprocess"
   ]
  },
  {
   "cell_type": "code",
   "execution_count": null,
   "metadata": {},
   "outputs": [],
   "source": [
    "# Drop columns\n",
    "drop_column = []\n",
    "for column in df3_drop_1.columns:\n",
    "    if 'CATEGORY_2' in column or 'P_NAME' in column:\n",
    "        drop_column.append(column)\n",
    "df3_drop_1.drop(columns=drop_column, axis=1, inplace=True)"
   ]
  },
  {
   "cell_type": "code",
   "execution_count": null,
   "metadata": {},
   "outputs": [],
   "source": [
    "# Drop columns\n",
    "drop_column = []\n",
    "for column in df4_drop_2.columns:\n",
    "    if 'CATEGORY_' in column:\n",
    "        drop_column.append(column)\n",
    "df4_drop_2.drop(columns=drop_column, axis=1, inplace=True)"
   ]
  },
  {
   "cell_type": "code",
   "execution_count": null,
   "metadata": {},
   "outputs": [],
   "source": [
    "# Drop columns\n",
    "drop_column = []\n",
    "for column in df5_drop_3.columns:\n",
    "    if 'CATEGORY_2' in column:\n",
    "        drop_column.append(column)\n",
    "df5_drop_3.drop(columns=drop_column, axis=1, inplace=True)"
   ]
  },
  {
   "cell_type": "markdown",
   "metadata": {},
   "source": [
    "## Train"
   ]
  },
  {
   "cell_type": "code",
   "execution_count": null,
   "metadata": {},
   "outputs": [],
   "source": [
    "print(\"===========DROP NONE============\")\n",
    "model2 = train_model(df2_transformed.drop(columns=['P_PRICE']), df2_transformed['P_PRICE'])"
   ]
  },
  {
   "cell_type": "code",
   "execution_count": null,
   "metadata": {},
   "outputs": [],
   "source": [
    "print(\"===========DROP CATEGORY_2 & P_NAME============\")\n",
    "model3 = train_model(df3_drop_1.drop(columns=['P_PRICE']), df3_drop_1['P_PRICE'])"
   ]
  },
  {
   "cell_type": "code",
   "execution_count": null,
   "metadata": {},
   "outputs": [],
   "source": [
    "print(\"===========DROP CATEGORY_1, CATEGORY_2============\")\n",
    "model4 = train_model(df4_drop_2.drop(columns=['P_PRICE']), df4_drop_2['P_PRICE'])"
   ]
  },
  {
   "cell_type": "code",
   "execution_count": null,
   "metadata": {},
   "outputs": [],
   "source": [
    "print(\"===========DROP CATEGORY_2============\")\n",
    "model5 = train_model(df5_drop_3.drop(columns=['P_PRICE']), df5_drop_3['P_PRICE'])"
   ]
  },
  {
   "cell_type": "markdown",
   "metadata": {},
   "source": [
    "결론적으로 분류와 관련된 변수는 Drop 하지 않는 것이 더 효과적임을 알 수 있다"
   ]
  },
  {
   "cell_type": "markdown",
   "metadata": {},
   "source": [
    "----"
   ]
  },
  {
   "cell_type": "markdown",
   "metadata": {},
   "source": [
    "# Adding Data"
   ]
  },
  {
   "cell_type": "code",
   "execution_count": null,
   "metadata": {},
   "outputs": [],
   "source": [
    "df6_add_data = merge_df([df2_transformed, df_oil, df_weather_kr, df_cpi])"
   ]
  },
  {
   "cell_type": "markdown",
   "metadata": {},
   "source": [
    "## Preprocess\n",
    "추가한 데이터 모두 numerical feature 이므로 위와 같이 정규화를 해준다\n",
    "- oil\n",
    "- wind_kr\n",
    "- temperature_kr\n",
    "- water_temp_kr\n",
    "- cpi_total\n",
    "- cpi_fish"
   ]
  },
  {
   "cell_type": "code",
   "execution_count": null,
   "metadata": {},
   "outputs": [],
   "source": [
    "added_columns = ['oil', 'wind_kr', 'temperature_kr', 'water_temp_kr', 'cpi_total', 'cpi_fish']"
   ]
  },
  {
   "cell_type": "markdown",
   "metadata": {},
   "source": [
    "#### oil"
   ]
  },
  {
   "cell_type": "code",
   "execution_count": null,
   "metadata": {},
   "outputs": [],
   "source": [
    "plt.figure(figsize=(20, 8))\n",
    "\n",
    "plt.subplot(1, 2, 1)\n",
    "plt.title('DIstribution Plot', fontsize=title_size)\n",
    "sns.distplot(df6_add_data['oil'], fit=norm);\n",
    "\n",
    "plt.subplot(1, 2, 2)\n",
    "plt.title('Probability Plot', fontsize=title_size)\n",
    "stats.probplot(df6_add_data['oil'], plot=plt)\n",
    "\n",
    "plt.show()"
   ]
  },
  {
   "cell_type": "code",
   "execution_count": null,
   "metadata": {},
   "outputs": [],
   "source": [
    "df6_add_data['oil'] = np.log1p(df6_add_data['oil'])"
   ]
  },
  {
   "cell_type": "code",
   "execution_count": null,
   "metadata": {},
   "outputs": [],
   "source": [
    "plt.figure(figsize=(20, 8))\n",
    "\n",
    "plt.subplot(1, 2, 1)\n",
    "plt.title('DIstribution Plot', fontsize=title_size)\n",
    "sns.distplot(df6_add_data['oil'], fit=norm);\n",
    "\n",
    "plt.subplot(1, 2, 2)\n",
    "plt.title('Probability Plot', fontsize=title_size)\n",
    "stats.probplot(df6_add_data['oil'], plot=plt)\n",
    "\n",
    "plt.show()"
   ]
  },
  {
   "cell_type": "markdown",
   "metadata": {},
   "source": [
    "#### wind_kr"
   ]
  },
  {
   "cell_type": "code",
   "execution_count": null,
   "metadata": {},
   "outputs": [],
   "source": [
    "plt.figure(figsize=(20, 8))\n",
    "\n",
    "plt.subplot(1, 2, 1)\n",
    "plt.title('DIstribution Plot', fontsize=title_size)\n",
    "sns.distplot(df6_add_data['wind_kr'], fit=norm);\n",
    "\n",
    "plt.subplot(1, 2, 2)\n",
    "plt.title('Probability Plot', fontsize=title_size)\n",
    "stats.probplot(df6_add_data['wind_kr'], plot=plt)\n",
    "\n",
    "plt.show()"
   ]
  },
  {
   "cell_type": "code",
   "execution_count": null,
   "metadata": {},
   "outputs": [],
   "source": [
    "df6_add_data['wind_kr'] = np.log1p(df6_add_data['wind_kr'])"
   ]
  },
  {
   "cell_type": "code",
   "execution_count": null,
   "metadata": {},
   "outputs": [],
   "source": [
    "plt.figure(figsize=(20, 8))\n",
    "\n",
    "plt.subplot(1, 2, 1)\n",
    "plt.title('DIstribution Plot', fontsize=title_size)\n",
    "sns.distplot(df6_add_data['wind_kr'], fit=norm);\n",
    "\n",
    "plt.subplot(1, 2, 2)\n",
    "plt.title('Probability Plot', fontsize=title_size)\n",
    "stats.probplot(df6_add_data['wind_kr'], plot=plt)\n",
    "\n",
    "plt.show()"
   ]
  },
  {
   "cell_type": "markdown",
   "metadata": {},
   "source": [
    "#### temperature_kr"
   ]
  },
  {
   "cell_type": "code",
   "execution_count": null,
   "metadata": {},
   "outputs": [],
   "source": [
    "plt.figure(figsize=(20, 8))\n",
    "\n",
    "plt.subplot(1, 2, 1)\n",
    "plt.title('DIstribution Plot', fontsize=title_size)\n",
    "sns.distplot(df6_add_data['temperature_kr'], fit=norm);\n",
    "\n",
    "plt.subplot(1, 2, 2)\n",
    "plt.title('Probability Plot', fontsize=title_size)\n",
    "stats.probplot(df6_add_data['temperature_kr'], plot=plt)\n",
    "\n",
    "plt.show()"
   ]
  },
  {
   "cell_type": "code",
   "execution_count": null,
   "metadata": {},
   "outputs": [],
   "source": [
    "df6_add_data['temperature_kr'] = np.log1p(df6_add_data['temperature_kr'])"
   ]
  },
  {
   "cell_type": "code",
   "execution_count": null,
   "metadata": {},
   "outputs": [],
   "source": [
    "plt.figure(figsize=(20, 8))\n",
    "\n",
    "plt.subplot(1, 2, 1)\n",
    "plt.title('DIstribution Plot', fontsize=title_size)\n",
    "sns.distplot(df6_add_data['temperature_kr'], fit=norm);\n",
    "\n",
    "plt.subplot(1, 2, 2)\n",
    "plt.title('Probability Plot', fontsize=title_size)\n",
    "stats.probplot(df6_add_data['temperature_kr'], plot=plt)\n",
    "\n",
    "plt.show()"
   ]
  },
  {
   "cell_type": "markdown",
   "metadata": {},
   "source": [
    "#### water_temp_kr"
   ]
  },
  {
   "cell_type": "code",
   "execution_count": null,
   "metadata": {},
   "outputs": [],
   "source": [
    "plt.figure(figsize=(20, 8))\n",
    "\n",
    "plt.subplot(1, 2, 1)\n",
    "plt.title('DIstribution Plot', fontsize=title_size)\n",
    "sns.distplot(df6_add_data['water_temp_kr'], fit=norm);\n",
    "\n",
    "plt.subplot(1, 2, 2)\n",
    "plt.title('Probability Plot', fontsize=title_size)\n",
    "stats.probplot(df6_add_data['water_temp_kr'], plot=plt)\n",
    "\n",
    "plt.show()"
   ]
  },
  {
   "cell_type": "code",
   "execution_count": null,
   "metadata": {},
   "outputs": [],
   "source": [
    "df6_add_data['water_temp_kr'] = np.log1p(df6_add_data['water_temp_kr'])"
   ]
  },
  {
   "cell_type": "code",
   "execution_count": null,
   "metadata": {},
   "outputs": [],
   "source": [
    "plt.figure(figsize=(20, 8))\n",
    "\n",
    "plt.subplot(1, 2, 1)\n",
    "plt.title('DIstribution Plot', fontsize=title_size)\n",
    "sns.distplot(df6_add_data['water_temp_kr'], fit=norm);\n",
    "\n",
    "plt.subplot(1, 2, 2)\n",
    "plt.title('Probability Plot', fontsize=title_size)\n",
    "stats.probplot(df6_add_data['water_temp_kr'], plot=plt)\n",
    "\n",
    "plt.show()"
   ]
  },
  {
   "cell_type": "markdown",
   "metadata": {},
   "source": [
    "#### cpi_total"
   ]
  },
  {
   "cell_type": "code",
   "execution_count": null,
   "metadata": {},
   "outputs": [],
   "source": [
    "plt.figure(figsize=(20, 8))\n",
    "\n",
    "plt.subplot(1, 2, 1)\n",
    "plt.title('DIstribution Plot', fontsize=title_size)\n",
    "sns.distplot(df6_add_data['cpi_total'], fit=norm);\n",
    "\n",
    "plt.subplot(1, 2, 2)\n",
    "plt.title('Probability Plot', fontsize=title_size)\n",
    "stats.probplot(df6_add_data['cpi_total'], plot=plt)\n",
    "\n",
    "plt.show()"
   ]
  },
  {
   "cell_type": "code",
   "execution_count": null,
   "metadata": {},
   "outputs": [],
   "source": [
    "df6_add_data['cpi_total'] = np.log1p(df6_add_data['cpi_total'])"
   ]
  },
  {
   "cell_type": "code",
   "execution_count": null,
   "metadata": {},
   "outputs": [],
   "source": [
    "plt.figure(figsize=(20, 8))\n",
    "\n",
    "plt.subplot(1, 2, 1)\n",
    "plt.title('DIstribution Plot', fontsize=title_size)\n",
    "sns.distplot(df6_add_data['cpi_total'], fit=norm);\n",
    "\n",
    "plt.subplot(1, 2, 2)\n",
    "plt.title('Probability Plot', fontsize=title_size)\n",
    "stats.probplot(df6_add_data['cpi_total'], plot=plt)\n",
    "\n",
    "plt.show()"
   ]
  },
  {
   "cell_type": "markdown",
   "metadata": {},
   "source": [
    "#### cpi_fish"
   ]
  },
  {
   "cell_type": "code",
   "execution_count": null,
   "metadata": {},
   "outputs": [],
   "source": [
    "plt.figure(figsize=(20, 8))\n",
    "\n",
    "plt.subplot(1, 2, 1)\n",
    "plt.title('DIstribution Plot', fontsize=title_size)\n",
    "sns.distplot(df6_add_data['cpi_fish'], fit=norm);\n",
    "\n",
    "plt.subplot(1, 2, 2)\n",
    "plt.title('Probability Plot', fontsize=title_size)\n",
    "stats.probplot(df6_add_data['cpi_fish'], plot=plt)\n",
    "\n",
    "plt.show()"
   ]
  },
  {
   "cell_type": "code",
   "execution_count": null,
   "metadata": {},
   "outputs": [],
   "source": [
    "df6_add_data['cpi_fish'] = np.log1p(df6_add_data['cpi_fish'])"
   ]
  },
  {
   "cell_type": "code",
   "execution_count": null,
   "metadata": {},
   "outputs": [],
   "source": [
    "plt.figure(figsize=(20, 8))\n",
    "\n",
    "plt.subplot(1, 2, 1)\n",
    "plt.title('DIstribution Plot', fontsize=title_size)\n",
    "sns.distplot(df6_add_data['cpi_fish'], fit=norm);\n",
    "\n",
    "plt.subplot(1, 2, 2)\n",
    "plt.title('Probability Plot', fontsize=title_size)\n",
    "stats.probplot(df6_add_data['cpi_fish'], plot=plt)\n",
    "\n",
    "plt.show()"
   ]
  },
  {
   "cell_type": "markdown",
   "metadata": {},
   "source": [
    "## Train"
   ]
  },
  {
   "cell_type": "code",
   "execution_count": null,
   "metadata": {
    "scrolled": false
   },
   "outputs": [],
   "source": [
    "model6 = train_model(df6_add_data.drop(columns=['P_PRICE']), df6_add_data['P_PRICE'])"
   ]
  },
  {
   "cell_type": "code",
   "execution_count": null,
   "metadata": {},
   "outputs": [],
   "source": [
    "t = print_importance(model6, df6_add_data, added_columns)"
   ]
  },
  {
   "cell_type": "markdown",
   "metadata": {},
   "source": [
    "- 순위가 별로 높지 않으며, 모델 성능이 크게 개선되지 않음을 발견할 수 있다\n",
    "- 다만, 몇 없는 numerical feature 이므로 파생 변수를 추가하는 방향으로 고려해볼 수 있을 것이다"
   ]
  },
  {
   "cell_type": "markdown",
   "metadata": {},
   "source": [
    "----"
   ]
  },
  {
   "cell_type": "markdown",
   "metadata": {},
   "source": [
    "# Feature Selection (by Correlation)"
   ]
  },
  {
   "cell_type": "code",
   "execution_count": null,
   "metadata": {},
   "outputs": [],
   "source": [
    "df7_feature_selection = df_train.copy()"
   ]
  },
  {
   "cell_type": "markdown",
   "metadata": {},
   "source": [
    "## Preprocess"
   ]
  },
  {
   "cell_type": "code",
   "execution_count": null,
   "metadata": {},
   "outputs": [],
   "source": [
    "# 파생변수 추가\n",
    "get_cnt(df7_feature_selection, 'CTRY_1', 'ctry1_cnt')  # 제조국 수 컬럼 추가\n",
    "get_cnt(df7_feature_selection, 'CTRY_2', 'ctry2_cnt')  # 수출국 수 컬럼 추가\n",
    "get_cnt(df7_feature_selection, 'P_PURPOSE', 'purpose_cnt')  # 수입용도 수 컬럼 추가\n",
    "get_cnt(df7_feature_selection, 'CATEGORY_1', 'category1_cnt')\n",
    "get_cnt(df7_feature_selection, 'CATEGORY_2', 'category2_cnt')\n",
    "get_cnt(df7_feature_selection, 'P_NAME', 'name_cnt')  # 어종별 수 컬럼 추가\n",
    "df7_feature_selection['is_processed'] = (df7_feature_selection['CTRY_1'] != df7_feature_selection['CTRY_2'])  # 가공 여부 컬럼 추가"
   ]
  },
  {
   "cell_type": "code",
   "execution_count": null,
   "metadata": {},
   "outputs": [],
   "source": [
    "# 파생변수 추가\n",
    "df7_feature_selection['import_cnt'] = 0\n",
    "for name in import_type_list:\n",
    "    df7_feature_selection.loc[df7_feature_selection['P_IMPORT_TYPE'].str.contains(name, regex=False), 'import_cnt'] += 1"
   ]
  },
  {
   "cell_type": "code",
   "execution_count": null,
   "metadata": {},
   "outputs": [],
   "source": [
    "# 이상치 제거\n",
    "df7_feature_selection = df7_feature_selection[df7_feature_selection['P_PRICE'] < 500]"
   ]
  },
  {
   "cell_type": "code",
   "execution_count": null,
   "metadata": {},
   "outputs": [],
   "source": [
    "# 데이터 추가\n",
    "df7_feature_selection = merge_df([df7_feature_selection, df_oil, df_weather_kr, df_cpi])"
   ]
  },
  {
   "cell_type": "code",
   "execution_count": null,
   "metadata": {},
   "outputs": [],
   "source": [
    "# 정규화\n",
    "df7_feature_selection['P_PRICE'] = np.log1p(df7_feature_selection['P_PRICE'])\n",
    "added = added_columns + ['name_cnt', 'import_cnt']\n",
    "for column in added:\n",
    "    df7_feature_selection[column] = np.log1p(df7_feature_selection[column])"
   ]
  },
  {
   "cell_type": "markdown",
   "metadata": {},
   "source": [
    "## Grouping by Correlation\n",
    "- P_PRICE 와 상관관계가 높은 변수 찾기\n",
    "- 서로 상관관계가 높은 변수 찾기"
   ]
  },
  {
   "cell_type": "code",
   "execution_count": null,
   "metadata": {
    "scrolled": false
   },
   "outputs": [],
   "source": [
    "#Using Pearson Correlation\n",
    "plt.figure(figsize=(15,12))\n",
    "cor = df7_feature_selection.corr()\n",
    "sns.heatmap(cor, annot=True, cmap=plt.cm.Reds)\n",
    "plt.show()"
   ]
  },
  {
   "cell_type": "markdown",
   "metadata": {},
   "source": [
    "서로간 상관계수가 큰 변수\n",
    "- ctry1_cnt & ctry2_cnt\n",
    "    - ctry1_cnt 사용 (ctry2_cnt 제거)  \n",
    "- year & oil & cpi_total & cpi_fish\n",
    "    - cpi_total 사용 (cpi_fish 제거)  \n",
    "    - cpi_fish / cpi_total 사용\n",
    "    - oil 삭제\n",
    "- week & temperature_kr & water_temp_kr\n",
    "    - temperature_kr & water_temp_kr 평균 사용\n",
    "    - temperature_kr & water_temp_kr & wind_kr 평균 사용"
   ]
  },
  {
   "cell_type": "code",
   "execution_count": null,
   "metadata": {},
   "outputs": [],
   "source": [
    "# 검증용 변수 생성\n",
    "df7_feature_selection['temp_1'] = (df7_feature_selection['temperature_kr'] + df7_feature_selection['water_temp_kr']) / 2\n",
    "df7_feature_selection['temp_2'] = (df7_feature_selection['temperature_kr']\n",
    "                                   + df7_feature_selection['water_temp_kr']\n",
    "                                   + df7_feature_selection['wind_kr']) / 3\n",
    "df7_feature_selection['cpi'] = df7_feature_selection['cpi_fish'] / df7_feature_selection['cpi_total']"
   ]
  },
  {
   "cell_type": "code",
   "execution_count": null,
   "metadata": {
    "scrolled": true
   },
   "outputs": [],
   "source": [
    "#Using Pearson Correlation\n",
    "plt.figure(figsize=(15,12))\n",
    "cor = df7_feature_selection[['P_PRICE', 'oil', 'wind_kr', 'temperature_kr', 'water_temp_kr', 'cpi_total', 'cpi_fish', 'temp_1', 'temp_2', 'cpi']].corr()\n",
    "sns.heatmap(cor, annot=True, cmap=plt.cm.Reds)\n",
    "plt.show()"
   ]
  },
  {
   "cell_type": "markdown",
   "metadata": {},
   "source": [
    "결론\n",
    "- cpi_total 사용\n",
    "- 기온과 수온의 평균 사용"
   ]
  },
  {
   "cell_type": "code",
   "execution_count": null,
   "metadata": {},
   "outputs": [],
   "source": [
    "df7_feature_selection['temp_kr'] = (df7_feature_selection['temperature_kr'] + df7_feature_selection['water_temp_kr']) / 2"
   ]
  },
  {
   "cell_type": "code",
   "execution_count": null,
   "metadata": {},
   "outputs": [],
   "source": [
    "df7_feature_selection.drop(columns=['ctry2_cnt', 'cpi_fish', 'temperature_kr', 'water_temp_kr', 'oil', 'temp_1', 'temp_2', 'cpi'], axis=1, inplace=True)"
   ]
  },
  {
   "cell_type": "markdown",
   "metadata": {},
   "source": [
    "## One Hot Encoding & Dropping"
   ]
  },
  {
   "cell_type": "code",
   "execution_count": null,
   "metadata": {
    "scrolled": true
   },
   "outputs": [],
   "source": [
    "for name in import_type_list:\n",
    "    df7_feature_selection[name] = 0\n",
    "    df7_feature_selection.loc[df7_feature_selection['P_IMPORT_TYPE'].str.contains(name, regex=False), name] = 1"
   ]
  },
  {
   "cell_type": "code",
   "execution_count": null,
   "metadata": {},
   "outputs": [],
   "source": [
    "# Others\n",
    "one_hot = ['CTRY_1', 'CTRY_2', 'P_PURPOSE', 'CATEGORY_1', 'CATEGORY_2', 'P_NAME']\n",
    "df7_feature_selection = pd.get_dummies(df7_feature_selection, columns=one_hot)"
   ]
  },
  {
   "cell_type": "code",
   "execution_count": null,
   "metadata": {},
   "outputs": [],
   "source": [
    "df7_feature_selection.drop(columns = 'P_IMPORT_TYPE', inplace=True)"
   ]
  },
  {
   "cell_type": "markdown",
   "metadata": {},
   "source": [
    "## Train"
   ]
  },
  {
   "cell_type": "code",
   "execution_count": null,
   "metadata": {},
   "outputs": [],
   "source": [
    "model7 = train_model(df7_feature_selection.drop(columns=['P_PRICE']), df7_feature_selection['P_PRICE'])"
   ]
  },
  {
   "cell_type": "code",
   "execution_count": null,
   "metadata": {},
   "outputs": [],
   "source": [
    "t = print_importance(model7, df7_feature_selection, ['temp_kr'])"
   ]
  },
  {
   "cell_type": "markdown",
   "metadata": {},
   "source": [
    "정확도가 감소한 것을 확인할 수 있다  \n",
    "그러나 다중공선성 문제를 피하기 위해서는 어쩔 수 없다"
   ]
  },
  {
   "cell_type": "markdown",
   "metadata": {},
   "source": [
    "----\n",
    "# Grouping (by Frequency)\n",
    "1% / 5% 이하로 등장하는 카테고리의 경우 동일한 것으로 취급한다"
   ]
  },
  {
   "cell_type": "code",
   "execution_count": null,
   "metadata": {},
   "outputs": [],
   "source": [
    "df8_grouping = df_train.copy()"
   ]
  },
  {
   "cell_type": "markdown",
   "metadata": {},
   "source": [
    "## Preprocess"
   ]
  },
  {
   "cell_type": "code",
   "execution_count": null,
   "metadata": {},
   "outputs": [],
   "source": [
    "# 파생변수 추가\n",
    "get_cnt(df8_grouping, 'CTRY_1', 'ctry1_cnt')  # 제조국 수 컬럼 추가\n",
    "get_cnt(df8_grouping, 'CTRY_2', 'ctry2_cnt')  # 수출국 수 컬럼 추가\n",
    "get_cnt(df8_grouping, 'P_PURPOSE', 'purpose_cnt')  # 수입용도 수 컬럼 추가\n",
    "get_cnt(df8_grouping, 'CATEGORY_1', 'category1_cnt')\n",
    "get_cnt(df8_grouping, 'CATEGORY_2', 'category2_cnt')\n",
    "get_cnt(df8_grouping, 'P_NAME', 'name_cnt')  # 어종별 수 컬럼 추가\n",
    "df8_grouping['is_processed'] = (df8_grouping['CTRY_1'] != df8_grouping['CTRY_2'])  # 가공 여부 컬럼 추가"
   ]
  },
  {
   "cell_type": "code",
   "execution_count": null,
   "metadata": {},
   "outputs": [],
   "source": [
    "# 파생변수 추가\n",
    "df8_grouping['import_cnt'] = 0\n",
    "for name in import_type_list:\n",
    "    df8_grouping.loc[df8_grouping['P_IMPORT_TYPE'].str.contains(name, regex=False), 'import_cnt'] += 1"
   ]
  },
  {
   "cell_type": "code",
   "execution_count": null,
   "metadata": {},
   "outputs": [],
   "source": [
    "# 이상치 제거\n",
    "df8_grouping = df8_grouping[df8_grouping['P_PRICE'] < 500]"
   ]
  },
  {
   "cell_type": "code",
   "execution_count": null,
   "metadata": {},
   "outputs": [],
   "source": [
    "# 데이터 추가\n",
    "df8_grouping = merge_df([df8_grouping, df_oil, df_weather_kr, df_cpi])"
   ]
  },
  {
   "cell_type": "code",
   "execution_count": null,
   "metadata": {},
   "outputs": [],
   "source": [
    "# 정규화\n",
    "df8_grouping['P_PRICE'] = np.log1p(df8_grouping['P_PRICE'])\n",
    "added = added_columns + ['name_cnt', 'import_cnt']\n",
    "for column in added:\n",
    "    df8_grouping[column] = np.log1p(df8_grouping[column])"
   ]
  },
  {
   "cell_type": "markdown",
   "metadata": {},
   "source": [
    "## Grouping"
   ]
  },
  {
   "cell_type": "code",
   "execution_count": null,
   "metadata": {},
   "outputs": [],
   "source": [
    "length = len(df8_grouping)"
   ]
  },
  {
   "cell_type": "code",
   "execution_count": null,
   "metadata": {},
   "outputs": [],
   "source": [
    "percent = (df8_grouping['CTRY_1'].value_counts() / length)\n",
    "ctry1_group = percent[percent <= 0.01].index\n",
    "for ctry1 in ctry1_group:\n",
    "    df8_grouping = df8_grouping.replace(ctry1, '기타')"
   ]
  },
  {
   "cell_type": "code",
   "execution_count": null,
   "metadata": {},
   "outputs": [],
   "source": [
    "percent = (df8_grouping['CTRY_2'].value_counts() / length)\n",
    "ctry2_group = percent[percent <= 0.01].index\n",
    "for ctry2 in ctry2_group:\n",
    "    df8_grouping = df8_grouping.replace(ctry2, '기타')"
   ]
  },
  {
   "cell_type": "code",
   "execution_count": null,
   "metadata": {},
   "outputs": [],
   "source": [
    "percent = (df8_grouping['CATEGORY_1'].value_counts() / length)\n",
    "cat1_group = percent[percent < 0.05].index\n",
    "for cat1 in cat1_group:\n",
    "    df8_grouping = df8_grouping.replace(cat1, '기타')"
   ]
  },
  {
   "cell_type": "code",
   "execution_count": null,
   "metadata": {},
   "outputs": [],
   "source": [
    "percent = (df8_grouping['CATEGORY_2'].value_counts() / length)\n",
    "cat2_group = percent[percent < 0.01].index\n",
    "for cat2 in cat2_group:\n",
    "    df8_grouping = df8_grouping.replace(cat2, '기타')"
   ]
  },
  {
   "cell_type": "code",
   "execution_count": null,
   "metadata": {},
   "outputs": [],
   "source": [
    "percent = (df8_grouping['P_NAME'].value_counts() / length)\n",
    "name_group = percent[percent < 0.01].index\n",
    "for name in name_group:\n",
    "    df8_grouping = df8_grouping.replace(name, '기타')"
   ]
  },
  {
   "cell_type": "markdown",
   "metadata": {},
   "source": [
    "## One Hot Encoding & Dropping"
   ]
  },
  {
   "cell_type": "code",
   "execution_count": null,
   "metadata": {
    "scrolled": true
   },
   "outputs": [],
   "source": [
    "for name in import_type_list:\n",
    "    df8_grouping[name] = 0\n",
    "    df8_grouping.loc[df8_grouping['P_IMPORT_TYPE'].str.contains(name, regex=False), name] = 1"
   ]
  },
  {
   "cell_type": "code",
   "execution_count": null,
   "metadata": {},
   "outputs": [],
   "source": [
    "# Others\n",
    "one_hot = ['CTRY_1', 'CTRY_2', 'P_PURPOSE', 'CATEGORY_1', 'CATEGORY_2', 'P_NAME']\n",
    "df8_grouping = pd.get_dummies(df8_grouping, columns=one_hot)"
   ]
  },
  {
   "cell_type": "code",
   "execution_count": null,
   "metadata": {},
   "outputs": [],
   "source": [
    "df8_grouping.drop(columns = 'P_IMPORT_TYPE', inplace=True)"
   ]
  },
  {
   "cell_type": "markdown",
   "metadata": {},
   "source": [
    "## Train"
   ]
  },
  {
   "cell_type": "code",
   "execution_count": null,
   "metadata": {},
   "outputs": [],
   "source": [
    "model8 = train_model(df8_grouping.drop(columns=['P_PRICE']), df8_grouping['P_PRICE'])"
   ]
  },
  {
   "cell_type": "code",
   "execution_count": null,
   "metadata": {},
   "outputs": [],
   "source": [
    "added_columns = []\n",
    "for column in df8_grouping.columns:\n",
    "    if '기타' in column:\n",
    "        added_columns.append(column)"
   ]
  },
  {
   "cell_type": "code",
   "execution_count": null,
   "metadata": {},
   "outputs": [],
   "source": [
    "t = print_importance(model8, df8_grouping, added_columns)"
   ]
  },
  {
   "cell_type": "markdown",
   "metadata": {},
   "source": [
    "새로운 변수의 순위는 높으나 모델의 정확도는 감소했다"
   ]
  },
  {
   "cell_type": "markdown",
   "metadata": {},
   "source": [
    "----"
   ]
  },
  {
   "cell_type": "markdown",
   "metadata": {},
   "source": [
    "# Final DF"
   ]
  },
  {
   "cell_type": "code",
   "execution_count": null,
   "metadata": {},
   "outputs": [],
   "source": [
    "df_final = df_train.copy()"
   ]
  },
  {
   "cell_type": "markdown",
   "metadata": {},
   "source": [
    "## Preprocess"
   ]
  },
  {
   "cell_type": "code",
   "execution_count": null,
   "metadata": {},
   "outputs": [],
   "source": [
    "# 파생변수 추가\n",
    "get_cnt(df_final, 'CTRY_1', 'ctry1_cnt')  # 제조국 수 컬럼 추가\n",
    "get_cnt(df_final, 'P_PURPOSE', 'purpose_cnt')  # 수입용도 수 컬럼 추가\n",
    "get_cnt(df_final, 'CATEGORY_1', 'category1_cnt')\n",
    "get_cnt(df_final, 'CATEGORY_2', 'category2_cnt')\n",
    "get_cnt(df_final, 'P_NAME', 'name_cnt')  # 어종별 수 컬럼 추가\n",
    "df_final['is_processed'] = (df_final['CTRY_1'] != df_final['CTRY_2'])  # 가공 여부 컬럼 추가"
   ]
  },
  {
   "cell_type": "code",
   "execution_count": null,
   "metadata": {},
   "outputs": [],
   "source": [
    "# 파생변수 추가\n",
    "df_final['import_cnt'] = 0\n",
    "for name in import_type_list:\n",
    "    df_final[name] = 0\n",
    "    df_final.loc[df_final['P_IMPORT_TYPE'].str.contains(name, regex=False), name] = 1    \n",
    "    df_final.loc[df_final['P_IMPORT_TYPE'].str.contains(name, regex=False), 'import_cnt'] += 1"
   ]
  },
  {
   "cell_type": "code",
   "execution_count": null,
   "metadata": {},
   "outputs": [],
   "source": [
    "# 이상치 제거\n",
    "df_final = df_final[df_final['P_PRICE'] < 500]"
   ]
  },
  {
   "cell_type": "code",
   "execution_count": null,
   "metadata": {},
   "outputs": [],
   "source": [
    "# 데이터 추가\n",
    "df_final = merge_df([df_final, df_oil, df_weather_kr, df_cpi])"
   ]
  },
  {
   "cell_type": "code",
   "execution_count": null,
   "metadata": {},
   "outputs": [],
   "source": [
    "# 정규화\n",
    "df_final['P_PRICE'] = np.log1p(df_final['P_PRICE'])\n",
    "added = ['name_cnt', 'import_cnt']\n",
    "for column in added:\n",
    "    df_final[column] = np.log1p(df_final[column])"
   ]
  },
  {
   "cell_type": "code",
   "execution_count": null,
   "metadata": {},
   "outputs": [],
   "source": [
    "# Grouping\n",
    "df_final['temp_kr'] = (df_final['temperature_kr'] + df_final['water_temp_kr']) / 2"
   ]
  },
  {
   "cell_type": "code",
   "execution_count": null,
   "metadata": {},
   "outputs": [],
   "source": [
    "# 전처리 가설 검증 3-2 에서 사용할 Dataframe 생성\n",
    "df_tosave = df_final.copy()"
   ]
  },
  {
   "cell_type": "code",
   "execution_count": null,
   "metadata": {},
   "outputs": [],
   "source": [
    "# One Hot Encoding\n",
    "one_hot = ['CTRY_1', 'CTRY_2', 'P_PURPOSE', 'CATEGORY_1', 'CATEGORY_2', 'P_NAME']\n",
    "df_final = pd.get_dummies(df_final, columns=one_hot)"
   ]
  },
  {
   "cell_type": "code",
   "execution_count": null,
   "metadata": {},
   "outputs": [],
   "source": [
    "# Drop\n",
    "df_final.drop(columns=['cpi_fish', 'temperature_kr', 'water_temp_kr', 'P_IMPORT_TYPE'], axis=1, inplace=True)\n",
    "df_tosave.drop(columns=['cpi_fish', 'temperature_kr', 'water_temp_kr', 'P_IMPORT_TYPE'], axis=1, inplace=True)"
   ]
  },
  {
   "cell_type": "markdown",
   "metadata": {},
   "source": [
    "## Train"
   ]
  },
  {
   "cell_type": "code",
   "execution_count": null,
   "metadata": {},
   "outputs": [],
   "source": [
    "model = train_model(df_final.drop(columns=['P_PRICE']), df_final['P_PRICE'])"
   ]
  },
  {
   "cell_type": "code",
   "execution_count": null,
   "metadata": {},
   "outputs": [],
   "source": [
    "final_fs = print_importance(model, df_final, [])"
   ]
  },
  {
   "cell_type": "markdown",
   "metadata": {},
   "source": [
    "## Save"
   ]
  },
  {
   "cell_type": "code",
   "execution_count": null,
   "metadata": {},
   "outputs": [],
   "source": [
    "df_final.to_csv(os.path.join(root, \"preprocessed_train_1.csv\"), encoding='utf-8', index=False)\n",
    "df_tosave.to_csv(os.path.join(root, \"preprocessed_train_notencoded.csv\"), encoding='utf-8', index=False)"
   ]
  }
 ],
 "metadata": {
  "kernelspec": {
   "display_name": "Python 3",
   "language": "python",
   "name": "python3"
  },
  "language_info": {
   "codemirror_mode": {
    "name": "ipython",
    "version": 3
   },
   "file_extension": ".py",
   "mimetype": "text/x-python",
   "name": "python",
   "nbconvert_exporter": "python",
   "pygments_lexer": "ipython3",
   "version": "3.8.8"
  }
 },
 "nbformat": 4,
 "nbformat_minor": 4
}
