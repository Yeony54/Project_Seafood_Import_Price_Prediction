{
 "cells": [
  {
   "cell_type": "markdown",
   "metadata": {},
   "source": [
    "# Setting"
   ]
  },
  {
   "cell_type": "code",
   "execution_count": 2,
   "metadata": {},
   "outputs": [],
   "source": [
    "# Import Libraries & Functions\n",
    "from utility import *"
   ]
  },
  {
   "cell_type": "code",
   "execution_count": 3,
   "metadata": {},
   "outputs": [],
   "source": [
    "# Turn off warnings\n",
    "warnings.filterwarnings('ignore')\n",
    "%matplotlib inline"
   ]
  },
  {
   "cell_type": "code",
   "execution_count": 4,
   "metadata": {},
   "outputs": [],
   "source": [
    "# Visualization Setting\n",
    "color_palette = 'Set3'\n",
    "title_size = 20\n",
    "sns.set_style(\"whitegrid\")\n",
    "plt.rcParams['font.family'] = 'NanumGothic'"
   ]
  },
  {
   "cell_type": "code",
   "execution_count": 5,
   "metadata": {},
   "outputs": [],
   "source": [
    "# Data directory\n",
    "root = os.path.join(os.getcwd(), 'DATA')"
   ]
  },
  {
   "cell_type": "markdown",
   "metadata": {
    "id": "FWbf_iaL4V23"
   },
   "source": [
    "# Import Data"
   ]
  },
  {
   "cell_type": "code",
   "execution_count": 6,
   "metadata": {
    "id": "BuLLtwVk4V24"
   },
   "outputs": [],
   "source": [
    "df_train2 = pd.read_csv(os.path.join(root, 'preprocessed_train_2.csv'))"
   ]
  },
  {
   "cell_type": "markdown",
   "metadata": {},
   "source": [
    "# Train Models"
   ]
  },
  {
   "cell_type": "code",
   "execution_count": 7,
   "metadata": {},
   "outputs": [],
   "source": [
    "import re\n",
    "df_train2 = df_train2.rename(columns = lambda x:re.sub(',', '', x))"
   ]
  },
  {
   "cell_type": "code",
   "execution_count": 7,
   "metadata": {},
   "outputs": [],
   "source": [
    "models = ['linear', 'ridge', 'lasso', 'elastic', 'decisiontree', 'randomforest', 'gradient', 'lgbm']"
   ]
  },
  {
   "cell_type": "code",
   "execution_count": null,
   "metadata": {},
   "outputs": [],
   "source": [
    "for model in models:\n",
    "    print(model)\n",
    "    model_train(data = df_train2, col='P_PRICE', scaler='None', cv=5, n_iter=10, model=model)\n",
    "    print()"
   ]
  },
  {
   "cell_type": "code",
   "execution_count": 8,
   "metadata": {},
   "outputs": [
    {
     "name": "stdout",
     "output_type": "stream",
     "text": [
      "Best Params: {'learning_rate': 0.01825, 'max_depth': 1034, 'min_samples_split': 4374, 'n_estimators': 784, 'subsample': 0.35}\n",
      "Best Score: 0.2318135861002577\n",
      "Predict RMSE: 0.18550665448879133\n"
     ]
    }
   ],
   "source": [
    "# 가장 RMSE가 낮은 gradient 와 LGBM 모델에 대해서 다시 최적화를 진행한다\n",
    "model_train(data = df_train2, col='P_PRICE', scaler='None', cv=5, n_iter=10, model='gradient')"
   ]
  },
  {
   "cell_type": "code",
   "execution_count": 10,
   "metadata": {},
   "outputs": [
    {
     "name": "stdout",
     "output_type": "stream",
     "text": [
      "Best Params: {'learning_rate': 0.5, 'max_depth': 2, 'min_child_samples': 424, 'min_child_weight': 0.001, 'n_estimators': 3338, 'num_leaves': 2748}\n",
      "Best Score: 0.184578719564617\n",
      "Predict RMSE: 0.13967703879438784\n"
     ]
    }
   ],
   "source": [
    "model_train(data = df_train2, col='P_PRICE', scaler='None', cv=5, n_iter=10, model='lgbm')"
   ]
  }
 ],
 "metadata": {
  "colab": {
   "authorship_tag": "ABX9TyOhTGt4mAdSDBUD/asEPr5e",
   "collapsed_sections": [],
   "mount_file_id": "1FQPkn_JTar4Janh3e6gkzE_FsA2onQRI",
   "name": "4_1.ipynb",
   "provenance": []
  },
  "kernelspec": {
   "display_name": "Python 3",
   "language": "python",
   "name": "python3"
  },
  "language_info": {
   "codemirror_mode": {
    "name": "ipython",
    "version": 3
   },
   "file_extension": ".py",
   "mimetype": "text/x-python",
   "name": "python",
   "nbconvert_exporter": "python",
   "pygments_lexer": "ipython3",
   "version": "3.8.8"
  }
 },
 "nbformat": 4,
 "nbformat_minor": 1
}
