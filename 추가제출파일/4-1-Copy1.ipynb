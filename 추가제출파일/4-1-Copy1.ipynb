{
 "cells": [
  {
   "cell_type": "markdown",
   "metadata": {},
   "source": [
    "# Setting"
   ]
  },
  {
   "cell_type": "code",
   "execution_count": 1,
   "metadata": {},
   "outputs": [],
   "source": [
    "# Import Libraries & Functions\n",
    "from utility import *"
   ]
  },
  {
   "cell_type": "code",
   "execution_count": 2,
   "metadata": {},
   "outputs": [],
   "source": [
    "# Turn off warnings\n",
    "warnings.filterwarnings('ignore')\n",
    "%matplotlib inline"
   ]
  },
  {
   "cell_type": "code",
   "execution_count": 3,
   "metadata": {},
   "outputs": [],
   "source": [
    "# Visualization Setting\n",
    "color_palette = 'Set3'\n",
    "title_size = 20\n",
    "sns.set_style(\"whitegrid\")\n",
    "plt.rcParams['font.family'] = 'NanumGothic'"
   ]
  },
  {
   "cell_type": "code",
   "execution_count": 4,
   "metadata": {},
   "outputs": [],
   "source": [
    "# Data directory\n",
    "root = os.path.join(os.getcwd(), 'DATA')"
   ]
  },
  {
   "cell_type": "markdown",
   "metadata": {
    "id": "FWbf_iaL4V23"
   },
   "source": [
    "# Import Data"
   ]
  },
  {
   "cell_type": "code",
   "execution_count": 5,
   "metadata": {
    "id": "BuLLtwVk4V24"
   },
   "outputs": [],
   "source": [
    "df_train = pd.read_csv(os.path.join(root, 'preprocessed_train_2.csv'))"
   ]
  },
  {
   "cell_type": "markdown",
   "metadata": {},
   "source": [
    "# Train Models"
   ]
  },
  {
   "cell_type": "code",
   "execution_count": 6,
   "metadata": {
    "colab": {
     "base_uri": "https://localhost:8080/"
    },
    "executionInfo": {
     "elapsed": 21122,
     "status": "ok",
     "timestamp": 1631551150740,
     "user": {
      "displayName": "Jaewoo Choi",
      "photoUrl": "https://lh3.googleusercontent.com/a-/AOh14GgocACHs1NzyfJtDmltNZlRNmSS66E6ue7g-ZJE=s64",
      "userId": "05968598841946004036"
     },
     "user_tz": -540
    },
    "id": "KI48-5QoG7jM",
    "outputId": "fbb899ca-1293-43af-e7e9-55e067d1e04c"
   },
   "outputs": [
    {
     "name": "stdout",
     "output_type": "stream",
     "text": [
      "RMSE : 0.2211\n"
     ]
    }
   ],
   "source": [
    "model_train(data=df_train, col='P_PRICE',scaler='None',model='linear')"
   ]
  },
  {
   "cell_type": "code",
   "execution_count": 7,
   "metadata": {
    "colab": {
     "base_uri": "https://localhost:8080/"
    },
    "executionInfo": {
     "elapsed": 375546,
     "status": "ok",
     "timestamp": 1631551570776,
     "user": {
      "displayName": "Jaewoo Choi",
      "photoUrl": "https://lh3.googleusercontent.com/a-/AOh14GgocACHs1NzyfJtDmltNZlRNmSS66E6ue7g-ZJE=s64",
      "userId": "05968598841946004036"
     },
     "user_tz": -540
    },
    "id": "FvKasfffcEJ6",
    "outputId": "ce367712-0091-493a-c4d8-b6efb4c46f2b"
   },
   "outputs": [
    {
     "name": "stdout",
     "output_type": "stream",
     "text": [
      "Best Params: {'normalize': True, 'fit_intercept': True, 'alpha': 0.003}\n",
      "Best Score: 0.20678670102216987\n",
      "Predict RMSE: 0.21068516648983607\n"
     ]
    }
   ],
   "source": [
    "model_train(data=df_train, col='P_PRICE',scaler='None', model='ridge')"
   ]
  },
  {
   "cell_type": "code",
   "execution_count": 8,
   "metadata": {
    "colab": {
     "base_uri": "https://localhost:8080/"
    },
    "executionInfo": {
     "elapsed": 3323211,
     "status": "ok",
     "timestamp": 1631554893983,
     "user": {
      "displayName": "Jaewoo Choi",
      "photoUrl": "https://lh3.googleusercontent.com/a-/AOh14GgocACHs1NzyfJtDmltNZlRNmSS66E6ue7g-ZJE=s64",
      "userId": "05968598841946004036"
     },
     "user_tz": -540
    },
    "id": "YdxjcoFBcD-O",
    "outputId": "e727171d-44c3-4af8-95cf-0f60a5d6f11f"
   },
   "outputs": [
    {
     "name": "stdout",
     "output_type": "stream",
     "text": [
      "Best Params: {'normalize': False, 'fit_intercept': True, 'alpha': 0.0001}\n",
      "Best Score: 0.2257657268440685\n",
      "Predict RMSE: 0.20989440318859343\n"
     ]
    }
   ],
   "source": [
    "model_train(data=df_train, col='P_PRICE',scaler='None', model='lasso')"
   ]
  },
  {
   "cell_type": "code",
   "execution_count": 9,
   "metadata": {
    "colab": {
     "base_uri": "https://localhost:8080/"
    },
    "executionInfo": {
     "elapsed": 894236,
     "status": "ok",
     "timestamp": 1631555788215,
     "user": {
      "displayName": "Jaewoo Choi",
      "photoUrl": "https://lh3.googleusercontent.com/a-/AOh14GgocACHs1NzyfJtDmltNZlRNmSS66E6ue7g-ZJE=s64",
      "userId": "05968598841946004036"
     },
     "user_tz": -540
    },
    "id": "XTM-4XogcDqS",
    "outputId": "da389eb5-c98b-4b11-f860-1c28b6a5aa80"
   },
   "outputs": [
    {
     "name": "stdout",
     "output_type": "stream",
     "text": [
      "Best Params: {'l1_ratio': 0.0001, 'alpha': 0.01}\n",
      "Best Score: 0.30630626386188103\n",
      "Predict RMSE: 0.29073664919729025\n"
     ]
    }
   ],
   "source": [
    "model_train(data=df_train, col='P_PRICE',scaler='None', model='elastic')"
   ]
  },
  {
   "cell_type": "code",
   "execution_count": 10,
   "metadata": {
    "id": "8cW_8lXtcBIu"
   },
   "outputs": [
    {
     "name": "stdout",
     "output_type": "stream",
     "text": [
      "Best Params: {'max_depth': 4969, 'max_leaf_nodes': 2060, 'min_samples_leaf': 308, 'min_samples_split': 1153, 'n_estimators': 276}\n",
      "Best Score: 0.41526811118471735\n",
      "Predict RMSE: 0.3764510457216033\n"
     ]
    }
   ],
   "source": [
    "model_train(data=df_train, col='P_PRICE',scaler='None', model='randomforest')"
   ]
  },
  {
   "cell_type": "code",
   "execution_count": 11,
   "metadata": {
    "id": "132IUyMtX8Fh"
   },
   "outputs": [
    {
     "name": "stdout",
     "output_type": "stream",
     "text": [
      "Best Params: {'learning_rate': 0.04, 'max_depth': 4846, 'min_samples_split': 2188, 'n_estimators': 628, 'subsample': 1}\n",
      "Best Score: 0.1606470464320005\n",
      "Predict RMSE: 0.10570564874109853\n"
     ]
    }
   ],
   "source": [
    "model_train(data=df_train, col='P_PRICE',scaler='None', model='gradient')"
   ]
  },
  {
   "cell_type": "code",
   "execution_count": null,
   "metadata": {
    "id": "NmJnQaWlcNY2"
   },
   "outputs": [],
   "source": [
    "model_train(data=df_train, col='P_PRICE',scaler='None', model='xgb')"
   ]
  },
  {
   "cell_type": "code",
   "execution_count": null,
   "metadata": {
    "id": "xJslDl0dcNV7"
   },
   "outputs": [],
   "source": [
    "model_train(data=df_train, col='P_PRICE',scaler='None', model='lgbm')"
   ]
  },
  {
   "cell_type": "code",
   "execution_count": null,
   "metadata": {},
   "outputs": [],
   "source": []
  }
 ],
 "metadata": {
  "colab": {
   "authorship_tag": "ABX9TyOhTGt4mAdSDBUD/asEPr5e",
   "collapsed_sections": [],
   "mount_file_id": "1FQPkn_JTar4Janh3e6gkzE_FsA2onQRI",
   "name": "4_1.ipynb",
   "provenance": []
  },
  "kernelspec": {
   "display_name": "Python 3",
   "language": "python",
   "name": "python3"
  },
  "language_info": {
   "codemirror_mode": {
    "name": "ipython",
    "version": 3
   },
   "file_extension": ".py",
   "mimetype": "text/x-python",
   "name": "python",
   "nbconvert_exporter": "python",
   "pygments_lexer": "ipython3",
   "version": "3.8.8"
  }
 },
 "nbformat": 4,
 "nbformat_minor": 1
}
