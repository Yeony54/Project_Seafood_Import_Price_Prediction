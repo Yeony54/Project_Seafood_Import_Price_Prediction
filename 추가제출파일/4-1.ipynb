{
 "cells": [
  {
   "cell_type": "code",
   "execution_count": null,
   "metadata": {
    "id": "ZYt3TWW5Iq1K"
   },
   "outputs": [],
   "source": [
    "from utility import *"
   ]
  },
  {
   "cell_type": "code",
   "execution_count": null,
   "metadata": {
    "id": "yw4bHLRzaAxa"
   },
   "outputs": [],
   "source": [
    "model = pd.read_csv('/content/drive/MyDrive/BigContest/preprocessed_train_1.csv')"
   ]
  },
  {
   "cell_type": "code",
   "execution_count": null,
   "metadata": {
    "colab": {
     "base_uri": "https://localhost:8080/"
    },
    "executionInfo": {
     "elapsed": 21122,
     "status": "ok",
     "timestamp": 1631551150740,
     "user": {
      "displayName": "Jaewoo Choi",
      "photoUrl": "https://lh3.googleusercontent.com/a-/AOh14GgocACHs1NzyfJtDmltNZlRNmSS66E6ue7g-ZJE=s64",
      "userId": "05968598841946004036"
     },
     "user_tz": -540
    },
    "id": "KI48-5QoG7jM",
    "outputId": "fbb899ca-1293-43af-e7e9-55e067d1e04c"
   },
   "outputs": [
    {
     "name": "stdout",
     "output_type": "stream",
     "text": [
      "RMSE : 50185.9842\n"
     ]
    }
   ],
   "source": [
    "model_train(data=model, col='P_PRICE',scaler='None',model='linear')"
   ]
  },
  {
   "cell_type": "code",
   "execution_count": null,
   "metadata": {
    "colab": {
     "base_uri": "https://localhost:8080/"
    },
    "executionInfo": {
     "elapsed": 375546,
     "status": "ok",
     "timestamp": 1631551570776,
     "user": {
      "displayName": "Jaewoo Choi",
      "photoUrl": "https://lh3.googleusercontent.com/a-/AOh14GgocACHs1NzyfJtDmltNZlRNmSS66E6ue7g-ZJE=s64",
      "userId": "05968598841946004036"
     },
     "user_tz": -540
    },
    "id": "FvKasfffcEJ6",
    "outputId": "ce367712-0091-493a-c4d8-b6efb4c46f2b"
   },
   "outputs": [
    {
     "name": "stdout",
     "output_type": "stream",
     "text": [
      "Best Params: {'normalize': False, 'fit_intercept': True, 'alpha': 0.351}\n",
      "Best Score: 0.26918210640956514\n",
      "Predict RMSE: 0.258639410270955\n"
     ]
    }
   ],
   "source": [
    "model_train(data=model, col='P_PRICE',scaler='None', model='ridge')"
   ]
  },
  {
   "cell_type": "code",
   "execution_count": null,
   "metadata": {
    "colab": {
     "base_uri": "https://localhost:8080/"
    },
    "executionInfo": {
     "elapsed": 3323211,
     "status": "ok",
     "timestamp": 1631554893983,
     "user": {
      "displayName": "Jaewoo Choi",
      "photoUrl": "https://lh3.googleusercontent.com/a-/AOh14GgocACHs1NzyfJtDmltNZlRNmSS66E6ue7g-ZJE=s64",
      "userId": "05968598841946004036"
     },
     "user_tz": -540
    },
    "id": "YdxjcoFBcD-O",
    "outputId": "e727171d-44c3-4af8-95cf-0f60a5d6f11f"
   },
   "outputs": [
    {
     "name": "stderr",
     "output_type": "stream",
     "text": [
      "/usr/local/lib/python3.7/dist-packages/joblib/externals/loky/process_executor.py:691: UserWarning: A worker stopped while some jobs were given to the executor. This can be caused by a too short worker timeout or by a memory leak.\n",
      "  \"timeout or by a memory leak.\", UserWarning\n",
      "/usr/local/lib/python3.7/dist-packages/sklearn/linear_model/_coordinate_descent.py:476: ConvergenceWarning: Objective did not converge. You might want to increase the number of iterations. Duality gap: 2273.5817591913956, tolerance: 3.353069424979794\n",
      "  positive)\n"
     ]
    },
    {
     "name": "stdout",
     "output_type": "stream",
     "text": [
      "Best Params: {'normalize': False, 'fit_intercept': True, 'alpha': 0.0001}\n",
      "Best Score: 0.2853574591109669\n",
      "Predict RMSE: 0.26463873476552446\n"
     ]
    }
   ],
   "source": [
    "model_train(data=model, col='P_PRICE',scaler='None', model='lasso')"
   ]
  },
  {
   "cell_type": "code",
   "execution_count": null,
   "metadata": {
    "colab": {
     "base_uri": "https://localhost:8080/"
    },
    "executionInfo": {
     "elapsed": 894236,
     "status": "ok",
     "timestamp": 1631555788215,
     "user": {
      "displayName": "Jaewoo Choi",
      "photoUrl": "https://lh3.googleusercontent.com/a-/AOh14GgocACHs1NzyfJtDmltNZlRNmSS66E6ue7g-ZJE=s64",
      "userId": "05968598841946004036"
     },
     "user_tz": -540
    },
    "id": "XTM-4XogcDqS",
    "outputId": "da389eb5-c98b-4b11-f860-1c28b6a5aa80"
   },
   "outputs": [
    {
     "name": "stdout",
     "output_type": "stream",
     "text": [
      "Best Params: {'l1_ratio': 0.0001, 'alpha': 0.01}\n",
      "Best Score: 0.3827083107857055\n",
      "Predict RMSE: 0.36666481739982243\n"
     ]
    }
   ],
   "source": [
    "model_train(data=model, col='P_PRICE',scaler='None', model='elastic')"
   ]
  },
  {
   "cell_type": "code",
   "execution_count": null,
   "metadata": {
    "id": "8cW_8lXtcBIu"
   },
   "outputs": [],
   "source": [
    "model_train(data=model, col='P_PRICE',scaler='None', model='randomforest')"
   ]
  },
  {
   "cell_type": "code",
   "execution_count": null,
   "metadata": {
    "id": "132IUyMtX8Fh"
   },
   "outputs": [],
   "source": [
    "model_train(data=model, col='P_PRICE',scaler='None', model='gradinet')"
   ]
  },
  {
   "cell_type": "code",
   "execution_count": null,
   "metadata": {
    "id": "NmJnQaWlcNY2"
   },
   "outputs": [],
   "source": [
    "model_train(data=model, col='P_PRICE',scaler='None', model='xgb')"
   ]
  },
  {
   "cell_type": "code",
   "execution_count": null,
   "metadata": {
    "id": "xJslDl0dcNV7"
   },
   "outputs": [],
   "source": [
    "model_train(data=model, col='P_PRICE',scaler='None', model='lgbm')"
   ]
  }
 ],
 "metadata": {
  "colab": {
   "authorship_tag": "ABX9TyOhTGt4mAdSDBUD/asEPr5e",
   "collapsed_sections": [],
   "mount_file_id": "1FQPkn_JTar4Janh3e6gkzE_FsA2onQRI",
   "name": "4_1.ipynb",
   "provenance": []
  },
  "kernelspec": {
   "display_name": "Python 3",
   "language": "python",
   "name": "python3"
  },
  "language_info": {
   "codemirror_mode": {
    "name": "ipython",
    "version": 3
   },
   "file_extension": ".py",
   "mimetype": "text/x-python",
   "name": "python",
   "nbconvert_exporter": "python",
   "pygments_lexer": "ipython3",
   "version": "3.8.8"
  }
 },
 "nbformat": 4,
 "nbformat_minor": 1
}
