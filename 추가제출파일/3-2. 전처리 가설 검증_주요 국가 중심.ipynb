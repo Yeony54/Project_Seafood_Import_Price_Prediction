{
 "cells": [
  {
   "cell_type": "markdown",
   "metadata": {
    "id": "OKauc15E4V2z"
   },
   "source": [
    "# 전처리 가설 검증\n",
    "- df_train + 추가데이터 전부 사용  \n",
    "- 5개 나라에 대해서만 진행('칠레', '중국', '노르웨이', '태국', '베트남')\n",
    "- 주요 수출국별 주요 어종 모델 3개 생성 (오징어,연어,흰다리새우)"
   ]
  },
  {
   "cell_type": "markdown",
   "metadata": {},
   "source": [
    "# Setting"
   ]
  },
  {
   "cell_type": "code",
   "execution_count": 10,
   "metadata": {},
   "outputs": [],
   "source": [
    "# Import Libraries & Functions\n",
    "from utility import *"
   ]
  },
  {
   "cell_type": "code",
   "execution_count": 11,
   "metadata": {},
   "outputs": [],
   "source": [
    "# Turn off warnings\n",
    "warnings.filterwarnings('ignore')\n",
    "%matplotlib inline"
   ]
  },
  {
   "cell_type": "code",
   "execution_count": 12,
   "metadata": {},
   "outputs": [],
   "source": [
    "# Visualization Setting\n",
    "color_palette = 'Set3'\n",
    "title_size = 20\n",
    "sns.set_style(\"whitegrid\")\n",
    "plt.rcParams['font.family'] = 'NanumGothic'"
   ]
  },
  {
   "cell_type": "code",
   "execution_count": 13,
   "metadata": {},
   "outputs": [],
   "source": [
    "# Data directory\n",
    "root = os.path.join(os.getcwd(), 'DATA')"
   ]
  },
  {
   "cell_type": "code",
   "execution_count": 14,
   "metadata": {},
   "outputs": [],
   "source": [
    "# Merging Dataframes\n",
    "from functools import reduce\n",
    "\n",
    "def merge_df(df_list):\n",
    "    return reduce(lambda  left,right: pd.merge(left,right, on=['year', 'week'], how='left'), df_list)"
   ]
  },
  {
   "cell_type": "markdown",
   "metadata": {
    "id": "FWbf_iaL4V23"
   },
   "source": [
    "# Import Data"
   ]
  },
  {
   "cell_type": "code",
   "execution_count": 15,
   "metadata": {
    "id": "BuLLtwVk4V24"
   },
   "outputs": [],
   "source": [
    "df_train = pd.read_csv(os.path.join(root, 'preprocessed_train_notencoded.csv'))\n",
    "df_weather_code = pd.read_csv(os.path.join(root, 'raw_weather_code.csv'), header=0, index_col=0)\n",
    "weather_list = [pd.read_csv(os.path.join(root, 'raw_weather_20151228_20161227.csv'), encoding='cp949') , \n",
    "                pd.read_csv(os.path.join(root, 'raw_weather_20161228_20171227.csv'), encoding='euc-kr') , \n",
    "                pd.read_csv(os.path.join(root, 'raw_weather_20171228_20181227.csv'), encoding='euc-kr') , \n",
    "                pd.read_csv(os.path.join(root, 'raw_weather_20181228_20191227.csv'), encoding='cp949') , \n",
    "                pd.read_csv(os.path.join(root, 'raw_weather_20191228_20201227.csv'), encoding='euc-kr') , \n",
    "                pd.read_csv(os.path.join(root, 'raw_weather_20201228_20210818.csv'), encoding='euc-kr')]\n",
    "df_exchange = pd.read_csv(os.path.join(root, 'preprocessed_exchange.csv'))"
   ]
  },
  {
   "cell_type": "markdown",
   "metadata": {
    "id": "NwXMWpUu4V25"
   },
   "source": [
    "- 앞선 가설 검증에서 제공데이터 및 1차 추가 데이터에 대한 최적화가 완료되었기에 해당 data를 가져온다\n",
    "- 제조국 날씨의 경우 결측치 처리 과정이 필요하기 때문에 raw data를 가져온다\n",
    "- 수출국 환율의 경우 raw data를 가져온다"
   ]
  },
  {
   "cell_type": "markdown",
   "metadata": {
    "id": "NE7jhfEwO0uJ"
   },
   "source": [
    "----"
   ]
  },
  {
   "cell_type": "markdown",
   "metadata": {
    "id": "1SomvgUXO0uK"
   },
   "source": [
    "# Basic Dataframe\n",
    "df_train\n",
    "- 주요 국가 추출"
   ]
  },
  {
   "cell_type": "markdown",
   "metadata": {
    "id": "zwMVCP0RMMqf"
   },
   "source": [
    "### Dropping Data\n",
    "날짜 데이터 및 환율 데이터는 특정 국가에 대해서만 수집할 수 있었다  \n",
    "따라서 제조국이 '칠레', '중국', '노르웨이', '태국', '베트남'인 경우,  \n",
    "그리고 수출국이 '칠레', '중국', '노르웨이', '태국', '베트남', '페루'인 경우만 다룬다"
   ]
  },
  {
   "cell_type": "code",
   "execution_count": 16,
   "metadata": {
    "id": "ZFZ0Z8xoO0uK"
   },
   "outputs": [],
   "source": [
    "df_train = df_train[(\n",
    "                    # 제조국\n",
    "                    (df_train['CTRY_1'] == \"칠레\") |\n",
    "                    (df_train['CTRY_1'] == \"중국\") |\n",
    "                    (df_train['CTRY_1'] == \"노르웨이\") |\n",
    "                    (df_train['CTRY_1'] == \"태국\") | \n",
    "                    (df_train['CTRY_1'] == \"베트남\")\n",
    "                    ) & (\n",
    "                    # 수출국\n",
    "                    (df_train['CTRY_2'] == \"칠레\") |\n",
    "                    (df_train['CTRY_2'] == \"중국\") | \n",
    "                    (df_train['CTRY_2'] == \"노르웨이\") |\n",
    "                    (df_train['CTRY_2'] == \"태국\") | \n",
    "                    (df_train['CTRY_2'] == \"베트남\") |\n",
    "                    (df_train['CTRY_2'] == \"페루\")\n",
    "                    )]"
   ]
  },
  {
   "cell_type": "markdown",
   "metadata": {
    "id": "0V-uAcGjO0uL"
   },
   "source": [
    "----"
   ]
  },
  {
   "cell_type": "markdown",
   "metadata": {
    "id": "Cyi_zKLOO0uM"
   },
   "source": [
    "# Baseline Dataframe\n",
    "df_train\n",
    "- one hot encoding"
   ]
  },
  {
   "cell_type": "code",
   "execution_count": 17,
   "metadata": {
    "id": "M90z6BqmO0uM"
   },
   "outputs": [],
   "source": [
    "df0_base = df_train.copy()"
   ]
  },
  {
   "cell_type": "markdown",
   "metadata": {
    "id": "wsHDJ6GMO0uM"
   },
   "source": [
    "### One hot encoding"
   ]
  },
  {
   "cell_type": "code",
   "execution_count": 18,
   "metadata": {
    "id": "mYsCq7-x_Jgb"
   },
   "outputs": [],
   "source": [
    "# Others\n",
    "one_hot = ['CTRY_1', 'CTRY_2', 'P_PURPOSE', 'P_NAME', 'CATEGORY_1', 'CATEGORY_2']\n",
    "df0_base = pd.get_dummies(df0_base, columns=one_hot)"
   ]
  },
  {
   "cell_type": "markdown",
   "metadata": {
    "id": "HsRWpnSKFS4k"
   },
   "source": [
    "## Train"
   ]
  },
  {
   "cell_type": "code",
   "execution_count": 19,
   "metadata": {
    "colab": {
     "base_uri": "https://localhost:8080/",
     "height": 604
    },
    "id": "E0kpuQ1vO0uN",
    "outputId": "2c4848fe-1a9e-49df-f970-7a8e1ba367e5"
   },
   "outputs": [
    {
     "name": "stdout",
     "output_type": "stream",
     "text": [
      "Model Training Complete!\n"
     ]
    },
    {
     "data": {
      "image/png": "[encoded data removed]",
      "text/plain": [
       "<Figure size 720x576 with 1 Axes>"
      ]
     },
     "metadata": {},
     "output_type": "display_data"
    },
    {
     "name": "stdout",
     "output_type": "stream",
     "text": [
      ">> RMSE train = 0.20178034158408448\n",
      ">> RMSE validation = 0.2153463920345021\n",
      "-------------------------------------------------\n"
     ]
    }
   ],
   "source": [
    "model0, plot0 = train_model(df0_base.drop(columns=['P_PRICE']), df0_base['P_PRICE'])"
   ]
  },
  {
   "cell_type": "code",
   "execution_count": 20,
   "metadata": {},
   "outputs": [],
   "source": [
    "save_img(plot0, \"3-2.0 model0\")"
   ]
  },
  {
   "cell_type": "markdown",
   "metadata": {
    "id": "sUmEs_oif-u0"
   },
   "source": [
    "----\n",
    "# Adding Weather Data\n",
    "- df1_with_wf : 해안가여부 고려 없이 날씨 평균 데이터 추가\n",
    "- df2_without_wf : 해안가인 지점 날씨 평균 데이터 추가"
   ]
  },
  {
   "cell_type": "code",
   "execution_count": 21,
   "metadata": {
    "id": "rrbf-8vQO0uO"
   },
   "outputs": [],
   "source": [
    "df1_with_wf = df_train.copy()\n",
    "df2_without_wf = df_train.copy()"
   ]
  },
  {
   "cell_type": "markdown",
   "metadata": {
    "id": "8M2cvvz67TKp"
   },
   "source": [
    "## Preprocess\n",
    "- 이상치 제거 : 강수량과 풍속이 음수인 경우 제거\n",
    "- '지점'에 따른 나라명 컬럼(CTRY_1)과 해안가여부(is_waterfront) 추가\n",
    "- 각 나라, 일자 별로 평균 강수량, 풍속, 기온 계산"
   ]
  },
  {
   "cell_type": "code",
   "execution_count": 22,
   "metadata": {
    "id": "L3SeGp1A-j72"
   },
   "outputs": [],
   "source": [
    "# 지점에 따라 나라명 추가\n",
    "def set_country(row):\n",
    "    data = df_weather_code[df_weather_code['지점'] == row['지점']]\n",
    "    if data.empty:\n",
    "        return \"\"\n",
    "    return data.iloc[0]['국가명']\n",
    "\n",
    "\n",
    "def set_waterfront(row):\n",
    "    data = df_weather_code[df_weather_code['지점'] == row['지점']]\n",
    "    if data.empty or data.iloc[0]['해안가여부'] != 1:\n",
    "        return False\n",
    "    return True\n",
    "    \n",
    "\n",
    "def preprocess_weather(df, drop_waterfront):\n",
    "    df = df[(df['강수량'] >= 0) & (df['풍속'] >= 0)] # 이상치/결측치 제거\n",
    "    set_week(df, '일시')  # 날짜 정보 처리\n",
    "    \n",
    "    # 1차 평균\n",
    "    columns = ['year', 'week', '지점']\n",
    "    df['rain'] = df[columns + ['강수량']].groupby(columns).transform('mean')\n",
    "    df['wind'] = df[columns + ['풍속']].groupby(columns).transform('mean')\n",
    "    df['temperature'] = df[columns + ['기온']].groupby(columns).transform('mean')\n",
    "    \n",
    "    # 나라명 추가\n",
    "    df['CTRY_1'] = \"\"\n",
    "    for i, row in df.iterrows():\n",
    "        df.at[i, 'CTRY_1'] = set_country(row)\n",
    "    \n",
    "    # 해안가 여부 추가\n",
    "    df['is_waterfront'] = False\n",
    "    for i, row in df.iterrows():\n",
    "        df.at[i, 'is_waterfront'] = set_waterfront(row)\n",
    "     \n",
    "    if drop_waterfront:\n",
    "        df = df[df['is_waterfront']]  # 해안가가 아닌 데이터 제외\n",
    "    \n",
    "    # 2차 평균\n",
    "    columns = ['year', 'week', 'CTRY_1']\n",
    "    df['rain'] = df[columns + ['강수량']].groupby(columns).transform('mean')\n",
    "    df['wind'] = df[columns + ['풍속']].groupby(columns).transform('mean')\n",
    "    df['temperature'] = df[columns + ['기온']].groupby(columns).transform('mean')\n",
    "\n",
    "    # 컬럼/행 정리\n",
    "    df.drop(columns=['지점명', '지점', '강수량', '풍속', '기온', 'is_waterfront'], inplace=True)\n",
    "    df.drop_duplicates(inplace=True)\n",
    "    df.reset_index(drop=True, inplace=True)\n",
    "    \n",
    "    return df"
   ]
  },
  {
   "cell_type": "code",
   "execution_count": null,
   "metadata": {
    "id": "WxLOBtPv7TKq",
    "scrolled": false
   },
   "outputs": [],
   "source": [
    "weather_with_wf = []\n",
    "weather_without_wf = []\n",
    "for i in range(len(weather_list)):\n",
    "    weather_with_wf.append(preprocess_weather(weather_list[i], False))\n",
    "    weather_without_wf.append(preprocess_weather(weather_list[i], True))"
   ]
  },
  {
   "cell_type": "code",
   "execution_count": null,
   "metadata": {
    "id": "SgY8-RqhDcx6"
   },
   "outputs": [],
   "source": [
    "df_weather_with_wf = pd.concat(weather_with_wf)\n",
    "df_weather_without_wf = pd.concat(weather_without_wf)"
   ]
  },
  {
   "cell_type": "markdown",
   "metadata": {
    "id": "iXUr44A3-j77"
   },
   "source": [
    "### Check"
   ]
  },
  {
   "cell_type": "code",
   "execution_count": null,
   "metadata": {
    "colab": {
     "base_uri": "https://localhost:8080/"
    },
    "id": "j6dGZ7AJ-j8I",
    "outputId": "8772ddae-e2f3-45d5-fc3f-72b0651fb024"
   },
   "outputs": [],
   "source": [
    "print(\"=================해안가여부 고려X=====================\")\n",
    "for country in [\"칠레\", \"중국\", \"노르웨이\", \"태국\", \"베트남\"]:\n",
    "    print(country, \"총\", len(df_weather_with_wf[df_weather_with_wf['CTRY_1'] == country]), \"개\")\n",
    "    check_week(df_weather_with_wf[df_weather_with_wf['CTRY_1'] == country])\n",
    "    print()\n",
    "    \n",
    "print(\"=================해안가여부 고려 O=====================\")\n",
    "for country in [\"칠레\", \"중국\", \"노르웨이\", \"태국\", \"베트남\"]:\n",
    "    print(country, \"총\", len(df_weather_without_wf[df_weather_without_wf['CTRY_1'] == country]), \"개\")\n",
    "    check_week(df_weather_without_wf[df_weather_without_wf['CTRY_1'] == country])\n",
    "    print()"
   ]
  },
  {
   "cell_type": "markdown",
   "metadata": {
    "id": "nc5kcuRK-j8K"
   },
   "source": [
    "### Filling Missing Values\n",
    "- df_weather_with_wf : 태국, 베트남, 칠레에 결측치 1개씩\n",
    "- df_weather_without_wf : 총 5개 결측치\n",
    "- 결측치 > 전/차주 데이터 평균으로 채워넣기\n",
    "- 결측치 많은 페루 데이터는 삭제"
   ]
  },
  {
   "cell_type": "code",
   "execution_count": null,
   "metadata": {
    "id": "_l7A9A8TsW83"
   },
   "outputs": [],
   "source": [
    "def get_avg(df, year, week, country, value):\n",
    "    return (df[(df['year'] == year) &\n",
    "               (df['week'] == week + 1) &\n",
    "               (df['CTRY_1'] == country)].iloc[0][value] \n",
    "          + df[(df['year'] == year) &\n",
    "               (df['week'] == week - 1) &\n",
    "               (df['CTRY_1'] == country)].iloc[0][value]) / 2"
   ]
  },
  {
   "cell_type": "code",
   "execution_count": null,
   "metadata": {
    "colab": {
     "base_uri": "https://localhost:8080/"
    },
    "id": "Aj4zQYt6-j8N",
    "outputId": "eebf8860-5713-4033-fe8c-ee7b2f069c3c"
   },
   "outputs": [],
   "source": [
    "df_weather_with_wf = df_weather_with_wf.append({'year': 2016,\n",
    "                                'week': 11,\n",
    "                                'CTRY_1': '태국',\n",
    "                                'rain': get_avg(df_weather_with_wf, 2016, 11, '태국', 'rain'),\n",
    "                                'wind': get_avg(df_weather_with_wf, 2016, 11, '태국', 'wind'),\n",
    "                                'temperature': get_avg(df_weather_with_wf, 2016, 11, '태국', 'temperature')},\n",
    "                               ignore_index=True)\n",
    "df_weather_with_wf = df_weather_with_wf.append({'year': 2016,\n",
    "                                'week': 6,\n",
    "                                'CTRY_1': '베트남',\n",
    "                                'rain': get_avg(df_weather_with_wf, 2016, 6, '베트남', 'rain'),\n",
    "                                'wind': get_avg(df_weather_with_wf, 2016, 6, '베트남', 'wind'),\n",
    "                                'temperature': get_avg(df_weather_with_wf, 2016, 6, '베트남', 'temperature')},\n",
    "                               ignore_index=True)\n",
    "df_weather_with_wf = df_weather_with_wf.append({'year': 2016,\n",
    "                                'week': 5,\n",
    "                                'CTRY_1': '칠레',\n",
    "                                'rain': get_avg(df_weather_with_wf, 2016, 5, '칠레', 'rain'),\n",
    "                                'wind': get_avg(df_weather_with_wf, 2016, 5, '칠레', 'wind'),\n",
    "                                'temperature': get_avg(df_weather_with_wf, 2016, 5, '칠레', 'temperature')},\n",
    "                               ignore_index=True)\n",
    "\n",
    "for country in [\"태국\", \"베트남\", \"칠레\"]:\n",
    "    print()\n",
    "    print(country, \"총\", len(df_weather_with_wf[df_weather_with_wf['CTRY_1'] == country]), \"개\")\n",
    "    check_week(df_weather_with_wf[df_weather_with_wf['CTRY_1'] == country])"
   ]
  },
  {
   "cell_type": "code",
   "execution_count": null,
   "metadata": {
    "colab": {
     "base_uri": "https://localhost:8080/"
    },
    "id": "ShcJk30bO0uQ",
    "outputId": "d5810ad0-8cc5-403a-d276-4bc84ee9cb4f"
   },
   "outputs": [],
   "source": [
    "df_weather_without_wf = df_weather_without_wf.append({'year': 2016,\n",
    "                                'week': 11,\n",
    "                                'CTRY_1': '태국',\n",
    "                                'rain': get_avg(df_weather_without_wf, 2016, 11, '태국', 'rain'),\n",
    "                                'wind': get_avg(df_weather_without_wf, 2016, 11, '태국', 'wind'),\n",
    "                                'temperature': get_avg(df_weather_without_wf, 2016, 11, '태국', 'temperature')},\n",
    "                               ignore_index=True)\n",
    "df_weather_without_wf = df_weather_without_wf.append({'year': 2016,\n",
    "                                'week': 15,\n",
    "                                'CTRY_1': '태국',\n",
    "                                'rain': get_avg(df_weather_without_wf, 2016, 15, '태국', 'rain'),\n",
    "                                'wind': get_avg(df_weather_without_wf, 2016, 15, '태국', 'wind'),\n",
    "                                'temperature': get_avg(df_weather_without_wf, 2016, 15, '태국', 'temperature')},\n",
    "                               ignore_index=True)\n",
    "df_weather_without_wf = df_weather_without_wf.append({'year': 2019,\n",
    "                                'week': 10,\n",
    "                                'CTRY_1': '태국',\n",
    "                                'rain': get_avg(df_weather_without_wf, 2019, 10, '태국', 'rain'),\n",
    "                                'wind': get_avg(df_weather_without_wf, 2019, 10, '태국', 'wind'),\n",
    "                                'temperature': get_avg(df_weather_without_wf, 2019, 10, '태국', 'temperature')},\n",
    "                               ignore_index=True)\n",
    "\n",
    "df_weather_without_wf = df_weather_without_wf.append({'year': 2016,\n",
    "                                'week': 6,\n",
    "                                'CTRY_1': '베트남',\n",
    "                                'rain': get_avg(df_weather_without_wf, 2016, 6, '베트남', 'rain'),\n",
    "                                'wind': get_avg(df_weather_without_wf, 2016, 6, '베트남', 'wind'),\n",
    "                                'temperature': get_avg(df_weather_without_wf, 2016, 6, '베트남', 'temperature')},\n",
    "                               ignore_index=True)\n",
    "\n",
    "df_weather_without_wf = df_weather_without_wf.append({'year': 2016,\n",
    "                                'week': 5,\n",
    "                                'CTRY_1': '칠레',\n",
    "                                'rain': get_avg(df_weather_without_wf, 2016, 5, '칠레', 'rain'),\n",
    "                                'wind': get_avg(df_weather_without_wf, 2016, 5, '칠레', 'wind'),\n",
    "                                'temperature': get_avg(df_weather_without_wf, 2016, 5, '칠레', 'temperature')},\n",
    "                               ignore_index=True)\n",
    "\n",
    "for country in [\"태국\", \"베트남\", \"칠레\"]:\n",
    "    print()\n",
    "    print(country, \"총\", len(df_weather_without_wf[df_weather_without_wf['CTRY_1'] == country]), \"개\")\n",
    "    check_week(df_weather_without_wf[df_weather_without_wf['CTRY_1'] == country])"
   ]
  },
  {
   "cell_type": "markdown",
   "metadata": {
    "id": "6Bcx08HU7TKr"
   },
   "source": [
    "### Merge Data"
   ]
  },
  {
   "cell_type": "code",
   "execution_count": null,
   "metadata": {
    "id": "eya8U1xR7TKr"
   },
   "outputs": [],
   "source": [
    "df1_with_wf = pd.merge(df1_with_wf, df_weather_with_wf, how='left', on=['year', 'week', 'CTRY_1'])"
   ]
  },
  {
   "cell_type": "code",
   "execution_count": null,
   "metadata": {
    "id": "j_uQOauUO0uR"
   },
   "outputs": [],
   "source": [
    "df2_without_wf = pd.merge(df2_without_wf, df_weather_without_wf, how='left', on=['year', 'week', 'CTRY_1'])"
   ]
  },
  {
   "cell_type": "markdown",
   "metadata": {
    "id": "fdcPNIw6O0uR"
   },
   "source": [
    "### One hot encoding"
   ]
  },
  {
   "cell_type": "code",
   "execution_count": null,
   "metadata": {
    "id": "my4Jk4cyO0uS"
   },
   "outputs": [],
   "source": [
    "one_hot = ['CTRY_1', 'CTRY_2', 'P_PURPOSE', 'P_NAME', 'CATEGORY_1', 'CATEGORY_2']\n",
    "df1_with_wf = pd.get_dummies(df1_with_wf, columns=one_hot)\n",
    "df2_without_wf = pd.get_dummies(df2_without_wf, columns=one_hot)"
   ]
  },
  {
   "cell_type": "markdown",
   "metadata": {
    "id": "APtRtfTIALuN",
    "outputId": "163b44d0-0324-4ea7-897b-2289d5d7e914"
   },
   "source": [
    "## Train"
   ]
  },
  {
   "cell_type": "code",
   "execution_count": null,
   "metadata": {
    "colab": {
     "base_uri": "https://localhost:8080/",
     "height": 604
    },
    "id": "UGB2fa4IO0uS",
    "outputId": "94b63907-1784-4a8d-bc77-a9781f4e169f"
   },
   "outputs": [],
   "source": [
    "model1, plt1 = train_model(df1_with_wf.drop(columns=['P_PRICE']), df1_with_wf['P_PRICE'])"
   ]
  },
  {
   "cell_type": "code",
   "execution_count": null,
   "metadata": {},
   "outputs": [],
   "source": [
    "save_img(plt1, \"3-2.1 weather_with_waterfront\")"
   ]
  },
  {
   "cell_type": "code",
   "execution_count": null,
   "metadata": {
    "colab": {
     "base_uri": "https://localhost:8080/"
    },
    "id": "bLVIFc2CO0uS",
    "outputId": "2300ca36-5486-41ee-8486-afe34632ce31"
   },
   "outputs": [],
   "source": [
    "t1 = print_importance(model1, df1_with_wf, ['rain', 'wind', 'temperature'])"
   ]
  },
  {
   "cell_type": "code",
   "execution_count": null,
   "metadata": {
    "colab": {
     "base_uri": "https://localhost:8080/",
     "height": 604
    },
    "id": "VY1FNoB-O0uS",
    "outputId": "b4735eb4-7306-483d-c291-1ac03aa3a69a"
   },
   "outputs": [],
   "source": [
    "model2, plt2 = train_model(df2_without_wf.drop(columns=['P_PRICE']), df2_without_wf['P_PRICE'])"
   ]
  },
  {
   "cell_type": "code",
   "execution_count": null,
   "metadata": {},
   "outputs": [],
   "source": [
    "save_img(plt2, \"3-2.2 weather_without_waterfront\")"
   ]
  },
  {
   "cell_type": "code",
   "execution_count": null,
   "metadata": {
    "colab": {
     "base_uri": "https://localhost:8080/"
    },
    "id": "yzitxScaO0uS",
    "outputId": "774ef768-d89a-4ea7-9685-f5f01b059327",
    "scrolled": true
   },
   "outputs": [],
   "source": [
    "t2 = print_importance(model2, df2_without_wf, ['rain', 'wind', 'temperature'])"
   ]
  },
  {
   "cell_type": "markdown",
   "metadata": {
    "id": "iZtJbp1vO0uS"
   },
   "source": [
    "- 날씨 데이터를 추가하는 것이 모델 정확도 상승에 영향을 준다\n",
    "- 해안가가 아닌 데이터를 제거하는 것은 오히려 정확도를 떨어뜨린다\n",
    "- 날씨 데이터를 전부 사용한다"
   ]
  },
  {
   "cell_type": "markdown",
   "metadata": {
    "id": "6fP9BX7uO0uS"
   },
   "source": [
    "----\n",
    "# Adding Exchange Data\n",
    "- df3_add_exchange : 수출국의 환율 데이터 추가"
   ]
  },
  {
   "cell_type": "code",
   "execution_count": null,
   "metadata": {
    "id": "wTW2V9SVO0uS"
   },
   "outputs": [],
   "source": [
    "df3_add_exchange = df_train.copy()"
   ]
  },
  {
   "cell_type": "markdown",
   "metadata": {
    "id": "0bEuz6f9O0uS"
   },
   "source": [
    "## Preprocess\n",
    "### Merge Data"
   ]
  },
  {
   "cell_type": "code",
   "execution_count": null,
   "metadata": {
    "id": "e4XAYuKEO0uT"
   },
   "outputs": [],
   "source": [
    "df3_add_exchange = pd.merge(df3_add_exchange, df_weather_with_wf, how='left', on=['year', 'week', 'CTRY_1'])"
   ]
  },
  {
   "cell_type": "code",
   "execution_count": null,
   "metadata": {
    "id": "ztCMUOXJO0uT"
   },
   "outputs": [],
   "source": [
    "df3_add_exchange = pd.merge(df3_add_exchange, df_exchange, how='left', on=['year', 'week', 'CTRY_2'])"
   ]
  },
  {
   "cell_type": "markdown",
   "metadata": {
    "id": "JSFdsmPuO0uT"
   },
   "source": [
    "### One hot encoding"
   ]
  },
  {
   "cell_type": "code",
   "execution_count": null,
   "metadata": {
    "id": "YwYHELJtXQ_0"
   },
   "outputs": [],
   "source": [
    "one_hot = ['CTRY_1', 'CTRY_2', 'P_PURPOSE', 'P_NAME', 'CATEGORY_1', 'CATEGORY_2']\n",
    "df3_add_exchange = pd.get_dummies(df3_add_exchange, columns=one_hot)"
   ]
  },
  {
   "cell_type": "markdown",
   "metadata": {
    "id": "NBvnw6PvO0uT"
   },
   "source": [
    "## Train"
   ]
  },
  {
   "cell_type": "code",
   "execution_count": null,
   "metadata": {
    "colab": {
     "base_uri": "https://localhost:8080/",
     "height": 604
    },
    "id": "R0tglzR2O0uT",
    "outputId": "391a6e50-cc22-4747-f0c0-b878ef6dbd74"
   },
   "outputs": [],
   "source": [
    "model3, _ = train_model(df3_add_exchange.drop(columns=['P_PRICE']), df3_add_exchange['P_PRICE'])"
   ]
  },
  {
   "cell_type": "code",
   "execution_count": null,
   "metadata": {
    "colab": {
     "base_uri": "https://localhost:8080/"
    },
    "id": "B0_2haCxO0uT",
    "outputId": "8102c03f-dd64-4a98-fb3e-ccea5446516a"
   },
   "outputs": [],
   "source": [
    "t3 = print_importance(model3, df3_add_exchange, ['exchange'])"
   ]
  },
  {
   "cell_type": "markdown",
   "metadata": {
    "id": "ybmGW94GO0uU"
   },
   "source": [
    "- 미세하게 모델 정확도가 상승하였으므로 환율 데이터도 사용하도록 한다"
   ]
  },
  {
   "cell_type": "markdown",
   "metadata": {
    "id": "f4L7ujIvO0uU"
   },
   "source": [
    "----\n",
    "# Standardization"
   ]
  },
  {
   "cell_type": "code",
   "execution_count": null,
   "metadata": {
    "id": "3jEGULmJO0uU"
   },
   "outputs": [],
   "source": [
    "df4_transform = df_train.copy()"
   ]
  },
  {
   "cell_type": "markdown",
   "metadata": {
    "id": "rt8PP7U7O0uU"
   },
   "source": [
    "## Preprocess\n",
    "### Merge Data"
   ]
  },
  {
   "cell_type": "code",
   "execution_count": null,
   "metadata": {},
   "outputs": [],
   "source": [
    "df4_transform = pd.merge(df4_transform, df_weather_with_wf, how='left', on=['year', 'week', 'CTRY_1'])"
   ]
  },
  {
   "cell_type": "code",
   "execution_count": null,
   "metadata": {},
   "outputs": [],
   "source": [
    "df4_transform = pd.merge(df4_transform, df_exchange, how='left', on=['year', 'week', 'CTRY_2'])"
   ]
  },
  {
   "cell_type": "markdown",
   "metadata": {
    "id": "RhtKmcAUO0uV"
   },
   "source": [
    "### Standardization\n",
    "- 추가한 Numerical Feauture : wind, rain, temperature, exchange, oil, cpi_total,cpi_fish,wind_kr, temp_kr, water_temp_kr\n",
    "- 이에 대해 분포를 확인한 후, 정규화를 진행한다"
   ]
  },
  {
   "cell_type": "markdown",
   "metadata": {
    "id": "KR4LrbbWO0uV"
   },
   "source": [
    "#### wind"
   ]
  },
  {
   "cell_type": "code",
   "execution_count": null,
   "metadata": {
    "colab": {
     "base_uri": "https://localhost:8080/",
     "height": 518
    },
    "id": "q2dval5lO0uV",
    "outputId": "27b2bd40-0d89-45e3-e26c-104e2207b1d4"
   },
   "outputs": [],
   "source": [
    "plt.figure(figsize=(20, 8))\n",
    "\n",
    "plt.subplot(1, 2, 1)\n",
    "plt.title('DIstribution Plot', fontsize=title_size)\n",
    "sns.distplot(df4_transform['wind'], fit=norm);\n",
    "\n",
    "plt.subplot(1, 2, 2)\n",
    "plt.title('Probability Plot', fontsize=title_size)\n",
    "stats.probplot(df4_transform['wind'], plot=plt)\n",
    "\n",
    "plt.show()"
   ]
  },
  {
   "cell_type": "markdown",
   "metadata": {
    "id": "z2kw8WUDO0uV"
   },
   "source": [
    "- Peakedness & Skewedness\n",
    "- Doesn't follow the diagonal line\n",
    "- Use Log Transformation"
   ]
  },
  {
   "cell_type": "code",
   "execution_count": null,
   "metadata": {
    "id": "myin7bRSO0uV"
   },
   "outputs": [],
   "source": [
    "# Log Transformation\n",
    "df4_transform['wind'] = np.log1p(df4_transform['wind'])"
   ]
  },
  {
   "cell_type": "code",
   "execution_count": null,
   "metadata": {
    "colab": {
     "base_uri": "https://localhost:8080/",
     "height": 518
    },
    "id": "UUNKl1xyO0uV",
    "outputId": "398d4f55-296c-4fd4-d3a0-0da703d41bea"
   },
   "outputs": [],
   "source": [
    "plt.figure(figsize=(20, 8))\n",
    "\n",
    "plt.subplot(1, 2, 1)\n",
    "plt.title('DIstribution Plot', fontsize=title_size)\n",
    "sns.distplot(df4_transform['wind'], fit=norm);\n",
    "\n",
    "plt.subplot(1, 2, 2)\n",
    "plt.title('Probability Plot', fontsize=title_size)\n",
    "stats.probplot(df4_transform['wind'], plot=plt)\n",
    "\n",
    "plt.show()"
   ]
  },
  {
   "cell_type": "markdown",
   "metadata": {
    "id": "vGccDReoO0uV"
   },
   "source": [
    "#### rain"
   ]
  },
  {
   "cell_type": "code",
   "execution_count": null,
   "metadata": {
    "colab": {
     "base_uri": "https://localhost:8080/",
     "height": 518
    },
    "id": "PsO5cIDcO0uV",
    "outputId": "55eef838-fbe7-4308-9e71-c22979b63c52"
   },
   "outputs": [],
   "source": [
    "plt.figure(figsize=(20, 8))\n",
    "\n",
    "plt.subplot(1, 2, 1)\n",
    "plt.title('DIstribution Plot', fontsize=title_size)\n",
    "sns.distplot(df4_transform['rain'], fit=norm);\n",
    "\n",
    "plt.subplot(1, 2, 2)\n",
    "plt.title('Probability Plot', fontsize=title_size)\n",
    "stats.probplot(df4_transform['rain'], plot=plt)\n",
    "\n",
    "plt.show()"
   ]
  },
  {
   "cell_type": "markdown",
   "metadata": {
    "id": "af4F31fBO0uW"
   },
   "source": [
    "- Peakedness & Skewedness\n",
    "- Doesn't follow the diagonal line\n",
    "- Use Log Transformation"
   ]
  },
  {
   "cell_type": "code",
   "execution_count": null,
   "metadata": {
    "id": "P1rtxQFMO0uW"
   },
   "outputs": [],
   "source": [
    "# Log Transformation\n",
    "df4_transform['rain'] = np.log1p(df4_transform['rain'])"
   ]
  },
  {
   "cell_type": "code",
   "execution_count": null,
   "metadata": {
    "colab": {
     "base_uri": "https://localhost:8080/",
     "height": 518
    },
    "id": "oOng1A9BO0uW",
    "outputId": "f55d8544-cb3b-4a00-8361-e46faef5eaab"
   },
   "outputs": [],
   "source": [
    "plt.figure(figsize=(20, 8))\n",
    "\n",
    "plt.subplot(1, 2, 1)\n",
    "plt.title('DIstribution Plot', fontsize=title_size)\n",
    "sns.distplot(df4_transform['rain'], fit=norm);\n",
    "\n",
    "plt.subplot(1, 2, 2)\n",
    "plt.title('Probability Plot', fontsize=title_size)\n",
    "stats.probplot(df4_transform['rain'], plot=plt)\n",
    "\n",
    "plt.show()"
   ]
  },
  {
   "cell_type": "markdown",
   "metadata": {
    "id": "Y2lE0hcmO0uW"
   },
   "source": [
    "#### temperature"
   ]
  },
  {
   "cell_type": "code",
   "execution_count": null,
   "metadata": {
    "colab": {
     "base_uri": "https://localhost:8080/",
     "height": 518
    },
    "id": "xm9TGC8NO0uW",
    "outputId": "8e4a7a8d-1b39-4503-96e3-dbf49ccbd627"
   },
   "outputs": [],
   "source": [
    "plt.figure(figsize=(20, 8))\n",
    "\n",
    "plt.subplot(1, 2, 1)\n",
    "plt.title('DIstribution Plot', fontsize=title_size)\n",
    "sns.distplot(df4_transform['temperature'], fit=norm);\n",
    "\n",
    "plt.subplot(1, 2, 2)\n",
    "plt.title('Probability Plot', fontsize=title_size)\n",
    "stats.probplot(df4_transform['temperature'], plot=plt)\n",
    "\n",
    "plt.show()"
   ]
  },
  {
   "cell_type": "markdown",
   "metadata": {
    "id": "S64GpRXTO0uW"
   },
   "source": [
    "- Peakedness & Skewedness\n",
    "- Doesn't follow the diagonal line\n",
    "- Use Standardization"
   ]
  },
  {
   "cell_type": "code",
   "execution_count": null,
   "metadata": {
    "id": "LvaLOBKSO0uW"
   },
   "outputs": [],
   "source": [
    "# TODO : StandardScaler 사용\n",
    "# Standardization\n",
    "df4_transform['temperature'] = (df4_transform['temperature'] - np.mean(df4_transform['temperature'])) / df4_transform['temperature'].std()"
   ]
  },
  {
   "cell_type": "code",
   "execution_count": null,
   "metadata": {
    "colab": {
     "base_uri": "https://localhost:8080/",
     "height": 518
    },
    "id": "JL5a-6X9O0uW",
    "outputId": "b585f18c-55c9-4bff-ce36-9ae7fc131988"
   },
   "outputs": [],
   "source": [
    "plt.figure(figsize=(20, 8))\n",
    "\n",
    "plt.subplot(1, 2, 1)\n",
    "plt.title('DIstribution Plot', fontsize=title_size)\n",
    "sns.distplot(df4_transform['temperature'], fit=norm);\n",
    "\n",
    "plt.subplot(1, 2, 2)\n",
    "plt.title('Probability Plot', fontsize=title_size)\n",
    "stats.probplot(df4_transform['temperature'], plot=plt)\n",
    "\n",
    "plt.show()"
   ]
  },
  {
   "cell_type": "markdown",
   "metadata": {
    "id": "--IsiQLNO0uX"
   },
   "source": [
    "#### exchange"
   ]
  },
  {
   "cell_type": "code",
   "execution_count": null,
   "metadata": {
    "colab": {
     "base_uri": "https://localhost:8080/",
     "height": 518
    },
    "id": "N9EMuWFhO0uX",
    "outputId": "5f195324-671e-4103-dce3-8ebf2a4e250d"
   },
   "outputs": [],
   "source": [
    "plt.figure(figsize=(20, 8))\n",
    "\n",
    "plt.subplot(1, 2, 1)\n",
    "plt.title('DIstribution Plot', fontsize=title_size)\n",
    "sns.distplot(df4_transform['exchange'], fit=norm);\n",
    "\n",
    "plt.subplot(1, 2, 2)\n",
    "plt.title('Probability Plot', fontsize=title_size)\n",
    "stats.probplot(df4_transform['exchange'], plot=plt)\n",
    "\n",
    "plt.show()"
   ]
  },
  {
   "cell_type": "markdown",
   "metadata": {
    "id": "Pu0vKKuAkR0J"
   },
   "source": [
    "- Peakedness & Skewedness\n",
    "- Doesn't follow the diagonal line\n",
    "- Use Standardization"
   ]
  },
  {
   "cell_type": "code",
   "execution_count": null,
   "metadata": {
    "id": "inQhCLoyO0uX"
   },
   "outputs": [],
   "source": [
    "# Log Transformation\n",
    "df4_transform['exchange'] = np.log1p(df4_transform['exchange'])"
   ]
  },
  {
   "cell_type": "code",
   "execution_count": null,
   "metadata": {
    "colab": {
     "base_uri": "https://localhost:8080/",
     "height": 518
    },
    "id": "gJy1yUEQO0uX",
    "outputId": "c8454470-d9fe-44c8-a081-dc3550b326bc"
   },
   "outputs": [],
   "source": [
    "plt.figure(figsize=(20, 8))\n",
    "\n",
    "plt.subplot(1, 2, 1)\n",
    "plt.title('DIstribution Plot', fontsize=title_size)\n",
    "sns.distplot(df4_transform['exchange'], fit=norm);\n",
    "\n",
    "plt.subplot(1, 2, 2)\n",
    "plt.title('Probability Plot', fontsize=title_size)\n",
    "stats.probplot(df4_transform['exchange'], plot=plt)\n",
    "\n",
    "plt.show()"
   ]
  },
  {
   "cell_type": "markdown",
   "metadata": {
    "id": "JXTx8TOAO0uX"
   },
   "source": [
    "### One hot encoding"
   ]
  },
  {
   "cell_type": "code",
   "execution_count": null,
   "metadata": {
    "id": "yTQgYOKyO0uX"
   },
   "outputs": [],
   "source": [
    "one_hot = ['CTRY_1', 'CTRY_2', 'P_PURPOSE', 'P_NAME', 'CATEGORY_1', 'CATEGORY_2']\n",
    "df4_transform = pd.get_dummies(df4_transform, columns=one_hot)"
   ]
  },
  {
   "cell_type": "markdown",
   "metadata": {
    "id": "XbtW_oq3O0uY"
   },
   "source": [
    "## Train"
   ]
  },
  {
   "cell_type": "code",
   "execution_count": null,
   "metadata": {
    "colab": {
     "base_uri": "https://localhost:8080/",
     "height": 604
    },
    "id": "Ww1BCqOqO0uY",
    "outputId": "c74c1814-fb00-4030-fd48-b27bdf06393a"
   },
   "outputs": [],
   "source": [
    "model4, _ = train_model(df4_transform.drop(columns=['P_PRICE']), df4_transform['P_PRICE'])"
   ]
  },
  {
   "cell_type": "code",
   "execution_count": null,
   "metadata": {
    "colab": {
     "base_uri": "https://localhost:8080/"
    },
    "id": "cRd9a6XOO0uY",
    "outputId": "1a18cd98-2457-42ee-9025-a782bd056a1f"
   },
   "outputs": [],
   "source": [
    "t4 = print_importance(model4, df4_transform, ['rain','wind','temperature','exchange'])"
   ]
  },
  {
   "cell_type": "markdown",
   "metadata": {
    "id": "iH05jY-eqXRV"
   },
   "source": [
    "# Feature Selection (by Correlation)"
   ]
  },
  {
   "cell_type": "code",
   "execution_count": null,
   "metadata": {
    "id": "ue3E5uqIqax1"
   },
   "outputs": [],
   "source": [
    "df5_feature_selection = df_train.copy()"
   ]
  },
  {
   "cell_type": "markdown",
   "metadata": {
    "id": "rt8PP7U7O0uU"
   },
   "source": [
    "## Preprocess\n",
    "### Merge Data"
   ]
  },
  {
   "cell_type": "code",
   "execution_count": null,
   "metadata": {},
   "outputs": [],
   "source": [
    "df5_feature_selection = pd.merge(df5_feature_selection, df_weather_with_wf, how='left', on=['year', 'week', 'CTRY_1'])"
   ]
  },
  {
   "cell_type": "code",
   "execution_count": null,
   "metadata": {},
   "outputs": [],
   "source": [
    "df5_feature_selection = pd.merge(df5_feature_selection, df_exchange, how='left', on=['year', 'week', 'CTRY_2'])"
   ]
  },
  {
   "cell_type": "markdown",
   "metadata": {
    "id": "xT9WiMlftova"
   },
   "source": [
    "## Grouping by Correlation\n",
    "- P_PRICE 와 상관관계가 높은 변수 찾기\n",
    "- 서로 상관관계가 높은 변수 찾기"
   ]
  },
  {
   "cell_type": "code",
   "execution_count": null,
   "metadata": {
    "colab": {
     "base_uri": "https://localhost:8080/",
     "height": 765
    },
    "id": "ddY-vGi8tgQk",
    "outputId": "62234ee3-c837-4246-a5c8-ccfbc45b24bb"
   },
   "outputs": [],
   "source": [
    "# Using Pearson Correlation\n",
    "plt.figure(figsize=(15,12))\n",
    "cor = df5_feature_selection[['CTRY_1', 'CTRY_2', 'P_PURPOSE', 'P_NAME',\n",
    "       'P_PRICE', 'ctry1_cnt', 'purpose_cnt', 'category1_cnt',\n",
    "       'category2_cnt', 'name_cnt', 'is_processed', 'import_cnt', 'oil', 'wind_kr', 'cpi_total',\n",
    "       'temp_kr', 'rain', 'wind', 'temperature', 'exchange']].corr()\n",
    "sns.heatmap(cor, annot=True, cmap=plt.cm.Reds)\n",
    "plt.show()"
   ]
  },
  {
   "cell_type": "markdown",
   "metadata": {
    "id": "wUi3fb-p6PUW"
   },
   "source": [
    "서로간 상관계수가 큰 변수\n",
    "- ctry1_cnt & exchange\n",
    "    - ctry2_cnt와 ctry1_cnt이 유사한 변수라고 가정했을때, 수출국(ctry_2)과 연관있는 변수라 상관계수가 큰 것이라고 유추할 수 있다\n",
    "    - 유사하므로 exchange 삭제\n",
    "- rain & temperature\n",
    "    - 날씨 데이터이므로 두 변수의 평균값을 사용해준다\n",
    "- cpi_total & oil\n",
    "    - 유사하므로 oil 삭제"
   ]
  },
  {
   "cell_type": "code",
   "execution_count": null,
   "metadata": {},
   "outputs": [],
   "source": [
    "df5_feature_selection['temp'] = (df5_feature_selection['rain'] + df5_feature_selection['temperature']) / 2"
   ]
  },
  {
   "cell_type": "code",
   "execution_count": null,
   "metadata": {
    "id": "uuuHFPXq7xNJ"
   },
   "outputs": [],
   "source": [
    "df5_feature_selection.drop(columns=['rain','temperature', 'exchange'], axis=1, inplace=True)"
   ]
  },
  {
   "cell_type": "markdown",
   "metadata": {
    "id": "5_2rYTJl76DM"
   },
   "source": [
    "## One Hot Encoding & Dropping"
   ]
  },
  {
   "cell_type": "code",
   "execution_count": null,
   "metadata": {
    "id": "bLKgEqXh77LY"
   },
   "outputs": [],
   "source": [
    "# Others\n",
    "one_hot = ['CTRY_1', 'CTRY_2', 'P_PURPOSE',  'P_NAME', 'CATEGORY_1', 'CATEGORY_2']\n",
    "df5_feature_selection = pd.get_dummies(df5_feature_selection, columns=one_hot)"
   ]
  },
  {
   "cell_type": "markdown",
   "metadata": {
    "id": "-5rpSsqo8Irj"
   },
   "source": [
    "## Train"
   ]
  },
  {
   "cell_type": "code",
   "execution_count": null,
   "metadata": {
    "colab": {
     "base_uri": "https://localhost:8080/",
     "height": 604
    },
    "id": "3En4rOsr8J0U",
    "outputId": "097ce4cf-cae0-497f-846c-ba41a7a457c4"
   },
   "outputs": [],
   "source": [
    "model5, _ = train_model(df5_feature_selection.drop(columns=['P_PRICE']), df5_feature_selection['P_PRICE'])"
   ]
  },
  {
   "cell_type": "code",
   "execution_count": null,
   "metadata": {
    "colab": {
     "base_uri": "https://localhost:8080/"
    },
    "id": "SxSOXxY28X5u",
    "outputId": "4aea718a-859e-416d-955f-9db4871b9292"
   },
   "outputs": [],
   "source": [
    "t5 = print_importance(model5, df5_feature_selection, [])"
   ]
  },
  {
   "cell_type": "markdown",
   "metadata": {
    "id": "Plh-xvEE8i_c"
   },
   "source": [
    "정확도가 감소한 것을 확인할 수 있다  \n",
    "그러나 다중공선성 문제를 피하기 위해서는 어쩔 수 없다"
   ]
  },
  {
   "cell_type": "markdown",
   "metadata": {
    "id": "KB_-EMCIcdfJ"
   },
   "source": [
    "# Final DF\n",
    "최종 dataframe\n",
    "- df_final\n",
    "\n",
    "어종별 dataframe\n",
    "- df_squid\n",
    "- df_salmon\n",
    "- df_whitleg_shrimp"
   ]
  },
  {
   "cell_type": "code",
   "execution_count": null,
   "metadata": {
    "id": "veswGSKnCjWa"
   },
   "outputs": [],
   "source": [
    "df_final = df_train.copy()"
   ]
  },
  {
   "cell_type": "markdown",
   "metadata": {
    "id": "MpSk8NuEEPeH"
   },
   "source": [
    "## Preprocessing"
   ]
  },
  {
   "cell_type": "code",
   "execution_count": null,
   "metadata": {
    "id": "A1UN2c10gJx2"
   },
   "outputs": [],
   "source": [
    "df_final = pd.merge(df_final, df_weather_with_wf, how='left', on=['year', 'week', 'CTRY_1'])"
   ]
  },
  {
   "cell_type": "code",
   "execution_count": null,
   "metadata": {
    "id": "T2cCzq3REIK7"
   },
   "outputs": [],
   "source": [
    "df_final = pd.merge(df_final, df_exchange, how='left', on=['year', 'week', 'CTRY_2'])"
   ]
  },
  {
   "cell_type": "code",
   "execution_count": null,
   "metadata": {
    "id": "57sfdUFjETE4"
   },
   "outputs": [],
   "source": [
    "# Normaization\n",
    "df_final['wind'] = np.log1p(df_final['wind'])\n",
    "df_final['rain'] = np.log1p(df_final['rain'])\n",
    "df_final['exchange'] = np.log1p(df_final['exchange'])\n",
    "\n",
    "# Scaling\n",
    "df_final['temperature'] = (df_final['temperature'] - np.mean(df_final['temperature'])) / df_final['temperature'].std()"
   ]
  },
  {
   "cell_type": "code",
   "execution_count": null,
   "metadata": {},
   "outputs": [],
   "source": [
    "# Feature Selection\n",
    "df_final['temp'] = (df_final['rain'] + df_final['temperature']) / 2"
   ]
  },
  {
   "cell_type": "code",
   "execution_count": null,
   "metadata": {
    "id": "zTwFM15lFzCC"
   },
   "outputs": [],
   "source": [
    "# Drop\n",
    "df_final.drop(columns=['rain','temperature', 'oil', 'exchange'], axis=1, inplace=True)"
   ]
  },
  {
   "cell_type": "markdown",
   "metadata": {},
   "source": [
    "최종 전처리 계속 진행"
   ]
  },
  {
   "cell_type": "code",
   "execution_count": null,
   "metadata": {
    "id": "BfM4-iULEtye"
   },
   "outputs": [],
   "source": [
    "# One Hot Encoding\n",
    "one_hot = ['CTRY_1', 'CTRY_2', 'P_PURPOSE', 'P_NAME', 'CATEGORY_1', 'CATEGORY_2']\n",
    "df_final = pd.get_dummies(df_final, columns=one_hot)"
   ]
  },
  {
   "cell_type": "markdown",
   "metadata": {
    "id": "OloFB2lOGRGy"
   },
   "source": [
    "## Train"
   ]
  },
  {
   "cell_type": "code",
   "execution_count": null,
   "metadata": {
    "colab": {
     "base_uri": "https://localhost:8080/",
     "height": 604
    },
    "id": "9yJJ44U-GR8D",
    "outputId": "19474c89-46db-4db8-eae7-16ad96af7fa3"
   },
   "outputs": [],
   "source": [
    "model, _ = train_model(df_final.drop(columns=['P_PRICE']), df_final['P_PRICE'])"
   ]
  },
  {
   "cell_type": "code",
   "execution_count": null,
   "metadata": {
    "colab": {
     "base_uri": "https://localhost:8080/"
    },
    "id": "pUxd89QgGTvl",
    "outputId": "d3e0546f-e39f-45a5-ac75-af5c2d2cd4c7"
   },
   "outputs": [],
   "source": [
    "final_fs = print_importance(model, df_final, [])"
   ]
  },
  {
   "cell_type": "markdown",
   "metadata": {},
   "source": [
    "# Save"
   ]
  },
  {
   "cell_type": "code",
   "execution_count": null,
   "metadata": {
    "id": "2yEnUdtnGfHM"
   },
   "outputs": [],
   "source": [
    "df_final.to_csv(os.path.join(root, \"preprocessed_train_2.csv\"), encoding='utf-8', index=False)"
   ]
  }
 ],
 "metadata": {
  "kernelspec": {
   "display_name": "Python 3",
   "language": "python",
   "name": "python3"
  },
  "language_info": {
   "codemirror_mode": {
    "name": "ipython",
    "version": 3
   },
   "file_extension": ".py",
   "mimetype": "text/x-python",
   "name": "python",
   "nbconvert_exporter": "python",
   "pygments_lexer": "ipython3",
   "version": "3.8.3"
  }
 },
 "nbformat": 4,
 "nbformat_minor": 4
}
