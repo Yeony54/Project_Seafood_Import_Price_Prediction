{
  "nbformat": 4,
  "nbformat_minor": 0,
  "metadata": {
    "colab": {
      "name": "4-1.ipynb",
      "provenance": [],
      "collapsed_sections": []
    },
    "kernelspec": {
      "name": "python3",
      "display_name": "Python 3"
    },
    "language_info": {
      "name": "python"
    }
  },
  "cells": [
    {
      "cell_type": "code",
      "metadata": {
        "id": "5fvbqpjRGsEV"
      },
      "source": [
        "# Import Libraries & Functions\n",
        "from utility import *"
      ],
      "execution_count": null,
      "outputs": []
    },
    {
      "cell_type": "code",
      "metadata": {
        "id": "LrE_811FG5XM"
      },
      "source": [
        "root = os.path.join(os.getcwd(), 'DATA')\n",
        "model = pd.read_csv(os.path.join(root, 'preprocessed_train_1.csv'))"
      ],
      "execution_count": null,
      "outputs": []
    },
    {
      "cell_type": "code",
      "metadata": {
        "id": "T2Iorn-pHKJx"
      },
      "source": [
        "model_train(model, 'P_PRICE', 'none', cv=5, n_iter=10, model='linear')"
      ],
      "execution_count": null,
      "outputs": []
    },
    {
      "cell_type": "code",
      "metadata": {
        "id": "C5vrJLbdHK2O"
      },
      "source": [
        "model_train(data, col, scaler, cv=5, n_iter=10, model='ridge')"
      ],
      "execution_count": null,
      "outputs": []
    },
    {
      "cell_type": "code",
      "metadata": {
        "id": "QXxWvUs7HK0A"
      },
      "source": [
        "model_train(data, col, scaler, cv=5, n_iter=10, model='lasso')"
      ],
      "execution_count": null,
      "outputs": []
    },
    {
      "cell_type": "code",
      "metadata": {
        "id": "NAF1IFjXHKxS"
      },
      "source": [
        "model_train(data, col, scaler, cv=5, n_iter=10, model='elastic')"
      ],
      "execution_count": null,
      "outputs": []
    },
    {
      "cell_type": "code",
      "metadata": {
        "id": "wylykcjsHKus"
      },
      "source": [
        "model_train(data, col, scaler, cv=5, n_iter=10, model='decisiontree')"
      ],
      "execution_count": null,
      "outputs": []
    },
    {
      "cell_type": "code",
      "metadata": {
        "id": "cHB8VhenHeCG"
      },
      "source": [
        "model_train(data, col, scaler, cv=5, n_iter=10, model='randomforest')"
      ],
      "execution_count": null,
      "outputs": []
    },
    {
      "cell_type": "code",
      "metadata": {
        "id": "3JDDoA6IHd_f"
      },
      "source": [
        "model_train(data, col, scaler, cv=5, n_iter=10, model='gradient')"
      ],
      "execution_count": null,
      "outputs": []
    },
    {
      "cell_type": "code",
      "metadata": {
        "id": "_DiJ7XNHHd9C"
      },
      "source": [
        "model_train(data, col, scaler, cv=5, n_iter=10, model='xgb')"
      ],
      "execution_count": null,
      "outputs": []
    },
    {
      "cell_type": "code",
      "metadata": {
        "id": "qmmEeJBjHqaS"
      },
      "source": [
        "model_train(data, col, scaler, cv=5, n_iter=10, model='lgbm')"
      ],
      "execution_count": null,
      "outputs": []
    }
  ]
}