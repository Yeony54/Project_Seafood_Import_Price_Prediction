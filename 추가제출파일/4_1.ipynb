{
  "nbformat": 4,
  "nbformat_minor": 0,
  "metadata": {
    "colab": {
      "name": "4-1.ipynb",
      "provenance": [],
      "collapsed_sections": []
    },
    "kernelspec": {
      "name": "python3",
      "display_name": "Python 3"
    },
    "language_info": {
      "name": "python"
    }
  },
  "cells": [
    {
      "cell_type": "code",
      "metadata": {
        "id": "5fvbqpjRGsEV"
      },
      "source": [
        "from utility import *"
      ],
      "execution_count": null,
      "outputs": []
    },
    {
      "cell_type": "code",
      "metadata": {
        "id": "LrE_811FG5XM"
      },
      "source": [
        "root = os.path.join(os.getcwd(), 'DATA')\n",
        "model = pd.read_csv(os.path.join(root, 'preprocessed_train_1.csv'))"
      ],
      "execution_count": null,
      "outputs": []
    },
    {
      "cell_type": "code",
      "metadata": {
        "id": "T2Iorn-pHKJx"
      },
      "source": [
        "model_train(data = model,col='P_PRICE', scaler='None', cv=5, n_iter=10, model='linear')\n",
        "\n",
        "#RMSE : 123572.5233"
      ],
      "execution_count": null,
      "outputs": []
    },
    {
      "cell_type": "code",
      "metadata": {
        "id": "C5vrJLbdHK2O"
      },
      "source": [
        "model_train(data = model,col='P_PRICE', scaler='None', cv=5, n_iter=10, model='ridge')\n",
        "\n",
        "\n",
        "# Best Params: {'normalize': True, 'fit_intercept': False, 'alpha': 0.01}\n",
        "# Best Score: 0.269187853154417\n",
        "# Predict RMSE: 0.25857976492593654"
      ],
      "execution_count": null,
      "outputs": []
    },
    {
      "cell_type": "code",
      "metadata": {
        "id": "QXxWvUs7HK0A"
      },
      "source": [
        "model_train(data = model,col='P_PRICE', scaler='None', cv=5, n_iter=10, model='lasso')\n",
        "\n",
        "# Best Params: {'normalize': False, 'fit_intercept': False, \n",
        "#               'alpha': 0.0001}\n",
        "# Best Score: 0.2858416308748517\n",
        "# Predict RMSE: 0.26532671675017827"
      ],
      "execution_count": null,
      "outputs": []
    },
    {
      "cell_type": "code",
      "metadata": {
        "id": "NAF1IFjXHKxS"
      },
      "source": [
        "model_train(data = model,col='P_PRICE', scaler='None', cv=5, n_iter=10, model='elastic')\n",
        "\n",
        "\n",
        "# Best Params: {'l1_ratio': 0.0125, 'alpha': 0.1}\n",
        "# Best Score: 0.6164342834816054\n",
        "# Predict RMSE: 0.6036435022394155"
      ],
      "execution_count": null,
      "outputs": []
    },
    {
      "cell_type": "code",
      "metadata": {
        "id": "wylykcjsHKus"
      },
      "source": [
        "model_train(data = model,col='P_PRICE', scaler='None', cv=5, n_iter=10, model='decisiontree')\n",
        "\n",
        "# Best Params: {'max_depth': 561, 'min_samples_leaf': 88, \n",
        "#               'min_samples_split': 175}\n",
        "# Best Score: 0.27675301191719115\n",
        "# Predict RMSE: 0.2289433573878382"
      ],
      "execution_count": null,
      "outputs": []
    },
    {
      "cell_type": "code",
      "metadata": {
        "id": "cHB8VhenHeCG"
      },
      "source": [
        "model_train(data = model,col='P_PRICE', scaler='None', cv=5, n_iter=10,model='randomforest')\n",
        "\n",
        "\n",
        "# {'max_depth': 1872, 'max_leaf_nodes': 2497, 'min_samples_leaf': 100, \n",
        "#  'min_samples_split': 2009, 'n_estimators': 756}\n",
        "# Best Score: 0.4312748023286478\n",
        "# Predict RMSE: 0.3921934200530041"
      ],
      "execution_count": null,
      "outputs": []
    },
    {
      "cell_type": "code",
      "metadata": {
        "id": "3JDDoA6IHd_f"
      },
      "source": [
        "model_train(data = model,col='P_PRICE', scaler='None', cv=5, n_iter=10, model='gradient')\n",
        "\n",
        "# Best Params: {'learning_rate': 0.01825, 'max_depth': 1034,\n",
        "#               'min_samples_split': 4374, 'n_estimators': 784, \n",
        "#               'subsample': 0.35}\n",
        "# Best Score: 0.21937483144138115\n",
        "# Predict RMSE: 0.18041514101338646"
      ],
      "execution_count": null,
      "outputs": []
    },
    {
      "cell_type": "code",
      "metadata": {
        "id": "_DiJ7XNHHd9C"
      },
      "source": [
        "model_train(data = model,col='P_PRICE', scaler='None', cv=5, n_iter=10, model='xgb')\n",
        "\n",
        "# Best Params: {'n_estimators': 500, 'min_child_weight': 50,\n",
        "#               'max_depth': 25, 'learning_rate': 0.012385}\n",
        "# Best Score: 0.20511025201881086\n",
        "# Predict RMSE: 0.1390642178027403"
      ],
      "execution_count": null,
      "outputs": []
    },
    {
      "cell_type": "code",
      "metadata": {
        "id": "qmmEeJBjHqaS"
      },
      "source": [
        "model_train(data = model,col='P_PRICE', scaler='None', cv=5, n_iter=10, model='lgbm')\n",
        "\n",
        "#Best Params: {'num_leaves': 25, 'n_estimators': 100, \n",
        "# 'min_child_weight': 200, 'min_child_samples': 500,\n",
        "#  'max_depth': 600, 'learning_rate': 0.096}\n",
        "# Best Score: 0.2650613653655131\n",
        "# Predict RMSE: 0.23753176136897688"
      ],
      "execution_count": null,
      "outputs": []
    }
  ]
}