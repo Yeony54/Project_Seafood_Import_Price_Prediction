{
  "nbformat": 4,
  "nbformat_minor": 0,
  "metadata": {
    "colab": {
      "name": "4-1.ipynb",
      "provenance": [],
      "collapsed_sections": []
    },
    "kernelspec": {
      "name": "python3",
      "display_name": "Python 3"
    },
    "language_info": {
      "name": "python"
    }
  },
  "cells": [
    {
      "cell_type": "code",
      "metadata": {
        "id": "5fvbqpjRGsEV"
      },
      "source": [
        "# Import Libraries & Functions\n",
        "from utility import *"
      ],
      "execution_count": null,
      "outputs": []
    },
    {
      "cell_type": "code",
      "metadata": {
        "id": "LrE_811FG5XM"
      },
      "source": [
        "root = os.path.join(os.getcwd(), 'DATA')\n",
        "model = pd.read_csv(os.path.join(root, 'preprocessed_train_1.csv'))"
      ],
      "execution_count": 2,
      "outputs": []
    },
    {
      "cell_type": "code",
      "metadata": {
        "id": "owZQdQT9JAT5"
      },
      "source": [
        "data, col, scaler, cv=5, n_iter=50, model=None"
      ],
      "execution_count": null,
      "outputs": []
    },
    {
      "cell_type": "code",
      "metadata": {
        "colab": {
          "base_uri": "https://localhost:8080/"
        },
        "id": "T2Iorn-pHKJx",
        "outputId": "d75cb40c-2a38-4f2d-c3d0-52cf823f63f1"
      },
      "source": [
        "model_train(data = model,col='P_PRICE', scaler='None', cv=5, n_iter=10, model='linear')"
      ],
      "execution_count": 7,
      "outputs": [
        {
          "output_type": "stream",
          "name": "stdout",
          "text": [
            "RMSE : 123572.5233\n"
          ]
        }
      ]
    },
    {
      "cell_type": "code",
      "metadata": {
        "id": "C5vrJLbdHK2O"
      },
      "source": [
        "model_train(data = model,col='P_PRICE', scaler='None', cv=5, n_iter=10, model='ridge')"
      ],
      "execution_count": null,
      "outputs": []
    },
    {
      "cell_type": "code",
      "metadata": {
        "id": "QXxWvUs7HK0A"
      },
      "source": [
        "model_train(data = model,col='P_PRICE', scaler='None', cv=5, n_iter=10, model='lasso')"
      ],
      "execution_count": null,
      "outputs": []
    },
    {
      "cell_type": "code",
      "metadata": {
        "id": "NAF1IFjXHKxS"
      },
      "source": [
        "model_train(data = model,col='P_PRICE', scaler='None', cv=5, n_iter=10, model='elastic')"
      ],
      "execution_count": null,
      "outputs": []
    },
    {
      "cell_type": "code",
      "metadata": {
        "id": "wylykcjsHKus"
      },
      "source": [
        "model_train(data = model,col='P_PRICE', scaler='None', cv=5, n_iter=10, model='decisiontree')"
      ],
      "execution_count": null,
      "outputs": []
    },
    {
      "cell_type": "code",
      "metadata": {
        "id": "cHB8VhenHeCG"
      },
      "source": [
        "model_train(data = model,col='P_PRICE', scaler='None', cv=5, n_iter=10,model='randomforest')"
      ],
      "execution_count": null,
      "outputs": []
    },
    {
      "cell_type": "code",
      "metadata": {
        "id": "3JDDoA6IHd_f"
      },
      "source": [
        "model_train(data = model,col='P_PRICE', scaler='None', cv=5, n_iter=10, model='gradient')"
      ],
      "execution_count": null,
      "outputs": []
    },
    {
      "cell_type": "code",
      "metadata": {
        "id": "_DiJ7XNHHd9C"
      },
      "source": [
        "model_train(data = model,col='P_PRICE', scaler='None', cv=5, n_iter=10, model='xgb')"
      ],
      "execution_count": null,
      "outputs": []
    },
    {
      "cell_type": "code",
      "metadata": {
        "id": "qmmEeJBjHqaS"
      },
      "source": [
        "model_train(data = model,col='P_PRICE', scaler='None', cv=5, n_iter=10, model='lgbm')"
      ],
      "execution_count": null,
      "outputs": []
    }
  ]
}