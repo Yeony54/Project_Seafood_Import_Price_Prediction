{
 "cells": [
  {
   "cell_type": "markdown",
   "metadata": {
    "id": "_j8o6xiGgK6P"
   },
   "source": [
    "# Setting"
   ]
  },
  {
   "cell_type": "markdown",
   "metadata": {
    "id": "DACPIbVx7TKg"
   },
   "source": [
    "## Import Library"
   ]
  },
  {
   "cell_type": "code",
   "execution_count": 1,
   "metadata": {
    "id": "83--jW2p7TKi"
   },
   "outputs": [],
   "source": [
    "# Import Libraries\n",
    "import os\n",
    "import pandas as pd\n",
    "import numpy as np\n",
    "from scipy.stats import norm\n",
    "from sklearn.preprocessing import StandardScaler\n",
    "from scipy import stats\n",
    "import warnings\n",
    "warnings.filterwarnings('ignore')\n",
    "%matplotlib inline\n",
    "\n",
    "# Date\n",
    "from calendar import monthrange\n",
    "from datetime import date, datetime\n",
    "\n",
    "# Visuzliation Setting\n",
    "import matplotlib.pyplot as plt\n",
    "import matplotlib.font_manager as fm\n",
    "from matplotlib import rc\n",
    "from matplotlib import colors\n",
    "import seaborn as sns"
   ]
  },
  {
   "cell_type": "markdown",
   "metadata": {
    "id": "43BkbSt4gRib"
   },
   "source": [
    "## Set Date Functions\n",
    "모든 데이터에 대한 주차별 데이터를 사용할 예정이므로  \n",
    "날짜 정보를 주차 컬럼으로 변경하는 함수 정의"
   ]
  },
  {
   "cell_type": "code",
   "execution_count": 2,
   "metadata": {
    "id": "FODjTCUA-j7r"
   },
   "outputs": [],
   "source": [
    "from datetime import date, timedelta\n",
    "\n",
    "\n",
    "def set_week(df, date):\n",
    "    '''\n",
    "    df : datetime 형식의 컬럼을 가지고 있는 dataframe\n",
    "    date : df에서 datetime 형식을 가진 컬럼명\n",
    "    return : date의 연도 컬럼과 주차 컬럼을 추가한 dataframe\n",
    "    '''\n",
    "    df[date] = pd.to_datetime(df[date])\n",
    "    df[date] = df[date].dt.date\n",
    "    df['year'] = df.apply(func=lambda x: x[date].isocalendar()[0], axis=1)\n",
    "    df['week'] = df.apply(func=lambda x: x[date].isocalendar()[1], axis=1)\n",
    "    df.drop(date, axis=1, inplace=True)\n",
    "    \n",
    "\n",
    "def check_week(df):\n",
    "    '''\n",
    "    df에 date가 전부 있는지 확인\n",
    "    '''\n",
    "    cnt = 0\n",
    "    sdate = date(2015, 12, 28)   # start date\n",
    "    edate = date(2019, 12, 30)   # end date\n",
    "    delta = edate - sdate       # as timedelta\n",
    "    mem = set()\n",
    "    \n",
    "    for i in range(delta.days + 1):\n",
    "        day = sdate + timedelta(days=i)\n",
    "        year, week = day.isocalendar()[0], day.isocalendar()[1]\n",
    "        if year * 100 + week in mem:\n",
    "            continue\n",
    "        mem.add(year * 100 + week)\n",
    "        if df[(df['year'] == year) & (df['week'] == week)].empty:\n",
    "            print((year, week), end=\"\")\n",
    "            cnt += 1\n",
    "    if cnt > 0:\n",
    "        print()\n",
    "    print(\"missing\", cnt, \"values\")    "
   ]
  },
  {
   "cell_type": "markdown",
   "metadata": {
    "id": "rPcCpYrMge6I"
   },
   "source": [
    "## Set Data Root Directory"
   ]
  },
  {
   "cell_type": "code",
   "execution_count": 3,
   "metadata": {
    "id": "TWB8ocwr7TKk"
   },
   "outputs": [],
   "source": [
    "root = os.path.join(os.getcwd(), 'DATA')"
   ]
  },
  {
   "cell_type": "markdown",
   "metadata": {},
   "source": [
    "# Weather"
   ]
  },
  {
   "cell_type": "markdown",
   "metadata": {},
   "source": [
    "## Import Data"
   ]
  },
  {
   "cell_type": "code",
   "execution_count": 4,
   "metadata": {},
   "outputs": [],
   "source": [
    "df_weather_code = pd.read_csv(os.path.join(root, 'raw_weather_code.csv'), header=0, index_col=0)"
   ]
  },
  {
   "cell_type": "code",
   "execution_count": 5,
   "metadata": {},
   "outputs": [],
   "source": [
    "weather_list = [pd.read_csv(os.path.join(root, 'raw_weather_20151228_20161227.csv'), encoding='euc-kr') , \n",
    "                pd.read_csv(os.path.join(root, 'raw_weather_20161228_20171227.csv'), encoding='euc-kr') , \n",
    "                pd.read_csv(os.path.join(root, 'raw_weather_20171228_20181227.csv'), encoding='euc-kr') , \n",
    "                pd.read_csv(os.path.join(root, 'raw_weather_20181228_20191227.csv'), encoding='euc-kr') , \n",
    "                pd.read_csv(os.path.join(root, 'raw_weather_20191228_20201227.csv'), encoding='euc-kr') , \n",
    "                pd.read_csv(os.path.join(root, 'raw_weather_20201228_20210818.csv'), encoding='euc-kr')]"
   ]
  },
  {
   "cell_type": "markdown",
   "metadata": {},
   "source": [
    "\n",
    "## Preprocess\n",
    "- '지점'에 따른 나라명 컬럼 (country) 추가\n",
    "- 각 나라, 일자 별로 평균 강수량, 풍속, 기온 계산"
   ]
  },
  {
   "cell_type": "code",
   "execution_count": 6,
   "metadata": {},
   "outputs": [],
   "source": [
    "# 지점에 따라 나라명 추가\n",
    "def set_country(row):\n",
    "    data = df_weather_code[df_weather_code['지점'] == row['지점']]\n",
    "    if data.empty:\n",
    "        return \"\"\n",
    "    return data.iloc[0]['국가명']\n",
    "\n",
    "\n",
    "def set_waterfront(row):\n",
    "    data = df_weather_code[df_weather_code['지점'] == row['지점']]\n",
    "    if data.empty or data.iloc[0]['해안가여부'] != 1:\n",
    "        return False\n",
    "    return True\n",
    "    \n",
    "\n",
    "def preprocess_weather(df):\n",
    "    df = df[(df['강수량'] >= 0) & (df['풍속'] >= 0)] # 이상치/결측치 제거\n",
    "    set_week(df, '일시')  # 날짜 정보 처리\n",
    "    \n",
    "    # 1차 평균\n",
    "    columns = ['year', 'week', '지점']\n",
    "    df['rain'] = df[columns + ['강수량']].groupby(columns).transform('mean')\n",
    "    df['wind'] = df[columns + ['풍속']].groupby(columns).transform('mean')\n",
    "    df['temperature'] = df[columns + ['기온']].groupby(columns).transform('mean')\n",
    "    \n",
    "    # 나라명 추가\n",
    "    df['CTRY_1'] = \"\"\n",
    "    for i, row in df.iterrows():\n",
    "        df.at[i, 'CTRY_1'] = set_country(row)\n",
    "    \n",
    "    # 해안가 여부 추가\n",
    "    df['is_waterfront'] = False\n",
    "    for i, row in df.iterrows():\n",
    "        df.at[i, 'is_waterfront'] = set_waterfront(row)\n",
    "        \n",
    "#     df = df[df['is_waterfront']]  # 해안가가 아닌 데이터 제외\n",
    "    \n",
    "    # 2차 평균\n",
    "    columns = ['year', 'week', 'CTRY_1']\n",
    "    df['rain'] = df[columns + ['강수량']].groupby(columns).transform('mean')\n",
    "    df['wind'] = df[columns + ['풍속']].groupby(columns).transform('mean')\n",
    "    df['temperature'] = df[columns + ['기온']].groupby(columns).transform('mean')\n",
    "\n",
    "    # 컬럼/행 정리\n",
    "    df.drop(columns=['지점명', '지점', '강수량', '풍속', '기온', 'is_waterfront'], inplace=True)\n",
    "    df.drop_duplicates(inplace=True)\n",
    "    df.reset_index(drop=True, inplace=True)\n",
    "    \n",
    "    return df"
   ]
  },
  {
   "cell_type": "code",
   "execution_count": 7,
   "metadata": {},
   "outputs": [],
   "source": [
    "for i in range(len(weather_list)):\n",
    "    weather_list[i] = preprocess_weather(weather_list[i])"
   ]
  },
  {
   "cell_type": "code",
   "execution_count": 8,
   "metadata": {},
   "outputs": [],
   "source": [
    "df_weather = pd.concat(weather_list)"
   ]
  },
  {
   "cell_type": "code",
   "execution_count": 9,
   "metadata": {},
   "outputs": [
    {
     "data": {
      "text/html": [
       "<div>\n",
       "<style scoped>\n",
       "    .dataframe tbody tr th:only-of-type {\n",
       "        vertical-align: middle;\n",
       "    }\n",
       "\n",
       "    .dataframe tbody tr th {\n",
       "        vertical-align: top;\n",
       "    }\n",
       "\n",
       "    .dataframe thead th {\n",
       "        text-align: right;\n",
       "    }\n",
       "</style>\n",
       "<table border=\"1\" class=\"dataframe\">\n",
       "  <thead>\n",
       "    <tr style=\"text-align: right;\">\n",
       "      <th></th>\n",
       "      <th>year</th>\n",
       "      <th>week</th>\n",
       "      <th>rain</th>\n",
       "      <th>wind</th>\n",
       "      <th>temperature</th>\n",
       "    </tr>\n",
       "  </thead>\n",
       "  <tbody>\n",
       "    <tr>\n",
       "      <th>count</th>\n",
       "      <td>1679.000000</td>\n",
       "      <td>1679.000000</td>\n",
       "      <td>1679.000000</td>\n",
       "      <td>1679.000000</td>\n",
       "      <td>1679.000000</td>\n",
       "    </tr>\n",
       "    <tr>\n",
       "      <th>mean</th>\n",
       "      <td>2018.232877</td>\n",
       "      <td>25.856462</td>\n",
       "      <td>5.981158</td>\n",
       "      <td>3.642640</td>\n",
       "      <td>14.906772</td>\n",
       "    </tr>\n",
       "    <tr>\n",
       "      <th>std</th>\n",
       "      <td>1.607481</td>\n",
       "      <td>15.124088</td>\n",
       "      <td>32.371218</td>\n",
       "      <td>3.200572</td>\n",
       "      <td>10.536941</td>\n",
       "    </tr>\n",
       "    <tr>\n",
       "      <th>min</th>\n",
       "      <td>2015.000000</td>\n",
       "      <td>1.000000</td>\n",
       "      <td>0.000000</td>\n",
       "      <td>0.000000</td>\n",
       "      <td>-21.600000</td>\n",
       "    </tr>\n",
       "    <tr>\n",
       "      <th>25%</th>\n",
       "      <td>2017.000000</td>\n",
       "      <td>13.000000</td>\n",
       "      <td>1.489908</td>\n",
       "      <td>1.869608</td>\n",
       "      <td>8.266627</td>\n",
       "    </tr>\n",
       "    <tr>\n",
       "      <th>50%</th>\n",
       "      <td>2018.000000</td>\n",
       "      <td>25.000000</td>\n",
       "      <td>2.750000</td>\n",
       "      <td>2.452555</td>\n",
       "      <td>15.382857</td>\n",
       "    </tr>\n",
       "    <tr>\n",
       "      <th>75%</th>\n",
       "      <td>2020.000000</td>\n",
       "      <td>39.000000</td>\n",
       "      <td>6.504304</td>\n",
       "      <td>5.111601</td>\n",
       "      <td>25.430698</td>\n",
       "    </tr>\n",
       "    <tr>\n",
       "      <th>max</th>\n",
       "      <td>2021.000000</td>\n",
       "      <td>53.000000</td>\n",
       "      <td>915.000000</td>\n",
       "      <td>60.000000</td>\n",
       "      <td>30.100000</td>\n",
       "    </tr>\n",
       "  </tbody>\n",
       "</table>\n",
       "</div>"
      ],
      "text/plain": [
       "              year         week         rain         wind  temperature\n",
       "count  1679.000000  1679.000000  1679.000000  1679.000000  1679.000000\n",
       "mean   2018.232877    25.856462     5.981158     3.642640    14.906772\n",
       "std       1.607481    15.124088    32.371218     3.200572    10.536941\n",
       "min    2015.000000     1.000000     0.000000     0.000000   -21.600000\n",
       "25%    2017.000000    13.000000     1.489908     1.869608     8.266627\n",
       "50%    2018.000000    25.000000     2.750000     2.452555    15.382857\n",
       "75%    2020.000000    39.000000     6.504304     5.111601    25.430698\n",
       "max    2021.000000    53.000000   915.000000    60.000000    30.100000"
      ]
     },
     "execution_count": 9,
     "metadata": {},
     "output_type": "execute_result"
    }
   ],
   "source": [
    "df_weather.describe()"
   ]
  },
  {
   "cell_type": "markdown",
   "metadata": {},
   "source": [
    "## Check"
   ]
  },
  {
   "cell_type": "markdown",
   "metadata": {},
   "source": [
    "결측값 확인"
   ]
  },
  {
   "cell_type": "code",
   "execution_count": 10,
   "metadata": {},
   "outputs": [
    {
     "name": "stdout",
     "output_type": "stream",
     "text": [
      "\n",
      "노르웨이 총 236 개\n",
      "missing 0 values\n",
      "\n",
      "태국 총 297 개\n",
      "(2016, 11)\n",
      "missing 1 values\n",
      "\n",
      "베트남 총 298 개\n",
      "(2016, 6)\n",
      "missing 1 values\n",
      "\n",
      "중국 총 299 개\n",
      "missing 0 values\n",
      "\n",
      "페루 총 7 개\n",
      "(2015, 53)(2016, 1)(2016, 2)(2016, 3)(2016, 4)(2016, 5)(2016, 6)(2016, 7)(2016, 8)(2016, 9)(2016, 10)(2016, 11)(2016, 12)(2016, 13)(2016, 14)(2016, 15)(2016, 16)(2016, 17)(2016, 18)(2016, 19)(2016, 20)(2016, 21)(2016, 22)(2016, 23)(2016, 24)(2016, 25)(2016, 26)(2016, 27)(2016, 28)(2016, 29)(2016, 30)(2016, 31)(2016, 32)(2016, 33)(2016, 34)(2016, 35)(2016, 36)(2016, 37)(2016, 38)(2016, 39)(2016, 40)(2016, 41)(2016, 42)(2016, 43)(2016, 44)(2016, 45)(2016, 46)(2016, 47)(2016, 48)(2016, 49)(2016, 51)(2016, 52)(2017, 1)(2017, 2)(2017, 3)(2017, 4)(2017, 5)(2017, 6)(2017, 7)(2017, 8)(2017, 9)(2017, 10)(2017, 12)(2017, 13)(2017, 14)(2017, 15)(2017, 16)(2017, 17)(2017, 18)(2017, 19)(2017, 20)(2017, 21)(2017, 22)(2017, 23)(2017, 24)(2017, 25)(2017, 26)(2017, 27)(2017, 28)(2017, 29)(2017, 30)(2017, 31)(2017, 32)(2017, 33)(2017, 34)(2017, 35)(2017, 36)(2017, 37)(2017, 38)(2017, 39)(2017, 40)(2017, 41)(2017, 42)(2017, 43)(2017, 44)(2017, 45)(2017, 46)(2017, 47)(2017, 48)(2017, 50)(2017, 51)(2017, 52)(2018, 1)(2018, 2)(2018, 3)(2018, 4)(2018, 5)(2018, 6)(2018, 8)(2018, 9)(2018, 10)(2018, 11)(2018, 12)(2018, 13)(2018, 14)(2018, 15)(2018, 16)(2018, 17)(2018, 18)(2018, 19)(2018, 20)(2018, 21)(2018, 22)(2018, 23)(2018, 24)(2018, 25)(2018, 26)(2018, 27)(2018, 28)(2018, 29)(2018, 30)(2018, 31)(2018, 32)(2018, 33)(2018, 34)(2018, 35)(2018, 36)(2018, 37)(2018, 38)(2018, 39)(2018, 40)(2018, 41)(2018, 42)(2018, 43)(2018, 44)(2018, 45)(2018, 46)(2018, 47)(2018, 48)(2018, 49)(2018, 51)(2018, 52)(2019, 1)(2019, 2)(2019, 3)(2019, 4)(2019, 5)(2019, 6)(2019, 7)(2019, 8)(2019, 9)(2019, 10)(2019, 11)(2019, 12)(2019, 13)(2019, 14)(2019, 15)(2019, 16)(2019, 17)(2019, 18)(2019, 19)(2019, 20)(2019, 21)(2019, 22)(2019, 23)(2019, 24)(2019, 25)(2019, 26)(2019, 27)(2019, 28)(2019, 29)(2019, 30)(2019, 31)(2019, 32)(2019, 33)(2019, 34)(2019, 35)(2019, 36)(2019, 37)(2019, 38)(2019, 39)(2019, 40)(2019, 41)(2019, 42)(2019, 43)(2019, 44)(2019, 45)(2019, 46)(2019, 47)(2019, 48)(2019, 50)(2019, 51)(2019, 52)(2020, 1)\n",
      "missing 204 values\n",
      "\n",
      "칠레 총 297 개\n",
      "(2016, 5)\n",
      "missing 1 values\n"
     ]
    }
   ],
   "source": [
    "for country in df_weather['CTRY_1'].unique():\n",
    "    if country == \"\":\n",
    "        continue\n",
    "    print()\n",
    "    print(country, \"총\", len(df_weather[df_weather['CTRY_1'] == country]), \"개\")\n",
    "    check_week(df_weather[df_weather['CTRY_1'] == country])"
   ]
  },
  {
   "cell_type": "markdown",
   "metadata": {},
   "source": [
    "## Filling Missing Values\n",
    "\n",
    "- 노르웨이, 중국은 결측치 없음\n",
    "- 태국, 베트남, 칠레는 결측치 1개\n",
    "> 전/차주 데이터 평균으로 채워넣기\n",
    "- 페루는 결측치 299개\n",
    "> 사용 불가로 판단"
   ]
  },
  {
   "cell_type": "code",
   "execution_count": 11,
   "metadata": {},
   "outputs": [],
   "source": [
    "# 페루 데이터 제거\n",
    "\n",
    "df_weather = df_weather[(df_weather['CTRY_1'] == '태국') | (df_weather['CTRY_1'] == '중국') | (df_weather['CTRY_1'] == '베트남') | (df_weather['CTRY_1'] == '노르웨이') | (df_weather['CTRY_1'] == '칠레')]"
   ]
  },
  {
   "cell_type": "code",
   "execution_count": 12,
   "metadata": {},
   "outputs": [],
   "source": [
    "def get_avg(year, week, country, value):\n",
    "  return (df_weather[(df_weather['year'] == year) & (df_weather['week'] == week + 1) & (df_weather['CTRY_1'] == country)].iloc[0][value] \n",
    "          + df_weather[(df_weather['year'] == year) & (df_weather['week'] == week - 1) & (df_weather['CTRY_1'] == country)].iloc[0][value]) / 2"
   ]
  },
  {
   "cell_type": "code",
   "execution_count": 13,
   "metadata": {},
   "outputs": [
    {
     "name": "stdout",
     "output_type": "stream",
     "text": [
      "\n",
      "태국 총 298 개\n",
      "missing 0 values\n",
      "\n",
      "베트남 총 299 개\n",
      "missing 0 values\n",
      "\n",
      "칠레 총 298 개\n",
      "missing 0 values\n"
     ]
    }
   ],
   "source": [
    "df_weather = df_weather.append({'year': 2016,\n",
    "                                'week': 11,\n",
    "                                'CTRY_1': '태국',\n",
    "                                'rain': get_avg(2016, 11, '태국', 'rain'),\n",
    "                                'wind': get_avg(2016, 11, '태국', 'wind'),\n",
    "                                'temperature': get_avg(2016, 11, '태국', 'temperature')},\n",
    "                               ignore_index=True)\n",
    "df_weather = df_weather.append({'year': 2016,\n",
    "                                'week': 6,\n",
    "                                'CTRY_1': '베트남',\n",
    "                                'rain': get_avg(2016, 6, '베트남', 'rain'),\n",
    "                                'wind': get_avg(2016, 6, '베트남', 'wind'),\n",
    "                                'temperature': get_avg(2016, 6, '베트남', 'temperature')},\n",
    "                               ignore_index=True)\n",
    "df_weather = df_weather.append({'year': 2016,\n",
    "                                'week': 5,\n",
    "                                'CTRY_1': '칠레',\n",
    "                                'rain': get_avg(2016, 5, '칠레', 'rain'),\n",
    "                                'wind': get_avg(2016, 5, '칠레', 'wind'),\n",
    "                                'temperature': get_avg(2016, 5, '칠레', 'temperature')},\n",
    "                               ignore_index=True)\n",
    "\n",
    "for country in [\"태국\", \"베트남\", \"칠레\"]:\n",
    "    print()\n",
    "    print(country, \"총\", len(df_weather[df_weather['CTRY_1'] == country]), \"개\")\n",
    "    check_week(df_weather[df_weather['CTRY_1'] == country])"
   ]
  },
  {
   "cell_type": "markdown",
   "metadata": {
    "id": "acx-1jLF7TKt"
   },
   "source": [
    "# Oil"
   ]
  },
  {
   "cell_type": "markdown",
   "metadata": {
    "id": "oCJclrSZ7TKt"
   },
   "source": [
    "## Import Data"
   ]
  },
  {
   "cell_type": "code",
   "execution_count": 14,
   "metadata": {
    "id": "rZoXA4Hq7TKt"
   },
   "outputs": [],
   "source": [
    "df_oil = pd.read_csv(os.path.join(root, 'raw_oil.csv'), usecols=[\"날짜\", \"종가\"])\n",
    "df_oil_dubai = pd.read_csv(os.path.join(root, 'raw_oil_dubai.csv'), usecols=[\"날짜\", \"종가\"])\n",
    "df_oil_brent = pd.read_csv(os.path.join(root, 'raw_oil_brent.csv'), usecols=[\"날짜\", \"종가\"])"
   ]
  },
  {
   "cell_type": "markdown",
   "metadata": {
    "id": "r5qohDxB7TKt"
   },
   "source": [
    "## Preprocess"
   ]
  },
  {
   "cell_type": "code",
   "execution_count": 15,
   "metadata": {
    "id": "B6fv1TdP7TKt"
   },
   "outputs": [],
   "source": [
    "from datetime import datetime\n",
    "def preprocess_oil(df):\n",
    "    df['date'] = pd.to_datetime(df['날짜'].str[:4] + df['날짜'].str[6:8] + df['날짜'].str[10:12])\n",
    "    set_week(df, 'date')  # 날짜 데이터 정리\n",
    "    df['oil'] = df[['year', 'week', '종가']].groupby(['year', 'week']).transform('mean')\n",
    "    df.drop(columns = ['날짜', '종가'], inplace=True, axis=1)\n",
    "    df.drop_duplicates(inplace=True)\n",
    "    return df"
   ]
  },
  {
   "cell_type": "code",
   "execution_count": 16,
   "metadata": {
    "id": "K9anYpOM7TKt",
    "scrolled": false
   },
   "outputs": [],
   "source": [
    "df_oil = preprocess_oil(df_oil)\n",
    "df_oil_dubai = preprocess_oil(df_oil_dubai)\n",
    "df_oil_brent = preprocess_oil(df_oil_brent)"
   ]
  },
  {
   "cell_type": "markdown",
   "metadata": {
    "id": "pyvGCh4F7TKt"
   },
   "source": [
    "## Check"
   ]
  },
  {
   "cell_type": "code",
   "execution_count": 17,
   "metadata": {
    "id": "z65asRITx3tD"
   },
   "outputs": [],
   "source": [
    "for i in range(1, 53):\n",
    "    if i not in (list(df_oil_brent[df_oil_brent['year'] == 2019].sort_values(by=['year', 'week'])['week'])):\n",
    "        print(i)"
   ]
  },
  {
   "cell_type": "code",
   "execution_count": 18,
   "metadata": {
    "colab": {
     "base_uri": "https://localhost:8080/"
    },
    "id": "bMwUgDPN7TKt",
    "outputId": "e8b1c4cb-be61-423a-a902-fd7aa39f9e41"
   },
   "outputs": [
    {
     "name": "stdout",
     "output_type": "stream",
     "text": [
      "missing 0 values\n",
      "missing 0 values\n",
      "missing 0 values\n"
     ]
    }
   ],
   "source": [
    "check_week(df_oil)\n",
    "check_week(df_oil_dubai)\n",
    "check_week(df_oil_brent)"
   ]
  },
  {
   "cell_type": "markdown",
   "metadata": {},
   "source": [
    "oil과 비교하였을 때 dubai의 경우 28개, brent의 경우 3개의 데이터가 적다  \n",
    "따라서 df_oil 데이터를 사용하도록 한다"
   ]
  },
  {
   "cell_type": "markdown",
   "metadata": {
    "id": "piIkfoXt7TKu"
   },
   "source": [
    "---"
   ]
  },
  {
   "cell_type": "markdown",
   "metadata": {
    "id": "B1Ds8aYs7TKu"
   },
   "source": [
    "# Korea Weather"
   ]
  },
  {
   "cell_type": "markdown",
   "metadata": {
    "id": "5XbJR-Ul7TKu"
   },
   "source": [
    "## Import Data"
   ]
  },
  {
   "cell_type": "code",
   "execution_count": 19,
   "metadata": {
    "id": "pb-geJf27TKu"
   },
   "outputs": [],
   "source": [
    "df_weather_kr = pd.read_csv(os.path.join(root, 'raw_weather_korea.csv'),\n",
    "                            encoding='euc-kr',\n",
    "                            usecols=[\"일시\", \"평균 풍속(m/s)\", \"평균 기온(°C)\", \"평균 수온(°C)\"])"
   ]
  },
  {
   "cell_type": "markdown",
   "metadata": {
    "id": "FlOKa7c37TKu"
   },
   "source": [
    "## Preprocess Date"
   ]
  },
  {
   "cell_type": "code",
   "execution_count": 20,
   "metadata": {
    "id": "thyMSwfu7TKu"
   },
   "outputs": [],
   "source": [
    "df_weather_kr['date'] = pd.to_datetime(df_weather_kr['일시'].str[:4] + df_weather_kr['일시'].str[5:7] + df_weather_kr['일시'].str[8:])\n",
    "set_week(df_weather_kr, 'date')"
   ]
  },
  {
   "cell_type": "code",
   "execution_count": 21,
   "metadata": {
    "colab": {
     "base_uri": "https://localhost:8080/",
     "height": 295
    },
    "id": "PYr3iVK6CMnl",
    "outputId": "151166ab-8349-4cf0-eeec-0b32a37079f1"
   },
   "outputs": [
    {
     "data": {
      "text/html": [
       "<div>\n",
       "<style scoped>\n",
       "    .dataframe tbody tr th:only-of-type {\n",
       "        vertical-align: middle;\n",
       "    }\n",
       "\n",
       "    .dataframe tbody tr th {\n",
       "        vertical-align: top;\n",
       "    }\n",
       "\n",
       "    .dataframe thead th {\n",
       "        text-align: right;\n",
       "    }\n",
       "</style>\n",
       "<table border=\"1\" class=\"dataframe\">\n",
       "  <thead>\n",
       "    <tr style=\"text-align: right;\">\n",
       "      <th></th>\n",
       "      <th>평균 풍속(m/s)</th>\n",
       "      <th>평균 기온(°C)</th>\n",
       "      <th>평균 수온(°C)</th>\n",
       "      <th>year</th>\n",
       "      <th>week</th>\n",
       "    </tr>\n",
       "  </thead>\n",
       "  <tbody>\n",
       "    <tr>\n",
       "      <th>count</th>\n",
       "      <td>35181.000000</td>\n",
       "      <td>35107.000000</td>\n",
       "      <td>35300.000000</td>\n",
       "      <td>35558.000000</td>\n",
       "      <td>35558.000000</td>\n",
       "    </tr>\n",
       "    <tr>\n",
       "      <th>mean</th>\n",
       "      <td>5.732987</td>\n",
       "      <td>14.845689</td>\n",
       "      <td>16.884377</td>\n",
       "      <td>2018.369143</td>\n",
       "      <td>25.531554</td>\n",
       "    </tr>\n",
       "    <tr>\n",
       "      <th>std</th>\n",
       "      <td>2.705727</td>\n",
       "      <td>7.573504</td>\n",
       "      <td>5.945493</td>\n",
       "      <td>1.627939</td>\n",
       "      <td>15.146644</td>\n",
       "    </tr>\n",
       "    <tr>\n",
       "      <th>min</th>\n",
       "      <td>0.000000</td>\n",
       "      <td>-11.100000</td>\n",
       "      <td>1.100000</td>\n",
       "      <td>2015.000000</td>\n",
       "      <td>1.000000</td>\n",
       "    </tr>\n",
       "    <tr>\n",
       "      <th>25%</th>\n",
       "      <td>3.600000</td>\n",
       "      <td>8.800000</td>\n",
       "      <td>13.000000</td>\n",
       "      <td>2017.000000</td>\n",
       "      <td>13.000000</td>\n",
       "    </tr>\n",
       "    <tr>\n",
       "      <th>50%</th>\n",
       "      <td>5.400000</td>\n",
       "      <td>15.100000</td>\n",
       "      <td>16.600000</td>\n",
       "      <td>2018.000000</td>\n",
       "      <td>24.000000</td>\n",
       "    </tr>\n",
       "    <tr>\n",
       "      <th>75%</th>\n",
       "      <td>7.500000</td>\n",
       "      <td>21.000000</td>\n",
       "      <td>21.400000</td>\n",
       "      <td>2020.000000</td>\n",
       "      <td>39.000000</td>\n",
       "    </tr>\n",
       "    <tr>\n",
       "      <th>max</th>\n",
       "      <td>19.600000</td>\n",
       "      <td>34.600000</td>\n",
       "      <td>31.500000</td>\n",
       "      <td>2021.000000</td>\n",
       "      <td>53.000000</td>\n",
       "    </tr>\n",
       "  </tbody>\n",
       "</table>\n",
       "</div>"
      ],
      "text/plain": [
       "         평균 풍속(m/s)     평균 기온(°C)     평균 수온(°C)          year          week\n",
       "count  35181.000000  35107.000000  35300.000000  35558.000000  35558.000000\n",
       "mean       5.732987     14.845689     16.884377   2018.369143     25.531554\n",
       "std        2.705727      7.573504      5.945493      1.627939     15.146644\n",
       "min        0.000000    -11.100000      1.100000   2015.000000      1.000000\n",
       "25%        3.600000      8.800000     13.000000   2017.000000     13.000000\n",
       "50%        5.400000     15.100000     16.600000   2018.000000     24.000000\n",
       "75%        7.500000     21.000000     21.400000   2020.000000     39.000000\n",
       "max       19.600000     34.600000     31.500000   2021.000000     53.000000"
      ]
     },
     "execution_count": 21,
     "metadata": {},
     "output_type": "execute_result"
    }
   ],
   "source": [
    "df_weather_kr.describe()"
   ]
  },
  {
   "cell_type": "markdown",
   "metadata": {
    "id": "kYt6KcQk7TKu"
   },
   "source": [
    "## Group\n",
    "일자 별로 평균 구하기"
   ]
  },
  {
   "cell_type": "code",
   "execution_count": 22,
   "metadata": {
    "id": "aihGWxu47TKu"
   },
   "outputs": [],
   "source": [
    "df_weather_kr['wind_kr'] = df_weather_kr[['year', 'week', '평균 풍속(m/s)']].groupby(['year', 'week']).transform('mean')\n",
    "df_weather_kr['temperature_kr'] = df_weather_kr[['year', 'week', '평균 기온(°C)']].groupby(['year', 'week']).transform('mean')\n",
    "df_weather_kr['water_temp_kr'] = df_weather_kr[['year', 'week', '평균 수온(°C)']].groupby(['year', 'week']).transform('mean')"
   ]
  },
  {
   "cell_type": "markdown",
   "metadata": {
    "id": "iRuMRtrf7TKu"
   },
   "source": [
    "## Drop Column"
   ]
  },
  {
   "cell_type": "code",
   "execution_count": 23,
   "metadata": {
    "id": "e1Yd77_L7TKu"
   },
   "outputs": [],
   "source": [
    "drop = ['일시', '평균 풍속(m/s)', '평균 기온(°C)', '평균 수온(°C)']"
   ]
  },
  {
   "cell_type": "code",
   "execution_count": 24,
   "metadata": {
    "id": "cDy5qdfk7TKv"
   },
   "outputs": [],
   "source": [
    "df_weather_kr.drop(columns=drop, inplace=True, axis=1)\n",
    "df_weather_kr.drop_duplicates(inplace=True)"
   ]
  },
  {
   "cell_type": "markdown",
   "metadata": {
    "id": "19HD2UlJ1asv"
   },
   "source": [
    "## Check"
   ]
  },
  {
   "cell_type": "code",
   "execution_count": 25,
   "metadata": {
    "colab": {
     "base_uri": "https://localhost:8080/"
    },
    "id": "T-Oxuayn1ZUr",
    "outputId": "45d17c96-b8e4-4a6e-9bde-5a4211fc3df8"
   },
   "outputs": [
    {
     "name": "stdout",
     "output_type": "stream",
     "text": [
      "missing 0 values\n"
     ]
    }
   ],
   "source": [
    "check_week(df_weather_kr)"
   ]
  },
  {
   "cell_type": "code",
   "execution_count": 26,
   "metadata": {
    "colab": {
     "base_uri": "https://localhost:8080/",
     "height": 295
    },
    "id": "I6E5uG3qB3N4",
    "outputId": "02e44068-f900-4ca3-baa8-e624806ae95f"
   },
   "outputs": [
    {
     "data": {
      "text/html": [
       "<div>\n",
       "<style scoped>\n",
       "    .dataframe tbody tr th:only-of-type {\n",
       "        vertical-align: middle;\n",
       "    }\n",
       "\n",
       "    .dataframe tbody tr th {\n",
       "        vertical-align: top;\n",
       "    }\n",
       "\n",
       "    .dataframe thead th {\n",
       "        text-align: right;\n",
       "    }\n",
       "</style>\n",
       "<table border=\"1\" class=\"dataframe\">\n",
       "  <thead>\n",
       "    <tr style=\"text-align: right;\">\n",
       "      <th></th>\n",
       "      <th>year</th>\n",
       "      <th>week</th>\n",
       "      <th>wind_kr</th>\n",
       "      <th>temperature_kr</th>\n",
       "      <th>water_temp_kr</th>\n",
       "    </tr>\n",
       "  </thead>\n",
       "  <tbody>\n",
       "    <tr>\n",
       "      <th>count</th>\n",
       "      <td>288.000000</td>\n",
       "      <td>288.000000</td>\n",
       "      <td>288.000000</td>\n",
       "      <td>288.000000</td>\n",
       "      <td>288.000000</td>\n",
       "    </tr>\n",
       "    <tr>\n",
       "      <th>mean</th>\n",
       "      <td>2018.267361</td>\n",
       "      <td>25.510417</td>\n",
       "      <td>5.723881</td>\n",
       "      <td>14.920397</td>\n",
       "      <td>16.953522</td>\n",
       "    </tr>\n",
       "    <tr>\n",
       "      <th>std</th>\n",
       "      <td>1.612682</td>\n",
       "      <td>15.112121</td>\n",
       "      <td>1.340964</td>\n",
       "      <td>7.177077</td>\n",
       "      <td>5.321755</td>\n",
       "    </tr>\n",
       "    <tr>\n",
       "      <th>min</th>\n",
       "      <td>2015.000000</td>\n",
       "      <td>1.000000</td>\n",
       "      <td>2.706723</td>\n",
       "      <td>-0.529915</td>\n",
       "      <td>8.389899</td>\n",
       "    </tr>\n",
       "    <tr>\n",
       "      <th>25%</th>\n",
       "      <td>2017.000000</td>\n",
       "      <td>12.750000</td>\n",
       "      <td>4.763866</td>\n",
       "      <td>8.648878</td>\n",
       "      <td>12.088782</td>\n",
       "    </tr>\n",
       "    <tr>\n",
       "      <th>50%</th>\n",
       "      <td>2018.000000</td>\n",
       "      <td>24.500000</td>\n",
       "      <td>5.668908</td>\n",
       "      <td>14.792355</td>\n",
       "      <td>16.279115</td>\n",
       "    </tr>\n",
       "    <tr>\n",
       "      <th>75%</th>\n",
       "      <td>2020.000000</td>\n",
       "      <td>38.250000</td>\n",
       "      <td>6.656410</td>\n",
       "      <td>21.312062</td>\n",
       "      <td>21.471801</td>\n",
       "    </tr>\n",
       "    <tr>\n",
       "      <th>max</th>\n",
       "      <td>2021.000000</td>\n",
       "      <td>53.000000</td>\n",
       "      <td>9.819643</td>\n",
       "      <td>28.610924</td>\n",
       "      <td>28.495798</td>\n",
       "    </tr>\n",
       "  </tbody>\n",
       "</table>\n",
       "</div>"
      ],
      "text/plain": [
       "              year        week     wind_kr  temperature_kr  water_temp_kr\n",
       "count   288.000000  288.000000  288.000000      288.000000     288.000000\n",
       "mean   2018.267361   25.510417    5.723881       14.920397      16.953522\n",
       "std       1.612682   15.112121    1.340964        7.177077       5.321755\n",
       "min    2015.000000    1.000000    2.706723       -0.529915       8.389899\n",
       "25%    2017.000000   12.750000    4.763866        8.648878      12.088782\n",
       "50%    2018.000000   24.500000    5.668908       14.792355      16.279115\n",
       "75%    2020.000000   38.250000    6.656410       21.312062      21.471801\n",
       "max    2021.000000   53.000000    9.819643       28.610924      28.495798"
      ]
     },
     "execution_count": 26,
     "metadata": {},
     "output_type": "execute_result"
    }
   ],
   "source": [
    "df_weather_kr.describe()"
   ]
  },
  {
   "cell_type": "markdown",
   "metadata": {
    "id": "0s4waw097TKv"
   },
   "source": [
    "---"
   ]
  },
  {
   "cell_type": "markdown",
   "metadata": {
    "id": "L0rIG3y37TKv"
   },
   "source": [
    "# CPI"
   ]
  },
  {
   "cell_type": "markdown",
   "metadata": {
    "id": "UEjWmwdM7TKv"
   },
   "source": [
    "## Import Data"
   ]
  },
  {
   "cell_type": "code",
   "execution_count": 27,
   "metadata": {
    "id": "TcpeFP4j7TKv"
   },
   "outputs": [],
   "source": [
    "df_cpi_total = pd.read_csv(os.path.join(root, 'raw_cpi_total.csv'), encoding='cp949')  # 총 소비자물가지수\n",
    "df_cpi_fish =  pd.read_csv(os.path.join(root, 'raw_cpi_fish.csv'), encoding='cp949')  # 수산물 소비자물가지수"
   ]
  },
  {
   "cell_type": "markdown",
   "metadata": {
    "id": "lusxs6UZF3mJ"
   },
   "source": [
    "## Drop Columns/Rows"
   ]
  },
  {
   "cell_type": "code",
   "execution_count": 28,
   "metadata": {
    "id": "hF_PHjpdEWk6"
   },
   "outputs": [],
   "source": [
    "df_cpi_total = df_cpi_total[df_cpi_total['지출목적별'] == \"0 총지수\"].drop(columns=['시도별', '지출목적별'], axis=1)\n",
    "df_cpi_fish = df_cpi_fish[df_cpi_fish['지출목적별'] == \"어류 및 수산\"].drop(columns=['Unnamed: 0', '지출목적별'], axis=1)"
   ]
  },
  {
   "cell_type": "markdown",
   "metadata": {
    "id": "REUhHqUwFswV"
   },
   "source": [
    "## Pivoting"
   ]
  },
  {
   "cell_type": "code",
   "execution_count": 29,
   "metadata": {
    "id": "Lh9ukySVGwqj"
   },
   "outputs": [],
   "source": [
    "df_cpi_total = df_cpi_total.transpose().reset_index()\n",
    "df_cpi_fish = df_cpi_fish.transpose().reset_index()"
   ]
  },
  {
   "cell_type": "markdown",
   "metadata": {
    "id": "QGJgwihSPlb4"
   },
   "source": [
    "## Rename"
   ]
  },
  {
   "cell_type": "code",
   "execution_count": 30,
   "metadata": {
    "colab": {
     "base_uri": "https://localhost:8080/"
    },
    "id": "CO-DsgxoPltd",
    "outputId": "c3db3691-0637-493a-d39f-ba8de436e72a"
   },
   "outputs": [
    {
     "name": "stdout",
     "output_type": "stream",
     "text": [
      "Index(['index', 'cpi_total'], dtype='object') Index(['index', 'cpi_fish'], dtype='object')\n"
     ]
    }
   ],
   "source": [
    "df_cpi_total.rename(columns={0: 'cpi_total'}, inplace=True)\n",
    "df_cpi_fish.rename(columns={0: 'cpi_fish'}, inplace=True)\n",
    "print(df_cpi_total.columns, df_cpi_fish.columns)"
   ]
  },
  {
   "cell_type": "markdown",
   "metadata": {
    "id": "enlfpfJd7TKw"
   },
   "source": [
    "## Preprocess Date"
   ]
  },
  {
   "cell_type": "code",
   "execution_count": 31,
   "metadata": {
    "id": "6-jU3p587TKw"
   },
   "outputs": [],
   "source": [
    "df_cpi_total['year'] = df_cpi_total['index'].str[:4].astype('int')\n",
    "df_cpi_total['month'] = df_cpi_total['index'].str[6:8].astype('int')\n",
    "df_cpi_fish['year'] = df_cpi_fish['index'].str[:4].astype('int')\n",
    "df_cpi_fish['month'] = df_cpi_fish['index'].str[6:8].astype('int')"
   ]
  },
  {
   "cell_type": "code",
   "execution_count": 32,
   "metadata": {},
   "outputs": [
    {
     "data": {
      "text/html": [
       "<div>\n",
       "<style scoped>\n",
       "    .dataframe tbody tr th:only-of-type {\n",
       "        vertical-align: middle;\n",
       "    }\n",
       "\n",
       "    .dataframe tbody tr th {\n",
       "        vertical-align: top;\n",
       "    }\n",
       "\n",
       "    .dataframe thead th {\n",
       "        text-align: right;\n",
       "    }\n",
       "</style>\n",
       "<table border=\"1\" class=\"dataframe\">\n",
       "  <thead>\n",
       "    <tr style=\"text-align: right;\">\n",
       "      <th></th>\n",
       "      <th>index</th>\n",
       "      <th>cpi_fish</th>\n",
       "      <th>year</th>\n",
       "      <th>month</th>\n",
       "    </tr>\n",
       "  </thead>\n",
       "  <tbody>\n",
       "    <tr>\n",
       "      <th>0</th>\n",
       "      <td>2015. 12 월</td>\n",
       "      <td>101.26</td>\n",
       "      <td>2015</td>\n",
       "      <td>12</td>\n",
       "    </tr>\n",
       "    <tr>\n",
       "      <th>1</th>\n",
       "      <td>2016. 01 월</td>\n",
       "      <td>100.76</td>\n",
       "      <td>2016</td>\n",
       "      <td>1</td>\n",
       "    </tr>\n",
       "    <tr>\n",
       "      <th>2</th>\n",
       "      <td>2016. 02 월</td>\n",
       "      <td>102.30</td>\n",
       "      <td>2016</td>\n",
       "      <td>2</td>\n",
       "    </tr>\n",
       "    <tr>\n",
       "      <th>3</th>\n",
       "      <td>2016. 03 월</td>\n",
       "      <td>102.23</td>\n",
       "      <td>2016</td>\n",
       "      <td>3</td>\n",
       "    </tr>\n",
       "    <tr>\n",
       "      <th>4</th>\n",
       "      <td>2016. 04 월</td>\n",
       "      <td>102.73</td>\n",
       "      <td>2016</td>\n",
       "      <td>4</td>\n",
       "    </tr>\n",
       "    <tr>\n",
       "      <th>...</th>\n",
       "      <td>...</td>\n",
       "      <td>...</td>\n",
       "      <td>...</td>\n",
       "      <td>...</td>\n",
       "    </tr>\n",
       "    <tr>\n",
       "      <th>63</th>\n",
       "      <td>2021. 03 월</td>\n",
       "      <td>121.67</td>\n",
       "      <td>2021</td>\n",
       "      <td>3</td>\n",
       "    </tr>\n",
       "    <tr>\n",
       "      <th>64</th>\n",
       "      <td>2021. 04 월</td>\n",
       "      <td>121.79</td>\n",
       "      <td>2021</td>\n",
       "      <td>4</td>\n",
       "    </tr>\n",
       "    <tr>\n",
       "      <th>65</th>\n",
       "      <td>2021. 05 월</td>\n",
       "      <td>122.01</td>\n",
       "      <td>2021</td>\n",
       "      <td>5</td>\n",
       "    </tr>\n",
       "    <tr>\n",
       "      <th>66</th>\n",
       "      <td>2021. 06 월</td>\n",
       "      <td>121.50</td>\n",
       "      <td>2021</td>\n",
       "      <td>6</td>\n",
       "    </tr>\n",
       "    <tr>\n",
       "      <th>67</th>\n",
       "      <td>2021. 07 월</td>\n",
       "      <td>120.08</td>\n",
       "      <td>2021</td>\n",
       "      <td>7</td>\n",
       "    </tr>\n",
       "  </tbody>\n",
       "</table>\n",
       "<p>68 rows × 4 columns</p>\n",
       "</div>"
      ],
      "text/plain": [
       "         index  cpi_fish  year  month\n",
       "0   2015. 12 월    101.26  2015     12\n",
       "1   2016. 01 월    100.76  2016      1\n",
       "2   2016. 02 월    102.30  2016      2\n",
       "3   2016. 03 월    102.23  2016      3\n",
       "4   2016. 04 월    102.73  2016      4\n",
       "..         ...       ...   ...    ...\n",
       "63  2021. 03 월    121.67  2021      3\n",
       "64  2021. 04 월    121.79  2021      4\n",
       "65  2021. 05 월    122.01  2021      5\n",
       "66  2021. 06 월    121.50  2021      6\n",
       "67  2021. 07 월    120.08  2021      7\n",
       "\n",
       "[68 rows x 4 columns]"
      ]
     },
     "execution_count": 32,
     "metadata": {},
     "output_type": "execute_result"
    }
   ],
   "source": [
    "df_cpi_fish"
   ]
  },
  {
   "cell_type": "code",
   "execution_count": 33,
   "metadata": {
    "id": "9knYxqj1QBB4"
   },
   "outputs": [],
   "source": [
    "df_cpi_total.drop(columns=['index'], inplace=True)\n",
    "df_cpi_fish.drop(columns=['index'], inplace=True)"
   ]
  },
  {
   "cell_type": "code",
   "execution_count": 34,
   "metadata": {
    "id": "zL3UwmEYWMV3"
   },
   "outputs": [],
   "source": [
    "# Merge df\n",
    "df_cpi = pd.merge(left=df_cpi_total, right=df_cpi_fish, how='left', on=['year', 'month'])"
   ]
  },
  {
   "cell_type": "code",
   "execution_count": 35,
   "metadata": {
    "id": "Fcbh6z9wQJ7j"
   },
   "outputs": [],
   "source": [
    "# create days by duplicating data\n",
    "new_df = pd.DataFrame(columns=list(df_cpi.columns) + ['day'])\n",
    "for i, row in df_cpi.iterrows():\n",
    "    data = df_cpi.iloc[i]\n",
    "    year, month, cpi_total, cpi_fish = data['year'].astype('int'), data['month'].astype('int'), data['cpi_total'], data['cpi_fish']\n",
    "    for day in range(1, monthrange(year, month)[1]+1):\n",
    "        if datetime(year, month, day).weekday() == 0:\n",
    "            new_df = new_df.append({'year': str(year),\n",
    "                                    'month': str(month),\n",
    "                                    'day': str(day),\n",
    "                                    'cpi_total': cpi_total,\n",
    "                                    'cpi_fish': cpi_fish},\n",
    "                                   ignore_index=True)\n",
    "df_cpi = new_df"
   ]
  },
  {
   "cell_type": "code",
   "execution_count": 36,
   "metadata": {
    "id": "H0I8nPSbXo_6"
   },
   "outputs": [],
   "source": [
    "df_cpi['date'] = df_cpi['year'] + \" \" + df_cpi['month'] + \" \" + df_cpi['day']"
   ]
  },
  {
   "cell_type": "code",
   "execution_count": 37,
   "metadata": {
    "id": "ZJeiNFrxUGsO"
   },
   "outputs": [],
   "source": [
    "set_week(df_cpi, 'date')"
   ]
  },
  {
   "cell_type": "markdown",
   "metadata": {
    "id": "SQpsIQIrZPEC"
   },
   "source": [
    "## 정리\n",
    "- drop unused columns\n",
    "- drop duplicates"
   ]
  },
  {
   "cell_type": "code",
   "execution_count": 38,
   "metadata": {
    "id": "NYgW8AoDZTCq"
   },
   "outputs": [],
   "source": [
    "df_cpi.drop(columns=['month', 'day'], inplace=True)\n",
    "df_cpi.drop_duplicates(inplace=True)"
   ]
  },
  {
   "cell_type": "markdown",
   "metadata": {
    "id": "RBBvzPtnZnwB"
   },
   "source": [
    "## Check"
   ]
  },
  {
   "cell_type": "code",
   "execution_count": 39,
   "metadata": {
    "colab": {
     "base_uri": "https://localhost:8080/"
    },
    "id": "sBQGda0rZvNu",
    "outputId": "cb00be39-e1db-4166-ccb2-a95e983d5699"
   },
   "outputs": [
    {
     "name": "stdout",
     "output_type": "stream",
     "text": [
      "missing 0 values\n"
     ]
    }
   ],
   "source": [
    "check_week(df_cpi)"
   ]
  },
  {
   "cell_type": "markdown",
   "metadata": {
    "id": "PBX2gc1s7TKw"
   },
   "source": [
    "---"
   ]
  },
  {
   "cell_type": "markdown",
   "metadata": {
    "id": "ab1cLSdYgDik"
   },
   "source": [
    "# Exchange Rate"
   ]
  },
  {
   "cell_type": "code",
   "execution_count": 40,
   "metadata": {
    "id": "gTClsJLbbeqm"
   },
   "outputs": [],
   "source": [
    "exchange_list = [pd.read_csv(os.path.join(root, 'raw_exchange_chile.csv'), usecols=[\"날짜\", \"종가\"]),\n",
    "                 pd.read_csv(os.path.join(root, 'raw_exchange_china.csv'), usecols=[\"날짜\", \"종가\"]),\n",
    "                 pd.read_csv(os.path.join(root, 'raw_exchange_norway.csv'), usecols=[\"날짜\", \"종가\"]),\n",
    "                 pd.read_csv(os.path.join(root, 'raw_exchange_peru.csv'), usecols=[\"날짜\", \"종가\"]),\n",
    "                 pd.read_csv(os.path.join(root, 'raw_exchange_thai.csv'), usecols=[\"날짜\", \"종가\"]),\n",
    "                 pd.read_csv(os.path.join(root, 'raw_exchange_vietnam.csv'), usecols=[\"날짜\", \"종가\"])]"
   ]
  },
  {
   "cell_type": "code",
   "execution_count": 41,
   "metadata": {
    "colab": {
     "base_uri": "https://localhost:8080/"
    },
    "id": "BS_RMcz0beuL",
    "outputId": "91188410-3cc8-4f25-eaa5-5915aa55d613"
   },
   "outputs": [
    {
     "name": "stdout",
     "output_type": "stream",
     "text": [
      "missing 0 values\n",
      "missing 0 values\n",
      "missing 0 values\n",
      "missing 0 values\n",
      "missing 0 values\n",
      "missing 0 values\n"
     ]
    }
   ],
   "source": [
    "ctry_name = ['칠레', '중국', '노르웨이', '페루', '태국', '베트남']\n",
    "for i in range(len(exchange_list)):\n",
    "    set_week(exchange_list[i], '날짜')\n",
    "    check_week(exchange_list[i])\n",
    "    exchange_list[i]['CTRY_2'] = ctry_name[i]"
   ]
  },
  {
   "cell_type": "code",
   "execution_count": 42,
   "metadata": {
    "id": "5A9rExQtbez_"
   },
   "outputs": [],
   "source": [
    "df_exchange = pd.concat(exchange_list)"
   ]
  },
  {
   "cell_type": "markdown",
   "metadata": {
    "id": "kQnUtRKifd83"
   },
   "source": [
    "## Rename"
   ]
  },
  {
   "cell_type": "code",
   "execution_count": 43,
   "metadata": {
    "id": "4bMF2PAcfeIg"
   },
   "outputs": [],
   "source": [
    "df_exchange.rename(columns={\"종가\": 'exchange'}, inplace=True)"
   ]
  },
  {
   "cell_type": "markdown",
   "metadata": {
    "id": "tgHQpmnw7TKx"
   },
   "source": [
    "## Save Files"
   ]
  },
  {
   "cell_type": "code",
   "execution_count": 44,
   "metadata": {
    "id": "qbtEbNmE7TKx"
   },
   "outputs": [],
   "source": [
    "def save_file(df, file_name):\n",
    "    df.to_csv(os.path.join(root, file_name), encoding='utf-8', index=False)"
   ]
  },
  {
   "cell_type": "code",
   "execution_count": 45,
   "metadata": {
    "id": "x2Ynh9N27TKx"
   },
   "outputs": [],
   "source": [
    "save_file(df_weather, 'preprocessed_weather.csv')  # 세계 날씨\n",
    "save_file(df_oil, 'preprocessed_oil.csv')  # 원유 종가\n",
    "save_file(df_weather_kr, 'preprocessed_weather_korea.csv')  # 한국 날씨\n",
    "save_file(df_cpi, 'preprocessed_cpi.csv')  # 소비자물가지수\n",
    "save_file(df_exchange, 'preprocessed_exchange.csv')  # 환율"
   ]
  },
  {
   "cell_type": "markdown",
   "metadata": {
    "id": "EJzpvZz-7TKx"
   },
   "source": [
    "# 끝"
   ]
  }
 ],
 "metadata": {
  "colab": {
   "collapsed_sections": [
    "Ui7PhQlm7TKw",
    "9TjOq4PM7TKx",
    "tgHQpmnw7TKx"
   ],
   "name": "민서_Preprocessing.ipynb",
   "provenance": [],
   "toc_visible": true
  },
  "kernelspec": {
   "display_name": "Python 3",
   "language": "python",
   "name": "python3"
  },
  "language_info": {
   "codemirror_mode": {
    "name": "ipython",
    "version": 3
   },
   "file_extension": ".py",
   "mimetype": "text/x-python",
   "name": "python",
   "nbconvert_exporter": "python",
   "pygments_lexer": "ipython3",
   "version": "3.8.11"
  }
 },
 "nbformat": 4,
 "nbformat_minor": 1
}
