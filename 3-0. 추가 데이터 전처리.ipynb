{
 "cells": [
  {
   "cell_type": "markdown",
   "metadata": {
    "id": "_j8o6xiGgK6P"
   },
   "source": [
    "# Setting"
   ]
  },
  {
   "cell_type": "markdown",
   "metadata": {
    "id": "DACPIbVx7TKg"
   },
   "source": [
    "## Import Library"
   ]
  },
  {
   "cell_type": "code",
   "execution_count": 1,
   "metadata": {
    "id": "83--jW2p7TKi"
   },
   "outputs": [],
   "source": [
    "# Import Libraries\n",
    "import os\n",
    "import pandas as pd\n",
    "import numpy as np\n",
    "from scipy.stats import norm\n",
    "from sklearn.preprocessing import StandardScaler\n",
    "from scipy import stats\n",
    "import warnings\n",
    "warnings.filterwarnings('ignore')\n",
    "%matplotlib inline\n",
    "\n",
    "# Date\n",
    "from calendar import monthrange\n",
    "from datetime import date, datetime\n",
    "\n",
    "# Visuzliation Setting\n",
    "import matplotlib.pyplot as plt\n",
    "import matplotlib.font_manager as fm\n",
    "from matplotlib import rc\n",
    "from matplotlib import colors\n",
    "import seaborn as sns"
   ]
  },
  {
   "cell_type": "markdown",
   "metadata": {
    "id": "43BkbSt4gRib"
   },
   "source": [
    "## Set Date Functions\n",
    "모든 데이터에 대한 주차별 데이터를 사용할 예정이므로  \n",
    "날짜 정보를 주차 컬럼으로 변경하는 함수 정의"
   ]
  },
  {
   "cell_type": "code",
   "execution_count": 2,
   "metadata": {
    "id": "FODjTCUA-j7r"
   },
   "outputs": [],
   "source": [
    "from datetime import date, timedelta\n",
    "\n",
    "\n",
    "def set_week(df, date):\n",
    "    '''\n",
    "    df : datetime 형식의 컬럼을 가지고 있는 dataframe\n",
    "    date : df에서 datetime 형식을 가진 컬럼명\n",
    "    return : date의 연도 컬럼과 주차 컬럼을 추가한 dataframe\n",
    "    '''\n",
    "    df[date] = pd.to_datetime(df[date])\n",
    "    df[date] = df[date].dt.date\n",
    "    df['year'] = df.apply(func=lambda x: x[date].isocalendar()[0], axis=1)\n",
    "    df['week'] = df.apply(func=lambda x: x[date].isocalendar()[1], axis=1)\n",
    "    df.drop(date, axis=1, inplace=True)\n",
    "    \n",
    "\n",
    "def check_week(df):\n",
    "    '''\n",
    "    df에 date가 전부 있는지 확인\n",
    "    '''\n",
    "    cnt = 0\n",
    "    sdate = date(2015, 12, 28)   # start date\n",
    "    edate = date(2019, 12, 30)   # end date\n",
    "    delta = edate - sdate       # as timedelta\n",
    "    mem = set()\n",
    "    \n",
    "    for i in range(delta.days + 1):\n",
    "        day = sdate + timedelta(days=i)\n",
    "        year, week = day.isocalendar()[0], day.isocalendar()[1]\n",
    "        if year * 100 + week in mem:\n",
    "            continue\n",
    "        mem.add(year * 100 + week)\n",
    "        if df[(df['year'] == year) & (df['week'] == week)].empty:\n",
    "            print((year, week), end=\"\")\n",
    "            cnt += 1\n",
    "    if cnt > 0:\n",
    "        print()\n",
    "    print(\"missing\", cnt, \"values\")    "
   ]
  },
  {
   "cell_type": "markdown",
   "metadata": {
    "id": "rPcCpYrMge6I"
   },
   "source": [
    "## Set Data Root Directory"
   ]
  },
  {
   "cell_type": "code",
   "execution_count": 3,
   "metadata": {
    "id": "TWB8ocwr7TKk"
   },
   "outputs": [],
   "source": [
    "root = os.path.join(os.getcwd(), 'DATA')"
   ]
  },
  {
   "cell_type": "markdown",
   "metadata": {
    "id": "acx-1jLF7TKt"
   },
   "source": [
    "# Oil"
   ]
  },
  {
   "cell_type": "markdown",
   "metadata": {
    "id": "oCJclrSZ7TKt"
   },
   "source": [
    "## Import Data"
   ]
  },
  {
   "cell_type": "code",
   "execution_count": 4,
   "metadata": {
    "id": "rZoXA4Hq7TKt"
   },
   "outputs": [],
   "source": [
    "df_oil = pd.read_csv(os.path.join(root, 'raw_oil.csv'), usecols=[\"날짜\", \"종가\"])\n",
    "df_oil_dubai = pd.read_csv(os.path.join(root, 'raw_oil_dubai.csv'), usecols=[\"날짜\", \"종가\"])\n",
    "df_oil_brent = pd.read_csv(os.path.join(root, 'raw_oil_brent.csv'), usecols=[\"날짜\", \"종가\"])"
   ]
  },
  {
   "cell_type": "markdown",
   "metadata": {
    "id": "r5qohDxB7TKt"
   },
   "source": [
    "## Preprocess"
   ]
  },
  {
   "cell_type": "code",
   "execution_count": 5,
   "metadata": {
    "id": "B6fv1TdP7TKt"
   },
   "outputs": [],
   "source": [
    "from datetime import datetime\n",
    "def preprocess_oil(df):\n",
    "    df['date'] = pd.to_datetime(df['날짜'].str[:4] + df['날짜'].str[6:8] + df['날짜'].str[10:12])\n",
    "    set_week(df, 'date')  # 날짜 데이터 정리\n",
    "    df['oil'] = df[['year', 'week', '종가']].groupby(['year', 'week']).transform('mean')\n",
    "    df.drop(columns = ['날짜', '종가'], inplace=True, axis=1)\n",
    "    df.drop_duplicates(inplace=True)\n",
    "    return df"
   ]
  },
  {
   "cell_type": "code",
   "execution_count": 6,
   "metadata": {
    "id": "K9anYpOM7TKt",
    "scrolled": false
   },
   "outputs": [],
   "source": [
    "df_oil = preprocess_oil(df_oil)\n",
    "df_oil_dubai = preprocess_oil(df_oil_dubai)\n",
    "df_oil_brent = preprocess_oil(df_oil_brent)"
   ]
  },
  {
   "cell_type": "markdown",
   "metadata": {
    "id": "pyvGCh4F7TKt"
   },
   "source": [
    "## Check"
   ]
  },
  {
   "cell_type": "code",
   "execution_count": 7,
   "metadata": {
    "id": "z65asRITx3tD"
   },
   "outputs": [],
   "source": [
    "for i in range(1, 53):\n",
    "    if i not in (list(df_oil_brent[df_oil_brent['year'] == 2019].sort_values(by=['year', 'week'])['week'])):\n",
    "        print(i)"
   ]
  },
  {
   "cell_type": "code",
   "execution_count": 8,
   "metadata": {
    "colab": {
     "base_uri": "https://localhost:8080/"
    },
    "id": "bMwUgDPN7TKt",
    "outputId": "e8b1c4cb-be61-423a-a902-fd7aa39f9e41"
   },
   "outputs": [
    {
     "name": "stdout",
     "output_type": "stream",
     "text": [
      "missing 0 values\n",
      "missing 0 values\n",
      "missing 0 values\n"
     ]
    }
   ],
   "source": [
    "check_week(df_oil)\n",
    "check_week(df_oil_dubai)\n",
    "check_week(df_oil_brent)"
   ]
  },
  {
   "cell_type": "markdown",
   "metadata": {
    "id": "piIkfoXt7TKu"
   },
   "source": [
    "---"
   ]
  },
  {
   "cell_type": "markdown",
   "metadata": {
    "id": "B1Ds8aYs7TKu"
   },
   "source": [
    "# Korea Weather"
   ]
  },
  {
   "cell_type": "markdown",
   "metadata": {
    "id": "5XbJR-Ul7TKu"
   },
   "source": [
    "## Import Data"
   ]
  },
  {
   "cell_type": "code",
   "execution_count": 9,
   "metadata": {
    "id": "pb-geJf27TKu"
   },
   "outputs": [],
   "source": [
    "df_weather_kr = pd.read_csv(os.path.join(root, 'raw_weather_korea.csv'),\n",
    "                            encoding='euc-kr',\n",
    "                            usecols=[\"일시\", \"평균 풍속(m/s)\", \"평균 기온(°C)\", \"평균 수온(°C)\"])"
   ]
  },
  {
   "cell_type": "markdown",
   "metadata": {
    "id": "FlOKa7c37TKu"
   },
   "source": [
    "## Preprocess Date"
   ]
  },
  {
   "cell_type": "code",
   "execution_count": 10,
   "metadata": {
    "id": "thyMSwfu7TKu"
   },
   "outputs": [],
   "source": [
    "df_weather_kr['date'] = pd.to_datetime(df_weather_kr['일시'].str[:4] + df_weather_kr['일시'].str[5:7] + df_weather_kr['일시'].str[8:])\n",
    "set_week(df_weather_kr, 'date')"
   ]
  },
  {
   "cell_type": "code",
   "execution_count": 11,
   "metadata": {
    "colab": {
     "base_uri": "https://localhost:8080/",
     "height": 295
    },
    "id": "PYr3iVK6CMnl",
    "outputId": "151166ab-8349-4cf0-eeec-0b32a37079f1"
   },
   "outputs": [
    {
     "data": {
      "text/html": [
       "<div>\n",
       "<style scoped>\n",
       "    .dataframe tbody tr th:only-of-type {\n",
       "        vertical-align: middle;\n",
       "    }\n",
       "\n",
       "    .dataframe tbody tr th {\n",
       "        vertical-align: top;\n",
       "    }\n",
       "\n",
       "    .dataframe thead th {\n",
       "        text-align: right;\n",
       "    }\n",
       "</style>\n",
       "<table border=\"1\" class=\"dataframe\">\n",
       "  <thead>\n",
       "    <tr style=\"text-align: right;\">\n",
       "      <th></th>\n",
       "      <th>평균 풍속(m/s)</th>\n",
       "      <th>평균 기온(°C)</th>\n",
       "      <th>평균 수온(°C)</th>\n",
       "      <th>year</th>\n",
       "      <th>week</th>\n",
       "    </tr>\n",
       "  </thead>\n",
       "  <tbody>\n",
       "    <tr>\n",
       "      <th>count</th>\n",
       "      <td>35181.000000</td>\n",
       "      <td>35107.000000</td>\n",
       "      <td>35300.000000</td>\n",
       "      <td>35558.000000</td>\n",
       "      <td>35558.000000</td>\n",
       "    </tr>\n",
       "    <tr>\n",
       "      <th>mean</th>\n",
       "      <td>5.732987</td>\n",
       "      <td>14.845689</td>\n",
       "      <td>16.884377</td>\n",
       "      <td>2018.369143</td>\n",
       "      <td>25.531554</td>\n",
       "    </tr>\n",
       "    <tr>\n",
       "      <th>std</th>\n",
       "      <td>2.705727</td>\n",
       "      <td>7.573504</td>\n",
       "      <td>5.945493</td>\n",
       "      <td>1.627939</td>\n",
       "      <td>15.146644</td>\n",
       "    </tr>\n",
       "    <tr>\n",
       "      <th>min</th>\n",
       "      <td>0.000000</td>\n",
       "      <td>-11.100000</td>\n",
       "      <td>1.100000</td>\n",
       "      <td>2015.000000</td>\n",
       "      <td>1.000000</td>\n",
       "    </tr>\n",
       "    <tr>\n",
       "      <th>25%</th>\n",
       "      <td>3.600000</td>\n",
       "      <td>8.800000</td>\n",
       "      <td>13.000000</td>\n",
       "      <td>2017.000000</td>\n",
       "      <td>13.000000</td>\n",
       "    </tr>\n",
       "    <tr>\n",
       "      <th>50%</th>\n",
       "      <td>5.400000</td>\n",
       "      <td>15.100000</td>\n",
       "      <td>16.600000</td>\n",
       "      <td>2018.000000</td>\n",
       "      <td>24.000000</td>\n",
       "    </tr>\n",
       "    <tr>\n",
       "      <th>75%</th>\n",
       "      <td>7.500000</td>\n",
       "      <td>21.000000</td>\n",
       "      <td>21.400000</td>\n",
       "      <td>2020.000000</td>\n",
       "      <td>39.000000</td>\n",
       "    </tr>\n",
       "    <tr>\n",
       "      <th>max</th>\n",
       "      <td>19.600000</td>\n",
       "      <td>34.600000</td>\n",
       "      <td>31.500000</td>\n",
       "      <td>2021.000000</td>\n",
       "      <td>53.000000</td>\n",
       "    </tr>\n",
       "  </tbody>\n",
       "</table>\n",
       "</div>"
      ],
      "text/plain": [
       "         평균 풍속(m/s)     평균 기온(°C)     평균 수온(°C)          year          week\n",
       "count  35181.000000  35107.000000  35300.000000  35558.000000  35558.000000\n",
       "mean       5.732987     14.845689     16.884377   2018.369143     25.531554\n",
       "std        2.705727      7.573504      5.945493      1.627939     15.146644\n",
       "min        0.000000    -11.100000      1.100000   2015.000000      1.000000\n",
       "25%        3.600000      8.800000     13.000000   2017.000000     13.000000\n",
       "50%        5.400000     15.100000     16.600000   2018.000000     24.000000\n",
       "75%        7.500000     21.000000     21.400000   2020.000000     39.000000\n",
       "max       19.600000     34.600000     31.500000   2021.000000     53.000000"
      ]
     },
     "execution_count": 11,
     "metadata": {},
     "output_type": "execute_result"
    }
   ],
   "source": [
    "df_weather_kr.describe()"
   ]
  },
  {
   "cell_type": "markdown",
   "metadata": {
    "id": "kYt6KcQk7TKu"
   },
   "source": [
    "## Group\n",
    "일자 별로 평균 구하기"
   ]
  },
  {
   "cell_type": "code",
   "execution_count": 12,
   "metadata": {
    "id": "aihGWxu47TKu"
   },
   "outputs": [],
   "source": [
    "df_weather_kr['wind_kr'] = df_weather_kr[['year', 'week', '평균 풍속(m/s)']].groupby(['year', 'week']).transform('mean')\n",
    "df_weather_kr['temperature_kr'] = df_weather_kr[['year', 'week', '평균 기온(°C)']].groupby(['year', 'week']).transform('mean')\n",
    "df_weather_kr['water_temp_kr'] = df_weather_kr[['year', 'week', '평균 수온(°C)']].groupby(['year', 'week']).transform('mean')"
   ]
  },
  {
   "cell_type": "markdown",
   "metadata": {
    "id": "iRuMRtrf7TKu"
   },
   "source": [
    "## Drop Column"
   ]
  },
  {
   "cell_type": "code",
   "execution_count": 13,
   "metadata": {
    "id": "e1Yd77_L7TKu"
   },
   "outputs": [],
   "source": [
    "drop = ['일시', '평균 풍속(m/s)', '평균 기온(°C)', '평균 수온(°C)']"
   ]
  },
  {
   "cell_type": "code",
   "execution_count": 14,
   "metadata": {
    "id": "cDy5qdfk7TKv"
   },
   "outputs": [],
   "source": [
    "df_weather_kr.drop(columns=drop, inplace=True, axis=1)\n",
    "df_weather_kr.drop_duplicates(inplace=True)"
   ]
  },
  {
   "cell_type": "markdown",
   "metadata": {
    "id": "19HD2UlJ1asv"
   },
   "source": [
    "## Check"
   ]
  },
  {
   "cell_type": "code",
   "execution_count": 15,
   "metadata": {
    "colab": {
     "base_uri": "https://localhost:8080/"
    },
    "id": "T-Oxuayn1ZUr",
    "outputId": "45d17c96-b8e4-4a6e-9bde-5a4211fc3df8"
   },
   "outputs": [
    {
     "name": "stdout",
     "output_type": "stream",
     "text": [
      "missing 0 values\n"
     ]
    }
   ],
   "source": [
    "check_week(df_weather_kr)"
   ]
  },
  {
   "cell_type": "code",
   "execution_count": 16,
   "metadata": {
    "colab": {
     "base_uri": "https://localhost:8080/",
     "height": 295
    },
    "id": "I6E5uG3qB3N4",
    "outputId": "02e44068-f900-4ca3-baa8-e624806ae95f"
   },
   "outputs": [
    {
     "data": {
      "text/html": [
       "<div>\n",
       "<style scoped>\n",
       "    .dataframe tbody tr th:only-of-type {\n",
       "        vertical-align: middle;\n",
       "    }\n",
       "\n",
       "    .dataframe tbody tr th {\n",
       "        vertical-align: top;\n",
       "    }\n",
       "\n",
       "    .dataframe thead th {\n",
       "        text-align: right;\n",
       "    }\n",
       "</style>\n",
       "<table border=\"1\" class=\"dataframe\">\n",
       "  <thead>\n",
       "    <tr style=\"text-align: right;\">\n",
       "      <th></th>\n",
       "      <th>year</th>\n",
       "      <th>week</th>\n",
       "      <th>wind_kr</th>\n",
       "      <th>temperature_kr</th>\n",
       "      <th>water_temp_kr</th>\n",
       "    </tr>\n",
       "  </thead>\n",
       "  <tbody>\n",
       "    <tr>\n",
       "      <th>count</th>\n",
       "      <td>288.000000</td>\n",
       "      <td>288.000000</td>\n",
       "      <td>288.000000</td>\n",
       "      <td>288.000000</td>\n",
       "      <td>288.000000</td>\n",
       "    </tr>\n",
       "    <tr>\n",
       "      <th>mean</th>\n",
       "      <td>2018.267361</td>\n",
       "      <td>25.510417</td>\n",
       "      <td>5.723881</td>\n",
       "      <td>14.920397</td>\n",
       "      <td>16.953522</td>\n",
       "    </tr>\n",
       "    <tr>\n",
       "      <th>std</th>\n",
       "      <td>1.612682</td>\n",
       "      <td>15.112121</td>\n",
       "      <td>1.340964</td>\n",
       "      <td>7.177077</td>\n",
       "      <td>5.321755</td>\n",
       "    </tr>\n",
       "    <tr>\n",
       "      <th>min</th>\n",
       "      <td>2015.000000</td>\n",
       "      <td>1.000000</td>\n",
       "      <td>2.706723</td>\n",
       "      <td>-0.529915</td>\n",
       "      <td>8.389899</td>\n",
       "    </tr>\n",
       "    <tr>\n",
       "      <th>25%</th>\n",
       "      <td>2017.000000</td>\n",
       "      <td>12.750000</td>\n",
       "      <td>4.763866</td>\n",
       "      <td>8.648878</td>\n",
       "      <td>12.088782</td>\n",
       "    </tr>\n",
       "    <tr>\n",
       "      <th>50%</th>\n",
       "      <td>2018.000000</td>\n",
       "      <td>24.500000</td>\n",
       "      <td>5.668908</td>\n",
       "      <td>14.792355</td>\n",
       "      <td>16.279115</td>\n",
       "    </tr>\n",
       "    <tr>\n",
       "      <th>75%</th>\n",
       "      <td>2020.000000</td>\n",
       "      <td>38.250000</td>\n",
       "      <td>6.656410</td>\n",
       "      <td>21.312062</td>\n",
       "      <td>21.471801</td>\n",
       "    </tr>\n",
       "    <tr>\n",
       "      <th>max</th>\n",
       "      <td>2021.000000</td>\n",
       "      <td>53.000000</td>\n",
       "      <td>9.819643</td>\n",
       "      <td>28.610924</td>\n",
       "      <td>28.495798</td>\n",
       "    </tr>\n",
       "  </tbody>\n",
       "</table>\n",
       "</div>"
      ],
      "text/plain": [
       "              year        week     wind_kr  temperature_kr  water_temp_kr\n",
       "count   288.000000  288.000000  288.000000      288.000000     288.000000\n",
       "mean   2018.267361   25.510417    5.723881       14.920397      16.953522\n",
       "std       1.612682   15.112121    1.340964        7.177077       5.321755\n",
       "min    2015.000000    1.000000    2.706723       -0.529915       8.389899\n",
       "25%    2017.000000   12.750000    4.763866        8.648878      12.088782\n",
       "50%    2018.000000   24.500000    5.668908       14.792355      16.279115\n",
       "75%    2020.000000   38.250000    6.656410       21.312062      21.471801\n",
       "max    2021.000000   53.000000    9.819643       28.610924      28.495798"
      ]
     },
     "execution_count": 16,
     "metadata": {},
     "output_type": "execute_result"
    }
   ],
   "source": [
    "df_weather_kr.describe()"
   ]
  },
  {
   "cell_type": "markdown",
   "metadata": {
    "id": "0s4waw097TKv"
   },
   "source": [
    "---"
   ]
  },
  {
   "cell_type": "markdown",
   "metadata": {
    "id": "L0rIG3y37TKv"
   },
   "source": [
    "# CPI"
   ]
  },
  {
   "cell_type": "markdown",
   "metadata": {
    "id": "UEjWmwdM7TKv"
   },
   "source": [
    "## Import Data"
   ]
  },
  {
   "cell_type": "code",
   "execution_count": 17,
   "metadata": {
    "id": "TcpeFP4j7TKv"
   },
   "outputs": [],
   "source": [
    "df_cpi_total = pd.read_csv(os.path.join(root, 'raw_cpi_total.csv'), encoding='cp949')  # 총 소비자물가지수\n",
    "df_cpi_fish =  pd.read_csv(os.path.join(root, 'raw_cpi_fish.csv'), encoding='cp949')  # 수산물 소비자물가지수"
   ]
  },
  {
   "cell_type": "markdown",
   "metadata": {
    "id": "lusxs6UZF3mJ"
   },
   "source": [
    "## Drop Columns/Rows"
   ]
  },
  {
   "cell_type": "code",
   "execution_count": 18,
   "metadata": {
    "id": "hF_PHjpdEWk6"
   },
   "outputs": [],
   "source": [
    "df_cpi_total = df_cpi_total[df_cpi_total['지출목적별'] == \"0 총지수\"].drop(columns=['시도별', '지출목적별'], axis=1)\n",
    "df_cpi_fish = df_cpi_fish[df_cpi_fish['지출목적별'] == \"어류 및 수산\"].drop(columns=['Unnamed: 0', '지출목적별'], axis=1)"
   ]
  },
  {
   "cell_type": "markdown",
   "metadata": {
    "id": "REUhHqUwFswV"
   },
   "source": [
    "## Pivoting"
   ]
  },
  {
   "cell_type": "code",
   "execution_count": 19,
   "metadata": {
    "id": "Lh9ukySVGwqj"
   },
   "outputs": [],
   "source": [
    "df_cpi_total = df_cpi_total.transpose().reset_index()\n",
    "df_cpi_fish = df_cpi_fish.transpose().reset_index()"
   ]
  },
  {
   "cell_type": "markdown",
   "metadata": {
    "id": "QGJgwihSPlb4"
   },
   "source": [
    "## Rename"
   ]
  },
  {
   "cell_type": "code",
   "execution_count": 20,
   "metadata": {
    "colab": {
     "base_uri": "https://localhost:8080/"
    },
    "id": "CO-DsgxoPltd",
    "outputId": "c3db3691-0637-493a-d39f-ba8de436e72a"
   },
   "outputs": [
    {
     "name": "stdout",
     "output_type": "stream",
     "text": [
      "Index(['index', 'cpi_total'], dtype='object') Index(['index', 'cpi_fish'], dtype='object')\n"
     ]
    }
   ],
   "source": [
    "df_cpi_total.rename(columns={0: 'cpi_total'}, inplace=True)\n",
    "df_cpi_fish.rename(columns={0: 'cpi_fish'}, inplace=True)\n",
    "print(df_cpi_total.columns, df_cpi_fish.columns)"
   ]
  },
  {
   "cell_type": "markdown",
   "metadata": {
    "id": "enlfpfJd7TKw"
   },
   "source": [
    "## Preprocess Date"
   ]
  },
  {
   "cell_type": "code",
   "execution_count": 21,
   "metadata": {
    "id": "6-jU3p587TKw"
   },
   "outputs": [],
   "source": [
    "df_cpi_total['year'] = df_cpi_total['index'].str[:4].astype('int')\n",
    "df_cpi_total['month'] = df_cpi_total['index'].str[6:8].astype('int')\n",
    "df_cpi_fish['year'] = df_cpi_fish['index'].str[:4].astype('int')\n",
    "df_cpi_fish['month'] = df_cpi_fish['index'].str[6:8].astype('int')"
   ]
  },
  {
   "cell_type": "code",
   "execution_count": 22,
   "metadata": {
    "id": "9knYxqj1QBB4"
   },
   "outputs": [],
   "source": [
    "df_cpi_total.drop(columns=['index'], inplace=True)\n",
    "df_cpi_fish.drop(columns=['index'], inplace=True)"
   ]
  },
  {
   "cell_type": "code",
   "execution_count": 23,
   "metadata": {
    "id": "zL3UwmEYWMV3"
   },
   "outputs": [],
   "source": [
    "# Merge df\n",
    "df_cpi = pd.merge(left=df_cpi_total, right=df_cpi_fish, how='outer', on=['year', 'month'])"
   ]
  },
  {
   "cell_type": "code",
   "execution_count": 24,
   "metadata": {
    "id": "Fcbh6z9wQJ7j"
   },
   "outputs": [],
   "source": [
    "# create days by duplicating data\n",
    "new_df = pd.DataFrame(columns=list(df_cpi.columns) + ['day'])\n",
    "for i, row in df_cpi.iterrows():\n",
    "    data = df_cpi.iloc[i]\n",
    "    year, month, cpi_total, cpi_fish = data['year'].astype('int'), data['month'].astype('int'), data['cpi_total'], data['cpi_fish']\n",
    "    for day in range(1, monthrange(year, month)[1]+1):\n",
    "        if datetime(year, month, day).weekday() == 0:\n",
    "            new_df = new_df.append({'year': str(year),\n",
    "                                    'month': str(month),\n",
    "                                    'day': str(day),\n",
    "                                    'cpi_total': cpi_total,\n",
    "                                    'cpi_fish': cpi_fish},\n",
    "                                   ignore_index=True)\n",
    "df_cpi = new_df"
   ]
  },
  {
   "cell_type": "code",
   "execution_count": 25,
   "metadata": {
    "id": "H0I8nPSbXo_6"
   },
   "outputs": [],
   "source": [
    "df_cpi['date'] = df_cpi['year'] + \" \" + df_cpi['month'] + \" \" + df_cpi['day']"
   ]
  },
  {
   "cell_type": "code",
   "execution_count": 26,
   "metadata": {
    "id": "ZJeiNFrxUGsO"
   },
   "outputs": [],
   "source": [
    "set_week(df_cpi, 'date')"
   ]
  },
  {
   "cell_type": "markdown",
   "metadata": {
    "id": "SQpsIQIrZPEC"
   },
   "source": [
    "## 정리\n",
    "- drop unused columns\n",
    "- drop duplicates"
   ]
  },
  {
   "cell_type": "code",
   "execution_count": 27,
   "metadata": {
    "id": "NYgW8AoDZTCq"
   },
   "outputs": [],
   "source": [
    "df_cpi.drop(columns=['month', 'day'], inplace=True)\n",
    "df_cpi.drop_duplicates(inplace=True)"
   ]
  },
  {
   "cell_type": "markdown",
   "metadata": {
    "id": "RBBvzPtnZnwB"
   },
   "source": [
    "## Check"
   ]
  },
  {
   "cell_type": "code",
   "execution_count": 28,
   "metadata": {
    "colab": {
     "base_uri": "https://localhost:8080/"
    },
    "id": "sBQGda0rZvNu",
    "outputId": "cb00be39-e1db-4166-ccb2-a95e983d5699"
   },
   "outputs": [
    {
     "name": "stdout",
     "output_type": "stream",
     "text": [
      "missing 0 values\n"
     ]
    }
   ],
   "source": [
    "check_week(df_cpi)"
   ]
  },
  {
   "cell_type": "code",
   "execution_count": 29,
   "metadata": {},
   "outputs": [],
   "source": [
    "df_tmp = df_cpi.copy()\n",
    "df_tmp['count'] = 0\n",
    "df_tmp['count'] = df_tmp.groupby(['year', 'week']).transform('count')"
   ]
  },
  {
   "cell_type": "code",
   "execution_count": 30,
   "metadata": {},
   "outputs": [],
   "source": [
    "df_tmp = df_tmp[['year', 'week', 'count']].drop_duplicates()\n",
    "df_tmp = df_tmp[df_tmp['count'] > 1]"
   ]
  },
  {
   "cell_type": "code",
   "execution_count": 31,
   "metadata": {
    "colab": {
     "base_uri": "https://localhost:8080/",
     "height": 295
    },
    "id": "STNr476CZvRK",
    "outputId": "c9ae58ae-f39c-451f-a45a-1f3258dc3f38"
   },
   "outputs": [
    {
     "data": {
      "text/html": [
       "<div>\n",
       "<style scoped>\n",
       "    .dataframe tbody tr th:only-of-type {\n",
       "        vertical-align: middle;\n",
       "    }\n",
       "\n",
       "    .dataframe tbody tr th {\n",
       "        vertical-align: top;\n",
       "    }\n",
       "\n",
       "    .dataframe thead th {\n",
       "        text-align: right;\n",
       "    }\n",
       "</style>\n",
       "<table border=\"1\" class=\"dataframe\">\n",
       "  <thead>\n",
       "    <tr style=\"text-align: right;\">\n",
       "      <th></th>\n",
       "      <th>cpi_total</th>\n",
       "      <th>year</th>\n",
       "      <th>cpi_fish</th>\n",
       "      <th>week</th>\n",
       "    </tr>\n",
       "  </thead>\n",
       "  <tbody>\n",
       "    <tr>\n",
       "      <th>count</th>\n",
       "      <td>291.000000</td>\n",
       "      <td>295.000000</td>\n",
       "      <td>295.000000</td>\n",
       "      <td>295.000000</td>\n",
       "    </tr>\n",
       "    <tr>\n",
       "      <th>mean</th>\n",
       "      <td>103.984467</td>\n",
       "      <td>2018.271186</td>\n",
       "      <td>112.084034</td>\n",
       "      <td>25.810169</td>\n",
       "    </tr>\n",
       "    <tr>\n",
       "      <th>std</th>\n",
       "      <td>1.906832</td>\n",
       "      <td>1.658112</td>\n",
       "      <td>6.461005</td>\n",
       "      <td>15.153340</td>\n",
       "    </tr>\n",
       "    <tr>\n",
       "      <th>min</th>\n",
       "      <td>100.220000</td>\n",
       "      <td>2015.000000</td>\n",
       "      <td>100.760000</td>\n",
       "      <td>1.000000</td>\n",
       "    </tr>\n",
       "    <tr>\n",
       "      <th>25%</th>\n",
       "      <td>102.750000</td>\n",
       "      <td>2017.000000</td>\n",
       "      <td>107.695000</td>\n",
       "      <td>13.000000</td>\n",
       "    </tr>\n",
       "    <tr>\n",
       "      <th>50%</th>\n",
       "      <td>104.350000</td>\n",
       "      <td>2018.000000</td>\n",
       "      <td>111.960000</td>\n",
       "      <td>25.000000</td>\n",
       "    </tr>\n",
       "    <tr>\n",
       "      <th>75%</th>\n",
       "      <td>105.460000</td>\n",
       "      <td>2020.000000</td>\n",
       "      <td>118.440000</td>\n",
       "      <td>39.000000</td>\n",
       "    </tr>\n",
       "    <tr>\n",
       "      <th>max</th>\n",
       "      <td>107.460000</td>\n",
       "      <td>2021.000000</td>\n",
       "      <td>122.010000</td>\n",
       "      <td>53.000000</td>\n",
       "    </tr>\n",
       "  </tbody>\n",
       "</table>\n",
       "</div>"
      ],
      "text/plain": [
       "        cpi_total         year    cpi_fish        week\n",
       "count  291.000000   295.000000  295.000000  295.000000\n",
       "mean   103.984467  2018.271186  112.084034   25.810169\n",
       "std      1.906832     1.658112    6.461005   15.153340\n",
       "min    100.220000  2015.000000  100.760000    1.000000\n",
       "25%    102.750000  2017.000000  107.695000   13.000000\n",
       "50%    104.350000  2018.000000  111.960000   25.000000\n",
       "75%    105.460000  2020.000000  118.440000   39.000000\n",
       "max    107.460000  2021.000000  122.010000   53.000000"
      ]
     },
     "execution_count": 31,
     "metadata": {},
     "output_type": "execute_result"
    }
   ],
   "source": [
    "df_cpi.describe()"
   ]
  },
  {
   "cell_type": "code",
   "execution_count": 32,
   "metadata": {
    "colab": {
     "base_uri": "https://localhost:8080/",
     "height": 203
    },
    "id": "Oq10DSGcZm8s",
    "outputId": "8bc18a42-5bbc-4146-c50e-134491b25530"
   },
   "outputs": [
    {
     "data": {
      "text/html": [
       "<div>\n",
       "<style scoped>\n",
       "    .dataframe tbody tr th:only-of-type {\n",
       "        vertical-align: middle;\n",
       "    }\n",
       "\n",
       "    .dataframe tbody tr th {\n",
       "        vertical-align: top;\n",
       "    }\n",
       "\n",
       "    .dataframe thead th {\n",
       "        text-align: right;\n",
       "    }\n",
       "</style>\n",
       "<table border=\"1\" class=\"dataframe\">\n",
       "  <thead>\n",
       "    <tr style=\"text-align: right;\">\n",
       "      <th></th>\n",
       "      <th>cpi_total</th>\n",
       "      <th>year</th>\n",
       "      <th>cpi_fish</th>\n",
       "      <th>week</th>\n",
       "    </tr>\n",
       "  </thead>\n",
       "  <tbody>\n",
       "    <tr>\n",
       "      <th>85</th>\n",
       "      <td>102.78</td>\n",
       "      <td>2017</td>\n",
       "      <td>106.70</td>\n",
       "      <td>30</td>\n",
       "    </tr>\n",
       "    <tr>\n",
       "      <th>9</th>\n",
       "      <td>100.82</td>\n",
       "      <td>2016</td>\n",
       "      <td>102.30</td>\n",
       "      <td>6</td>\n",
       "    </tr>\n",
       "    <tr>\n",
       "      <th>152</th>\n",
       "      <td>104.71</td>\n",
       "      <td>2018</td>\n",
       "      <td>112.51</td>\n",
       "      <td>45</td>\n",
       "    </tr>\n",
       "    <tr>\n",
       "      <th>258</th>\n",
       "      <td>105.50</td>\n",
       "      <td>2020</td>\n",
       "      <td>121.11</td>\n",
       "      <td>47</td>\n",
       "    </tr>\n",
       "    <tr>\n",
       "      <th>81</th>\n",
       "      <td>102.61</td>\n",
       "      <td>2017</td>\n",
       "      <td>108.78</td>\n",
       "      <td>26</td>\n",
       "    </tr>\n",
       "  </tbody>\n",
       "</table>\n",
       "</div>"
      ],
      "text/plain": [
       "     cpi_total  year  cpi_fish  week\n",
       "85      102.78  2017    106.70    30\n",
       "9       100.82  2016    102.30     6\n",
       "152     104.71  2018    112.51    45\n",
       "258     105.50  2020    121.11    47\n",
       "81      102.61  2017    108.78    26"
      ]
     },
     "execution_count": 32,
     "metadata": {},
     "output_type": "execute_result"
    }
   ],
   "source": [
    "df_cpi.sample(5)"
   ]
  },
  {
   "cell_type": "markdown",
   "metadata": {
    "id": "PBX2gc1s7TKw"
   },
   "source": [
    "---"
   ]
  },
  {
   "cell_type": "markdown",
   "metadata": {
    "id": "ab1cLSdYgDik"
   },
   "source": [
    "# Exchange Rate"
   ]
  },
  {
   "cell_type": "code",
   "execution_count": 33,
   "metadata": {
    "id": "gTClsJLbbeqm"
   },
   "outputs": [],
   "source": [
    "exchange_list = [pd.read_csv(os.path.join(root, 'raw_exchange_chile.csv'), usecols=[\"날짜\", \"종가\"]),\n",
    "                 pd.read_csv(os.path.join(root, 'raw_exchange_china.csv'), usecols=[\"날짜\", \"종가\"]),\n",
    "                 pd.read_csv(os.path.join(root, 'raw_exchange_norway.csv'), usecols=[\"날짜\", \"종가\"]),\n",
    "                 pd.read_csv(os.path.join(root, 'raw_exchange_peru.csv'), usecols=[\"날짜\", \"종가\"]),\n",
    "                 pd.read_csv(os.path.join(root, 'raw_exchange_thai.csv'), usecols=[\"날짜\", \"종가\"]),\n",
    "                 pd.read_csv(os.path.join(root, 'raw_exchange_vietnam.csv'), usecols=[\"날짜\", \"종가\"])]"
   ]
  },
  {
   "cell_type": "code",
   "execution_count": 34,
   "metadata": {
    "colab": {
     "base_uri": "https://localhost:8080/"
    },
    "id": "BS_RMcz0beuL",
    "outputId": "91188410-3cc8-4f25-eaa5-5915aa55d613"
   },
   "outputs": [
    {
     "name": "stdout",
     "output_type": "stream",
     "text": [
      "missing 0 values\n",
      "missing 0 values\n",
      "missing 0 values\n",
      "missing 0 values\n",
      "missing 0 values\n",
      "missing 0 values\n"
     ]
    }
   ],
   "source": [
    "ctry_name = ['칠레', '중국', '노르웨이', '페루', '태국', '베트남']\n",
    "for i in range(len(exchange_list)):\n",
    "    set_week(exchange_list[i], '날짜')\n",
    "    check_week(exchange_list[i])\n",
    "    exchange_list[i]['CTRY_2'] = ctry_name[i]"
   ]
  },
  {
   "cell_type": "code",
   "execution_count": 35,
   "metadata": {
    "id": "5A9rExQtbez_"
   },
   "outputs": [],
   "source": [
    "df_exchange = pd.concat(exchange_list)"
   ]
  },
  {
   "cell_type": "markdown",
   "metadata": {
    "id": "kQnUtRKifd83"
   },
   "source": [
    "## Rename"
   ]
  },
  {
   "cell_type": "code",
   "execution_count": 36,
   "metadata": {
    "id": "4bMF2PAcfeIg"
   },
   "outputs": [],
   "source": [
    "df_exchange.rename(columns={\"종가\": 'exchange'}, inplace=True)"
   ]
  },
  {
   "cell_type": "markdown",
   "metadata": {
    "id": "tgHQpmnw7TKx"
   },
   "source": [
    "## Save Files"
   ]
  },
  {
   "cell_type": "code",
   "execution_count": 37,
   "metadata": {
    "id": "qbtEbNmE7TKx"
   },
   "outputs": [],
   "source": [
    "def save_file(df, file_name):\n",
    "    df.to_csv(os.path.join(root, file_name), encoding='utf-8', index=False)"
   ]
  },
  {
   "cell_type": "code",
   "execution_count": 38,
   "metadata": {
    "id": "x2Ynh9N27TKx"
   },
   "outputs": [],
   "source": [
    "save_file(df_oil, 'preprocessed_oil.csv')  # 원유 종가\n",
    "save_file(df_weather_kr, 'preprocessed_weather_korea.csv')  # 한국 날씨\n",
    "save_file(df_cpi, 'preprocessed_cpi.csv')  # 소비자물가지수\n",
    "save_file(df_exchange, 'preprocessed_exchange.csv')  # 환율"
   ]
  },
  {
   "cell_type": "markdown",
   "metadata": {
    "id": "EJzpvZz-7TKx"
   },
   "source": [
    "# 끝"
   ]
  }
 ],
 "metadata": {
  "colab": {
   "collapsed_sections": [
    "Ui7PhQlm7TKw",
    "9TjOq4PM7TKx",
    "tgHQpmnw7TKx"
   ],
   "name": "민서_Preprocessing.ipynb",
   "provenance": [],
   "toc_visible": true
  },
  "kernelspec": {
   "display_name": "Python 3",
   "language": "python",
   "name": "python3"
  },
  "language_info": {
   "codemirror_mode": {
    "name": "ipython",
    "version": 3
   },
   "file_extension": ".py",
   "mimetype": "text/x-python",
   "name": "python",
   "nbconvert_exporter": "python",
   "pygments_lexer": "ipython3",
   "version": "3.8.3"
  }
 },
 "nbformat": 4,
 "nbformat_minor": 1
}
