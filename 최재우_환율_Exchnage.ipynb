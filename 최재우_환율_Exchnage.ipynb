{
  "nbformat": 4,
  "nbformat_minor": 0,
  "metadata": {
    "colab": {
      "name": "최재우 환율 Exchnage.ipynb",
      "provenance": [],
      "collapsed_sections": []
    },
    "kernelspec": {
      "display_name": "Python 3",
      "language": "python",
      "name": "python3"
    },
    "language_info": {
      "codemirror_mode": {
        "name": "ipython",
        "version": 3
      },
      "file_extension": ".py",
      "mimetype": "text/x-python",
      "name": "python",
      "nbconvert_exporter": "python",
      "pygments_lexer": "ipython3",
      "version": "3.8.3"
    }
  },
  "cells": [
    {
      "cell_type": "markdown",
      "metadata": {
        "id": "DACPIbVx7TKg"
      },
      "source": [
        "# Import Library"
      ]
    },
    {
      "cell_type": "code",
      "metadata": {
        "id": "83--jW2p7TKi"
      },
      "source": [
        "# Import Libraries\n",
        "import os\n",
        "import pandas as pd\n",
        "import numpy as np\n",
        "from scipy.stats import norm\n",
        "from sklearn.preprocessing import StandardScaler\n",
        "from scipy import stats\n",
        "import warnings\n",
        "warnings.filterwarnings('ignore')\n",
        "%matplotlib inline\n",
        "\n",
        "# Visuzliation Setting\n",
        "import matplotlib.pyplot as plt\n",
        "import matplotlib.font_manager as fm\n",
        "from matplotlib import rc\n",
        "from matplotlib import colors\n",
        "import seaborn as sns"
      ],
      "execution_count": 1,
      "outputs": []
    },
    {
      "cell_type": "code",
      "metadata": {
        "colab": {
          "base_uri": "https://localhost:8080/"
        },
        "id": "GLF6dN6r_bWG",
        "outputId": "96ad43ac-d882-48c6-90f8-86dfafe7d617"
      },
      "source": [
        "from google.colab import drive\n",
        "drive.mount('/content/drive')"
      ],
      "execution_count": 2,
      "outputs": [
        {
          "output_type": "stream",
          "text": [
            "Mounted at /content/drive\n"
          ],
          "name": "stdout"
        }
      ]
    },
    {
      "cell_type": "markdown",
      "metadata": {
        "id": "Ap-G6EzN7TKk"
      },
      "source": [
        "---"
      ]
    },
    {
      "cell_type": "code",
      "metadata": {
        "id": "TWB8ocwr7TKk"
      },
      "source": [
        "root = os.path.join('/content/drive/MyDrive/BigContest', 'DATA')"
      ],
      "execution_count": 3,
      "outputs": []
    },
    {
      "cell_type": "code",
      "metadata": {
        "id": "FODjTCUA-j7r"
      },
      "source": [
        "from datetime import date, timedelta\n",
        "\n",
        "\n",
        "def set_week(df, date):\n",
        "    '''\n",
        "    df : datetime 형식의 컬럼을 가지고 있는 dataframe\n",
        "    date : df에서 datetime 형식을 가진 컬럼명\n",
        "    return : date의 연도 컬럼과 주차 컬럼을 추가한 dataframe\n",
        "    '''\n",
        "    df[date] = pd.to_datetime(df[date])\n",
        "    df[date] = df[date].dt.date\n",
        "    df['year'] = df.apply(func=lambda x: x[date].isocalendar()[0], axis=1)\n",
        "    df['week'] = df.apply(func=lambda x: x[date].isocalendar()[1], axis=1)\n",
        "    df.drop(date, axis=1, inplace=True)\n",
        "    \n",
        "\n",
        "def check_week(df):\n",
        "    '''\n",
        "    df에 date가 전부 있는지 확인\n",
        "    '''\n",
        "    cnt = 0\n",
        "    sdate = date(2015, 12, 28)   # start date\n",
        "    edate = date(2019, 12, 30)   # end date\n",
        "    delta = edate - sdate       # as timedelta\n",
        "    mem = set()\n",
        "    \n",
        "    for i in range(delta.days + 1):\n",
        "        day = sdate + timedelta(days=i)\n",
        "        year, week = day.isocalendar()[0], day.isocalendar()[1]\n",
        "        if year * 100 + week in mem:\n",
        "          continue\n",
        "        mem.add(year * 100 + week)\n",
        "        if df[(df['year'] == year) & (df['week'] == week)].empty:\n",
        "          print((year, week), end=\"\")\n",
        "          cnt += 1\n",
        "    if cnt > 0:\n",
        "        print()\n",
        "    print(\"missing\", cnt, \"values\")    "
      ],
      "execution_count": 4,
      "outputs": []
    },
    {
      "cell_type": "markdown",
      "metadata": {
        "id": "n0koSwxa7TKl"
      },
      "source": [
        "# Training Data\n",
        "빅콘테스트 제공 데이터 전처리"
      ]
    },
    {
      "cell_type": "markdown",
      "metadata": {
        "id": "xdBOsf7e7TKl"
      },
      "source": [
        "## Import Data"
      ]
    },
    {
      "cell_type": "code",
      "metadata": {
        "id": "KJCPDskn7TKl"
      },
      "source": [
        "df_raw = pd.read_excel(os.path.join(root, 'train.xlsx'))\n",
        "df_train = df_raw.copy()"
      ],
      "execution_count": 5,
      "outputs": []
    },
    {
      "cell_type": "markdown",
      "metadata": {
        "id": "h3OU0ctu7TKo"
      },
      "source": [
        "### One hot encoding\n",
        "P_IMPORT_TYPE 이라는 특수한 컬럼에 대한 전처리"
      ]
    },
    {
      "cell_type": "code",
      "metadata": {
        "id": "WfYJ0J9I7TKo"
      },
      "source": [
        "import_type_list = set()\n",
        "for tmp in df_train.P_IMPORT_TYPE.unique():\n",
        "    for a in tmp.split(','):\n",
        "        import_type_list.add(a)"
      ],
      "execution_count": 6,
      "outputs": []
    },
    {
      "cell_type": "code",
      "metadata": {
        "id": "9Sem0cl37TKo"
      },
      "source": [
        "for name in import_type_list:\n",
        "    df_train[name] = 0\n",
        "    df_train.loc[df_train['P_IMPORT_TYPE'].str.contains(name, regex=False), name] = 1"
      ],
      "execution_count": 7,
      "outputs": []
    },
    {
      "cell_type": "markdown",
      "metadata": {
        "id": "8GgRtMPI7TKm"
      },
      "source": [
        "### Add Columns"
      ]
    },
    {
      "cell_type": "code",
      "metadata": {
        "id": "VvRUXfdN-j7u"
      },
      "source": [
        "set_week(df_train, 'REG_DATE')"
      ],
      "execution_count": 8,
      "outputs": []
    },
    {
      "cell_type": "code",
      "metadata": {
        "colab": {
          "base_uri": "https://localhost:8080/"
        },
        "id": "k34yDLwC-j7v",
        "outputId": "297c8477-73cc-46aa-aaa1-c8cf329c825c"
      },
      "source": [
        "check_week(df_train)"
      ],
      "execution_count": 9,
      "outputs": [
        {
          "output_type": "stream",
          "text": [
            "(2017, 2)\n",
            "missing 1 values\n"
          ],
          "name": "stdout"
        }
      ]
    },
    {
      "cell_type": "code",
      "metadata": {
        "id": "iOcPWO0-7TKn"
      },
      "source": [
        "# 어종별 수 컬럼 추가\n",
        "df_train['name_cnt'] = 0;\n",
        "value_dict = {}\n",
        "for name, value in zip(df_train['P_NAME'].value_counts().index,df_train['P_NAME'].value_counts()):\n",
        "    value_dict[name] = value\n",
        "\n",
        "def value(col):\n",
        "    return value_dict[col]\n",
        "\n",
        "df_train['name_cnt'] = df_train['P_NAME'].apply(value)"
      ],
      "execution_count": 10,
      "outputs": []
    },
    {
      "cell_type": "code",
      "metadata": {
        "id": "lb4mHSBR-j7w"
      },
      "source": [
        "# 가공 여부 컬럼 추가\n",
        "df_train['is_processed'] = (df_train['CTRY_1'] != df_train['CTRY_2'])"
      ],
      "execution_count": 11,
      "outputs": []
    },
    {
      "cell_type": "code",
      "metadata": {
        "id": "m82lBhXZ-j7x"
      },
      "source": [
        "df_train['import_cnt'] = 0\n",
        "for i, row in df_train.iterrows():\n",
        "    for name in import_type_list:\n",
        "        if row[name] == 1:\n",
        "            df_train.at[i, 'import_cnt'] += 1"
      ],
      "execution_count": 12,
      "outputs": []
    },
    {
      "cell_type": "markdown",
      "metadata": {
        "id": "uDZd3vUe7TKp"
      },
      "source": [
        "---"
      ]
    },
    {
      "cell_type": "markdown",
      "metadata": {
        "id": "Yohf5ddY7TKp"
      },
      "source": [
        "# Weather data"
      ]
    },
    {
      "cell_type": "markdown",
      "metadata": {
        "id": "KF2OAGuX7TKp"
      },
      "source": [
        "## Import Data"
      ]
    },
    {
      "cell_type": "code",
      "metadata": {
        "id": "d1lx8F_f7TKp"
      },
      "source": [
        "df_weather_code = pd.read_csv(os.path.join(root, 'raw_weather_code.csv'), header=0, index_col=0)"
      ],
      "execution_count": 13,
      "outputs": []
    },
    {
      "cell_type": "code",
      "metadata": {
        "id": "7jgUNwso7TKp"
      },
      "source": [
        "weather_list = [pd.read_csv(os.path.join(root, 'raw_weather_20151228_20161227.csv'), encoding='euc-kr') , \n",
        "                pd.read_csv(os.path.join(root, 'raw_weather_20161228_20171227.csv'), encoding='euc-kr') , \n",
        "                pd.read_csv(os.path.join(root, 'raw_weather_20171228_20181227.csv'), encoding='euc-kr') , \n",
        "                pd.read_csv(os.path.join(root, 'raw_weather_20181228_20191227.csv'), encoding='euc-kr') , \n",
        "                pd.read_csv(os.path.join(root, 'raw_weather_20191228_20201227.csv'), encoding='euc-kr') , \n",
        "                pd.read_csv(os.path.join(root, 'raw_weather_20201228_20210818.csv'), encoding='euc-kr')]"
      ],
      "execution_count": 14,
      "outputs": []
    },
    {
      "cell_type": "markdown",
      "metadata": {
        "id": "8M2cvvz67TKp"
      },
      "source": [
        "\n",
        "## Preprocess\n",
        "- '지점'에 따른 나라명 컬럼(CTRY_1)과 해안가여부(is_waterfront) 추가\n",
        "- 각 나라, 일자 별로 평균 강수량, 풍속, 기온 계산"
      ]
    },
    {
      "cell_type": "code",
      "metadata": {
        "id": "L3SeGp1A-j72"
      },
      "source": [
        "# 지점에 따라 나라명 추가\n",
        "def set_country(row):\n",
        "    data = df_weather_code[df_weather_code['지점'] == row['지점']]\n",
        "    if data.empty:\n",
        "        return \"\"\n",
        "    return data.iloc[0]['국가명']\n",
        "\n",
        "\n",
        "def set_waterfront(row):\n",
        "    data = df_weather_code[df_weather_code['지점'] == row['지점']]\n",
        "    if data.empty or data.iloc[0]['해안가여부'] != 1:\n",
        "        return False\n",
        "    return True\n",
        "    \n",
        "\n",
        "def preprocess_weather(df):\n",
        "    df = df[(df['강수량'] >= 0) & (df['풍속'] >= 0)] # 이상치/결측치 제거\n",
        "    set_week(df, '일시')  # 날짜 정보 처리\n",
        "    \n",
        "    # 1차 평균\n",
        "    columns = ['year', 'week', '지점']\n",
        "    df['rain'] = df[columns + ['강수량']].groupby(columns).transform('mean')\n",
        "    df['wind'] = df[columns + ['풍속']].groupby(columns).transform('mean')\n",
        "    df['temperature'] = df[columns + ['기온']].groupby(columns).transform('mean')\n",
        "    \n",
        "    # 나라명 추가\n",
        "    df['CTRY_1'] = \"\"\n",
        "    for i, row in df.iterrows():\n",
        "        df.at[i, 'CTRY_1'] = set_country(row)\n",
        "    \n",
        "    # 해안가 여부 추가\n",
        "    df['is_waterfront'] = False\n",
        "    for i, row in df.iterrows():\n",
        "        df.at[i, 'is_waterfront'] = set_waterfront(row)\n",
        "        \n",
        "#     df = df[df['is_waterfront']]  # 해안가가 아닌 데이터 제외\n",
        "    \n",
        "    # 2차 평균\n",
        "    columns = ['year', 'week', 'CTRY_1']\n",
        "    df['rain'] = df[columns + ['강수량']].groupby(columns).transform('mean')\n",
        "    df['wind'] = df[columns + ['풍속']].groupby(columns).transform('mean')\n",
        "    df['temperature'] = df[columns + ['기온']].groupby(columns).transform('mean')\n",
        "\n",
        "    # 컬럼/행 정리\n",
        "    df.drop(columns=['지점명', '지점', '강수량', '풍속', '기온', 'is_waterfront'], inplace=True)\n",
        "    df.drop_duplicates(inplace=True)\n",
        "    df.reset_index(drop=True, inplace=True)\n",
        "    \n",
        "    return df"
      ],
      "execution_count": 15,
      "outputs": []
    },
    {
      "cell_type": "code",
      "metadata": {
        "id": "WxLOBtPv7TKq",
        "scrolled": false
      },
      "source": [
        "for i in range(len(weather_list)):\n",
        "    weather_list[i] = preprocess_weather(weather_list[i])"
      ],
      "execution_count": null,
      "outputs": []
    },
    {
      "cell_type": "code",
      "metadata": {
        "id": "SgY8-RqhDcx6"
      },
      "source": [
        "df_weather = pd.concat(weather_list)"
      ],
      "execution_count": null,
      "outputs": []
    },
    {
      "cell_type": "markdown",
      "metadata": {
        "id": "iXUr44A3-j77"
      },
      "source": [
        "## Check"
      ]
    },
    {
      "cell_type": "code",
      "metadata": {
        "id": "3DvVEvAt7TKq"
      },
      "source": [
        "df_weather.describe()"
      ],
      "execution_count": null,
      "outputs": []
    },
    {
      "cell_type": "code",
      "metadata": {
        "id": "j6dGZ7AJ-j8I"
      },
      "source": [
        "for country in df_weather['CTRY_1'].unique():\n",
        "    if country == \"\":\n",
        "        continue\n",
        "    print()\n",
        "    print(country, \"총\", len(df_weather[df_weather['CTRY_1'] == country]), \"개\")\n",
        "    check_week(df_weather[df_weather['CTRY_1'] == country])"
      ],
      "execution_count": null,
      "outputs": []
    },
    {
      "cell_type": "markdown",
      "metadata": {
        "id": "nc5kcuRK-j8K"
      },
      "source": [
        "## Filling Missing Values\n",
        "\n",
        "- 노르웨이, 중국은 결측치 없음\n",
        "- 태국, 베트남, 칠레는 결측치 1개\n",
        "> 전/차주 데이터 평균으로 채워넣기\n",
        "- 페루는 결측치 299개\n",
        "> 사용 불가"
      ]
    },
    {
      "cell_type": "code",
      "metadata": {
        "id": "_l7A9A8TsW83"
      },
      "source": [
        "def get_avg(year, week, country, value):\n",
        "  return (df_weather[(df_weather['year'] == year) & (df_weather['week'] == week + 1) & (df_weather['CTRY_1'] == country)].iloc[0][value] \n",
        "          + df_weather[(df_weather['year'] == year) & (df_weather['week'] == week - 1) & (df_weather['CTRY_1'] == country)].iloc[0][value]) / 2"
      ],
      "execution_count": null,
      "outputs": []
    },
    {
      "cell_type": "code",
      "metadata": {
        "id": "Aj4zQYt6-j8N"
      },
      "source": [
        "df_weather = df_weather.append({'year': 2016,\n",
        "                                'week': 11,\n",
        "                                'CTRY_1': '태국',\n",
        "                                'rain': get_avg(2016, 11, '태국', 'rain'),\n",
        "                                'wind': get_avg(2016, 11, '태국', 'wind'),\n",
        "                                'temperature': get_avg(2016, 11, '태국', 'temperature')},\n",
        "                               ignore_index=True)\n",
        "df_weather = df_weather.append({'year': 2016,\n",
        "                                'week': 6,\n",
        "                                'CTRY_1': '베트남',\n",
        "                                'rain': get_avg(2016, 6, '베트남', 'rain'),\n",
        "                                'wind': get_avg(2016, 6, '베트남', 'wind'),\n",
        "                                'temperature': get_avg(2016, 6, '베트남', 'temperature')},\n",
        "                               ignore_index=True)\n",
        "df_weather = df_weather.append({'year': 2016,\n",
        "                                'week': 5,\n",
        "                                'CTRY_1': '칠레',\n",
        "                                'rain': get_avg(2016, 5, '칠레', 'rain'),\n",
        "                                'wind': get_avg(2016, 5, '칠레', 'wind'),\n",
        "                                'temperature': get_avg(2016, 5, '칠레', 'temperature')},\n",
        "                               ignore_index=True)\n",
        "\n",
        "for country in [\"태국\", \"베트남\", \"칠레\"]:\n",
        "    print()\n",
        "    print(country, \"총\", len(df_weather[df_weather['CTRY_1'] == country]), \"개\")\n",
        "    check_week(df_weather[df_weather['CTRY_1'] == country])"
      ],
      "execution_count": null,
      "outputs": []
    },
    {
      "cell_type": "markdown",
      "metadata": {
        "id": "6Bcx08HU7TKr"
      },
      "source": [
        "## Add to Training Data"
      ]
    },
    {
      "cell_type": "code",
      "metadata": {
        "id": "eya8U1xR7TKr"
      },
      "source": [
        "df_train = pd.merge(df_train, df_weather, how='left', on=['year', 'week', 'CTRY_1'])"
      ],
      "execution_count": null,
      "outputs": []
    },
    {
      "cell_type": "markdown",
      "metadata": {
        "id": "351DAvcP7TKs"
      },
      "source": [
        "---"
      ]
    },
    {
      "cell_type": "markdown",
      "metadata": {
        "id": "gp3zCFeg7TKs"
      },
      "source": [
        "# Salinity"
      ]
    },
    {
      "cell_type": "markdown",
      "metadata": {
        "id": "600RYV_S7TKs"
      },
      "source": [
        "## Import Data"
      ]
    },
    {
      "cell_type": "code",
      "metadata": {
        "id": "hiXlsChx7TKs"
      },
      "source": [
        "# df_salinity = pd.read_csv(os.path.join(root, 'raw_salinity.csv'))"
      ],
      "execution_count": null,
      "outputs": []
    },
    {
      "cell_type": "markdown",
      "metadata": {
        "id": "5nG6S2767TKs"
      },
      "source": [
        "## Drop Columns & Rows"
      ]
    },
    {
      "cell_type": "code",
      "metadata": {
        "id": "OiA00iG97TKs"
      },
      "source": [
        "# df_salinity.drop(df_salinity.columns[2], inplace=True, axis=1)\n",
        "# df_salinity = df_salinity[(2015 <= df_salinity['obs_year']) & (df_salinity['obs_year'] <= 2021)]"
      ],
      "execution_count": null,
      "outputs": []
    },
    {
      "cell_type": "markdown",
      "metadata": {
        "id": "L65N0d8w7TKs"
      },
      "source": [
        "2020, 2021 데이터의 부재로 인해 보류"
      ]
    },
    {
      "cell_type": "markdown",
      "metadata": {
        "id": "_HH1O6bj7TKs"
      },
      "source": [
        "---"
      ]
    },
    {
      "cell_type": "markdown",
      "metadata": {
        "id": "acx-1jLF7TKt"
      },
      "source": [
        "# Oil"
      ]
    },
    {
      "cell_type": "markdown",
      "metadata": {
        "id": "oCJclrSZ7TKt"
      },
      "source": [
        "## Import Data"
      ]
    },
    {
      "cell_type": "code",
      "metadata": {
        "id": "rZoXA4Hq7TKt"
      },
      "source": [
        "df_oil = pd.read_csv(os.path.join(root, 'raw_oil.csv'))\n",
        "df_oil_dubai = pd.read_csv(os.path.join(root, 'raw_oil_dubai.csv'))\n",
        "df_oil_brent = pd.read_csv(os.path.join(root, 'raw_oil_brent.csv'))"
      ],
      "execution_count": null,
      "outputs": []
    },
    {
      "cell_type": "markdown",
      "metadata": {
        "id": "r5qohDxB7TKt"
      },
      "source": [
        "## Preprocess"
      ]
    },
    {
      "cell_type": "code",
      "metadata": {
        "id": "B6fv1TdP7TKt"
      },
      "source": [
        "from datetime import datetime\n",
        "def preprocess_oil(df):\n",
        "    df['date'] = pd.to_datetime(df['날짜'].str[:4] + df['날짜'].str[6:8] + df['날짜'].str[10:12])\n",
        "    set_week(df, 'date')  # 날짜 데이터 정리\n",
        "    df['oil'] = df[['year', 'week', '종가']].groupby(['year', 'week']).transform('mean')\n",
        "    df.drop(columns = ['날짜', '오픈', '고가', '저가', '거래량', '변동 %', '종가'], inplace=True, axis=1)\n",
        "    df.drop_duplicates(inplace=True)\n",
        "    return df"
      ],
      "execution_count": null,
      "outputs": []
    },
    {
      "cell_type": "code",
      "metadata": {
        "id": "K9anYpOM7TKt",
        "scrolled": false
      },
      "source": [
        "df_oil = preprocess_oil(df_oil)\n",
        "df_oil_dubai = preprocess_oil(df_oil_dubai)\n",
        "df_oil_brent = preprocess_oil(df_oil_brent)"
      ],
      "execution_count": null,
      "outputs": []
    },
    {
      "cell_type": "markdown",
      "metadata": {
        "id": "pyvGCh4F7TKt"
      },
      "source": [
        "## Check"
      ]
    },
    {
      "cell_type": "code",
      "metadata": {
        "id": "z65asRITx3tD"
      },
      "source": [
        "for i in range(1, 53):\n",
        "  if i not in (list(df_oil_brent[df_oil_brent['year'] == 2019].sort_values(by=['year', 'week'])['week'])):\n",
        "    print(i)"
      ],
      "execution_count": null,
      "outputs": []
    },
    {
      "cell_type": "code",
      "metadata": {
        "id": "bMwUgDPN7TKt"
      },
      "source": [
        "check_week(df_oil)\n",
        "check_week(df_oil_dubai)\n",
        "check_week(df_oil_brent)"
      ],
      "execution_count": null,
      "outputs": []
    },
    {
      "cell_type": "markdown",
      "metadata": {
        "id": "S0xEY7ox7TKt"
      },
      "source": [
        "모든 데이터가 결측치는 없지만,  \n",
        "df_oil 에 해당하는 wti 종가가 가장 예민하게 반응하는 값이므로  \n",
        "이를 사용하도록 한다"
      ]
    },
    {
      "cell_type": "markdown",
      "metadata": {
        "id": "P6aYxyz67TKt"
      },
      "source": [
        "## Add to Training Data"
      ]
    },
    {
      "cell_type": "code",
      "metadata": {
        "id": "1Muczrc27TKt"
      },
      "source": [
        "df_train = pd.merge(df_train, df_oil, how='left', on=['year', 'week'])"
      ],
      "execution_count": null,
      "outputs": []
    },
    {
      "cell_type": "markdown",
      "metadata": {
        "id": "piIkfoXt7TKu"
      },
      "source": [
        "---"
      ]
    },
    {
      "cell_type": "markdown",
      "metadata": {
        "id": "B1Ds8aYs7TKu"
      },
      "source": [
        "# Korea Weather"
      ]
    },
    {
      "cell_type": "markdown",
      "metadata": {
        "id": "5XbJR-Ul7TKu"
      },
      "source": [
        "## Import Data"
      ]
    },
    {
      "cell_type": "code",
      "metadata": {
        "id": "pb-geJf27TKu"
      },
      "source": [
        "df_weather_kr = pd.read_csv(os.path.join(root, 'raw_weather_korea.csv'), encoding='euc-kr')"
      ],
      "execution_count": null,
      "outputs": []
    },
    {
      "cell_type": "markdown",
      "metadata": {
        "id": "FlOKa7c37TKu"
      },
      "source": [
        "## Preprocess Date"
      ]
    },
    {
      "cell_type": "code",
      "metadata": {
        "id": "thyMSwfu7TKu"
      },
      "source": [
        "df_weather_kr['date'] = pd.to_datetime(df_weather_kr['일시'].str[:4] + df_weather_kr['일시'].str[5:7] + df_weather_kr['일시'].str[8:])\n",
        "set_week(df_weather_kr, 'date')"
      ],
      "execution_count": null,
      "outputs": []
    },
    {
      "cell_type": "code",
      "metadata": {
        "colab": {
          "base_uri": "https://localhost:8080/",
          "height": 204
        },
        "id": "T6YO3-xS01o2",
        "outputId": "9712737e-2791-4749-e496-9a6a184b6e72"
      },
      "source": [
        "df_weather_kr.sample(5)"
      ],
      "execution_count": 33,
      "outputs": [
        {
          "data": {
            "text/html": [
              "<div>\n",
              "<style scoped>\n",
              "    .dataframe tbody tr th:only-of-type {\n",
              "        vertical-align: middle;\n",
              "    }\n",
              "\n",
              "    .dataframe tbody tr th {\n",
              "        vertical-align: top;\n",
              "    }\n",
              "\n",
              "    .dataframe thead th {\n",
              "        text-align: right;\n",
              "    }\n",
              "</style>\n",
              "<table border=\"1\" class=\"dataframe\">\n",
              "  <thead>\n",
              "    <tr style=\"text-align: right;\">\n",
              "      <th></th>\n",
              "      <th>지점</th>\n",
              "      <th>일시</th>\n",
              "      <th>평균 풍속(m/s)</th>\n",
              "      <th>평균 기온(°C)</th>\n",
              "      <th>평균 수온(°C)</th>\n",
              "      <th>year</th>\n",
              "      <th>week</th>\n",
              "    </tr>\n",
              "  </thead>\n",
              "  <tbody>\n",
              "    <tr>\n",
              "      <th>31081</th>\n",
              "      <td>22189</td>\n",
              "      <td>2020-10-28</td>\n",
              "      <td>4.5</td>\n",
              "      <td>19.3</td>\n",
              "      <td>21.4</td>\n",
              "      <td>2020</td>\n",
              "      <td>44</td>\n",
              "    </tr>\n",
              "    <tr>\n",
              "      <th>22222</th>\n",
              "      <td>22185</td>\n",
              "      <td>2017-10-07</td>\n",
              "      <td>3.0</td>\n",
              "      <td>18.7</td>\n",
              "      <td>19.2</td>\n",
              "      <td>2017</td>\n",
              "      <td>40</td>\n",
              "    </tr>\n",
              "    <tr>\n",
              "      <th>30604</th>\n",
              "      <td>22189</td>\n",
              "      <td>2019-06-14</td>\n",
              "      <td>3.2</td>\n",
              "      <td>20.1</td>\n",
              "      <td>19.9</td>\n",
              "      <td>2019</td>\n",
              "      <td>24</td>\n",
              "    </tr>\n",
              "    <tr>\n",
              "      <th>6125</th>\n",
              "      <td>22103</td>\n",
              "      <td>2016-07-07</td>\n",
              "      <td>2.3</td>\n",
              "      <td>22.0</td>\n",
              "      <td>22.3</td>\n",
              "      <td>2016</td>\n",
              "      <td>27</td>\n",
              "    </tr>\n",
              "    <tr>\n",
              "      <th>35467</th>\n",
              "      <td>22298</td>\n",
              "      <td>2021-03-30</td>\n",
              "      <td>4.2</td>\n",
              "      <td>9.4</td>\n",
              "      <td>9.2</td>\n",
              "      <td>2021</td>\n",
              "      <td>13</td>\n",
              "    </tr>\n",
              "  </tbody>\n",
              "</table>\n",
              "</div>"
            ],
            "text/plain": [
              "          지점          일시  평균 풍속(m/s)  평균 기온(°C)  평균 수온(°C)  year  week\n",
              "31081  22189  2020-10-28         4.5       19.3       21.4  2020    44\n",
              "22222  22185  2017-10-07         3.0       18.7       19.2  2017    40\n",
              "30604  22189  2019-06-14         3.2       20.1       19.9  2019    24\n",
              "6125   22103  2016-07-07         2.3       22.0       22.3  2016    27\n",
              "35467  22298  2021-03-30         4.2        9.4        9.2  2021    13"
            ]
          },
          "execution_count": null,
          "metadata": {},
          "output_type": "execute_result"
        }
      ]
    },
    {
      "cell_type": "markdown",
      "metadata": {
        "id": "kYt6KcQk7TKu"
      },
      "source": [
        "## Group\n",
        "일자 별로 평균 구하기"
      ]
    },
    {
      "cell_type": "code",
      "metadata": {
        "id": "aihGWxu47TKu"
      },
      "source": [
        "df_weather_kr['wind_kr'] = df_weather_kr[['year', 'week', '평균 풍속(m/s)']].groupby(['year', 'week']).transform('mean')\n",
        "df_weather_kr['temperature_kr'] = df_weather_kr[['year', 'week', '평균 기온(°C)']].groupby(['year', 'week']).transform('mean')\n",
        "df_weather_kr['water_temp_kr'] = df_weather_kr[['year', 'week', '평균 수온(°C)']].groupby(['year', 'week']).transform('mean')"
      ],
      "execution_count": 34,
      "outputs": []
    },
    {
      "cell_type": "markdown",
      "metadata": {
        "id": "iRuMRtrf7TKu"
      },
      "source": [
        "## Drop Column\n",
        "어차피 전부 해안가 대한민국이라 지점은 필요없다  \n",
        "사용한 컬럼은 제거한다"
      ]
    },
    {
      "cell_type": "code",
      "metadata": {
        "id": "e1Yd77_L7TKu"
      },
      "source": [
        "drop = ['지점', '일시', '평균 풍속(m/s)', '평균 기온(°C)', '평균 수온(°C)']"
      ],
      "execution_count": 35,
      "outputs": []
    },
    {
      "cell_type": "code",
      "metadata": {
        "id": "cDy5qdfk7TKv"
      },
      "source": [
        "df_weather_kr.drop(columns=drop, inplace=True, axis=1)\n",
        "df_weather_kr.drop_duplicates(inplace=True)"
      ],
      "execution_count": 36,
      "outputs": []
    },
    {
      "cell_type": "markdown",
      "metadata": {
        "id": "19HD2UlJ1asv"
      },
      "source": [
        "## Check"
      ]
    },
    {
      "cell_type": "code",
      "metadata": {
        "colab": {
          "base_uri": "https://localhost:8080/"
        },
        "id": "T-Oxuayn1ZUr",
        "outputId": "540e0ebd-4466-4ec2-d4a9-59ace3d53e80"
      },
      "source": [
        "check_week(df_weather_kr)"
      ],
      "execution_count": 37,
      "outputs": [
        {
          "metadata": {
            "tags": null
          },
          "name": "stdout",
          "output_type": "stream",
          "text": [
            "missing 0 values\n"
          ]
        }
      ]
    },
    {
      "cell_type": "markdown",
      "metadata": {
        "id": "gH6G-gCb7TKv"
      },
      "source": [
        "## Add to Training Data"
      ]
    },
    {
      "cell_type": "code",
      "metadata": {
        "id": "pAeFVJZm7TKv"
      },
      "source": [
        "df_train = pd.merge(df_train, df_weather_kr, how='left', on=['year', 'week'])"
      ],
      "execution_count": 38,
      "outputs": []
    },
    {
      "cell_type": "markdown",
      "metadata": {
        "id": "0s4waw097TKv"
      },
      "source": [
        "---"
      ]
    },
    {
      "cell_type": "markdown",
      "metadata": {
        "id": "L0rIG3y37TKv"
      },
      "source": [
        "# 소비자물가지수"
      ]
    },
    {
      "cell_type": "markdown",
      "metadata": {
        "id": "UEjWmwdM7TKv"
      },
      "source": [
        "## Import Data"
      ]
    },
    {
      "cell_type": "code",
      "metadata": {
        "id": "TcpeFP4j7TKv"
      },
      "source": [
        "cpi = pd.read_csv(os.path.join(root, 'raw_cpi_purpose.csv'), encoding='cp949')  # CPI"
      ],
      "execution_count": 40,
      "outputs": []
    },
    {
      "cell_type": "markdown",
      "metadata": {
        "id": "miqYSGQFFeUR"
      },
      "source": [
        "## 소비자물가 총지수"
      ]
    },
    {
      "cell_type": "markdown",
      "metadata": {
        "id": "lusxs6UZF3mJ"
      },
      "source": [
        "### Drop Columns/Rows"
      ]
    },
    {
      "cell_type": "code",
      "metadata": {
        "id": "8E0xt4saFiKH",
        "colab": {
          "base_uri": "https://localhost:8080/",
          "height": 232
        },
        "outputId": "cfd88d3b-22e3-4138-c01e-dd5cda97a8b8"
      },
      "source": [
        "cpi_purpose.drop('시도별',axis=1,inplace=True)\n",
        "\n",
        "cpi_purpose_copy = cpi_purpose.copy()\n",
        "\n",
        "cpi_purpose_copy.drop('지출목적별',axis=1,inplace=True)\n",
        "\n",
        "cpi_total = cpi_purpose_copy.iloc[0,:] # 전국 소비자물가 총지수만 추출\n",
        "\n",
        "cpi_total = pd.DataFrame(cpi_total.values,columns=['cpi'],index=cpi_total.index)\n",
        "\n",
        "cpi_total"
      ],
      "execution_count": 41,
      "outputs": [
        {
          "output_type": "error",
          "ename": "NameError",
          "evalue": "ignored",
          "traceback": [
            "\u001b[0;31m---------------------------------------------------------------------------\u001b[0m",
            "\u001b[0;31mNameError\u001b[0m                                 Traceback (most recent call last)",
            "\u001b[0;32m<ipython-input-41-8e359a974bce>\u001b[0m in \u001b[0;36m<module>\u001b[0;34m()\u001b[0m\n\u001b[0;32m----> 1\u001b[0;31m \u001b[0mcpi_purpose\u001b[0m\u001b[0;34m.\u001b[0m\u001b[0mdrop\u001b[0m\u001b[0;34m(\u001b[0m\u001b[0;34m'시도별'\u001b[0m\u001b[0;34m,\u001b[0m\u001b[0maxis\u001b[0m\u001b[0;34m=\u001b[0m\u001b[0;36m1\u001b[0m\u001b[0;34m,\u001b[0m\u001b[0minplace\u001b[0m\u001b[0;34m=\u001b[0m\u001b[0;32mTrue\u001b[0m\u001b[0;34m)\u001b[0m\u001b[0;34m\u001b[0m\u001b[0;34m\u001b[0m\u001b[0m\n\u001b[0m\u001b[1;32m      2\u001b[0m \u001b[0;34m\u001b[0m\u001b[0m\n\u001b[1;32m      3\u001b[0m \u001b[0mcpi_purpose_copy\u001b[0m \u001b[0;34m=\u001b[0m \u001b[0mcpi_purpose\u001b[0m\u001b[0;34m.\u001b[0m\u001b[0mcopy\u001b[0m\u001b[0;34m(\u001b[0m\u001b[0;34m)\u001b[0m\u001b[0;34m\u001b[0m\u001b[0;34m\u001b[0m\u001b[0m\n\u001b[1;32m      4\u001b[0m \u001b[0;34m\u001b[0m\u001b[0m\n\u001b[1;32m      5\u001b[0m \u001b[0mcpi_purpose_copy\u001b[0m\u001b[0;34m.\u001b[0m\u001b[0mdrop\u001b[0m\u001b[0;34m(\u001b[0m\u001b[0;34m'지출목적별'\u001b[0m\u001b[0;34m,\u001b[0m\u001b[0maxis\u001b[0m\u001b[0;34m=\u001b[0m\u001b[0;36m1\u001b[0m\u001b[0;34m,\u001b[0m\u001b[0minplace\u001b[0m\u001b[0;34m=\u001b[0m\u001b[0;32mTrue\u001b[0m\u001b[0;34m)\u001b[0m\u001b[0;34m\u001b[0m\u001b[0;34m\u001b[0m\u001b[0m\n",
            "\u001b[0;31mNameError\u001b[0m: name 'cpi_purpose' is not defined"
          ]
        }
      ]
    },
    {
      "cell_type": "markdown",
      "metadata": {
        "id": "REUhHqUwFswV"
      },
      "source": [
        "### Pivoting"
      ]
    },
    {
      "cell_type": "code",
      "metadata": {
        "id": "rBe0CV3CFu3k"
      },
      "source": [
        "cpi_purpose_copy = cpi_purpose.copy()\n",
        "\n",
        "cpi_purpose_copy.drop('지출목적별',axis=1,inplace=True)\n",
        "\n",
        "cpi_total = cpi_purpose_copy.iloc[0,:] # 전국 소비자물가 총지수만 추출\n",
        "\n",
        "cpi_total = pd.DataFrame(cpi_total.values,columns=['cpi'],index=cpi_total.index)\n",
        "\n",
        "cpi_total"
      ],
      "execution_count": null,
      "outputs": []
    },
    {
      "cell_type": "markdown",
      "metadata": {
        "id": "LE451chsESbg"
      },
      "source": [
        "## 지출목적별 소비자물가지수"
      ]
    },
    {
      "cell_type": "code",
      "metadata": {
        "id": "0VfK9Sjy7TKw"
      },
      "source": [
        "cpi_purpose2 = cpi_purpose.iloc[[1,11],:]\n",
        "\n",
        "cpi_purpose2 # 전국 식료품별, 음식서비스별 cpi만 추출"
      ],
      "execution_count": null,
      "outputs": []
    },
    {
      "cell_type": "code",
      "metadata": {
        "id": "v3IqwmxIDoKz"
      },
      "source": [
        "cpi_purpose3 = pd.DataFrame(cpi_purpose2.iloc[0,:].values,index = cpi_purpose2.columns,columns=['식료품 cpi'])\n",
        "\n",
        "cpi_purpose3['음식 및 숙박 cpi'] = cpi_purpose2.iloc[1,:].values\n",
        "\n",
        "cpi_purpose3.drop('지출목적별',axis=0,inplace=True) # 지출목적별 행 삭제\n",
        "\n",
        "cpi_purpose3 # 식료품, 음식 cpi"
      ],
      "execution_count": null,
      "outputs": []
    },
    {
      "cell_type": "markdown",
      "metadata": {
        "id": "enlfpfJd7TKw"
      },
      "source": [
        "## Preprocess Date"
      ]
    },
    {
      "cell_type": "code",
      "metadata": {
        "id": "TYyzi8rh7TKw"
      },
      "source": [
        "cpi_total.reset_index(inplace=True)  # 날짜 인덱스 > 컬럼으로 변경\n",
        "cpi_purpose3.reset_index(inplace=True)  # 날짜 인덱스 > 컬럼으로 변경"
      ],
      "execution_count": null,
      "outputs": []
    },
    {
      "cell_type": "code",
      "metadata": {
        "id": "6-jU3p587TKw"
      },
      "source": [
        "cpi_total['year'] = cpi_total['index'].str[:4].astype('int')\n",
        "cpi_total['month'] = cpi_total['index'].str[5:].astype('int')\n",
        "cpi_total.drop(columns=['index'], inplace=True, axis=1)\n",
        "\n",
        "cpi_purpose3['year'] = cpi_purpose3['index'].str[:4].astype('int')\n",
        "cpi_purpose3['month'] = cpi_purpose3['index'].str[5:].astype('int')\n",
        "cpi_purpose3.drop(columns=['index'], inplace=True, axis=1)"
      ],
      "execution_count": null,
      "outputs": []
    },
    {
      "cell_type": "markdown",
      "metadata": {
        "id": "0ow1qhem7TKw"
      },
      "source": [
        "## Add to Training Data"
      ]
    },
    {
      "cell_type": "code",
      "metadata": {
        "id": "LkF8mrnC7TKw"
      },
      "source": [
        "df_train = pd.merge(df_train, df_cpi1, how='left', on=['year', 'month'])\n",
        "df_train = pd.merge(df_train, df_cpi2, how='left', on=['year', 'month'])"
      ],
      "execution_count": null,
      "outputs": []
    },
    {
      "cell_type": "code",
      "metadata": {
        "id": "XesE8rQK7TKw"
      },
      "source": [
        "pd.set_option(\"display.max_columns\", None)\n",
        "df_train.sample(5)"
      ],
      "execution_count": null,
      "outputs": []
    },
    {
      "cell_type": "markdown",
      "metadata": {
        "id": "PBX2gc1s7TKw"
      },
      "source": [
        "---"
      ]
    },
    {
      "cell_type": "markdown",
      "metadata": {
        "id": "prmrs50a7TKw"
      },
      "source": [
        "# Final"
      ]
    },
    {
      "cell_type": "markdown",
      "metadata": {
        "id": "Ui7PhQlm7TKw"
      },
      "source": [
        "## One-hot Encoding"
      ]
    },
    {
      "cell_type": "code",
      "metadata": {
        "id": "D2wAIEY_7TKw"
      },
      "source": [
        "one_hot = ['CTRY_1', 'CTRY_2', 'P_PURPOSE', 'CATEGORY_1', 'CATEGORY_2', 'P_NAME']"
      ],
      "execution_count": 152,
      "outputs": []
    },
    {
      "cell_type": "code",
      "metadata": {
        "id": "pRKkcACh7TKw"
      },
      "source": [
        "df_train = pd.get_dummies(df_train, columns=one_hot)"
      ],
      "execution_count": 153,
      "outputs": []
    },
    {
      "cell_type": "markdown",
      "metadata": {
        "id": "9TjOq4PM7TKx"
      },
      "source": [
        "## Drop Columns"
      ]
    },
    {
      "cell_type": "code",
      "metadata": {
        "id": "02DqP-aR7TKx"
      },
      "source": [
        "drop = ['REG_DATE', 'P_TYPE', 'P_IMPORT_TYPE']"
      ],
      "execution_count": 154,
      "outputs": []
    },
    {
      "cell_type": "code",
      "metadata": {
        "id": "Yr1Q_9kz7TKx",
        "colab": {
          "base_uri": "https://localhost:8080/",
          "height": 307
        },
        "outputId": "477d5cdb-10b3-4432-bda5-c3fe54d55069"
      },
      "source": [
        "df_train.drop(columns = drop, inplace=True)"
      ],
      "execution_count": 155,
      "outputs": [
        {
          "output_type": "error",
          "ename": "KeyError",
          "evalue": "ignored",
          "traceback": [
            "\u001b[0;31m---------------------------------------------------------------------------\u001b[0m",
            "\u001b[0;31mKeyError\u001b[0m                                  Traceback (most recent call last)",
            "\u001b[0;32m<ipython-input-155-753d0ee9dfe6>\u001b[0m in \u001b[0;36m<module>\u001b[0;34m()\u001b[0m\n\u001b[0;32m----> 1\u001b[0;31m \u001b[0mdf_train\u001b[0m\u001b[0;34m.\u001b[0m\u001b[0mdrop\u001b[0m\u001b[0;34m(\u001b[0m\u001b[0mcolumns\u001b[0m \u001b[0;34m=\u001b[0m \u001b[0mdrop\u001b[0m\u001b[0;34m,\u001b[0m \u001b[0minplace\u001b[0m\u001b[0;34m=\u001b[0m\u001b[0;32mTrue\u001b[0m\u001b[0;34m)\u001b[0m\u001b[0;34m\u001b[0m\u001b[0;34m\u001b[0m\u001b[0m\n\u001b[0m",
            "\u001b[0;32m/usr/local/lib/python3.7/dist-packages/pandas/core/frame.py\u001b[0m in \u001b[0;36mdrop\u001b[0;34m(self, labels, axis, index, columns, level, inplace, errors)\u001b[0m\n\u001b[1;32m   4172\u001b[0m             \u001b[0mlevel\u001b[0m\u001b[0;34m=\u001b[0m\u001b[0mlevel\u001b[0m\u001b[0;34m,\u001b[0m\u001b[0;34m\u001b[0m\u001b[0;34m\u001b[0m\u001b[0m\n\u001b[1;32m   4173\u001b[0m             \u001b[0minplace\u001b[0m\u001b[0;34m=\u001b[0m\u001b[0minplace\u001b[0m\u001b[0;34m,\u001b[0m\u001b[0;34m\u001b[0m\u001b[0;34m\u001b[0m\u001b[0m\n\u001b[0;32m-> 4174\u001b[0;31m             \u001b[0merrors\u001b[0m\u001b[0;34m=\u001b[0m\u001b[0merrors\u001b[0m\u001b[0;34m,\u001b[0m\u001b[0;34m\u001b[0m\u001b[0;34m\u001b[0m\u001b[0m\n\u001b[0m\u001b[1;32m   4175\u001b[0m         )\n\u001b[1;32m   4176\u001b[0m \u001b[0;34m\u001b[0m\u001b[0m\n",
            "\u001b[0;32m/usr/local/lib/python3.7/dist-packages/pandas/core/generic.py\u001b[0m in \u001b[0;36mdrop\u001b[0;34m(self, labels, axis, index, columns, level, inplace, errors)\u001b[0m\n\u001b[1;32m   3887\u001b[0m         \u001b[0;32mfor\u001b[0m \u001b[0maxis\u001b[0m\u001b[0;34m,\u001b[0m \u001b[0mlabels\u001b[0m \u001b[0;32min\u001b[0m \u001b[0maxes\u001b[0m\u001b[0;34m.\u001b[0m\u001b[0mitems\u001b[0m\u001b[0;34m(\u001b[0m\u001b[0;34m)\u001b[0m\u001b[0;34m:\u001b[0m\u001b[0;34m\u001b[0m\u001b[0;34m\u001b[0m\u001b[0m\n\u001b[1;32m   3888\u001b[0m             \u001b[0;32mif\u001b[0m \u001b[0mlabels\u001b[0m \u001b[0;32mis\u001b[0m \u001b[0;32mnot\u001b[0m \u001b[0;32mNone\u001b[0m\u001b[0;34m:\u001b[0m\u001b[0;34m\u001b[0m\u001b[0;34m\u001b[0m\u001b[0m\n\u001b[0;32m-> 3889\u001b[0;31m                 \u001b[0mobj\u001b[0m \u001b[0;34m=\u001b[0m \u001b[0mobj\u001b[0m\u001b[0;34m.\u001b[0m\u001b[0m_drop_axis\u001b[0m\u001b[0;34m(\u001b[0m\u001b[0mlabels\u001b[0m\u001b[0;34m,\u001b[0m \u001b[0maxis\u001b[0m\u001b[0;34m,\u001b[0m \u001b[0mlevel\u001b[0m\u001b[0;34m=\u001b[0m\u001b[0mlevel\u001b[0m\u001b[0;34m,\u001b[0m \u001b[0merrors\u001b[0m\u001b[0;34m=\u001b[0m\u001b[0merrors\u001b[0m\u001b[0;34m)\u001b[0m\u001b[0;34m\u001b[0m\u001b[0;34m\u001b[0m\u001b[0m\n\u001b[0m\u001b[1;32m   3890\u001b[0m \u001b[0;34m\u001b[0m\u001b[0m\n\u001b[1;32m   3891\u001b[0m         \u001b[0;32mif\u001b[0m \u001b[0minplace\u001b[0m\u001b[0;34m:\u001b[0m\u001b[0;34m\u001b[0m\u001b[0;34m\u001b[0m\u001b[0m\n",
            "\u001b[0;32m/usr/local/lib/python3.7/dist-packages/pandas/core/generic.py\u001b[0m in \u001b[0;36m_drop_axis\u001b[0;34m(self, labels, axis, level, errors)\u001b[0m\n\u001b[1;32m   3921\u001b[0m                 \u001b[0mnew_axis\u001b[0m \u001b[0;34m=\u001b[0m \u001b[0maxis\u001b[0m\u001b[0;34m.\u001b[0m\u001b[0mdrop\u001b[0m\u001b[0;34m(\u001b[0m\u001b[0mlabels\u001b[0m\u001b[0;34m,\u001b[0m \u001b[0mlevel\u001b[0m\u001b[0;34m=\u001b[0m\u001b[0mlevel\u001b[0m\u001b[0;34m,\u001b[0m \u001b[0merrors\u001b[0m\u001b[0;34m=\u001b[0m\u001b[0merrors\u001b[0m\u001b[0;34m)\u001b[0m\u001b[0;34m\u001b[0m\u001b[0;34m\u001b[0m\u001b[0m\n\u001b[1;32m   3922\u001b[0m             \u001b[0;32melse\u001b[0m\u001b[0;34m:\u001b[0m\u001b[0;34m\u001b[0m\u001b[0;34m\u001b[0m\u001b[0m\n\u001b[0;32m-> 3923\u001b[0;31m                 \u001b[0mnew_axis\u001b[0m \u001b[0;34m=\u001b[0m \u001b[0maxis\u001b[0m\u001b[0;34m.\u001b[0m\u001b[0mdrop\u001b[0m\u001b[0;34m(\u001b[0m\u001b[0mlabels\u001b[0m\u001b[0;34m,\u001b[0m \u001b[0merrors\u001b[0m\u001b[0;34m=\u001b[0m\u001b[0merrors\u001b[0m\u001b[0;34m)\u001b[0m\u001b[0;34m\u001b[0m\u001b[0;34m\u001b[0m\u001b[0m\n\u001b[0m\u001b[1;32m   3924\u001b[0m             \u001b[0mresult\u001b[0m \u001b[0;34m=\u001b[0m \u001b[0mself\u001b[0m\u001b[0;34m.\u001b[0m\u001b[0mreindex\u001b[0m\u001b[0;34m(\u001b[0m\u001b[0;34m**\u001b[0m\u001b[0;34m{\u001b[0m\u001b[0maxis_name\u001b[0m\u001b[0;34m:\u001b[0m \u001b[0mnew_axis\u001b[0m\u001b[0;34m}\u001b[0m\u001b[0;34m)\u001b[0m\u001b[0;34m\u001b[0m\u001b[0;34m\u001b[0m\u001b[0m\n\u001b[1;32m   3925\u001b[0m \u001b[0;34m\u001b[0m\u001b[0m\n",
            "\u001b[0;32m/usr/local/lib/python3.7/dist-packages/pandas/core/indexes/base.py\u001b[0m in \u001b[0;36mdrop\u001b[0;34m(self, labels, errors)\u001b[0m\n\u001b[1;32m   5285\u001b[0m         \u001b[0;32mif\u001b[0m \u001b[0mmask\u001b[0m\u001b[0;34m.\u001b[0m\u001b[0many\u001b[0m\u001b[0;34m(\u001b[0m\u001b[0;34m)\u001b[0m\u001b[0;34m:\u001b[0m\u001b[0;34m\u001b[0m\u001b[0;34m\u001b[0m\u001b[0m\n\u001b[1;32m   5286\u001b[0m             \u001b[0;32mif\u001b[0m \u001b[0merrors\u001b[0m \u001b[0;34m!=\u001b[0m \u001b[0;34m\"ignore\"\u001b[0m\u001b[0;34m:\u001b[0m\u001b[0;34m\u001b[0m\u001b[0;34m\u001b[0m\u001b[0m\n\u001b[0;32m-> 5287\u001b[0;31m                 \u001b[0;32mraise\u001b[0m \u001b[0mKeyError\u001b[0m\u001b[0;34m(\u001b[0m\u001b[0;34mf\"{labels[mask]} not found in axis\"\u001b[0m\u001b[0;34m)\u001b[0m\u001b[0;34m\u001b[0m\u001b[0;34m\u001b[0m\u001b[0m\n\u001b[0m\u001b[1;32m   5288\u001b[0m             \u001b[0mindexer\u001b[0m \u001b[0;34m=\u001b[0m \u001b[0mindexer\u001b[0m\u001b[0;34m[\u001b[0m\u001b[0;34m~\u001b[0m\u001b[0mmask\u001b[0m\u001b[0;34m]\u001b[0m\u001b[0;34m\u001b[0m\u001b[0;34m\u001b[0m\u001b[0m\n\u001b[1;32m   5289\u001b[0m         \u001b[0;32mreturn\u001b[0m \u001b[0mself\u001b[0m\u001b[0;34m.\u001b[0m\u001b[0mdelete\u001b[0m\u001b[0;34m(\u001b[0m\u001b[0mindexer\u001b[0m\u001b[0;34m)\u001b[0m\u001b[0;34m\u001b[0m\u001b[0;34m\u001b[0m\u001b[0m\n",
            "\u001b[0;31mKeyError\u001b[0m: \"['REG_DATE'] not found in axis\""
          ]
        }
      ]
    },
    {
      "cell_type": "markdown",
      "metadata": {
        "id": "bUh5DXKd_1F0"
      },
      "source": [
        "# Exchange"
      ]
    },
    {
      "cell_type": "code",
      "metadata": {
        "id": "Vg0v91nMAa2z"
      },
      "source": [
        "root_2 = '/content/drive/MyDrive/BigContest/DATA_기타/환율/'"
      ],
      "execution_count": 88,
      "outputs": []
    },
    {
      "cell_type": "code",
      "metadata": {
        "id": "-621l0XU_5zf"
      },
      "source": [
        "exchange_list = [pd.read_csv(root_2 + 'exchange_chile_7.csv'),\n",
        "                 pd.read_csv(root_2 + 'exchange_chn_7.csv'),\n",
        "                 pd.read_csv(root_2 + 'exchange_nor_7.csv'),\n",
        "                 pd.read_csv(root_2 + 'exchange_peru_7.csv'),\n",
        "                 pd.read_csv(root_2 + 'exchange_thai_7.csv'),\n",
        "                 pd.read_csv(root_2 + 'exchange_vit_final.csv')]"
      ],
      "execution_count": 89,
      "outputs": []
    },
    {
      "cell_type": "code",
      "metadata": {
        "colab": {
          "base_uri": "https://localhost:8080/"
        },
        "id": "aWdeyQ28_5yB",
        "outputId": "27ebe3f7-1e5b-4ce7-e096-d5c4c412bcbf"
      },
      "source": [
        "for lst in exchange_list:\n",
        "  lst.drop('Unnamed: 0', axis=1, inplace=True)\n",
        "\n",
        "for lst in exchange_list:\n",
        "  set_week(lst, '날짜')\n",
        "\n",
        "for lst in exchange_list:\n",
        "  check_week(lst)"
      ],
      "execution_count": 90,
      "outputs": [
        {
          "output_type": "stream",
          "text": [
            "missing 0 values\n",
            "missing 0 values\n",
            "missing 0 values\n",
            "missing 0 values\n",
            "missing 0 values\n",
            "missing 0 values\n"
          ],
          "name": "stdout"
        }
      ]
    },
    {
      "cell_type": "code",
      "metadata": {
        "id": "NxgjligY_5nz"
      },
      "source": [
        "CTRY_list = ['칠레', '중국', '노르웨이', '페루', '태국', '베트남']\n",
        "\n",
        "for num, nation in enumerate(CTRY_list):\n",
        "  exchange_list[num]['CTRY_2']=nation"
      ],
      "execution_count": 91,
      "outputs": []
    },
    {
      "cell_type": "code",
      "metadata": {
        "id": "CPa5WCCiPynk"
      },
      "source": [
        "for i in range(1):\n",
        "  concat_df = pd.concat([exchange_list[i], exchange_list[i+1],exchange_list[i + 2],exchange_list[i+ 3],exchange_list[i + 4],exchange_list[i + 5]], axis=0)\n",
        "final_merge = pd.merge(df_train, concat_df, how='left', on=['year','week','CTRY_2'])"
      ],
      "execution_count": 92,
      "outputs": []
    },
    {
      "cell_type": "code",
      "metadata": {
        "colab": {
          "base_uri": "https://localhost:8080/",
          "height": 626
        },
        "id": "n460uzbE_5lC",
        "outputId": "0169aef8-4156-4de1-daad-63f61b84cfe2"
      },
      "source": [
        "final_merge"
      ],
      "execution_count": 97,
      "outputs": [
        {
          "output_type": "execute_result",
          "data": {
            "text/html": [
              "<div>\n",
              "<style scoped>\n",
              "    .dataframe tbody tr th:only-of-type {\n",
              "        vertical-align: middle;\n",
              "    }\n",
              "\n",
              "    .dataframe tbody tr th {\n",
              "        vertical-align: top;\n",
              "    }\n",
              "\n",
              "    .dataframe thead th {\n",
              "        text-align: right;\n",
              "    }\n",
              "</style>\n",
              "<table border=\"1\" class=\"dataframe\">\n",
              "  <thead>\n",
              "    <tr style=\"text-align: right;\">\n",
              "      <th></th>\n",
              "      <th>P_TYPE</th>\n",
              "      <th>CTRY_1</th>\n",
              "      <th>CTRY_2</th>\n",
              "      <th>P_PURPOSE</th>\n",
              "      <th>CATEGORY_1</th>\n",
              "      <th>CATEGORY_2</th>\n",
              "      <th>P_NAME</th>\n",
              "      <th>P_IMPORT_TYPE</th>\n",
              "      <th>P_PRICE</th>\n",
              "      <th>횟감</th>\n",
              "      <th>활</th>\n",
              "      <th>난포선</th>\n",
              "      <th>캐비아대용</th>\n",
              "      <th>곤이</th>\n",
              "      <th>알</th>\n",
              "      <th>필렛(F)</th>\n",
              "      <th>머리</th>\n",
              "      <th>목살</th>\n",
              "      <th>냉동</th>\n",
              "      <th>다리</th>\n",
              "      <th>턱살</th>\n",
              "      <th>머리_외화획득용</th>\n",
              "      <th>한쪽껍질붙은</th>\n",
              "      <th>눈살</th>\n",
              "      <th>냉장</th>\n",
              "      <th>슬라이스(S)</th>\n",
              "      <th>간</th>\n",
              "      <th>집게다리</th>\n",
              "      <th>포장횟감</th>\n",
              "      <th>절단</th>\n",
              "      <th>머리살</th>\n",
              "      <th>지느러미</th>\n",
              "      <th>훈제</th>\n",
              "      <th>개아지살</th>\n",
              "      <th>자숙</th>\n",
              "      <th>껍질</th>\n",
              "      <th>살</th>\n",
              "      <th>내장</th>\n",
              "      <th>외투막</th>\n",
              "      <th>염장</th>\n",
              "      <th>줄기</th>\n",
              "      <th>동체</th>\n",
              "      <th>볼살</th>\n",
              "      <th>건조</th>\n",
              "      <th>창난</th>\n",
              "      <th>꼬리_외화획득용</th>\n",
              "      <th>year</th>\n",
              "      <th>week</th>\n",
              "      <th>name_cnt</th>\n",
              "      <th>is_processed</th>\n",
              "      <th>import_cnt</th>\n",
              "      <th>rain</th>\n",
              "      <th>wind</th>\n",
              "      <th>temperature</th>\n",
              "      <th>oil</th>\n",
              "      <th>wind_kr</th>\n",
              "      <th>temperature_kr</th>\n",
              "      <th>water_temp_kr</th>\n",
              "      <th>종가</th>\n",
              "    </tr>\n",
              "  </thead>\n",
              "  <tbody>\n",
              "    <tr>\n",
              "      <th>0</th>\n",
              "      <td>수산물</td>\n",
              "      <td>아르헨티나</td>\n",
              "      <td>아르헨티나</td>\n",
              "      <td>판매용</td>\n",
              "      <td>갑각류</td>\n",
              "      <td>새우</td>\n",
              "      <td>아르헨티나붉은새우</td>\n",
              "      <td>냉동</td>\n",
              "      <td>7.480000</td>\n",
              "      <td>0</td>\n",
              "      <td>0</td>\n",
              "      <td>0</td>\n",
              "      <td>0</td>\n",
              "      <td>0</td>\n",
              "      <td>0</td>\n",
              "      <td>0</td>\n",
              "      <td>0</td>\n",
              "      <td>0</td>\n",
              "      <td>1</td>\n",
              "      <td>0</td>\n",
              "      <td>0</td>\n",
              "      <td>0</td>\n",
              "      <td>0</td>\n",
              "      <td>0</td>\n",
              "      <td>0</td>\n",
              "      <td>0</td>\n",
              "      <td>0</td>\n",
              "      <td>0</td>\n",
              "      <td>0</td>\n",
              "      <td>0</td>\n",
              "      <td>0</td>\n",
              "      <td>0</td>\n",
              "      <td>0</td>\n",
              "      <td>0</td>\n",
              "      <td>0</td>\n",
              "      <td>0</td>\n",
              "      <td>0</td>\n",
              "      <td>0</td>\n",
              "      <td>0</td>\n",
              "      <td>0</td>\n",
              "      <td>0</td>\n",
              "      <td>0</td>\n",
              "      <td>0</td>\n",
              "      <td>0</td>\n",
              "      <td>0</td>\n",
              "      <td>0</td>\n",
              "      <td>2015</td>\n",
              "      <td>53</td>\n",
              "      <td>79</td>\n",
              "      <td>False</td>\n",
              "      <td>1</td>\n",
              "      <td>NaN</td>\n",
              "      <td>NaN</td>\n",
              "      <td>NaN</td>\n",
              "      <td>37.08</td>\n",
              "      <td>5.352941</td>\n",
              "      <td>7.973109</td>\n",
              "      <td>13.732174</td>\n",
              "      <td>NaN</td>\n",
              "    </tr>\n",
              "    <tr>\n",
              "      <th>1</th>\n",
              "      <td>수산물</td>\n",
              "      <td>바레인</td>\n",
              "      <td>바레인</td>\n",
              "      <td>판매용</td>\n",
              "      <td>갑각류</td>\n",
              "      <td>게</td>\n",
              "      <td>꽃게</td>\n",
              "      <td>냉동</td>\n",
              "      <td>2.920000</td>\n",
              "      <td>0</td>\n",
              "      <td>0</td>\n",
              "      <td>0</td>\n",
              "      <td>0</td>\n",
              "      <td>0</td>\n",
              "      <td>0</td>\n",
              "      <td>0</td>\n",
              "      <td>0</td>\n",
              "      <td>0</td>\n",
              "      <td>1</td>\n",
              "      <td>0</td>\n",
              "      <td>0</td>\n",
              "      <td>0</td>\n",
              "      <td>0</td>\n",
              "      <td>0</td>\n",
              "      <td>0</td>\n",
              "      <td>0</td>\n",
              "      <td>0</td>\n",
              "      <td>0</td>\n",
              "      <td>0</td>\n",
              "      <td>0</td>\n",
              "      <td>0</td>\n",
              "      <td>0</td>\n",
              "      <td>0</td>\n",
              "      <td>0</td>\n",
              "      <td>0</td>\n",
              "      <td>0</td>\n",
              "      <td>0</td>\n",
              "      <td>0</td>\n",
              "      <td>0</td>\n",
              "      <td>0</td>\n",
              "      <td>0</td>\n",
              "      <td>0</td>\n",
              "      <td>0</td>\n",
              "      <td>0</td>\n",
              "      <td>0</td>\n",
              "      <td>0</td>\n",
              "      <td>2015</td>\n",
              "      <td>53</td>\n",
              "      <td>596</td>\n",
              "      <td>False</td>\n",
              "      <td>1</td>\n",
              "      <td>NaN</td>\n",
              "      <td>NaN</td>\n",
              "      <td>NaN</td>\n",
              "      <td>37.08</td>\n",
              "      <td>5.352941</td>\n",
              "      <td>7.973109</td>\n",
              "      <td>13.732174</td>\n",
              "      <td>NaN</td>\n",
              "    </tr>\n",
              "    <tr>\n",
              "      <th>2</th>\n",
              "      <td>수산물</td>\n",
              "      <td>바레인</td>\n",
              "      <td>바레인</td>\n",
              "      <td>판매용</td>\n",
              "      <td>갑각류</td>\n",
              "      <td>게</td>\n",
              "      <td>꽃게</td>\n",
              "      <td>냉동,절단</td>\n",
              "      <td>3.356352</td>\n",
              "      <td>0</td>\n",
              "      <td>0</td>\n",
              "      <td>0</td>\n",
              "      <td>0</td>\n",
              "      <td>0</td>\n",
              "      <td>0</td>\n",
              "      <td>0</td>\n",
              "      <td>0</td>\n",
              "      <td>0</td>\n",
              "      <td>1</td>\n",
              "      <td>0</td>\n",
              "      <td>0</td>\n",
              "      <td>0</td>\n",
              "      <td>0</td>\n",
              "      <td>0</td>\n",
              "      <td>0</td>\n",
              "      <td>0</td>\n",
              "      <td>0</td>\n",
              "      <td>0</td>\n",
              "      <td>0</td>\n",
              "      <td>1</td>\n",
              "      <td>0</td>\n",
              "      <td>0</td>\n",
              "      <td>0</td>\n",
              "      <td>0</td>\n",
              "      <td>0</td>\n",
              "      <td>0</td>\n",
              "      <td>0</td>\n",
              "      <td>0</td>\n",
              "      <td>0</td>\n",
              "      <td>0</td>\n",
              "      <td>0</td>\n",
              "      <td>0</td>\n",
              "      <td>0</td>\n",
              "      <td>0</td>\n",
              "      <td>0</td>\n",
              "      <td>0</td>\n",
              "      <td>2015</td>\n",
              "      <td>53</td>\n",
              "      <td>596</td>\n",
              "      <td>False</td>\n",
              "      <td>2</td>\n",
              "      <td>NaN</td>\n",
              "      <td>NaN</td>\n",
              "      <td>NaN</td>\n",
              "      <td>37.08</td>\n",
              "      <td>5.352941</td>\n",
              "      <td>7.973109</td>\n",
              "      <td>13.732174</td>\n",
              "      <td>NaN</td>\n",
              "    </tr>\n",
              "    <tr>\n",
              "      <th>3</th>\n",
              "      <td>수산물</td>\n",
              "      <td>칠레</td>\n",
              "      <td>칠레</td>\n",
              "      <td>판매용</td>\n",
              "      <td>패류 멍게류</td>\n",
              "      <td>해삼</td>\n",
              "      <td>해삼</td>\n",
              "      <td>건조,자숙</td>\n",
              "      <td>18.260870</td>\n",
              "      <td>0</td>\n",
              "      <td>0</td>\n",
              "      <td>0</td>\n",
              "      <td>0</td>\n",
              "      <td>0</td>\n",
              "      <td>0</td>\n",
              "      <td>0</td>\n",
              "      <td>0</td>\n",
              "      <td>0</td>\n",
              "      <td>0</td>\n",
              "      <td>0</td>\n",
              "      <td>0</td>\n",
              "      <td>0</td>\n",
              "      <td>0</td>\n",
              "      <td>0</td>\n",
              "      <td>0</td>\n",
              "      <td>0</td>\n",
              "      <td>0</td>\n",
              "      <td>0</td>\n",
              "      <td>0</td>\n",
              "      <td>0</td>\n",
              "      <td>0</td>\n",
              "      <td>0</td>\n",
              "      <td>0</td>\n",
              "      <td>0</td>\n",
              "      <td>1</td>\n",
              "      <td>0</td>\n",
              "      <td>0</td>\n",
              "      <td>0</td>\n",
              "      <td>0</td>\n",
              "      <td>0</td>\n",
              "      <td>0</td>\n",
              "      <td>0</td>\n",
              "      <td>0</td>\n",
              "      <td>1</td>\n",
              "      <td>0</td>\n",
              "      <td>0</td>\n",
              "      <td>2015</td>\n",
              "      <td>53</td>\n",
              "      <td>328</td>\n",
              "      <td>False</td>\n",
              "      <td>2</td>\n",
              "      <td>0.580000</td>\n",
              "      <td>6.833333</td>\n",
              "      <td>16.963333</td>\n",
              "      <td>37.08</td>\n",
              "      <td>5.352941</td>\n",
              "      <td>7.973109</td>\n",
              "      <td>13.732174</td>\n",
              "      <td>0.0014</td>\n",
              "    </tr>\n",
              "    <tr>\n",
              "      <th>4</th>\n",
              "      <td>수산물</td>\n",
              "      <td>중국</td>\n",
              "      <td>중국</td>\n",
              "      <td>판매용</td>\n",
              "      <td>어류</td>\n",
              "      <td>서대 박대 페루다</td>\n",
              "      <td>서대</td>\n",
              "      <td>냉동</td>\n",
              "      <td>4.791340</td>\n",
              "      <td>0</td>\n",
              "      <td>0</td>\n",
              "      <td>0</td>\n",
              "      <td>0</td>\n",
              "      <td>0</td>\n",
              "      <td>0</td>\n",
              "      <td>0</td>\n",
              "      <td>0</td>\n",
              "      <td>0</td>\n",
              "      <td>1</td>\n",
              "      <td>0</td>\n",
              "      <td>0</td>\n",
              "      <td>0</td>\n",
              "      <td>0</td>\n",
              "      <td>0</td>\n",
              "      <td>0</td>\n",
              "      <td>0</td>\n",
              "      <td>0</td>\n",
              "      <td>0</td>\n",
              "      <td>0</td>\n",
              "      <td>0</td>\n",
              "      <td>0</td>\n",
              "      <td>0</td>\n",
              "      <td>0</td>\n",
              "      <td>0</td>\n",
              "      <td>0</td>\n",
              "      <td>0</td>\n",
              "      <td>0</td>\n",
              "      <td>0</td>\n",
              "      <td>0</td>\n",
              "      <td>0</td>\n",
              "      <td>0</td>\n",
              "      <td>0</td>\n",
              "      <td>0</td>\n",
              "      <td>0</td>\n",
              "      <td>0</td>\n",
              "      <td>0</td>\n",
              "      <td>2015</td>\n",
              "      <td>53</td>\n",
              "      <td>359</td>\n",
              "      <td>False</td>\n",
              "      <td>1</td>\n",
              "      <td>1.101826</td>\n",
              "      <td>2.242009</td>\n",
              "      <td>6.697717</td>\n",
              "      <td>37.08</td>\n",
              "      <td>5.352941</td>\n",
              "      <td>7.973109</td>\n",
              "      <td>13.732174</td>\n",
              "      <td>0.1541</td>\n",
              "    </tr>\n",
              "    <tr>\n",
              "      <th>...</th>\n",
              "      <td>...</td>\n",
              "      <td>...</td>\n",
              "      <td>...</td>\n",
              "      <td>...</td>\n",
              "      <td>...</td>\n",
              "      <td>...</td>\n",
              "      <td>...</td>\n",
              "      <td>...</td>\n",
              "      <td>...</td>\n",
              "      <td>...</td>\n",
              "      <td>...</td>\n",
              "      <td>...</td>\n",
              "      <td>...</td>\n",
              "      <td>...</td>\n",
              "      <td>...</td>\n",
              "      <td>...</td>\n",
              "      <td>...</td>\n",
              "      <td>...</td>\n",
              "      <td>...</td>\n",
              "      <td>...</td>\n",
              "      <td>...</td>\n",
              "      <td>...</td>\n",
              "      <td>...</td>\n",
              "      <td>...</td>\n",
              "      <td>...</td>\n",
              "      <td>...</td>\n",
              "      <td>...</td>\n",
              "      <td>...</td>\n",
              "      <td>...</td>\n",
              "      <td>...</td>\n",
              "      <td>...</td>\n",
              "      <td>...</td>\n",
              "      <td>...</td>\n",
              "      <td>...</td>\n",
              "      <td>...</td>\n",
              "      <td>...</td>\n",
              "      <td>...</td>\n",
              "      <td>...</td>\n",
              "      <td>...</td>\n",
              "      <td>...</td>\n",
              "      <td>...</td>\n",
              "      <td>...</td>\n",
              "      <td>...</td>\n",
              "      <td>...</td>\n",
              "      <td>...</td>\n",
              "      <td>...</td>\n",
              "      <td>...</td>\n",
              "      <td>...</td>\n",
              "      <td>...</td>\n",
              "      <td>...</td>\n",
              "      <td>...</td>\n",
              "      <td>...</td>\n",
              "      <td>...</td>\n",
              "      <td>...</td>\n",
              "      <td>...</td>\n",
              "      <td>...</td>\n",
              "      <td>...</td>\n",
              "      <td>...</td>\n",
              "      <td>...</td>\n",
              "    </tr>\n",
              "    <tr>\n",
              "      <th>59057</th>\n",
              "      <td>수산물</td>\n",
              "      <td>러시아</td>\n",
              "      <td>러시아</td>\n",
              "      <td>판매용</td>\n",
              "      <td>갑각류</td>\n",
              "      <td>게</td>\n",
              "      <td>왕게</td>\n",
              "      <td>활</td>\n",
              "      <td>38.437099</td>\n",
              "      <td>0</td>\n",
              "      <td>1</td>\n",
              "      <td>0</td>\n",
              "      <td>0</td>\n",
              "      <td>0</td>\n",
              "      <td>0</td>\n",
              "      <td>0</td>\n",
              "      <td>0</td>\n",
              "      <td>0</td>\n",
              "      <td>0</td>\n",
              "      <td>0</td>\n",
              "      <td>0</td>\n",
              "      <td>0</td>\n",
              "      <td>0</td>\n",
              "      <td>0</td>\n",
              "      <td>0</td>\n",
              "      <td>0</td>\n",
              "      <td>0</td>\n",
              "      <td>0</td>\n",
              "      <td>0</td>\n",
              "      <td>0</td>\n",
              "      <td>0</td>\n",
              "      <td>0</td>\n",
              "      <td>0</td>\n",
              "      <td>0</td>\n",
              "      <td>0</td>\n",
              "      <td>0</td>\n",
              "      <td>0</td>\n",
              "      <td>0</td>\n",
              "      <td>0</td>\n",
              "      <td>0</td>\n",
              "      <td>0</td>\n",
              "      <td>0</td>\n",
              "      <td>0</td>\n",
              "      <td>0</td>\n",
              "      <td>0</td>\n",
              "      <td>0</td>\n",
              "      <td>2020</td>\n",
              "      <td>1</td>\n",
              "      <td>543</td>\n",
              "      <td>False</td>\n",
              "      <td>1</td>\n",
              "      <td>NaN</td>\n",
              "      <td>NaN</td>\n",
              "      <td>NaN</td>\n",
              "      <td>61.66</td>\n",
              "      <td>6.534266</td>\n",
              "      <td>6.942657</td>\n",
              "      <td>13.188652</td>\n",
              "      <td>NaN</td>\n",
              "    </tr>\n",
              "    <tr>\n",
              "      <th>59058</th>\n",
              "      <td>수산물</td>\n",
              "      <td>중국</td>\n",
              "      <td>중국</td>\n",
              "      <td>판매용</td>\n",
              "      <td>연체류 해물모듬</td>\n",
              "      <td>낙지</td>\n",
              "      <td>낙지</td>\n",
              "      <td>활</td>\n",
              "      <td>8.282274</td>\n",
              "      <td>0</td>\n",
              "      <td>1</td>\n",
              "      <td>0</td>\n",
              "      <td>0</td>\n",
              "      <td>0</td>\n",
              "      <td>0</td>\n",
              "      <td>0</td>\n",
              "      <td>0</td>\n",
              "      <td>0</td>\n",
              "      <td>0</td>\n",
              "      <td>0</td>\n",
              "      <td>0</td>\n",
              "      <td>0</td>\n",
              "      <td>0</td>\n",
              "      <td>0</td>\n",
              "      <td>0</td>\n",
              "      <td>0</td>\n",
              "      <td>0</td>\n",
              "      <td>0</td>\n",
              "      <td>0</td>\n",
              "      <td>0</td>\n",
              "      <td>0</td>\n",
              "      <td>0</td>\n",
              "      <td>0</td>\n",
              "      <td>0</td>\n",
              "      <td>0</td>\n",
              "      <td>0</td>\n",
              "      <td>0</td>\n",
              "      <td>0</td>\n",
              "      <td>0</td>\n",
              "      <td>0</td>\n",
              "      <td>0</td>\n",
              "      <td>0</td>\n",
              "      <td>0</td>\n",
              "      <td>0</td>\n",
              "      <td>0</td>\n",
              "      <td>0</td>\n",
              "      <td>2020</td>\n",
              "      <td>1</td>\n",
              "      <td>1617</td>\n",
              "      <td>False</td>\n",
              "      <td>1</td>\n",
              "      <td>2.045970</td>\n",
              "      <td>2.498507</td>\n",
              "      <td>5.346567</td>\n",
              "      <td>61.66</td>\n",
              "      <td>6.534266</td>\n",
              "      <td>6.942657</td>\n",
              "      <td>13.188652</td>\n",
              "      <td>0.1431</td>\n",
              "    </tr>\n",
              "    <tr>\n",
              "      <th>59059</th>\n",
              "      <td>수산물</td>\n",
              "      <td>러시아</td>\n",
              "      <td>러시아</td>\n",
              "      <td>판매용</td>\n",
              "      <td>갑각류</td>\n",
              "      <td>게</td>\n",
              "      <td>대게</td>\n",
              "      <td>활</td>\n",
              "      <td>23.396192</td>\n",
              "      <td>0</td>\n",
              "      <td>1</td>\n",
              "      <td>0</td>\n",
              "      <td>0</td>\n",
              "      <td>0</td>\n",
              "      <td>0</td>\n",
              "      <td>0</td>\n",
              "      <td>0</td>\n",
              "      <td>0</td>\n",
              "      <td>0</td>\n",
              "      <td>0</td>\n",
              "      <td>0</td>\n",
              "      <td>0</td>\n",
              "      <td>0</td>\n",
              "      <td>0</td>\n",
              "      <td>0</td>\n",
              "      <td>0</td>\n",
              "      <td>0</td>\n",
              "      <td>0</td>\n",
              "      <td>0</td>\n",
              "      <td>0</td>\n",
              "      <td>0</td>\n",
              "      <td>0</td>\n",
              "      <td>0</td>\n",
              "      <td>0</td>\n",
              "      <td>0</td>\n",
              "      <td>0</td>\n",
              "      <td>0</td>\n",
              "      <td>0</td>\n",
              "      <td>0</td>\n",
              "      <td>0</td>\n",
              "      <td>0</td>\n",
              "      <td>0</td>\n",
              "      <td>0</td>\n",
              "      <td>0</td>\n",
              "      <td>0</td>\n",
              "      <td>0</td>\n",
              "      <td>2020</td>\n",
              "      <td>1</td>\n",
              "      <td>603</td>\n",
              "      <td>False</td>\n",
              "      <td>1</td>\n",
              "      <td>NaN</td>\n",
              "      <td>NaN</td>\n",
              "      <td>NaN</td>\n",
              "      <td>61.66</td>\n",
              "      <td>6.534266</td>\n",
              "      <td>6.942657</td>\n",
              "      <td>13.188652</td>\n",
              "      <td>NaN</td>\n",
              "    </tr>\n",
              "    <tr>\n",
              "      <th>59060</th>\n",
              "      <td>수산물</td>\n",
              "      <td>중국</td>\n",
              "      <td>중국</td>\n",
              "      <td>판매용</td>\n",
              "      <td>패류 멍게류</td>\n",
              "      <td>바지락</td>\n",
              "      <td>바지락</td>\n",
              "      <td>활</td>\n",
              "      <td>0.852967</td>\n",
              "      <td>0</td>\n",
              "      <td>1</td>\n",
              "      <td>0</td>\n",
              "      <td>0</td>\n",
              "      <td>0</td>\n",
              "      <td>0</td>\n",
              "      <td>0</td>\n",
              "      <td>0</td>\n",
              "      <td>0</td>\n",
              "      <td>0</td>\n",
              "      <td>0</td>\n",
              "      <td>0</td>\n",
              "      <td>0</td>\n",
              "      <td>0</td>\n",
              "      <td>0</td>\n",
              "      <td>0</td>\n",
              "      <td>0</td>\n",
              "      <td>0</td>\n",
              "      <td>0</td>\n",
              "      <td>0</td>\n",
              "      <td>0</td>\n",
              "      <td>0</td>\n",
              "      <td>0</td>\n",
              "      <td>0</td>\n",
              "      <td>0</td>\n",
              "      <td>0</td>\n",
              "      <td>0</td>\n",
              "      <td>0</td>\n",
              "      <td>0</td>\n",
              "      <td>0</td>\n",
              "      <td>0</td>\n",
              "      <td>0</td>\n",
              "      <td>0</td>\n",
              "      <td>0</td>\n",
              "      <td>0</td>\n",
              "      <td>0</td>\n",
              "      <td>0</td>\n",
              "      <td>2020</td>\n",
              "      <td>1</td>\n",
              "      <td>601</td>\n",
              "      <td>False</td>\n",
              "      <td>1</td>\n",
              "      <td>2.045970</td>\n",
              "      <td>2.498507</td>\n",
              "      <td>5.346567</td>\n",
              "      <td>61.66</td>\n",
              "      <td>6.534266</td>\n",
              "      <td>6.942657</td>\n",
              "      <td>13.188652</td>\n",
              "      <td>0.1431</td>\n",
              "    </tr>\n",
              "    <tr>\n",
              "      <th>59061</th>\n",
              "      <td>수산물</td>\n",
              "      <td>노르웨이</td>\n",
              "      <td>노르웨이</td>\n",
              "      <td>판매용</td>\n",
              "      <td>어류</td>\n",
              "      <td>연어</td>\n",
              "      <td>연어</td>\n",
              "      <td>냉장</td>\n",
              "      <td>13.205675</td>\n",
              "      <td>0</td>\n",
              "      <td>0</td>\n",
              "      <td>0</td>\n",
              "      <td>0</td>\n",
              "      <td>0</td>\n",
              "      <td>0</td>\n",
              "      <td>0</td>\n",
              "      <td>0</td>\n",
              "      <td>0</td>\n",
              "      <td>0</td>\n",
              "      <td>0</td>\n",
              "      <td>0</td>\n",
              "      <td>0</td>\n",
              "      <td>0</td>\n",
              "      <td>0</td>\n",
              "      <td>1</td>\n",
              "      <td>0</td>\n",
              "      <td>0</td>\n",
              "      <td>0</td>\n",
              "      <td>0</td>\n",
              "      <td>0</td>\n",
              "      <td>0</td>\n",
              "      <td>0</td>\n",
              "      <td>0</td>\n",
              "      <td>0</td>\n",
              "      <td>0</td>\n",
              "      <td>0</td>\n",
              "      <td>0</td>\n",
              "      <td>0</td>\n",
              "      <td>0</td>\n",
              "      <td>0</td>\n",
              "      <td>0</td>\n",
              "      <td>0</td>\n",
              "      <td>0</td>\n",
              "      <td>0</td>\n",
              "      <td>0</td>\n",
              "      <td>0</td>\n",
              "      <td>2020</td>\n",
              "      <td>1</td>\n",
              "      <td>1489</td>\n",
              "      <td>False</td>\n",
              "      <td>1</td>\n",
              "      <td>3.050417</td>\n",
              "      <td>7.291667</td>\n",
              "      <td>0.154701</td>\n",
              "      <td>61.66</td>\n",
              "      <td>6.534266</td>\n",
              "      <td>6.942657</td>\n",
              "      <td>13.188652</td>\n",
              "      <td>0.1134</td>\n",
              "    </tr>\n",
              "  </tbody>\n",
              "</table>\n",
              "<p>59062 rows × 59 columns</p>\n",
              "</div>"
            ],
            "text/plain": [
              "      P_TYPE CTRY_1 CTRY_2  ... temperature_kr water_temp_kr      종가\n",
              "0        수산물  아르헨티나  아르헨티나  ...       7.973109     13.732174     NaN\n",
              "1        수산물    바레인    바레인  ...       7.973109     13.732174     NaN\n",
              "2        수산물    바레인    바레인  ...       7.973109     13.732174     NaN\n",
              "3        수산물     칠레     칠레  ...       7.973109     13.732174  0.0014\n",
              "4        수산물     중국     중국  ...       7.973109     13.732174  0.1541\n",
              "...      ...    ...    ...  ...            ...           ...     ...\n",
              "59057    수산물    러시아    러시아  ...       6.942657     13.188652     NaN\n",
              "59058    수산물     중국     중국  ...       6.942657     13.188652  0.1431\n",
              "59059    수산물    러시아    러시아  ...       6.942657     13.188652     NaN\n",
              "59060    수산물     중국     중국  ...       6.942657     13.188652  0.1431\n",
              "59061    수산물   노르웨이   노르웨이  ...       6.942657     13.188652  0.1134\n",
              "\n",
              "[59062 rows x 59 columns]"
            ]
          },
          "metadata": {},
          "execution_count": 97
        }
      ]
    },
    {
      "cell_type": "markdown",
      "metadata": {
        "id": "tgHQpmnw7TKx"
      },
      "source": [
        "## Save Files"
      ]
    },
    {
      "cell_type": "code",
      "metadata": {
        "id": "qbtEbNmE7TKx"
      },
      "source": [
        "def save_file(df, file_name):\n",
        "    df.to_csv(os.path.join(root, file_name), encoding='utf-8', index=False)"
      ],
      "execution_count": null,
      "outputs": []
    },
    {
      "cell_type": "code",
      "metadata": {
        "id": "x2Ynh9N27TKx"
      },
      "source": [
        "save_file(df_weather, 'preprocessed_weather.csv')  # 제조국 날씨\n",
        "save_file(df_oil, 'preprocessed_oil.csv')  # 원유 종가\n",
        "save_file(df_weather_kr, 'preprocessed_weather_korea.csv')  # 한국 날씨\n",
        "save_file(df_cpi1, 'preprocessed_cpi_region.csv')  # 전체 소비자물가지수\n",
        "save_file(df_cpi2, 'preprocessed_cpi_purpose.csv')  # 음식/음식서비스 소비자물가지수\n",
        "save_file(df_train, 'preprocessed_train.csv')  # 최종 df"
      ],
      "execution_count": null,
      "outputs": []
    },
    {
      "cell_type": "code",
      "metadata": {
        "id": "EJzpvZz-7TKx"
      },
      "source": [
        ""
      ],
      "execution_count": null,
      "outputs": []
    }
  ]
}