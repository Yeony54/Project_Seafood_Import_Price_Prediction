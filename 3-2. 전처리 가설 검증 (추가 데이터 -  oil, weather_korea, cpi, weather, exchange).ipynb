{
 "cells": [
  {
   "cell_type": "markdown",
   "metadata": {
    "id": "OKauc15E4V2z"
   },
   "source": [
    "# 전처리 가설 검증\n",
    "- df_train + 추가데이터 전부 사용  \n",
    "- 5개 나라에 대해서만 진행('칠레', '중국', '노르웨이', '태국', '베트남') > ctry_list 변수에 포함되어 있음\n",
    "- 주요 수출국별 주요 어종 모델 3개 생성 (오징어,연어,흰다리새우)"
   ]
  },
  {
   "cell_type": "code",
   "execution_count": 1,
   "metadata": {
    "id": "8Dp8CPxZryXo"
   },
   "outputs": [],
   "source": [
    "from utility import *"
   ]
  },
  {
   "cell_type": "markdown",
   "metadata": {
    "id": "PZ85pCGGO0uD"
   },
   "source": [
    "# Setting"
   ]
  },
  {
   "cell_type": "markdown",
   "metadata": {
    "id": "N91OoWVKO0uE"
   },
   "source": [
    "### Library"
   ]
  },
  {
   "cell_type": "code",
   "execution_count": 2,
   "metadata": {
    "id": "Wm8RFgqzO0uE"
   },
   "outputs": [],
   "source": [
    "# Turn off warnings\n",
    "warnings.filterwarnings('ignore')\n",
    "%matplotlib inline"
   ]
  },
  {
   "cell_type": "code",
   "execution_count": 3,
   "metadata": {
    "id": "oXLm1kcXsBPs"
   },
   "outputs": [],
   "source": [
    "# Visualization Setting\n",
    "color_palette = 'Set3'\n",
    "title_size = 20\n",
    "sns.set_style(\"whitegrid\")\n",
    "plt.rcParams['font.family'] = 'NanumGothic'"
   ]
  },
  {
   "cell_type": "code",
   "execution_count": 4,
   "metadata": {},
   "outputs": [],
   "source": [
    "def RMSE(y, y_pred):\n",
    "    return mean_squared_error(y, y_pred)**0.5\n",
    "\n",
    "\n",
    "def train_model(train_data, target_data, model=LinearRegression()):  # baseline model : LInearRegression\n",
    "    x_train, x_test, y_train, y_test = train_test_split(train_data, target_data, random_state=0)\n",
    "\n",
    "    model.fit(x_train, y_train)\n",
    "    print(\"Model Training Complete!\")\n",
    "\n",
    "    pred_train, pred_test = model.predict(x_train), model.predict(x_test)\n",
    "    \n",
    "    plt.figure(figsize=(10, 8))\n",
    "#     plt.scatter(pred_train, y_train, s=10)\n",
    "    sns.regplot(pred_train, y_train, color='g')\n",
    "    plt.xlabel(\"Predicted price\")\n",
    "    plt.ylabel(\"Actual price\")\n",
    "    plt.show()\n",
    "\n",
    "    # cvs = cross_val_score(model, x_test, y_test, cv = 5)\n",
    "    # print(\">> cross_val_score mean =\", cvs.mean())\n",
    "    print(\">> RMSE train =\", RMSE(y_train, pred_train))\n",
    "    print(\">> RMSE validation =\", RMSE(y_test, pred_test))\n",
    "    print(\">> MAE train =\", mean_absolute_error(pred_train, y_train))\n",
    "    print(\">> MAE validation =\", mean_absolute_error(pred_test, y_test))\n",
    "    print(\"-------------------------------------------------\")\n",
    "    \n",
    "    return model\n",
    "\n",
    "    \n",
    "def print_importance(model, df, added_columns):\n",
    "    importance = model.coef_\n",
    "    fs_data = []\n",
    "    for i, x in enumerate(importance):\n",
    "        fs_data.append([abs(x), df.columns[i]])\n",
    "    fs_data.sort(key=lambda x: x[0], reverse=True)\n",
    "   \n",
    "    # 추가한 컬럼의 중요도\n",
    "    for i in range(len(fs_data)):\n",
    "        if fs_data[i][1] in added_columns:\n",
    "            print(fs_data[i][1], \":\", fs_data[i][0] ,\">\", i, \"순위\")\n",
    "    print(\"-------------------------------------------------\")\n",
    "    print(\"총\", len(fs_data) , \"개\")\n",
    "    \n",
    "    return fs_data"
   ]
  },
  {
   "cell_type": "code",
   "execution_count": 5,
   "metadata": {
    "id": "CeRvf_i9sCw6"
   },
   "outputs": [],
   "source": [
    "# Data directory\n",
    "root = os.path.join(os.getcwd(), 'DATA')"
   ]
  },
  {
   "cell_type": "markdown",
   "metadata": {
    "id": "1F8Z0REaO0uH"
   },
   "source": [
    "### Merging dataframes"
   ]
  },
  {
   "cell_type": "code",
   "execution_count": 6,
   "metadata": {
    "id": "ZBQz4dhIO0uI"
   },
   "outputs": [],
   "source": [
    "from functools import reduce\n",
    "\n",
    "def merge_df(df_list):\n",
    "    return reduce(lambda  left,right: pd.merge(left,right, on=['year', 'week'], how='left'), df_list)"
   ]
  },
  {
   "cell_type": "markdown",
   "metadata": {
    "id": "FWbf_iaL4V23"
   },
   "source": [
    "# Import Data"
   ]
  },
  {
   "cell_type": "code",
   "execution_count": 7,
   "metadata": {
    "id": "BuLLtwVk4V24"
   },
   "outputs": [],
   "source": [
    "df_train = pd.read_csv(os.path.join(root, 'preprocessed_train_notencoded.csv'))\n",
    "df_weather_code = pd.read_csv(os.path.join(root, 'raw_weather_code.csv'), header=0, index_col=0)\n",
    "weather_list = [pd.read_csv(os.path.join(root, 'raw_weather_20151228_20161227.csv'), encoding='cp949') , \n",
    "                pd.read_csv(os.path.join(root, 'raw_weather_20161228_20171227.csv'), encoding='euc-kr') , \n",
    "                pd.read_csv(os.path.join(root, 'raw_weather_20171228_20181227.csv'), encoding='euc-kr') , \n",
    "                pd.read_csv(os.path.join(root, 'raw_weather_20181228_20191227.csv'), encoding='cp949') , \n",
    "                pd.read_csv(os.path.join(root, 'raw_weather_20191228_20201227.csv'), encoding='euc-kr') , \n",
    "                pd.read_csv(os.path.join(root, 'raw_weather_20201228_20210818.csv'), encoding='euc-kr')]\n",
    "df_exchange = pd.read_csv(os.path.join(root, 'preprocessed_exchange.csv'))\n",
    "df_oil = pd.read_csv(os.path.join(root, 'preprocessed_oil.csv'))\n",
    "df_weather_kr = pd.read_csv(os.path.join(root, 'preprocessed_weather_korea.csv'))\n",
    "df_cpi = pd.read_csv(os.path.join(root, 'preprocessed_cpi.csv'))"
   ]
  },
  {
   "cell_type": "markdown",
   "metadata": {
    "id": "NwXMWpUu4V25"
   },
   "source": [
    "- 앞선 가설 검증에서 제공데이터 및 1차 추가 데이터에 대한 최적화가 완료되었기에 해당 data를 가져온다\n",
    "- 제조국 날씨의 경우 결측치 처리 과정이 필요하기 때문에 raw data를 가져온다\n",
    "- 수출국 환율의 경우 raw data를 가져온다"
   ]
  },
  {
   "cell_type": "markdown",
   "metadata": {
    "id": "NE7jhfEwO0uJ"
   },
   "source": [
    "----"
   ]
  },
  {
   "cell_type": "markdown",
   "metadata": {
    "id": "1SomvgUXO0uK"
   },
   "source": [
    "# Basic Dataframe\n",
    "df_train\n",
    "- 주요 국가 추출"
   ]
  },
  {
   "cell_type": "markdown",
   "metadata": {
    "id": "zwMVCP0RMMqf"
   },
   "source": [
    "### Dropping Data\n",
    "날짜 데이터 및 환율 데이터는 특정 국가에 대해서만 수집할 수 있었다  \n",
    "따라서 제조국이 '칠레', '중국', '노르웨이', '태국', '베트남'인 경우,  \n",
    "그리고 수출국이 '칠레', '중국', '노르웨이', '태국', '베트남', '페루'인 경우만 다룬다"
   ]
  },
  {
   "cell_type": "code",
   "execution_count": 8,
   "metadata": {
    "id": "ZFZ0Z8xoO0uK"
   },
   "outputs": [],
   "source": [
    "df_train = df_train[(\n",
    "                    # 제조국\n",
    "                    (df_train['CTRY_1'] == \"칠레\") |\n",
    "                    (df_train['CTRY_1'] == \"중국\") |\n",
    "                    (df_train['CTRY_1'] == \"노르웨이\") |\n",
    "                    (df_train['CTRY_1'] == \"태국\") | \n",
    "                    (df_train['CTRY_1'] == \"베트남\")\n",
    "                    ) & (\n",
    "                    # 수출국\n",
    "                    (df_train['CTRY_2'] == \"칠레\") |\n",
    "                    (df_train['CTRY_2'] == \"중국\") | \n",
    "                    (df_train['CTRY_2'] == \"노르웨이\") |\n",
    "                    (df_train['CTRY_2'] == \"태국\") | \n",
    "                    (df_train['CTRY_2'] == \"베트남\") |\n",
    "                    (df_train['CTRY_2'] == \"페루\")\n",
    "                    )]"
   ]
  },
  {
   "cell_type": "markdown",
   "metadata": {
    "id": "0V-uAcGjO0uL"
   },
   "source": [
    "----"
   ]
  },
  {
   "cell_type": "markdown",
   "metadata": {
    "id": "Cyi_zKLOO0uM"
   },
   "source": [
    "# Baseline Dataframe\n",
    "df_train\n",
    "- one hot encoding"
   ]
  },
  {
   "cell_type": "code",
   "execution_count": 9,
   "metadata": {
    "id": "M90z6BqmO0uM"
   },
   "outputs": [],
   "source": [
    "df0_base = df_train.copy()"
   ]
  },
  {
   "cell_type": "markdown",
   "metadata": {
    "id": "wsHDJ6GMO0uM"
   },
   "source": [
    "### One hot encoding"
   ]
  },
  {
   "cell_type": "code",
   "execution_count": 10,
   "metadata": {
    "id": "mYsCq7-x_Jgb"
   },
   "outputs": [],
   "source": [
    "# Others\n",
    "one_hot = ['CTRY_1', 'CTRY_2', 'P_PURPOSE', 'CATEGORY_1', 'CATEGORY_2', 'P_NAME']\n",
    "df0_base = pd.get_dummies(df0_base, columns=one_hot)"
   ]
  },
  {
   "cell_type": "markdown",
   "metadata": {
    "id": "HsRWpnSKFS4k"
   },
   "source": [
    "## Train"
   ]
  },
  {
   "cell_type": "code",
   "execution_count": null,
   "metadata": {
    "colab": {
     "base_uri": "https://localhost:8080/",
     "height": 604
    },
    "id": "E0kpuQ1vO0uN",
    "outputId": "2c4848fe-1a9e-49df-f970-7a8e1ba367e5"
   },
   "outputs": [
    {
     "name": "stdout",
     "output_type": "stream",
     "text": [
      "Model Training Complete!\n"
     ]
    }
   ],
   "source": [
    "model0 = train_model(df0_base.drop(columns=['P_PRICE']), df0_base['P_PRICE'])"
   ]
  },
  {
   "cell_type": "markdown",
   "metadata": {
    "id": "sUmEs_oif-u0"
   },
   "source": [
    "----\n",
    "# Adding Weather Data\n",
    "- df1_with_wf : 해안가여부 고려 없이 날씨 평균 데이터 추가\n",
    "- df2_without_wf : 해안가인 지점 날씨 평균 데이터 추가"
   ]
  },
  {
   "cell_type": "code",
   "execution_count": null,
   "metadata": {
    "id": "rrbf-8vQO0uO"
   },
   "outputs": [],
   "source": [
    "df1_with_wf = df_train.copy()\n",
    "df2_without_wf = df_train.copy()"
   ]
  },
  {
   "cell_type": "markdown",
   "metadata": {
    "id": "8M2cvvz67TKp"
   },
   "source": [
    "## Preprocess\n",
    "- 이상치 제거 : 강수량과 풍속이 음수인 경우 제거\n",
    "- '지점'에 따른 나라명 컬럼(CTRY_1)과 해안가여부(is_waterfront) 추가\n",
    "- 각 나라, 일자 별로 평균 강수량, 풍속, 기온 계산"
   ]
  },
  {
   "cell_type": "code",
   "execution_count": null,
   "metadata": {
    "id": "L3SeGp1A-j72"
   },
   "outputs": [],
   "source": [
    "# 지점에 따라 나라명 추가\n",
    "def set_country(row):\n",
    "    data = df_weather_code[df_weather_code['지점'] == row['지점']]\n",
    "    if data.empty:\n",
    "        return \"\"\n",
    "    return data.iloc[0]['국가명']\n",
    "\n",
    "\n",
    "def set_waterfront(row):\n",
    "    data = df_weather_code[df_weather_code['지점'] == row['지점']]\n",
    "    if data.empty or data.iloc[0]['해안가여부'] != 1:\n",
    "        return False\n",
    "    return True\n",
    "    \n",
    "\n",
    "def preprocess_weather(df, drop_waterfront):\n",
    "    df = df[(df['강수량'] >= 0) & (df['풍속'] >= 0)] # 이상치/결측치 제거\n",
    "    set_week(df, '일시')  # 날짜 정보 처리\n",
    "    \n",
    "    # 1차 평균\n",
    "    columns = ['year', 'week', '지점']\n",
    "    df['rain'] = df[columns + ['강수량']].groupby(columns).transform('mean')\n",
    "    df['wind'] = df[columns + ['풍속']].groupby(columns).transform('mean')\n",
    "    df['temperature'] = df[columns + ['기온']].groupby(columns).transform('mean')\n",
    "    \n",
    "    # 나라명 추가\n",
    "    df['CTRY_1'] = \"\"\n",
    "    for i, row in df.iterrows():\n",
    "        df.at[i, 'CTRY_1'] = set_country(row)\n",
    "    \n",
    "    # 해안가 여부 추가\n",
    "    df['is_waterfront'] = False\n",
    "    for i, row in df.iterrows():\n",
    "        df.at[i, 'is_waterfront'] = set_waterfront(row)\n",
    "     \n",
    "    if drop_waterfront:\n",
    "        df = df[df['is_waterfront']]  # 해안가가 아닌 데이터 제외\n",
    "    \n",
    "    # 2차 평균\n",
    "    columns = ['year', 'week', 'CTRY_1']\n",
    "    df['rain'] = df[columns + ['강수량']].groupby(columns).transform('mean')\n",
    "    df['wind'] = df[columns + ['풍속']].groupby(columns).transform('mean')\n",
    "    df['temperature'] = df[columns + ['기온']].groupby(columns).transform('mean')\n",
    "\n",
    "    # 컬럼/행 정리\n",
    "    df.drop(columns=['지점명', '지점', '강수량', '풍속', '기온', 'is_waterfront'], inplace=True)\n",
    "    df.drop_duplicates(inplace=True)\n",
    "    df.reset_index(drop=True, inplace=True)\n",
    "    \n",
    "    return df"
   ]
  },
  {
   "cell_type": "code",
   "execution_count": null,
   "metadata": {
    "id": "WxLOBtPv7TKq",
    "scrolled": false
   },
   "outputs": [],
   "source": [
    "weather_with_wf = []\n",
    "weather_without_wf = []\n",
    "for i in range(len(weather_list)):\n",
    "    weather_with_wf.append(preprocess_weather(weather_list[i], False))\n",
    "    weather_without_wf.append(preprocess_weather(weather_list[i], True))"
   ]
  },
  {
   "cell_type": "code",
   "execution_count": null,
   "metadata": {
    "id": "SgY8-RqhDcx6"
   },
   "outputs": [],
   "source": [
    "df_weather_with_wf = pd.concat(weather_with_wf)\n",
    "df_weather_without_wf = pd.concat(weather_without_wf)"
   ]
  },
  {
   "cell_type": "markdown",
   "metadata": {
    "id": "iXUr44A3-j77"
   },
   "source": [
    "### Check"
   ]
  },
  {
   "cell_type": "code",
   "execution_count": null,
   "metadata": {
    "colab": {
     "base_uri": "https://localhost:8080/"
    },
    "id": "j6dGZ7AJ-j8I",
    "outputId": "8772ddae-e2f3-45d5-fc3f-72b0651fb024"
   },
   "outputs": [],
   "source": [
    "print(\"=================해안가여부 고려X=====================\")\n",
    "for country in [\"칠레\", \"중국\", \"노르웨이\", \"태국\", \"베트남\"]:\n",
    "    print(country, \"총\", len(df_weather_with_wf[df_weather_with_wf['CTRY_1'] == country]), \"개\")\n",
    "    check_week(df_weather_with_wf[df_weather_with_wf['CTRY_1'] == country])\n",
    "    print()\n",
    "    \n",
    "print(\"=================해안가여부 고려O=====================\")\n",
    "for country in [\"칠레\", \"중국\", \"노르웨이\", \"태국\", \"베트남\"]:\n",
    "    print(country, \"총\", len(df_weather_without_wf[df_weather_without_wf['CTRY_1'] == country]), \"개\")\n",
    "    check_week(df_weather_without_wf[df_weather_without_wf['CTRY_1'] == country])\n",
    "    print()"
   ]
  },
  {
   "cell_type": "markdown",
   "metadata": {
    "id": "nc5kcuRK-j8K"
   },
   "source": [
    "### Filling Missing Values\n",
    "- df_weather_with_wf : 태국, 베트남, 칠레에 결측치 1개씩\n",
    "- df_weather_without_wf : 총 5개 결측치\n",
    "- 결측치 > 전/차주 데이터 평균으로 채워넣기"
   ]
  },
  {
   "cell_type": "code",
   "execution_count": null,
   "metadata": {
    "id": "_l7A9A8TsW83"
   },
   "outputs": [],
   "source": [
    "def get_avg(df, year, week, country, value):\n",
    "    return (df[(df['year'] == year) &\n",
    "               (df['week'] == week + 1) &\n",
    "               (df['CTRY_1'] == country)].iloc[0][value] \n",
    "          + df[(df['year'] == year) &\n",
    "               (df['week'] == week - 1) &\n",
    "               (df['CTRY_1'] == country)].iloc[0][value]) / 2"
   ]
  },
  {
   "cell_type": "code",
   "execution_count": null,
   "metadata": {
    "colab": {
     "base_uri": "https://localhost:8080/"
    },
    "id": "Aj4zQYt6-j8N",
    "outputId": "eebf8860-5713-4033-fe8c-ee7b2f069c3c"
   },
   "outputs": [],
   "source": [
    "df_weather_with_wf = df_weather_with_wf.append({'year': 2016,\n",
    "                                'week': 11,\n",
    "                                'CTRY_1': '태국',\n",
    "                                'rain': get_avg(df_weather_with_wf, 2016, 11, '태국', 'rain'),\n",
    "                                'wind': get_avg(df_weather_with_wf, 2016, 11, '태국', 'wind'),\n",
    "                                'temperature': get_avg(df_weather_with_wf, 2016, 11, '태국', 'temperature')},\n",
    "                               ignore_index=True)\n",
    "df_weather_with_wf = df_weather_with_wf.append({'year': 2016,\n",
    "                                'week': 6,\n",
    "                                'CTRY_1': '베트남',\n",
    "                                'rain': get_avg(df_weather_with_wf, 2016, 6, '베트남', 'rain'),\n",
    "                                'wind': get_avg(df_weather_with_wf, 2016, 6, '베트남', 'wind'),\n",
    "                                'temperature': get_avg(df_weather_with_wf, 2016, 6, '베트남', 'temperature')},\n",
    "                               ignore_index=True)\n",
    "df_weather_with_wf = df_weather_with_wf.append({'year': 2016,\n",
    "                                'week': 5,\n",
    "                                'CTRY_1': '칠레',\n",
    "                                'rain': get_avg(df_weather_with_wf, 2016, 5, '칠레', 'rain'),\n",
    "                                'wind': get_avg(df_weather_with_wf, 2016, 5, '칠레', 'wind'),\n",
    "                                'temperature': get_avg(df_weather_with_wf, 2016, 5, '칠레', 'temperature')},\n",
    "                               ignore_index=True)\n",
    "\n",
    "for country in [\"태국\", \"베트남\", \"칠레\"]:\n",
    "    print()\n",
    "    print(country, \"총\", len(df_weather_with_wf[df_weather_with_wf['CTRY_1'] == country]), \"개\")\n",
    "    check_week(df_weather_with_wf[df_weather_with_wf['CTRY_1'] == country])"
   ]
  },
  {
   "cell_type": "code",
   "execution_count": null,
   "metadata": {
    "colab": {
     "base_uri": "https://localhost:8080/"
    },
    "id": "ShcJk30bO0uQ",
    "outputId": "d5810ad0-8cc5-403a-d276-4bc84ee9cb4f"
   },
   "outputs": [],
   "source": [
    "df_weather_without_wf = df_weather_without_wf.append({'year': 2016,\n",
    "                                'week': 11,\n",
    "                                'CTRY_1': '태국',\n",
    "                                'rain': get_avg(df_weather_without_wf, 2016, 11, '태국', 'rain'),\n",
    "                                'wind': get_avg(df_weather_without_wf, 2016, 11, '태국', 'wind'),\n",
    "                                'temperature': get_avg(df_weather_without_wf, 2016, 11, '태국', 'temperature')},\n",
    "                               ignore_index=True)\n",
    "df_weather_without_wf = df_weather_without_wf.append({'year': 2016,\n",
    "                                'week': 15,\n",
    "                                'CTRY_1': '태국',\n",
    "                                'rain': get_avg(df_weather_without_wf, 2016, 15, '태국', 'rain'),\n",
    "                                'wind': get_avg(df_weather_without_wf, 2016, 15, '태국', 'wind'),\n",
    "                                'temperature': get_avg(df_weather_without_wf, 2016, 15, '태국', 'temperature')},\n",
    "                               ignore_index=True)\n",
    "df_weather_without_wf = df_weather_without_wf.append({'year': 2019,\n",
    "                                'week': 10,\n",
    "                                'CTRY_1': '태국',\n",
    "                                'rain': get_avg(df_weather_without_wf, 2019, 10, '태국', 'rain'),\n",
    "                                'wind': get_avg(df_weather_without_wf, 2019, 10, '태국', 'wind'),\n",
    "                                'temperature': get_avg(df_weather_without_wf, 2019, 10, '태국', 'temperature')},\n",
    "                               ignore_index=True)\n",
    "\n",
    "df_weather_without_wf = df_weather_without_wf.append({'year': 2016,\n",
    "                                'week': 6,\n",
    "                                'CTRY_1': '베트남',\n",
    "                                'rain': get_avg(df_weather_without_wf, 2016, 6, '베트남', 'rain'),\n",
    "                                'wind': get_avg(df_weather_without_wf, 2016, 6, '베트남', 'wind'),\n",
    "                                'temperature': get_avg(df_weather_without_wf, 2016, 6, '베트남', 'temperature')},\n",
    "                               ignore_index=True)\n",
    "\n",
    "df_weather_without_wf = df_weather_without_wf.append({'year': 2016,\n",
    "                                'week': 5,\n",
    "                                'CTRY_1': '칠레',\n",
    "                                'rain': get_avg(df_weather_without_wf, 2016, 5, '칠레', 'rain'),\n",
    "                                'wind': get_avg(df_weather_without_wf, 2016, 5, '칠레', 'wind'),\n",
    "                                'temperature': get_avg(df_weather_without_wf, 2016, 5, '칠레', 'temperature')},\n",
    "                               ignore_index=True)\n",
    "\n",
    "for country in [\"태국\", \"베트남\", \"칠레\"]:\n",
    "    print()\n",
    "    print(country, \"총\", len(df_weather_without_wf[df_weather_without_wf['CTRY_1'] == country]), \"개\")\n",
    "    check_week(df_weather_without_wf[df_weather_without_wf['CTRY_1'] == country])"
   ]
  },
  {
   "cell_type": "markdown",
   "metadata": {
    "id": "6Bcx08HU7TKr"
   },
   "source": [
    "### Merge Data"
   ]
  },
  {
   "cell_type": "code",
   "execution_count": null,
   "metadata": {
    "id": "eya8U1xR7TKr"
   },
   "outputs": [],
   "source": [
    "df1_with_wf = pd.merge(df1_with_wf, df_weather_with_wf, how='left', on=['year', 'week', 'CTRY_1'])"
   ]
  },
  {
   "cell_type": "code",
   "execution_count": null,
   "metadata": {
    "id": "j_uQOauUO0uR"
   },
   "outputs": [],
   "source": [
    "df2_without_wf = pd.merge(df2_without_wf, df_weather_without_wf, how='left', on=['year', 'week', 'CTRY_1'])"
   ]
  },
  {
   "cell_type": "markdown",
   "metadata": {
    "id": "fdcPNIw6O0uR"
   },
   "source": [
    "### One hot encoding"
   ]
  },
  {
   "cell_type": "code",
   "execution_count": null,
   "metadata": {
    "id": "my4Jk4cyO0uS"
   },
   "outputs": [],
   "source": [
    "one_hot = ['CTRY_1', 'CTRY_2', 'P_PURPOSE', 'CATEGORY_1', 'CATEGORY_2', 'P_NAME']\n",
    "df1_with_wf = pd.get_dummies(df1_with_wf, columns=one_hot)\n",
    "df2_without_wf = pd.get_dummies(df2_without_wf, columns=one_hot)"
   ]
  },
  {
   "cell_type": "code",
   "execution_count": null,
   "metadata": {
    "colab": {
     "base_uri": "https://localhost:8080/",
     "height": 418
    },
    "id": "piB4ZsYqyUd1",
    "outputId": "81462da3-dc3c-4ff1-f1b9-4281a536f2e1"
   },
   "outputs": [],
   "source": [
    "df_weather_with_wf"
   ]
  },
  {
   "cell_type": "markdown",
   "metadata": {
    "id": "APtRtfTIALuN",
    "outputId": "163b44d0-0324-4ea7-897b-2289d5d7e914"
   },
   "source": [
    "## Train"
   ]
  },
  {
   "cell_type": "code",
   "execution_count": null,
   "metadata": {
    "colab": {
     "base_uri": "https://localhost:8080/",
     "height": 604
    },
    "id": "UGB2fa4IO0uS",
    "outputId": "94b63907-1784-4a8d-bc77-a9781f4e169f"
   },
   "outputs": [],
   "source": [
    "model1 = train_model(df1_with_wf.drop(columns=['P_PRICE']), df1_with_wf['P_PRICE'])"
   ]
  },
  {
   "cell_type": "code",
   "execution_count": null,
   "metadata": {
    "colab": {
     "base_uri": "https://localhost:8080/"
    },
    "id": "bLVIFc2CO0uS",
    "outputId": "2300ca36-5486-41ee-8486-afe34632ce31"
   },
   "outputs": [],
   "source": [
    "t1 = print_importance(model1, df1_with_wf, ['rain', 'wind', 'temperature'])"
   ]
  },
  {
   "cell_type": "code",
   "execution_count": null,
   "metadata": {
    "colab": {
     "base_uri": "https://localhost:8080/",
     "height": 604
    },
    "id": "VY1FNoB-O0uS",
    "outputId": "b4735eb4-7306-483d-c291-1ac03aa3a69a"
   },
   "outputs": [],
   "source": [
    "model2 = train_model(df2_without_wf.drop(columns=['P_PRICE']), df2_without_wf['P_PRICE'])"
   ]
  },
  {
   "cell_type": "code",
   "execution_count": null,
   "metadata": {
    "colab": {
     "base_uri": "https://localhost:8080/"
    },
    "id": "yzitxScaO0uS",
    "outputId": "774ef768-d89a-4ea7-9685-f5f01b059327",
    "scrolled": true
   },
   "outputs": [],
   "source": [
    "t2 = print_importance(model2, df2_without_wf, ['rain', 'wind', 'temperature'])"
   ]
  },
  {
   "cell_type": "markdown",
   "metadata": {
    "id": "iZtJbp1vO0uS"
   },
   "source": [
    "- 날씨 데이터를 추가하는 것이 모델 정확도 상승에 영향을 준다\n",
    "- 해안가가 아닌 데이터를 제거하는 것은 오히려 정확도를 떨어뜨린다\n",
    "- 날씨 데이터를 전부 사용한다"
   ]
  },
  {
   "cell_type": "markdown",
   "metadata": {
    "id": "6fP9BX7uO0uS"
   },
   "source": [
    "----\n",
    "# Adding Exchange Data\n",
    "- df3_add_exchange : 수출국의 환율 데이터 추가"
   ]
  },
  {
   "cell_type": "code",
   "execution_count": null,
   "metadata": {
    "id": "wTW2V9SVO0uS"
   },
   "outputs": [],
   "source": [
    "df3_add_exchange = df_train.copy()"
   ]
  },
  {
   "cell_type": "markdown",
   "metadata": {
    "id": "0bEuz6f9O0uS"
   },
   "source": [
    "## Preprocess\n",
    "### Merge Data"
   ]
  },
  {
   "cell_type": "code",
   "execution_count": null,
   "metadata": {
    "id": "e4XAYuKEO0uT"
   },
   "outputs": [],
   "source": [
    "df3_add_exchange = pd.merge(df3_add_exchange, df_weather_with_wf, how='left', on=['year', 'week', 'CTRY_1'])"
   ]
  },
  {
   "cell_type": "code",
   "execution_count": null,
   "metadata": {
    "id": "ztCMUOXJO0uT"
   },
   "outputs": [],
   "source": [
    "df3_add_exchange = pd.merge(df3_add_exchange, df_exchange, how='left', on=['year', 'week', 'CTRY_2'])"
   ]
  },
  {
   "cell_type": "markdown",
   "metadata": {
    "id": "JSFdsmPuO0uT"
   },
   "source": [
    "### One hot encoding"
   ]
  },
  {
   "cell_type": "code",
   "execution_count": null,
   "metadata": {
    "id": "YwYHELJtXQ_0"
   },
   "outputs": [],
   "source": [
    "one_hot = ['CTRY_1', 'CTRY_2', 'P_PURPOSE', 'CATEGORY_1', 'CATEGORY_2', 'P_NAME']\n",
    "df3_add_exchange = pd.get_dummies(df3_add_exchange, columns=one_hot)"
   ]
  },
  {
   "cell_type": "markdown",
   "metadata": {
    "id": "NBvnw6PvO0uT"
   },
   "source": [
    "## Train"
   ]
  },
  {
   "cell_type": "code",
   "execution_count": null,
   "metadata": {
    "colab": {
     "base_uri": "https://localhost:8080/",
     "height": 604
    },
    "id": "R0tglzR2O0uT",
    "outputId": "391a6e50-cc22-4747-f0c0-b878ef6dbd74"
   },
   "outputs": [],
   "source": [
    "model3 = train_model(df3_add_exchange.drop(columns=['P_PRICE']), df3_add_exchange['P_PRICE'])"
   ]
  },
  {
   "cell_type": "code",
   "execution_count": null,
   "metadata": {
    "colab": {
     "base_uri": "https://localhost:8080/"
    },
    "id": "B0_2haCxO0uT",
    "outputId": "8102c03f-dd64-4a98-fb3e-ccea5446516a"
   },
   "outputs": [],
   "source": [
    "t3 = print_importance(model3, df3_add_exchange, ['exchange'])"
   ]
  },
  {
   "cell_type": "markdown",
   "metadata": {
    "id": "ybmGW94GO0uU"
   },
   "source": [
    "- 미세하게 모델 정확도가 상승하였으므로 환율 데이터도 사용하도록 한다"
   ]
  },
  {
   "cell_type": "markdown",
   "metadata": {},
   "source": [
    "----\n",
    "# Adding Exchange Data\n",
    "- df4_add_cpi : cpi 데이터 추가"
   ]
  },
  {
   "cell_type": "code",
   "execution_count": null,
   "metadata": {},
   "outputs": [],
   "source": [
    "df4_add_cpi = df_train.copy()"
   ]
  },
  {
   "cell_type": "markdown",
   "metadata": {},
   "source": [
    "## Preprocess\n",
    "### Merge Data"
   ]
  },
  {
   "cell_type": "code",
   "execution_count": null,
   "metadata": {},
   "outputs": [],
   "source": [
    "df4_add_cpi = pd.merge(df4_add_cpi, df_weather_with_wf, how='left', on=['year', 'week', 'CTRY_1'])"
   ]
  },
  {
   "cell_type": "code",
   "execution_count": null,
   "metadata": {},
   "outputs": [],
   "source": [
    "df4_add_cpi = pd.merge(df4_add_cpi, df_exchange, how='left', on=['year', 'week', 'CTRY_2'])"
   ]
  },
  {
   "cell_type": "code",
   "execution_count": null,
   "metadata": {},
   "outputs": [],
   "source": [
    "df4_add_cpi = pd.merge(df4_add_cpi, df_cpi, how='left', on=['year', 'week'])"
   ]
  },
  {
   "cell_type": "code",
   "execution_count": null,
   "metadata": {},
   "outputs": [],
   "source": [
    "df4_add_cpi['cpi_total'] = df4_add_cpi['cpi_total_x']\n",
    "\n",
    "df4_add_cpi.drop(['cpi_total_x','cpi_total_y'],axis=1,inplace=True)"
   ]
  },
  {
   "cell_type": "markdown",
   "metadata": {},
   "source": [
    "### One hot encoding"
   ]
  },
  {
   "cell_type": "code",
   "execution_count": null,
   "metadata": {},
   "outputs": [],
   "source": [
    "one_hot = ['CTRY_1', 'CTRY_2', 'P_PURPOSE', 'CATEGORY_1', 'CATEGORY_2', 'P_NAME']\n",
    "df4_add_cpi = pd.get_dummies(df4_add_cpi, columns=one_hot)"
   ]
  },
  {
   "cell_type": "markdown",
   "metadata": {},
   "source": [
    "## Train"
   ]
  },
  {
   "cell_type": "code",
   "execution_count": null,
   "metadata": {},
   "outputs": [],
   "source": [
    "model4 = train_model(df4_add_cpi.drop(columns=['P_PRICE']), df4_add_cpi['P_PRICE'])"
   ]
  },
  {
   "cell_type": "code",
   "execution_count": null,
   "metadata": {},
   "outputs": [],
   "source": [
    "t4 = print_importance(model4, df4_add_cpi, ['cpi_total','cpi_fish'])"
   ]
  },
  {
   "cell_type": "markdown",
   "metadata": {},
   "source": [
    "- 미세하게 모델 정확도가 상승하였으므로 cpi 데이터도 사용하도록 한다"
   ]
  },
  {
   "cell_type": "markdown",
   "metadata": {},
   "source": [
    "----\n",
    "# Adding Korea Weather Data\n",
    "- df5_add_weather_kr : 한국 날씨 데이터 추가"
   ]
  },
  {
   "cell_type": "code",
   "execution_count": null,
   "metadata": {},
   "outputs": [],
   "source": [
    "df5_add_weather_kr = df_train.copy()"
   ]
  },
  {
   "cell_type": "markdown",
   "metadata": {},
   "source": [
    "## Preprocess\n",
    "### Merge Data"
   ]
  },
  {
   "cell_type": "code",
   "execution_count": null,
   "metadata": {},
   "outputs": [],
   "source": [
    "df5_add_weather_kr = pd.merge(df5_add_weather_kr, df_weather_with_wf, how='left', on=['year', 'week', 'CTRY_1'])"
   ]
  },
  {
   "cell_type": "code",
   "execution_count": null,
   "metadata": {},
   "outputs": [],
   "source": [
    "df5_add_weather_kr = pd.merge(df5_add_weather_kr, df_exchange, how='left', on=['year', 'week', 'CTRY_2'])"
   ]
  },
  {
   "cell_type": "code",
   "execution_count": null,
   "metadata": {},
   "outputs": [],
   "source": [
    "df5_add_weather_kr = pd.merge(df5_add_weather_kr, df_cpi, how='left', on=['year', 'week'])"
   ]
  },
  {
   "cell_type": "code",
   "execution_count": null,
   "metadata": {},
   "outputs": [],
   "source": [
    "df5_add_weather_kr = pd.merge(df5_add_weather_kr, df_weather_kr, how='left', on=['year', 'week'])"
   ]
  },
  {
   "cell_type": "code",
   "execution_count": null,
   "metadata": {},
   "outputs": [],
   "source": [
    "df5_add_weather_kr['cpi_total'] = df5_add_weather_kr['cpi_total_x']\n",
    "df5_add_weather_kr['wind_kr'] = df5_add_weather_kr['wind_kr_x']\n",
    "\n",
    "df5_add_weather_kr.drop(['cpi_total_x','cpi_total_y','wind_kr_x','wind_kr_y'],axis=1,inplace=True)"
   ]
  },
  {
   "cell_type": "markdown",
   "metadata": {},
   "source": [
    "### One hot encoding"
   ]
  },
  {
   "cell_type": "code",
   "execution_count": null,
   "metadata": {},
   "outputs": [],
   "source": [
    "one_hot = ['CTRY_1', 'CTRY_2', 'P_PURPOSE', 'CATEGORY_1', 'CATEGORY_2', 'P_NAME']\n",
    "df5_add_weather_kr = pd.get_dummies(df5_add_weather_kr, columns=one_hot)"
   ]
  },
  {
   "cell_type": "markdown",
   "metadata": {},
   "source": [
    "## Train"
   ]
  },
  {
   "cell_type": "code",
   "execution_count": null,
   "metadata": {},
   "outputs": [],
   "source": [
    "model5 = train_model(df5_add_weather_kr.drop(columns=['P_PRICE']), df5_add_weather_kr['P_PRICE'])"
   ]
  },
  {
   "cell_type": "code",
   "execution_count": null,
   "metadata": {},
   "outputs": [],
   "source": [
    "t5 = print_importance(model5, df5_add_weather_kr, ['wind_kr','temp_kr','water_temp_kr'])"
   ]
  },
  {
   "cell_type": "markdown",
   "metadata": {},
   "source": [
    "- 미세하게 모델 정확도가 상승하였으므로 한국 날씨 데이터도 사용하도록 한다"
   ]
  },
  {
   "cell_type": "markdown",
   "metadata": {
    "id": "f4L7ujIvO0uU"
   },
   "source": [
    "----\n",
    "# Standardization"
   ]
  },
  {
   "cell_type": "code",
   "execution_count": null,
   "metadata": {
    "id": "3jEGULmJO0uU"
   },
   "outputs": [],
   "source": [
    "df4_transform = df_train.copy()"
   ]
  },
  {
   "cell_type": "markdown",
   "metadata": {
    "id": "rt8PP7U7O0uU"
   },
   "source": [
    "## Preprocess\n",
    "### Merge Data"
   ]
  },
  {
   "cell_type": "code",
   "execution_count": null,
   "metadata": {
    "id": "xLYWQ7ojO0uU"
   },
   "outputs": [],
   "source": [
    "df4_transform = pd.merge(df4_transform, df_weather_with_wf, how='left', on=['year', 'week', 'CTRY_1'])"
   ]
  },
  {
   "cell_type": "code",
   "execution_count": null,
   "metadata": {
    "id": "iH6nJ9ZPO0uV"
   },
   "outputs": [],
   "source": [
    "df4_transform = pd.merge(df4_transform, df_exchange, how='left', on=['year', 'week', 'CTRY_2'])"
   ]
  },
  {
   "cell_type": "code",
   "execution_count": null,
   "metadata": {},
   "outputs": [],
   "source": [
    "df4_transform = pd.merge(df4_transform, df_cpi, how='left', on=['year', 'week'])"
   ]
  },
  {
   "cell_type": "code",
   "execution_count": null,
   "metadata": {},
   "outputs": [],
   "source": [
    "df4_transform = pd.merge(df4_transform, df_weather_kr, how='left', on=['year', 'week'])"
   ]
  },
  {
   "cell_type": "code",
   "execution_count": null,
   "metadata": {},
   "outputs": [],
   "source": [
    "df4_transform['cpi_total'] = df4_transform['cpi_total_x']\n",
    "df4_transform['wind_kr'] = df4_transform['wind_kr_x']"
   ]
  },
  {
   "cell_type": "code",
   "execution_count": null,
   "metadata": {},
   "outputs": [],
   "source": [
    "df4_transform.drop(['cpi_total_x','cpi_total_y','wind_kr_x','wind_kr_y'],axis=1,inplace=True)"
   ]
  },
  {
   "cell_type": "markdown",
   "metadata": {
    "id": "RhtKmcAUO0uV"
   },
   "source": [
    "### Standardization\n",
    "- 추가한 Numerical Feauture : wind, rain, temperature, exchange, oil, cpi_total,cpi_fish,wind_kr, temp_kr, water_temp_kr\n",
    "- 이에 대해 분포를 확인한 후, 정규화를 진행한다"
   ]
  },
  {
   "cell_type": "markdown",
   "metadata": {
    "id": "KR4LrbbWO0uV"
   },
   "source": [
    "#### wind"
   ]
  },
  {
   "cell_type": "code",
   "execution_count": null,
   "metadata": {
    "colab": {
     "base_uri": "https://localhost:8080/",
     "height": 518
    },
    "id": "q2dval5lO0uV",
    "outputId": "27b2bd40-0d89-45e3-e26c-104e2207b1d4"
   },
   "outputs": [],
   "source": [
    "plt.figure(figsize=(20, 8))\n",
    "\n",
    "plt.subplot(1, 2, 1)\n",
    "plt.title('DIstribution Plot', fontsize=title_size)\n",
    "sns.distplot(df4_transform['wind'], fit=norm);\n",
    "\n",
    "plt.subplot(1, 2, 2)\n",
    "plt.title('Probability Plot', fontsize=title_size)\n",
    "stats.probplot(df4_transform['wind'], plot=plt)\n",
    "\n",
    "plt.show()"
   ]
  },
  {
   "cell_type": "markdown",
   "metadata": {
    "id": "z2kw8WUDO0uV"
   },
   "source": [
    "- Peakedness & Skewedness\n",
    "- Doesn't follow the diagonal line\n",
    "- Use Log Transformation"
   ]
  },
  {
   "cell_type": "code",
   "execution_count": null,
   "metadata": {
    "id": "myin7bRSO0uV"
   },
   "outputs": [],
   "source": [
    "# Log Transformation\n",
    "df4_transform['wind'] = np.log1p(df4_transform['wind'])"
   ]
  },
  {
   "cell_type": "code",
   "execution_count": null,
   "metadata": {
    "colab": {
     "base_uri": "https://localhost:8080/",
     "height": 518
    },
    "id": "UUNKl1xyO0uV",
    "outputId": "398d4f55-296c-4fd4-d3a0-0da703d41bea"
   },
   "outputs": [],
   "source": [
    "plt.figure(figsize=(20, 8))\n",
    "\n",
    "plt.subplot(1, 2, 1)\n",
    "plt.title('DIstribution Plot', fontsize=title_size)\n",
    "sns.distplot(df4_transform['wind'], fit=norm);\n",
    "\n",
    "plt.subplot(1, 2, 2)\n",
    "plt.title('Probability Plot', fontsize=title_size)\n",
    "stats.probplot(df4_transform['wind'], plot=plt)\n",
    "\n",
    "plt.show()"
   ]
  },
  {
   "cell_type": "markdown",
   "metadata": {
    "id": "vGccDReoO0uV"
   },
   "source": [
    "#### rain"
   ]
  },
  {
   "cell_type": "code",
   "execution_count": null,
   "metadata": {
    "colab": {
     "base_uri": "https://localhost:8080/",
     "height": 518
    },
    "id": "PsO5cIDcO0uV",
    "outputId": "55eef838-fbe7-4308-9e71-c22979b63c52"
   },
   "outputs": [],
   "source": [
    "plt.figure(figsize=(20, 8))\n",
    "\n",
    "plt.subplot(1, 2, 1)\n",
    "plt.title('DIstribution Plot', fontsize=title_size)\n",
    "sns.distplot(df4_transform['rain'], fit=norm);\n",
    "\n",
    "plt.subplot(1, 2, 2)\n",
    "plt.title('Probability Plot', fontsize=title_size)\n",
    "stats.probplot(df4_transform['rain'], plot=plt)\n",
    "\n",
    "plt.show()"
   ]
  },
  {
   "cell_type": "markdown",
   "metadata": {
    "id": "af4F31fBO0uW"
   },
   "source": [
    "- Peakedness & Skewedness\n",
    "- Doesn't follow the diagonal line\n",
    "- Use Log Transformation"
   ]
  },
  {
   "cell_type": "code",
   "execution_count": null,
   "metadata": {
    "id": "P1rtxQFMO0uW"
   },
   "outputs": [],
   "source": [
    "# Log Transformation\n",
    "df4_transform['rain'] = np.log1p(df4_transform['rain'])"
   ]
  },
  {
   "cell_type": "code",
   "execution_count": null,
   "metadata": {
    "colab": {
     "base_uri": "https://localhost:8080/",
     "height": 518
    },
    "id": "oOng1A9BO0uW",
    "outputId": "f55d8544-cb3b-4a00-8361-e46faef5eaab"
   },
   "outputs": [],
   "source": [
    "plt.figure(figsize=(20, 8))\n",
    "\n",
    "plt.subplot(1, 2, 1)\n",
    "plt.title('DIstribution Plot', fontsize=title_size)\n",
    "sns.distplot(df4_transform['rain'], fit=norm);\n",
    "\n",
    "plt.subplot(1, 2, 2)\n",
    "plt.title('Probability Plot', fontsize=title_size)\n",
    "stats.probplot(df4_transform['rain'], plot=plt)\n",
    "\n",
    "plt.show()"
   ]
  },
  {
   "cell_type": "markdown",
   "metadata": {
    "id": "Y2lE0hcmO0uW"
   },
   "source": [
    "#### temperature"
   ]
  },
  {
   "cell_type": "code",
   "execution_count": null,
   "metadata": {
    "colab": {
     "base_uri": "https://localhost:8080/",
     "height": 518
    },
    "id": "xm9TGC8NO0uW",
    "outputId": "8e4a7a8d-1b39-4503-96e3-dbf49ccbd627"
   },
   "outputs": [],
   "source": [
    "plt.figure(figsize=(20, 8))\n",
    "\n",
    "plt.subplot(1, 2, 1)\n",
    "plt.title('DIstribution Plot', fontsize=title_size)\n",
    "sns.distplot(df4_transform['temperature'], fit=norm);\n",
    "\n",
    "plt.subplot(1, 2, 2)\n",
    "plt.title('Probability Plot', fontsize=title_size)\n",
    "stats.probplot(df4_transform['temperature'], plot=plt)\n",
    "\n",
    "plt.show()"
   ]
  },
  {
   "cell_type": "markdown",
   "metadata": {
    "id": "S64GpRXTO0uW"
   },
   "source": [
    "- Peakedness & Skewedness\n",
    "- Doesn't follow the diagonal line\n",
    "- Use Standardization"
   ]
  },
  {
   "cell_type": "code",
   "execution_count": null,
   "metadata": {
    "id": "LvaLOBKSO0uW"
   },
   "outputs": [],
   "source": [
    "# Standardization\n",
    "# 로그 변환시 NaN 값 생성됨.\n",
    "df4_transform['temperature'] = (df4_transform['temperature'] - np.mean(df4_transform['temperature'])) / df4_transform['temperature'].std()"
   ]
  },
  {
   "cell_type": "code",
   "execution_count": null,
   "metadata": {
    "colab": {
     "base_uri": "https://localhost:8080/",
     "height": 518
    },
    "id": "JL5a-6X9O0uW",
    "outputId": "b585f18c-55c9-4bff-ce36-9ae7fc131988"
   },
   "outputs": [],
   "source": [
    "plt.figure(figsize=(20, 8))\n",
    "\n",
    "plt.subplot(1, 2, 1)\n",
    "plt.title('DIstribution Plot', fontsize=title_size)\n",
    "sns.distplot(df4_transform['temperature'], fit=norm);\n",
    "\n",
    "plt.subplot(1, 2, 2)\n",
    "plt.title('Probability Plot', fontsize=title_size)\n",
    "stats.probplot(df4_transform['temperature'], plot=plt)\n",
    "\n",
    "plt.show()"
   ]
  },
  {
   "cell_type": "markdown",
   "metadata": {
    "id": "--IsiQLNO0uX"
   },
   "source": [
    "#### exchange"
   ]
  },
  {
   "cell_type": "code",
   "execution_count": null,
   "metadata": {
    "colab": {
     "base_uri": "https://localhost:8080/",
     "height": 518
    },
    "id": "N9EMuWFhO0uX",
    "outputId": "5f195324-671e-4103-dce3-8ebf2a4e250d"
   },
   "outputs": [],
   "source": [
    "plt.figure(figsize=(20, 8))\n",
    "\n",
    "plt.subplot(1, 2, 1)\n",
    "plt.title('DIstribution Plot', fontsize=title_size)\n",
    "sns.distplot(df4_transform['exchange'], fit=norm);\n",
    "\n",
    "plt.subplot(1, 2, 2)\n",
    "plt.title('Probability Plot', fontsize=title_size)\n",
    "stats.probplot(df4_transform['exchange'], plot=plt)\n",
    "\n",
    "plt.show()"
   ]
  },
  {
   "cell_type": "markdown",
   "metadata": {
    "id": "Pu0vKKuAkR0J"
   },
   "source": [
    "- Peakedness & Skewedness\n",
    "- Doesn't follow the diagonal line\n",
    "- Use Standardization"
   ]
  },
  {
   "cell_type": "code",
   "execution_count": null,
   "metadata": {
    "id": "inQhCLoyO0uX"
   },
   "outputs": [],
   "source": [
    "# Log Transformation\n",
    "df4_transform['exchange'] = np.log1p(df4_transform['exchange'])"
   ]
  },
  {
   "cell_type": "code",
   "execution_count": null,
   "metadata": {
    "colab": {
     "base_uri": "https://localhost:8080/",
     "height": 518
    },
    "id": "gJy1yUEQO0uX",
    "outputId": "c8454470-d9fe-44c8-a081-dc3550b326bc"
   },
   "outputs": [],
   "source": [
    "plt.figure(figsize=(20, 8))\n",
    "\n",
    "plt.subplot(1, 2, 1)\n",
    "plt.title('DIstribution Plot', fontsize=title_size)\n",
    "sns.distplot(df4_transform['exchange'], fit=norm);\n",
    "\n",
    "plt.subplot(1, 2, 2)\n",
    "plt.title('Probability Plot', fontsize=title_size)\n",
    "stats.probplot(df4_transform['exchange'], plot=plt)\n",
    "\n",
    "plt.show()"
   ]
  },
  {
   "cell_type": "markdown",
   "metadata": {
    "id": "UsL2SQaVWT8z"
   },
   "source": [
    "#### oil"
   ]
  },
  {
   "cell_type": "code",
   "execution_count": null,
   "metadata": {
    "colab": {
     "base_uri": "https://localhost:8080/",
     "height": 518
    },
    "id": "BbQ3_K1jWU2_",
    "outputId": "79a12225-86ed-4399-f6a5-be96c6ddce96"
   },
   "outputs": [],
   "source": [
    "plt.figure(figsize=(20, 8))\n",
    "\n",
    "plt.subplot(1, 2, 1)\n",
    "plt.title('DIstribution Plot', fontsize=title_size)\n",
    "sns.distplot(df4_transform['oil'], fit=norm);\n",
    "\n",
    "plt.subplot(1, 2, 2)\n",
    "plt.title('Probability Plot', fontsize=title_size)\n",
    "stats.probplot(df4_transform['oil'], plot=plt)\n",
    "\n",
    "plt.show()"
   ]
  },
  {
   "cell_type": "markdown",
   "metadata": {
    "id": "Cmye2U49ihA-"
   },
   "source": [
    "- Peakedness & Skewedness\n",
    "- Doesn't follow the diagonal line\n",
    "- Use Log Transformation"
   ]
  },
  {
   "cell_type": "code",
   "execution_count": null,
   "metadata": {
    "id": "7qQsHraciDcr"
   },
   "outputs": [],
   "source": [
    "# Log Transformation\n",
    "df4_transform['oil'] = np.log1p(df4_transform['oil'])"
   ]
  },
  {
   "cell_type": "code",
   "execution_count": null,
   "metadata": {
    "colab": {
     "base_uri": "https://localhost:8080/",
     "height": 518
    },
    "id": "3snXkcOpifJg",
    "outputId": "2719b698-cccd-4b84-ddde-4fd8b8e50490"
   },
   "outputs": [],
   "source": [
    "plt.figure(figsize=(20, 8))\n",
    "\n",
    "plt.subplot(1, 2, 1)\n",
    "plt.title('DIstribution Plot', fontsize=title_size)\n",
    "sns.distplot(df4_transform['oil'], fit=norm);\n",
    "\n",
    "plt.subplot(1, 2, 2)\n",
    "plt.title('Probability Plot', fontsize=title_size)\n",
    "stats.probplot(df4_transform['oil'], plot=plt)\n",
    "\n",
    "plt.show()"
   ]
  },
  {
   "cell_type": "markdown",
   "metadata": {
    "id": "mG_mqWaoogQ3"
   },
   "source": [
    "#### cpi_total"
   ]
  },
  {
   "cell_type": "code",
   "execution_count": null,
   "metadata": {
    "colab": {
     "base_uri": "https://localhost:8080/",
     "height": 519
    },
    "id": "u5xAmwOOolwE",
    "outputId": "9e265fc9-8a6d-43a2-930e-07d4608ae213"
   },
   "outputs": [],
   "source": [
    "plt.figure(figsize=(20, 8))\n",
    "\n",
    "plt.subplot(1, 2, 1)\n",
    "plt.title('DIstribution Plot', fontsize=title_size)\n",
    "sns.distplot(df4_transform['cpi_total'], fit=norm);\n",
    "\n",
    "plt.subplot(1, 2, 2)\n",
    "plt.title('Probability Plot', fontsize=title_size)\n",
    "stats.probplot(df4_transform['cpi_total'], plot=plt)\n",
    "\n",
    "plt.show()"
   ]
  },
  {
   "cell_type": "markdown",
   "metadata": {
    "id": "eF0Zf84jowfZ"
   },
   "source": [
    "- Peakedness & Skewedness\n",
    "- Doesn't follow the diagonal line\n",
    "- Use Log Transformation"
   ]
  },
  {
   "cell_type": "code",
   "execution_count": null,
   "metadata": {
    "id": "-8mI5PjeohmI"
   },
   "outputs": [],
   "source": [
    "# Log Transformation\n",
    "df4_transform['cpi_total'] = np.log1p(df4_transform['cpi_total'])"
   ]
  },
  {
   "cell_type": "code",
   "execution_count": null,
   "metadata": {
    "colab": {
     "base_uri": "https://localhost:8080/",
     "height": 519
    },
    "id": "MQNlxH0Coz3m",
    "outputId": "637b3f76-3ac1-45ad-fc91-a6eed63a2ee0"
   },
   "outputs": [],
   "source": [
    "plt.figure(figsize=(20, 8))\n",
    "\n",
    "plt.subplot(1, 2, 1)\n",
    "plt.title('DIstribution Plot', fontsize=title_size)\n",
    "sns.distplot(df4_transform['cpi_total'], fit=norm);\n",
    "\n",
    "plt.subplot(1, 2, 2)\n",
    "plt.title('Probability Plot', fontsize=title_size)\n",
    "stats.probplot(df4_transform['cpi_total'], plot=plt)\n",
    "\n",
    "plt.show()"
   ]
  },
  {
   "cell_type": "markdown",
   "metadata": {},
   "source": [
    "#### cpi_fish"
   ]
  },
  {
   "cell_type": "code",
   "execution_count": null,
   "metadata": {},
   "outputs": [],
   "source": [
    "plt.figure(figsize=(20, 8))\n",
    "\n",
    "plt.subplot(1, 2, 1)\n",
    "plt.title('DIstribution Plot', fontsize=title_size)\n",
    "sns.distplot(df4_transform['cpi_fish'], fit=norm);\n",
    "\n",
    "plt.subplot(1, 2, 2)\n",
    "plt.title('Probability Plot', fontsize=title_size)\n",
    "stats.probplot(df4_transform['cpi_fish'], plot=plt)\n",
    "\n",
    "plt.show()"
   ]
  },
  {
   "cell_type": "markdown",
   "metadata": {},
   "source": [
    "- Peakedness & Skewedness\n",
    "- Doesn't follow the diagonal line\n",
    "- Use Log Transformation"
   ]
  },
  {
   "cell_type": "code",
   "execution_count": null,
   "metadata": {},
   "outputs": [],
   "source": [
    "# Log Transformation\n",
    "df4_transform['cpi_fish'] = np.log1p(df4_transform['cpi_fish'])"
   ]
  },
  {
   "cell_type": "code",
   "execution_count": null,
   "metadata": {},
   "outputs": [],
   "source": [
    "plt.figure(figsize=(20, 8))\n",
    "\n",
    "plt.subplot(1, 2, 1)\n",
    "plt.title('DIstribution Plot', fontsize=title_size)\n",
    "sns.distplot(df4_transform['cpi_fish'], fit=norm);\n",
    "\n",
    "plt.subplot(1, 2, 2)\n",
    "plt.title('Probability Plot', fontsize=title_size)\n",
    "stats.probplot(df4_transform['cpi_fish'], plot=plt)\n",
    "\n",
    "plt.show()"
   ]
  },
  {
   "cell_type": "markdown",
   "metadata": {
    "id": "poJZMHUdpGw6"
   },
   "source": [
    "#### wind_kr"
   ]
  },
  {
   "cell_type": "code",
   "execution_count": null,
   "metadata": {
    "colab": {
     "base_uri": "https://localhost:8080/",
     "height": 519
    },
    "id": "dC7bRblwpLms",
    "outputId": "da3277ab-a911-40d9-9be4-6d7cc45a0878"
   },
   "outputs": [],
   "source": [
    "plt.figure(figsize=(20, 8))\n",
    "\n",
    "plt.subplot(1, 2, 1)\n",
    "plt.title('DIstribution Plot', fontsize=title_size)\n",
    "sns.distplot(df4_transform['wind_kr'], fit=norm);\n",
    "\n",
    "plt.subplot(1, 2, 2)\n",
    "plt.title('Probability Plot', fontsize=title_size)\n",
    "stats.probplot(df4_transform['wind_kr'], plot=plt)\n",
    "\n",
    "plt.show()"
   ]
  },
  {
   "cell_type": "markdown",
   "metadata": {
    "id": "J-UZCaDTpSP0"
   },
   "source": [
    "- Peakedness & Skewedness\n",
    "- Doesn't follow the diagonal line\n",
    "- Use Log Transformation"
   ]
  },
  {
   "cell_type": "code",
   "execution_count": null,
   "metadata": {
    "id": "U6Ht3H7UpQWJ"
   },
   "outputs": [],
   "source": [
    "# Log Transformation\n",
    "df4_transform['wind_kr'] = np.log1p(df4_transform['wind_kr'])"
   ]
  },
  {
   "cell_type": "code",
   "execution_count": null,
   "metadata": {
    "colab": {
     "base_uri": "https://localhost:8080/",
     "height": 519
    },
    "id": "G3GRnqqOpX7l",
    "outputId": "17c99c0f-f9ae-40aa-8442-b6ec23d8c13e"
   },
   "outputs": [],
   "source": [
    "plt.figure(figsize=(20, 8))\n",
    "\n",
    "plt.subplot(1, 2, 1)\n",
    "plt.title('DIstribution Plot', fontsize=title_size)\n",
    "sns.distplot(df4_transform['wind_kr'], fit=norm);\n",
    "\n",
    "plt.subplot(1, 2, 2)\n",
    "plt.title('Probability Plot', fontsize=title_size)\n",
    "stats.probplot(df4_transform['wind_kr'], plot=plt)\n",
    "\n",
    "plt.show()"
   ]
  },
  {
   "cell_type": "markdown",
   "metadata": {
    "id": "Qg0GW5E5pZ_3"
   },
   "source": [
    "#### temp_kr"
   ]
  },
  {
   "cell_type": "code",
   "execution_count": null,
   "metadata": {
    "colab": {
     "base_uri": "https://localhost:8080/",
     "height": 519
    },
    "id": "puPRpi8npbno",
    "outputId": "64122b8c-9bea-40e4-cae5-72fdc26aa7af"
   },
   "outputs": [],
   "source": [
    "plt.figure(figsize=(20, 8))\n",
    "\n",
    "plt.subplot(1, 2, 1)\n",
    "plt.title('DIstribution Plot', fontsize=title_size)\n",
    "sns.distplot(df4_transform['temp_kr'], fit=norm);\n",
    "\n",
    "plt.subplot(1, 2, 2)\n",
    "plt.title('Probability Plot', fontsize=title_size)\n",
    "stats.probplot(df4_transform['temp_kr'], plot=plt)\n",
    "\n",
    "plt.show()"
   ]
  },
  {
   "cell_type": "markdown",
   "metadata": {
    "id": "_b3_GNBipfpe"
   },
   "source": [
    "- Peakedness & Skewedness\n",
    "- Doesn't follow the diagonal line\n",
    "- Use Log Transformation"
   ]
  },
  {
   "cell_type": "code",
   "execution_count": null,
   "metadata": {
    "id": "e5or55ZWpew4"
   },
   "outputs": [],
   "source": [
    "# Log Transformation\n",
    "df4_transform['temp_kr'] = np.log1p(df4_transform['temp_kr'])"
   ]
  },
  {
   "cell_type": "code",
   "execution_count": null,
   "metadata": {
    "colab": {
     "base_uri": "https://localhost:8080/",
     "height": 519
    },
    "id": "Myx-b4oVpkhD",
    "outputId": "3d9e016f-f09d-45ce-abae-b0f4c70eff46"
   },
   "outputs": [],
   "source": [
    "plt.figure(figsize=(20, 8))\n",
    "\n",
    "plt.subplot(1, 2, 1)\n",
    "plt.title('DIstribution Plot', fontsize=title_size)\n",
    "sns.distplot(df4_transform['temp_kr'], fit=norm);\n",
    "\n",
    "plt.subplot(1, 2, 2)\n",
    "plt.title('Probability Plot', fontsize=title_size)\n",
    "stats.probplot(df4_transform['temp_kr'], plot=plt)\n",
    "\n",
    "plt.show()"
   ]
  },
  {
   "cell_type": "markdown",
   "metadata": {},
   "source": [
    "#### water_temp_kr"
   ]
  },
  {
   "cell_type": "code",
   "execution_count": null,
   "metadata": {},
   "outputs": [],
   "source": [
    "plt.figure(figsize=(20, 8))\n",
    "\n",
    "plt.subplot(1, 2, 1)\n",
    "plt.title('DIstribution Plot', fontsize=title_size)\n",
    "sns.distplot(df4_transform['water_temp_kr'], fit=norm);\n",
    "\n",
    "plt.subplot(1, 2, 2)\n",
    "plt.title('Probability Plot', fontsize=title_size)\n",
    "stats.probplot(df4_transform['water_temp_kr'], plot=plt)\n",
    "\n",
    "plt.show()"
   ]
  },
  {
   "cell_type": "markdown",
   "metadata": {},
   "source": [
    "- Peakedness & Skewedness\n",
    "- Doesn't follow the diagonal line\n",
    "- Use Log Transformation"
   ]
  },
  {
   "cell_type": "code",
   "execution_count": null,
   "metadata": {},
   "outputs": [],
   "source": [
    "# Log Transformation\n",
    "df4_transform['water_temp_kr'] = np.log1p(df4_transform['water_temp_kr'])"
   ]
  },
  {
   "cell_type": "code",
   "execution_count": null,
   "metadata": {},
   "outputs": [],
   "source": [
    "plt.figure(figsize=(20, 8))\n",
    "\n",
    "plt.subplot(1, 2, 1)\n",
    "plt.title('DIstribution Plot', fontsize=title_size)\n",
    "sns.distplot(df4_transform['water_temp_kr'], fit=norm);\n",
    "\n",
    "plt.subplot(1, 2, 2)\n",
    "plt.title('Probability Plot', fontsize=title_size)\n",
    "stats.probplot(df4_transform['water_temp_kr'], plot=plt)\n",
    "\n",
    "plt.show()"
   ]
  },
  {
   "cell_type": "markdown",
   "metadata": {
    "id": "JXTx8TOAO0uX"
   },
   "source": [
    "### One hot encoding"
   ]
  },
  {
   "cell_type": "code",
   "execution_count": null,
   "metadata": {
    "id": "yTQgYOKyO0uX"
   },
   "outputs": [],
   "source": [
    "one_hot = ['CTRY_1', 'CTRY_2', 'P_PURPOSE', 'CATEGORY_1', 'CATEGORY_2', 'P_NAME']\n",
    "df4_transform = pd.get_dummies(df4_transform, columns=one_hot)"
   ]
  },
  {
   "cell_type": "markdown",
   "metadata": {
    "id": "XbtW_oq3O0uY"
   },
   "source": [
    "## Train"
   ]
  },
  {
   "cell_type": "code",
   "execution_count": null,
   "metadata": {
    "colab": {
     "base_uri": "https://localhost:8080/",
     "height": 604
    },
    "id": "Ww1BCqOqO0uY",
    "outputId": "c74c1814-fb00-4030-fd48-b27bdf06393a"
   },
   "outputs": [],
   "source": [
    "model6 = train_model(df4_transform.drop(columns=['P_PRICE']), df4_transform['P_PRICE'])"
   ]
  },
  {
   "cell_type": "code",
   "execution_count": null,
   "metadata": {
    "colab": {
     "base_uri": "https://localhost:8080/"
    },
    "id": "cRd9a6XOO0uY",
    "outputId": "1a18cd98-2457-42ee-9025-a782bd056a1f"
   },
   "outputs": [],
   "source": [
    "t4 = print_importance(model6, df4_transform, ['rain','wind','temperature','exchange','oil','cpi_total','cpi_fish','wind_kr','temp_kr','water_temp_kr'])"
   ]
  },
  {
   "cell_type": "markdown",
   "metadata": {
    "id": "_k2Uxf1oV-EW"
   },
   "source": [
    "- exchange,temperature 변수 외의 다른 변수들은 순위가 별로 높지 않으며, 모델 성능이 크게 개선되지 않음을 발견할 수 있다\n",
    "- 다만, 몇 없는 numerical feature 이므로 파생 변수를 추가하는 방향으로 고려해볼 수 있을 것이다"
   ]
  },
  {
   "cell_type": "markdown",
   "metadata": {
    "id": "iH05jY-eqXRV"
   },
   "source": [
    "# Feature Selection (by Correlation)"
   ]
  },
  {
   "cell_type": "code",
   "execution_count": null,
   "metadata": {
    "id": "ue3E5uqIqax1"
   },
   "outputs": [],
   "source": [
    "df5_feature_selection = df_train.copy()"
   ]
  },
  {
   "cell_type": "code",
   "execution_count": null,
   "metadata": {
    "id": "ZLlluBySCsRM"
   },
   "outputs": [],
   "source": [
    "df5_feature_selection = pd.merge(df5_feature_selection, df_weather_with_wf, how='left', on=['year', 'week', 'CTRY_1'])"
   ]
  },
  {
   "cell_type": "code",
   "execution_count": null,
   "metadata": {
    "id": "yZ-eF9a_CybV"
   },
   "outputs": [],
   "source": [
    "df5_feature_selection = pd.merge(df5_feature_selection, df_exchange, how='left', on=['year', 'week', 'CTRY_2'])"
   ]
  },
  {
   "cell_type": "code",
   "execution_count": null,
   "metadata": {},
   "outputs": [],
   "source": [
    "df5_feature_selection = pd.merge(df5_feature_selection, df_cpi, how='left', on=['year', 'week'])"
   ]
  },
  {
   "cell_type": "code",
   "execution_count": null,
   "metadata": {},
   "outputs": [],
   "source": [
    "df5_feature_selection = pd.merge(df5_feature_selection, df_weather_kr, how='left', on=['year', 'week'])"
   ]
  },
  {
   "cell_type": "code",
   "execution_count": null,
   "metadata": {},
   "outputs": [],
   "source": [
    "df5_feature_selection['cpi_total'] = df5_feature_selection['cpi_total_x']\n",
    "df5_feature_selection['wind_kr'] = df5_feature_selection['wind_kr_x']\n",
    "\n",
    "df5_feature_selection.drop(['cpi_total_x','cpi_total_y','wind_kr_x','wind_kr_y'],axis=1,inplace=True)"
   ]
  },
  {
   "cell_type": "code",
   "execution_count": null,
   "metadata": {
    "id": "wDtgA6jG5uyN"
   },
   "outputs": [],
   "source": [
    "columns = ['CTRY_1', 'CTRY_2', 'P_PURPOSE', 'CATEGORY_1', 'CATEGORY_2', 'P_NAME',\n",
    "       'P_PRICE', 'year', 'week', 'ctry1_cnt', 'purpose_cnt', 'category1_cnt',\n",
    "       'category2_cnt', 'name_cnt', 'is_processed', 'import_cnt','oil', 'wind_kr', 'cpi_total','cpi_fish' ,'temp_kr','water_temp_kr','rain','wind','temperature','exchange']\n",
    "\n",
    "df5_feature_selection = df5_feature_selection[columns]"
   ]
  },
  {
   "cell_type": "markdown",
   "metadata": {
    "id": "xT9WiMlftova"
   },
   "source": [
    "## Grouping by Correlation\n",
    "- P_PRICE 와 상관관계가 높은 변수 찾기\n",
    "- 서로 상관관계가 높은 변수 찾기"
   ]
  },
  {
   "cell_type": "code",
   "execution_count": null,
   "metadata": {
    "colab": {
     "base_uri": "https://localhost:8080/",
     "height": 765
    },
    "id": "ddY-vGi8tgQk",
    "outputId": "62234ee3-c837-4246-a5c8-ccfbc45b24bb"
   },
   "outputs": [],
   "source": [
    "#Using Pearson Correlation\n",
    "plt.figure(figsize=(15,12))\n",
    "cor = df5_feature_selection.corr()\n",
    "sns.heatmap(cor, annot=True, cmap=plt.cm.Reds)\n",
    "plt.show()"
   ]
  },
  {
   "cell_type": "markdown",
   "metadata": {
    "id": "wUi3fb-p6PUW"
   },
   "source": [
    "- P_PRICE 와 상관계수가 큰 변수\n",
    "    - 없음\n",
    "\n",
    "- 서로간 상관계수가 큰 변수\n",
    "    - year & oil & cpi_total & cpi_fish\n",
    "    - week & temp_kr & water_temp_kr\n",
    "    - category2_cnt & name_cnt\n",
    "    - ctry1_cnt & exchange\n",
    "    - rain & temperature\n",
    "    - temp_kr & wind_kr\n",
    "\n",
    "\n",
    "temperature_kr & wind_kr & water_temp_kr 평균 사용\n",
    "\n",
    "cpi = cpi_fish / cpi_total 사용"
   ]
  },
  {
   "cell_type": "code",
   "execution_count": null,
   "metadata": {
    "id": "hXs1FwVQDqbt"
   },
   "outputs": [],
   "source": [
    "df5_feature_selection['weather_kr'] = (df5_feature_selection['temp_kr'] + df5_feature_selection['wind_kr']+df5_feature_selection['water_temp_kr']) / 3\n",
    "\n",
    "df5_feature_selection['cpi'] = df5_feature_selection['cpi_fish'] / df5_feature_selection['cpi_total']"
   ]
  },
  {
   "cell_type": "code",
   "execution_count": null,
   "metadata": {
    "id": "uuuHFPXq7xNJ"
   },
   "outputs": [],
   "source": [
    "df5_feature_selection.drop(columns=['temp_kr','wind_kr','water_temp_kr','cpi_fish','cpi_total'], axis=1, inplace=True)"
   ]
  },
  {
   "cell_type": "markdown",
   "metadata": {
    "id": "5_2rYTJl76DM"
   },
   "source": [
    "## One Hot Encoding & Dropping"
   ]
  },
  {
   "cell_type": "code",
   "execution_count": null,
   "metadata": {
    "id": "bLKgEqXh77LY"
   },
   "outputs": [],
   "source": [
    "# Others\n",
    "one_hot = ['CTRY_1', 'CTRY_2', 'P_PURPOSE', 'CATEGORY_1', 'CATEGORY_2', 'P_NAME']\n",
    "df5_feature_selection = pd.get_dummies(df5_feature_selection, columns=one_hot)"
   ]
  },
  {
   "cell_type": "markdown",
   "metadata": {
    "id": "-5rpSsqo8Irj"
   },
   "source": [
    "## Train"
   ]
  },
  {
   "cell_type": "code",
   "execution_count": null,
   "metadata": {
    "colab": {
     "base_uri": "https://localhost:8080/",
     "height": 604
    },
    "id": "3En4rOsr8J0U",
    "outputId": "097ce4cf-cae0-497f-846c-ba41a7a457c4"
   },
   "outputs": [],
   "source": [
    "model6 = train_model(df5_feature_selection.drop(columns=['P_PRICE']), df5_feature_selection['P_PRICE'])"
   ]
  },
  {
   "cell_type": "code",
   "execution_count": null,
   "metadata": {
    "colab": {
     "base_uri": "https://localhost:8080/"
    },
    "id": "SxSOXxY28X5u",
    "outputId": "4aea718a-859e-416d-955f-9db4871b9292"
   },
   "outputs": [],
   "source": [
    "t5 = print_importance(model6, df5_feature_selection, columns)"
   ]
  },
  {
   "cell_type": "markdown",
   "metadata": {
    "id": "Plh-xvEE8i_c"
   },
   "source": [
    "정확도가 감소한 것을 확인할 수 있다  \n",
    "그러나 다중공선성 문제를 피하기 위해서는 어쩔 수 없다"
   ]
  },
  {
   "cell_type": "markdown",
   "metadata": {
    "id": "KB_-EMCIcdfJ"
   },
   "source": [
    "# Final DF"
   ]
  },
  {
   "cell_type": "code",
   "execution_count": null,
   "metadata": {
    "id": "veswGSKnCjWa"
   },
   "outputs": [],
   "source": [
    "df_final = df_train.copy()"
   ]
  },
  {
   "cell_type": "code",
   "execution_count": null,
   "metadata": {
    "colab": {
     "base_uri": "https://localhost:8080/",
     "height": 640
    },
    "id": "JlHwEn8itYX7",
    "outputId": "ff863b72-e2c3-4c0c-d971-eb2cf9cc9e55"
   },
   "outputs": [],
   "source": [
    "df_final"
   ]
  },
  {
   "cell_type": "markdown",
   "metadata": {
    "id": "MpSk8NuEEPeH"
   },
   "source": [
    "## Preprocessing"
   ]
  },
  {
   "cell_type": "code",
   "execution_count": null,
   "metadata": {
    "id": "A1UN2c10gJx2"
   },
   "outputs": [],
   "source": [
    "df_final = pd.merge(df_final, df_weather_with_wf, how='left', on=['year', 'week', 'CTRY_1'])"
   ]
  },
  {
   "cell_type": "code",
   "execution_count": null,
   "metadata": {
    "id": "T2cCzq3REIK7"
   },
   "outputs": [],
   "source": [
    "df_final = pd.merge(df_final, df_exchange, how='left', on=['year', 'week', 'CTRY_2'])"
   ]
  },
  {
   "cell_type": "code",
   "execution_count": null,
   "metadata": {},
   "outputs": [],
   "source": [
    "df_final = pd.merge(df_final, df_cpi, how='left', on=['year', 'week'])"
   ]
  },
  {
   "cell_type": "code",
   "execution_count": null,
   "metadata": {},
   "outputs": [],
   "source": [
    "df_final = pd.merge(df_final, df_weather_kr, how='left', on=['year', 'week'])"
   ]
  },
  {
   "cell_type": "code",
   "execution_count": null,
   "metadata": {},
   "outputs": [],
   "source": [
    "df_final['cpi_total'] = df_final['cpi_total_x']\n",
    "df_final['wind_kr'] = df_final['wind_kr_x']\n",
    "\n",
    "df_final.drop(['cpi_total_x','cpi_total_y','wind_kr_x','wind_kr_y'],axis=1,inplace=True)"
   ]
  },
  {
   "cell_type": "code",
   "execution_count": null,
   "metadata": {
    "id": "57sfdUFjETE4"
   },
   "outputs": [],
   "source": [
    "# 정규화\n",
    "df_final['wind'] = np.log1p(df_final['wind'])\n",
    "df_final['rain'] = np.log1p(df_final['rain'])\n",
    "df_final['exchange'] = np.log1p(df_final['exchange'])\n",
    "df_final['oil'] = np.log1p(df_final['oil'])\n",
    "df_final['cpi_total'] = np.log1p(df_final['cpi_total'])\n",
    "df_final['wind_kr'] = np.log1p(df_final['wind_kr'])\n",
    "df_final['temp_kr'] = np.log1p(df_final['temp_kr'])\n",
    "\n",
    "df_final['temperature'] = (df_final['temperature'] - np.mean(df_final['temperature'])) / df_final['temperature'].std()"
   ]
  },
  {
   "cell_type": "code",
   "execution_count": null,
   "metadata": {
    "id": "EmH8Tq4FEvcP"
   },
   "outputs": [],
   "source": [
    "# Grouping\n",
    "df_final['weather_kr'] = (df_final['temp_kr'] + df_final['wind_kr']+df_final['water_temp_kr']) / 3\n",
    "\n",
    "df_final['cpi'] = df_final['cpi_fish'] / df_final['cpi_total']"
   ]
  },
  {
   "cell_type": "code",
   "execution_count": null,
   "metadata": {
    "id": "BfM4-iULEtye"
   },
   "outputs": [],
   "source": [
    "# One Hot Encoding\n",
    "one_hot = ['CTRY_1', 'CTRY_2', 'P_PURPOSE', 'CATEGORY_1', 'CATEGORY_2', 'P_NAME']\n",
    "df_final = pd.get_dummies(df_final, columns=one_hot)"
   ]
  },
  {
   "cell_type": "code",
   "execution_count": null,
   "metadata": {
    "id": "zTwFM15lFzCC"
   },
   "outputs": [],
   "source": [
    "# Drop\n",
    "df_final.drop(columns=['temp_kr','wind_kr','water_temp_kr','cpi_fish','cpi_total'], axis=1, inplace=True)"
   ]
  },
  {
   "cell_type": "markdown",
   "metadata": {
    "id": "OloFB2lOGRGy"
   },
   "source": [
    "## Train"
   ]
  },
  {
   "cell_type": "code",
   "execution_count": null,
   "metadata": {
    "colab": {
     "base_uri": "https://localhost:8080/",
     "height": 604
    },
    "id": "9yJJ44U-GR8D",
    "outputId": "19474c89-46db-4db8-eae7-16ad96af7fa3"
   },
   "outputs": [],
   "source": [
    "model = train_model(df_final.drop(columns=['P_PRICE']), df_final['P_PRICE'])"
   ]
  },
  {
   "cell_type": "code",
   "execution_count": null,
   "metadata": {
    "colab": {
     "base_uri": "https://localhost:8080/"
    },
    "id": "pUxd89QgGTvl",
    "outputId": "d3e0546f-e39f-45a5-ac75-af5c2d2cd4c7"
   },
   "outputs": [],
   "source": [
    "final_fs = print_importance(model, df_final, [])"
   ]
  },
  {
   "cell_type": "markdown",
   "metadata": {
    "id": "JpfHz0BcGezy"
   },
   "source": [
    "## Save"
   ]
  },
  {
   "cell_type": "code",
   "execution_count": null,
   "metadata": {
    "id": "2yEnUdtnGfHM"
   },
   "outputs": [],
   "source": [
    "df_final.to_csv(os.path.join(root, \"preprocessed_train_2.csv\"), encoding='utf-8', index=False)"
   ]
  },
  {
   "cell_type": "markdown",
   "metadata": {
    "id": "52vmd3EUH-vA"
   },
   "source": [
    "어종별 데이터프레임\n",
    "- df_squid\n",
    "- df_salmon\n",
    "- df_whiteleg_shrimp"
   ]
  },
  {
   "cell_type": "markdown",
   "metadata": {
    "id": "CxUmrFbiIvLO"
   },
   "source": [
    "어종별 데이터프레임도 위 과정과 마찬가지로 어종별 주요 제조국/수출국만을 대상으로 추출"
   ]
  },
  {
   "cell_type": "markdown",
   "metadata": {
    "id": "3q3JrV6Td24-"
   },
   "source": [
    "# df_squid"
   ]
  },
  {
   "cell_type": "code",
   "execution_count": null,
   "metadata": {
    "colab": {
     "base_uri": "https://localhost:8080/",
     "height": 418
    },
    "id": "ZeE-Ai6dd24_",
    "outputId": "2ca76d9c-c52e-4326-e4c8-3161b1bb9947",
    "scrolled": true
   },
   "outputs": [],
   "source": [
    "df_squid = df_train[(df_train['P_NAME']=='오징어') & ((df_train['CTRY_1']=='페루') | (df_train['CTRY_1']=='중국') | (df_train['CTRY_1']=='칠레')) & ((df_train['CTRY_2']=='페루') | (df_train['CTRY_2']=='중국') | (df_train['CTRY_2']=='칠레'))]\n",
    "\n",
    "df_squid = df_squid[['CTRY_1','CTRY_2','P_PRICE','year','week']]\n",
    "\n",
    "df_squid"
   ]
  },
  {
   "cell_type": "markdown",
   "metadata": {
    "id": "xAA3wzCFgznc"
   },
   "source": [
    "## Merge Features\n",
    "### 모든 추가변수들을 포함"
   ]
  },
  {
   "cell_type": "code",
   "execution_count": null,
   "metadata": {
    "id": "-ek45yTZQ3mV"
   },
   "outputs": [],
   "source": [
    "df_squid_add = df_squid.copy()"
   ]
  },
  {
   "cell_type": "code",
   "execution_count": null,
   "metadata": {
    "id": "cuibtytOQ6fm"
   },
   "outputs": [],
   "source": [
    "df_squid_add = pd.merge(df_squid_add, df_weather_with_wf, how='left', on=['year', 'week', 'CTRY_1'])"
   ]
  },
  {
   "cell_type": "code",
   "execution_count": null,
   "metadata": {
    "id": "_Ae3w6fHd25A",
    "scrolled": true
   },
   "outputs": [],
   "source": [
    "df_squid_add = pd.merge(df_squid_add, df_weather_kr, how='left', on=['year', 'week'])"
   ]
  },
  {
   "cell_type": "code",
   "execution_count": null,
   "metadata": {
    "id": "1wXBBd2rQ-Uv"
   },
   "outputs": [],
   "source": [
    "df_squid_add = pd.merge(df_squid_add, df_oil, how='left', on=['year', 'week'])"
   ]
  },
  {
   "cell_type": "code",
   "execution_count": null,
   "metadata": {
    "id": "NoKibNe3Q_BL"
   },
   "outputs": [],
   "source": [
    "df_squid_add = pd.merge(df_squid_add, df_cpi, how='left', on=['year', 'week'])"
   ]
  },
  {
   "cell_type": "code",
   "execution_count": null,
   "metadata": {
    "id": "JIIP8F41RAql"
   },
   "outputs": [],
   "source": [
    "df_squid_add = pd.merge(df_squid_add, df_exchange, how='left', on=['year', 'week', 'CTRY_2'])"
   ]
  },
  {
   "cell_type": "code",
   "execution_count": null,
   "metadata": {
    "id": "BO2bOLfqRC4N"
   },
   "outputs": [],
   "source": [
    "df_squid_add = df_squid_add.sort_values('CTRY_2')"
   ]
  },
  {
   "cell_type": "markdown",
   "metadata": {
    "id": "v6pDom8pg4TI"
   },
   "source": [
    "## Filling Missing Value"
   ]
  },
  {
   "cell_type": "code",
   "execution_count": null,
   "metadata": {
    "colab": {
     "base_uri": "https://localhost:8080/"
    },
    "id": "RDztZYZCd25A",
    "outputId": "79a919f0-d1d4-4818-b891-0a94046d5f73",
    "scrolled": true
   },
   "outputs": [],
   "source": [
    "df_squid_add.isna().sum()"
   ]
  },
  {
   "cell_type": "markdown",
   "metadata": {
    "id": "_2sJY0C5g71Z"
   },
   "source": [
    "## Grouping"
   ]
  },
  {
   "cell_type": "code",
   "execution_count": null,
   "metadata": {
    "id": "G-Ir_NTAmD4h"
   },
   "outputs": [],
   "source": [
    "df_squid_add = df_squid_add.groupby(['year','week']).mean()"
   ]
  },
  {
   "cell_type": "markdown",
   "metadata": {
    "id": "WXXjPaakg_L9"
   },
   "source": [
    "### train"
   ]
  },
  {
   "cell_type": "code",
   "execution_count": null,
   "metadata": {
    "colab": {
     "base_uri": "https://localhost:8080/",
     "height": 604
    },
    "id": "5JEP8UJWm5-5",
    "outputId": "c0a80758-4be9-45d3-c716-346627ac5b74"
   },
   "outputs": [],
   "source": [
    "model6 = train_model(df_squid_add.drop(columns=['P_PRICE']), df_squid_add['P_PRICE'])"
   ]
  },
  {
   "cell_type": "code",
   "execution_count": null,
   "metadata": {
    "colab": {
     "base_uri": "https://localhost:8080/"
    },
    "id": "9YrDoaNFdNdc",
    "outputId": "f1a08571-b449-48a4-e537-86e087afa855"
   },
   "outputs": [],
   "source": [
    "t6 = print_importance(model6, df_squid_add, [])"
   ]
  },
  {
   "cell_type": "markdown",
   "metadata": {
    "id": "wYm_k8r06vTO"
   },
   "source": [
    "## Standardization\n",
    "- 추가한 Numerical Feauture : wind, rain, temperature, exchange, oil, cpi_total, cpi_fish,wind_kr, temperature_kr, water_temp_kr\n",
    "- 이에 대해 분포를 확인한 후, 정규화를 진행한다"
   ]
  },
  {
   "cell_type": "markdown",
   "metadata": {
    "id": "npyOX_fSScp5"
   },
   "source": [
    "#### wind"
   ]
  },
  {
   "cell_type": "code",
   "execution_count": null,
   "metadata": {
    "colab": {
     "base_uri": "https://localhost:8080/",
     "height": 518
    },
    "id": "FXd2T_S2d25B",
    "outputId": "e5c90ab1-80d6-405a-b1a9-8e25411ba45b",
    "scrolled": true
   },
   "outputs": [],
   "source": [
    "plt.figure(figsize=(20, 8))\n",
    "\n",
    "plt.subplot(1, 2, 1)\n",
    "plt.title('DIstribution Plot', fontsize=title_size)\n",
    "sns.distplot(df_squid_add['wind'], fit=norm);\n",
    "\n",
    "plt.subplot(1, 2, 2)\n",
    "plt.title('Probability Plot', fontsize=title_size)\n",
    "stats.probplot(df_squid_add['wind'], plot=plt)\n",
    "\n",
    "plt.show()"
   ]
  },
  {
   "cell_type": "markdown",
   "metadata": {
    "id": "hYaGBqy9SgRq"
   },
   "source": [
    "- Peakedness & Skewedness\n",
    "- Doesn't follow the diagonal line\n",
    "- Use Log Transformation"
   ]
  },
  {
   "cell_type": "code",
   "execution_count": null,
   "metadata": {
    "id": "AFU-l870Sg0E"
   },
   "outputs": [],
   "source": [
    "# Log Transformation\n",
    "df_squid_add['wind'] = np.log1p(df_squid_add['wind'])"
   ]
  },
  {
   "cell_type": "code",
   "execution_count": null,
   "metadata": {
    "colab": {
     "base_uri": "https://localhost:8080/",
     "height": 518
    },
    "id": "2t2fOT26SY4j",
    "outputId": "19b4bfd2-c696-4e3c-853c-746752553622"
   },
   "outputs": [],
   "source": [
    "plt.figure(figsize=(20, 8))\n",
    "\n",
    "plt.subplot(1, 2, 1)\n",
    "plt.title('DIstribution Plot', fontsize=title_size)\n",
    "sns.distplot(df_squid_add['wind'], fit=norm);\n",
    "\n",
    "plt.subplot(1, 2, 2)\n",
    "plt.title('Probability Plot', fontsize=title_size)\n",
    "stats.probplot(df_squid_add['wind'], plot=plt)\n",
    "\n",
    "plt.show()"
   ]
  },
  {
   "cell_type": "markdown",
   "metadata": {
    "id": "1Xa6U8NISral"
   },
   "source": [
    "#### rain"
   ]
  },
  {
   "cell_type": "code",
   "execution_count": null,
   "metadata": {
    "colab": {
     "base_uri": "https://localhost:8080/",
     "height": 518
    },
    "id": "YwBuwsosSuV2",
    "outputId": "1e3002c2-32c9-442d-ec62-d432a4f3fea8"
   },
   "outputs": [],
   "source": [
    "plt.figure(figsize=(20, 8))\n",
    "\n",
    "plt.subplot(1, 2, 1)\n",
    "plt.title('DIstribution Plot', fontsize=title_size)\n",
    "sns.distplot(df_squid_add['rain'], fit=norm);\n",
    "\n",
    "plt.subplot(1, 2, 2)\n",
    "plt.title('Probability Plot', fontsize=title_size)\n",
    "stats.probplot(df_squid_add['rain'], plot=plt)\n",
    "\n",
    "plt.show()"
   ]
  },
  {
   "cell_type": "markdown",
   "metadata": {
    "id": "ZdbN7FnASyre"
   },
   "source": [
    "- Peakedness & Skewedness\n",
    "- Doesn't follow the diagonal line\n",
    "- Use Log Transformation"
   ]
  },
  {
   "cell_type": "code",
   "execution_count": null,
   "metadata": {
    "id": "Md9xJvtZSwwK"
   },
   "outputs": [],
   "source": [
    "# Log Transformation\n",
    "df_squid_add['rain'] = np.log1p(df_squid_add['rain'])"
   ]
  },
  {
   "cell_type": "code",
   "execution_count": null,
   "metadata": {
    "colab": {
     "base_uri": "https://localhost:8080/",
     "height": 518
    },
    "id": "eVVlPDm9S2HU",
    "outputId": "1bbb34b7-d94b-4f76-ebe1-f254425fd481"
   },
   "outputs": [],
   "source": [
    "plt.figure(figsize=(20, 8))\n",
    "\n",
    "plt.subplot(1, 2, 1)\n",
    "plt.title('DIstribution Plot', fontsize=title_size)\n",
    "sns.distplot(df_squid_add['rain'], fit=norm);\n",
    "\n",
    "plt.subplot(1, 2, 2)\n",
    "plt.title('Probability Plot', fontsize=title_size)\n",
    "stats.probplot(df_squid_add['rain'], plot=plt)\n",
    "\n",
    "plt.show()"
   ]
  },
  {
   "cell_type": "markdown",
   "metadata": {
    "id": "gsqX48z0S3aZ"
   },
   "source": [
    "#### temperature"
   ]
  },
  {
   "cell_type": "code",
   "execution_count": null,
   "metadata": {
    "colab": {
     "base_uri": "https://localhost:8080/",
     "height": 518
    },
    "id": "Jhh1s2KpS5af",
    "outputId": "9a6ac6f5-5875-49de-ad6d-44ca1f940802"
   },
   "outputs": [],
   "source": [
    "plt.figure(figsize=(20, 8))\n",
    "\n",
    "plt.subplot(1, 2, 1)\n",
    "plt.title('DIstribution Plot', fontsize=title_size)\n",
    "sns.distplot(df_squid_add['temperature'], fit=norm);\n",
    "\n",
    "plt.subplot(1, 2, 2)\n",
    "plt.title('Probability Plot', fontsize=title_size)\n",
    "stats.probplot(df_squid_add['temperature'], plot=plt)\n",
    "\n",
    "plt.show()"
   ]
  },
  {
   "cell_type": "markdown",
   "metadata": {
    "id": "hd0WOTjiS8XI"
   },
   "source": [
    "- Peakedness & Skewedness\n",
    "- Doesn't follow the diagonal line\n",
    "- Use Standardization"
   ]
  },
  {
   "cell_type": "code",
   "execution_count": null,
   "metadata": {
    "id": "OAJrVqkPS7zU"
   },
   "outputs": [],
   "source": [
    "# Standardization\n",
    "df_squid_add['temperature'] = (df_squid_add['temperature']- np.mean(df_squid_add['temperature'])) / df_squid_add['temperature'].std()"
   ]
  },
  {
   "cell_type": "code",
   "execution_count": null,
   "metadata": {
    "colab": {
     "base_uri": "https://localhost:8080/",
     "height": 518
    },
    "id": "Fw_ybA3YTCoh",
    "outputId": "48520896-d3a9-4b5f-9f7a-84cdf978d95b"
   },
   "outputs": [],
   "source": [
    "plt.figure(figsize=(20, 8))\n",
    "\n",
    "plt.subplot(1, 2, 1)\n",
    "plt.title('DIstribution Plot', fontsize=title_size)\n",
    "sns.distplot(df_squid_add['temperature'], fit=norm);\n",
    "\n",
    "plt.subplot(1, 2, 2)\n",
    "plt.title('Probability Plot', fontsize=title_size)\n",
    "stats.probplot(df_squid_add['temperature'], plot=plt)\n",
    "\n",
    "plt.show()"
   ]
  },
  {
   "cell_type": "markdown",
   "metadata": {
    "id": "bP1BwzGJTD9v"
   },
   "source": [
    "#### exchange"
   ]
  },
  {
   "cell_type": "code",
   "execution_count": null,
   "metadata": {
    "colab": {
     "base_uri": "https://localhost:8080/",
     "height": 518
    },
    "id": "yBVfbpA_Tc9M",
    "outputId": "08c4ce84-c652-4d28-8065-d3eb4498f8d1"
   },
   "outputs": [],
   "source": [
    "plt.figure(figsize=(20, 8))\n",
    "\n",
    "plt.subplot(1, 2, 1)\n",
    "plt.title('DIstribution Plot', fontsize=title_size)\n",
    "sns.distplot(df_squid_add['exchange'], fit=norm);\n",
    "\n",
    "plt.subplot(1, 2, 2)\n",
    "plt.title('Probability Plot', fontsize=title_size)\n",
    "stats.probplot(df_squid_add['exchange'], plot=plt)\n",
    "\n",
    "plt.show()"
   ]
  },
  {
   "cell_type": "markdown",
   "metadata": {
    "id": "v7Is13wLTiTY"
   },
   "source": [
    "- Peakedness & Skewedness\n",
    "- Doesn't follow the diagonal line\n",
    "- Use Log Transformation"
   ]
  },
  {
   "cell_type": "code",
   "execution_count": null,
   "metadata": {
    "id": "rRtaHKAQThef"
   },
   "outputs": [],
   "source": [
    "# Log Transformation\n",
    "df_squid_add['exchange'] = np.log1p(df_squid_add['exchange'])"
   ]
  },
  {
   "cell_type": "code",
   "execution_count": null,
   "metadata": {
    "colab": {
     "base_uri": "https://localhost:8080/",
     "height": 518
    },
    "id": "_gxHVRFtTreX",
    "outputId": "cda9084f-2d32-4ebc-a787-34ac48bf2f04"
   },
   "outputs": [],
   "source": [
    "plt.figure(figsize=(20, 8))\n",
    "\n",
    "plt.subplot(1, 2, 1)\n",
    "plt.title('DIstribution Plot', fontsize=title_size)\n",
    "sns.distplot(df_squid_add['exchange'], fit=norm);\n",
    "\n",
    "plt.subplot(1, 2, 2)\n",
    "plt.title('Probability Plot', fontsize=title_size)\n",
    "stats.probplot(df_squid_add['exchange'], plot=plt)\n",
    "\n",
    "plt.show()"
   ]
  },
  {
   "cell_type": "markdown",
   "metadata": {
    "id": "Aj4Ni7ObTtVA"
   },
   "source": [
    "#### oil"
   ]
  },
  {
   "cell_type": "code",
   "execution_count": null,
   "metadata": {
    "colab": {
     "base_uri": "https://localhost:8080/",
     "height": 518
    },
    "id": "OoEOVfbLTwkV",
    "outputId": "02eae681-9168-4788-87a3-645b6ff6e468"
   },
   "outputs": [],
   "source": [
    "plt.figure(figsize=(20, 8))\n",
    "\n",
    "plt.subplot(1, 2, 1)\n",
    "plt.title('DIstribution Plot', fontsize=title_size)\n",
    "sns.distplot(df_squid_add['oil'], fit=norm);\n",
    "\n",
    "plt.subplot(1, 2, 2)\n",
    "plt.title('Probability Plot', fontsize=title_size)\n",
    "stats.probplot(df_squid_add['oil'], plot=plt)\n",
    "\n",
    "plt.show()"
   ]
  },
  {
   "cell_type": "markdown",
   "metadata": {
    "id": "tWHa82t_T6fz"
   },
   "source": [
    "- Peakedness & Skewedness\n",
    "- Doesn't follow the diagonal line\n",
    "- Use Log Transformation"
   ]
  },
  {
   "cell_type": "code",
   "execution_count": null,
   "metadata": {
    "id": "NR0RPIrubdOk"
   },
   "outputs": [],
   "source": [
    "# Log Transformation\n",
    "df_squid_add['oil'] = np.log1p(df_squid_add['oil'])"
   ]
  },
  {
   "cell_type": "code",
   "execution_count": null,
   "metadata": {
    "colab": {
     "base_uri": "https://localhost:8080/",
     "height": 518
    },
    "id": "cDkGaGVRbe28",
    "outputId": "e4845104-411c-4534-adb3-8653eb623814"
   },
   "outputs": [],
   "source": [
    "plt.figure(figsize=(20, 8))\n",
    "\n",
    "plt.subplot(1, 2, 1)\n",
    "plt.title('DIstribution Plot', fontsize=title_size)\n",
    "sns.distplot(df_squid_add['oil'], fit=norm);\n",
    "\n",
    "plt.subplot(1, 2, 2)\n",
    "plt.title('Probability Plot', fontsize=title_size)\n",
    "stats.probplot(df_squid_add['oil'], plot=plt)\n",
    "\n",
    "plt.show()"
   ]
  },
  {
   "cell_type": "markdown",
   "metadata": {
    "id": "_k3PSfBUUFem"
   },
   "source": [
    "#### cpi_total"
   ]
  },
  {
   "cell_type": "code",
   "execution_count": null,
   "metadata": {
    "colab": {
     "base_uri": "https://localhost:8080/",
     "height": 519
    },
    "id": "YG1A7RCZUErQ",
    "outputId": "989c7308-9f16-48c8-e579-38a0da339880"
   },
   "outputs": [],
   "source": [
    "plt.figure(figsize=(20, 8))\n",
    "\n",
    "plt.subplot(1, 2, 1)\n",
    "plt.title('DIstribution Plot', fontsize=title_size)\n",
    "sns.distplot(df_squid_add['cpi_total'], fit=norm);\n",
    "\n",
    "plt.subplot(1, 2, 2)\n",
    "plt.title('Probability Plot', fontsize=title_size)\n",
    "stats.probplot(df_squid_add['cpi_total'], plot=plt)\n",
    "\n",
    "plt.show()"
   ]
  },
  {
   "cell_type": "markdown",
   "metadata": {
    "id": "f50SIXriUMG4"
   },
   "source": [
    "- Peakedness & Skewedness\n",
    "- Doesn't follow the diagonal line\n",
    "- Use Log Transformation"
   ]
  },
  {
   "cell_type": "code",
   "execution_count": null,
   "metadata": {
    "id": "1m9exqT2UKrx"
   },
   "outputs": [],
   "source": [
    "# Log Transformation\n",
    "df_squid_add['cpi_total'] = np.log1p(df_squid_add['cpi_total'])"
   ]
  },
  {
   "cell_type": "code",
   "execution_count": null,
   "metadata": {
    "colab": {
     "base_uri": "https://localhost:8080/",
     "height": 519
    },
    "id": "2Kw6UZHEUSHh",
    "outputId": "8733368d-0911-4753-9690-5f3d9c25c45b"
   },
   "outputs": [],
   "source": [
    "plt.figure(figsize=(20, 8))\n",
    "\n",
    "plt.subplot(1, 2, 1)\n",
    "plt.title('DIstribution Plot', fontsize=title_size)\n",
    "sns.distplot(df_squid_add['cpi_total'], fit=norm);\n",
    "\n",
    "plt.subplot(1, 2, 2)\n",
    "plt.title('Probability Plot', fontsize=title_size)\n",
    "stats.probplot(df_squid_add['cpi_total'], plot=plt)\n",
    "\n",
    "plt.show()"
   ]
  },
  {
   "cell_type": "markdown",
   "metadata": {
    "id": "lrKe4oSGUTb1"
   },
   "source": [
    "#### cpi_fish"
   ]
  },
  {
   "cell_type": "code",
   "execution_count": null,
   "metadata": {
    "colab": {
     "base_uri": "https://localhost:8080/",
     "height": 519
    },
    "id": "QO8H7vpaUZja",
    "outputId": "de9e91f1-a335-4fd8-85df-9c774555a031"
   },
   "outputs": [],
   "source": [
    "plt.figure(figsize=(20, 8))\n",
    "\n",
    "plt.subplot(1, 2, 1)\n",
    "plt.title('DIstribution Plot', fontsize=title_size)\n",
    "sns.distplot(df_squid_add['cpi_fish'], fit=norm);\n",
    "\n",
    "plt.subplot(1, 2, 2)\n",
    "plt.title('Probability Plot', fontsize=title_size)\n",
    "stats.probplot(df_squid_add['cpi_fish'], plot=plt)\n",
    "\n",
    "plt.show()"
   ]
  },
  {
   "cell_type": "markdown",
   "metadata": {
    "id": "UaSw4IGqUiOy"
   },
   "source": [
    "- Peakedness & Skewedness\n",
    "- Doesn't follow the diagonal line\n",
    "- Use Log Transformation"
   ]
  },
  {
   "cell_type": "code",
   "execution_count": null,
   "metadata": {
    "id": "Ke3udywwUb0C"
   },
   "outputs": [],
   "source": [
    "# Log Transformation\n",
    "df_squid_add['cpi_fish'] = np.log1p(df_squid_add['cpi_fish'])"
   ]
  },
  {
   "cell_type": "code",
   "execution_count": null,
   "metadata": {
    "colab": {
     "base_uri": "https://localhost:8080/",
     "height": 519
    },
    "id": "cE1MtQ95UfbT",
    "outputId": "7d1fcb18-8ff8-48f0-ce55-42e374444c97"
   },
   "outputs": [],
   "source": [
    "plt.figure(figsize=(20, 8))\n",
    "\n",
    "plt.subplot(1, 2, 1)\n",
    "plt.title('DIstribution Plot', fontsize=title_size)\n",
    "sns.distplot(df_squid_add['cpi_fish'], fit=norm);\n",
    "\n",
    "plt.subplot(1, 2, 2)\n",
    "plt.title('Probability Plot', fontsize=title_size)\n",
    "stats.probplot(df_squid_add['cpi_fish'], plot=plt)\n",
    "\n",
    "plt.show()"
   ]
  },
  {
   "cell_type": "markdown",
   "metadata": {
    "id": "W-MYPylRUgvJ"
   },
   "source": [
    "#### wind_kr"
   ]
  },
  {
   "cell_type": "code",
   "execution_count": null,
   "metadata": {
    "colab": {
     "base_uri": "https://localhost:8080/",
     "height": 519
    },
    "id": "QoPGnb8dUn1Q",
    "outputId": "ff4b1087-1e1e-492c-f930-7aa05b5ecf5e"
   },
   "outputs": [],
   "source": [
    "plt.figure(figsize=(20, 8))\n",
    "\n",
    "plt.subplot(1, 2, 1)\n",
    "plt.title('DIstribution Plot', fontsize=title_size)\n",
    "sns.distplot(df_squid_add['wind_kr'], fit=norm);\n",
    "\n",
    "plt.subplot(1, 2, 2)\n",
    "plt.title('Probability Plot', fontsize=title_size)\n",
    "stats.probplot(df_squid_add['wind_kr'], plot=plt)\n",
    "\n",
    "plt.show()"
   ]
  },
  {
   "cell_type": "markdown",
   "metadata": {
    "id": "KWJyzQk9Urnk"
   },
   "source": [
    "- Standard Distribution"
   ]
  },
  {
   "cell_type": "markdown",
   "metadata": {
    "id": "W-MJ9Lj4U8r8"
   },
   "source": [
    "#### temperature_kr"
   ]
  },
  {
   "cell_type": "code",
   "execution_count": null,
   "metadata": {
    "colab": {
     "base_uri": "https://localhost:8080/",
     "height": 519
    },
    "id": "VEQ_fnH8U9-L",
    "outputId": "652ed556-1a7e-4f10-ebd0-508d4d8c085d"
   },
   "outputs": [],
   "source": [
    "plt.figure(figsize=(20, 8))\n",
    "\n",
    "plt.subplot(1, 2, 1)\n",
    "plt.title('DIstribution Plot', fontsize=title_size)\n",
    "sns.distplot(df_squid_add['temperature_kr'], fit=norm);\n",
    "\n",
    "plt.subplot(1, 2, 2)\n",
    "plt.title('Probability Plot', fontsize=title_size)\n",
    "stats.probplot(df_squid_add['temperature_kr'], plot=plt)\n",
    "\n",
    "plt.show()"
   ]
  },
  {
   "cell_type": "markdown",
   "metadata": {
    "id": "3VuAuxhZVF9Q"
   },
   "source": [
    "- Standard Distribution"
   ]
  },
  {
   "cell_type": "markdown",
   "metadata": {
    "id": "bG44bAZ1VLtf"
   },
   "source": [
    "#### water_temp_kr"
   ]
  },
  {
   "cell_type": "code",
   "execution_count": null,
   "metadata": {
    "colab": {
     "base_uri": "https://localhost:8080/",
     "height": 519
    },
    "id": "yFyknVWDUrB0",
    "outputId": "f8d7b14f-6ca1-4b80-cb35-b9282651badc"
   },
   "outputs": [],
   "source": [
    "plt.figure(figsize=(20, 8))\n",
    "\n",
    "plt.subplot(1, 2, 1)\n",
    "plt.title('DIstribution Plot', fontsize=title_size)\n",
    "sns.distplot(df_squid_add['water_temp_kr'], fit=norm);\n",
    "\n",
    "plt.subplot(1, 2, 2)\n",
    "plt.title('Probability Plot', fontsize=title_size)\n",
    "stats.probplot(df_squid_add['water_temp_kr'], plot=plt)\n",
    "\n",
    "plt.show()"
   ]
  },
  {
   "cell_type": "markdown",
   "metadata": {
    "id": "KAZOd7ZrVUcm"
   },
   "source": [
    "- Peakedness & Skewedness\n",
    "- Doesn't follow the diagonal line\n",
    "- Use Log Transformation"
   ]
  },
  {
   "cell_type": "code",
   "execution_count": null,
   "metadata": {
    "id": "Z7HWayZhbJtT"
   },
   "outputs": [],
   "source": [
    "# Log Transformation\n",
    "df_squid_add['water_temp_kr'] = np.log1p(df_squid_add['water_temp_kr'])"
   ]
  },
  {
   "cell_type": "code",
   "execution_count": null,
   "metadata": {
    "colab": {
     "base_uri": "https://localhost:8080/",
     "height": 519
    },
    "id": "oWtBATJsbNqx",
    "outputId": "9dd5ed3f-74f8-4301-a6ad-1a428639765a"
   },
   "outputs": [],
   "source": [
    "plt.figure(figsize=(20, 8))\n",
    "\n",
    "plt.subplot(1, 2, 1)\n",
    "plt.title('DIstribution Plot', fontsize=title_size)\n",
    "sns.distplot(df_squid_add['water_temp_kr'], fit=norm);\n",
    "\n",
    "plt.subplot(1, 2, 2)\n",
    "plt.title('Probability Plot', fontsize=title_size)\n",
    "stats.probplot(df_squid_add['water_temp_kr'], plot=plt)\n",
    "\n",
    "plt.show()"
   ]
  },
  {
   "cell_type": "markdown",
   "metadata": {
    "id": "3Fzfg_iNVgod"
   },
   "source": [
    "## Train"
   ]
  },
  {
   "cell_type": "code",
   "execution_count": null,
   "metadata": {
    "colab": {
     "base_uri": "https://localhost:8080/",
     "height": 604
    },
    "id": "7VXvScrEViMl",
    "outputId": "e3b02f07-7850-4693-d5bb-004daab74175"
   },
   "outputs": [],
   "source": [
    "model7 = train_model(df_squid_add.drop(columns=['P_PRICE']), df_squid_add['P_PRICE'])"
   ]
  },
  {
   "cell_type": "code",
   "execution_count": null,
   "metadata": {
    "colab": {
     "base_uri": "https://localhost:8080/"
    },
    "id": "Os1mVFAgVrF2",
    "outputId": "1b335305-f76a-4941-8ddb-c2ec13339d9a"
   },
   "outputs": [],
   "source": [
    "t7 = print_importance(model7, df_squid_add, ['rain','wind','temperature','exchange','oil','cpi_total','cpi_fish','wind_kr','temperature_kr','water_temp_kr'])"
   ]
  },
  {
   "cell_type": "markdown",
   "metadata": {
    "id": "6hWXoM6iWHob"
   },
   "source": [
    "정확도가 약간 증가하였으므로 해당 추가변수들을 모두 사용"
   ]
  },
  {
   "cell_type": "markdown",
   "metadata": {
    "id": "ZVydt2d1pPs5"
   },
   "source": [
    "## Feature Selection (by Correlation)"
   ]
  },
  {
   "cell_type": "code",
   "execution_count": null,
   "metadata": {
    "colab": {
     "base_uri": "https://localhost:8080/",
     "height": 663
    },
    "id": "4fPY2LiopPOs",
    "outputId": "0c0c441f-acd7-4b11-9ac5-c275c4aad2ff"
   },
   "outputs": [],
   "source": [
    "plt.figure(figsize=(15,10))\n",
    "\n",
    "sns.heatmap(df_squid_add.corr(), annot=True, cmap=plt.cm.Reds)\n",
    "plt.show()"
   ]
  },
  {
   "cell_type": "markdown",
   "metadata": {
    "id": "f2s91i0ZWfqJ"
   },
   "source": [
    "- P_PRICE 와 상관계수가 큰 변수\n",
    "    - exchange, cpi_fish, cpi_total, oil\n",
    "\n",
    "- 서로간 상관계수가 큰 변수\n",
    "    - rain & temperature_kr & temperature & wind_kr\n",
    "    - temperature_kr & water_temp_kr\n",
    "    - oil & cpi_total & cpi_fish\n",
    "    - cpi_fish & exchange\n",
    "\n",
    "wind_kr & temperature_kr & water_temp_kr 평균 사용\n",
    "\n",
    "cpi_fish / cpi_total 사용"
   ]
  },
  {
   "cell_type": "code",
   "execution_count": null,
   "metadata": {
    "id": "e2cC7TLDXZrH"
   },
   "outputs": [],
   "source": [
    "df_squid_add['temp_kr'] = (df_squid_add['temperature_kr'] + df_squid_add['water_temp_kr'] + df_squid_add['wind_kr']) / 3\n",
    "df_squid_add['cpi'] = df_squid_add['cpi_fish'] / df_squid_add['cpi_total'] "
   ]
  },
  {
   "cell_type": "code",
   "execution_count": null,
   "metadata": {
    "id": "Z9WjCYr0XmGb"
   },
   "outputs": [],
   "source": [
    "df_squid_add.drop(columns=['temperature_kr', 'cpi_fish', 'water_temp_kr', 'wind_kr','cpi_total'], axis=1, inplace=True)"
   ]
  },
  {
   "cell_type": "markdown",
   "metadata": {
    "id": "K1jJ1-R-Xu7J"
   },
   "source": [
    "### Train"
   ]
  },
  {
   "cell_type": "code",
   "execution_count": null,
   "metadata": {
    "colab": {
     "base_uri": "https://localhost:8080/",
     "height": 604
    },
    "id": "TIhfZ_MXX8gI",
    "outputId": "63006068-4a2e-4c2a-9fe3-60299cdcebd2"
   },
   "outputs": [],
   "source": [
    "model8 = train_model(df_squid_add.drop(columns=['P_PRICE']), df_squid_add['P_PRICE'])"
   ]
  },
  {
   "cell_type": "code",
   "execution_count": null,
   "metadata": {
    "colab": {
     "base_uri": "https://localhost:8080/"
    },
    "id": "l5SmHgM-YA5P",
    "outputId": "ef2cd6de-7746-4e1c-d4ff-aacb7a29cbfa"
   },
   "outputs": [],
   "source": [
    "t8 = print_importance(model8, df_squid_add, ['temp_kr','cpi'])"
   ]
  },
  {
   "cell_type": "markdown",
   "metadata": {
    "id": "GPrG3DIgYii9"
   },
   "source": [
    "정확도가 감소한 것을 확인할 수 있다  \n",
    "그러나 다중공선성 문제를 피하기 위해서는 어쩔 수 없다"
   ]
  },
  {
   "cell_type": "markdown",
   "metadata": {
    "id": "vszMn-hTrrR9"
   },
   "source": [
    "## Final DF"
   ]
  },
  {
   "cell_type": "code",
   "execution_count": null,
   "metadata": {
    "id": "NVPGhwS6rqns"
   },
   "outputs": [],
   "source": [
    "df_final_squid = df_squid_add.copy()"
   ]
  },
  {
   "cell_type": "markdown",
   "metadata": {
    "id": "eVVkNeJ9d25B"
   },
   "source": [
    "# df_salmon"
   ]
  },
  {
   "cell_type": "code",
   "execution_count": null,
   "metadata": {
    "colab": {
     "base_uri": "https://localhost:8080/",
     "height": 418
    },
    "id": "yuLruCXud25B",
    "outputId": "d1303d5e-137e-4701-d93d-1bf4946636c2",
    "scrolled": true
   },
   "outputs": [],
   "source": [
    "df_salmon = df_train[(df_train['P_NAME']=='연어') & (df_train['CTRY_1']=='노르웨이') & (df_train['CTRY_2']=='노르웨이') ]\n",
    "\n",
    "df_salmon = df_salmon[['CTRY_1','CTRY_2','P_PRICE','year','week']]\n",
    "\n",
    "df_salmon"
   ]
  },
  {
   "cell_type": "markdown",
   "metadata": {
    "id": "EKLISTc5unCW"
   },
   "source": [
    "## Merge Features"
   ]
  },
  {
   "cell_type": "code",
   "execution_count": null,
   "metadata": {
    "id": "6kRU5XjfRrtN"
   },
   "outputs": [],
   "source": [
    "df_salmon_add = df_salmon.copy()"
   ]
  },
  {
   "cell_type": "code",
   "execution_count": null,
   "metadata": {
    "id": "ggc-fgwXd25B",
    "scrolled": true
   },
   "outputs": [],
   "source": [
    "df_salmon_add = pd.merge(df_salmon_add, df_weather_kr, how='left', on=['year', 'week'])"
   ]
  },
  {
   "cell_type": "code",
   "execution_count": null,
   "metadata": {
    "id": "uNUlfsEARus3"
   },
   "outputs": [],
   "source": [
    "df_salmon_add = pd.merge(df_salmon_add, df_weather_with_wf, how='left', on=['year', 'week', 'CTRY_1'])"
   ]
  },
  {
   "cell_type": "code",
   "execution_count": null,
   "metadata": {
    "id": "XZtxmpswRxXv"
   },
   "outputs": [],
   "source": [
    "df_salmon_add = pd.merge(df_salmon_add, df_oil, how='left', on=['year', 'week'])"
   ]
  },
  {
   "cell_type": "code",
   "execution_count": null,
   "metadata": {
    "id": "j-dSGPoeRyaD"
   },
   "outputs": [],
   "source": [
    "df_salmon_add = pd.merge(df_salmon_add, df_cpi, how='left', on=['year', 'week'])"
   ]
  },
  {
   "cell_type": "code",
   "execution_count": null,
   "metadata": {
    "id": "S2mU07aRRziW"
   },
   "outputs": [],
   "source": [
    "df_salmon_add = pd.merge(df_salmon_add, df_exchange, how='left', on=['year', 'week', 'CTRY_2'])"
   ]
  },
  {
   "cell_type": "markdown",
   "metadata": {
    "id": "lOk3Xehcuym2"
   },
   "source": [
    "## Filling Missing Value"
   ]
  },
  {
   "cell_type": "code",
   "execution_count": null,
   "metadata": {
    "colab": {
     "base_uri": "https://localhost:8080/"
    },
    "id": "zZwqUpofd25C",
    "outputId": "da4484ff-a611-4b4b-a76c-2aea95d86c6a",
    "scrolled": true
   },
   "outputs": [],
   "source": [
    "df_salmon_add.isna().sum()"
   ]
  },
  {
   "cell_type": "markdown",
   "metadata": {
    "id": "B7dUQL5-upaF"
   },
   "source": [
    "## Grouping"
   ]
  },
  {
   "cell_type": "code",
   "execution_count": null,
   "metadata": {
    "colab": {
     "base_uri": "https://localhost:8080/",
     "height": 449
    },
    "id": "SJ9cX5sGd25C",
    "outputId": "a15ebbd4-8a8f-4d90-bbd9-75cba6ffbe09",
    "scrolled": true
   },
   "outputs": [],
   "source": [
    "df_salmon_add = df_salmon_add.groupby(['year','week']).mean()\n",
    "\n",
    "df_salmon_add"
   ]
  },
  {
   "cell_type": "markdown",
   "metadata": {
    "id": "ET3RPAmZvA3_"
   },
   "source": [
    "### train"
   ]
  },
  {
   "cell_type": "code",
   "execution_count": null,
   "metadata": {
    "colab": {
     "base_uri": "https://localhost:8080/",
     "height": 604
    },
    "id": "1_a6e9lxd25C",
    "outputId": "0ea17d0a-32e8-4dc4-ba0f-757486039dd8",
    "scrolled": false
   },
   "outputs": [],
   "source": [
    "model9 = train_model(df_salmon_add.drop(columns=['P_PRICE']), df_salmon_add['P_PRICE'])"
   ]
  },
  {
   "cell_type": "code",
   "execution_count": null,
   "metadata": {
    "colab": {
     "base_uri": "https://localhost:8080/"
    },
    "id": "cAKct9FwdoYs",
    "outputId": "f2931317-909c-41ab-95be-e84ab7d71790"
   },
   "outputs": [],
   "source": [
    "t9 = print_importance(model9, df_salmon_add, [])"
   ]
  },
  {
   "cell_type": "markdown",
   "metadata": {
    "id": "EMVFYRtFZSx3"
   },
   "source": [
    "## Standardization\n",
    "- 추가한 Numerical Feauture : wind, rain, temperature, exchange, oil, cpi_total, cpi_fish,wind_kr, temperature_kr, water_temp_kr\n",
    "- 이에 대해 분포를 확인한 후, 정규화를 진행한다"
   ]
  },
  {
   "cell_type": "markdown",
   "metadata": {
    "id": "P5JymQwiZSx4"
   },
   "source": [
    "#### wind"
   ]
  },
  {
   "cell_type": "code",
   "execution_count": null,
   "metadata": {
    "colab": {
     "base_uri": "https://localhost:8080/",
     "height": 518
    },
    "id": "xYO434FKZSx4",
    "outputId": "a517e536-cfb4-430c-90e6-e3a68bb0b34c",
    "scrolled": true
   },
   "outputs": [],
   "source": [
    "plt.figure(figsize=(20, 8))\n",
    "\n",
    "plt.subplot(1, 2, 1)\n",
    "plt.title('DIstribution Plot', fontsize=title_size)\n",
    "sns.distplot(df_salmon_add['wind'], fit=norm);\n",
    "\n",
    "plt.subplot(1, 2, 2)\n",
    "plt.title('Probability Plot', fontsize=title_size)\n",
    "stats.probplot(df_salmon_add['wind'], plot=plt)\n",
    "\n",
    "plt.show()"
   ]
  },
  {
   "cell_type": "markdown",
   "metadata": {
    "id": "WDZYQAN4ZSx4"
   },
   "source": [
    "- Peakedness & Skewedness\n",
    "- Doesn't follow the diagonal line\n",
    "- Use Log Transformation"
   ]
  },
  {
   "cell_type": "code",
   "execution_count": null,
   "metadata": {
    "id": "NI-iKMIiZSx4"
   },
   "outputs": [],
   "source": [
    "# Log Transformation\n",
    "df_salmon_add['wind'] = np.log1p(df_salmon_add['wind'])"
   ]
  },
  {
   "cell_type": "code",
   "execution_count": null,
   "metadata": {
    "colab": {
     "base_uri": "https://localhost:8080/",
     "height": 518
    },
    "id": "8scURfN9ZSx4",
    "outputId": "f0cffd03-c57d-4ccd-e518-364eea2fd2da"
   },
   "outputs": [],
   "source": [
    "plt.figure(figsize=(20, 8))\n",
    "\n",
    "plt.subplot(1, 2, 1)\n",
    "plt.title('DIstribution Plot', fontsize=title_size)\n",
    "sns.distplot(df_salmon_add['wind'], fit=norm);\n",
    "\n",
    "plt.subplot(1, 2, 2)\n",
    "plt.title('Probability Plot', fontsize=title_size)\n",
    "stats.probplot(df_salmon_add['wind'], plot=plt)\n",
    "\n",
    "plt.show()"
   ]
  },
  {
   "cell_type": "markdown",
   "metadata": {
    "id": "OkHavWBqZSx4"
   },
   "source": [
    "#### rain"
   ]
  },
  {
   "cell_type": "code",
   "execution_count": null,
   "metadata": {
    "colab": {
     "base_uri": "https://localhost:8080/",
     "height": 518
    },
    "id": "SXpIrMj1ZSx4",
    "outputId": "dea64d7b-8232-4edc-f3db-41d62eeeecdb"
   },
   "outputs": [],
   "source": [
    "plt.figure(figsize=(20, 8))\n",
    "\n",
    "plt.subplot(1, 2, 1)\n",
    "plt.title('DIstribution Plot', fontsize=title_size)\n",
    "sns.distplot(df_salmon_add['rain'], fit=norm);\n",
    "\n",
    "plt.subplot(1, 2, 2)\n",
    "plt.title('Probability Plot', fontsize=title_size)\n",
    "stats.probplot(df_salmon_add['rain'], plot=plt)\n",
    "\n",
    "plt.show()"
   ]
  },
  {
   "cell_type": "markdown",
   "metadata": {
    "id": "Us4wBSfqZSx4"
   },
   "source": [
    "- Peakedness & Skewedness\n",
    "- Doesn't follow the diagonal line\n",
    "- Use Log Transformation"
   ]
  },
  {
   "cell_type": "code",
   "execution_count": null,
   "metadata": {
    "id": "SZL4O1nWZSx4"
   },
   "outputs": [],
   "source": [
    "# Log Transformation\n",
    "df_salmon_add['rain'] = np.log1p(df_salmon_add['rain'])"
   ]
  },
  {
   "cell_type": "code",
   "execution_count": null,
   "metadata": {
    "colab": {
     "base_uri": "https://localhost:8080/",
     "height": 518
    },
    "id": "Kduke4glZSx5",
    "outputId": "75081ea6-8d00-4da1-c076-373f389fd663"
   },
   "outputs": [],
   "source": [
    "plt.figure(figsize=(20, 8))\n",
    "\n",
    "plt.subplot(1, 2, 1)\n",
    "plt.title('DIstribution Plot', fontsize=title_size)\n",
    "sns.distplot(df_salmon_add['rain'], fit=norm);\n",
    "\n",
    "plt.subplot(1, 2, 2)\n",
    "plt.title('Probability Plot', fontsize=title_size)\n",
    "stats.probplot(df_salmon_add['rain'], plot=plt)\n",
    "\n",
    "plt.show()"
   ]
  },
  {
   "cell_type": "markdown",
   "metadata": {
    "id": "n_4mlLt6ZSx5"
   },
   "source": [
    "#### temperature"
   ]
  },
  {
   "cell_type": "code",
   "execution_count": null,
   "metadata": {
    "colab": {
     "base_uri": "https://localhost:8080/",
     "height": 518
    },
    "id": "dQaMclWXZSx5",
    "outputId": "ec4baa6a-50be-4ae6-e373-c8f245a797d1"
   },
   "outputs": [],
   "source": [
    "plt.figure(figsize=(20, 8))\n",
    "\n",
    "plt.subplot(1, 2, 1)\n",
    "plt.title('DIstribution Plot', fontsize=title_size)\n",
    "sns.distplot(df_salmon_add['temperature'], fit=norm);\n",
    "\n",
    "plt.subplot(1, 2, 2)\n",
    "plt.title('Probability Plot', fontsize=title_size)\n",
    "stats.probplot(df_salmon_add['temperature'], plot=plt)\n",
    "\n",
    "plt.show()"
   ]
  },
  {
   "cell_type": "markdown",
   "metadata": {
    "id": "PwK4b-2WZSx5"
   },
   "source": [
    "- Peakedness & Skewedness\n",
    "- Doesn't follow the diagonal line\n",
    "- Use Standardization"
   ]
  },
  {
   "cell_type": "code",
   "execution_count": null,
   "metadata": {
    "id": "rQKm0coTZSx5"
   },
   "outputs": [],
   "source": [
    "# Standardization\n",
    "df_salmon_add['temperature'] = (df_salmon_add['temperature']- np.mean(df_salmon_add['temperature'])) / df_salmon_add['temperature'].std()"
   ]
  },
  {
   "cell_type": "code",
   "execution_count": null,
   "metadata": {
    "colab": {
     "base_uri": "https://localhost:8080/",
     "height": 518
    },
    "id": "d91W4dDDZSx5",
    "outputId": "3fdd5eac-4926-4833-c8c9-b7013c985ea8"
   },
   "outputs": [],
   "source": [
    "plt.figure(figsize=(20, 8))\n",
    "\n",
    "plt.subplot(1, 2, 1)\n",
    "plt.title('DIstribution Plot', fontsize=title_size)\n",
    "sns.distplot(df_salmon_add['temperature'], fit=norm);\n",
    "\n",
    "plt.subplot(1, 2, 2)\n",
    "plt.title('Probability Plot', fontsize=title_size)\n",
    "stats.probplot(df_salmon_add['temperature'], plot=plt)\n",
    "\n",
    "plt.show()"
   ]
  },
  {
   "cell_type": "markdown",
   "metadata": {
    "id": "5FnfbUCLZSx5"
   },
   "source": [
    "#### exchange"
   ]
  },
  {
   "cell_type": "code",
   "execution_count": null,
   "metadata": {
    "colab": {
     "base_uri": "https://localhost:8080/",
     "height": 518
    },
    "id": "UInD9XH1ZSx5",
    "outputId": "c65a6bb9-6491-477c-efca-b24f7a525618"
   },
   "outputs": [],
   "source": [
    "plt.figure(figsize=(20, 8))\n",
    "\n",
    "plt.subplot(1, 2, 1)\n",
    "plt.title('DIstribution Plot', fontsize=title_size)\n",
    "sns.distplot(df_salmon_add['exchange'], fit=norm);\n",
    "\n",
    "plt.subplot(1, 2, 2)\n",
    "plt.title('Probability Plot', fontsize=title_size)\n",
    "stats.probplot(df_salmon_add['exchange'], plot=plt)\n",
    "\n",
    "plt.show()"
   ]
  },
  {
   "cell_type": "markdown",
   "metadata": {
    "id": "naGbC28YZSx5"
   },
   "source": [
    "- Peakedness & Skewedness\n",
    "- Doesn't follow the diagonal line\n",
    "- Use Log Transformation"
   ]
  },
  {
   "cell_type": "code",
   "execution_count": null,
   "metadata": {
    "id": "pFzTCrJUZSx5"
   },
   "outputs": [],
   "source": [
    "# Log Transformation\n",
    "df_salmon_add['exchange'] = np.log1p(df_salmon_add['exchange'])"
   ]
  },
  {
   "cell_type": "code",
   "execution_count": null,
   "metadata": {
    "colab": {
     "base_uri": "https://localhost:8080/",
     "height": 518
    },
    "id": "WmNCl4tYZSx6",
    "outputId": "463ebafd-25e4-42a2-af93-3a371e746816"
   },
   "outputs": [],
   "source": [
    "plt.figure(figsize=(20, 8))\n",
    "\n",
    "plt.subplot(1, 2, 1)\n",
    "plt.title('DIstribution Plot', fontsize=title_size)\n",
    "sns.distplot(df_salmon_add['exchange'], fit=norm);\n",
    "\n",
    "plt.subplot(1, 2, 2)\n",
    "plt.title('Probability Plot', fontsize=title_size)\n",
    "stats.probplot(df_salmon_add['exchange'], plot=plt)\n",
    "\n",
    "plt.show()"
   ]
  },
  {
   "cell_type": "markdown",
   "metadata": {
    "id": "iuUY6IwPZSx6"
   },
   "source": [
    "#### oil"
   ]
  },
  {
   "cell_type": "code",
   "execution_count": null,
   "metadata": {
    "colab": {
     "base_uri": "https://localhost:8080/",
     "height": 518
    },
    "id": "77ozkLmBZSx6",
    "outputId": "2a6572de-886f-4bcd-af36-111a9b971e54"
   },
   "outputs": [],
   "source": [
    "plt.figure(figsize=(20, 8))\n",
    "\n",
    "plt.subplot(1, 2, 1)\n",
    "plt.title('DIstribution Plot', fontsize=title_size)\n",
    "sns.distplot(df_salmon_add['oil'], fit=norm);\n",
    "\n",
    "plt.subplot(1, 2, 2)\n",
    "plt.title('Probability Plot', fontsize=title_size)\n",
    "stats.probplot(df_salmon_add['oil'], plot=plt)\n",
    "\n",
    "plt.show()"
   ]
  },
  {
   "cell_type": "markdown",
   "metadata": {
    "id": "ip0p96uRZSx6"
   },
   "source": [
    "- Peakedness & Skewedness\n",
    "- Doesn't follow the diagonal line\n",
    "- Use Log Transformation"
   ]
  },
  {
   "cell_type": "code",
   "execution_count": null,
   "metadata": {
    "id": "m68cZliwZ414"
   },
   "outputs": [],
   "source": [
    "# Log Transformation\n",
    "df_salmon_add['oil'] = np.log1p(df_salmon_add['oil'])"
   ]
  },
  {
   "cell_type": "code",
   "execution_count": null,
   "metadata": {
    "colab": {
     "base_uri": "https://localhost:8080/",
     "height": 518
    },
    "id": "wYE_eR1eZ5TP",
    "outputId": "d4716053-55f7-440c-b88a-9ff2b3b0c5cc"
   },
   "outputs": [],
   "source": [
    "plt.figure(figsize=(20, 8))\n",
    "\n",
    "plt.subplot(1, 2, 1)\n",
    "plt.title('DIstribution Plot', fontsize=title_size)\n",
    "sns.distplot(df_salmon_add['oil'], fit=norm);\n",
    "\n",
    "plt.subplot(1, 2, 2)\n",
    "plt.title('Probability Plot', fontsize=title_size)\n",
    "stats.probplot(df_salmon_add['oil'], plot=plt)\n",
    "\n",
    "plt.show()"
   ]
  },
  {
   "cell_type": "markdown",
   "metadata": {
    "id": "HgPYXVUNZSx6"
   },
   "source": [
    "#### cpi_total"
   ]
  },
  {
   "cell_type": "code",
   "execution_count": null,
   "metadata": {
    "colab": {
     "base_uri": "https://localhost:8080/",
     "height": 519
    },
    "id": "be5S9VNtZSx6",
    "outputId": "7deee841-c6bd-449f-f24d-fbecac41bbd5"
   },
   "outputs": [],
   "source": [
    "plt.figure(figsize=(20, 8))\n",
    "\n",
    "plt.subplot(1, 2, 1)\n",
    "plt.title('DIstribution Plot', fontsize=title_size)\n",
    "sns.distplot(df_salmon_add['cpi_total'], fit=norm);\n",
    "\n",
    "plt.subplot(1, 2, 2)\n",
    "plt.title('Probability Plot', fontsize=title_size)\n",
    "stats.probplot(df_salmon_add['cpi_total'], plot=plt)\n",
    "\n",
    "plt.show()"
   ]
  },
  {
   "cell_type": "markdown",
   "metadata": {
    "id": "kASdqpitZSx6"
   },
   "source": [
    "- Peakedness & Skewedness\n",
    "- Doesn't follow the diagonal line\n",
    "- Use Log Transformation"
   ]
  },
  {
   "cell_type": "code",
   "execution_count": null,
   "metadata": {
    "id": "tzG1NrvUZSx6"
   },
   "outputs": [],
   "source": [
    "# Log Transformation\n",
    "df_salmon_add['cpi_total'] = np.log1p(df_salmon_add['cpi_total'])"
   ]
  },
  {
   "cell_type": "code",
   "execution_count": null,
   "metadata": {
    "colab": {
     "base_uri": "https://localhost:8080/",
     "height": 519
    },
    "id": "jYsb3DFYZSx6",
    "outputId": "a1c12baa-854f-4b54-f7e7-e0373c3f47e8"
   },
   "outputs": [],
   "source": [
    "plt.figure(figsize=(20, 8))\n",
    "\n",
    "plt.subplot(1, 2, 1)\n",
    "plt.title('DIstribution Plot', fontsize=title_size)\n",
    "sns.distplot(df_salmon_add['cpi_total'], fit=norm);\n",
    "\n",
    "plt.subplot(1, 2, 2)\n",
    "plt.title('Probability Plot', fontsize=title_size)\n",
    "stats.probplot(df_salmon_add['cpi_total'], plot=plt)\n",
    "\n",
    "plt.show()"
   ]
  },
  {
   "cell_type": "markdown",
   "metadata": {
    "id": "xALC0rJTZSx7"
   },
   "source": [
    "#### cpi_fish"
   ]
  },
  {
   "cell_type": "code",
   "execution_count": null,
   "metadata": {
    "colab": {
     "base_uri": "https://localhost:8080/",
     "height": 519
    },
    "id": "vP6yt8JVZSx7",
    "outputId": "0c97d778-9917-4729-ec45-91e03d033ecf"
   },
   "outputs": [],
   "source": [
    "plt.figure(figsize=(20, 8))\n",
    "\n",
    "plt.subplot(1, 2, 1)\n",
    "plt.title('DIstribution Plot', fontsize=title_size)\n",
    "sns.distplot(df_salmon_add['cpi_fish'], fit=norm);\n",
    "\n",
    "plt.subplot(1, 2, 2)\n",
    "plt.title('Probability Plot', fontsize=title_size)\n",
    "stats.probplot(df_salmon_add['cpi_fish'], plot=plt)\n",
    "\n",
    "plt.show()"
   ]
  },
  {
   "cell_type": "markdown",
   "metadata": {
    "id": "DxMqV6MPZSx7"
   },
   "source": [
    "- Peakedness & Skewedness\n",
    "- Doesn't follow the diagonal line\n",
    "- Use Log Transformation"
   ]
  },
  {
   "cell_type": "code",
   "execution_count": null,
   "metadata": {
    "id": "KKf3d58eZSx7"
   },
   "outputs": [],
   "source": [
    "# Log Transformation\n",
    "df_salmon_add['cpi_fish'] = np.log1p(df_salmon_add['cpi_fish'])"
   ]
  },
  {
   "cell_type": "code",
   "execution_count": null,
   "metadata": {
    "colab": {
     "base_uri": "https://localhost:8080/",
     "height": 519
    },
    "id": "ZMEtBq9-ZSx7",
    "outputId": "a4e5ae3f-1e40-4ee9-cccc-0a1d5188c6d9"
   },
   "outputs": [],
   "source": [
    "plt.figure(figsize=(20, 8))\n",
    "\n",
    "plt.subplot(1, 2, 1)\n",
    "plt.title('DIstribution Plot', fontsize=title_size)\n",
    "sns.distplot(df_salmon_add['cpi_fish'], fit=norm);\n",
    "\n",
    "plt.subplot(1, 2, 2)\n",
    "plt.title('Probability Plot', fontsize=title_size)\n",
    "stats.probplot(df_salmon_add['cpi_fish'], plot=plt)\n",
    "\n",
    "plt.show()"
   ]
  },
  {
   "cell_type": "markdown",
   "metadata": {
    "id": "ibBzT2QUZSx7"
   },
   "source": [
    "#### wind_kr"
   ]
  },
  {
   "cell_type": "code",
   "execution_count": null,
   "metadata": {
    "colab": {
     "base_uri": "https://localhost:8080/",
     "height": 519
    },
    "id": "HVBo6t1RZSx7",
    "outputId": "0b92ebb4-683a-41b3-a9f8-260eb7f70d4a"
   },
   "outputs": [],
   "source": [
    "plt.figure(figsize=(20, 8))\n",
    "\n",
    "plt.subplot(1, 2, 1)\n",
    "plt.title('DIstribution Plot', fontsize=title_size)\n",
    "sns.distplot(df_salmon_add['wind_kr'], fit=norm);\n",
    "\n",
    "plt.subplot(1, 2, 2)\n",
    "plt.title('Probability Plot', fontsize=title_size)\n",
    "stats.probplot(df_salmon_add['wind_kr'], plot=plt)\n",
    "\n",
    "plt.show()"
   ]
  },
  {
   "cell_type": "markdown",
   "metadata": {
    "id": "32LpBTDoZSx7"
   },
   "source": [
    "- Peakedness & Skewedness\n",
    "- Doesn't follow the diagonal line\n",
    "- Use Log Transformation"
   ]
  },
  {
   "cell_type": "code",
   "execution_count": null,
   "metadata": {
    "id": "S8NQdzO1aCUN"
   },
   "outputs": [],
   "source": [
    "# Log Transformation\n",
    "df_salmon_add['wind_kr'] = np.log1p(df_salmon_add['wind_kr'])"
   ]
  },
  {
   "cell_type": "code",
   "execution_count": null,
   "metadata": {
    "colab": {
     "base_uri": "https://localhost:8080/",
     "height": 519
    },
    "id": "Jmvh7h9BaFiE",
    "outputId": "91c015e9-2523-48ee-d487-04bf57bf1635"
   },
   "outputs": [],
   "source": [
    "plt.figure(figsize=(20, 8))\n",
    "\n",
    "plt.subplot(1, 2, 1)\n",
    "plt.title('DIstribution Plot', fontsize=title_size)\n",
    "sns.distplot(df_salmon_add['wind_kr'], fit=norm);\n",
    "\n",
    "plt.subplot(1, 2, 2)\n",
    "plt.title('Probability Plot', fontsize=title_size)\n",
    "stats.probplot(df_salmon_add['wind_kr'], plot=plt)\n",
    "\n",
    "plt.show()"
   ]
  },
  {
   "cell_type": "markdown",
   "metadata": {
    "id": "4NKBdXy4ZSx7"
   },
   "source": [
    "#### temperature_kr"
   ]
  },
  {
   "cell_type": "code",
   "execution_count": null,
   "metadata": {
    "colab": {
     "base_uri": "https://localhost:8080/",
     "height": 519
    },
    "id": "Yb9jyemkZSx7",
    "outputId": "8d1bc3bd-04b5-4221-d4e1-c35265270a05"
   },
   "outputs": [],
   "source": [
    "plt.figure(figsize=(20, 8))\n",
    "\n",
    "plt.subplot(1, 2, 1)\n",
    "plt.title('DIstribution Plot', fontsize=title_size)\n",
    "sns.distplot(df_salmon_add['temperature_kr'], fit=norm);\n",
    "\n",
    "plt.subplot(1, 2, 2)\n",
    "plt.title('Probability Plot', fontsize=title_size)\n",
    "stats.probplot(df_salmon_add['temperature_kr'], plot=plt)\n",
    "\n",
    "plt.show()"
   ]
  },
  {
   "cell_type": "markdown",
   "metadata": {
    "id": "HZyxFIg7ZSx7"
   },
   "source": [
    "- Standard Distribution"
   ]
  },
  {
   "cell_type": "markdown",
   "metadata": {
    "id": "d3WwQSF_ZSx7"
   },
   "source": [
    "#### water_temp_kr"
   ]
  },
  {
   "cell_type": "code",
   "execution_count": null,
   "metadata": {
    "colab": {
     "base_uri": "https://localhost:8080/",
     "height": 519
    },
    "id": "O8jdBu5WZSx7",
    "outputId": "e58f0c8e-a560-49b5-bc87-067be062ddfe"
   },
   "outputs": [],
   "source": [
    "plt.figure(figsize=(20, 8))\n",
    "\n",
    "plt.subplot(1, 2, 1)\n",
    "plt.title('DIstribution Plot', fontsize=title_size)\n",
    "sns.distplot(df_salmon_add['water_temp_kr'], fit=norm);\n",
    "\n",
    "plt.subplot(1, 2, 2)\n",
    "plt.title('Probability Plot', fontsize=title_size)\n",
    "stats.probplot(df_salmon_add['water_temp_kr'], plot=plt)\n",
    "\n",
    "plt.show()"
   ]
  },
  {
   "cell_type": "markdown",
   "metadata": {
    "id": "upZ5cDHGZSx7"
   },
   "source": [
    "- Peakedness & Skewedness\n",
    "- Doesn't follow the diagonal line\n",
    "- Use Log Transformation"
   ]
  },
  {
   "cell_type": "code",
   "execution_count": null,
   "metadata": {
    "id": "1Ou0UVZzaUKJ"
   },
   "outputs": [],
   "source": [
    "# Log Transformation\n",
    "df_salmon_add['water_temp_kr'] = np.log1p(df_salmon_add['water_temp_kr'])"
   ]
  },
  {
   "cell_type": "code",
   "execution_count": null,
   "metadata": {
    "colab": {
     "base_uri": "https://localhost:8080/",
     "height": 519
    },
    "id": "PKZkJYYUaVsI",
    "outputId": "c886eb8c-fde9-4374-cf76-e8aa96bacf1a"
   },
   "outputs": [],
   "source": [
    "plt.figure(figsize=(20, 8))\n",
    "\n",
    "plt.subplot(1, 2, 1)\n",
    "plt.title('DIstribution Plot', fontsize=title_size)\n",
    "sns.distplot(df_salmon_add['water_temp_kr'], fit=norm);\n",
    "\n",
    "plt.subplot(1, 2, 2)\n",
    "plt.title('Probability Plot', fontsize=title_size)\n",
    "stats.probplot(df_salmon_add['water_temp_kr'], plot=plt)\n",
    "\n",
    "plt.show()"
   ]
  },
  {
   "cell_type": "markdown",
   "metadata": {
    "id": "-jxbZdAmzk67"
   },
   "source": [
    "## Feature Selection (by Correlation)"
   ]
  },
  {
   "cell_type": "code",
   "execution_count": null,
   "metadata": {
    "colab": {
     "base_uri": "https://localhost:8080/",
     "height": 663
    },
    "id": "WM7lXXZDzmk6",
    "outputId": "405d486f-d9fe-4b28-f33a-112917ec25b8"
   },
   "outputs": [],
   "source": [
    "plt.figure(figsize=(15,10))\n",
    "\n",
    "sns.heatmap(df_salmon_add.corr(), annot=True, cmap=plt.cm.Reds)\n",
    "plt.show()"
   ]
  },
  {
   "cell_type": "markdown",
   "metadata": {
    "id": "WyIqLbTjcAvr"
   },
   "source": [
    "- P_PRICE 와 상관계수가 큰 변수\n",
    "    - 없음\n",
    "\n",
    "- 서로간 상관계수가 큰 변수\n",
    "    - rain & temperature_kr & temperature & wind_kr\n",
    "    - temperature_kr & water_temp_kr\n",
    "    - oil & cpi_total & cpi_fish\n",
    "\n",
    "wind_kr & temperature_kr & water_temp_kr 평균 사용\n",
    "\n",
    "cpi_fish / cpi_total 사용"
   ]
  },
  {
   "cell_type": "code",
   "execution_count": null,
   "metadata": {
    "id": "ZxmKu1rbcZCj"
   },
   "outputs": [],
   "source": [
    "df_salmon_add['temp_kr'] = (df_salmon_add['temperature_kr'] + df_salmon_add['water_temp_kr'] + df_salmon_add['wind_kr']) / 3\n",
    "df_salmon_add['cpi'] = df_salmon_add['cpi_fish'] / df_salmon_add['cpi_total'] "
   ]
  },
  {
   "cell_type": "code",
   "execution_count": null,
   "metadata": {
    "id": "cQhF8bREceSc"
   },
   "outputs": [],
   "source": [
    "df_salmon_add.drop(columns=['temperature_kr', 'cpi_fish', 'water_temp_kr','wind_kr' ,'cpi_total'], axis=1, inplace=True)"
   ]
  },
  {
   "cell_type": "markdown",
   "metadata": {
    "id": "fuJb_21Nck68"
   },
   "source": [
    "### Train"
   ]
  },
  {
   "cell_type": "code",
   "execution_count": null,
   "metadata": {
    "colab": {
     "base_uri": "https://localhost:8080/",
     "height": 604
    },
    "id": "mEGL-twBcl5t",
    "outputId": "71b24905-3546-4185-821c-907d21fec94b"
   },
   "outputs": [],
   "source": [
    "model10 = train_model(df_salmon_add.drop(columns=['P_PRICE']), df_salmon_add['P_PRICE'])"
   ]
  },
  {
   "cell_type": "code",
   "execution_count": null,
   "metadata": {
    "colab": {
     "base_uri": "https://localhost:8080/"
    },
    "id": "Ky8QnenXcpvP",
    "outputId": "d3f7261f-591c-4c91-ff70-bf2dee6c50a8"
   },
   "outputs": [],
   "source": [
    "t10 = print_importance(model10, df_salmon_add, ['temp_kr','cpi'])"
   ]
  },
  {
   "cell_type": "markdown",
   "metadata": {
    "id": "Ztvn3_sccvXU"
   },
   "source": [
    "정확도가 감소한 것을 확인할 수 있다  \n",
    "그러나 다중공선성 문제를 피하기 위해서는 어쩔 수 없다"
   ]
  },
  {
   "cell_type": "markdown",
   "metadata": {
    "id": "OZfXFX1tc3hI"
   },
   "source": [
    "## Final DF"
   ]
  },
  {
   "cell_type": "code",
   "execution_count": null,
   "metadata": {
    "id": "vFi2YKDYc34F"
   },
   "outputs": [],
   "source": [
    "df_final_salmon = df_salmon_add.copy()"
   ]
  },
  {
   "cell_type": "markdown",
   "metadata": {
    "id": "tCeeDn_3d25C"
   },
   "source": [
    "# df_whiteleg_shrimp"
   ]
  },
  {
   "cell_type": "code",
   "execution_count": null,
   "metadata": {
    "colab": {
     "base_uri": "https://localhost:8080/",
     "height": 418
    },
    "id": "rKhBoqpAd25D",
    "outputId": "63b1553a-296a-4a4f-f909-473706b330f0",
    "scrolled": true
   },
   "outputs": [],
   "source": [
    "df_whiteleg_shrimp = df_train[(df_train['P_NAME']=='흰다리새우') & ((df_train['CTRY_1']=='베트남') | (df_train['CTRY_1']=='태국')) & ((df_train['CTRY_2']=='베트남') | (df_train['CTRY_2']=='태국'))]\n",
    "\n",
    "df_whiteleg_shrimp = df_whiteleg_shrimp[['CTRY_1','CTRY_2','P_PRICE','year','week']]\n",
    "\n",
    "df_whiteleg_shrimp"
   ]
  },
  {
   "cell_type": "markdown",
   "metadata": {
    "id": "H076GcnXCNaM"
   },
   "source": [
    "## Merge Features"
   ]
  },
  {
   "cell_type": "code",
   "execution_count": null,
   "metadata": {
    "id": "JdifQzFnR7jE"
   },
   "outputs": [],
   "source": [
    "df_whiteleg_shrimp_add = df_whiteleg_shrimp.copy()"
   ]
  },
  {
   "cell_type": "code",
   "execution_count": null,
   "metadata": {
    "id": "NSRGTk5ed25D"
   },
   "outputs": [],
   "source": [
    "df_whiteleg_shrimp_add = pd.merge(df_whiteleg_shrimp, df_weather_kr, how='left', on=['year', 'week'])"
   ]
  },
  {
   "cell_type": "code",
   "execution_count": null,
   "metadata": {
    "id": "ueeC04lTR-JN"
   },
   "outputs": [],
   "source": [
    "df_whiteleg_shrimp_add = pd.merge(df_whiteleg_shrimp_add, df_weather_with_wf, how='left', on=['year', 'week', 'CTRY_1'])"
   ]
  },
  {
   "cell_type": "code",
   "execution_count": null,
   "metadata": {
    "id": "rKNiJqfUSBSA"
   },
   "outputs": [],
   "source": [
    "df_whiteleg_shrimp_add = pd.merge(df_whiteleg_shrimp_add, df_oil, how='left', on=['year', 'week'])"
   ]
  },
  {
   "cell_type": "code",
   "execution_count": null,
   "metadata": {
    "id": "2FtUdPerSCT9"
   },
   "outputs": [],
   "source": [
    "df_whiteleg_shrimp_add = pd.merge(df_whiteleg_shrimp_add, df_cpi, how='left', on=['year', 'week'])"
   ]
  },
  {
   "cell_type": "code",
   "execution_count": null,
   "metadata": {
    "id": "RfVmsr-YSDUk"
   },
   "outputs": [],
   "source": [
    "df_whiteleg_shrimp_add = pd.merge(df_whiteleg_shrimp_add, df_exchange, how='left', on=['year', 'week', 'CTRY_2'])"
   ]
  },
  {
   "cell_type": "markdown",
   "metadata": {
    "id": "K2f7GXluCSNb"
   },
   "source": [
    "## Filling Missing Value"
   ]
  },
  {
   "cell_type": "code",
   "execution_count": null,
   "metadata": {
    "colab": {
     "base_uri": "https://localhost:8080/"
    },
    "id": "3p-gUPH0d25D",
    "outputId": "75f8db25-21ed-45af-c7d1-64e78a1918c9",
    "scrolled": true
   },
   "outputs": [],
   "source": [
    "df_whiteleg_shrimp_add.isna().sum()"
   ]
  },
  {
   "cell_type": "markdown",
   "metadata": {
    "id": "-nk_lGFzCXuj"
   },
   "source": [
    "## Grouping"
   ]
  },
  {
   "cell_type": "code",
   "execution_count": null,
   "metadata": {
    "colab": {
     "base_uri": "https://localhost:8080/",
     "height": 449
    },
    "id": "ssOWdKMAd25D",
    "outputId": "78cfd008-d67a-4d7c-bef0-0c377d5ea09b",
    "scrolled": true
   },
   "outputs": [],
   "source": [
    "df_whiteleg_shrimp_add = df_whiteleg_shrimp_add.groupby(['year','week']).mean()\n",
    "\n",
    "df_whiteleg_shrimp_add"
   ]
  },
  {
   "cell_type": "markdown",
   "metadata": {
    "id": "3TMUjHD3CfjP"
   },
   "source": [
    "### train"
   ]
  },
  {
   "cell_type": "code",
   "execution_count": null,
   "metadata": {
    "colab": {
     "base_uri": "https://localhost:8080/",
     "height": 604
    },
    "id": "98f_LOz0d25D",
    "outputId": "7ec5c762-af70-4e96-d7f8-66b2c46e25ca"
   },
   "outputs": [],
   "source": [
    "model11 = train_model(df_whiteleg_shrimp_add.drop(columns=['P_PRICE']), df_whiteleg_shrimp_add['P_PRICE'])"
   ]
  },
  {
   "cell_type": "code",
   "execution_count": null,
   "metadata": {
    "colab": {
     "base_uri": "https://localhost:8080/"
    },
    "id": "awOmpE9ReNOR",
    "outputId": "dac6f623-c2f9-42b5-9f00-f60bf79f5184"
   },
   "outputs": [],
   "source": [
    "t11 = print_importance(model11, df_whiteleg_shrimp_add, [])"
   ]
  },
  {
   "cell_type": "markdown",
   "metadata": {
    "id": "5ubPP6EjeZ7P"
   },
   "source": [
    "## Standardization\n",
    "- 추가한 Numerical Feauture : wind, rain, temperature, exchange, oil, cpi_total, cpi_fish,wind_kr, temperature_kr, water_temp_kr\n",
    "- 이에 대해 분포를 확인한 후, 정규화를 진행한다"
   ]
  },
  {
   "cell_type": "markdown",
   "metadata": {
    "id": "6AH4S3gleZ7Q"
   },
   "source": [
    "#### wind"
   ]
  },
  {
   "cell_type": "code",
   "execution_count": null,
   "metadata": {
    "colab": {
     "base_uri": "https://localhost:8080/",
     "height": 518
    },
    "id": "ux8Aefo2eZ7Q",
    "outputId": "5cb2f4e4-7cd6-42e4-b781-e3a602a399b3",
    "scrolled": true
   },
   "outputs": [],
   "source": [
    "plt.figure(figsize=(20, 8))\n",
    "\n",
    "plt.subplot(1, 2, 1)\n",
    "plt.title('DIstribution Plot', fontsize=title_size)\n",
    "sns.distplot(df_whiteleg_shrimp_add['wind'], fit=norm);\n",
    "\n",
    "plt.subplot(1, 2, 2)\n",
    "plt.title('Probability Plot', fontsize=title_size)\n",
    "stats.probplot(df_whiteleg_shrimp_add['wind'], plot=plt)\n",
    "\n",
    "plt.show()"
   ]
  },
  {
   "cell_type": "markdown",
   "metadata": {
    "id": "S09arb7deZ7Q"
   },
   "source": [
    "- Peakedness & Skewedness\n",
    "- Doesn't follow the diagonal line\n",
    "- Use Log Transformation"
   ]
  },
  {
   "cell_type": "code",
   "execution_count": null,
   "metadata": {
    "id": "vnTvdOVEeZ7Q"
   },
   "outputs": [],
   "source": [
    "# Log Transformation\n",
    "df_whiteleg_shrimp_add['wind'] = np.log1p(df_whiteleg_shrimp_add['wind'])"
   ]
  },
  {
   "cell_type": "code",
   "execution_count": null,
   "metadata": {
    "colab": {
     "base_uri": "https://localhost:8080/",
     "height": 518
    },
    "id": "aPemiWCeeZ7Q",
    "outputId": "de7435ff-7f97-4ef9-8835-7bea9fae03a9"
   },
   "outputs": [],
   "source": [
    "plt.figure(figsize=(20, 8))\n",
    "\n",
    "plt.subplot(1, 2, 1)\n",
    "plt.title('DIstribution Plot', fontsize=title_size)\n",
    "sns.distplot(df_whiteleg_shrimp_add['wind'], fit=norm);\n",
    "\n",
    "plt.subplot(1, 2, 2)\n",
    "plt.title('Probability Plot', fontsize=title_size)\n",
    "stats.probplot(df_whiteleg_shrimp_add['wind'], plot=plt)\n",
    "\n",
    "plt.show()"
   ]
  },
  {
   "cell_type": "markdown",
   "metadata": {
    "id": "D6O9byIWeZ7Q"
   },
   "source": [
    "#### rain"
   ]
  },
  {
   "cell_type": "code",
   "execution_count": null,
   "metadata": {
    "colab": {
     "base_uri": "https://localhost:8080/",
     "height": 518
    },
    "id": "TBEzUEhkeZ7Q",
    "outputId": "2244844a-8901-4d33-c73e-de7625b92ca7"
   },
   "outputs": [],
   "source": [
    "plt.figure(figsize=(20, 8))\n",
    "\n",
    "plt.subplot(1, 2, 1)\n",
    "plt.title('DIstribution Plot', fontsize=title_size)\n",
    "sns.distplot(df_whiteleg_shrimp_add['rain'], fit=norm);\n",
    "\n",
    "plt.subplot(1, 2, 2)\n",
    "plt.title('Probability Plot', fontsize=title_size)\n",
    "stats.probplot(df_whiteleg_shrimp_add['rain'], plot=plt)\n",
    "\n",
    "plt.show()"
   ]
  },
  {
   "cell_type": "markdown",
   "metadata": {
    "id": "LHpI0SWpeZ7Q"
   },
   "source": [
    "- Peakedness & Skewedness\n",
    "- Doesn't follow the diagonal line\n",
    "- Use Log Transformation"
   ]
  },
  {
   "cell_type": "code",
   "execution_count": null,
   "metadata": {
    "id": "Ie9oIiBDeZ7Q"
   },
   "outputs": [],
   "source": [
    "# Log Transformation\n",
    "df_whiteleg_shrimp_add['rain'] = np.log1p(df_whiteleg_shrimp_add['rain'])"
   ]
  },
  {
   "cell_type": "code",
   "execution_count": null,
   "metadata": {
    "colab": {
     "base_uri": "https://localhost:8080/",
     "height": 518
    },
    "id": "Iw9Cp65TeZ7R",
    "outputId": "5c10ba3c-ff82-4936-e6c2-36c5c2327087"
   },
   "outputs": [],
   "source": [
    "plt.figure(figsize=(20, 8))\n",
    "\n",
    "plt.subplot(1, 2, 1)\n",
    "plt.title('DIstribution Plot', fontsize=title_size)\n",
    "sns.distplot(df_whiteleg_shrimp_add['rain'], fit=norm);\n",
    "\n",
    "plt.subplot(1, 2, 2)\n",
    "plt.title('Probability Plot', fontsize=title_size)\n",
    "stats.probplot(df_whiteleg_shrimp_add['rain'], plot=plt)\n",
    "\n",
    "plt.show()"
   ]
  },
  {
   "cell_type": "markdown",
   "metadata": {
    "id": "yru6dgxLeZ7R"
   },
   "source": [
    "#### temperature"
   ]
  },
  {
   "cell_type": "code",
   "execution_count": null,
   "metadata": {
    "colab": {
     "base_uri": "https://localhost:8080/",
     "height": 518
    },
    "id": "gLTawP4zeZ7R",
    "outputId": "d43983bb-d067-402d-d355-459778c5a8ec"
   },
   "outputs": [],
   "source": [
    "plt.figure(figsize=(20, 8))\n",
    "\n",
    "plt.subplot(1, 2, 1)\n",
    "plt.title('DIstribution Plot', fontsize=title_size)\n",
    "sns.distplot(df_whiteleg_shrimp_add['temperature'], fit=norm);\n",
    "\n",
    "plt.subplot(1, 2, 2)\n",
    "plt.title('Probability Plot', fontsize=title_size)\n",
    "stats.probplot(df_whiteleg_shrimp_add['temperature'], plot=plt)\n",
    "\n",
    "plt.show()"
   ]
  },
  {
   "cell_type": "markdown",
   "metadata": {
    "id": "7R5-ALlseZ7R"
   },
   "source": [
    "- Peakedness & Skewedness\n",
    "- Doesn't follow the diagonal line\n",
    "- Use Standardization"
   ]
  },
  {
   "cell_type": "code",
   "execution_count": null,
   "metadata": {
    "id": "zbdTjZA0eZ7R"
   },
   "outputs": [],
   "source": [
    "# Standardization\n",
    "df_whiteleg_shrimp_add['temperature'] = (df_whiteleg_shrimp_add['temperature']- np.mean(df_whiteleg_shrimp_add['temperature'])) / df_whiteleg_shrimp_add['temperature'].std()"
   ]
  },
  {
   "cell_type": "code",
   "execution_count": null,
   "metadata": {
    "colab": {
     "base_uri": "https://localhost:8080/",
     "height": 518
    },
    "id": "t-uxjozAeZ7R",
    "outputId": "9c90c1b5-d4c5-40ca-ac82-7f3586b9c4bc"
   },
   "outputs": [],
   "source": [
    "plt.figure(figsize=(20, 8))\n",
    "\n",
    "plt.subplot(1, 2, 1)\n",
    "plt.title('DIstribution Plot', fontsize=title_size)\n",
    "sns.distplot(df_whiteleg_shrimp_add['temperature'], fit=norm);\n",
    "\n",
    "plt.subplot(1, 2, 2)\n",
    "plt.title('Probability Plot', fontsize=title_size)\n",
    "stats.probplot(df_whiteleg_shrimp_add['temperature'], plot=plt)\n",
    "\n",
    "plt.show()"
   ]
  },
  {
   "cell_type": "markdown",
   "metadata": {
    "id": "CdMqqXqseZ7R"
   },
   "source": [
    "#### exchange"
   ]
  },
  {
   "cell_type": "code",
   "execution_count": null,
   "metadata": {
    "colab": {
     "base_uri": "https://localhost:8080/",
     "height": 518
    },
    "id": "-IYIZd53eZ7R",
    "outputId": "16d8ea3c-cb57-4ad3-ebd8-6f9c7383d485"
   },
   "outputs": [],
   "source": [
    "plt.figure(figsize=(20, 8))\n",
    "\n",
    "plt.subplot(1, 2, 1)\n",
    "plt.title('DIstribution Plot', fontsize=title_size)\n",
    "sns.distplot(df_whiteleg_shrimp_add['exchange'], fit=norm);\n",
    "\n",
    "plt.subplot(1, 2, 2)\n",
    "plt.title('Probability Plot', fontsize=title_size)\n",
    "stats.probplot(df_whiteleg_shrimp_add['exchange'], plot=plt)\n",
    "\n",
    "plt.show()"
   ]
  },
  {
   "cell_type": "markdown",
   "metadata": {
    "id": "7VKfY_AteZ7R"
   },
   "source": [
    "- Peakedness & Skewedness\n",
    "- Doesn't follow the diagonal line\n",
    "- Use Log Transformation"
   ]
  },
  {
   "cell_type": "code",
   "execution_count": null,
   "metadata": {
    "id": "Y_Bivn9aeZ7R"
   },
   "outputs": [],
   "source": [
    "# Log Transformation\n",
    "df_whiteleg_shrimp_add['exchange'] = np.log1p(df_whiteleg_shrimp_add['exchange'])"
   ]
  },
  {
   "cell_type": "code",
   "execution_count": null,
   "metadata": {
    "colab": {
     "base_uri": "https://localhost:8080/",
     "height": 518
    },
    "id": "DazB59SgeZ7R",
    "outputId": "5163575a-d843-4fa5-9a1b-0e2af76d11a0"
   },
   "outputs": [],
   "source": [
    "plt.figure(figsize=(20, 8))\n",
    "\n",
    "plt.subplot(1, 2, 1)\n",
    "plt.title('DIstribution Plot', fontsize=title_size)\n",
    "sns.distplot(df_whiteleg_shrimp_add['exchange'], fit=norm);\n",
    "\n",
    "plt.subplot(1, 2, 2)\n",
    "plt.title('Probability Plot', fontsize=title_size)\n",
    "stats.probplot(df_whiteleg_shrimp_add['exchange'], plot=plt)\n",
    "\n",
    "plt.show()"
   ]
  },
  {
   "cell_type": "markdown",
   "metadata": {
    "id": "90t5NZ--eZ7R"
   },
   "source": [
    "#### oil"
   ]
  },
  {
   "cell_type": "code",
   "execution_count": null,
   "metadata": {
    "colab": {
     "base_uri": "https://localhost:8080/",
     "height": 518
    },
    "id": "hjheSMh2eZ7R",
    "outputId": "a20d4925-accc-4216-f901-7b5acc239573"
   },
   "outputs": [],
   "source": [
    "plt.figure(figsize=(20, 8))\n",
    "\n",
    "plt.subplot(1, 2, 1)\n",
    "plt.title('DIstribution Plot', fontsize=title_size)\n",
    "sns.distplot(df_whiteleg_shrimp_add['oil'], fit=norm);\n",
    "\n",
    "plt.subplot(1, 2, 2)\n",
    "plt.title('Probability Plot', fontsize=title_size)\n",
    "stats.probplot(df_whiteleg_shrimp_add['oil'], plot=plt)\n",
    "\n",
    "plt.show()"
   ]
  },
  {
   "cell_type": "markdown",
   "metadata": {
    "id": "Cv89DTYmeZ7R"
   },
   "source": [
    "- Peakedness & Skewedness\n",
    "- Doesn't follow the diagonal line\n",
    "- Use Log Transformation"
   ]
  },
  {
   "cell_type": "code",
   "execution_count": null,
   "metadata": {
    "id": "Kmw4toxJeZ7R"
   },
   "outputs": [],
   "source": [
    "# Log Transformation\n",
    "df_whiteleg_shrimp_add['oil'] = np.log1p(df_whiteleg_shrimp_add['oil'])"
   ]
  },
  {
   "cell_type": "code",
   "execution_count": null,
   "metadata": {
    "colab": {
     "base_uri": "https://localhost:8080/",
     "height": 518
    },
    "id": "9L7msNYHeZ7R",
    "outputId": "0310d297-3464-4937-d260-362aee226171"
   },
   "outputs": [],
   "source": [
    "plt.figure(figsize=(20, 8))\n",
    "\n",
    "plt.subplot(1, 2, 1)\n",
    "plt.title('DIstribution Plot', fontsize=title_size)\n",
    "sns.distplot(df_whiteleg_shrimp_add['oil'], fit=norm);\n",
    "\n",
    "plt.subplot(1, 2, 2)\n",
    "plt.title('Probability Plot', fontsize=title_size)\n",
    "stats.probplot(df_whiteleg_shrimp_add['oil'], plot=plt)\n",
    "\n",
    "plt.show()"
   ]
  },
  {
   "cell_type": "markdown",
   "metadata": {
    "id": "z1KsIFIZeZ7S"
   },
   "source": [
    "#### cpi_total"
   ]
  },
  {
   "cell_type": "code",
   "execution_count": null,
   "metadata": {
    "colab": {
     "base_uri": "https://localhost:8080/",
     "height": 519
    },
    "id": "OMFERtQweZ7S",
    "outputId": "f1b21877-9b21-4068-82aa-439f3c6d6cb2"
   },
   "outputs": [],
   "source": [
    "plt.figure(figsize=(20, 8))\n",
    "\n",
    "plt.subplot(1, 2, 1)\n",
    "plt.title('DIstribution Plot', fontsize=title_size)\n",
    "sns.distplot(df_whiteleg_shrimp_add['cpi_total'], fit=norm);\n",
    "\n",
    "plt.subplot(1, 2, 2)\n",
    "plt.title('Probability Plot', fontsize=title_size)\n",
    "stats.probplot(df_whiteleg_shrimp_add['cpi_total'], plot=plt)\n",
    "\n",
    "plt.show()"
   ]
  },
  {
   "cell_type": "markdown",
   "metadata": {
    "id": "CO8ZS6wleZ7S"
   },
   "source": [
    "- Peakedness & Skewedness\n",
    "- Doesn't follow the diagonal line\n",
    "- Use Log Transformation"
   ]
  },
  {
   "cell_type": "code",
   "execution_count": null,
   "metadata": {
    "id": "iOqVJvz3eZ7S"
   },
   "outputs": [],
   "source": [
    "# Log Transformation\n",
    "df_whiteleg_shrimp_add['cpi_total'] = np.log1p(df_whiteleg_shrimp_add['cpi_total'])"
   ]
  },
  {
   "cell_type": "code",
   "execution_count": null,
   "metadata": {
    "colab": {
     "base_uri": "https://localhost:8080/",
     "height": 519
    },
    "id": "4Gz8qMSzeZ7S",
    "outputId": "1b89674f-731d-43de-b436-18d008906ead"
   },
   "outputs": [],
   "source": [
    "plt.figure(figsize=(20, 8))\n",
    "\n",
    "plt.subplot(1, 2, 1)\n",
    "plt.title('DIstribution Plot', fontsize=title_size)\n",
    "sns.distplot(df_whiteleg_shrimp_add['cpi_total'], fit=norm);\n",
    "\n",
    "plt.subplot(1, 2, 2)\n",
    "plt.title('Probability Plot', fontsize=title_size)\n",
    "stats.probplot(df_whiteleg_shrimp_add['cpi_total'], plot=plt)\n",
    "\n",
    "plt.show()"
   ]
  },
  {
   "cell_type": "markdown",
   "metadata": {
    "id": "uEwJzl7keZ7S"
   },
   "source": [
    "#### cpi_fish"
   ]
  },
  {
   "cell_type": "code",
   "execution_count": null,
   "metadata": {
    "colab": {
     "base_uri": "https://localhost:8080/",
     "height": 519
    },
    "id": "Tw08OGUoeZ7S",
    "outputId": "d15062af-ac8e-4259-a78c-f54a26a824f7"
   },
   "outputs": [],
   "source": [
    "plt.figure(figsize=(20, 8))\n",
    "\n",
    "plt.subplot(1, 2, 1)\n",
    "plt.title('DIstribution Plot', fontsize=title_size)\n",
    "sns.distplot(df_whiteleg_shrimp_add['cpi_fish'], fit=norm);\n",
    "\n",
    "plt.subplot(1, 2, 2)\n",
    "plt.title('Probability Plot', fontsize=title_size)\n",
    "stats.probplot(df_whiteleg_shrimp_add['cpi_fish'], plot=plt)\n",
    "\n",
    "plt.show()"
   ]
  },
  {
   "cell_type": "markdown",
   "metadata": {
    "id": "t0qnxSraeZ7S"
   },
   "source": [
    "- Peakedness & Skewedness\n",
    "- Doesn't follow the diagonal line\n",
    "- Use Log Transformation"
   ]
  },
  {
   "cell_type": "code",
   "execution_count": null,
   "metadata": {
    "id": "DLYOB-XheZ7S"
   },
   "outputs": [],
   "source": [
    "# Log Transformation\n",
    "df_whiteleg_shrimp_add['cpi_fish'] = np.log1p(df_whiteleg_shrimp_add['cpi_fish'])"
   ]
  },
  {
   "cell_type": "code",
   "execution_count": null,
   "metadata": {
    "colab": {
     "base_uri": "https://localhost:8080/",
     "height": 519
    },
    "id": "GNVCxhljeZ7S",
    "outputId": "06dfeb06-f1c1-4aca-d5b0-957b4aa1433b"
   },
   "outputs": [],
   "source": [
    "plt.figure(figsize=(20, 8))\n",
    "\n",
    "plt.subplot(1, 2, 1)\n",
    "plt.title('DIstribution Plot', fontsize=title_size)\n",
    "sns.distplot(df_whiteleg_shrimp_add['cpi_fish'], fit=norm);\n",
    "\n",
    "plt.subplot(1, 2, 2)\n",
    "plt.title('Probability Plot', fontsize=title_size)\n",
    "stats.probplot(df_whiteleg_shrimp_add['cpi_fish'], plot=plt)\n",
    "\n",
    "plt.show()"
   ]
  },
  {
   "cell_type": "markdown",
   "metadata": {
    "id": "Kn1Ne9HEeZ7S"
   },
   "source": [
    "#### wind_kr"
   ]
  },
  {
   "cell_type": "code",
   "execution_count": null,
   "metadata": {
    "colab": {
     "base_uri": "https://localhost:8080/",
     "height": 519
    },
    "id": "G8G3PwbweZ7S",
    "outputId": "eec5f416-6ea9-4071-dd23-c43c5ae92d53"
   },
   "outputs": [],
   "source": [
    "plt.figure(figsize=(20, 8))\n",
    "\n",
    "plt.subplot(1, 2, 1)\n",
    "plt.title('DIstribution Plot', fontsize=title_size)\n",
    "sns.distplot(df_whiteleg_shrimp_add['wind_kr'], fit=norm)\n",
    "\n",
    "plt.subplot(1, 2, 2)\n",
    "plt.title('Probability Plot', fontsize=title_size)\n",
    "stats.probplot(df_whiteleg_shrimp_add['wind_kr'], plot=plt)\n",
    "\n",
    "plt.show()"
   ]
  },
  {
   "cell_type": "markdown",
   "metadata": {
    "id": "mfY6DclzeZ7T"
   },
   "source": [
    "- Peakedness & Skewedness\n",
    "- Doesn't follow the diagonal line\n",
    "- Use Log Transformation"
   ]
  },
  {
   "cell_type": "code",
   "execution_count": null,
   "metadata": {
    "id": "XrhFEY6QeZ7T"
   },
   "outputs": [],
   "source": [
    "# Log Transformation\n",
    "df_whiteleg_shrimp_add['wind_kr'] = np.log1p(df_whiteleg_shrimp_add['wind_kr'])"
   ]
  },
  {
   "cell_type": "code",
   "execution_count": null,
   "metadata": {
    "colab": {
     "base_uri": "https://localhost:8080/",
     "height": 519
    },
    "id": "THtpMnzJeZ7T",
    "outputId": "15014d58-3b20-4628-a61a-32eb43cc2f5b"
   },
   "outputs": [],
   "source": [
    "plt.figure(figsize=(20, 8))\n",
    "\n",
    "plt.subplot(1, 2, 1)\n",
    "plt.title('DIstribution Plot', fontsize=title_size)\n",
    "sns.distplot(df_whiteleg_shrimp_add['wind_kr'], fit=norm);\n",
    "\n",
    "plt.subplot(1, 2, 2)\n",
    "plt.title('Probability Plot', fontsize=title_size)\n",
    "stats.probplot(df_whiteleg_shrimp_add['wind_kr'], plot=plt)\n",
    "\n",
    "plt.show()"
   ]
  },
  {
   "cell_type": "markdown",
   "metadata": {
    "id": "-o-O1l6teZ7T"
   },
   "source": [
    "#### temperature_kr"
   ]
  },
  {
   "cell_type": "code",
   "execution_count": null,
   "metadata": {
    "colab": {
     "base_uri": "https://localhost:8080/",
     "height": 519
    },
    "id": "Ub7HSCKLeZ7V",
    "outputId": "6982db1e-8604-4a73-f180-6a62684deaee"
   },
   "outputs": [],
   "source": [
    "plt.figure(figsize=(20, 8))\n",
    "\n",
    "plt.subplot(1, 2, 1)\n",
    "plt.title('DIstribution Plot', fontsize=title_size)\n",
    "sns.distplot(df_whiteleg_shrimp_add['temperature_kr'], fit=norm);\n",
    "\n",
    "plt.subplot(1, 2, 2)\n",
    "plt.title('Probability Plot', fontsize=title_size)\n",
    "stats.probplot(df_whiteleg_shrimp_add['temperature_kr'], plot=plt)\n",
    "\n",
    "plt.show()"
   ]
  },
  {
   "cell_type": "markdown",
   "metadata": {
    "id": "PZ2KuBCVeZ7V"
   },
   "source": [
    "- Standard Distribution"
   ]
  },
  {
   "cell_type": "markdown",
   "metadata": {
    "id": "7xQrBCaweZ7V"
   },
   "source": [
    "#### water_temp_kr"
   ]
  },
  {
   "cell_type": "code",
   "execution_count": null,
   "metadata": {
    "colab": {
     "base_uri": "https://localhost:8080/",
     "height": 519
    },
    "id": "5UBS22hOeZ7V",
    "outputId": "4acc309a-bf5f-47a0-fe6c-063629e5b71b"
   },
   "outputs": [],
   "source": [
    "plt.figure(figsize=(20, 8))\n",
    "\n",
    "plt.subplot(1, 2, 1)\n",
    "plt.title('DIstribution Plot', fontsize=title_size)\n",
    "sns.distplot(df_whiteleg_shrimp_add['water_temp_kr'], fit=norm);\n",
    "\n",
    "plt.subplot(1, 2, 2)\n",
    "plt.title('Probability Plot', fontsize=title_size)\n",
    "stats.probplot(df_whiteleg_shrimp_add['water_temp_kr'], plot=plt)\n",
    "\n",
    "plt.show()"
   ]
  },
  {
   "cell_type": "markdown",
   "metadata": {
    "id": "_iYDYZoueZ7V"
   },
   "source": [
    "- Peakedness & Skewedness\n",
    "- Doesn't follow the diagonal line\n",
    "- Use Log Transformation"
   ]
  },
  {
   "cell_type": "code",
   "execution_count": null,
   "metadata": {
    "id": "GeM1lYwaeZ7V"
   },
   "outputs": [],
   "source": [
    "# Log Transformation\n",
    "df_whiteleg_shrimp_add['water_temp_kr'] = np.log1p(df_whiteleg_shrimp_add['water_temp_kr'])"
   ]
  },
  {
   "cell_type": "code",
   "execution_count": null,
   "metadata": {
    "colab": {
     "base_uri": "https://localhost:8080/",
     "height": 519
    },
    "id": "mgDudvZreZ7V",
    "outputId": "59f8d873-5031-4746-e120-58b8bce61834"
   },
   "outputs": [],
   "source": [
    "plt.figure(figsize=(20, 8))\n",
    "\n",
    "plt.subplot(1, 2, 1)\n",
    "plt.title('DIstribution Plot', fontsize=title_size)\n",
    "sns.distplot(df_whiteleg_shrimp_add['water_temp_kr'], fit=norm);\n",
    "\n",
    "plt.subplot(1, 2, 2)\n",
    "plt.title('Probability Plot', fontsize=title_size)\n",
    "stats.probplot(df_whiteleg_shrimp_add['water_temp_kr'], plot=plt)\n",
    "\n",
    "plt.show()"
   ]
  },
  {
   "cell_type": "markdown",
   "metadata": {
    "id": "oZbujoLOfSs7"
   },
   "source": [
    "## Feature Selection (by Correlation)"
   ]
  },
  {
   "cell_type": "code",
   "execution_count": null,
   "metadata": {
    "colab": {
     "base_uri": "https://localhost:8080/",
     "height": 663
    },
    "id": "16nHI4Q8fSs7",
    "outputId": "dceca642-f6dd-4c68-d8c7-66728b9d83a7"
   },
   "outputs": [],
   "source": [
    "plt.figure(figsize=(15,10))\n",
    "\n",
    "sns.heatmap(df_whiteleg_shrimp_add.corr(), annot=True, cmap=plt.cm.Reds)\n",
    "plt.show()"
   ]
  },
  {
   "cell_type": "markdown",
   "metadata": {
    "id": "YN0ovxZ4fSs8"
   },
   "source": [
    "- P_PRICE 와 상관계수가 큰 변수\n",
    "    - 없음\n",
    "\n",
    "- 서로간 상관계수가 큰 변수\n",
    "    - rain & temperature_kr & temperature & water_temp_kr & wind_kr\n",
    "    - oil & cpi_total & cpi_fish\n",
    "    \n",
    "temperature_kr & water_temp_kr 평균 사용\n",
    "\n",
    "cpi_fish / cpi_total 사용"
   ]
  },
  {
   "cell_type": "code",
   "execution_count": null,
   "metadata": {
    "id": "ro8GoaPRfSs8"
   },
   "outputs": [],
   "source": [
    "df_whiteleg_shrimp_add['temp_kr'] = (df_whiteleg_shrimp_add['temperature_kr'] + df_whiteleg_shrimp_add['water_temp_kr'] + df_whiteleg_shrimp_add['wind_kr']) / 3\n",
    "df_whiteleg_shrimp_add['cpi'] = df_whiteleg_shrimp_add['cpi_fish'] / df_whiteleg_shrimp_add['cpi_total'] "
   ]
  },
  {
   "cell_type": "code",
   "execution_count": null,
   "metadata": {
    "id": "L1Bkooo2fSs8"
   },
   "outputs": [],
   "source": [
    "df_whiteleg_shrimp_add.drop(columns=['temperature_kr', 'cpi_fish', 'water_temp_kr','wind_kr' ,'cpi_total'], axis=1, inplace=True)"
   ]
  },
  {
   "cell_type": "markdown",
   "metadata": {
    "id": "B8kWuFH4fSs8"
   },
   "source": [
    "### Train"
   ]
  },
  {
   "cell_type": "code",
   "execution_count": null,
   "metadata": {
    "colab": {
     "base_uri": "https://localhost:8080/",
     "height": 604
    },
    "id": "erK_FM8rfSs8",
    "outputId": "abab44bf-07cc-4265-a7d4-736e9eed7867"
   },
   "outputs": [],
   "source": [
    "model12 = train_model(df_whiteleg_shrimp_add.drop(columns=['P_PRICE']), df_whiteleg_shrimp_add['P_PRICE'])"
   ]
  },
  {
   "cell_type": "code",
   "execution_count": null,
   "metadata": {
    "colab": {
     "base_uri": "https://localhost:8080/"
    },
    "id": "4FwIBVoUfSs8",
    "outputId": "ec233efb-3513-43de-8fe9-92c7c7f32ab6"
   },
   "outputs": [],
   "source": [
    "t12 = print_importance(model12, df_whiteleg_shrimp_add, ['temp_kr','cpi'])"
   ]
  },
  {
   "cell_type": "markdown",
   "metadata": {
    "id": "6NkBJzUzfSs8"
   },
   "source": [
    "정확도가 감소한 것을 확인할 수 있다  \n",
    "그러나 다중공선성 문제를 피하기 위해서는 어쩔 수 없다"
   ]
  },
  {
   "cell_type": "markdown",
   "metadata": {
    "id": "88cd1l7Hgm-H"
   },
   "source": [
    "## Final DF"
   ]
  },
  {
   "cell_type": "code",
   "execution_count": null,
   "metadata": {
    "id": "c1MTDz-sgm-I"
   },
   "outputs": [],
   "source": [
    "df_final_whiteleg_shrimp = df_whiteleg_shrimp_add.copy()"
   ]
  },
  {
   "cell_type": "markdown",
   "metadata": {
    "id": "_Y1cVMxl-Qsm"
   },
   "source": [
    "# Save"
   ]
  },
  {
   "cell_type": "code",
   "execution_count": null,
   "metadata": {
    "id": "LRL2Zm8m-R9b"
   },
   "outputs": [],
   "source": [
    "df_final_squid.to_csv(os.path.join(root, \"final_squid.csv\"), encoding='utf-8', index=False)\n",
    "df_final_salmon.to_csv(os.path.join(root, \"final_salmon.csv\"), encoding='utf-8', index=False)\n",
    "df_final_whiteleg_shrimp.to_csv(os.path.join(root, \"final_whiteleg_shrimp.csv\"), encoding='utf-8', index=False)"
   ]
  }
 ],
 "metadata": {
  "colab": {
   "collapsed_sections": [],
   "name": "3-2. 전처리 가설 검증 (추가 데이터 -  oil, weather_korea, cpi, weather, exchange).ipynb",
   "provenance": [],
   "toc_visible": true
  },
  "kernelspec": {
   "display_name": "Python 3",
   "language": "python",
   "name": "python3"
  },
  "language_info": {
   "codemirror_mode": {
    "name": "ipython",
    "version": 3
   },
   "file_extension": ".py",
   "mimetype": "text/x-python",
   "name": "python",
   "nbconvert_exporter": "python",
   "pygments_lexer": "ipython3",
   "version": "3.8.11"
  }
 },
 "nbformat": 4,
 "nbformat_minor": 1
}
