{
  "nbformat": 4,
  "nbformat_minor": 0,
  "metadata": {
    "colab": {
      "name": "exchange_vit.ipynb",
      "provenance": []
    },
    "kernelspec": {
      "name": "python3",
      "display_name": "Python 3"
    },
    "language_info": {
      "name": "python"
    }
  },
  "cells": [
    {
      "cell_type": "code",
      "metadata": {
        "id": "ZY2e591epN6D"
      },
      "source": [
        "import pandas as pd"
      ],
      "execution_count": 1,
      "outputs": []
    },
    {
      "cell_type": "code",
      "metadata": {
        "id": "-sOauf5qkdO4"
      },
      "source": [
        "path = '/content/drive/MyDrive/USD_VND 내역.csv'"
      ],
      "execution_count": 2,
      "outputs": []
    },
    {
      "cell_type": "code",
      "metadata": {
        "id": "cGs-X1SbBPis"
      },
      "source": [
        "data = pd.read_csv(path)"
      ],
      "execution_count": 3,
      "outputs": []
    },
    {
      "cell_type": "code",
      "metadata": {
        "colab": {
          "base_uri": "https://localhost:8080/"
        },
        "id": "bf8wXW3bBUOh",
        "outputId": "3236447c-038b-4994-c091-2afecee43b2d"
      },
      "source": [
        "data.info()"
      ],
      "execution_count": 4,
      "outputs": [
        {
          "output_type": "stream",
          "text": [
            "<class 'pandas.core.frame.DataFrame'>\n",
            "RangeIndex: 1424 entries, 0 to 1423\n",
            "Data columns (total 6 columns):\n",
            " #   Column  Non-Null Count  Dtype \n",
            "---  ------  --------------  ----- \n",
            " 0   날짜      1424 non-null   object\n",
            " 1   종가      1424 non-null   object\n",
            " 2   오픈      1424 non-null   object\n",
            " 3   고가      1424 non-null   object\n",
            " 4   저가      1424 non-null   object\n",
            " 5   변동 %    1424 non-null   object\n",
            "dtypes: object(6)\n",
            "memory usage: 66.9+ KB\n"
          ],
          "name": "stdout"
        }
      ]
    },
    {
      "cell_type": "code",
      "metadata": {
        "id": "v-1CAT2zBiYP"
      },
      "source": [
        "data.columns.tolist()\n",
        "\n",
        "lst = []\n",
        "for date in list(data['날짜']):\n",
        "  replace_ = date.replace('년','-').replace('월','-').replace('일','').replace(' ','')\n",
        "  lst.append(replace_)\n",
        "\n",
        "data.drop('날짜',axis=1,inplace=True)"
      ],
      "execution_count": 5,
      "outputs": []
    },
    {
      "cell_type": "code",
      "metadata": {
        "id": "UYzMIfzhBY1p"
      },
      "source": [
        "date = pd.Series(lst)\n",
        "data = pd.concat([date, data], axis=1)\n",
        "data.columns = ['날짜', '종가', '오픈', '고가', '저가', '변동 %']\n",
        "data['날짜'] = pd.to_datetime(data['날짜'])"
      ],
      "execution_count": 6,
      "outputs": []
    },
    {
      "cell_type": "code",
      "metadata": {
        "id": "VVgbbZeaBmnd"
      },
      "source": [
        "for col in data.columns.tolist()[2:]:\n",
        "  data.drop(col, axis=1, inplace=True)"
      ],
      "execution_count": 7,
      "outputs": []
    },
    {
      "cell_type": "code",
      "metadata": {
        "id": "dr7cvOZaCSq6"
      },
      "source": [
        "data['종가'] = data['종가'].str.replace(',','').replace('.','').str.replace('.','')\n",
        "data['종가'] = data['종가'].astype(float)"
      ],
      "execution_count": 8,
      "outputs": []
    },
    {
      "cell_type": "code",
      "metadata": {
        "colab": {
          "base_uri": "https://localhost:8080/"
        },
        "id": "391yDUmhC25b",
        "outputId": "e71eff8b-8d02-4155-cea7-244bc07125fa"
      },
      "source": [
        "def fix_price(df):\n",
        "  df['종가'] = df['종가'] * 0.1\n",
        "\n",
        "  return df['종가']\n",
        "\n",
        "\n",
        "def change_price(df):\n",
        "  df['종가'] = 1 / fix_price(data)\n",
        "\n",
        "  return df['종가']\n",
        "\n",
        "change_price(data)"
      ],
      "execution_count": 9,
      "outputs": [
        {
          "output_type": "execute_result",
          "data": {
            "text/plain": [
              "0       0.000043\n",
              "1       0.000043\n",
              "2       0.000043\n",
              "3       0.000043\n",
              "4       0.000043\n",
              "          ...   \n",
              "1419    0.000044\n",
              "1420    0.000044\n",
              "1421    0.000045\n",
              "1422    0.000044\n",
              "1423    0.000044\n",
              "Name: 종가, Length: 1424, dtype: float64"
            ]
          },
          "metadata": {},
          "execution_count": 9
        }
      ]
    },
    {
      "cell_type": "code",
      "metadata": {
        "id": "ct0S4cGEC3k6"
      },
      "source": [
        "#data.to_csv('/content/drive/MyDrive/exchange_vit_final.csv')"
      ],
      "execution_count": 33,
      "outputs": []
    }
  ]
}