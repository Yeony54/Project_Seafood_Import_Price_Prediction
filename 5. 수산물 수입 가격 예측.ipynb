{
 "cells": [
  {
   "cell_type": "markdown",
   "metadata": {},
   "source": [
    "# Setting"
   ]
  },
  {
   "cell_type": "code",
   "execution_count": 1,
   "metadata": {},
   "outputs": [],
   "source": [
    "# Import Libraries & Functions\n",
    "from utility import *"
   ]
  },
  {
   "cell_type": "code",
   "execution_count": 2,
   "metadata": {},
   "outputs": [],
   "source": [
    "# Turn off warnings\n",
    "warnings.filterwarnings('ignore')\n",
    "%matplotlib inline"
   ]
  },
  {
   "cell_type": "code",
   "execution_count": 3,
   "metadata": {},
   "outputs": [],
   "source": [
    "# Visualization Setting\n",
    "color_palette = 'Set3'\n",
    "title_size = 20\n",
    "sns.set_style(\"whitegrid\")\n",
    "plt.rcParams['font.family'] = 'NanumGothic'"
   ]
  },
  {
   "cell_type": "markdown",
   "metadata": {},
   "source": [
    "# Import Data"
   ]
  },
  {
   "cell_type": "code",
   "execution_count": 4,
   "metadata": {},
   "outputs": [],
   "source": [
    "path = os.path.join(os.path.dirname(os.getcwd()), \"평가데이터\", \"데이터분석분야_챔피언스리그_수산Biz_고래왕_평가데이터.xlsx\")"
   ]
  },
  {
   "cell_type": "code",
   "execution_count": 5,
   "metadata": {},
   "outputs": [],
   "source": [
    "df_squid = pd.read_excel(path, usecols=\"A:C\")\n",
    "df_salmon = pd.read_excel(path, usecols=\"F:H\")\n",
    "df_shrimp = pd.read_excel(path, usecols=\"K:M\")"
   ]
  },
  {
   "cell_type": "code",
   "execution_count": 6,
   "metadata": {},
   "outputs": [],
   "source": [
    "df_train = pd.read_excel(os.path.join(os.getcwd(), 'DATA', 'train.xlsx'))"
   ]
  },
  {
   "cell_type": "code",
   "execution_count": 7,
   "metadata": {},
   "outputs": [],
   "source": [
    "df_preprocessed = pd.read_csv(os.path.join(os.getcwd(), 'DATA', 'preprocessed_train_notencoded.csv'))\n",
    "df_preprocessed2 = pd.read_csv(os.path.join(os.getcwd(), 'DATA', 'preprocessed_train_2.csv'))\n",
    "df_weather_kr = pd.read_csv(os.path.join(os.getcwd(), 'DATA', 'preprocessed_weather_korea.csv'))\n",
    "df_cpi = pd.read_csv(os.path.join(os.getcwd(), 'DATA', 'preprocessed_cpi.csv'))\n",
    "df_weather = pd.read_csv(os.path.join(os.getcwd(), 'DATA', 'preprocessed_weather.csv'))"
   ]
  },
  {
   "cell_type": "markdown",
   "metadata": {},
   "source": [
    "### add salmon weather data\n"
   ]
  },
  {
   "cell_type": "code",
   "execution_count": 8,
   "metadata": {},
   "outputs": [],
   "source": [
    "df_nor = pd.read_csv(os.path.join(os.getcwd(), 'DATA', 'nor.csv'))"
   ]
  },
  {
   "cell_type": "code",
   "execution_count": 9,
   "metadata": {},
   "outputs": [],
   "source": [
    "df_nor.rename(columns={'풍속': 'wind', '강수량': 'rain', '기온': 'temperature'}, inplace=True)\n",
    "df_nor[\"CTRY_1\"] = '노르웨이'\n",
    "set_week(df_nor, '일자')"
   ]
  },
  {
   "cell_type": "code",
   "execution_count": 10,
   "metadata": {},
   "outputs": [],
   "source": [
    "df_weather = pd.concat([df_weather, df_nor])"
   ]
  },
  {
   "cell_type": "markdown",
   "metadata": {},
   "source": [
    "# 평가데이터 형태 조정"
   ]
  },
  {
   "cell_type": "code",
   "execution_count": 11,
   "metadata": {},
   "outputs": [],
   "source": [
    "def set_like_train(df):\n",
    "    df.rename(columns={df.columns[0]: 'CATEGORY_2', df.columns[1]: 'P_NAME', df.columns[2]: '일자'}, inplace=True)\n",
    "    name = df['P_NAME'][0]  # 상세어종\n",
    "    df_base = df_train[(df_train['P_NAME'] == name\n",
    "                       ) &\n",
    "                        # 제조국\n",
    "                        ((df_train['CTRY_1'] == \"칠레\") |\n",
    "                        (df_train['CTRY_1'] == \"중국\") |\n",
    "                        (df_train['CTRY_1'] == \"노르웨이\") |\n",
    "                        (df_train['CTRY_1'] == \"태국\") | \n",
    "                        (df_train['CTRY_1'] == \"베트남\")\n",
    "                        ) & (\n",
    "                        # 수출국\n",
    "                        (df_train['CTRY_2'] == \"칠레\") |\n",
    "                        (df_train['CTRY_2'] == \"중국\") | \n",
    "                        (df_train['CTRY_2'] == \"노르웨이\") |\n",
    "                        (df_train['CTRY_2'] == \"태국\") | \n",
    "                        (df_train['CTRY_2'] == \"베트남\") |\n",
    "                        (df_train['CTRY_2'] == \"페루\")\n",
    "                        )]\n",
    "    \n",
    "    set_week(df, '일자')\n",
    "    df['CATEGORY_1'] = df_base.CATEGORY_1.unique()[0]\n",
    "    df['CATEGORY_2'] = df['CATEGORY_2'][0]\n",
    "    df['P_NAME'] = name\n",
    "    df['P_PURPOSE'] = df_base['P_PURPOSE'].value_counts().index[0]\n",
    "    df['P_IMPORT_TYPE'] = df_base['P_IMPORT_TYPE'].value_counts().index[0]\n",
    "    df['CTRY_1'] = df_base['CTRY_1'].value_counts().index[0]\n",
    "    df['CTRY_2'] = df_base['CTRY_2'].value_counts().index[0]\n"
   ]
  },
  {
   "cell_type": "code",
   "execution_count": 12,
   "metadata": {},
   "outputs": [],
   "source": [
    "set_like_train(df_squid)\n",
    "set_like_train(df_salmon)\n",
    "set_like_train(df_shrimp)"
   ]
  },
  {
   "cell_type": "markdown",
   "metadata": {},
   "source": [
    "# Preprocessing"
   ]
  },
  {
   "cell_type": "code",
   "execution_count": 13,
   "metadata": {},
   "outputs": [],
   "source": [
    "def preprocess(df):\n",
    "    df_base = df_preprocessed[(df_preprocessed['P_NAME'] == df['P_NAME'][0]) &\n",
    "                                       (df_preprocessed['CTRY_1'] == df['CTRY_1'][0]) &\n",
    "                                       (df_preprocessed['CTRY_2'] == df['CTRY_2'][0]) &\n",
    "                                       (df_preprocessed['P_PURPOSE'] == df['P_PURPOSE'][0])]\n",
    "    # 파생변수 추가\n",
    "    df['ctry1_cnt'] = df_base['ctry1_cnt'].iloc[0]\n",
    "    df['purpose_cnt'] = df_base['purpose_cnt'].iloc[0]\n",
    "    df['category1_cnt'] = df_base['category1_cnt'].iloc[0]\n",
    "    df['category2_cnt'] = df_base['category2_cnt'].iloc[0]\n",
    "    df['name_cnt'] = df_base['name_cnt'].iloc[0]\n",
    "    df['is_processed'] = df_base['is_processed'].iloc[0]\n",
    "    df['import_cnt'] = df_base['import_cnt'].mean()\n",
    "    import_type_list = set()\n",
    "    for tmp in df.P_IMPORT_TYPE.unique():\n",
    "        for a in tmp.split(','):\n",
    "            import_type_list.add(a)    \n",
    "    for name in import_type_list:\n",
    "        df[name] = 0\n",
    "        df.loc[df['P_IMPORT_TYPE'].str.contains(name, regex=False), name] = 1\n",
    "\n",
    "    # 데이터 추가\n",
    "    df = pd.merge(df, df_weather_kr, on=['year', 'week'], how='left')\n",
    "    df = pd.merge(df, df_weather, on=['year', 'week', 'CTRY_1'], how='left')\n",
    "    df = pd.merge(df, df_cpi, on=['year', 'week'], how='left')\n",
    "\n",
    "    # Grouping\n",
    "    df['temp_kr'] = (df['temperature_kr'] + df['water_temp_kr']) / 2\n",
    "    df['temp'] = (df['rain'] + df['temperature']) / 2\n",
    "    \n",
    "    # 정규화\n",
    "    standardization = ['name_cnt', 'import_cnt', 'wind', ]\n",
    "    standardization.extend(['wind', 'rain'])\n",
    "    for column in standardization:\n",
    "        df[column] = np.log1p(df[column])\n",
    "        \n",
    "    # Scaling\n",
    "    df['temp_kr'] = (df['temp_kr'] - np.mean(df['temp_kr'])) / df['temp_kr'].std()\n",
    "    df['temp'] = (df['temp'] - np.mean(df['temp'])) / df['temp'].std()\n",
    "    \n",
    "    # One Hot Encoding\n",
    "    one_hot = ['CTRY_1', 'CTRY_2', 'P_PURPOSE', 'P_NAME', 'CATEGORY_1', 'CATEGORY_2']\n",
    "    df = pd.get_dummies(df, columns=one_hot)\n",
    "    \n",
    "    # Drop\n",
    "    drop_columns = ['cpi_fish', 'temperature_kr', 'water_temp_kr', 'rain', 'temperature', 'P_IMPORT_TYPE']\n",
    "    df.drop(columns=drop_columns, axis=1, inplace=True)\n",
    "    \n",
    "    # Add other one-hot-encoded columns\n",
    "    for column in df_preprocessed2.columns:\n",
    "        if column == \"P_PRICE\":\n",
    "            continue\n",
    "        if column not in df.columns:\n",
    "            df[column] = 0\n",
    "    \n",
    "    return df"
   ]
  },
  {
   "cell_type": "code",
   "execution_count": 14,
   "metadata": {},
   "outputs": [],
   "source": [
    "df_squid = preprocess(df_squid)\n",
    "df_salmon = preprocess(df_salmon)\n",
    "df_shrimp = preprocess(df_shrimp)"
   ]
  },
  {
   "cell_type": "markdown",
   "metadata": {},
   "source": [
    "### Prepare for LGBM"
   ]
  },
  {
   "cell_type": "code",
   "execution_count": 15,
   "metadata": {},
   "outputs": [],
   "source": [
    "import re\n",
    "df_squid = df_squid.rename(columns = lambda x:re.sub(',', '', x))\n",
    "df_salmon = df_salmon.rename(columns = lambda x:re.sub(',', '', x))\n",
    "df_shrimp = df_shrimp.rename(columns = lambda x:re.sub(',', '', x))\n",
    "df_preprocessed2 = df_preprocessed2.rename(columns = lambda x:re.sub(',', '', x))"
   ]
  },
  {
   "cell_type": "markdown",
   "metadata": {},
   "source": [
    "# Train model"
   ]
  },
  {
   "cell_type": "code",
   "execution_count": 16,
   "metadata": {},
   "outputs": [],
   "source": [
    "models = []"
   ]
  },
  {
   "cell_type": "markdown",
   "metadata": {},
   "source": [
    "### Gradient"
   ]
  },
  {
   "cell_type": "code",
   "execution_count": 17,
   "metadata": {},
   "outputs": [],
   "source": [
    "model_gradient1 = GradientBoostingRegressor(learning_rate=0.01825, max_depth=1034, min_samples_split=4374, n_estimators=784, subsample=0.35)"
   ]
  },
  {
   "cell_type": "code",
   "execution_count": 18,
   "metadata": {},
   "outputs": [
    {
     "data": {
      "text/plain": [
       "GradientBoostingRegressor(learning_rate=0.01825, max_depth=1034,\n",
       "                          min_samples_split=4374, n_estimators=784,\n",
       "                          subsample=0.35)"
      ]
     },
     "execution_count": 18,
     "metadata": {},
     "output_type": "execute_result"
    }
   ],
   "source": [
    "model_gradient1.fit(df_preprocessed2.drop(columns=['P_PRICE'], axis=1), df_preprocessed2['P_PRICE'])"
   ]
  },
  {
   "cell_type": "code",
   "execution_count": 19,
   "metadata": {},
   "outputs": [],
   "source": [
    "models.append(model_gradient1)"
   ]
  },
  {
   "cell_type": "markdown",
   "metadata": {},
   "source": [
    "### XGBoost"
   ]
  },
  {
   "cell_type": "code",
   "execution_count": 20,
   "metadata": {},
   "outputs": [],
   "source": [
    "model_xgb = XGBRegressor(n_estimators=500, min_child_weight=50, max_depth=25, learning_rate=0.012385)"
   ]
  },
  {
   "cell_type": "code",
   "execution_count": 21,
   "metadata": {},
   "outputs": [
    {
     "data": {
      "text/plain": [
       "XGBRegressor(base_score=0.5, booster='gbtree', colsample_bylevel=1,\n",
       "             colsample_bynode=1, colsample_bytree=1, gamma=0, gpu_id=-1,\n",
       "             importance_type='gain', interaction_constraints='',\n",
       "             learning_rate=0.012385, max_delta_step=0, max_depth=25,\n",
       "             min_child_weight=50, missing=nan, monotone_constraints='()',\n",
       "             n_estimators=500, n_jobs=4, num_parallel_tree=1, random_state=0,\n",
       "             reg_alpha=0, reg_lambda=1, scale_pos_weight=1, subsample=1,\n",
       "             tree_method='exact', validate_parameters=1, verbosity=None)"
      ]
     },
     "execution_count": 21,
     "metadata": {},
     "output_type": "execute_result"
    }
   ],
   "source": [
    "model_xgb.fit(df_preprocessed2.drop(columns=['P_PRICE'], axis=1), df_preprocessed2['P_PRICE'])"
   ]
  },
  {
   "cell_type": "code",
   "execution_count": 22,
   "metadata": {},
   "outputs": [],
   "source": [
    "models.append(model_xgb)"
   ]
  },
  {
   "cell_type": "markdown",
   "metadata": {},
   "source": [
    "### LGBM"
   ]
  },
  {
   "cell_type": "code",
   "execution_count": 23,
   "metadata": {},
   "outputs": [],
   "source": [
    "model_lgbm1 = LGBMRegressor(learning_rate=0.5, max_depth=2, min_child_samples=424,\n",
    "                            min_child_weight=0.001, n_estimators=3338, num_leaves=2748)"
   ]
  },
  {
   "cell_type": "code",
   "execution_count": 24,
   "metadata": {},
   "outputs": [
    {
     "data": {
      "text/plain": [
       "LGBMRegressor(learning_rate=0.5, max_depth=2, min_child_samples=424,\n",
       "              n_estimators=3338, num_leaves=2748)"
      ]
     },
     "execution_count": 24,
     "metadata": {},
     "output_type": "execute_result"
    }
   ],
   "source": [
    "model_lgbm1.fit(df_preprocessed2.drop(columns=['P_PRICE'], axis=1), df_preprocessed2['P_PRICE'])"
   ]
  },
  {
   "cell_type": "code",
   "execution_count": 25,
   "metadata": {},
   "outputs": [],
   "source": [
    "models.append(model_lgbm1)"
   ]
  },
  {
   "cell_type": "markdown",
   "metadata": {},
   "source": [
    "# Predict P_PRICE"
   ]
  },
  {
   "cell_type": "code",
   "execution_count": 26,
   "metadata": {},
   "outputs": [],
   "source": [
    "# Predictions\n",
    "squid, salmon, shrimp = [], [], []"
   ]
  },
  {
   "cell_type": "code",
   "execution_count": 27,
   "metadata": {},
   "outputs": [],
   "source": [
    "for model in models:\n",
    "    squid.append(model.predict(df_squid))"
   ]
  },
  {
   "cell_type": "code",
   "execution_count": 28,
   "metadata": {},
   "outputs": [],
   "source": [
    "for model in models:\n",
    "    salmon.append(model.predict(df_salmon))"
   ]
  },
  {
   "cell_type": "code",
   "execution_count": 29,
   "metadata": {},
   "outputs": [],
   "source": [
    "for model in models:\n",
    "    shrimp.append(model.predict(df_shrimp))"
   ]
  },
  {
   "cell_type": "markdown",
   "metadata": {},
   "source": [
    "### Transform & Average out"
   ]
  },
  {
   "cell_type": "code",
   "execution_count": 30,
   "metadata": {},
   "outputs": [],
   "source": [
    "def get_prediction(arr):\n",
    "    return list(sum(list(np.expm1(arr[j][i]) for j in range(len(arr)))) / len(arr) for i in range(len(arr[0])))"
   ]
  },
  {
   "cell_type": "code",
   "execution_count": 31,
   "metadata": {},
   "outputs": [],
   "source": [
    "squid_final = get_prediction(squid)\n",
    "salmon_final = get_prediction(salmon)\n",
    "shrimp_final = get_prediction(shrimp)"
   ]
  },
  {
   "cell_type": "markdown",
   "metadata": {},
   "source": [
    "# Visualization"
   ]
  },
  {
   "cell_type": "code",
   "execution_count": 63,
   "metadata": {},
   "outputs": [],
   "source": [
    "vis = pd.DataFrame(columns=['squid', 'salmon', 'shrimp'], )"
   ]
  },
  {
   "cell_type": "code",
   "execution_count": 74,
   "metadata": {},
   "outputs": [],
   "source": [
    "for i in range(len(squid_final)):\n",
    "    vis = vis.append({'squid': squid_final[i], 'salmon': salmon_final[i], 'shrimp': shrimp_final[i]}, ignore_index=True)"
   ]
  },
  {
   "cell_type": "code",
   "execution_count": 82,
   "metadata": {},
   "outputs": [
    {
     "data": {
      "image/png": "[encoded data removed]",
      "text/plain": [
       "<Figure size 1080x864 with 1 Axes>"
      ]
     },
     "metadata": {},
     "output_type": "display_data"
    }
   ],
   "source": [
    "x = plt.figure(figsize=(15, 12))\n",
    "sns.lineplot(data=vis)\n",
    "save_img(x, \"prediction\")"
   ]
  }
 ],
 "metadata": {
  "kernelspec": {
   "display_name": "Python 3",
   "language": "python",
   "name": "python3"
  },
  "language_info": {
   "codemirror_mode": {
    "name": "ipython",
    "version": 3
   },
   "file_extension": ".py",
   "mimetype": "text/x-python",
   "name": "python",
   "nbconvert_exporter": "python",
   "pygments_lexer": "ipython3",
   "version": "3.8.3"
  }
 },
 "nbformat": 4,
 "nbformat_minor": 4
}
