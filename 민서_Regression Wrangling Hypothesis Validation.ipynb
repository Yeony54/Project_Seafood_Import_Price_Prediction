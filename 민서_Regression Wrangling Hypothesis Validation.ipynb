{
 "cells": [
  {
   "cell_type": "markdown",
   "metadata": {},
   "source": [
    "# Import Library"
   ]
  },
  {
   "cell_type": "code",
   "execution_count": 8,
   "metadata": {},
   "outputs": [],
   "source": [
    "# Import Libraries\n",
    "import os\n",
    "import pandas as pd\n",
    "import numpy as np\n",
    "from scipy.stats import norm\n",
    "from sklearn.preprocessing import StandardScaler\n",
    "from scipy import stats\n",
    "import warnings\n",
    "warnings.filterwarnings('ignore')\n",
    "%matplotlib inline\n",
    "\n",
    "# Visuzliation Setting\n",
    "import matplotlib.pyplot as plt\n",
    "import matplotlib.font_manager as fm\n",
    "from matplotlib import rc\n",
    "from matplotlib import colors\n",
    "import seaborn as sns"
   ]
  },
  {
   "cell_type": "markdown",
   "metadata": {},
   "source": [
    "---"
   ]
  },
  {
   "cell_type": "markdown",
   "metadata": {},
   "source": [
    "# Wrangling Hypothesis\n",
    "### 기본 전처리로 포함되어야 할 부분\n",
    "1. Categorical values need one hot encoding\n",
    "2. \n",
    "\n",
    "### 날짜\n",
    "날짜를 year, month, day 로 처리하면 결국 int형 데이터가 되는데, 정량적으로 의미 없는 숫자가 악영향을 끼칠 수도 있지 않을까  \n",
    "- datetime 형식으로 가져가기\n",
    "    - 시계열 분석을 사용하는 것이 아니므로 제외한다\n",
    "- year, month, day int형으로 가져가기\n",
    "- 날짜와 관련있는 데이터를 다 넣어준 후(ex. 2015/09/15 노르웨이 기온 추가 후) 날짜 데이터 제거하기\n",
    "- 날짜 데이터도 one hot encoding (2015년이다/아니다, 05월이다/아니다..)\n",
    "> 1. year, month, day 유지한 dataframe\n",
    "> 2. 날짜 데이터 제거한 dataframe\n",
    "> 3. 날짜 데이터를 카테고리 변수화 하여 one hot encoding 한 dataframe\n",
    "> 4. 분기별로 월을 분류하여 계절성을 부여한 dataframe\n",
    "\n",
    "### 어종별 수\n",
    "어종(P_NAME)에 따라서 수 차이가 있는데, 이를 수치화하여 새로운 데이터로 사용할 수 있다  \n",
    "- P_NAME만 사용하기\n",
    "- 어종별 수 세려서 새로운 컬럼 만들기\n",
    "> 1. 기본 dataframe\n",
    "> 2. 어종별 수를 고려한 dataframe\n",
    "\n",
    "### 카테고리\n",
    "어종 카테고리가 대분류, 중분류, 소분류 (CATEGORY_1, CATEGORY_2, P_NAME)으로 계츨 구조를 가지고 있다  \n",
    "이를 어떻게 처리해야할까  \n",
    "- 대분류에서 끊기\n",
    "- 별개의 변수로 생각하여 소분류까지 포함하기\n",
    "- 소분류만 사용하기\n",
    "> 1. 기본 dataframe\n",
    "> 2. CATEGORY_1 만 사용한 dataframe\n",
    "> 3. P_NAME 만 사용한 dataframe\n",
    "\n",
    "### 수입용도\n",
    "P_IMPORT_TYPE 는 여러개의 수입 용도가 concate 되어 들어오므로 이를 분리하여 생각해야 한다  \n",
    "- 여러개의 수입 용도를 가지는 품목의 경우 영향을 끼칠 수 있다고 생각\n",
    "> 1. 기본 dataframe\n",
    "> 2. P_IMPORT_TYPE의 수를 세린 컬럼을 추가한 dataframe\n",
    "\n",
    "### 날씨\n",
    "- 결측치 처리 방식 (fillna() 함수의 method 선택)\n",
    "- 결측치 처리 시점 (raw_data 상태, 나라별 묶은 후, 최종 데이터)\n",
    "- outlier 검출 방식 (정규화 후 끝부분 자르기, 나라별 최저/최고 기온 검색하여 처리)\n",
    "- 해안가만 추출하기  \n",
    "[pandas.DataFrame.fillna](https://pandas.pydata.org/docs/reference/api/pandas.DataFrame.fillna.html)  \n",
    "*method: 어떻게 NaN을 채울 것인가 결정  \n",
    "limit: NaN 연속 몇개까지 채워줄 것인가 결정*  \n",
    "> 1. fillna(method=ffill) 사용\n",
    "> 2. fillna(method=bfill) 사용\n",
    "\n",
    "> 결측치 처리 시점은 결측치에 대한 EDA를 더 진행한 후 생각하기\n",
    "\n",
    "> 1. 기본\n",
    "> 2. 정규화 후 끝부분을 잘라내는 방법으로 이상치 제거한 dataframe\n",
    "> 3. 나라별로 이상치 예측하여 제거한 dataframe\n",
    "\n",
    "> 1. 기본\n",
    "> 2. 해안가 데이터 제외 제거한 dataframe\n",
    "\n",
    "### 소비자물가지수 / 생활물가지수\n",
    "- 전체 지수 평균 사용\n",
    "- 품목 중 관련성 있는 지수 사용\n",
    "- 둘다 사용\n",
    "\n",
    "### 날씨 / 원유 / 소비자물가지수 / 생활물가지수 / 우리나라 날씨\n",
    "- 사용\n",
    "- 미사용\n",
    "\n",
    "### Normalization of Numerical Values\n",
    "temperature, wind, rain, temperature_kr, wind_kr, water_kr, 종가, etc 컬럼들의 분포 확인 후 normalization 진행\n",
    "- Normalization 진행 여부\n",
    "> 1. 기본\n",
    "> 2. normalization 진행한 dataframe\n",
    "\n",
    "### Data Filtering - Correlation\n",
    "- 상관계수 계산해서 중복 변수 제거하기\n",
    "\n",
    "### Data Filtering - Feature Selection (PCA...)\n",
    "- 중요도가 높은 변수들만 선택하여 학습하기\n",
    "- 중요도가 낮은 변수들은 제거하여 학습하기\n",
    "\n",
    "\n",
    "### 전체\n",
    "- 주별로 묶기\n",
    "- 월별로 묶기\n",
    "- 연별로 묶기\n",
    "- 계절별로 묶기 (분기별)"
   ]
  },
  {
   "cell_type": "markdown",
   "metadata": {},
   "source": [
    "<table style=\"border:1px solid gray\">\n",
    "    <thead style=\"border:1px solid gray\">\n",
    "        <tr>\n",
    "            <th>index</th>\n",
    "            <th>df명</th>\n",
    "            <th>설명</th>\n",
    "            <th>비교</th>\n",
    "        </tr>\n",
    "    </thead>\n",
    "    <tbody>\n",
    "        <tr>\n",
    "            <td>0</td>\n",
    "            <td>df0_base</td>\n",
    "            <td>최소한의 전처리만 진행</td>\n",
    "            <td>다른 dataframe 검증할 때 비교</td>\n",
    "        </tr>\n",
    "        <tr style=\"border:1px solid gray\">\n",
    "            <td colspan=4 style=\"text-align: center\"><b>Date</b></td>\n",
    "        </tr>\n",
    "        <tr>\n",
    "            <td>1</td>\n",
    "            <td>df1_date</td>\n",
    "            <td>날짜 데이터 포함</td>\n",
    "            <td rowspan=3>df0_base, df1_date, df3_date 비교 후,<br>데이터 추가 후 df2_date와 비교</td>\n",
    "        </tr>\n",
    "        <tr>\n",
    "            <td>2</td>\n",
    "            <td>df2_date</td>\n",
    "            <td>날짜 데이터 제거</td>\n",
    "        </tr>\n",
    "        <tr>\n",
    "            <td>3</td>\n",
    "            <td>df3_date</td>\n",
    "            <td>날짜 데이터 one hot encoding</td>\n",
    "        </tr>\n",
    "        <tr style=\"border:1px solid gray\">\n",
    "            <td colspan=4 style=\"text-align: center\"><b>Adding columns</b></td>\n",
    "        </tr>\n",
    "        <tr>\n",
    "            <td>4</td>\n",
    "            <td>df4_name</td>\n",
    "            <td>어종별 수 컬럼 추가</td>\n",
    "            <td rowspan=2>df0_base<br>df4_name<br>df5_import</td>\n",
    "        </tr>\n",
    "        <tr>\n",
    "            <td>5</td>\n",
    "            <td>df5_import</td>\n",
    "            <td>수입용도 수 컬럼 추가</td>\n",
    "        </tr>\n",
    "        <tr style=\"border:1px solid gray\">\n",
    "            <td colspan=4 style=\"text-align: center\"><b>Dropping Columns</b></td>\n",
    "        </tr>\n",
    "        <tr>\n",
    "            <td>6</td>\n",
    "            <td>df6_caegory</td>\n",
    "            <td>CATEGORY_2, P_NAME 컬럼 제거</td>\n",
    "            <td rowspan=2>df0_base<br>df6_category<br>df7_category</td>\n",
    "        </tr>\n",
    "        <tr>\n",
    "            <td>7</td>\n",
    "            <td>df7_category</td>\n",
    "            <td>CATEGORY_1, CATEGORY_2 컬럼 제거</td>\n",
    "        </tr>\n",
    "        <tr style=\"border:1px solid gray\">\n",
    "            <td colspan=4 style=\"text-align: center\"><b>Adding Data</b></td>\n",
    "        </tr>\n",
    "        <tr>\n",
    "            <td>8</td>\n",
    "            <td>df8_add</td>\n",
    "            <td>제조국 날씨, 한국 날씨, 원유 종가, 염도, 소비자물가지수 data 추가</td>\n",
    "            <td>feature 중요도 파악<br>상관관계 파악</td>\n",
    "        </tr>\n",
    "        <tr style=\"border:1px solid gray\">\n",
    "            <td colspan=4 style=\"text-align: center\"><b>Normalization</b></td>\n",
    "        </tr>\n",
    "        <tr>\n",
    "            <td>9</td>\n",
    "            <td>df9_add</td>\n",
    "            <td>numerical feature 에 대한 정규화 진행</td>\n",
    "            <td>df0_base<br>feature 중요도 파악<br>상관관계 파악</td>\n",
    "        </tr>\n",
    "        <tr style=\"border:1px solid gray\">\n",
    "            <td colspan=4 style=\"text-align: center\"><b>Filling Missing Values</b></td>\n",
    "        </tr>\n",
    "        <tr>\n",
    "            <td>10</td>\n",
    "            <td>df10_fillna</td>\n",
    "            <td>fillna(method=ffill)로 날씨 결측치 처리</td>\n",
    "            <td rowspan=2>df0_base<br>df10_fillna<br>df11_fillna</td>\n",
    "        </tr>\n",
    "        <tr>\n",
    "            <td>11</td>\n",
    "            <td>df11_fillna</td>\n",
    "            <td>fillna(method=bfill)로 날씨 결측치 처리</td>\n",
    "        </tr>\n",
    "        <tr style=\"border:1px solid gray\">\n",
    "            <td colspan=4 style=\"text-align: center\"><b>Processing Outliers</b></td>\n",
    "        </tr>\n",
    "        <tr>\n",
    "            <td>12</td>\n",
    "            <td>df12_outlier</td>\n",
    "            <td>전체 날씨 데이터 정규화 후 outlier 일괄 제거</td>\n",
    "            <td rowspan=2>df0_base<br>df12_outlier<br>df13_outlier</td>\n",
    "        </tr>\n",
    "        <tr>\n",
    "            <td>13</td>\n",
    "            <td>df13_outlier</td>\n",
    "            <td>나라별로 최저/최고 기온 파악 후 outlier 개별 제거</td>\n",
    "        </tr>\n",
    "    </tbody>\n",
    "</table>"
   ]
  },
  {
   "cell_type": "markdown",
   "metadata": {},
   "source": [
    "---"
   ]
  },
  {
   "cell_type": "code",
   "execution_count": 9,
   "metadata": {},
   "outputs": [],
   "source": [
    "root = os.path.join(os.getcwd(), 'DATA')"
   ]
  },
  {
   "cell_type": "markdown",
   "metadata": {},
   "source": [
    "# Import Data"
   ]
  },
  {
   "cell_type": "code",
   "execution_count": 19,
   "metadata": {},
   "outputs": [],
   "source": [
    "df_train = pd.read_excel(os.path.join(root, 'train.xlsx'))\n",
    "df_weather_code = pd.read_excel(os.path.join(root, 'raw_weather_code.xlsx'), header=None, index_col=0)\n",
    "weather_list = [pd.read_csv(os.path.join(root, 'raw_weather_20151228_20161227.csv'), encoding='euc-kr') , \n",
    "                pd.read_csv(os.path.join(root, 'raw_weather_20161228_20171227.csv'), encoding='euc-kr') , \n",
    "                pd.read_csv(os.path.join(root, 'raw_weather_20171228_20181227.csv'), encoding='euc-kr') , \n",
    "                pd.read_csv(os.path.join(root, 'raw_weather_20181228_20191227.csv'), encoding='euc-kr') , \n",
    "                pd.read_csv(os.path.join(root, 'raw_weather_20191228_20201227.csv'), encoding='euc-kr') , \n",
    "                pd.read_csv(os.path.join(root, 'raw_weather_20201228_20210818.csv'), encoding='euc-kr')]\n",
    "df_oil = pd.read_csv(os.path.join(root, 'preprocessed_oil.csv'))\n",
    "df_weather_kr = pd.read_csv(os.path.join(root, 'preprocessed_weather_korea.csv'))\n",
    "df_cpi1 = pd.read_csv(os.path.join(root, 'preprocessed_cpi_region.csv'))\n",
    "df_cpi2 = pd.read_csv(os.path.join(root, 'preprocessed_cpi_purpose.csv'))"
   ]
  },
  {
   "cell_type": "markdown",
   "metadata": {},
   "source": [
    "제조국 날씨의 경우 결측치 처리 과정이 필요하기 때문에 raw data를 가져온다"
   ]
  },
  {
   "cell_type": "markdown",
   "metadata": {},
   "source": [
    "## df0_base\n",
    "최소한의 전처리만 진행"
   ]
  },
  {
   "cell_type": "code",
   "execution_count": 20,
   "metadata": {},
   "outputs": [],
   "source": [
    "df0_base = df_train.copy()"
   ]
  },
  {
   "cell_type": "code",
   "execution_count": 21,
   "metadata": {},
   "outputs": [],
   "source": [
    "# One hot encoding\n",
    "import_type_list = set()\n",
    "for tmp in df0_base.P_IMPORT_TYPE.unique():\n",
    "    for a in tmp.split(','):\n",
    "        import_type_list.add(a)\n",
    "for name in import_type_list:\n",
    "    df0_base[name] = 0\n",
    "    df0_base.loc[df_train['P_IMPORT_TYPE'].str.contains(name, regex=False), name] = 1"
   ]
  },
  {
   "cell_type": "code",
   "execution_count": 22,
   "metadata": {},
   "outputs": [],
   "source": [
    "# One hot encodiing\n",
    "one_hot = ['CTRY_1', 'CTRY_2', 'P_PURPOSE', 'CATEGORY_1', 'CATEGORY_2', 'P_NAME']\n",
    "df0_base = pd.get_dummies(df_train, columns=one_hot)"
   ]
  },
  {
   "cell_type": "code",
   "execution_count": 23,
   "metadata": {},
   "outputs": [],
   "source": [
    "# Drop columns\n",
    "drop = ['P_TYPE', 'P_IMPORT_TYPE']\n",
    "df0_base.drop(columns = drop, inplace=True)"
   ]
  },
  {
   "cell_type": "code",
   "execution_count": 38,
   "metadata": {},
   "outputs": [
    {
     "name": "stdout",
     "output_type": "stream",
     "text": [
      "Index(['P_PRICE', 'CTRY_1_가나', 'CTRY_1_감비아', 'CTRY_1_그리스', 'CTRY_1_그린란드',\n",
      "       'CTRY_1_기니', 'CTRY_1_기니비사우', 'CTRY_1_나미비아', 'CTRY_1_남아프리카 공화국',\n",
      "       'CTRY_1_네덜란드',\n",
      "       ...\n",
      "       'P_NAME_황돔', 'P_NAME_황새치', 'P_NAME_황적퉁돔', 'P_NAME_회초리꼬리민태',\n",
      "       'P_NAME_흑기흉상어', 'P_NAME_흑밀복', 'P_NAME_흑점샛돔알', 'P_NAME_흑점줄전갱이',\n",
      "       'P_NAME_흰꼴뚜기', 'P_NAME_흰다리새우'],\n",
      "      dtype='object', length=587)\n"
     ]
    }
   ],
   "source": [
    "print(df0_base.columns)"
   ]
  },
  {
   "cell_type": "markdown",
   "metadata": {},
   "source": [
    "## df1_date\n",
    "날짜 데이터 int형으로 변환"
   ]
  },
  {
   "cell_type": "code",
   "execution_count": 25,
   "metadata": {},
   "outputs": [],
   "source": [
    "df1_date = df0_base.copy()"
   ]
  },
  {
   "cell_type": "code",
   "execution_count": 26,
   "metadata": {},
   "outputs": [],
   "source": [
    "# 날짜변수 추가\n",
    "df1_date['year'] = df1_date['REG_DATE'].dt.year\n",
    "df1_date['month'] = df1_date['REG_DATE'].dt.month\n",
    "df1_date['day'] = df1_date['REG_DATE'].dt.day"
   ]
  },
  {
   "cell_type": "code",
   "execution_count": 30,
   "metadata": {},
   "outputs": [],
   "source": [
    "df1_date.drop(columns = ['REG_DATE'], inplace=True)"
   ]
  },
  {
   "cell_type": "code",
   "execution_count": 39,
   "metadata": {},
   "outputs": [
    {
     "name": "stdout",
     "output_type": "stream",
     "text": [
      "Index(['P_PRICE', 'CTRY_1_가나', 'CTRY_1_감비아', 'CTRY_1_그리스', 'CTRY_1_그린란드',\n",
      "       'CTRY_1_기니', 'CTRY_1_기니비사우', 'CTRY_1_나미비아', 'CTRY_1_남아프리카 공화국',\n",
      "       'CTRY_1_네덜란드',\n",
      "       ...\n",
      "       'P_NAME_회초리꼬리민태', 'P_NAME_흑기흉상어', 'P_NAME_흑밀복', 'P_NAME_흑점샛돔알',\n",
      "       'P_NAME_흑점줄전갱이', 'P_NAME_흰꼴뚜기', 'P_NAME_흰다리새우', 'year', 'month', 'day'],\n",
      "      dtype='object', length=590)\n"
     ]
    }
   ],
   "source": [
    "print(df1_date.columns)"
   ]
  },
  {
   "cell_type": "markdown",
   "metadata": {},
   "source": [
    "## df3_date\n",
    "날짜 데이터 one hot encoding"
   ]
  },
  {
   "cell_type": "code",
   "execution_count": 32,
   "metadata": {},
   "outputs": [],
   "source": [
    "df3_date = df1_date.copy()"
   ]
  },
  {
   "cell_type": "code",
   "execution_count": 41,
   "metadata": {},
   "outputs": [],
   "source": [
    "# One hot encodiing\n",
    "df3_date = pd.get_dummies(df3_date, columns=['year', 'month', 'day'])"
   ]
  },
  {
   "cell_type": "code",
   "execution_count": null,
   "metadata": {},
   "outputs": [],
   "source": []
  }
 ],
 "metadata": {
  "kernelspec": {
   "display_name": "Python 3",
   "language": "python",
   "name": "python3"
  },
  "language_info": {
   "codemirror_mode": {
    "name": "ipython",
    "version": 3
   },
   "file_extension": ".py",
   "mimetype": "text/x-python",
   "name": "python",
   "nbconvert_exporter": "python",
   "pygments_lexer": "ipython3",
   "version": "3.8.3"
  }
 },
 "nbformat": 4,
 "nbformat_minor": 4
}
