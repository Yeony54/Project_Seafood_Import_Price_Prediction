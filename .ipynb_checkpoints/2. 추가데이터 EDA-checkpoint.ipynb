{
 "cells": [
  {
   "cell_type": "markdown",
   "metadata": {
    "id": "b78qcmUH1WuX"
   },
   "source": [
    "#### 환율"
   ]
  },
  {
   "cell_type": "code",
   "execution_count": 153,
   "metadata": {
    "id": "gkc27fw27_Sh"
   },
   "outputs": [],
   "source": [
    "def exchange_money(nation = None, df = df_train, name=None):\n",
    "  nation['날짜'] = nation['날짜'].str.replace('년 ','-')\n",
    "  nation['날짜'] = nation['날짜'].str.replace('월 ','-')\n",
    "  nation['날짜'] = nation['날짜'].str.replace('일','')\n",
    "\n",
    "  nation['날짜'] = nation['날짜'].astype('datetime64')\n",
    "\n",
    "  nation = nation.query('날짜.dt.dayofweek == 0')\n",
    "  nation = nation[nation['날짜']<='2019-12-30']\n",
    "  nation = nation[['날짜','종가']]\n",
    "\n",
    "  nation = nation.sort_index(ascending=True)\n",
    "  is_nan = nation.isna().sum()\n",
    "\n",
    "  if len(nation['날짜'].unique()) != len(df['기준일'].unique()):\n",
    "    diff = len(df.query('기준일.dt.dayofweek == 0')['기준일'].unique()) - len(nation['날짜'].unique())\n",
    "    print('{}은 {}개의 결측치 존재'.format(name, diff))\n",
    "\n",
    "  return nation"
   ]
  },
  {
   "cell_type": "markdown",
   "metadata": {
    "id": "1pYxSwTu1lFt"
   },
   "source": [
    "- 베트남 환율(2015~2019년 베트남 환율)"
   ]
  },
  {
   "cell_type": "code",
   "execution_count": 154,
   "metadata": {
    "colab": {
     "base_uri": "https://localhost:8080/",
     "height": 417
    },
    "id": "0d064a2d-b6ba-4edc-af4b-dccab634766a",
    "outputId": "5d27422d-ab3e-4b19-fb93-5505d4aeb3e3"
   },
   "outputs": [
    {
     "data": {
      "text/html": [
       "<div>\n",
       "<style scoped>\n",
       "    .dataframe tbody tr th:only-of-type {\n",
       "        vertical-align: middle;\n",
       "    }\n",
       "\n",
       "    .dataframe tbody tr th {\n",
       "        vertical-align: top;\n",
       "    }\n",
       "\n",
       "    .dataframe thead th {\n",
       "        text-align: right;\n",
       "    }\n",
       "</style>\n",
       "<table border=\"1\" class=\"dataframe\">\n",
       "  <thead>\n",
       "    <tr style=\"text-align: right;\">\n",
       "      <th></th>\n",
       "      <th>날짜</th>\n",
       "      <th>종가</th>\n",
       "    </tr>\n",
       "  </thead>\n",
       "  <tbody>\n",
       "    <tr>\n",
       "      <th>378</th>\n",
       "      <td>2019-12-30</td>\n",
       "      <td>0.000043</td>\n",
       "    </tr>\n",
       "    <tr>\n",
       "      <th>383</th>\n",
       "      <td>2019-12-23</td>\n",
       "      <td>0.000043</td>\n",
       "    </tr>\n",
       "    <tr>\n",
       "      <th>388</th>\n",
       "      <td>2019-12-16</td>\n",
       "      <td>0.000043</td>\n",
       "    </tr>\n",
       "    <tr>\n",
       "      <th>393</th>\n",
       "      <td>2019-12-09</td>\n",
       "      <td>0.000043</td>\n",
       "    </tr>\n",
       "    <tr>\n",
       "      <th>398</th>\n",
       "      <td>2019-12-02</td>\n",
       "      <td>0.000043</td>\n",
       "    </tr>\n",
       "    <tr>\n",
       "      <th>...</th>\n",
       "      <td>...</td>\n",
       "      <td>...</td>\n",
       "    </tr>\n",
       "    <tr>\n",
       "      <th>1403</th>\n",
       "      <td>2016-01-25</td>\n",
       "      <td>0.000045</td>\n",
       "    </tr>\n",
       "    <tr>\n",
       "      <th>1408</th>\n",
       "      <td>2016-01-18</td>\n",
       "      <td>0.000045</td>\n",
       "    </tr>\n",
       "    <tr>\n",
       "      <th>1413</th>\n",
       "      <td>2016-01-11</td>\n",
       "      <td>0.000045</td>\n",
       "    </tr>\n",
       "    <tr>\n",
       "      <th>1418</th>\n",
       "      <td>2016-01-04</td>\n",
       "      <td>0.000044</td>\n",
       "    </tr>\n",
       "    <tr>\n",
       "      <th>1423</th>\n",
       "      <td>2015-12-28</td>\n",
       "      <td>0.000044</td>\n",
       "    </tr>\n",
       "  </tbody>\n",
       "</table>\n",
       "<p>210 rows × 2 columns</p>\n",
       "</div>"
      ],
      "text/plain": [
       "             날짜        종가\n",
       "378  2019-12-30  0.000043\n",
       "383  2019-12-23  0.000043\n",
       "388  2019-12-16  0.000043\n",
       "393  2019-12-09  0.000043\n",
       "398  2019-12-02  0.000043\n",
       "...         ...       ...\n",
       "1403 2016-01-25  0.000045\n",
       "1408 2016-01-18  0.000045\n",
       "1413 2016-01-11  0.000045\n",
       "1418 2016-01-04  0.000044\n",
       "1423 2015-12-28  0.000044\n",
       "\n",
       "[210 rows x 2 columns]"
      ]
     },
     "execution_count": 154,
     "metadata": {},
     "output_type": "execute_result"
    }
   ],
   "source": [
    "vietnam = pd.read_csv('/content/drive/MyDrive/빅콘/Seafood_Import_Price_Prediction/DATA/raw_exchange_vietnam.csv',usecols=['날짜','종가']) \n",
    "vietnam = exchange_money(nation = vietnam,name ='vietnam')\n",
    "\n",
    "vietnam"
   ]
  },
  {
   "cell_type": "markdown",
   "metadata": {
    "id": "zxaVzW261-Yw"
   },
   "source": [
    "- 태국( 2015~2019년 태국 환율 )"
   ]
  },
  {
   "cell_type": "code",
   "execution_count": 156,
   "metadata": {
    "colab": {
     "base_uri": "https://localhost:8080/",
     "height": 417
    },
    "id": "MHViHcFw18Tj",
    "outputId": "a71327d7-5eb5-477e-c1da-a6bc400ab84b"
   },
   "outputs": [
    {
     "data": {
      "text/html": [
       "<div>\n",
       "<style scoped>\n",
       "    .dataframe tbody tr th:only-of-type {\n",
       "        vertical-align: middle;\n",
       "    }\n",
       "\n",
       "    .dataframe tbody tr th {\n",
       "        vertical-align: top;\n",
       "    }\n",
       "\n",
       "    .dataframe thead th {\n",
       "        text-align: right;\n",
       "    }\n",
       "</style>\n",
       "<table border=\"1\" class=\"dataframe\">\n",
       "  <thead>\n",
       "    <tr style=\"text-align: right;\">\n",
       "      <th></th>\n",
       "      <th>날짜</th>\n",
       "      <th>종가</th>\n",
       "    </tr>\n",
       "  </thead>\n",
       "  <tbody>\n",
       "    <tr>\n",
       "      <th>0</th>\n",
       "      <td>2015-12-28</td>\n",
       "      <td>0.0277</td>\n",
       "    </tr>\n",
       "    <tr>\n",
       "      <th>1</th>\n",
       "      <td>2016-01-04</td>\n",
       "      <td>0.0277</td>\n",
       "    </tr>\n",
       "    <tr>\n",
       "      <th>2</th>\n",
       "      <td>2016-01-11</td>\n",
       "      <td>0.0276</td>\n",
       "    </tr>\n",
       "    <tr>\n",
       "      <th>3</th>\n",
       "      <td>2016-01-18</td>\n",
       "      <td>0.0275</td>\n",
       "    </tr>\n",
       "    <tr>\n",
       "      <th>4</th>\n",
       "      <td>2016-01-25</td>\n",
       "      <td>0.0278</td>\n",
       "    </tr>\n",
       "    <tr>\n",
       "      <th>...</th>\n",
       "      <td>...</td>\n",
       "      <td>...</td>\n",
       "    </tr>\n",
       "    <tr>\n",
       "      <th>205</th>\n",
       "      <td>2019-12-02</td>\n",
       "      <td>0.0330</td>\n",
       "    </tr>\n",
       "    <tr>\n",
       "      <th>206</th>\n",
       "      <td>2019-12-09</td>\n",
       "      <td>0.0330</td>\n",
       "    </tr>\n",
       "    <tr>\n",
       "      <th>207</th>\n",
       "      <td>2019-12-16</td>\n",
       "      <td>0.0331</td>\n",
       "    </tr>\n",
       "    <tr>\n",
       "      <th>208</th>\n",
       "      <td>2019-12-23</td>\n",
       "      <td>0.0331</td>\n",
       "    </tr>\n",
       "    <tr>\n",
       "      <th>209</th>\n",
       "      <td>2019-12-30</td>\n",
       "      <td>0.0334</td>\n",
       "    </tr>\n",
       "  </tbody>\n",
       "</table>\n",
       "<p>210 rows × 2 columns</p>\n",
       "</div>"
      ],
      "text/plain": [
       "            날짜      종가\n",
       "0   2015-12-28  0.0277\n",
       "1   2016-01-04  0.0277\n",
       "2   2016-01-11  0.0276\n",
       "3   2016-01-18  0.0275\n",
       "4   2016-01-25  0.0278\n",
       "..         ...     ...\n",
       "205 2019-12-02  0.0330\n",
       "206 2019-12-09  0.0330\n",
       "207 2019-12-16  0.0331\n",
       "208 2019-12-23  0.0331\n",
       "209 2019-12-30  0.0334\n",
       "\n",
       "[210 rows x 2 columns]"
      ]
     },
     "execution_count": 156,
     "metadata": {},
     "output_type": "execute_result"
    }
   ],
   "source": [
    "thai = pd.read_csv('/content/drive/MyDrive/빅콘/Seafood_Import_Price_Prediction/DATA/raw_exchange_thai.csv',encoding='utf-8') \n",
    "thai = exchange_money(thai, name ='thai')\n",
    "\n",
    "thai"
   ]
  },
  {
   "cell_type": "markdown",
   "metadata": {
    "id": "q3YUvkZ92Z_I"
   },
   "source": [
    "- 페루 환율(2015~2019년 페루 환율)"
   ]
  },
  {
   "cell_type": "code",
   "execution_count": 157,
   "metadata": {
    "colab": {
     "base_uri": "https://localhost:8080/",
     "height": 417
    },
    "id": "OItt7qgy2YIy",
    "outputId": "b9bd5e41-5f0f-4431-ecd2-f723dfe8d2a5"
   },
   "outputs": [
    {
     "data": {
      "text/html": [
       "<div>\n",
       "<style scoped>\n",
       "    .dataframe tbody tr th:only-of-type {\n",
       "        vertical-align: middle;\n",
       "    }\n",
       "\n",
       "    .dataframe tbody tr th {\n",
       "        vertical-align: top;\n",
       "    }\n",
       "\n",
       "    .dataframe thead th {\n",
       "        text-align: right;\n",
       "    }\n",
       "</style>\n",
       "<table border=\"1\" class=\"dataframe\">\n",
       "  <thead>\n",
       "    <tr style=\"text-align: right;\">\n",
       "      <th></th>\n",
       "      <th>날짜</th>\n",
       "      <th>종가</th>\n",
       "    </tr>\n",
       "  </thead>\n",
       "  <tbody>\n",
       "    <tr>\n",
       "      <th>0</th>\n",
       "      <td>2015-12-28</td>\n",
       "      <td>0.2943</td>\n",
       "    </tr>\n",
       "    <tr>\n",
       "      <th>1</th>\n",
       "      <td>2016-01-04</td>\n",
       "      <td>0.2930</td>\n",
       "    </tr>\n",
       "    <tr>\n",
       "      <th>2</th>\n",
       "      <td>2016-01-11</td>\n",
       "      <td>0.2916</td>\n",
       "    </tr>\n",
       "    <tr>\n",
       "      <th>3</th>\n",
       "      <td>2016-01-18</td>\n",
       "      <td>0.2913</td>\n",
       "    </tr>\n",
       "    <tr>\n",
       "      <th>4</th>\n",
       "      <td>2016-01-25</td>\n",
       "      <td>0.2887</td>\n",
       "    </tr>\n",
       "    <tr>\n",
       "      <th>...</th>\n",
       "      <td>...</td>\n",
       "      <td>...</td>\n",
       "    </tr>\n",
       "    <tr>\n",
       "      <th>205</th>\n",
       "      <td>2019-12-02</td>\n",
       "      <td>0.2948</td>\n",
       "    </tr>\n",
       "    <tr>\n",
       "      <th>206</th>\n",
       "      <td>2019-12-09</td>\n",
       "      <td>0.2961</td>\n",
       "    </tr>\n",
       "    <tr>\n",
       "      <th>207</th>\n",
       "      <td>2019-12-16</td>\n",
       "      <td>0.2981</td>\n",
       "    </tr>\n",
       "    <tr>\n",
       "      <th>208</th>\n",
       "      <td>2019-12-23</td>\n",
       "      <td>0.3010</td>\n",
       "    </tr>\n",
       "    <tr>\n",
       "      <th>209</th>\n",
       "      <td>2019-12-30</td>\n",
       "      <td>0.3013</td>\n",
       "    </tr>\n",
       "  </tbody>\n",
       "</table>\n",
       "<p>210 rows × 2 columns</p>\n",
       "</div>"
      ],
      "text/plain": [
       "            날짜      종가\n",
       "0   2015-12-28  0.2943\n",
       "1   2016-01-04  0.2930\n",
       "2   2016-01-11  0.2916\n",
       "3   2016-01-18  0.2913\n",
       "4   2016-01-25  0.2887\n",
       "..         ...     ...\n",
       "205 2019-12-02  0.2948\n",
       "206 2019-12-09  0.2961\n",
       "207 2019-12-16  0.2981\n",
       "208 2019-12-23  0.3010\n",
       "209 2019-12-30  0.3013\n",
       "\n",
       "[210 rows x 2 columns]"
      ]
     },
     "execution_count": 157,
     "metadata": {},
     "output_type": "execute_result"
    }
   ],
   "source": [
    "peru = pd.read_csv('/content/drive/MyDrive/빅콘/Seafood_Import_Price_Prediction/DATA/raw_exchange_peru.csv',encoding='utf-8') \n",
    "peru = exchange_money(peru, name = 'peru')\n",
    "\n",
    "peru"
   ]
  },
  {
   "cell_type": "markdown",
   "metadata": {
    "id": "M8jjoNQV2vms"
   },
   "source": [
    "- 노르웨이 환율(2015 ~ 2019년 노르웨이 환율)"
   ]
  },
  {
   "cell_type": "code",
   "execution_count": 158,
   "metadata": {
    "colab": {
     "base_uri": "https://localhost:8080/",
     "height": 417
    },
    "id": "WQbbQXWr2uEe",
    "outputId": "a1a1aa90-d033-4417-e2a1-45bf7f873e37"
   },
   "outputs": [
    {
     "data": {
      "text/html": [
       "<div>\n",
       "<style scoped>\n",
       "    .dataframe tbody tr th:only-of-type {\n",
       "        vertical-align: middle;\n",
       "    }\n",
       "\n",
       "    .dataframe tbody tr th {\n",
       "        vertical-align: top;\n",
       "    }\n",
       "\n",
       "    .dataframe thead th {\n",
       "        text-align: right;\n",
       "    }\n",
       "</style>\n",
       "<table border=\"1\" class=\"dataframe\">\n",
       "  <thead>\n",
       "    <tr style=\"text-align: right;\">\n",
       "      <th></th>\n",
       "      <th>날짜</th>\n",
       "      <th>종가</th>\n",
       "    </tr>\n",
       "  </thead>\n",
       "  <tbody>\n",
       "    <tr>\n",
       "      <th>0</th>\n",
       "      <td>2015-12-28</td>\n",
       "      <td>0.1149</td>\n",
       "    </tr>\n",
       "    <tr>\n",
       "      <th>1</th>\n",
       "      <td>2016-01-04</td>\n",
       "      <td>0.1126</td>\n",
       "    </tr>\n",
       "    <tr>\n",
       "      <th>2</th>\n",
       "      <td>2016-01-11</td>\n",
       "      <td>0.1119</td>\n",
       "    </tr>\n",
       "    <tr>\n",
       "      <th>3</th>\n",
       "      <td>2016-01-18</td>\n",
       "      <td>0.1124</td>\n",
       "    </tr>\n",
       "    <tr>\n",
       "      <th>4</th>\n",
       "      <td>2016-01-25</td>\n",
       "      <td>0.1142</td>\n",
       "    </tr>\n",
       "    <tr>\n",
       "      <th>...</th>\n",
       "      <td>...</td>\n",
       "      <td>...</td>\n",
       "    </tr>\n",
       "    <tr>\n",
       "      <th>205</th>\n",
       "      <td>2019-12-02</td>\n",
       "      <td>0.1091</td>\n",
       "    </tr>\n",
       "    <tr>\n",
       "      <th>206</th>\n",
       "      <td>2019-12-09</td>\n",
       "      <td>0.1093</td>\n",
       "    </tr>\n",
       "    <tr>\n",
       "      <th>207</th>\n",
       "      <td>2019-12-16</td>\n",
       "      <td>0.1110</td>\n",
       "    </tr>\n",
       "    <tr>\n",
       "      <th>208</th>\n",
       "      <td>2019-12-23</td>\n",
       "      <td>0.1116</td>\n",
       "    </tr>\n",
       "    <tr>\n",
       "      <th>209</th>\n",
       "      <td>2019-12-30</td>\n",
       "      <td>0.1134</td>\n",
       "    </tr>\n",
       "  </tbody>\n",
       "</table>\n",
       "<p>210 rows × 2 columns</p>\n",
       "</div>"
      ],
      "text/plain": [
       "            날짜      종가\n",
       "0   2015-12-28  0.1149\n",
       "1   2016-01-04  0.1126\n",
       "2   2016-01-11  0.1119\n",
       "3   2016-01-18  0.1124\n",
       "4   2016-01-25  0.1142\n",
       "..         ...     ...\n",
       "205 2019-12-02  0.1091\n",
       "206 2019-12-09  0.1093\n",
       "207 2019-12-16  0.1110\n",
       "208 2019-12-23  0.1116\n",
       "209 2019-12-30  0.1134\n",
       "\n",
       "[210 rows x 2 columns]"
      ]
     },
     "execution_count": 158,
     "metadata": {},
     "output_type": "execute_result"
    }
   ],
   "source": [
    "norway = pd.read_csv('/content/drive/MyDrive/빅콘/Seafood_Import_Price_Prediction/DATA/raw_exchange_norway.csv',encoding='utf-8') \n",
    "norway = exchange_money(norway, name = 'norway')\n",
    "\n",
    "norway"
   ]
  },
  {
   "cell_type": "markdown",
   "metadata": {
    "id": "9SJYY2Ee3DIW"
   },
   "source": [
    "- 중국 환율(2015~2019년 중국 환율)"
   ]
  },
  {
   "cell_type": "code",
   "execution_count": 159,
   "metadata": {
    "colab": {
     "base_uri": "https://localhost:8080/",
     "height": 417
    },
    "id": "Ac-FqrqT3A9k",
    "outputId": "00eb7845-8905-42e8-c5b4-7a7eab31d2f1"
   },
   "outputs": [
    {
     "data": {
      "text/html": [
       "<div>\n",
       "<style scoped>\n",
       "    .dataframe tbody tr th:only-of-type {\n",
       "        vertical-align: middle;\n",
       "    }\n",
       "\n",
       "    .dataframe tbody tr th {\n",
       "        vertical-align: top;\n",
       "    }\n",
       "\n",
       "    .dataframe thead th {\n",
       "        text-align: right;\n",
       "    }\n",
       "</style>\n",
       "<table border=\"1\" class=\"dataframe\">\n",
       "  <thead>\n",
       "    <tr style=\"text-align: right;\">\n",
       "      <th></th>\n",
       "      <th>날짜</th>\n",
       "      <th>종가</th>\n",
       "    </tr>\n",
       "  </thead>\n",
       "  <tbody>\n",
       "    <tr>\n",
       "      <th>0</th>\n",
       "      <td>2015-12-28</td>\n",
       "      <td>0.1541</td>\n",
       "    </tr>\n",
       "    <tr>\n",
       "      <th>1</th>\n",
       "      <td>2016-01-04</td>\n",
       "      <td>0.1530</td>\n",
       "    </tr>\n",
       "    <tr>\n",
       "      <th>2</th>\n",
       "      <td>2016-01-11</td>\n",
       "      <td>0.1522</td>\n",
       "    </tr>\n",
       "    <tr>\n",
       "      <th>3</th>\n",
       "      <td>2016-01-18</td>\n",
       "      <td>0.1520</td>\n",
       "    </tr>\n",
       "    <tr>\n",
       "      <th>4</th>\n",
       "      <td>2016-01-25</td>\n",
       "      <td>0.1520</td>\n",
       "    </tr>\n",
       "    <tr>\n",
       "      <th>...</th>\n",
       "      <td>...</td>\n",
       "      <td>...</td>\n",
       "    </tr>\n",
       "    <tr>\n",
       "      <th>205</th>\n",
       "      <td>2019-12-02</td>\n",
       "      <td>0.1420</td>\n",
       "    </tr>\n",
       "    <tr>\n",
       "      <th>206</th>\n",
       "      <td>2019-12-09</td>\n",
       "      <td>0.1421</td>\n",
       "    </tr>\n",
       "    <tr>\n",
       "      <th>207</th>\n",
       "      <td>2019-12-16</td>\n",
       "      <td>0.1430</td>\n",
       "    </tr>\n",
       "    <tr>\n",
       "      <th>208</th>\n",
       "      <td>2019-12-23</td>\n",
       "      <td>0.1426</td>\n",
       "    </tr>\n",
       "    <tr>\n",
       "      <th>209</th>\n",
       "      <td>2019-12-30</td>\n",
       "      <td>0.1431</td>\n",
       "    </tr>\n",
       "  </tbody>\n",
       "</table>\n",
       "<p>210 rows × 2 columns</p>\n",
       "</div>"
      ],
      "text/plain": [
       "            날짜      종가\n",
       "0   2015-12-28  0.1541\n",
       "1   2016-01-04  0.1530\n",
       "2   2016-01-11  0.1522\n",
       "3   2016-01-18  0.1520\n",
       "4   2016-01-25  0.1520\n",
       "..         ...     ...\n",
       "205 2019-12-02  0.1420\n",
       "206 2019-12-09  0.1421\n",
       "207 2019-12-16  0.1430\n",
       "208 2019-12-23  0.1426\n",
       "209 2019-12-30  0.1431\n",
       "\n",
       "[210 rows x 2 columns]"
      ]
     },
     "execution_count": 159,
     "metadata": {},
     "output_type": "execute_result"
    }
   ],
   "source": [
    "china = pd.read_csv('/content/drive/MyDrive/빅콘/Seafood_Import_Price_Prediction/DATA/raw_exchange_china.csv',encoding='utf-8')\n",
    "china = exchange_money(china, name = 'china') \n",
    "\n",
    "china"
   ]
  },
  {
   "cell_type": "markdown",
   "metadata": {
    "id": "FaKNkOvZ3XA3"
   },
   "source": [
    "- 2015~2019년 칠레 환율"
   ]
  },
  {
   "cell_type": "code",
   "execution_count": 160,
   "metadata": {
    "colab": {
     "base_uri": "https://localhost:8080/",
     "height": 417
    },
    "id": "dY2DTLis3Rq1",
    "outputId": "93b244bf-1346-494d-c80b-8979c35de08b"
   },
   "outputs": [
    {
     "data": {
      "text/html": [
       "<div>\n",
       "<style scoped>\n",
       "    .dataframe tbody tr th:only-of-type {\n",
       "        vertical-align: middle;\n",
       "    }\n",
       "\n",
       "    .dataframe tbody tr th {\n",
       "        vertical-align: top;\n",
       "    }\n",
       "\n",
       "    .dataframe thead th {\n",
       "        text-align: right;\n",
       "    }\n",
       "</style>\n",
       "<table border=\"1\" class=\"dataframe\">\n",
       "  <thead>\n",
       "    <tr style=\"text-align: right;\">\n",
       "      <th></th>\n",
       "      <th>날짜</th>\n",
       "      <th>종가</th>\n",
       "    </tr>\n",
       "  </thead>\n",
       "  <tbody>\n",
       "    <tr>\n",
       "      <th>0</th>\n",
       "      <td>2015-12-28</td>\n",
       "      <td>0.001400</td>\n",
       "    </tr>\n",
       "    <tr>\n",
       "      <th>1</th>\n",
       "      <td>2016-01-04</td>\n",
       "      <td>0.001400</td>\n",
       "    </tr>\n",
       "    <tr>\n",
       "      <th>2</th>\n",
       "      <td>2016-01-11</td>\n",
       "      <td>0.001400</td>\n",
       "    </tr>\n",
       "    <tr>\n",
       "      <th>3</th>\n",
       "      <td>2016-01-18</td>\n",
       "      <td>0.001400</td>\n",
       "    </tr>\n",
       "    <tr>\n",
       "      <th>4</th>\n",
       "      <td>2016-01-25</td>\n",
       "      <td>0.001400</td>\n",
       "    </tr>\n",
       "    <tr>\n",
       "      <th>...</th>\n",
       "      <td>...</td>\n",
       "      <td>...</td>\n",
       "    </tr>\n",
       "    <tr>\n",
       "      <th>205</th>\n",
       "      <td>2019-12-02</td>\n",
       "      <td>0.001244</td>\n",
       "    </tr>\n",
       "    <tr>\n",
       "      <th>206</th>\n",
       "      <td>2019-12-09</td>\n",
       "      <td>0.001293</td>\n",
       "    </tr>\n",
       "    <tr>\n",
       "      <th>207</th>\n",
       "      <td>2019-12-16</td>\n",
       "      <td>0.001312</td>\n",
       "    </tr>\n",
       "    <tr>\n",
       "      <th>208</th>\n",
       "      <td>2019-12-23</td>\n",
       "      <td>0.001327</td>\n",
       "    </tr>\n",
       "    <tr>\n",
       "      <th>209</th>\n",
       "      <td>2019-12-30</td>\n",
       "      <td>0.001325</td>\n",
       "    </tr>\n",
       "  </tbody>\n",
       "</table>\n",
       "<p>210 rows × 2 columns</p>\n",
       "</div>"
      ],
      "text/plain": [
       "            날짜        종가\n",
       "0   2015-12-28  0.001400\n",
       "1   2016-01-04  0.001400\n",
       "2   2016-01-11  0.001400\n",
       "3   2016-01-18  0.001400\n",
       "4   2016-01-25  0.001400\n",
       "..         ...       ...\n",
       "205 2019-12-02  0.001244\n",
       "206 2019-12-09  0.001293\n",
       "207 2019-12-16  0.001312\n",
       "208 2019-12-23  0.001327\n",
       "209 2019-12-30  0.001325\n",
       "\n",
       "[210 rows x 2 columns]"
      ]
     },
     "execution_count": 160,
     "metadata": {},
     "output_type": "execute_result"
    }
   ],
   "source": [
    "chile = pd.read_csv('/content/drive/MyDrive/빅콘/Seafood_Import_Price_Prediction/DATA/raw_exchange_chile.csv',encoding='utf-8') \n",
    "chile = exchange_money(chile, name = 'chile')\n",
    "\n",
    "chile"
   ]
  },
  {
   "cell_type": "markdown",
   "metadata": {
    "id": "xa2fskU2JyEe"
   },
   "source": [
    "#### 환율과 평균단가간 상관관계"
   ]
  },
  {
   "cell_type": "markdown",
   "metadata": {
    "id": "XAYIjqM6mLtl"
   },
   "source": [
    "##### Preprocessing"
   ]
  },
  {
   "cell_type": "code",
   "execution_count": 173,
   "metadata": {
    "id": "oRW452ThYIDk"
   },
   "outputs": [],
   "source": [
    "# 환율과 평균단가간 상관관계를 알아보기 위해 환율 날짜 기준으로 평균단가 기준일 전처리 \n",
    "\n",
    "all_squid_price_new = pd.DataFrame({'기준일':all_squid_price.index,\n",
    "              '평균단가($)':all_squid_price.values}).query('기준일.dt.dayofweek == 0') # 2015-12-28~2019-12-30까지 일주일 간격 오징어 평균단가\n",
    "\n",
    "all_salmon_price_new = pd.DataFrame({'기준일':all_salmon_price.index,\n",
    "              '평균단가($)':all_salmon_price.values}).query('기준일.dt.dayofweek == 0') # 2015-12-28~2019-12-30까지 일주일 간격 오징어 평균단가\n",
    "\n",
    "all_Whiteleg_shrimp_price_new = pd.DataFrame({'기준일':all_Whiteleg_shrimp_price.index,\n",
    "              '평균단가($)':all_Whiteleg_shrimp_price.values}).query('기준일.dt.dayofweek == 0') # 2015-12-28~2019-12-30까지 일주일 간격 오징어 평균단가\n"
   ]
  },
  {
   "cell_type": "code",
   "execution_count": 174,
   "metadata": {
    "colab": {
     "base_uri": "https://localhost:8080/"
    },
    "id": "g50oIhbMb9gq",
    "outputId": "e2c13121-d8c1-406b-ab41-f94a10126162"
   },
   "outputs": [
    {
     "data": {
      "text/plain": [
       "{Timestamp('2017-01-02 00:00:00', freq='7D'),\n",
       " Timestamp('2017-01-09 00:00:00', freq='7D')}"
      ]
     },
     "execution_count": 174,
     "metadata": {},
     "output_type": "execute_result"
    }
   ],
   "source": [
    "'''\n",
    "기준일 결측값들\n",
    "\n",
    "전주와 다음주 평균단가 평균 or 월 평균단가 평균으로 결측값 대치\n",
    "'''\n",
    "total = pd.date_range('2015-12-28','2019-12-30',freq='7D')\n",
    "\n",
    "total # 2015-12-28 부터 2019-12-30까지 일주일 간격의 기간\n",
    "\n",
    "# set(total) - set(all_squid_price_new['기준일'])\n",
    "# set(total) - set(all_salmon_price_new['기준일'])\n",
    "set(total) - set(all_Whiteleg_shrimp_price_new['기준일'])"
   ]
  },
  {
   "cell_type": "code",
   "execution_count": 175,
   "metadata": {
    "id": "whYj3uwTf1Sz"
   },
   "outputs": [],
   "source": [
    "all_squid_price_new['기준일'] = all_squid_price_new['기준일'].astype('string')\n",
    "\n",
    "squid_price_mean_1602 = (all_squid_price_new[all_squid_price_new['기준일']=='2016-02-01']['평균단가($)'].values+all_squid_price_new[all_squid_price_new['기준일']=='2016-02-15']['평균단가($)'].values)/2 # 전주,다음주 평균단가의 평균\n",
    "squid_price_mean_1701 = all_squid_price_new[all_squid_price_new['기준일'].str.contains('2017-01')]['평균단가($)'].mean() # 2017년 1월의 평균단가의 평균\n",
    "squid_price_mean_1710 = (all_squid_price_new[all_squid_price_new['기준일']=='2017-09-25']['평균단가($)'].values+all_squid_price_new[all_squid_price_new['기준일']=='2017-10-09']['평균단가($)'].values)/2 # 전주,다음주 평균단가의 평균\n",
    "\n",
    "all_squid_price_new['기준일'] = all_squid_price_new['기준일'].astype('datetime64')\n"
   ]
  },
  {
   "cell_type": "code",
   "execution_count": 176,
   "metadata": {
    "colab": {
     "base_uri": "https://localhost:8080/",
     "height": 417
    },
    "id": "AtBhJ71Ye9Ig",
    "outputId": "fc1aa8ff-c448-48c0-a2bb-bc4668c41f17"
   },
   "outputs": [
    {
     "data": {
      "text/html": [
       "<div>\n",
       "<style scoped>\n",
       "    .dataframe tbody tr th:only-of-type {\n",
       "        vertical-align: middle;\n",
       "    }\n",
       "\n",
       "    .dataframe tbody tr th {\n",
       "        vertical-align: top;\n",
       "    }\n",
       "\n",
       "    .dataframe thead th {\n",
       "        text-align: right;\n",
       "    }\n",
       "</style>\n",
       "<table border=\"1\" class=\"dataframe\">\n",
       "  <thead>\n",
       "    <tr style=\"text-align: right;\">\n",
       "      <th></th>\n",
       "      <th>기준일</th>\n",
       "      <th>평균단가($)</th>\n",
       "    </tr>\n",
       "  </thead>\n",
       "  <tbody>\n",
       "    <tr>\n",
       "      <th>0</th>\n",
       "      <td>2015-12-28</td>\n",
       "      <td>1.741647</td>\n",
       "    </tr>\n",
       "    <tr>\n",
       "      <th>1</th>\n",
       "      <td>2016-01-04</td>\n",
       "      <td>1.787152</td>\n",
       "    </tr>\n",
       "    <tr>\n",
       "      <th>2</th>\n",
       "      <td>2016-01-11</td>\n",
       "      <td>1.345855</td>\n",
       "    </tr>\n",
       "    <tr>\n",
       "      <th>3</th>\n",
       "      <td>2016-01-18</td>\n",
       "      <td>1.675178</td>\n",
       "    </tr>\n",
       "    <tr>\n",
       "      <th>4</th>\n",
       "      <td>2016-01-25</td>\n",
       "      <td>2.185579</td>\n",
       "    </tr>\n",
       "    <tr>\n",
       "      <th>...</th>\n",
       "      <td>...</td>\n",
       "      <td>...</td>\n",
       "    </tr>\n",
       "    <tr>\n",
       "      <th>201</th>\n",
       "      <td>2019-12-02</td>\n",
       "      <td>2.439093</td>\n",
       "    </tr>\n",
       "    <tr>\n",
       "      <th>202</th>\n",
       "      <td>2019-12-09</td>\n",
       "      <td>2.886105</td>\n",
       "    </tr>\n",
       "    <tr>\n",
       "      <th>203</th>\n",
       "      <td>2019-12-16</td>\n",
       "      <td>2.770290</td>\n",
       "    </tr>\n",
       "    <tr>\n",
       "      <th>204</th>\n",
       "      <td>2019-12-23</td>\n",
       "      <td>4.016096</td>\n",
       "    </tr>\n",
       "    <tr>\n",
       "      <th>205</th>\n",
       "      <td>2019-12-30</td>\n",
       "      <td>2.951993</td>\n",
       "    </tr>\n",
       "  </tbody>\n",
       "</table>\n",
       "<p>210 rows × 2 columns</p>\n",
       "</div>"
      ],
      "text/plain": [
       "           기준일   평균단가($)\n",
       "0   2015-12-28  1.741647\n",
       "1   2016-01-04  1.787152\n",
       "2   2016-01-11  1.345855\n",
       "3   2016-01-18  1.675178\n",
       "4   2016-01-25  2.185579\n",
       "..         ...       ...\n",
       "201 2019-12-02  2.439093\n",
       "202 2019-12-09  2.886105\n",
       "203 2019-12-16  2.770290\n",
       "204 2019-12-23  4.016096\n",
       "205 2019-12-30  2.951993\n",
       "\n",
       "[210 rows x 2 columns]"
      ]
     },
     "execution_count": 176,
     "metadata": {},
     "output_type": "execute_result"
    }
   ],
   "source": [
    "all_squid_price_new = all_squid_price_new.append({'기준일':'2016-02-08','평균단가($)':squid_price_mean_1602[0]},ignore_index=True)\n",
    "all_squid_price_new = all_squid_price_new.append({'기준일':'2017-01-02','평균단가($)':squid_price_mean_1701},ignore_index=True)\n",
    "all_squid_price_new = all_squid_price_new.append({'기준일':'2017-01-09','평균단가($)':squid_price_mean_1701},ignore_index=True)\n",
    "all_squid_price_new = all_squid_price_new.append({'기준일':'2017-10-02','평균단가($)':squid_price_mean_1710[0]},ignore_index=True)\n",
    "\n",
    "all_squid_price_new['기준일'] = all_squid_price_new['기준일'].astype('datetime64')\n",
    "all_squid_price_new = all_squid_price_new.sort_values('기준일')\n",
    "\n",
    "all_squid_price_new"
   ]
  },
  {
   "cell_type": "code",
   "execution_count": 177,
   "metadata": {
    "id": "4P1v5eQSkLJX"
   },
   "outputs": [],
   "source": [
    "all_salmon_price_new['기준일'] = all_salmon_price_new['기준일'].astype('string')\n",
    "\n",
    "salmon_price_mean_1701 = all_salmon_price_new[all_salmon_price_new['기준일'].str.contains('2017-01')]['평균단가($)'].mean() # 2017년 1월의 평균단가의 평균\n",
    "\n",
    "all_salmon_price_new['기준일'] = all_salmon_price_new['기준일'].astype('datetime64')\n"
   ]
  },
  {
   "cell_type": "code",
   "execution_count": 178,
   "metadata": {
    "colab": {
     "base_uri": "https://localhost:8080/",
     "height": 417
    },
    "id": "rLlMk6awkeE8",
    "outputId": "f2a83fb6-01c5-4279-9af2-71191a5183b6"
   },
   "outputs": [
    {
     "data": {
      "text/html": [
       "<div>\n",
       "<style scoped>\n",
       "    .dataframe tbody tr th:only-of-type {\n",
       "        vertical-align: middle;\n",
       "    }\n",
       "\n",
       "    .dataframe tbody tr th {\n",
       "        vertical-align: top;\n",
       "    }\n",
       "\n",
       "    .dataframe thead th {\n",
       "        text-align: right;\n",
       "    }\n",
       "</style>\n",
       "<table border=\"1\" class=\"dataframe\">\n",
       "  <thead>\n",
       "    <tr style=\"text-align: right;\">\n",
       "      <th></th>\n",
       "      <th>기준일</th>\n",
       "      <th>평균단가($)</th>\n",
       "    </tr>\n",
       "  </thead>\n",
       "  <tbody>\n",
       "    <tr>\n",
       "      <th>0</th>\n",
       "      <td>2015-12-28</td>\n",
       "      <td>13.287212</td>\n",
       "    </tr>\n",
       "    <tr>\n",
       "      <th>1</th>\n",
       "      <td>2016-01-04</td>\n",
       "      <td>12.331994</td>\n",
       "    </tr>\n",
       "    <tr>\n",
       "      <th>2</th>\n",
       "      <td>2016-01-11</td>\n",
       "      <td>12.876513</td>\n",
       "    </tr>\n",
       "    <tr>\n",
       "      <th>3</th>\n",
       "      <td>2016-01-18</td>\n",
       "      <td>13.387350</td>\n",
       "    </tr>\n",
       "    <tr>\n",
       "      <th>4</th>\n",
       "      <td>2016-01-25</td>\n",
       "      <td>12.644323</td>\n",
       "    </tr>\n",
       "    <tr>\n",
       "      <th>...</th>\n",
       "      <td>...</td>\n",
       "      <td>...</td>\n",
       "    </tr>\n",
       "    <tr>\n",
       "      <th>203</th>\n",
       "      <td>2019-12-02</td>\n",
       "      <td>14.114510</td>\n",
       "    </tr>\n",
       "    <tr>\n",
       "      <th>204</th>\n",
       "      <td>2019-12-09</td>\n",
       "      <td>15.565930</td>\n",
       "    </tr>\n",
       "    <tr>\n",
       "      <th>205</th>\n",
       "      <td>2019-12-16</td>\n",
       "      <td>16.314381</td>\n",
       "    </tr>\n",
       "    <tr>\n",
       "      <th>206</th>\n",
       "      <td>2019-12-23</td>\n",
       "      <td>15.883609</td>\n",
       "    </tr>\n",
       "    <tr>\n",
       "      <th>207</th>\n",
       "      <td>2019-12-30</td>\n",
       "      <td>16.342898</td>\n",
       "    </tr>\n",
       "  </tbody>\n",
       "</table>\n",
       "<p>210 rows × 2 columns</p>\n",
       "</div>"
      ],
      "text/plain": [
       "           기준일    평균단가($)\n",
       "0   2015-12-28  13.287212\n",
       "1   2016-01-04  12.331994\n",
       "2   2016-01-11  12.876513\n",
       "3   2016-01-18  13.387350\n",
       "4   2016-01-25  12.644323\n",
       "..         ...        ...\n",
       "203 2019-12-02  14.114510\n",
       "204 2019-12-09  15.565930\n",
       "205 2019-12-16  16.314381\n",
       "206 2019-12-23  15.883609\n",
       "207 2019-12-30  16.342898\n",
       "\n",
       "[210 rows x 2 columns]"
      ]
     },
     "execution_count": 178,
     "metadata": {},
     "output_type": "execute_result"
    }
   ],
   "source": [
    "all_salmon_price_new = all_salmon_price_new.append({'기준일':'2017-01-02','평균단가($)':salmon_price_mean_1701},ignore_index=True)\n",
    "all_salmon_price_new = all_salmon_price_new.append({'기준일':'2017-01-09','평균단가($)':salmon_price_mean_1701},ignore_index=True)\n",
    "\n",
    "all_salmon_price_new['기준일'] = all_salmon_price_new['기준일'].astype('datetime64')\n",
    "all_salmon_price_new = all_salmon_price_new.sort_values('기준일')\n",
    "\n",
    "all_salmon_price_new"
   ]
  },
  {
   "cell_type": "code",
   "execution_count": 179,
   "metadata": {
    "id": "dqsdDqwXlCFU"
   },
   "outputs": [],
   "source": [
    "all_Whiteleg_shrimp_price_new['기준일'] = all_Whiteleg_shrimp_price_new['기준일'].astype('string')\n",
    "\n",
    "Whiteleg_shrimp_price_mean_1701 = all_Whiteleg_shrimp_price_new[all_Whiteleg_shrimp_price_new['기준일'].str.contains('2017-01')]['평균단가($)'].mean() # 2017년 1월의 평균단가의 평균\n",
    "\n",
    "all_Whiteleg_shrimp_price_new['기준일'] = all_Whiteleg_shrimp_price_new['기준일'].astype('datetime64')\n"
   ]
  },
  {
   "cell_type": "code",
   "execution_count": 180,
   "metadata": {
    "colab": {
     "base_uri": "https://localhost:8080/",
     "height": 417
    },
    "id": "GSDi-AFSlLml",
    "outputId": "f78249d0-0e8d-464b-9483-28962a53f181"
   },
   "outputs": [
    {
     "data": {
      "text/html": [
       "<div>\n",
       "<style scoped>\n",
       "    .dataframe tbody tr th:only-of-type {\n",
       "        vertical-align: middle;\n",
       "    }\n",
       "\n",
       "    .dataframe tbody tr th {\n",
       "        vertical-align: top;\n",
       "    }\n",
       "\n",
       "    .dataframe thead th {\n",
       "        text-align: right;\n",
       "    }\n",
       "</style>\n",
       "<table border=\"1\" class=\"dataframe\">\n",
       "  <thead>\n",
       "    <tr style=\"text-align: right;\">\n",
       "      <th></th>\n",
       "      <th>기준일</th>\n",
       "      <th>평균단가($)</th>\n",
       "    </tr>\n",
       "  </thead>\n",
       "  <tbody>\n",
       "    <tr>\n",
       "      <th>0</th>\n",
       "      <td>2015-12-28</td>\n",
       "      <td>9.922919</td>\n",
       "    </tr>\n",
       "    <tr>\n",
       "      <th>1</th>\n",
       "      <td>2016-01-04</td>\n",
       "      <td>9.279109</td>\n",
       "    </tr>\n",
       "    <tr>\n",
       "      <th>2</th>\n",
       "      <td>2016-01-11</td>\n",
       "      <td>10.658746</td>\n",
       "    </tr>\n",
       "    <tr>\n",
       "      <th>3</th>\n",
       "      <td>2016-01-18</td>\n",
       "      <td>9.308712</td>\n",
       "    </tr>\n",
       "    <tr>\n",
       "      <th>4</th>\n",
       "      <td>2016-01-25</td>\n",
       "      <td>9.399535</td>\n",
       "    </tr>\n",
       "    <tr>\n",
       "      <th>...</th>\n",
       "      <td>...</td>\n",
       "      <td>...</td>\n",
       "    </tr>\n",
       "    <tr>\n",
       "      <th>203</th>\n",
       "      <td>2019-12-02</td>\n",
       "      <td>10.567506</td>\n",
       "    </tr>\n",
       "    <tr>\n",
       "      <th>204</th>\n",
       "      <td>2019-12-09</td>\n",
       "      <td>9.523846</td>\n",
       "    </tr>\n",
       "    <tr>\n",
       "      <th>205</th>\n",
       "      <td>2019-12-16</td>\n",
       "      <td>9.749197</td>\n",
       "    </tr>\n",
       "    <tr>\n",
       "      <th>206</th>\n",
       "      <td>2019-12-23</td>\n",
       "      <td>9.601798</td>\n",
       "    </tr>\n",
       "    <tr>\n",
       "      <th>207</th>\n",
       "      <td>2019-12-30</td>\n",
       "      <td>10.210342</td>\n",
       "    </tr>\n",
       "  </tbody>\n",
       "</table>\n",
       "<p>210 rows × 2 columns</p>\n",
       "</div>"
      ],
      "text/plain": [
       "           기준일    평균단가($)\n",
       "0   2015-12-28   9.922919\n",
       "1   2016-01-04   9.279109\n",
       "2   2016-01-11  10.658746\n",
       "3   2016-01-18   9.308712\n",
       "4   2016-01-25   9.399535\n",
       "..         ...        ...\n",
       "203 2019-12-02  10.567506\n",
       "204 2019-12-09   9.523846\n",
       "205 2019-12-16   9.749197\n",
       "206 2019-12-23   9.601798\n",
       "207 2019-12-30  10.210342\n",
       "\n",
       "[210 rows x 2 columns]"
      ]
     },
     "execution_count": 180,
     "metadata": {},
     "output_type": "execute_result"
    }
   ],
   "source": [
    "all_Whiteleg_shrimp_price_new = all_Whiteleg_shrimp_price_new.append({'기준일':'2017-01-02','평균단가($)':Whiteleg_shrimp_price_mean_1701},ignore_index=True)\n",
    "all_Whiteleg_shrimp_price_new = all_Whiteleg_shrimp_price_new.append({'기준일':'2017-01-09','평균단가($)':Whiteleg_shrimp_price_mean_1701},ignore_index=True)\n",
    "\n",
    "all_Whiteleg_shrimp_price_new['기준일'] = all_Whiteleg_shrimp_price_new['기준일'].astype('datetime64')\n",
    "all_Whiteleg_shrimp_price_new = all_Whiteleg_shrimp_price_new.sort_values('기준일')\n",
    "\n",
    "all_Whiteleg_shrimp_price_new"
   ]
  },
  {
   "cell_type": "code",
   "execution_count": 181,
   "metadata": {
    "colab": {
     "base_uri": "https://localhost:8080/"
    },
    "id": "hqDTrllYXiQL",
    "outputId": "41f7e204-c9f1-4a32-f566-52ba5c29131d"
   },
   "outputs": [
    {
     "data": {
      "text/plain": [
       "set()"
      ]
     },
     "execution_count": 181,
     "metadata": {},
     "output_type": "execute_result"
    }
   ],
   "source": [
    "total = pd.date_range('2015-12-28','2019-12-30',freq='7D') # 2015-12-28 부터 2019-12-30까지 일주일 간격의 기간\n",
    "\n",
    "# set(total) - set(all_squid_price_new['기준일'])\n",
    "# set(total) - set(all_salmon_price_new['기준일'])\n",
    "set(total) - set(all_Whiteleg_shrimp_price_new['기준일']) # 결측값 x"
   ]
  },
  {
   "cell_type": "markdown",
   "metadata": {
    "id": "3z6gZRbAndNy"
   },
   "source": [
    "##### Corr HeatMap"
   ]
  },
  {
   "cell_type": "code",
   "execution_count": 182,
   "metadata": {
    "colab": {
     "base_uri": "https://localhost:8080/",
     "height": 385
    },
    "id": "GjXvbaxXLgWI",
    "outputId": "8952e260-e01f-484e-dbde-a126b71e2c5c"
   },
   "outputs": [
    {
     "data": {
      "text/plain": [
       "<matplotlib.axes._subplots.AxesSubplot at 0x7f960ab0aa50>"
      ]
     },
     "execution_count": 182,
     "metadata": {},
     "output_type": "execute_result"
    },
    {
     "data": {
      "image/png": "[encoded data removed]",
      "text/plain": [
       "<Figure size 432x432 with 2 Axes>"
      ]
     },
     "metadata": {},
     "output_type": "display_data"
    }
   ],
   "source": [
    "corr = pd.DataFrame({'all':all_squid_price_new['평균단가($)'],\n",
    "             'peru':peru['종가'],\n",
    "             'china':china['종가'],\n",
    "             'chile':chile['종가']}).corr() \n",
    "\n",
    "plt.figure(figsize= (6, 6))\n",
    "plt.title('Squid between Peru, China, Chile')\n",
    "sns.heatmap(corr, cmap='coolwarm', fmt='.3f', annot=True, \n",
    "            linewidths = 0.1, linecolor='white', square = True)"
   ]
  },
  {
   "cell_type": "code",
   "execution_count": 183,
   "metadata": {
    "colab": {
     "base_uri": "https://localhost:8080/",
     "height": 378
    },
    "id": "WK8kOj1MHJ_P",
    "outputId": "3cce6935-3cd6-412c-9572-9908318de72f"
   },
   "outputs": [
    {
     "data": {
      "text/plain": [
       "<matplotlib.axes._subplots.AxesSubplot at 0x7f9626913290>"
      ]
     },
     "execution_count": 183,
     "metadata": {},
     "output_type": "execute_result"
    },
    {
     "data": {
      "image/png": "[encoded data removed]",
      "text/plain": [
       "<Figure size 432x432 with 2 Axes>"
      ]
     },
     "metadata": {},
     "output_type": "display_data"
    }
   ],
   "source": [
    "corr = pd.DataFrame({'salmon_price':all_salmon_price_new['평균단가($)'],\n",
    "             'norway_rate':norway['종가']}).corr()\n",
    "\n",
    "\n",
    "plt.figure(figsize= (6, 6))\n",
    "plt.title('Salmon between Norway')\n",
    "sns.heatmap(corr, cmap='coolwarm', fmt='.3f', \n",
    "            annot=True, linewidths = 0.1, linecolor='white', square = True)"
   ]
  },
  {
   "cell_type": "code",
   "execution_count": 184,
   "metadata": {
    "colab": {
     "base_uri": "https://localhost:8080/",
     "height": 378
    },
    "id": "VzEGSKxOKE-o",
    "outputId": "49b7cf4c-d963-40a7-c213-0990d0699f9e",
    "scrolled": false
   },
   "outputs": [
    {
     "data": {
      "text/plain": [
       "<matplotlib.axes._subplots.AxesSubplot at 0x7f9626913650>"
      ]
     },
     "execution_count": 184,
     "metadata": {},
     "output_type": "execute_result"
    },
    {
     "data": {
      "image/png": "[encoded data removed]",
      "text/plain": [
       "<Figure size 432x432 with 2 Axes>"
      ]
     },
     "metadata": {},
     "output_type": "display_data"
    }
   ],
   "source": [
    "corr = pd.DataFrame({'all':all_Whiteleg_shrimp_price_new['평균단가($)'],\n",
    "              'thai':thai['종가']\n",
    "             }).corr()\n",
    "\n",
    "plt.figure(figsize= (6, 6))\n",
    "plt.title('Whiteleg_shrimp between thai')\n",
    "sns.heatmap(corr, cmap='coolwarm', fmt='.3f', annot=True, \n",
    "            linewidths = 0.1, linecolor='white', square = True)"
   ]
  },
  {
   "cell_type": "code",
   "execution_count": null,
   "metadata": {},
   "outputs": [],
   "source": []
  }
 ],
 "metadata": {
  "kernelspec": {
   "display_name": "Python 3",
   "language": "python",
   "name": "python3"
  },
  "language_info": {
   "codemirror_mode": {
    "name": "ipython",
    "version": 3
   },
   "file_extension": ".py",
   "mimetype": "text/x-python",
   "name": "python",
   "nbconvert_exporter": "python",
   "pygments_lexer": "ipython3",
   "version": "3.8.3"
  }
 },
 "nbformat": 4,
 "nbformat_minor": 4
}
