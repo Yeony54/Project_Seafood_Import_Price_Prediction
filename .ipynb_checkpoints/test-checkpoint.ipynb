{
 "cells": [
  {
   "cell_type": "code",
   "execution_count": 48,
   "metadata": {
    "id": "CByUo138hs_w"
   },
   "outputs": [],
   "source": [
    "# Import Libraries\n",
    "import os\n",
    "import pandas as pd\n",
    "import numpy as np\n",
    "from scipy.stats import norm\n",
    "from sklearn.preprocessing import StandardScaler\n",
    "from scipy import stats\n",
    "import warnings\n",
    "warnings.filterwarnings('ignore')\n",
    "%matplotlib inline\n",
    "\n",
    "# Visuzliation Setting\n",
    "import matplotlib.pyplot as plt\n",
    "import matplotlib.font_manager as fm\n",
    "from matplotlib import rc\n",
    "from matplotlib import colors\n",
    "import seaborn as sns"
   ]
  },
  {
   "cell_type": "code",
   "execution_count": 49,
   "metadata": {
    "id": "Z5II0orsb8K6"
   },
   "outputs": [],
   "source": [
    "from sklearn.linear_model import LinearRegression\n",
    "from sklearn.model_selection import train_test_split\n",
    "from sklearn.model_selection import cross_val_score\n",
    "from sklearn.metrics import mean_absolute_error\n",
    "from sklearn.metrics import mean_squared_error"
   ]
  },
  {
   "cell_type": "code",
   "execution_count": 67,
   "metadata": {
    "id": "PWe3rF6zcr7J"
   },
   "outputs": [],
   "source": [
    "def RMSE(y, y_pred):\n",
    "  return mean_squared_error(y, y_pred)**0.5\n",
    "\n",
    "\n",
    "def train_model(train_data, target_data, model=LinearRegression()):\n",
    "  x_train, x_test, y_train, y_test = train_test_split(train_data, target_data, random_state=0)\n",
    "\n",
    "  model.fit(x_train, y_train)\n",
    "  print(\"Model Training Complete!\")\n",
    "\n",
    "  pred_train, pred_test = model.predict(x_train), model.predict(x_test)\n",
    "\n",
    "  plt.scatter(pred_train, y_train, s=10)\n",
    "  plt.xlabel(\"Predicted price\")\n",
    "  plt.ylabel(\"Actual price\")\n",
    "  plt.show()\n",
    "\n",
    "  # cvs = cross_val_score(model, x_test, y_test, cv = 5)\n",
    "  # print(\">> cross_val_score mean =\", cvs.mean())\n",
    "  print(\">> RMSE train =\", RMSE(y_train, pred_train))\n",
    "  print(\">> RMSE validation =\", RMSE(y_test, pred_test))\n",
    "  print(\">> MAE train =\", mean_absolute_error(pred_train, y_train))\n",
    "  print(\">> MAE validation =\", mean_absolute_error(pred_test, y_test))\n",
    "\n",
    "  return model"
   ]
  },
  {
   "cell_type": "code",
   "execution_count": 61,
   "metadata": {
    "id": "T1mYBRk6aM2U"
   },
   "outputs": [],
   "source": [
    "root = os.path.join(os.getcwd(), 'DATA')"
   ]
  },
  {
   "cell_type": "code",
   "execution_count": 107,
   "metadata": {
    "id": "hcPwwNImaPjU"
   },
   "outputs": [],
   "source": [
    "df_train = pd.read_excel(os.path.join(root, 'train.xlsx'))\n",
    "df_weather_code = pd.read_excel(os.path.join(root, 'raw_weather_code.xlsx'), header=None, index_col=0)\n",
    "weather_list = [pd.read_csv(os.path.join(root, 'raw_weather_20151228_20161227.csv'), encoding='euc-kr') , \n",
    "                pd.read_csv(os.path.join(root, 'raw_weather_20161228_20171227.csv'), encoding='euc-kr') , \n",
    "                pd.read_csv(os.path.join(root, 'raw_weather_20171228_20181227.csv'), encoding='euc-kr') , \n",
    "                pd.read_csv(os.path.join(root, 'raw_weather_20181228_20191227.csv'), encoding='euc-kr') , \n",
    "                pd.read_csv(os.path.join(root, 'raw_weather_20191228_20201227.csv'), encoding='euc-kr') , \n",
    "                pd.read_csv(os.path.join(root, 'raw_weather_20201228_20210818.csv'), encoding='euc-kr')]\n",
    "df_oil = pd.read_csv(os.path.join(root, 'preprocessed_oil.csv'))\n",
    "df_weather_kr = pd.read_csv(os.path.join(root, 'preprocessed_weather_korea.csv'))\n",
    "df_cpi1 = pd.read_csv(os.path.join(root, 'preprocessed_cpi_region.csv'))\n",
    "df_cpi2 = pd.read_csv(os.path.join(root, 'preprocessed_cpi_purpose.csv'))"
   ]
  },
  {
   "cell_type": "code",
   "execution_count": 89,
   "metadata": {
    "id": "dyxkStUOakNF"
   },
   "outputs": [],
   "source": [
    "df0_base = df_train.copy()\n",
    "\n",
    "# One hot encoding\n",
    "import_type_list = set()\n",
    "for tmp in df0_base.P_IMPORT_TYPE.unique():\n",
    "    for a in tmp.split(','):\n",
    "        import_type_list.add(a)\n",
    "for name in import_type_list:\n",
    "    df0_base[name] = 0\n",
    "    df0_base.loc[df0_base['P_IMPORT_TYPE'].str.contains(name, regex=False), name] = 1\n",
    "    \n",
    "# One hot encodiing\n",
    "one_hot = ['CTRY_1', 'CTRY_2', 'P_PURPOSE', 'CATEGORY_1', 'CATEGORY_2', 'P_NAME']\n",
    "df0_base = pd.get_dummies(df0_base, columns=one_hot)\n",
    "\n",
    "# Drop columns\n",
    "drop = ['P_TYPE', 'P_IMPORT_TYPE']\n",
    "df0_base.drop(columns = drop, inplace=True)\n",
    "\n",
    "# Change datetime\n",
    "df0_base.REG_DATE = pd.to_datetime(df0_base.REG_DATE)"
   ]
  },
  {
   "cell_type": "markdown",
   "metadata": {
    "id": "jAgYDW8Ac4CA"
   },
   "source": [
    "# df1_date, df3_date\n",
    "\n"
   ]
  },
  {
   "cell_type": "code",
   "execution_count": 90,
   "metadata": {
    "id": "uCOYHOTebwtf"
   },
   "outputs": [],
   "source": [
    "df1_date = df0_base.copy()\n",
    "\n",
    "# 날짜변수 추가\n",
    "df1_date['year'] = df1_date['REG_DATE'].dt.year\n",
    "df1_date['month'] = df1_date['REG_DATE'].dt.month\n",
    "df1_date['day'] = df1_date['REG_DATE'].dt.day\n",
    "\n",
    "df1_date.drop(columns = ['REG_DATE'], inplace=True)"
   ]
  },
  {
   "cell_type": "code",
   "execution_count": 91,
   "metadata": {
    "id": "SwqY4VMobzfD"
   },
   "outputs": [],
   "source": [
    "df3_date = df1_date.copy()\n",
    "\n",
    "# One hot encodiing\n",
    "df3_date = pd.get_dummies(df3_date, columns=['year', 'month', 'day'])"
   ]
  },
  {
   "cell_type": "code",
   "execution_count": null,
   "metadata": {
    "id": "GmOdAk_Mc2eN"
   },
   "outputs": [],
   "source": [
    "train_model(df0_base.drop(columns=['P_PRICE'], axis=1), df0_base['P_PRICE'])"
   ]
  },
  {
   "cell_type": "code",
   "execution_count": 93,
   "metadata": {
    "colab": {
     "base_uri": "https://localhost:8080/",
     "height": 402
    },
    "id": "WnvyiOGkdxWV",
    "outputId": "e86b8be3-8498-44ef-bf2c-b2eaf3c7cd2f"
   },
   "outputs": [
    {
     "name": "stdout",
     "output_type": "stream",
     "text": [
      "Model Training Complete!\n"
     ]
    },
    {
     "data": {
      "image/png": "[encoded data removed]",
      "text/plain": [
       "<Figure size 432x288 with 1 Axes>"
      ]
     },
     "metadata": {
      "needs_background": "light"
     },
     "output_type": "display_data"
    },
    {
     "name": "stdout",
     "output_type": "stream",
     "text": [
      ">> cross_val_score mean = -7.16751781403003e+16\n",
      ">> RMSE train = 14.251803087674864\n",
      ">> RMSE validation = 1238837721.2636847\n",
      ">> MAE train = 4.1799821824088434\n",
      ">> MAE validation = 38484812.07768093\n"
     ]
    },
    {
     "data": {
      "text/plain": [
       "LinearRegression(copy_X=True, fit_intercept=True, n_jobs=None, normalize=False)"
      ]
     },
     "execution_count": 93,
     "metadata": {},
     "output_type": "execute_result"
    }
   ],
   "source": [
    "train_model(df1_date.drop(columns=['P_PRICE'], axis=1), df1_date['P_PRICE'])"
   ]
  },
  {
   "cell_type": "code",
   "execution_count": 94,
   "metadata": {
    "colab": {
     "base_uri": "https://localhost:8080/",
     "height": 402
    },
    "id": "URPa58MYgQfk",
    "outputId": "8dbc6ebc-8268-49da-fa46-31c84572e60a"
   },
   "outputs": [
    {
     "name": "stdout",
     "output_type": "stream",
     "text": [
      "Model Training Complete!\n"
     ]
    },
    {
     "data": {
      "image/png": "[encoded data removed]",
      "text/plain": [
       "<Figure size 432x288 with 1 Axes>"
      ]
     },
     "metadata": {
      "needs_background": "light"
     },
     "output_type": "display_data"
    },
    {
     "name": "stdout",
     "output_type": "stream",
     "text": [
      ">> cross_val_score mean = -1.228161252864258e+23\n",
      ">> RMSE train = 14.286449184840661\n",
      ">> RMSE validation = 1368489261676.9453\n",
      ">> MAE train = 4.347067020331529\n",
      ">> MAE validation = 46841017776.32614\n"
     ]
    },
    {
     "data": {
      "text/plain": [
       "LinearRegression(copy_X=True, fit_intercept=True, n_jobs=None, normalize=False)"
      ]
     },
     "execution_count": 94,
     "metadata": {},
     "output_type": "execute_result"
    }
   ],
   "source": [
    "train_model(df3_date.drop(columns=['P_PRICE'], axis=1), df3_date['P_PRICE'])"
   ]
  },
  {
   "cell_type": "markdown",
   "metadata": {
    "id": "HpRwXH4Lp7ay"
   },
   "source": [
    "# df4_name"
   ]
  },
  {
   "cell_type": "code",
   "execution_count": 95,
   "metadata": {
    "id": "NHyE1lkHke7D"
   },
   "outputs": [],
   "source": [
    "df4_name = df_train.copy()"
   ]
  },
  {
   "cell_type": "code",
   "execution_count": 96,
   "metadata": {
    "id": "sD12_XRbq8gX"
   },
   "outputs": [],
   "source": [
    "# 날짜변수 추가\n",
    "df4_name['year'] = df4_name['REG_DATE'].dt.year\n",
    "df4_name['month'] = df4_name['REG_DATE'].dt.month\n",
    "df4_name['day'] = df4_name['REG_DATE'].dt.day\n",
    "\n",
    "df4_name['VALUE_COUNT'] = 0;\n",
    "value_dict = {}\n",
    "for name, value in zip(df4_name['P_NAME'].value_counts().index,df4_name['P_NAME'].value_counts()):\n",
    "    value_dict[name] = value\n",
    "\n",
    "def value(col):\n",
    "    return value_dict[col]\n",
    "\n",
    "df4_name['VALUE_COUNT'] = df4_name['P_NAME'].apply(value)\n",
    "import_type_list = set()\n",
    "for tmp in df4_name.P_IMPORT_TYPE.unique():\n",
    "    for a in tmp.split(','):\n",
    "        import_type_list.add(a)\n",
    "\n",
    "for name in import_type_list:\n",
    "    df4_name[name] = 0\n",
    "    df4_name.loc[df4_name['P_IMPORT_TYPE'].str.contains(name, regex=False), name] = 1\n",
    "\n",
    "one_hot = ['CTRY_1', 'CTRY_2', 'P_PURPOSE', 'CATEGORY_1', 'CATEGORY_2', 'P_NAME']\n",
    "df4_name = pd.get_dummies(df4_name, columns=one_hot)\n",
    "\n",
    "drop = ['REG_DATE', 'P_TYPE', 'P_IMPORT_TYPE']\n",
    "df4_name.drop(columns = drop, inplace=True)"
   ]
  },
  {
   "cell_type": "code",
   "execution_count": 97,
   "metadata": {
    "colab": {
     "base_uri": "https://localhost:8080/",
     "height": 805
    },
    "id": "DDmMw-JqyMxq",
    "outputId": "e9d46e09-fbe2-4351-f16e-3ec5ceec4397"
   },
   "outputs": [
    {
     "name": "stdout",
     "output_type": "stream",
     "text": [
      "BEFORE\n",
      "Model Training Complete!\n"
     ]
    },
    {
     "data": {
      "image/png": "[encoded data removed]",
      "text/plain": [
       "<Figure size 432x288 with 1 Axes>"
      ]
     },
     "metadata": {
      "needs_background": "light"
     },
     "output_type": "display_data"
    },
    {
     "name": "stdout",
     "output_type": "stream",
     "text": [
      ">> cross_val_score mean = -7.16751781403003e+16\n",
      ">> RMSE train = 14.251803087674864\n",
      ">> RMSE validation = 1238837721.2636847\n",
      ">> MAE train = 4.1799821824088434\n",
      ">> MAE validation = 38484812.07768093\n",
      "AFTER\n",
      "Model Training Complete!\n"
     ]
    },
    {
     "data": {
      "image/png": "[encoded data removed]",
      "text/plain": [
       "<Figure size 432x288 with 1 Axes>"
      ]
     },
     "metadata": {
      "needs_background": "light"
     },
     "output_type": "display_data"
    },
    {
     "name": "stdout",
     "output_type": "stream",
     "text": [
      ">> cross_val_score mean = -7658083797584.977\n",
      ">> RMSE train = 14.25180076148112\n",
      ">> RMSE validation = 937476.028776049\n",
      ">> MAE train = 4.179985764827042\n",
      ">> MAE validation = 36261.44905437577\n"
     ]
    },
    {
     "data": {
      "text/plain": [
       "LinearRegression(copy_X=True, fit_intercept=True, n_jobs=None, normalize=False)"
      ]
     },
     "execution_count": 97,
     "metadata": {},
     "output_type": "execute_result"
    }
   ],
   "source": [
    "print(\"BEFORE\")\n",
    "train_model(df1_date.drop(columns=['P_PRICE'], axis=1), df1_date['P_PRICE'])\n",
    "\n",
    "print(\"AFTER\")\n",
    "train_model(df4_name.drop(columns=['P_PRICE'], axis=1), df4_name['P_PRICE'])"
   ]
  },
  {
   "cell_type": "markdown",
   "metadata": {
    "id": "BLvw_JLe1A0M"
   },
   "source": [
    "# df8_add"
   ]
  },
  {
   "cell_type": "code",
   "execution_count": 108,
   "metadata": {
    "id": "ztujxnaazNUb"
   },
   "outputs": [],
   "source": [
    "df8_add = df_train.copy()\n",
    "\n",
    "# 날짜변수 추가\n",
    "df8_add['year'] = df8_add['REG_DATE'].dt.year\n",
    "df8_add['month'] = df8_add['REG_DATE'].dt.month\n",
    "df8_add['day'] = df8_add['REG_DATE'].dt.day\n",
    "\n",
    "# Add data\n",
    "df8_add = pd.merge(df8_add, df_oil, how='left', on=['year', 'month', 'day'])\n",
    "df8_add = pd.merge(df8_add, df_weather_kr, how='left', on=['year', 'month', 'day'])\n",
    "df8_add = pd.merge(df8_add, df_cpi1, how='left', on=['year', 'month'])\n",
    "df8_add = pd.merge(df8_add, df_cpi2, how='left', on=['year', 'month'])\n",
    "\n",
    "# One hot encoding\n",
    "import_type_list = set()\n",
    "for tmp in df8_add.P_IMPORT_TYPE.unique():\n",
    "    for a in tmp.split(','):\n",
    "        import_type_list.add(a)\n",
    "for name in import_type_list:\n",
    "    df8_add[name] = 0\n",
    "    df8_add.loc[df8_add['P_IMPORT_TYPE'].str.contains(name, regex=False), name] = 1\n",
    "\n",
    "one_hot = ['CTRY_1', 'CTRY_2', 'P_PURPOSE', 'CATEGORY_1', 'CATEGORY_2', 'P_NAME']\n",
    "df8_add = pd.get_dummies(df8_add, columns=one_hot)\n",
    "\n",
    "# Drop columns\n",
    "drop = ['REG_DATE', 'P_TYPE', 'P_IMPORT_TYPE']\n",
    "df8_add.drop(columns = drop, inplace=True)"
   ]
  },
  {
   "cell_type": "code",
   "execution_count": 110,
   "metadata": {
    "colab": {
     "base_uri": "https://localhost:8080/",
     "height": 754
    },
    "id": "XGQTJiBk1nyr",
    "outputId": "41496abb-5db7-4dfa-b990-ae38ee9788cf"
   },
   "outputs": [
    {
     "name": "stdout",
     "output_type": "stream",
     "text": [
      "BEFORE\n",
      "Model Training Complete!\n"
     ]
    },
    {
     "data": {
      "image/png": "[encoded data removed]",
      "text/plain": [
       "<Figure size 432x288 with 1 Axes>"
      ]
     },
     "metadata": {
      "needs_background": "light"
     },
     "output_type": "display_data"
    },
    {
     "name": "stdout",
     "output_type": "stream",
     "text": [
      ">> cross_val_score mean = -7.16751781403003e+16\n",
      ">> RMSE train = 14.251803087674864\n",
      ">> RMSE validation = 1238837721.2636847\n",
      ">> MAE train = 4.1799821824088434\n",
      ">> MAE validation = 38484812.07768093\n",
      "AFTER\n"
     ]
    },
    {
     "ename": "ValueError",
     "evalue": "ignored",
     "output_type": "error",
     "traceback": [
      "\u001b[0;31m---------------------------------------------------------------------------\u001b[0m",
      "\u001b[0;31mValueError\u001b[0m                                Traceback (most recent call last)",
      "\u001b[0;32m<ipython-input-110-3b836c116b8c>\u001b[0m in \u001b[0;36m<module>\u001b[0;34m()\u001b[0m\n\u001b[1;32m      3\u001b[0m \u001b[0;34m\u001b[0m\u001b[0m\n\u001b[1;32m      4\u001b[0m \u001b[0mprint\u001b[0m\u001b[0;34m(\u001b[0m\u001b[0;34m\"AFTER\"\u001b[0m\u001b[0;34m)\u001b[0m\u001b[0;34m\u001b[0m\u001b[0;34m\u001b[0m\u001b[0m\n\u001b[0;32m----> 5\u001b[0;31m \u001b[0mtrain_model\u001b[0m\u001b[0;34m(\u001b[0m\u001b[0mdf8_add\u001b[0m\u001b[0;34m.\u001b[0m\u001b[0mdrop\u001b[0m\u001b[0;34m(\u001b[0m\u001b[0mcolumns\u001b[0m\u001b[0;34m=\u001b[0m\u001b[0;34m[\u001b[0m\u001b[0;34m'P_PRICE'\u001b[0m\u001b[0;34m]\u001b[0m\u001b[0;34m,\u001b[0m \u001b[0maxis\u001b[0m\u001b[0;34m=\u001b[0m\u001b[0;36m1\u001b[0m\u001b[0;34m)\u001b[0m\u001b[0;34m,\u001b[0m \u001b[0mdf8_add\u001b[0m\u001b[0;34m[\u001b[0m\u001b[0;34m'P_PRICE'\u001b[0m\u001b[0;34m]\u001b[0m\u001b[0;34m)\u001b[0m\u001b[0;34m\u001b[0m\u001b[0;34m\u001b[0m\u001b[0m\n\u001b[0m",
      "\u001b[0;32m<ipython-input-67-4aaa4f618cc5>\u001b[0m in \u001b[0;36mtrain_model\u001b[0;34m(train_data, target_data, model)\u001b[0m\n\u001b[1;32m      6\u001b[0m   \u001b[0mx_train\u001b[0m\u001b[0;34m,\u001b[0m \u001b[0mx_test\u001b[0m\u001b[0;34m,\u001b[0m \u001b[0my_train\u001b[0m\u001b[0;34m,\u001b[0m \u001b[0my_test\u001b[0m \u001b[0;34m=\u001b[0m \u001b[0mtrain_test_split\u001b[0m\u001b[0;34m(\u001b[0m\u001b[0mtrain_data\u001b[0m\u001b[0;34m,\u001b[0m \u001b[0mtarget_data\u001b[0m\u001b[0;34m,\u001b[0m \u001b[0mrandom_state\u001b[0m\u001b[0;34m=\u001b[0m\u001b[0;36m0\u001b[0m\u001b[0;34m)\u001b[0m\u001b[0;34m\u001b[0m\u001b[0;34m\u001b[0m\u001b[0m\n\u001b[1;32m      7\u001b[0m \u001b[0;34m\u001b[0m\u001b[0m\n\u001b[0;32m----> 8\u001b[0;31m   \u001b[0mmodel\u001b[0m\u001b[0;34m.\u001b[0m\u001b[0mfit\u001b[0m\u001b[0;34m(\u001b[0m\u001b[0mx_train\u001b[0m\u001b[0;34m,\u001b[0m \u001b[0my_train\u001b[0m\u001b[0;34m)\u001b[0m\u001b[0;34m\u001b[0m\u001b[0;34m\u001b[0m\u001b[0m\n\u001b[0m\u001b[1;32m      9\u001b[0m   \u001b[0mprint\u001b[0m\u001b[0;34m(\u001b[0m\u001b[0;34m\"Model Training Complete!\"\u001b[0m\u001b[0;34m)\u001b[0m\u001b[0;34m\u001b[0m\u001b[0;34m\u001b[0m\u001b[0m\n\u001b[1;32m     10\u001b[0m \u001b[0;34m\u001b[0m\u001b[0m\n",
      "\u001b[0;32m/usr/local/lib/python3.7/dist-packages/sklearn/linear_model/_base.py\u001b[0m in \u001b[0;36mfit\u001b[0;34m(self, X, y, sample_weight)\u001b[0m\n\u001b[1;32m    490\u001b[0m         \u001b[0mn_jobs_\u001b[0m \u001b[0;34m=\u001b[0m \u001b[0mself\u001b[0m\u001b[0;34m.\u001b[0m\u001b[0mn_jobs\u001b[0m\u001b[0;34m\u001b[0m\u001b[0;34m\u001b[0m\u001b[0m\n\u001b[1;32m    491\u001b[0m         X, y = check_X_y(X, y, accept_sparse=['csr', 'csc', 'coo'],\n\u001b[0;32m--> 492\u001b[0;31m                          y_numeric=True, multi_output=True)\n\u001b[0m\u001b[1;32m    493\u001b[0m \u001b[0;34m\u001b[0m\u001b[0m\n\u001b[1;32m    494\u001b[0m         \u001b[0;32mif\u001b[0m \u001b[0msample_weight\u001b[0m \u001b[0;32mis\u001b[0m \u001b[0;32mnot\u001b[0m \u001b[0;32mNone\u001b[0m\u001b[0;34m:\u001b[0m\u001b[0;34m\u001b[0m\u001b[0;34m\u001b[0m\u001b[0m\n",
      "\u001b[0;32m/usr/local/lib/python3.7/dist-packages/sklearn/utils/validation.py\u001b[0m in \u001b[0;36mcheck_X_y\u001b[0;34m(X, y, accept_sparse, accept_large_sparse, dtype, order, copy, force_all_finite, ensure_2d, allow_nd, multi_output, ensure_min_samples, ensure_min_features, y_numeric, warn_on_dtype, estimator)\u001b[0m\n\u001b[1;32m    753\u001b[0m                     \u001b[0mensure_min_features\u001b[0m\u001b[0;34m=\u001b[0m\u001b[0mensure_min_features\u001b[0m\u001b[0;34m,\u001b[0m\u001b[0;34m\u001b[0m\u001b[0;34m\u001b[0m\u001b[0m\n\u001b[1;32m    754\u001b[0m                     \u001b[0mwarn_on_dtype\u001b[0m\u001b[0;34m=\u001b[0m\u001b[0mwarn_on_dtype\u001b[0m\u001b[0;34m,\u001b[0m\u001b[0;34m\u001b[0m\u001b[0;34m\u001b[0m\u001b[0m\n\u001b[0;32m--> 755\u001b[0;31m                     estimator=estimator)\n\u001b[0m\u001b[1;32m    756\u001b[0m     \u001b[0;32mif\u001b[0m \u001b[0mmulti_output\u001b[0m\u001b[0;34m:\u001b[0m\u001b[0;34m\u001b[0m\u001b[0;34m\u001b[0m\u001b[0m\n\u001b[1;32m    757\u001b[0m         y = check_array(y, 'csr', force_all_finite=True, ensure_2d=False,\n",
      "\u001b[0;32m/usr/local/lib/python3.7/dist-packages/sklearn/utils/validation.py\u001b[0m in \u001b[0;36mcheck_array\u001b[0;34m(array, accept_sparse, accept_large_sparse, dtype, order, copy, force_all_finite, ensure_2d, allow_nd, ensure_min_samples, ensure_min_features, warn_on_dtype, estimator)\u001b[0m\n\u001b[1;32m    576\u001b[0m         \u001b[0;32mif\u001b[0m \u001b[0mforce_all_finite\u001b[0m\u001b[0;34m:\u001b[0m\u001b[0;34m\u001b[0m\u001b[0;34m\u001b[0m\u001b[0m\n\u001b[1;32m    577\u001b[0m             _assert_all_finite(array,\n\u001b[0;32m--> 578\u001b[0;31m                                allow_nan=force_all_finite == 'allow-nan')\n\u001b[0m\u001b[1;32m    579\u001b[0m \u001b[0;34m\u001b[0m\u001b[0m\n\u001b[1;32m    580\u001b[0m     \u001b[0;32mif\u001b[0m \u001b[0mensure_min_samples\u001b[0m \u001b[0;34m>\u001b[0m \u001b[0;36m0\u001b[0m\u001b[0;34m:\u001b[0m\u001b[0;34m\u001b[0m\u001b[0;34m\u001b[0m\u001b[0m\n",
      "\u001b[0;32m/usr/local/lib/python3.7/dist-packages/sklearn/utils/validation.py\u001b[0m in \u001b[0;36m_assert_all_finite\u001b[0;34m(X, allow_nan, msg_dtype)\u001b[0m\n\u001b[1;32m     58\u001b[0m                     \u001b[0mmsg_err\u001b[0m\u001b[0;34m.\u001b[0m\u001b[0mformat\u001b[0m\u001b[0;34m\u001b[0m\u001b[0;34m\u001b[0m\u001b[0m\n\u001b[1;32m     59\u001b[0m                     (type_err,\n\u001b[0;32m---> 60\u001b[0;31m                      msg_dtype if msg_dtype is not None else X.dtype)\n\u001b[0m\u001b[1;32m     61\u001b[0m             )\n\u001b[1;32m     62\u001b[0m     \u001b[0;31m# for object dtype data, we only check for NaNs (GH-13254)\u001b[0m\u001b[0;34m\u001b[0m\u001b[0;34m\u001b[0m\u001b[0;34m\u001b[0m\u001b[0m\n",
      "\u001b[0;31mValueError\u001b[0m: Input contains NaN, infinity or a value too large for dtype('float64')."
     ]
    }
   ],
   "source": [
    "print(\"BEFORE\")\n",
    "train_model(df1_date.drop(columns=['P_PRICE'], axis=1), df1_date['P_PRICE'])\n",
    "\n",
    "print(\"AFTER\")\n",
    "train_model(df8_add.drop(columns=['P_PRICE'], axis=1), df8_add['P_PRICE'])"
   ]
  },
  {
   "cell_type": "code",
   "execution_count": null,
   "metadata": {
    "id": "fWEb20L34fdM"
   },
   "outputs": [],
   "source": []
  }
 ],
 "metadata": {
  "colab": {
   "collapsed_sections": [],
   "name": "test.ipynb",
   "provenance": []
  },
  "kernelspec": {
   "display_name": "Python 3",
   "language": "python",
   "name": "python3"
  },
  "language_info": {
   "codemirror_mode": {
    "name": "ipython",
    "version": 3
   },
   "file_extension": ".py",
   "mimetype": "text/x-python",
   "name": "python",
   "nbconvert_exporter": "python",
   "pygments_lexer": "ipython3",
   "version": "3.8.3"
  }
 },
 "nbformat": 4,
 "nbformat_minor": 1
}
