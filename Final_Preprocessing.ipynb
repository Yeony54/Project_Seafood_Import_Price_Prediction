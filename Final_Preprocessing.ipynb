{
  "nbformat": 4,
  "nbformat_minor": 0,
  "metadata": {
    "kernelspec": {
      "display_name": "Python 3",
      "language": "python",
      "name": "python3"
    },
    "language_info": {
      "codemirror_mode": {
        "name": "ipython",
        "version": 3
      },
      "file_extension": ".py",
      "mimetype": "text/x-python",
      "name": "python",
      "nbconvert_exporter": "python",
      "pygments_lexer": "ipython3",
      "version": "3.8.3"
    },
    "colab": {
      "name": "Final_Preprocessing.ipynb",
      "provenance": [],
      "collapsed_sections": [
        "KF2OAGuX7TKp",
        "8M2cvvz67TKp",
        "BGnKTFUv7TKr",
        "6Bcx08HU7TKr",
        "600RYV_S7TKs",
        "5nG6S2767TKs",
        "acx-1jLF7TKt",
        "oCJclrSZ7TKt",
        "r5qohDxB7TKt",
        "pyvGCh4F7TKt",
        "P6aYxyz67TKt",
        "B1Ds8aYs7TKu",
        "kYt6KcQk7TKu",
        "FlOKa7c37TKu",
        "iRuMRtrf7TKu",
        "gH6G-gCb7TKv",
        "Ui7PhQlm7TKw",
        "9TjOq4PM7TKx",
        "tgHQpmnw7TKx"
      ]
    }
  },
  "cells": [
    {
      "cell_type": "markdown",
      "metadata": {
        "id": "DACPIbVx7TKg"
      },
      "source": [
        "# Import Library"
      ]
    },
    {
      "cell_type": "code",
      "metadata": {
        "id": "83--jW2p7TKi"
      },
      "source": [
        "# Import Libraries\n",
        "import os\n",
        "import pandas as pd\n",
        "import numpy as np\n",
        "from scipy.stats import norm\n",
        "from sklearn.preprocessing import StandardScaler\n",
        "from scipy import stats\n",
        "import warnings\n",
        "warnings.filterwarnings('ignore')\n",
        "%matplotlib inline\n",
        "\n",
        "# Visuzliation Setting\n",
        "import matplotlib.pyplot as plt\n",
        "import matplotlib.font_manager as fm\n",
        "from matplotlib import rc\n",
        "from matplotlib import colors\n",
        "import seaborn as sns"
      ],
      "execution_count": null,
      "outputs": []
    },
    {
      "cell_type": "markdown",
      "metadata": {
        "id": "Ap-G6EzN7TKk"
      },
      "source": [
        "---"
      ]
    },
    {
      "cell_type": "code",
      "metadata": {
        "colab": {
          "base_uri": "https://localhost:8080/"
        },
        "id": "Vd981FIv9NUn",
        "outputId": "5e8cb746-a86a-4032-a34e-33c8ba221552"
      },
      "source": [
        "from google.colab import drive\n",
        "drive.mount('/content/drive')"
      ],
      "execution_count": null,
      "outputs": [
        {
          "output_type": "stream",
          "text": [
            "Drive already mounted at /content/drive; to attempt to forcibly remount, call drive.mount(\"/content/drive\", force_remount=True).\n"
          ],
          "name": "stdout"
        }
      ]
    },
    {
      "cell_type": "code",
      "metadata": {
        "id": "TWB8ocwr7TKk"
      },
      "source": [
        "root = os.path.join(os.getcwd(), '/content/drive/MyDrive/BigContest/DATA')"
      ],
      "execution_count": null,
      "outputs": []
    },
    {
      "cell_type": "markdown",
      "metadata": {
        "id": "n0koSwxa7TKl"
      },
      "source": [
        "# Training Data\n",
        "빅콘테스트 제공 데이터 전처리"
      ]
    },
    {
      "cell_type": "markdown",
      "metadata": {
        "id": "xdBOsf7e7TKl"
      },
      "source": [
        "## Import Data"
      ]
    },
    {
      "cell_type": "code",
      "metadata": {
        "id": "KJCPDskn7TKl"
      },
      "source": [
        "df_raw = pd.read_excel(os.path.join(root, 'train.xlsx'))\n",
        "df_train = df_raw.copy()"
      ],
      "execution_count": null,
      "outputs": []
    },
    {
      "cell_type": "markdown",
      "metadata": {
        "id": "8GgRtMPI7TKm"
      },
      "source": [
        "### Add Columns"
      ]
    },
    {
      "cell_type": "code",
      "metadata": {
        "id": "LLjCPPHU7TKm"
      },
      "source": [
        "# 날짜변수 추가\n",
        "df_train['year'] = df_train['REG_DATE'].dt.year\n",
        "df_train['month'] = df_train['REG_DATE'].dt.month\n",
        "df_train['day'] = df_train['REG_DATE'].dt.day"
      ],
      "execution_count": null,
      "outputs": []
    },
    {
      "cell_type": "code",
      "metadata": {
        "id": "iOcPWO0-7TKn"
      },
      "source": [
        "df_train['VALUE_COUNT'] = 0;\n",
        "value_dict = {}\n",
        "for name, value in zip(df_train['P_NAME'].value_counts().index,df_train['P_NAME'].value_counts()):\n",
        "    value_dict[name] = value\n",
        "\n",
        "def value(col):\n",
        "    return value_dict[col]\n",
        "\n",
        "df_train['VALUE_COUNT'] = df_train['P_NAME'].apply(value)"
      ],
      "execution_count": null,
      "outputs": []
    },
    {
      "cell_type": "markdown",
      "metadata": {
        "id": "h3OU0ctu7TKo"
      },
      "source": [
        "### One hot encoding\n",
        "P_IMPORT_TYPE 이라는 특수한 컬럼에 대한 전처리"
      ]
    },
    {
      "cell_type": "code",
      "metadata": {
        "id": "WfYJ0J9I7TKo"
      },
      "source": [
        "import_type_list = set()\n",
        "for tmp in df_train.P_IMPORT_TYPE.unique():\n",
        "    for a in tmp.split(','):\n",
        "        import_type_list.add(a)"
      ],
      "execution_count": null,
      "outputs": []
    },
    {
      "cell_type": "code",
      "metadata": {
        "id": "9Sem0cl37TKo"
      },
      "source": [
        "for name in import_type_list:\n",
        "    df_train[name] = 0\n",
        "    df_train.loc[df_train['P_IMPORT_TYPE'].str.contains(name, regex=False), name] = 1"
      ],
      "execution_count": null,
      "outputs": []
    },
    {
      "cell_type": "markdown",
      "metadata": {
        "id": "uDZd3vUe7TKp"
      },
      "source": [
        "---"
      ]
    },
    {
      "cell_type": "markdown",
      "metadata": {
        "id": "Yohf5ddY7TKp"
      },
      "source": [
        "# Weather data"
      ]
    },
    {
      "cell_type": "markdown",
      "metadata": {
        "id": "KF2OAGuX7TKp"
      },
      "source": [
        "## Import Data"
      ]
    },
    {
      "cell_type": "code",
      "metadata": {
        "id": "d1lx8F_f7TKp"
      },
      "source": [
        "df_weather_code = pd.read_excel(os.path.join(root, 'raw_weather_code.xlsx'), header=None, index_col=0)"
      ],
      "execution_count": null,
      "outputs": []
    },
    {
      "cell_type": "code",
      "metadata": {
        "id": "7jgUNwso7TKp"
      },
      "source": [
        "weather_list = [pd.read_csv(os.path.join(root, 'raw_weather_20151228_20161227.csv'), encoding='euc-kr') , \n",
        "                pd.read_csv(os.path.join(root, 'raw_weather_20161228_20171227.csv'), encoding='euc-kr') , \n",
        "                pd.read_csv(os.path.join(root, 'raw_weather_20171228_20181227.csv'), encoding='euc-kr') , \n",
        "                pd.read_csv(os.path.join(root, 'raw_weather_20181228_20191227.csv'), encoding='euc-kr') , \n",
        "                pd.read_csv(os.path.join(root, 'raw_weather_20191228_20201227.csv'), encoding='euc-kr') , \n",
        "                pd.read_csv(os.path.join(root, 'raw_weather_20201228_20210818.csv'), encoding='euc-kr')]"
      ],
      "execution_count": null,
      "outputs": []
    },
    {
      "cell_type": "markdown",
      "metadata": {
        "id": "8M2cvvz67TKp"
      },
      "source": [
        "\n",
        "## Preprocess\n",
        "- '지점'에 따른 나라명 컬럼 (country) 추가\n",
        "- 각 나라, 일자 별로 평균 강수량, 풍속, 기온 계산"
      ]
    },
    {
      "cell_type": "code",
      "metadata": {
        "id": "PiLtGhtD7TKp"
      },
      "source": [
        "# 지점에 따라 나라명 추가\n",
        "def set_country(row):\n",
        "    data = df_weather_code[df_weather_code[1] == row['지점']]\n",
        "    if data.empty:\n",
        "        return \"\"\n",
        "    return data.iloc[0][2]\n",
        "\n",
        "\n",
        "def preprocess_weather(df_weather):\n",
        "    # 날짜 정보 정리\n",
        "    df_weather['year'] = df_weather['일시'].astype('str').str[:4].astype('int')\n",
        "    df_weather['month'] = df_weather['일시'].astype('str').str[5:7].astype('int')\n",
        "    df_weather['day'] = df_weather['일시'].astype('str').str[8:10].astype('int')\n",
        "    # 1차 평균\n",
        "    df_weather['rain'] = df_weather[['지점', 'year', 'month', 'day', '강수량']].groupby(['지점', 'year', 'month', 'day']).transform('mean')\n",
        "    df_weather['wind'] = df_weather[['지점', 'year', 'month', 'day', '풍속']].groupby(['지점', 'year', 'month', 'day']).transform('mean')\n",
        "    df_weather['temperature'] = df_weather[['지점', 'year', 'month', 'day', '기온']].groupby(['지점', 'year', 'month', 'day']).transform('mean')\n",
        "    # 컬럼/행 정리\n",
        "    df_weather.drop(columns = ['지점명', '일시', '강수량', '풍속', '기온'], inplace=True)\n",
        "    df_weather.drop_duplicates(inplace=True)\n",
        "    # 나라명 추가\n",
        "    df_weather['CTRY_1'] = \"\"\n",
        "    for i, row in df_weather.iterrows():\n",
        "        df_weather.at[i, 'CTRY_1'] = set_country(row)\n",
        "    # 2차 평균\n",
        "    df_weather['rain'] = df_weather[['CTRY_1', 'year', 'month', 'day', 'rain']].groupby(['CTRY_1', 'year', 'month', 'day']).transform('mean')\n",
        "    df_weather['wind'] = df_weather[['CTRY_1', 'year', 'month', 'day', 'wind']].groupby(['CTRY_1', 'year', 'month', 'day']).transform('mean')\n",
        "    df_weather['temperature'] = df_weather[['CTRY_1', 'year', 'month', 'day', 'temperature']].groupby(['CTRY_1', 'year', 'month', 'day']).transform('mean')\n",
        "    # 컬럼/행 정리\n",
        "    df_weather.drop(columns = ['지점'], inplace=True)\n",
        "    df_weather.drop_duplicates(inplace=True)\n",
        "    # 인덱스 정리\n",
        "    df_weather.reset_index(drop=True, inplace=True)"
      ],
      "execution_count": null,
      "outputs": []
    },
    {
      "cell_type": "code",
      "metadata": {
        "scrolled": false,
        "id": "WxLOBtPv7TKq"
      },
      "source": [
        "for df in weather_list:\n",
        "    preprocess_weather(df)\n",
        "df_weather = pd.concat(weather_list)"
      ],
      "execution_count": null,
      "outputs": []
    },
    {
      "cell_type": "code",
      "metadata": {
        "id": "YStP_beA7TKq"
      },
      "source": [
        "df_weather = pd.concat(weather_list)"
      ],
      "execution_count": null,
      "outputs": []
    },
    {
      "cell_type": "code",
      "metadata": {
        "id": "3DvVEvAt7TKq"
      },
      "source": [
        "df_weather.describe()"
      ],
      "execution_count": null,
      "outputs": []
    },
    {
      "cell_type": "markdown",
      "metadata": {
        "id": "BGnKTFUv7TKr"
      },
      "source": [
        "#### 확인필요\n",
        "- outlier 찾아내기 > 값이 너무 크거나 작은 경우 제외\n",
        "- 날짜별로 확인 후 비어있는 값 채워넣기 (전/다음날 이용)\n",
        "    - 13947개 데이터 중 rain, wind, temperature 갯수 보면 몇개 비어있는지 확인 가능\n",
        "- 합치기..\n",
        "- 강수량의 경우 NaN 값이 너무 많음\n",
        "    - 위 전처리들을 한 후에도 많다면 사용불가\n",
        "    - 위 전처리 후에는 적다면 전날/다음날 데이터 기반으로 채워넣기 진행"
      ]
    },
    {
      "cell_type": "markdown",
      "metadata": {
        "id": "82y8pph2JA8-"
      },
      "source": [
        "## Version 2"
      ]
    },
    {
      "cell_type": "markdown",
      "metadata": {
        "id": "Ri1gh7AmKrOO"
      },
      "source": [
        "### Import Data"
      ]
    },
    {
      "cell_type": "code",
      "metadata": {
        "id": "ARx7zYB_JH0v"
      },
      "source": [
        "rwt_20152016 = pd.read_csv('/content/drive/MyDrive/빅콘/Seafood_Import_Price_Prediction/DATA/weather/raw_weather_20151228_20161227.csv',encoding='cp949') \n",
        "rwt_20162017 = pd.read_csv('/content/drive/MyDrive/빅콘/Seafood_Import_Price_Prediction/DATA/weather/raw_weather_20161228_20171227.csv',encoding='cp949') \n",
        "rwt_20172018 = pd.read_csv('/content/drive/MyDrive/빅콘/Seafood_Import_Price_Prediction/DATA/weather/raw_weather_20171228_20181227.csv',encoding='cp949') \n",
        "rwt_20182019 = pd.read_csv('/content/drive/MyDrive/빅콘/Seafood_Import_Price_Prediction/DATA/weather/raw_weather_20181228_20191227.csv',encoding='cp949') \n",
        "rwt_20192020 = pd.read_csv('/content/drive/MyDrive/빅콘/Seafood_Import_Price_Prediction/DATA/weather/raw_weather_20191228_20201227.csv',encoding='cp949') \n",
        "rwt_20202021 = pd.read_csv('/content/drive/MyDrive/빅콘/Seafood_Import_Price_Prediction/DATA/weather/raw_weather_20201228_20210818.csv',encoding='cp949') "
      ],
      "execution_count": null,
      "outputs": []
    },
    {
      "cell_type": "markdown",
      "metadata": {
        "id": "DuJakKy7KzbS"
      },
      "source": [
        "### Merge"
      ]
    },
    {
      "cell_type": "code",
      "metadata": {
        "id": "0jDAs3qPK2Mm"
      },
      "source": [
        "rwt = pd.merge(rwt_20152016,rwt_20162017,how='outer')\n",
        "\n",
        "rwt = rwt.append(rwt_20172018)\n",
        "rwt = rwt.append(rwt_20182019)\n",
        "rwt = rwt.append(rwt_20192020)\n",
        "rwt = rwt.append(rwt_20202021)\n",
        "\n",
        "rwt # 국가별 강수량,풍속,기온 데이터"
      ],
      "execution_count": null,
      "outputs": []
    },
    {
      "cell_type": "markdown",
      "metadata": {
        "id": "5lrp5swBLG9C"
      },
      "source": [
        "### 국가별로 나누기"
      ]
    },
    {
      "cell_type": "markdown",
      "metadata": {
        "id": "qHGpgasILfLx"
      },
      "source": [
        "#### 노르웨이 Weather"
      ]
    },
    {
      "cell_type": "code",
      "metadata": {
        "id": "M4DbJxVyLMex"
      },
      "source": [
        "rwt_nor = pd.DataFrame()\n",
        "\n",
        "for i in [1373, 1007, 1233, 1114, 1098, 1002, 1317, 1152, 1028, 1008, 1415, 1001, 1212, 1492, 1384, 1241, 1403, 1065, 1196, 1271, 1026 ,1025,1465, 1238]:\n",
        "    rwt_nor = rwt_nor.append(rwt[rwt['지점']==i]) # 노르웨이\n",
        "\n",
        "rwt_nor = rwt_nor.sort_values(by=['지점','일시'])\n",
        "\n",
        "rwt_nor['일시'] = rwt_nor['일시'].str[:10] # 시간 부분 삭제\n",
        "\n",
        "rwt_nor['일시'] = rwt_nor['일시'].astype('datetime64')\n",
        "\n",
        "rwt_nor = rwt_nor.query('일시.dt.dayofweek == 0') # 일시를 일주일 간격으로 변환\n",
        "\n",
        "rwt_nor['국가'] = '노르웨이'\n",
        "\n",
        "rwt_nor"
      ],
      "execution_count": null,
      "outputs": []
    },
    {
      "cell_type": "markdown",
      "metadata": {
        "id": "DUxLnVF_Mdae"
      },
      "source": [
        "##### Preprocessing"
      ]
    },
    {
      "cell_type": "code",
      "metadata": {
        "id": "lKBMCPclMoRl"
      },
      "source": [
        "rwt_nor['강수량'].isna().sum()"
      ],
      "execution_count": null,
      "outputs": []
    },
    {
      "cell_type": "code",
      "metadata": {
        "id": "Li9qchEmNFQn"
      },
      "source": [
        "sns.boxplot(x = rwt_nor['강수량'].unique())\n",
        "plt.xlabel('강수량')\n",
        "plt.show()\n",
        "# 이상치 제거 필요"
      ],
      "execution_count": null,
      "outputs": []
    },
    {
      "cell_type": "code",
      "metadata": {
        "id": "JDJwWUKiNFpB"
      },
      "source": [
        "rwt_nor[rwt_nor['강수량']<0]"
      ],
      "execution_count": null,
      "outputs": []
    },
    {
      "cell_type": "code",
      "metadata": {
        "id": "mBvRMyCFNHQu"
      },
      "source": [
        "rwt_nor = rwt_nor[(rwt_nor['강수량']>=0) | (rwt_nor['강수량'].isna())] # 강수량 음수 제거\n",
        "\n",
        "rwt_nor"
      ],
      "execution_count": null,
      "outputs": []
    },
    {
      "cell_type": "code",
      "metadata": {
        "id": "wB4_k9lBNIht"
      },
      "source": [
        "rwt_nor['풍속'].isna().sum()"
      ],
      "execution_count": null,
      "outputs": []
    },
    {
      "cell_type": "code",
      "metadata": {
        "id": "S0JnIQjvNNI1"
      },
      "source": [
        "sns.boxplot(x = rwt_nor['풍속'].unique())\n",
        "plt.xlabel('풍속')\n",
        "plt.show()\n",
        "# 이상치 제거 필요"
      ],
      "execution_count": null,
      "outputs": []
    },
    {
      "cell_type": "code",
      "metadata": {
        "id": "8kU_XHoONUJx"
      },
      "source": [
        "rwt_nor[rwt_nor['풍속']<0]"
      ],
      "execution_count": null,
      "outputs": []
    },
    {
      "cell_type": "code",
      "metadata": {
        "id": "ixxDqIjENVrM"
      },
      "source": [
        "rwt_nor = rwt_nor[(rwt_nor['풍속']>=0) | (rwt_nor['풍속'].isna())] # 강수량 음수 제거\n",
        "\n",
        "rwt_nor"
      ],
      "execution_count": null,
      "outputs": []
    },
    {
      "cell_type": "code",
      "metadata": {
        "id": "P7PwJnvKNXw6"
      },
      "source": [
        "rwt_nor['기온'].isna().sum()"
      ],
      "execution_count": null,
      "outputs": []
    },
    {
      "cell_type": "code",
      "metadata": {
        "id": "V1NWzMDfNZVZ"
      },
      "source": [
        "sns.boxplot(x = rwt_nor['기온'].unique())\n",
        "plt.xlabel('기온')\n",
        "plt.show()\n",
        "\n",
        "# 노르웨이 최저기온은 영하 40도까지 내려간적 있으므로 오류값은 없는 것으로 판단"
      ],
      "execution_count": null,
      "outputs": []
    },
    {
      "cell_type": "code",
      "metadata": {
        "id": "YFBo09_nNaba"
      },
      "source": [
        "rwt_nor = pd.DataFrame(rwt_nor.groupby(['일시'])[['강수량','풍속','기온']].mean())\n",
        "\n",
        "rwt_nor"
      ],
      "execution_count": null,
      "outputs": []
    },
    {
      "cell_type": "code",
      "metadata": {
        "id": "b4duypRiNcXh"
      },
      "source": [
        "rwt_nor.describe()"
      ],
      "execution_count": null,
      "outputs": []
    },
    {
      "cell_type": "code",
      "metadata": {
        "id": "Q6_CVTTpNd-H"
      },
      "source": [
        "rwt_nor.isna().sum()"
      ],
      "execution_count": null,
      "outputs": []
    },
    {
      "cell_type": "markdown",
      "metadata": {
        "id": "HhcLzriHL9a8"
      },
      "source": [
        "#### 베트남 Weather"
      ]
    },
    {
      "cell_type": "code",
      "metadata": {
        "id": "MKK9RPuwLcBY",
        "colab": {
          "base_uri": "https://localhost:8080/",
          "height": 417
        },
        "outputId": "7ec34eb8-e83a-4d0f-9026-0ded36aaee57"
      },
      "source": [
        "rwt_vit = pd.DataFrame()\n",
        "\n",
        "for i in [48914, 48808, 48870, 48877, 48845, 48840, 48887, 48917, 48820]:\n",
        "    rwt_vit = rwt_vit.append(rwt[rwt['지점']==i])\n",
        "\n",
        "rwt_vit = rwt_vit.sort_values(by=['지점명','일시'])\n",
        "\n",
        "rwt_vit['국가'] = '베트남'\n",
        "\n",
        "rwt_vit['일시'] = rwt_vit['일시'].str[:10] # 시간 부분 삭제\n",
        "\n",
        "rwt_vit['일시'] = rwt_vit['일시'].astype('datetime64')\n",
        "\n",
        "rwt_vit = rwt_vit.query('일시.dt.dayofweek == 0') # 일시를 일주일 간격으로 변환\n",
        "\n",
        "rwt_vit # 베트남 풍속,강수량,기온"
      ],
      "execution_count": 228,
      "outputs": [
        {
          "output_type": "execute_result",
          "data": {
            "text/html": [
              "<div>\n",
              "<style scoped>\n",
              "    .dataframe tbody tr th:only-of-type {\n",
              "        vertical-align: middle;\n",
              "    }\n",
              "\n",
              "    .dataframe tbody tr th {\n",
              "        vertical-align: top;\n",
              "    }\n",
              "\n",
              "    .dataframe thead th {\n",
              "        text-align: right;\n",
              "    }\n",
              "</style>\n",
              "<table border=\"1\" class=\"dataframe\">\n",
              "  <thead>\n",
              "    <tr style=\"text-align: right;\">\n",
              "      <th></th>\n",
              "      <th>지점</th>\n",
              "      <th>지점명</th>\n",
              "      <th>일시</th>\n",
              "      <th>풍속</th>\n",
              "      <th>강수량</th>\n",
              "      <th>기온</th>\n",
              "      <th>국가</th>\n",
              "    </tr>\n",
              "  </thead>\n",
              "  <tbody>\n",
              "    <tr>\n",
              "      <th>122236</th>\n",
              "      <td>48914</td>\n",
              "      <td>까마우</td>\n",
              "      <td>2015-12-28</td>\n",
              "      <td>5.0</td>\n",
              "      <td>NaN</td>\n",
              "      <td>29.2</td>\n",
              "      <td>베트남</td>\n",
              "    </tr>\n",
              "    <tr>\n",
              "      <th>122237</th>\n",
              "      <td>48914</td>\n",
              "      <td>까마우</td>\n",
              "      <td>2015-12-28</td>\n",
              "      <td>5.0</td>\n",
              "      <td>NaN</td>\n",
              "      <td>30.6</td>\n",
              "      <td>베트남</td>\n",
              "    </tr>\n",
              "    <tr>\n",
              "      <th>122238</th>\n",
              "      <td>48914</td>\n",
              "      <td>까마우</td>\n",
              "      <td>2015-12-28</td>\n",
              "      <td>5.0</td>\n",
              "      <td>NaN</td>\n",
              "      <td>30.3</td>\n",
              "      <td>베트남</td>\n",
              "    </tr>\n",
              "    <tr>\n",
              "      <th>122239</th>\n",
              "      <td>48914</td>\n",
              "      <td>까마우</td>\n",
              "      <td>2015-12-28</td>\n",
              "      <td>2.0</td>\n",
              "      <td>NaN</td>\n",
              "      <td>28.2</td>\n",
              "      <td>베트남</td>\n",
              "    </tr>\n",
              "    <tr>\n",
              "      <th>122240</th>\n",
              "      <td>48914</td>\n",
              "      <td>까마우</td>\n",
              "      <td>2015-12-28</td>\n",
              "      <td>0.0</td>\n",
              "      <td>NaN</td>\n",
              "      <td>26.4</td>\n",
              "      <td>베트남</td>\n",
              "    </tr>\n",
              "    <tr>\n",
              "      <th>...</th>\n",
              "      <td>...</td>\n",
              "      <td>...</td>\n",
              "      <td>...</td>\n",
              "      <td>...</td>\n",
              "      <td>...</td>\n",
              "      <td>...</td>\n",
              "      <td>...</td>\n",
              "    </tr>\n",
              "    <tr>\n",
              "      <th>27303</th>\n",
              "      <td>48917</td>\n",
              "      <td>푸꾸옥</td>\n",
              "      <td>2021-08-16</td>\n",
              "      <td>0.0</td>\n",
              "      <td>NaN</td>\n",
              "      <td>27.2</td>\n",
              "      <td>베트남</td>\n",
              "    </tr>\n",
              "    <tr>\n",
              "      <th>27304</th>\n",
              "      <td>48917</td>\n",
              "      <td>푸꾸옥</td>\n",
              "      <td>2021-08-16</td>\n",
              "      <td>2.0</td>\n",
              "      <td>NaN</td>\n",
              "      <td>26.8</td>\n",
              "      <td>베트남</td>\n",
              "    </tr>\n",
              "    <tr>\n",
              "      <th>107856</th>\n",
              "      <td>48820</td>\n",
              "      <td>하노이</td>\n",
              "      <td>2016-12-12</td>\n",
              "      <td>2.0</td>\n",
              "      <td>NaN</td>\n",
              "      <td>28.0</td>\n",
              "      <td>베트남</td>\n",
              "    </tr>\n",
              "    <tr>\n",
              "      <th>107857</th>\n",
              "      <td>48820</td>\n",
              "      <td>하노이</td>\n",
              "      <td>2016-12-12</td>\n",
              "      <td>3.0</td>\n",
              "      <td>NaN</td>\n",
              "      <td>25.4</td>\n",
              "      <td>베트남</td>\n",
              "    </tr>\n",
              "    <tr>\n",
              "      <th>107858</th>\n",
              "      <td>48820</td>\n",
              "      <td>하노이</td>\n",
              "      <td>2016-12-12</td>\n",
              "      <td>2.0</td>\n",
              "      <td>NaN</td>\n",
              "      <td>23.1</td>\n",
              "      <td>베트남</td>\n",
              "    </tr>\n",
              "  </tbody>\n",
              "</table>\n",
              "<p>17732 rows × 7 columns</p>\n",
              "</div>"
            ],
            "text/plain": [
              "           지점  지점명         일시   풍속  강수량    기온   국가\n",
              "122236  48914  까마우 2015-12-28  5.0  NaN  29.2  베트남\n",
              "122237  48914  까마우 2015-12-28  5.0  NaN  30.6  베트남\n",
              "122238  48914  까마우 2015-12-28  5.0  NaN  30.3  베트남\n",
              "122239  48914  까마우 2015-12-28  2.0  NaN  28.2  베트남\n",
              "122240  48914  까마우 2015-12-28  0.0  NaN  26.4  베트남\n",
              "...       ...  ...        ...  ...  ...   ...  ...\n",
              "27303   48917  푸꾸옥 2021-08-16  0.0  NaN  27.2  베트남\n",
              "27304   48917  푸꾸옥 2021-08-16  2.0  NaN  26.8  베트남\n",
              "107856  48820  하노이 2016-12-12  2.0  NaN  28.0  베트남\n",
              "107857  48820  하노이 2016-12-12  3.0  NaN  25.4  베트남\n",
              "107858  48820  하노이 2016-12-12  2.0  NaN  23.1  베트남\n",
              "\n",
              "[17732 rows x 7 columns]"
            ]
          },
          "metadata": {},
          "execution_count": 228
        }
      ]
    },
    {
      "cell_type": "markdown",
      "metadata": {
        "id": "IJnd1IKwNnuu"
      },
      "source": [
        "##### Preprocessing"
      ]
    },
    {
      "cell_type": "code",
      "metadata": {
        "id": "YYsUDokLMHF0",
        "colab": {
          "base_uri": "https://localhost:8080/"
        },
        "outputId": "67165dfb-0e1a-40cd-b174-d1856d17f5bb"
      },
      "source": [
        "rwt_vit['강수량'].isna().sum()"
      ],
      "execution_count": 229,
      "outputs": [
        {
          "output_type": "execute_result",
          "data": {
            "text/plain": [
              "13788"
            ]
          },
          "metadata": {},
          "execution_count": 229
        }
      ]
    },
    {
      "cell_type": "code",
      "metadata": {
        "id": "44jaXfzuNqt5",
        "colab": {
          "base_uri": "https://localhost:8080/",
          "height": 279
        },
        "outputId": "1402e46d-cd4e-4d80-cdca-0dea70624231"
      },
      "source": [
        "sns.boxplot(x = rwt_vit['강수량'].unique())\n",
        "plt.xlabel('강수량')\n",
        "plt.show()\n",
        "\n",
        "# 음수인 이상치 제거 필요"
      ],
      "execution_count": 230,
      "outputs": [
        {
          "output_type": "display_data",
          "data": {
            "image/png": "[encoded data removed]",
            "text/plain": [
              "<Figure size 432x288 with 1 Axes>"
            ]
          },
          "metadata": {
            "needs_background": "light"
          }
        }
      ]
    },
    {
      "cell_type": "code",
      "metadata": {
        "id": "NBgJyojbNsRR",
        "colab": {
          "base_uri": "https://localhost:8080/",
          "height": 417
        },
        "outputId": "44fcfac0-852b-424e-d4ec-a225246958ba"
      },
      "source": [
        "rwt_vit[rwt_vit['강수량']<0]"
      ],
      "execution_count": 231,
      "outputs": [
        {
          "output_type": "execute_result",
          "data": {
            "text/html": [
              "<div>\n",
              "<style scoped>\n",
              "    .dataframe tbody tr th:only-of-type {\n",
              "        vertical-align: middle;\n",
              "    }\n",
              "\n",
              "    .dataframe tbody tr th {\n",
              "        vertical-align: top;\n",
              "    }\n",
              "\n",
              "    .dataframe thead th {\n",
              "        text-align: right;\n",
              "    }\n",
              "</style>\n",
              "<table border=\"1\" class=\"dataframe\">\n",
              "  <thead>\n",
              "    <tr style=\"text-align: right;\">\n",
              "      <th></th>\n",
              "      <th>지점</th>\n",
              "      <th>지점명</th>\n",
              "      <th>일시</th>\n",
              "      <th>풍속</th>\n",
              "      <th>강수량</th>\n",
              "      <th>기온</th>\n",
              "      <th>국가</th>\n",
              "    </tr>\n",
              "  </thead>\n",
              "  <tbody>\n",
              "    <tr>\n",
              "      <th>122518</th>\n",
              "      <td>48914</td>\n",
              "      <td>까마우</td>\n",
              "      <td>2016-02-01</td>\n",
              "      <td>2.0</td>\n",
              "      <td>-99.8</td>\n",
              "      <td>28.0</td>\n",
              "      <td>베트남</td>\n",
              "    </tr>\n",
              "    <tr>\n",
              "      <th>122625</th>\n",
              "      <td>48914</td>\n",
              "      <td>까마우</td>\n",
              "      <td>2016-02-15</td>\n",
              "      <td>1.0</td>\n",
              "      <td>-99.8</td>\n",
              "      <td>30.1</td>\n",
              "      <td>베트남</td>\n",
              "    </tr>\n",
              "    <tr>\n",
              "      <th>122626</th>\n",
              "      <td>48914</td>\n",
              "      <td>까마우</td>\n",
              "      <td>2016-02-15</td>\n",
              "      <td>3.0</td>\n",
              "      <td>-99.8</td>\n",
              "      <td>31.5</td>\n",
              "      <td>베트남</td>\n",
              "    </tr>\n",
              "    <tr>\n",
              "      <th>122627</th>\n",
              "      <td>48914</td>\n",
              "      <td>까마우</td>\n",
              "      <td>2016-02-15</td>\n",
              "      <td>3.0</td>\n",
              "      <td>-99.8</td>\n",
              "      <td>30.8</td>\n",
              "      <td>베트남</td>\n",
              "    </tr>\n",
              "    <tr>\n",
              "      <th>122628</th>\n",
              "      <td>48914</td>\n",
              "      <td>까마우</td>\n",
              "      <td>2016-02-15</td>\n",
              "      <td>3.0</td>\n",
              "      <td>-99.8</td>\n",
              "      <td>28.1</td>\n",
              "      <td>베트남</td>\n",
              "    </tr>\n",
              "    <tr>\n",
              "      <th>...</th>\n",
              "      <td>...</td>\n",
              "      <td>...</td>\n",
              "      <td>...</td>\n",
              "      <td>...</td>\n",
              "      <td>...</td>\n",
              "      <td>...</td>\n",
              "      <td>...</td>\n",
              "    </tr>\n",
              "    <tr>\n",
              "      <th>26181</th>\n",
              "      <td>48917</td>\n",
              "      <td>푸꾸옥</td>\n",
              "      <td>2021-02-22</td>\n",
              "      <td>5.0</td>\n",
              "      <td>-99.8</td>\n",
              "      <td>28.0</td>\n",
              "      <td>베트남</td>\n",
              "    </tr>\n",
              "    <tr>\n",
              "      <th>26182</th>\n",
              "      <td>48917</td>\n",
              "      <td>푸꾸옥</td>\n",
              "      <td>2021-02-22</td>\n",
              "      <td>3.0</td>\n",
              "      <td>-99.8</td>\n",
              "      <td>26.8</td>\n",
              "      <td>베트남</td>\n",
              "    </tr>\n",
              "    <tr>\n",
              "      <th>26183</th>\n",
              "      <td>48917</td>\n",
              "      <td>푸꾸옥</td>\n",
              "      <td>2021-02-22</td>\n",
              "      <td>0.0</td>\n",
              "      <td>-99.8</td>\n",
              "      <td>25.7</td>\n",
              "      <td>베트남</td>\n",
              "    </tr>\n",
              "    <tr>\n",
              "      <th>26184</th>\n",
              "      <td>48917</td>\n",
              "      <td>푸꾸옥</td>\n",
              "      <td>2021-02-22</td>\n",
              "      <td>2.0</td>\n",
              "      <td>-99.8</td>\n",
              "      <td>24.0</td>\n",
              "      <td>베트남</td>\n",
              "    </tr>\n",
              "    <tr>\n",
              "      <th>26281</th>\n",
              "      <td>48917</td>\n",
              "      <td>푸꾸옥</td>\n",
              "      <td>2021-03-15</td>\n",
              "      <td>0.0</td>\n",
              "      <td>-99.8</td>\n",
              "      <td>24.8</td>\n",
              "      <td>베트남</td>\n",
              "    </tr>\n",
              "  </tbody>\n",
              "</table>\n",
              "<p>1131 rows × 7 columns</p>\n",
              "</div>"
            ],
            "text/plain": [
              "           지점  지점명         일시   풍속   강수량    기온   국가\n",
              "122518  48914  까마우 2016-02-01  2.0 -99.8  28.0  베트남\n",
              "122625  48914  까마우 2016-02-15  1.0 -99.8  30.1  베트남\n",
              "122626  48914  까마우 2016-02-15  3.0 -99.8  31.5  베트남\n",
              "122627  48914  까마우 2016-02-15  3.0 -99.8  30.8  베트남\n",
              "122628  48914  까마우 2016-02-15  3.0 -99.8  28.1  베트남\n",
              "...       ...  ...        ...  ...   ...   ...  ...\n",
              "26181   48917  푸꾸옥 2021-02-22  5.0 -99.8  28.0  베트남\n",
              "26182   48917  푸꾸옥 2021-02-22  3.0 -99.8  26.8  베트남\n",
              "26183   48917  푸꾸옥 2021-02-22  0.0 -99.8  25.7  베트남\n",
              "26184   48917  푸꾸옥 2021-02-22  2.0 -99.8  24.0  베트남\n",
              "26281   48917  푸꾸옥 2021-03-15  0.0 -99.8  24.8  베트남\n",
              "\n",
              "[1131 rows x 7 columns]"
            ]
          },
          "metadata": {},
          "execution_count": 231
        }
      ]
    },
    {
      "cell_type": "code",
      "metadata": {
        "id": "_RhmbRk8NvW_",
        "colab": {
          "base_uri": "https://localhost:8080/",
          "height": 417
        },
        "outputId": "0f109705-93a2-4537-d756-2b6e2eeb28cb"
      },
      "source": [
        "rwt_vit = rwt_vit[(rwt_vit['강수량']>=0) | (rwt_vit['강수량'].isna())] # 강수량 음수 제거\n",
        "\n",
        "rwt_vit"
      ],
      "execution_count": 232,
      "outputs": [
        {
          "output_type": "execute_result",
          "data": {
            "text/html": [
              "<div>\n",
              "<style scoped>\n",
              "    .dataframe tbody tr th:only-of-type {\n",
              "        vertical-align: middle;\n",
              "    }\n",
              "\n",
              "    .dataframe tbody tr th {\n",
              "        vertical-align: top;\n",
              "    }\n",
              "\n",
              "    .dataframe thead th {\n",
              "        text-align: right;\n",
              "    }\n",
              "</style>\n",
              "<table border=\"1\" class=\"dataframe\">\n",
              "  <thead>\n",
              "    <tr style=\"text-align: right;\">\n",
              "      <th></th>\n",
              "      <th>지점</th>\n",
              "      <th>지점명</th>\n",
              "      <th>일시</th>\n",
              "      <th>풍속</th>\n",
              "      <th>강수량</th>\n",
              "      <th>기온</th>\n",
              "      <th>국가</th>\n",
              "    </tr>\n",
              "  </thead>\n",
              "  <tbody>\n",
              "    <tr>\n",
              "      <th>122236</th>\n",
              "      <td>48914</td>\n",
              "      <td>까마우</td>\n",
              "      <td>2015-12-28</td>\n",
              "      <td>5.0</td>\n",
              "      <td>NaN</td>\n",
              "      <td>29.2</td>\n",
              "      <td>베트남</td>\n",
              "    </tr>\n",
              "    <tr>\n",
              "      <th>122237</th>\n",
              "      <td>48914</td>\n",
              "      <td>까마우</td>\n",
              "      <td>2015-12-28</td>\n",
              "      <td>5.0</td>\n",
              "      <td>NaN</td>\n",
              "      <td>30.6</td>\n",
              "      <td>베트남</td>\n",
              "    </tr>\n",
              "    <tr>\n",
              "      <th>122238</th>\n",
              "      <td>48914</td>\n",
              "      <td>까마우</td>\n",
              "      <td>2015-12-28</td>\n",
              "      <td>5.0</td>\n",
              "      <td>NaN</td>\n",
              "      <td>30.3</td>\n",
              "      <td>베트남</td>\n",
              "    </tr>\n",
              "    <tr>\n",
              "      <th>122239</th>\n",
              "      <td>48914</td>\n",
              "      <td>까마우</td>\n",
              "      <td>2015-12-28</td>\n",
              "      <td>2.0</td>\n",
              "      <td>NaN</td>\n",
              "      <td>28.2</td>\n",
              "      <td>베트남</td>\n",
              "    </tr>\n",
              "    <tr>\n",
              "      <th>122240</th>\n",
              "      <td>48914</td>\n",
              "      <td>까마우</td>\n",
              "      <td>2015-12-28</td>\n",
              "      <td>0.0</td>\n",
              "      <td>NaN</td>\n",
              "      <td>26.4</td>\n",
              "      <td>베트남</td>\n",
              "    </tr>\n",
              "    <tr>\n",
              "      <th>...</th>\n",
              "      <td>...</td>\n",
              "      <td>...</td>\n",
              "      <td>...</td>\n",
              "      <td>...</td>\n",
              "      <td>...</td>\n",
              "      <td>...</td>\n",
              "      <td>...</td>\n",
              "    </tr>\n",
              "    <tr>\n",
              "      <th>27303</th>\n",
              "      <td>48917</td>\n",
              "      <td>푸꾸옥</td>\n",
              "      <td>2021-08-16</td>\n",
              "      <td>0.0</td>\n",
              "      <td>NaN</td>\n",
              "      <td>27.2</td>\n",
              "      <td>베트남</td>\n",
              "    </tr>\n",
              "    <tr>\n",
              "      <th>27304</th>\n",
              "      <td>48917</td>\n",
              "      <td>푸꾸옥</td>\n",
              "      <td>2021-08-16</td>\n",
              "      <td>2.0</td>\n",
              "      <td>NaN</td>\n",
              "      <td>26.8</td>\n",
              "      <td>베트남</td>\n",
              "    </tr>\n",
              "    <tr>\n",
              "      <th>107856</th>\n",
              "      <td>48820</td>\n",
              "      <td>하노이</td>\n",
              "      <td>2016-12-12</td>\n",
              "      <td>2.0</td>\n",
              "      <td>NaN</td>\n",
              "      <td>28.0</td>\n",
              "      <td>베트남</td>\n",
              "    </tr>\n",
              "    <tr>\n",
              "      <th>107857</th>\n",
              "      <td>48820</td>\n",
              "      <td>하노이</td>\n",
              "      <td>2016-12-12</td>\n",
              "      <td>3.0</td>\n",
              "      <td>NaN</td>\n",
              "      <td>25.4</td>\n",
              "      <td>베트남</td>\n",
              "    </tr>\n",
              "    <tr>\n",
              "      <th>107858</th>\n",
              "      <td>48820</td>\n",
              "      <td>하노이</td>\n",
              "      <td>2016-12-12</td>\n",
              "      <td>2.0</td>\n",
              "      <td>NaN</td>\n",
              "      <td>23.1</td>\n",
              "      <td>베트남</td>\n",
              "    </tr>\n",
              "  </tbody>\n",
              "</table>\n",
              "<p>16601 rows × 7 columns</p>\n",
              "</div>"
            ],
            "text/plain": [
              "           지점  지점명         일시   풍속  강수량    기온   국가\n",
              "122236  48914  까마우 2015-12-28  5.0  NaN  29.2  베트남\n",
              "122237  48914  까마우 2015-12-28  5.0  NaN  30.6  베트남\n",
              "122238  48914  까마우 2015-12-28  5.0  NaN  30.3  베트남\n",
              "122239  48914  까마우 2015-12-28  2.0  NaN  28.2  베트남\n",
              "122240  48914  까마우 2015-12-28  0.0  NaN  26.4  베트남\n",
              "...       ...  ...        ...  ...  ...   ...  ...\n",
              "27303   48917  푸꾸옥 2021-08-16  0.0  NaN  27.2  베트남\n",
              "27304   48917  푸꾸옥 2021-08-16  2.0  NaN  26.8  베트남\n",
              "107856  48820  하노이 2016-12-12  2.0  NaN  28.0  베트남\n",
              "107857  48820  하노이 2016-12-12  3.0  NaN  25.4  베트남\n",
              "107858  48820  하노이 2016-12-12  2.0  NaN  23.1  베트남\n",
              "\n",
              "[16601 rows x 7 columns]"
            ]
          },
          "metadata": {},
          "execution_count": 232
        }
      ]
    },
    {
      "cell_type": "code",
      "metadata": {
        "id": "It85fhIeNxzY",
        "colab": {
          "base_uri": "https://localhost:8080/"
        },
        "outputId": "ee0698eb-dc35-4ccd-955b-c02e99e532c9"
      },
      "source": [
        "rwt_vit['풍속'].isna().sum()"
      ],
      "execution_count": 233,
      "outputs": [
        {
          "output_type": "execute_result",
          "data": {
            "text/plain": [
              "1"
            ]
          },
          "metadata": {},
          "execution_count": 233
        }
      ]
    },
    {
      "cell_type": "code",
      "metadata": {
        "id": "sA3xuPSuNzYj",
        "colab": {
          "base_uri": "https://localhost:8080/",
          "height": 279
        },
        "outputId": "cd5f5a93-26cd-4208-f704-92a61b1ce382"
      },
      "source": [
        "sns.boxplot(x = rwt_vit['풍속'].unique())\n",
        "plt.xlabel('풍속')\n",
        "plt.show()"
      ],
      "execution_count": 234,
      "outputs": [
        {
          "output_type": "display_data",
          "data": {
            "image/png": "[encoded data removed]",
            "text/plain": [
              "<Figure size 432x288 with 1 Axes>"
            ]
          },
          "metadata": {
            "needs_background": "light"
          }
        }
      ]
    },
    {
      "cell_type": "code",
      "metadata": {
        "id": "xgShuGCMN0Ta",
        "colab": {
          "base_uri": "https://localhost:8080/"
        },
        "outputId": "2d8cf18c-71dc-4989-e077-40d9e87fb3c1"
      },
      "source": [
        "rwt_vit['풍속'][rwt_vit['풍속']<0]"
      ],
      "execution_count": 235,
      "outputs": [
        {
          "output_type": "execute_result",
          "data": {
            "text/plain": [
              "Series([], Name: 풍속, dtype: float64)"
            ]
          },
          "metadata": {},
          "execution_count": 235
        }
      ]
    },
    {
      "cell_type": "code",
      "metadata": {
        "id": "cc-DdBN0N1cw",
        "colab": {
          "base_uri": "https://localhost:8080/"
        },
        "outputId": "99a08b33-4411-49c1-dd72-54d0beb77c17"
      },
      "source": [
        "rwt_vit['기온'].isna().sum()"
      ],
      "execution_count": 236,
      "outputs": [
        {
          "output_type": "execute_result",
          "data": {
            "text/plain": [
              "9"
            ]
          },
          "metadata": {},
          "execution_count": 236
        }
      ]
    },
    {
      "cell_type": "code",
      "metadata": {
        "id": "vlzhf7RQN3KB",
        "colab": {
          "base_uri": "https://localhost:8080/",
          "height": 279
        },
        "outputId": "d7ce0c33-0992-4e4c-fa60-f897a4065b95"
      },
      "source": [
        "sns.boxplot(x = rwt_vit['기온'].unique())\n",
        "plt.xlabel('기온')\n",
        "plt.show()\n",
        "\n",
        "# 이상치 없음."
      ],
      "execution_count": 237,
      "outputs": [
        {
          "output_type": "display_data",
          "data": {
            "image/png": "[encoded data removed]",
            "text/plain": [
              "<Figure size 432x288 with 1 Axes>"
            ]
          },
          "metadata": {
            "needs_background": "light"
          }
        }
      ]
    },
    {
      "cell_type": "code",
      "metadata": {
        "id": "wqkpHE-7N60d",
        "colab": {
          "base_uri": "https://localhost:8080/",
          "height": 447
        },
        "outputId": "6eb2b26c-8c43-4794-9698-e82c93abae5c"
      },
      "source": [
        "rwt_vit2 = pd.DataFrame(rwt_vit.groupby(['일시']).mean()[['강수량','풍속','기온']])\n",
        "\n",
        "rwt_vit2 = rwt_vit2[rwt_vit2.index<='2021-06-28']\n",
        "\n",
        "rwt_vit2"
      ],
      "execution_count": 246,
      "outputs": [
        {
          "output_type": "execute_result",
          "data": {
            "text/html": [
              "<div>\n",
              "<style scoped>\n",
              "    .dataframe tbody tr th:only-of-type {\n",
              "        vertical-align: middle;\n",
              "    }\n",
              "\n",
              "    .dataframe tbody tr th {\n",
              "        vertical-align: top;\n",
              "    }\n",
              "\n",
              "    .dataframe thead th {\n",
              "        text-align: right;\n",
              "    }\n",
              "</style>\n",
              "<table border=\"1\" class=\"dataframe\">\n",
              "  <thead>\n",
              "    <tr style=\"text-align: right;\">\n",
              "      <th></th>\n",
              "      <th>강수량</th>\n",
              "      <th>풍속</th>\n",
              "      <th>기온</th>\n",
              "    </tr>\n",
              "    <tr>\n",
              "      <th>일시</th>\n",
              "      <th></th>\n",
              "      <th></th>\n",
              "      <th></th>\n",
              "    </tr>\n",
              "  </thead>\n",
              "  <tbody>\n",
              "    <tr>\n",
              "      <th>2015-12-28</th>\n",
              "      <td>0.828571</td>\n",
              "      <td>2.375000</td>\n",
              "      <td>23.098214</td>\n",
              "    </tr>\n",
              "    <tr>\n",
              "      <th>2016-01-04</th>\n",
              "      <td>19.000000</td>\n",
              "      <td>1.666667</td>\n",
              "      <td>24.580328</td>\n",
              "    </tr>\n",
              "    <tr>\n",
              "      <th>2016-01-11</th>\n",
              "      <td>0.000000</td>\n",
              "      <td>2.015625</td>\n",
              "      <td>24.165625</td>\n",
              "    </tr>\n",
              "    <tr>\n",
              "      <th>2016-01-18</th>\n",
              "      <td>3.000000</td>\n",
              "      <td>1.822581</td>\n",
              "      <td>24.020968</td>\n",
              "    </tr>\n",
              "    <tr>\n",
              "      <th>2016-01-25</th>\n",
              "      <td>2.521429</td>\n",
              "      <td>3.250000</td>\n",
              "      <td>18.212500</td>\n",
              "    </tr>\n",
              "    <tr>\n",
              "      <th>...</th>\n",
              "      <td>...</td>\n",
              "      <td>...</td>\n",
              "      <td>...</td>\n",
              "    </tr>\n",
              "    <tr>\n",
              "      <th>2021-05-31</th>\n",
              "      <td>0.500000</td>\n",
              "      <td>2.156250</td>\n",
              "      <td>31.271875</td>\n",
              "    </tr>\n",
              "    <tr>\n",
              "      <th>2021-06-07</th>\n",
              "      <td>17.043750</td>\n",
              "      <td>2.078125</td>\n",
              "      <td>28.542188</td>\n",
              "    </tr>\n",
              "    <tr>\n",
              "      <th>2021-06-14</th>\n",
              "      <td>3.080000</td>\n",
              "      <td>2.234375</td>\n",
              "      <td>29.495313</td>\n",
              "    </tr>\n",
              "    <tr>\n",
              "      <th>2021-06-21</th>\n",
              "      <td>4.450000</td>\n",
              "      <td>2.484375</td>\n",
              "      <td>30.651562</td>\n",
              "    </tr>\n",
              "    <tr>\n",
              "      <th>2021-06-28</th>\n",
              "      <td>0.000000</td>\n",
              "      <td>2.578125</td>\n",
              "      <td>30.442188</td>\n",
              "    </tr>\n",
              "  </tbody>\n",
              "</table>\n",
              "<p>288 rows × 3 columns</p>\n",
              "</div>"
            ],
            "text/plain": [
              "                  강수량        풍속         기온\n",
              "일시                                        \n",
              "2015-12-28   0.828571  2.375000  23.098214\n",
              "2016-01-04  19.000000  1.666667  24.580328\n",
              "2016-01-11   0.000000  2.015625  24.165625\n",
              "2016-01-18   3.000000  1.822581  24.020968\n",
              "2016-01-25   2.521429  3.250000  18.212500\n",
              "...               ...       ...        ...\n",
              "2021-05-31   0.500000  2.156250  31.271875\n",
              "2021-06-07  17.043750  2.078125  28.542188\n",
              "2021-06-14   3.080000  2.234375  29.495313\n",
              "2021-06-21   4.450000  2.484375  30.651562\n",
              "2021-06-28   0.000000  2.578125  30.442188\n",
              "\n",
              "[288 rows x 3 columns]"
            ]
          },
          "metadata": {},
          "execution_count": 246
        }
      ]
    },
    {
      "cell_type": "code",
      "metadata": {
        "id": "NX-G9YRXOCHW",
        "colab": {
          "base_uri": "https://localhost:8080/",
          "height": 295
        },
        "outputId": "b0644f65-09b8-46bd-b593-de3b63287673"
      },
      "source": [
        "rwt_vit2.describe()"
      ],
      "execution_count": 247,
      "outputs": [
        {
          "output_type": "execute_result",
          "data": {
            "text/html": [
              "<div>\n",
              "<style scoped>\n",
              "    .dataframe tbody tr th:only-of-type {\n",
              "        vertical-align: middle;\n",
              "    }\n",
              "\n",
              "    .dataframe tbody tr th {\n",
              "        vertical-align: top;\n",
              "    }\n",
              "\n",
              "    .dataframe thead th {\n",
              "        text-align: right;\n",
              "    }\n",
              "</style>\n",
              "<table border=\"1\" class=\"dataframe\">\n",
              "  <thead>\n",
              "    <tr style=\"text-align: right;\">\n",
              "      <th></th>\n",
              "      <th>강수량</th>\n",
              "      <th>풍속</th>\n",
              "      <th>기온</th>\n",
              "    </tr>\n",
              "  </thead>\n",
              "  <tbody>\n",
              "    <tr>\n",
              "      <th>count</th>\n",
              "      <td>273.000000</td>\n",
              "      <td>288.000000</td>\n",
              "      <td>288.000000</td>\n",
              "    </tr>\n",
              "    <tr>\n",
              "      <th>mean</th>\n",
              "      <td>7.190637</td>\n",
              "      <td>2.119864</td>\n",
              "      <td>26.465741</td>\n",
              "    </tr>\n",
              "    <tr>\n",
              "      <th>std</th>\n",
              "      <td>7.661904</td>\n",
              "      <td>0.414989</td>\n",
              "      <td>2.839870</td>\n",
              "    </tr>\n",
              "    <tr>\n",
              "      <th>min</th>\n",
              "      <td>0.000000</td>\n",
              "      <td>0.647059</td>\n",
              "      <td>17.800000</td>\n",
              "    </tr>\n",
              "    <tr>\n",
              "      <th>25%</th>\n",
              "      <td>1.000000</td>\n",
              "      <td>1.858817</td>\n",
              "      <td>24.403084</td>\n",
              "    </tr>\n",
              "    <tr>\n",
              "      <th>50%</th>\n",
              "      <td>4.736364</td>\n",
              "      <td>2.078125</td>\n",
              "      <td>26.842169</td>\n",
              "    </tr>\n",
              "    <tr>\n",
              "      <th>75%</th>\n",
              "      <td>10.554545</td>\n",
              "      <td>2.355932</td>\n",
              "      <td>28.883946</td>\n",
              "    </tr>\n",
              "    <tr>\n",
              "      <th>max</th>\n",
              "      <td>40.572222</td>\n",
              "      <td>3.546875</td>\n",
              "      <td>31.271875</td>\n",
              "    </tr>\n",
              "  </tbody>\n",
              "</table>\n",
              "</div>"
            ],
            "text/plain": [
              "              강수량          풍속          기온\n",
              "count  273.000000  288.000000  288.000000\n",
              "mean     7.190637    2.119864   26.465741\n",
              "std      7.661904    0.414989    2.839870\n",
              "min      0.000000    0.647059   17.800000\n",
              "25%      1.000000    1.858817   24.403084\n",
              "50%      4.736364    2.078125   26.842169\n",
              "75%     10.554545    2.355932   28.883946\n",
              "max     40.572222    3.546875   31.271875"
            ]
          },
          "metadata": {},
          "execution_count": 247
        }
      ]
    },
    {
      "cell_type": "code",
      "metadata": {
        "id": "MFxJjrhEOAdE",
        "colab": {
          "base_uri": "https://localhost:8080/"
        },
        "outputId": "97cba0d1-9051-4dc9-c65a-4a5bd22a1b4f"
      },
      "source": [
        "rwt_vit2.isna().sum()"
      ],
      "execution_count": 248,
      "outputs": [
        {
          "output_type": "execute_result",
          "data": {
            "text/plain": [
              "강수량    15\n",
              "풍속      0\n",
              "기온      0\n",
              "dtype: int64"
            ]
          },
          "metadata": {},
          "execution_count": 248
        }
      ]
    },
    {
      "cell_type": "code",
      "metadata": {
        "id": "3DlrrhEqOD9J",
        "colab": {
          "base_uri": "https://localhost:8080/",
          "height": 542
        },
        "outputId": "822cb0ea-f5ff-4984-ec39-efe0fc2aa9fd"
      },
      "source": [
        "rwt_vit2[rwt_vit2['강수량'].isna()] # 해당 월 평균 강수량 데이터로 결측값 대치해보자! "
      ],
      "execution_count": 254,
      "outputs": [
        {
          "output_type": "execute_result",
          "data": {
            "text/html": [
              "<div>\n",
              "<style scoped>\n",
              "    .dataframe tbody tr th:only-of-type {\n",
              "        vertical-align: middle;\n",
              "    }\n",
              "\n",
              "    .dataframe tbody tr th {\n",
              "        vertical-align: top;\n",
              "    }\n",
              "\n",
              "    .dataframe thead th {\n",
              "        text-align: right;\n",
              "    }\n",
              "</style>\n",
              "<table border=\"1\" class=\"dataframe\">\n",
              "  <thead>\n",
              "    <tr style=\"text-align: right;\">\n",
              "      <th></th>\n",
              "      <th>강수량</th>\n",
              "      <th>풍속</th>\n",
              "      <th>기온</th>\n",
              "      <th>일시</th>\n",
              "    </tr>\n",
              "    <tr>\n",
              "      <th>일시</th>\n",
              "      <th></th>\n",
              "      <th></th>\n",
              "      <th></th>\n",
              "      <th></th>\n",
              "    </tr>\n",
              "  </thead>\n",
              "  <tbody>\n",
              "    <tr>\n",
              "      <th>2016-02-08</th>\n",
              "      <td>NaN</td>\n",
              "      <td>2.355932</td>\n",
              "      <td>19.338596</td>\n",
              "      <td>2016-02-08</td>\n",
              "    </tr>\n",
              "    <tr>\n",
              "      <th>2016-02-29</th>\n",
              "      <td>NaN</td>\n",
              "      <td>2.946429</td>\n",
              "      <td>22.907143</td>\n",
              "      <td>2016-02-29</td>\n",
              "    </tr>\n",
              "    <tr>\n",
              "      <th>2017-02-06</th>\n",
              "      <td>NaN</td>\n",
              "      <td>2.343750</td>\n",
              "      <td>23.735938</td>\n",
              "      <td>2017-02-06</td>\n",
              "    </tr>\n",
              "    <tr>\n",
              "      <th>2017-12-18</th>\n",
              "      <td>NaN</td>\n",
              "      <td>2.921875</td>\n",
              "      <td>20.045313</td>\n",
              "      <td>2017-12-18</td>\n",
              "    </tr>\n",
              "    <tr>\n",
              "      <th>2018-02-05</th>\n",
              "      <td>NaN</td>\n",
              "      <td>3.125000</td>\n",
              "      <td>19.448437</td>\n",
              "      <td>2018-02-05</td>\n",
              "    </tr>\n",
              "    <tr>\n",
              "      <th>2018-04-02</th>\n",
              "      <td>NaN</td>\n",
              "      <td>2.156250</td>\n",
              "      <td>25.909375</td>\n",
              "      <td>2018-04-02</td>\n",
              "    </tr>\n",
              "    <tr>\n",
              "      <th>2018-04-09</th>\n",
              "      <td>NaN</td>\n",
              "      <td>2.269841</td>\n",
              "      <td>25.173016</td>\n",
              "      <td>2018-04-09</td>\n",
              "    </tr>\n",
              "    <tr>\n",
              "      <th>2019-01-28</th>\n",
              "      <td>NaN</td>\n",
              "      <td>2.031250</td>\n",
              "      <td>23.398438</td>\n",
              "      <td>2019-01-28</td>\n",
              "    </tr>\n",
              "    <tr>\n",
              "      <th>2019-02-04</th>\n",
              "      <td>NaN</td>\n",
              "      <td>2.609375</td>\n",
              "      <td>25.159375</td>\n",
              "      <td>2019-02-04</td>\n",
              "    </tr>\n",
              "    <tr>\n",
              "      <th>2019-12-09</th>\n",
              "      <td>NaN</td>\n",
              "      <td>2.312500</td>\n",
              "      <td>20.801563</td>\n",
              "      <td>2019-12-09</td>\n",
              "    </tr>\n",
              "    <tr>\n",
              "      <th>2020-03-09</th>\n",
              "      <td>NaN</td>\n",
              "      <td>2.156250</td>\n",
              "      <td>27.378125</td>\n",
              "      <td>2020-03-09</td>\n",
              "    </tr>\n",
              "    <tr>\n",
              "      <th>2020-04-20</th>\n",
              "      <td>NaN</td>\n",
              "      <td>2.135593</td>\n",
              "      <td>28.591525</td>\n",
              "      <td>2020-04-20</td>\n",
              "    </tr>\n",
              "    <tr>\n",
              "      <th>2021-02-15</th>\n",
              "      <td>NaN</td>\n",
              "      <td>2.052632</td>\n",
              "      <td>22.994737</td>\n",
              "      <td>2021-02-15</td>\n",
              "    </tr>\n",
              "    <tr>\n",
              "      <th>2021-02-22</th>\n",
              "      <td>NaN</td>\n",
              "      <td>2.700000</td>\n",
              "      <td>22.560000</td>\n",
              "      <td>2021-02-22</td>\n",
              "    </tr>\n",
              "    <tr>\n",
              "      <th>2021-03-15</th>\n",
              "      <td>NaN</td>\n",
              "      <td>1.789474</td>\n",
              "      <td>24.384211</td>\n",
              "      <td>2021-03-15</td>\n",
              "    </tr>\n",
              "  </tbody>\n",
              "</table>\n",
              "</div>"
            ],
            "text/plain": [
              "            강수량        풍속         기온          일시\n",
              "일시                                              \n",
              "2016-02-08  NaN  2.355932  19.338596  2016-02-08\n",
              "2016-02-29  NaN  2.946429  22.907143  2016-02-29\n",
              "2017-02-06  NaN  2.343750  23.735938  2017-02-06\n",
              "2017-12-18  NaN  2.921875  20.045313  2017-12-18\n",
              "2018-02-05  NaN  3.125000  19.448437  2018-02-05\n",
              "2018-04-02  NaN  2.156250  25.909375  2018-04-02\n",
              "2018-04-09  NaN  2.269841  25.173016  2018-04-09\n",
              "2019-01-28  NaN  2.031250  23.398438  2019-01-28\n",
              "2019-02-04  NaN  2.609375  25.159375  2019-02-04\n",
              "2019-12-09  NaN  2.312500  20.801563  2019-12-09\n",
              "2020-03-09  NaN  2.156250  27.378125  2020-03-09\n",
              "2020-04-20  NaN  2.135593  28.591525  2020-04-20\n",
              "2021-02-15  NaN  2.052632  22.994737  2021-02-15\n",
              "2021-02-22  NaN  2.700000  22.560000  2021-02-22\n",
              "2021-03-15  NaN  1.789474  24.384211  2021-03-15"
            ]
          },
          "metadata": {},
          "execution_count": 254
        }
      ]
    },
    {
      "cell_type": "code",
      "metadata": {
        "id": "sr2tA3rIOHP2"
      },
      "source": [
        "rwt_vit2['일시'] = rwt_vit2.index\n",
        "rwt_vit2['일시'] = rwt_vit2['일시'].astype('string')\n",
        "\n",
        "rain_1602 = float(rwt_vit2[rwt_vit2['일시'].str.contains('2016-02')].mean()['강수량']) # 2016년 2월 강수량 평균\n",
        "rain_1702 = float(rwt_vit2[rwt_vit2['일시'].str.contains('2017-02')].mean()['강수량']) # 2017년 2월 강수량 평균\n",
        "rain_1712 = float(rwt_vit2[rwt_vit2['일시'].str.contains('2017-12')].mean()['강수량']) # 2017년 12월 강수량 평균\n",
        "rain_1802 = float(rwt_vit2[rwt_vit2['일시'].str.contains('2018-02')].mean()['강수량']) # 2018년 2월 강수량 평균\n",
        "rain_1804 = float(rwt_vit2[rwt_vit2['일시'].str.contains('2018-04')].mean()['강수량']) # 2018년 4월 강수량 평균\n",
        "rain_1901 = float(rwt_vit2[rwt_vit2['일시'].str.contains('2019-01')].mean()['강수량']) # 2019년 1월 강수량 평균\n",
        "rain_1902 = float(rwt_vit2[rwt_vit2['일시'].str.contains('2019-02')].mean()['강수량']) # 2019년 2월 강수량 평균\n",
        "rain_1912 = float(rwt_vit2[rwt_vit2['일시'].str.contains('2019-12')].mean()['강수량']) # 2019년 12월 강수량 평균\n",
        "rain_2003 = float(rwt_vit2[rwt_vit2['일시'].str.contains('2020-03')].mean()['강수량']) # 2020년 3월 강수량 평균\n",
        "rain_2004 = float(rwt_vit2[rwt_vit2['일시'].str.contains('2020-04')].mean()['강수량']) # 2020년 4월 강수량 평균\n",
        "rain_2102 = float(rwt_vit2[rwt_vit2['일시'].str.contains('2021-02')].mean()['강수량']) # 2021년 2월 강수량 평균\n",
        "rain_2103 = float(rwt_vit2[rwt_vit2['일시'].str.contains('2021-03')].mean()['강수량']) # 2021년 3월 강수량 평균"
      ],
      "execution_count": 251,
      "outputs": []
    },
    {
      "cell_type": "code",
      "metadata": {
        "id": "nSVo5bxiOKpT",
        "colab": {
          "base_uri": "https://localhost:8080/"
        },
        "outputId": "a1e82283-781f-4b3c-8043-c6bf9d6f8f74"
      },
      "source": [
        "rwt_vit2[rwt_vit2['일시'].str.contains('2016-02')]['강수량'].fillna(rain_1602) # 2016년 2월 강수량 평균으로 결측값 대치\n",
        "rwt_vit2[rwt_vit2['일시'].str.contains('2017-02')]['강수량'].fillna(rain_1702) # 2017년 2월 강수량 평균으로 결측값 대치\n",
        "rwt_vit2[rwt_vit2['일시'].str.contains('2017-12')]['강수량'].fillna(rain_1712) # 2017년 12월 강수량 평균으로 결측값 대치\n",
        "rwt_vit2[rwt_vit2['일시'].str.contains('2018-02')]['강수량'].fillna(rain_1802) # 2018년 2월 강수량 평균으로 결측값 대치\n",
        "rwt_vit2[rwt_vit2['일시'].str.contains('2018-04')]['강수량'].fillna(rain_1804) # 2018년 4월 강수량 평균으로 결측값 대치\n",
        "rwt_vit2[rwt_vit2['일시'].str.contains('2019-01')]['강수량'].fillna(rain_1901) # 2019년 1월 강수량 평균으로 결측값 대치\n",
        "rwt_vit2[rwt_vit2['일시'].str.contains('2019-02')]['강수량'].fillna(rain_1902) # 2019년 2월 강수량 평균으로 결측값 대치\n",
        "rwt_vit2[rwt_vit2['일시'].str.contains('2019-12')]['강수량'].fillna(rain_1912) # 2019년 12월 강수량 평균으로 결측값 대치\n",
        "rwt_vit2[rwt_vit2['일시'].str.contains('2020-03')]['강수량'].fillna(rain_2003) # 2020년 3월 강수량 평균으로 결측값 대치\n",
        "rwt_vit2[rwt_vit2['일시'].str.contains('2020-04')]['강수량'].fillna(rain_2004) # 2020년 4월 강수량 평균으로 결측값 대치\n",
        "rwt_vit2[rwt_vit2['일시'].str.contains('2021-02')]['강수량'].fillna(rain_2102) # 2021년 2월 강수량 평균으로 결측값 대치\n",
        "rwt_vit2[rwt_vit2['일시'].str.contains('2021-03')]['강수량'].fillna(rain_2103) # 2021년 3월 강수량 평균으로 결측값 대치\n",
        "\n",
        "rwt_vit2.isna().sum()"
      ],
      "execution_count": 253,
      "outputs": [
        {
          "output_type": "execute_result",
          "data": {
            "text/plain": [
              "강수량    15\n",
              "풍속      0\n",
              "기온      0\n",
              "일시      0\n",
              "dtype: int64"
            ]
          },
          "metadata": {},
          "execution_count": 253
        }
      ]
    },
    {
      "cell_type": "markdown",
      "metadata": {
        "id": "6Bcx08HU7TKr"
      },
      "source": [
        "## Add to Training Data"
      ]
    },
    {
      "cell_type": "code",
      "metadata": {
        "id": "eya8U1xR7TKr"
      },
      "source": [
        "df_train = pd.merge(df_train, df_weather, how='left', on=['year', 'month', 'day', 'CTRY_1'])"
      ],
      "execution_count": null,
      "outputs": []
    },
    {
      "cell_type": "code",
      "metadata": {
        "id": "NGACU4IW7TKr"
      },
      "source": [
        "pd.set_option(\"display.max_columns\", None)\n",
        "df_train.sample(5)"
      ],
      "execution_count": null,
      "outputs": []
    },
    {
      "cell_type": "markdown",
      "metadata": {
        "id": "351DAvcP7TKs"
      },
      "source": [
        "---"
      ]
    },
    {
      "cell_type": "markdown",
      "metadata": {
        "id": "gp3zCFeg7TKs"
      },
      "source": [
        "# Salinity"
      ]
    },
    {
      "cell_type": "markdown",
      "metadata": {
        "id": "600RYV_S7TKs"
      },
      "source": [
        "## Import Data"
      ]
    },
    {
      "cell_type": "code",
      "metadata": {
        "id": "hiXlsChx7TKs"
      },
      "source": [
        "# df_salinity = pd.read_csv(os.path.join(root, 'raw_salinity.csv'))"
      ],
      "execution_count": null,
      "outputs": []
    },
    {
      "cell_type": "markdown",
      "metadata": {
        "id": "5nG6S2767TKs"
      },
      "source": [
        "## Drop Columns & Rows"
      ]
    },
    {
      "cell_type": "code",
      "metadata": {
        "id": "OiA00iG97TKs"
      },
      "source": [
        "# df_salinity.drop(df_salinity.columns[2], inplace=True, axis=1)\n",
        "# df_salinity = df_salinity[(2015 <= df_salinity['obs_year']) & (df_salinity['obs_year'] <= 2021)]"
      ],
      "execution_count": null,
      "outputs": []
    },
    {
      "cell_type": "markdown",
      "metadata": {
        "id": "L65N0d8w7TKs"
      },
      "source": [
        "2020, 2021 데이터의 부재로 인해 보류"
      ]
    },
    {
      "cell_type": "markdown",
      "metadata": {
        "id": "_HH1O6bj7TKs"
      },
      "source": [
        "---"
      ]
    },
    {
      "cell_type": "markdown",
      "metadata": {
        "id": "acx-1jLF7TKt"
      },
      "source": [
        "# Oil"
      ]
    },
    {
      "cell_type": "markdown",
      "metadata": {
        "id": "oCJclrSZ7TKt"
      },
      "source": [
        "## Import Data"
      ]
    },
    {
      "cell_type": "code",
      "metadata": {
        "id": "rZoXA4Hq7TKt"
      },
      "source": [
        "df_oil = pd.read_csv(os.path.join(root, 'raw_oil.csv'))\n",
        "df_oil_dubai = pd.read_csv(os.path.join(root, 'raw_oil_dubai.csv'))\n",
        "df_oil_brent = pd.read_csv(os.path.join(root, 'raw_oil_brent.csv'))"
      ],
      "execution_count": null,
      "outputs": []
    },
    {
      "cell_type": "markdown",
      "metadata": {
        "id": "r5qohDxB7TKt"
      },
      "source": [
        "## Preprocess"
      ]
    },
    {
      "cell_type": "code",
      "metadata": {
        "id": "B6fv1TdP7TKt"
      },
      "source": [
        "def preprocess_oil(df):\n",
        "    df['year'] = df['날짜'].str[:4].astype('int')\n",
        "    df['month'] = df['날짜'].str[6:8].astype('int')\n",
        "    df['day'] = df['날짜'].str[10:12].astype('int')\n",
        "#     df['date'] = pd.to_datetime(df['날짜'].str[:4] + df['날짜'].str[6:8] + df['날짜'].str[10:12])\n",
        "#     df = df.query('date.dt.dayofweek == 0')\n",
        "    df.drop(columns = ['날짜', '오픈', '고가', '저가', '거래량', '변동 %'], inplace=True, axis=1)\n",
        "    df.sort_index(ascending=False)\n",
        "    return df"
      ],
      "execution_count": null,
      "outputs": []
    },
    {
      "cell_type": "code",
      "metadata": {
        "scrolled": false,
        "id": "K9anYpOM7TKt"
      },
      "source": [
        "df_oil = preprocess_oil(df_oil)\n",
        "df_oil_dubai = preprocess_oil(df_oil_dubai)\n",
        "df_oil_brent = preprocess_oil(df_oil_brent)"
      ],
      "execution_count": null,
      "outputs": []
    },
    {
      "cell_type": "markdown",
      "metadata": {
        "id": "pyvGCh4F7TKt"
      },
      "source": [
        "## Check"
      ]
    },
    {
      "cell_type": "code",
      "metadata": {
        "id": "bMwUgDPN7TKt"
      },
      "source": [
        "print(\"oil:\", len(df_oil), \"\\ndubai:\", len(df_oil_dubai), \"\\nbrent:\", len(df_oil_brent))"
      ],
      "execution_count": null,
      "outputs": []
    },
    {
      "cell_type": "markdown",
      "metadata": {
        "id": "S0xEY7ox7TKt"
      },
      "source": [
        "oil과 비교하였을 때 dubai의 경우 28개, brent의 경우 3개의 데이터가 적다  \n",
        "따라서 df_oil 데이터를 사용하도록 한다"
      ]
    },
    {
      "cell_type": "markdown",
      "metadata": {
        "id": "P6aYxyz67TKt"
      },
      "source": [
        "## Add to Training Data"
      ]
    },
    {
      "cell_type": "code",
      "metadata": {
        "id": "1Muczrc27TKt"
      },
      "source": [
        "df_train = pd.merge(df_train, df_oil, how='left', on=['year', 'month', 'day'])"
      ],
      "execution_count": null,
      "outputs": []
    },
    {
      "cell_type": "code",
      "metadata": {
        "id": "0dYBbImg7TKu"
      },
      "source": [
        "pd.set_option(\"display.max_columns\", None)\n",
        "df_train.sample(5)"
      ],
      "execution_count": null,
      "outputs": []
    },
    {
      "cell_type": "markdown",
      "metadata": {
        "id": "piIkfoXt7TKu"
      },
      "source": [
        "---"
      ]
    },
    {
      "cell_type": "markdown",
      "metadata": {
        "id": "B1Ds8aYs7TKu"
      },
      "source": [
        "# Korea Weather"
      ]
    },
    {
      "cell_type": "markdown",
      "metadata": {
        "id": "5XbJR-Ul7TKu"
      },
      "source": [
        "## Import Data"
      ]
    },
    {
      "cell_type": "code",
      "metadata": {
        "id": "pb-geJf27TKu"
      },
      "source": [
        "df_weather_kr = pd.read_csv(os.path.join(root, 'raw_weather_korea.csv'), encoding='euc-kr')"
      ],
      "execution_count": null,
      "outputs": []
    },
    {
      "cell_type": "markdown",
      "metadata": {
        "id": "kYt6KcQk7TKu"
      },
      "source": [
        "## Group\n",
        "일자 별로 평균 구하기"
      ]
    },
    {
      "cell_type": "code",
      "metadata": {
        "id": "aihGWxu47TKu"
      },
      "source": [
        "df_weather_kr['wind_kr'] = df_weather_kr[['일시', '평균 풍속(m/s)']].groupby(['일시']).transform('mean')\n",
        "df_weather_kr['temperature_kr'] = df_weather_kr[['일시', '평균 기온(°C)']].groupby(['일시']).transform('mean')\n",
        "df_weather_kr['water_temp_kr'] = df_weather_kr[['일시', '평균 수온(°C)']].groupby(['일시']).transform('mean')"
      ],
      "execution_count": null,
      "outputs": []
    },
    {
      "cell_type": "markdown",
      "metadata": {
        "id": "FlOKa7c37TKu"
      },
      "source": [
        "## Preprocess Date"
      ]
    },
    {
      "cell_type": "code",
      "metadata": {
        "id": "thyMSwfu7TKu"
      },
      "source": [
        "df_weather_kr['year'] = df_weather_kr['일시'].str[:4].astype('int')\n",
        "df_weather_kr['month'] = df_weather_kr['일시'].str[5:7].astype('int')\n",
        "df_weather_kr['day'] = df_weather_kr['일시'].str[8:].astype('int')"
      ],
      "execution_count": null,
      "outputs": []
    },
    {
      "cell_type": "markdown",
      "metadata": {
        "id": "iRuMRtrf7TKu"
      },
      "source": [
        "## Drop Column\n",
        "어차피 전부 해안가 대한민국이라 지점은 필요없다  \n",
        "사용한 컬럼은 제거한다"
      ]
    },
    {
      "cell_type": "code",
      "metadata": {
        "id": "e1Yd77_L7TKu"
      },
      "source": [
        "drop = ['지점', '일시', '평균 풍속(m/s)', '평균 기온(°C)', '평균 수온(°C)']"
      ],
      "execution_count": null,
      "outputs": []
    },
    {
      "cell_type": "code",
      "metadata": {
        "id": "cDy5qdfk7TKv"
      },
      "source": [
        "df_weather_kr.drop(columns=drop, inplace=True, axis=1)"
      ],
      "execution_count": null,
      "outputs": []
    },
    {
      "cell_type": "markdown",
      "metadata": {
        "id": "gH6G-gCb7TKv"
      },
      "source": [
        "## Add to Training Data"
      ]
    },
    {
      "cell_type": "code",
      "metadata": {
        "id": "pAeFVJZm7TKv"
      },
      "source": [
        "df_train = pd.merge(df_train, df_weather_kr, how='left', on=['year', 'month', 'day'])"
      ],
      "execution_count": null,
      "outputs": []
    },
    {
      "cell_type": "code",
      "metadata": {
        "id": "wbUyFL9R7TKv"
      },
      "source": [
        "pd.set_option(\"display.max_columns\", None)\n",
        "df_train.sample(5)"
      ],
      "execution_count": null,
      "outputs": []
    },
    {
      "cell_type": "markdown",
      "metadata": {
        "id": "0s4waw097TKv"
      },
      "source": [
        "---"
      ]
    },
    {
      "cell_type": "markdown",
      "metadata": {
        "id": "L0rIG3y37TKv"
      },
      "source": [
        "# 소비자물가지수"
      ]
    },
    {
      "cell_type": "markdown",
      "metadata": {
        "id": "UEjWmwdM7TKv"
      },
      "source": [
        "## Import Data"
      ]
    },
    {
      "cell_type": "code",
      "metadata": {
        "id": "TcpeFP4j7TKv"
      },
      "source": [
        "cpi_purpose = pd.read_csv(\"/content/drive/MyDrive/빅콘/Seafood_Import_Price_Prediction/DATA/cpi/raw_cpi_purpose.csv\",encoding='cp949')  # CPI\n",
        "\n",
        "cpi_purpose"
      ],
      "execution_count": null,
      "outputs": []
    },
    {
      "cell_type": "markdown",
      "metadata": {
        "id": "miqYSGQFFeUR"
      },
      "source": [
        "# 소비자물가 총지수"
      ]
    },
    {
      "cell_type": "markdown",
      "metadata": {
        "id": "lusxs6UZF3mJ"
      },
      "source": [
        "## Drop Columns/Rows"
      ]
    },
    {
      "cell_type": "code",
      "metadata": {
        "id": "8E0xt4saFiKH"
      },
      "source": [
        "cpi_purpose.drop('시도별',axis=1,inplace=True)\n",
        "\n",
        "cpi_purpose_copy = cpi_purpose.copy()\n",
        "\n",
        "cpi_purpose_copy.drop('지출목적별',axis=1,inplace=True)\n",
        "\n",
        "cpi_total = cpi_purpose_copy.iloc[0,:] # 전국 소비자물가 총지수만 추출\n",
        "\n",
        "cpi_total = pd.DataFrame(cpi_total.values,columns=['cpi'],index=cpi_total.index)\n",
        "\n",
        "cpi_total"
      ],
      "execution_count": null,
      "outputs": []
    },
    {
      "cell_type": "markdown",
      "metadata": {
        "id": "REUhHqUwFswV"
      },
      "source": [
        "## Pivoting"
      ]
    },
    {
      "cell_type": "code",
      "metadata": {
        "id": "rBe0CV3CFu3k"
      },
      "source": [
        "cpi_purpose_copy = cpi_purpose.copy()\n",
        "\n",
        "cpi_purpose_copy.drop('지출목적별',axis=1,inplace=True)\n",
        "\n",
        "cpi_total = cpi_purpose_copy.iloc[0,:] # 전국 소비자물가 총지수만 추출\n",
        "\n",
        "cpi_total = pd.DataFrame(cpi_total.values,columns=['cpi'],index=cpi_total.index)\n",
        "\n",
        "cpi_total"
      ],
      "execution_count": null,
      "outputs": []
    },
    {
      "cell_type": "markdown",
      "metadata": {
        "id": "IVzDSwrO7TKv"
      },
      "source": [
        "## Pivoting"
      ]
    },
    {
      "cell_type": "code",
      "metadata": {
        "id": "dxMilZm87TKv"
      },
      "source": [
        "cpi_purpose_copy = cpi_purpose.copy()\n",
        "\n",
        "cpi_purpose_copy.drop('지출목적별',axis=1,inplace=True)\n",
        "\n",
        "cpi_total = cpi_purpose_copy.iloc[0,:] # 전국 소비자물가 총지수만 추출\n",
        "\n",
        "cpi_total = pd.DataFrame(cpi_total.values,columns=['cpi'],index=cpi_total.index)\n",
        "\n",
        "cpi_total"
      ],
      "execution_count": null,
      "outputs": []
    },
    {
      "cell_type": "markdown",
      "metadata": {
        "id": "LE451chsESbg"
      },
      "source": [
        "# 지출목적별 소비자물가지수"
      ]
    },
    {
      "cell_type": "code",
      "metadata": {
        "id": "0VfK9Sjy7TKw"
      },
      "source": [
        "cpi_purpose2 = cpi_purpose.iloc[[1,11],:]\n",
        "\n",
        "cpi_purpose2 # 전국 식료품별, 음식서비스별 cpi만 추출"
      ],
      "execution_count": null,
      "outputs": []
    },
    {
      "cell_type": "code",
      "metadata": {
        "id": "v3IqwmxIDoKz"
      },
      "source": [
        "cpi_purpose3 = pd.DataFrame(cpi_purpose2.iloc[0,:].values,index = cpi_purpose2.columns,columns=['식료품 cpi'])\n",
        "\n",
        "cpi_purpose3['음식 및 숙박 cpi'] = cpi_purpose2.iloc[1,:].values\n",
        "\n",
        "cpi_purpose3.drop('지출목적별',axis=0,inplace=True) # 지출목적별 행 삭제\n",
        "\n",
        "cpi_purpose3 # 식료품, 음식 cpi"
      ],
      "execution_count": null,
      "outputs": []
    },
    {
      "cell_type": "markdown",
      "metadata": {
        "id": "enlfpfJd7TKw"
      },
      "source": [
        "## Preprocess Date"
      ]
    },
    {
      "cell_type": "code",
      "metadata": {
        "id": "TYyzi8rh7TKw"
      },
      "source": [
        "cpi_total.reset_index(inplace=True)  # 날짜 인덱스 > 컬럼으로 변경\n",
        "cpi_purpose3.reset_index(inplace=True)  # 날짜 인덱스 > 컬럼으로 변경"
      ],
      "execution_count": null,
      "outputs": []
    },
    {
      "cell_type": "code",
      "metadata": {
        "id": "6-jU3p587TKw"
      },
      "source": [
        "cpi_total['year'] = cpi_total['index'].str[:4].astype('int')\n",
        "cpi_total['month'] = cpi_total['index'].str[5:].astype('int')\n",
        "cpi_total.drop(columns=['index'], inplace=True, axis=1)\n",
        "\n",
        "cpi_purpose3['year'] = cpi_purpose3['index'].str[:4].astype('int')\n",
        "cpi_purpose3['month'] = cpi_purpose3['index'].str[5:].astype('int')\n",
        "cpi_purpose3.drop(columns=['index'], inplace=True, axis=1)"
      ],
      "execution_count": null,
      "outputs": []
    },
    {
      "cell_type": "markdown",
      "metadata": {
        "id": "0ow1qhem7TKw"
      },
      "source": [
        "## Add to Training Data"
      ]
    },
    {
      "cell_type": "code",
      "metadata": {
        "id": "LkF8mrnC7TKw"
      },
      "source": [
        "df_train = pd.merge(df_train, df_cpi1, how='left', on=['year', 'month'])\n",
        "df_train = pd.merge(df_train, df_cpi2, how='left', on=['year', 'month'])"
      ],
      "execution_count": null,
      "outputs": []
    },
    {
      "cell_type": "code",
      "metadata": {
        "id": "XesE8rQK7TKw"
      },
      "source": [
        "pd.set_option(\"display.max_columns\", None)\n",
        "df_train.sample(5)"
      ],
      "execution_count": null,
      "outputs": []
    },
    {
      "cell_type": "markdown",
      "metadata": {
        "id": "PBX2gc1s7TKw"
      },
      "source": [
        "---"
      ]
    },
    {
      "cell_type": "markdown",
      "metadata": {
        "id": "prmrs50a7TKw"
      },
      "source": [
        "# Final"
      ]
    },
    {
      "cell_type": "markdown",
      "metadata": {
        "id": "Ui7PhQlm7TKw"
      },
      "source": [
        "## One-hot Encoding"
      ]
    },
    {
      "cell_type": "code",
      "metadata": {
        "id": "D2wAIEY_7TKw"
      },
      "source": [
        "one_hot = ['CTRY_1', 'CTRY_2', 'P_PURPOSE', 'CATEGORY_1', 'CATEGORY_2', 'P_NAME']"
      ],
      "execution_count": null,
      "outputs": []
    },
    {
      "cell_type": "code",
      "metadata": {
        "id": "pRKkcACh7TKw"
      },
      "source": [
        "df_train = pd.get_dummies(df_train, columns=one_hot)"
      ],
      "execution_count": null,
      "outputs": []
    },
    {
      "cell_type": "markdown",
      "metadata": {
        "id": "9TjOq4PM7TKx"
      },
      "source": [
        "## Drop Columns"
      ]
    },
    {
      "cell_type": "code",
      "metadata": {
        "id": "02DqP-aR7TKx"
      },
      "source": [
        "drop = ['REG_DATE', 'P_TYPE', 'P_IMPORT_TYPE']"
      ],
      "execution_count": null,
      "outputs": []
    },
    {
      "cell_type": "code",
      "metadata": {
        "id": "Yr1Q_9kz7TKx"
      },
      "source": [
        "df_train.drop(columns = drop, inplace=True)"
      ],
      "execution_count": null,
      "outputs": []
    },
    {
      "cell_type": "code",
      "metadata": {
        "scrolled": false,
        "id": "0FCfWLME7TKx"
      },
      "source": [
        "pd.set_option(\"display.max_columns\", None)\n",
        "df_train.sample(5)"
      ],
      "execution_count": null,
      "outputs": []
    },
    {
      "cell_type": "markdown",
      "metadata": {
        "id": "tgHQpmnw7TKx"
      },
      "source": [
        "## Save Files"
      ]
    },
    {
      "cell_type": "code",
      "metadata": {
        "id": "qbtEbNmE7TKx"
      },
      "source": [
        "def save_file(df, file_name):\n",
        "    df.to_csv(os.path.join(root, file_name), encoding='utf-8')"
      ],
      "execution_count": null,
      "outputs": []
    },
    {
      "cell_type": "code",
      "metadata": {
        "id": "x2Ynh9N27TKx"
      },
      "source": [
        "save_file(df_weather, 'preprocessed_weather.csv')  # 제조국 날씨\n",
        "save_file(df_oil, 'preprocessed_oil.csv')  # 원유 종가\n",
        "save_file(df_weather_kr, 'preprocessed_weather_korea.csv')  # 한국 날씨\n",
        "save_file(df_cpi1, 'preprocessed_cpi_region.csv')  # 전체 소비자물가지수\n",
        "save_file(df_cpi2, 'preprocessed_cpi_purpose.csv')  # 음식/음식서비스 소비자물가지수\n",
        "save_file(df_train, 'preprocessed_train.csv')  # 최종 df"
      ],
      "execution_count": null,
      "outputs": []
    },
    {
      "cell_type": "code",
      "metadata": {
        "id": "EJzpvZz-7TKx"
      },
      "source": [
        ""
      ],
      "execution_count": null,
      "outputs": []
    }
  ]
}