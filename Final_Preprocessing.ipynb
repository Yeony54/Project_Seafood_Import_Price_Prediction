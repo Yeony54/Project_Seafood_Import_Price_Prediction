{
  "nbformat": 4,
  "nbformat_minor": 0,
  "metadata": {
    "kernelspec": {
      "display_name": "Python 3",
      "language": "python",
      "name": "python3"
    },
    "language_info": {
      "codemirror_mode": {
        "name": "ipython",
        "version": 3
      },
      "file_extension": ".py",
      "mimetype": "text/x-python",
      "name": "python",
      "nbconvert_exporter": "python",
      "pygments_lexer": "ipython3",
      "version": "3.8.3"
    },
    "colab": {
      "name": "Final_Preprocessing.ipynb",
      "provenance": [],
      "collapsed_sections": [
        "DACPIbVx7TKg",
        "KF2OAGuX7TKp",
        "8M2cvvz67TKp",
        "Ri1gh7AmKrOO",
        "qHGpgasILfLx",
        "DUxLnVF_Mdae",
        "IJnd1IKwNnuu",
        "6Bcx08HU7TKr",
        "gp3zCFeg7TKs",
        "600RYV_S7TKs",
        "5nG6S2767TKs",
        "acx-1jLF7TKt",
        "oCJclrSZ7TKt",
        "r5qohDxB7TKt",
        "pyvGCh4F7TKt",
        "P6aYxyz67TKt",
        "B1Ds8aYs7TKu",
        "kYt6KcQk7TKu",
        "FlOKa7c37TKu",
        "iRuMRtrf7TKu",
        "gH6G-gCb7TKv",
        "L0rIG3y37TKv",
        "UEjWmwdM7TKv",
        "miqYSGQFFeUR",
        "lusxs6UZF3mJ",
        "LE451chsESbg",
        "prmrs50a7TKw",
        "Ui7PhQlm7TKw",
        "9TjOq4PM7TKx",
        "tgHQpmnw7TKx"
      ]
    }
  },
  "cells": [
    {
      "cell_type": "markdown",
      "metadata": {
        "id": "DACPIbVx7TKg"
      },
      "source": [
        "# Import Library"
      ]
    },
    {
      "cell_type": "code",
      "metadata": {
        "id": "83--jW2p7TKi"
      },
      "source": [
        "# Import Libraries\n",
        "import os\n",
        "import pandas as pd\n",
        "import numpy as np\n",
        "from scipy.stats import norm\n",
        "from sklearn.preprocessing import StandardScaler\n",
        "from scipy import stats\n",
        "import warnings\n",
        "warnings.filterwarnings('ignore')\n",
        "%matplotlib inline\n",
        "\n",
        "# Visuzliation Setting\n",
        "import matplotlib.pyplot as plt\n",
        "import matplotlib.font_manager as fm\n",
        "from matplotlib import rc\n",
        "from matplotlib import colors\n",
        "import seaborn as sns"
      ],
      "execution_count": null,
      "outputs": []
    },
    {
      "cell_type": "markdown",
      "metadata": {
        "id": "Ap-G6EzN7TKk"
      },
      "source": [
        "---"
      ]
    },
    {
      "cell_type": "code",
      "metadata": {
        "colab": {
          "base_uri": "https://localhost:8080/"
        },
        "id": "Vd981FIv9NUn",
        "outputId": "5e8cb746-a86a-4032-a34e-33c8ba221552"
      },
      "source": [
        "from google.colab import drive\n",
        "drive.mount('/content/drive')"
      ],
      "execution_count": null,
      "outputs": [
        {
          "output_type": "stream",
          "text": [
            "Drive already mounted at /content/drive; to attempt to forcibly remount, call drive.mount(\"/content/drive\", force_remount=True).\n"
          ],
          "name": "stdout"
        }
      ]
    },
    {
      "cell_type": "code",
      "metadata": {
        "id": "TWB8ocwr7TKk"
      },
      "source": [
        "root = os.path.join(os.getcwd(), '/content/drive/MyDrive/BigContest/DATA')"
      ],
      "execution_count": null,
      "outputs": []
    },
    {
      "cell_type": "markdown",
      "metadata": {
        "id": "n0koSwxa7TKl"
      },
      "source": [
        "# Training Data\n",
        "빅콘테스트 제공 데이터 전처리"
      ]
    },
    {
      "cell_type": "markdown",
      "metadata": {
        "id": "xdBOsf7e7TKl"
      },
      "source": [
        "## Import Data"
      ]
    },
    {
      "cell_type": "code",
      "metadata": {
        "id": "KJCPDskn7TKl"
      },
      "source": [
        "df_raw = pd.read_excel(os.path.join(root, 'train.xlsx'))\n",
        "df_train = df_raw.copy()"
      ],
      "execution_count": null,
      "outputs": []
    },
    {
      "cell_type": "markdown",
      "metadata": {
        "id": "8GgRtMPI7TKm"
      },
      "source": [
        "### Add Columns"
      ]
    },
    {
      "cell_type": "code",
      "metadata": {
        "id": "LLjCPPHU7TKm"
      },
      "source": [
        "# 날짜변수 추가\n",
        "df_train['year'] = df_train['REG_DATE'].dt.year\n",
        "df_train['month'] = df_train['REG_DATE'].dt.month\n",
        "df_train['day'] = df_train['REG_DATE'].dt.day"
      ],
      "execution_count": null,
      "outputs": []
    },
    {
      "cell_type": "code",
      "metadata": {
        "id": "iOcPWO0-7TKn"
      },
      "source": [
        "df_train['VALUE_COUNT'] = 0;\n",
        "value_dict = {}\n",
        "for name, value in zip(df_train['P_NAME'].value_counts().index,df_train['P_NAME'].value_counts()):\n",
        "    value_dict[name] = value\n",
        "\n",
        "def value(col):\n",
        "    return value_dict[col]\n",
        "\n",
        "df_train['VALUE_COUNT'] = df_train['P_NAME'].apply(value)"
      ],
      "execution_count": null,
      "outputs": []
    },
    {
      "cell_type": "markdown",
      "metadata": {
        "id": "h3OU0ctu7TKo"
      },
      "source": [
        "### One hot encoding\n",
        "P_IMPORT_TYPE 이라는 특수한 컬럼에 대한 전처리"
      ]
    },
    {
      "cell_type": "code",
      "metadata": {
        "id": "WfYJ0J9I7TKo"
      },
      "source": [
        "import_type_list = set()\n",
        "for tmp in df_train.P_IMPORT_TYPE.unique():\n",
        "    for a in tmp.split(','):\n",
        "        import_type_list.add(a)"
      ],
      "execution_count": null,
      "outputs": []
    },
    {
      "cell_type": "code",
      "metadata": {
        "id": "9Sem0cl37TKo"
      },
      "source": [
        "for name in import_type_list:\n",
        "    df_train[name] = 0\n",
        "    df_train.loc[df_train['P_IMPORT_TYPE'].str.contains(name, regex=False), name] = 1"
      ],
      "execution_count": null,
      "outputs": []
    },
    {
      "cell_type": "markdown",
      "metadata": {
        "id": "uDZd3vUe7TKp"
      },
      "source": [
        "---"
      ]
    },
    {
      "cell_type": "markdown",
      "metadata": {
        "id": "Yohf5ddY7TKp"
      },
      "source": [
        "# Weather data"
      ]
    },
    {
      "cell_type": "markdown",
      "metadata": {
        "id": "KF2OAGuX7TKp"
      },
      "source": [
        "## Import Data"
      ]
    },
    {
      "cell_type": "code",
      "metadata": {
        "id": "d1lx8F_f7TKp"
      },
      "source": [
        "df_weather_code = pd.read_excel(os.path.join(root, 'raw_weather_code.xlsx'), header=None, index_col=0)"
      ],
      "execution_count": null,
      "outputs": []
    },
    {
      "cell_type": "code",
      "metadata": {
        "id": "7jgUNwso7TKp"
      },
      "source": [
        "weather_list = [pd.read_csv(os.path.join(root, 'raw_weather_20151228_20161227.csv'), encoding='euc-kr') , \n",
        "                pd.read_csv(os.path.join(root, 'raw_weather_20161228_20171227.csv'), encoding='euc-kr') , \n",
        "                pd.read_csv(os.path.join(root, 'raw_weather_20171228_20181227.csv'), encoding='euc-kr') , \n",
        "                pd.read_csv(os.path.join(root, 'raw_weather_20181228_20191227.csv'), encoding='euc-kr') , \n",
        "                pd.read_csv(os.path.join(root, 'raw_weather_20191228_20201227.csv'), encoding='euc-kr') , \n",
        "                pd.read_csv(os.path.join(root, 'raw_weather_20201228_20210818.csv'), encoding='euc-kr')]"
      ],
      "execution_count": null,
      "outputs": []
    },
    {
      "cell_type": "markdown",
      "metadata": {
        "id": "8M2cvvz67TKp"
      },
      "source": [
        "\n",
        "## Preprocess\n",
        "- '지점'에 따른 나라명 컬럼 (country) 추가\n",
        "- 각 나라, 일자 별로 평균 강수량, 풍속, 기온 계산"
      ]
    },
    {
      "cell_type": "code",
      "metadata": {
        "id": "PiLtGhtD7TKp"
      },
      "source": [
        "# 지점에 따라 나라명 추가\n",
        "def set_country(row):\n",
        "    data = df_weather_code[df_weather_code[1] == row['지점']]\n",
        "    if data.empty:\n",
        "        return \"\"\n",
        "    return data.iloc[0][2]\n",
        "\n",
        "\n",
        "def preprocess_weather(df_weather):\n",
        "    # 날짜 정보 정리\n",
        "    df_weather['year'] = df_weather['일시'].astype('str').str[:4].astype('int')\n",
        "    df_weather['month'] = df_weather['일시'].astype('str').str[5:7].astype('int')\n",
        "    df_weather['day'] = df_weather['일시'].astype('str').str[8:10].astype('int')\n",
        "    # 1차 평균\n",
        "    df_weather['rain'] = df_weather[['지점', 'year', 'month', 'day', '강수량']].groupby(['지점', 'year', 'month', 'day']).transform('mean')\n",
        "    df_weather['wind'] = df_weather[['지점', 'year', 'month', 'day', '풍속']].groupby(['지점', 'year', 'month', 'day']).transform('mean')\n",
        "    df_weather['temperature'] = df_weather[['지점', 'year', 'month', 'day', '기온']].groupby(['지점', 'year', 'month', 'day']).transform('mean')\n",
        "    # 컬럼/행 정리\n",
        "    df_weather.drop(columns = ['지점명', '일시', '강수량', '풍속', '기온'], inplace=True)\n",
        "    df_weather.drop_duplicates(inplace=True)\n",
        "    # 나라명 추가\n",
        "    df_weather['CTRY_1'] = \"\"\n",
        "    for i, row in df_weather.iterrows():\n",
        "        df_weather.at[i, 'CTRY_1'] = set_country(row)\n",
        "    # 2차 평균\n",
        "    df_weather['rain'] = df_weather[['CTRY_1', 'year', 'month', 'day', 'rain']].groupby(['CTRY_1', 'year', 'month', 'day']).transform('mean')\n",
        "    df_weather['wind'] = df_weather[['CTRY_1', 'year', 'month', 'day', 'wind']].groupby(['CTRY_1', 'year', 'month', 'day']).transform('mean')\n",
        "    df_weather['temperature'] = df_weather[['CTRY_1', 'year', 'month', 'day', 'temperature']].groupby(['CTRY_1', 'year', 'month', 'day']).transform('mean')\n",
        "    # 컬럼/행 정리\n",
        "    df_weather.drop(columns = ['지점'], inplace=True)\n",
        "    df_weather.drop_duplicates(inplace=True)\n",
        "    # 인덱스 정리\n",
        "    df_weather.reset_index(drop=True, inplace=True)"
      ],
      "execution_count": null,
      "outputs": []
    },
    {
      "cell_type": "code",
      "metadata": {
        "scrolled": false,
        "id": "WxLOBtPv7TKq"
      },
      "source": [
        "for df in weather_list:\n",
        "    preprocess_weather(df)\n",
        "df_weather = pd.concat(weather_list)"
      ],
      "execution_count": null,
      "outputs": []
    },
    {
      "cell_type": "code",
      "metadata": {
        "id": "YStP_beA7TKq"
      },
      "source": [
        "df_weather = pd.concat(weather_list)"
      ],
      "execution_count": null,
      "outputs": []
    },
    {
      "cell_type": "code",
      "metadata": {
        "id": "3DvVEvAt7TKq"
      },
      "source": [
        "df_weather.describe()"
      ],
      "execution_count": null,
      "outputs": []
    },
    {
      "cell_type": "markdown",
      "metadata": {
        "id": "BGnKTFUv7TKr"
      },
      "source": [
        "#### 확인필요\n",
        "- outlier 찾아내기 > 값이 너무 크거나 작은 경우 제외\n",
        "- 날짜별로 확인 후 비어있는 값 채워넣기 (전/다음날 이용)\n",
        "    - 13947개 데이터 중 rain, wind, temperature 갯수 보면 몇개 비어있는지 확인 가능\n",
        "- 합치기..\n",
        "- 강수량의 경우 NaN 값이 너무 많음\n",
        "    - 위 전처리들을 한 후에도 많다면 사용불가\n",
        "    - 위 전처리 후에는 적다면 전날/다음날 데이터 기반으로 채워넣기 진행"
      ]
    },
    {
      "cell_type": "markdown",
      "metadata": {
        "id": "82y8pph2JA8-"
      },
      "source": [
        "## Version 2"
      ]
    },
    {
      "cell_type": "markdown",
      "metadata": {
        "id": "Ri1gh7AmKrOO"
      },
      "source": [
        "### Import Data"
      ]
    },
    {
      "cell_type": "code",
      "metadata": {
        "id": "ARx7zYB_JH0v"
      },
      "source": [
        "rwt_20152016 = pd.read_csv('/content/drive/MyDrive/빅콘/Seafood_Import_Price_Prediction/DATA/weather/raw_weather_20151228_20161227.csv',encoding='cp949') \n",
        "rwt_20162017 = pd.read_csv('/content/drive/MyDrive/빅콘/Seafood_Import_Price_Prediction/DATA/weather/raw_weather_20161228_20171227.csv',encoding='cp949') \n",
        "rwt_20172018 = pd.read_csv('/content/drive/MyDrive/빅콘/Seafood_Import_Price_Prediction/DATA/weather/raw_weather_20171228_20181227.csv',encoding='cp949') \n",
        "rwt_20182019 = pd.read_csv('/content/drive/MyDrive/빅콘/Seafood_Import_Price_Prediction/DATA/weather/raw_weather_20181228_20191227.csv',encoding='cp949') \n",
        "rwt_20192020 = pd.read_csv('/content/drive/MyDrive/빅콘/Seafood_Import_Price_Prediction/DATA/weather/raw_weather_20191228_20201227.csv',encoding='cp949') \n",
        "rwt_20202021 = pd.read_csv('/content/drive/MyDrive/빅콘/Seafood_Import_Price_Prediction/DATA/weather/raw_weather_20201228_20210818.csv',encoding='cp949') "
      ],
      "execution_count": null,
      "outputs": []
    },
    {
      "cell_type": "markdown",
      "metadata": {
        "id": "DuJakKy7KzbS"
      },
      "source": [
        "### Merge"
      ]
    },
    {
      "cell_type": "code",
      "metadata": {
        "id": "0jDAs3qPK2Mm"
      },
      "source": [
        "rwt = pd.merge(rwt_20152016,rwt_20162017,how='outer')\n",
        "\n",
        "rwt = rwt.append(rwt_20172018)\n",
        "rwt = rwt.append(rwt_20182019)\n",
        "rwt = rwt.append(rwt_20192020)\n",
        "rwt = rwt.append(rwt_20202021)\n",
        "\n",
        "rwt # 국가별 강수량,풍속,기온 데이터"
      ],
      "execution_count": null,
      "outputs": []
    },
    {
      "cell_type": "markdown",
      "metadata": {
        "id": "5lrp5swBLG9C"
      },
      "source": [
        "### 국가별로 나누기"
      ]
    },
    {
      "cell_type": "markdown",
      "metadata": {
        "id": "qHGpgasILfLx"
      },
      "source": [
        "#### 노르웨이 Weather"
      ]
    },
    {
      "cell_type": "code",
      "metadata": {
        "id": "M4DbJxVyLMex",
        "colab": {
          "base_uri": "https://localhost:8080/",
          "height": 0
        },
        "outputId": "84f1458d-1b2d-44d8-9d03-9e2e5b048aaf"
      },
      "source": [
        "rwt_nor = pd.DataFrame()\n",
        "\n",
        "for i in [1373, 1007, 1233, 1114, 1098, 1002, 1317, 1152, 1028, 1008, 1415, 1001, 1212, 1492, 1384, 1241, 1403, 1065, 1196, 1271, 1026 ,1025,1465, 1238]:\n",
        "    rwt_nor = rwt_nor.append(rwt[rwt['지점']==i]) # 노르웨이\n",
        "\n",
        "rwt_nor = rwt_nor.sort_values(by=['지점','일시'])\n",
        "\n",
        "rwt_nor['일시'] = rwt_nor['일시'].str[:10] # 시간 부분 삭제\n",
        "\n",
        "rwt_nor['일시'] = rwt_nor['일시'].astype('datetime64')\n",
        "\n",
        "rwt_nor = rwt_nor.query('일시.dt.dayofweek == 0') # 일시를 일주일 간격으로 변환\n",
        "\n",
        "rwt_nor['국가'] = '노르웨이'\n",
        "\n",
        "rwt_nor"
      ],
      "execution_count": 324,
      "outputs": [
        {
          "output_type": "execute_result",
          "data": {
            "text/html": [
              "<div>\n",
              "<style scoped>\n",
              "    .dataframe tbody tr th:only-of-type {\n",
              "        vertical-align: middle;\n",
              "    }\n",
              "\n",
              "    .dataframe tbody tr th {\n",
              "        vertical-align: top;\n",
              "    }\n",
              "\n",
              "    .dataframe thead th {\n",
              "        text-align: right;\n",
              "    }\n",
              "</style>\n",
              "<table border=\"1\" class=\"dataframe\">\n",
              "  <thead>\n",
              "    <tr style=\"text-align: right;\">\n",
              "      <th></th>\n",
              "      <th>지점</th>\n",
              "      <th>지점명</th>\n",
              "      <th>일시</th>\n",
              "      <th>풍속</th>\n",
              "      <th>강수량</th>\n",
              "      <th>기온</th>\n",
              "      <th>국가</th>\n",
              "    </tr>\n",
              "  </thead>\n",
              "  <tbody>\n",
              "    <tr>\n",
              "      <th>0</th>\n",
              "      <td>1001</td>\n",
              "      <td>얀마이엔</td>\n",
              "      <td>2015-12-28</td>\n",
              "      <td>11.0</td>\n",
              "      <td>NaN</td>\n",
              "      <td>2.3</td>\n",
              "      <td>노르웨이</td>\n",
              "    </tr>\n",
              "    <tr>\n",
              "      <th>1</th>\n",
              "      <td>1001</td>\n",
              "      <td>얀마이엔</td>\n",
              "      <td>2015-12-28</td>\n",
              "      <td>13.0</td>\n",
              "      <td>0.0</td>\n",
              "      <td>2.6</td>\n",
              "      <td>노르웨이</td>\n",
              "    </tr>\n",
              "    <tr>\n",
              "      <th>2</th>\n",
              "      <td>1001</td>\n",
              "      <td>얀마이엔</td>\n",
              "      <td>2015-12-28</td>\n",
              "      <td>11.0</td>\n",
              "      <td>NaN</td>\n",
              "      <td>3.3</td>\n",
              "      <td>노르웨이</td>\n",
              "    </tr>\n",
              "    <tr>\n",
              "      <th>3</th>\n",
              "      <td>1001</td>\n",
              "      <td>얀마이엔</td>\n",
              "      <td>2015-12-28</td>\n",
              "      <td>13.0</td>\n",
              "      <td>0.1</td>\n",
              "      <td>3.4</td>\n",
              "      <td>노르웨이</td>\n",
              "    </tr>\n",
              "    <tr>\n",
              "      <th>4</th>\n",
              "      <td>1001</td>\n",
              "      <td>얀마이엔</td>\n",
              "      <td>2015-12-28</td>\n",
              "      <td>15.0</td>\n",
              "      <td>NaN</td>\n",
              "      <td>3.7</td>\n",
              "      <td>노르웨이</td>\n",
              "    </tr>\n",
              "    <tr>\n",
              "      <th>...</th>\n",
              "      <td>...</td>\n",
              "      <td>...</td>\n",
              "      <td>...</td>\n",
              "      <td>...</td>\n",
              "      <td>...</td>\n",
              "      <td>...</td>\n",
              "      <td>...</td>\n",
              "    </tr>\n",
              "    <tr>\n",
              "      <th>25067</th>\n",
              "      <td>1492</td>\n",
              "      <td>오슬로-블린데른</td>\n",
              "      <td>2020-06-01</td>\n",
              "      <td>3.0</td>\n",
              "      <td>NaN</td>\n",
              "      <td>12.8</td>\n",
              "      <td>노르웨이</td>\n",
              "    </tr>\n",
              "    <tr>\n",
              "      <th>25068</th>\n",
              "      <td>1492</td>\n",
              "      <td>오슬로-블린데른</td>\n",
              "      <td>2020-06-01</td>\n",
              "      <td>1.0</td>\n",
              "      <td>NaN</td>\n",
              "      <td>18.1</td>\n",
              "      <td>노르웨이</td>\n",
              "    </tr>\n",
              "    <tr>\n",
              "      <th>25069</th>\n",
              "      <td>1492</td>\n",
              "      <td>오슬로-블린데른</td>\n",
              "      <td>2020-06-01</td>\n",
              "      <td>2.0</td>\n",
              "      <td>NaN</td>\n",
              "      <td>22.9</td>\n",
              "      <td>노르웨이</td>\n",
              "    </tr>\n",
              "    <tr>\n",
              "      <th>25070</th>\n",
              "      <td>1492</td>\n",
              "      <td>오슬로-블린데른</td>\n",
              "      <td>2020-06-01</td>\n",
              "      <td>3.0</td>\n",
              "      <td>NaN</td>\n",
              "      <td>24.0</td>\n",
              "      <td>노르웨이</td>\n",
              "    </tr>\n",
              "    <tr>\n",
              "      <th>25071</th>\n",
              "      <td>1492</td>\n",
              "      <td>오슬로-블린데른</td>\n",
              "      <td>2020-06-01</td>\n",
              "      <td>1.0</td>\n",
              "      <td>NaN</td>\n",
              "      <td>17.0</td>\n",
              "      <td>노르웨이</td>\n",
              "    </tr>\n",
              "  </tbody>\n",
              "</table>\n",
              "<p>39905 rows × 7 columns</p>\n",
              "</div>"
            ],
            "text/plain": [
              "         지점       지점명         일시    풍속  강수량    기온    국가\n",
              "0      1001      얀마이엔 2015-12-28  11.0  NaN   2.3  노르웨이\n",
              "1      1001      얀마이엔 2015-12-28  13.0  0.0   2.6  노르웨이\n",
              "2      1001      얀마이엔 2015-12-28  11.0  NaN   3.3  노르웨이\n",
              "3      1001      얀마이엔 2015-12-28  13.0  0.1   3.4  노르웨이\n",
              "4      1001      얀마이엔 2015-12-28  15.0  NaN   3.7  노르웨이\n",
              "...     ...       ...        ...   ...  ...   ...   ...\n",
              "25067  1492  오슬로-블린데른 2020-06-01   3.0  NaN  12.8  노르웨이\n",
              "25068  1492  오슬로-블린데른 2020-06-01   1.0  NaN  18.1  노르웨이\n",
              "25069  1492  오슬로-블린데른 2020-06-01   2.0  NaN  22.9  노르웨이\n",
              "25070  1492  오슬로-블린데른 2020-06-01   3.0  NaN  24.0  노르웨이\n",
              "25071  1492  오슬로-블린데른 2020-06-01   1.0  NaN  17.0  노르웨이\n",
              "\n",
              "[39905 rows x 7 columns]"
            ]
          },
          "metadata": {},
          "execution_count": 324
        }
      ]
    },
    {
      "cell_type": "markdown",
      "metadata": {
        "id": "DUxLnVF_Mdae"
      },
      "source": [
        "##### Preprocessing"
      ]
    },
    {
      "cell_type": "code",
      "metadata": {
        "id": "lKBMCPclMoRl",
        "colab": {
          "base_uri": "https://localhost:8080/"
        },
        "outputId": "ae12b125-1ae6-4ef9-a7b8-56a68af048f1"
      },
      "source": [
        "rwt_nor['강수량'].isna().sum()"
      ],
      "execution_count": 325,
      "outputs": [
        {
          "output_type": "execute_result",
          "data": {
            "text/plain": [
              "32300"
            ]
          },
          "metadata": {},
          "execution_count": 325
        }
      ]
    },
    {
      "cell_type": "code",
      "metadata": {
        "id": "Li9qchEmNFQn",
        "colab": {
          "base_uri": "https://localhost:8080/",
          "height": 0
        },
        "outputId": "6df8a6d5-02e6-4afc-b016-d7a00377fae4"
      },
      "source": [
        "sns.boxplot(x = rwt_nor['강수량'].unique())\n",
        "plt.xlabel('강수량')\n",
        "plt.show()\n",
        "# 이상치 제거 필요"
      ],
      "execution_count": 326,
      "outputs": [
        {
          "output_type": "display_data",
          "data": {
            "image/png": "[encoded data removed]",
            "text/plain": [
              "<Figure size 432x288 with 1 Axes>"
            ]
          },
          "metadata": {
            "needs_background": "light"
          }
        }
      ]
    },
    {
      "cell_type": "code",
      "metadata": {
        "id": "JDJwWUKiNFpB",
        "colab": {
          "base_uri": "https://localhost:8080/",
          "height": 0
        },
        "outputId": "940f2e8b-e964-4234-8882-bf97804438be"
      },
      "source": [
        "rwt_nor[rwt_nor['강수량']<0]"
      ],
      "execution_count": 327,
      "outputs": [
        {
          "output_type": "execute_result",
          "data": {
            "text/html": [
              "<div>\n",
              "<style scoped>\n",
              "    .dataframe tbody tr th:only-of-type {\n",
              "        vertical-align: middle;\n",
              "    }\n",
              "\n",
              "    .dataframe tbody tr th {\n",
              "        vertical-align: top;\n",
              "    }\n",
              "\n",
              "    .dataframe thead th {\n",
              "        text-align: right;\n",
              "    }\n",
              "</style>\n",
              "<table border=\"1\" class=\"dataframe\">\n",
              "  <thead>\n",
              "    <tr style=\"text-align: right;\">\n",
              "      <th></th>\n",
              "      <th>지점</th>\n",
              "      <th>지점명</th>\n",
              "      <th>일시</th>\n",
              "      <th>풍속</th>\n",
              "      <th>강수량</th>\n",
              "      <th>기온</th>\n",
              "      <th>국가</th>\n",
              "    </tr>\n",
              "  </thead>\n",
              "  <tbody>\n",
              "    <tr>\n",
              "      <th>110</th>\n",
              "      <td>1001</td>\n",
              "      <td>얀마이엔</td>\n",
              "      <td>2016-01-11</td>\n",
              "      <td>8.0</td>\n",
              "      <td>-999.0</td>\n",
              "      <td>-5.7</td>\n",
              "      <td>노르웨이</td>\n",
              "    </tr>\n",
              "    <tr>\n",
              "      <th>390</th>\n",
              "      <td>1001</td>\n",
              "      <td>얀마이엔</td>\n",
              "      <td>2016-02-15</td>\n",
              "      <td>2.0</td>\n",
              "      <td>-99.8</td>\n",
              "      <td>-7.6</td>\n",
              "      <td>노르웨이</td>\n",
              "    </tr>\n",
              "    <tr>\n",
              "      <th>392</th>\n",
              "      <td>1001</td>\n",
              "      <td>얀마이엔</td>\n",
              "      <td>2016-02-15</td>\n",
              "      <td>1.0</td>\n",
              "      <td>-99.8</td>\n",
              "      <td>-6.3</td>\n",
              "      <td>노르웨이</td>\n",
              "    </tr>\n",
              "    <tr>\n",
              "      <th>394</th>\n",
              "      <td>1001</td>\n",
              "      <td>얀마이엔</td>\n",
              "      <td>2016-02-15</td>\n",
              "      <td>8.0</td>\n",
              "      <td>-99.8</td>\n",
              "      <td>-3.0</td>\n",
              "      <td>노르웨이</td>\n",
              "    </tr>\n",
              "    <tr>\n",
              "      <th>396</th>\n",
              "      <td>1001</td>\n",
              "      <td>얀마이엔</td>\n",
              "      <td>2016-02-15</td>\n",
              "      <td>3.0</td>\n",
              "      <td>-99.8</td>\n",
              "      <td>-0.8</td>\n",
              "      <td>노르웨이</td>\n",
              "    </tr>\n",
              "    <tr>\n",
              "      <th>...</th>\n",
              "      <td>...</td>\n",
              "      <td>...</td>\n",
              "      <td>...</td>\n",
              "      <td>...</td>\n",
              "      <td>...</td>\n",
              "      <td>...</td>\n",
              "      <td>...</td>\n",
              "    </tr>\n",
              "    <tr>\n",
              "      <th>61334</th>\n",
              "      <td>1492</td>\n",
              "      <td>오슬로-블린데른</td>\n",
              "      <td>2019-10-28</td>\n",
              "      <td>2.0</td>\n",
              "      <td>-999.0</td>\n",
              "      <td>7.3</td>\n",
              "      <td>노르웨이</td>\n",
              "    </tr>\n",
              "    <tr>\n",
              "      <th>61335</th>\n",
              "      <td>1492</td>\n",
              "      <td>오슬로-블린데른</td>\n",
              "      <td>2019-10-28</td>\n",
              "      <td>1.0</td>\n",
              "      <td>-99.8</td>\n",
              "      <td>5.6</td>\n",
              "      <td>노르웨이</td>\n",
              "    </tr>\n",
              "    <tr>\n",
              "      <th>24435</th>\n",
              "      <td>1492</td>\n",
              "      <td>오슬로-블린데른</td>\n",
              "      <td>2020-03-02</td>\n",
              "      <td>4.0</td>\n",
              "      <td>-99.8</td>\n",
              "      <td>3.9</td>\n",
              "      <td>노르웨이</td>\n",
              "    </tr>\n",
              "    <tr>\n",
              "      <th>24436</th>\n",
              "      <td>1492</td>\n",
              "      <td>오슬로-블린데른</td>\n",
              "      <td>2020-03-02</td>\n",
              "      <td>5.0</td>\n",
              "      <td>-99.8</td>\n",
              "      <td>4.4</td>\n",
              "      <td>노르웨이</td>\n",
              "    </tr>\n",
              "    <tr>\n",
              "      <th>24437</th>\n",
              "      <td>1492</td>\n",
              "      <td>오슬로-블린데른</td>\n",
              "      <td>2020-03-02</td>\n",
              "      <td>6.0</td>\n",
              "      <td>-999.0</td>\n",
              "      <td>4.6</td>\n",
              "      <td>노르웨이</td>\n",
              "    </tr>\n",
              "  </tbody>\n",
              "</table>\n",
              "<p>687 rows × 7 columns</p>\n",
              "</div>"
            ],
            "text/plain": [
              "         지점       지점명         일시   풍속    강수량   기온    국가\n",
              "110    1001      얀마이엔 2016-01-11  8.0 -999.0 -5.7  노르웨이\n",
              "390    1001      얀마이엔 2016-02-15  2.0  -99.8 -7.6  노르웨이\n",
              "392    1001      얀마이엔 2016-02-15  1.0  -99.8 -6.3  노르웨이\n",
              "394    1001      얀마이엔 2016-02-15  8.0  -99.8 -3.0  노르웨이\n",
              "396    1001      얀마이엔 2016-02-15  3.0  -99.8 -0.8  노르웨이\n",
              "...     ...       ...        ...  ...    ...  ...   ...\n",
              "61334  1492  오슬로-블린데른 2019-10-28  2.0 -999.0  7.3  노르웨이\n",
              "61335  1492  오슬로-블린데른 2019-10-28  1.0  -99.8  5.6  노르웨이\n",
              "24435  1492  오슬로-블린데른 2020-03-02  4.0  -99.8  3.9  노르웨이\n",
              "24436  1492  오슬로-블린데른 2020-03-02  5.0  -99.8  4.4  노르웨이\n",
              "24437  1492  오슬로-블린데른 2020-03-02  6.0 -999.0  4.6  노르웨이\n",
              "\n",
              "[687 rows x 7 columns]"
            ]
          },
          "metadata": {},
          "execution_count": 327
        }
      ]
    },
    {
      "cell_type": "code",
      "metadata": {
        "id": "mBvRMyCFNHQu",
        "colab": {
          "base_uri": "https://localhost:8080/",
          "height": 0
        },
        "outputId": "62517c4f-ec5f-44d8-8851-f4d8f9f05013"
      },
      "source": [
        "rwt_nor = rwt_nor[(rwt_nor['강수량']>=0) | (rwt_nor['강수량'].isna())] # 강수량 음수 제거\n",
        "\n",
        "rwt_nor"
      ],
      "execution_count": 328,
      "outputs": [
        {
          "output_type": "execute_result",
          "data": {
            "text/html": [
              "<div>\n",
              "<style scoped>\n",
              "    .dataframe tbody tr th:only-of-type {\n",
              "        vertical-align: middle;\n",
              "    }\n",
              "\n",
              "    .dataframe tbody tr th {\n",
              "        vertical-align: top;\n",
              "    }\n",
              "\n",
              "    .dataframe thead th {\n",
              "        text-align: right;\n",
              "    }\n",
              "</style>\n",
              "<table border=\"1\" class=\"dataframe\">\n",
              "  <thead>\n",
              "    <tr style=\"text-align: right;\">\n",
              "      <th></th>\n",
              "      <th>지점</th>\n",
              "      <th>지점명</th>\n",
              "      <th>일시</th>\n",
              "      <th>풍속</th>\n",
              "      <th>강수량</th>\n",
              "      <th>기온</th>\n",
              "      <th>국가</th>\n",
              "    </tr>\n",
              "  </thead>\n",
              "  <tbody>\n",
              "    <tr>\n",
              "      <th>0</th>\n",
              "      <td>1001</td>\n",
              "      <td>얀마이엔</td>\n",
              "      <td>2015-12-28</td>\n",
              "      <td>11.0</td>\n",
              "      <td>NaN</td>\n",
              "      <td>2.3</td>\n",
              "      <td>노르웨이</td>\n",
              "    </tr>\n",
              "    <tr>\n",
              "      <th>1</th>\n",
              "      <td>1001</td>\n",
              "      <td>얀마이엔</td>\n",
              "      <td>2015-12-28</td>\n",
              "      <td>13.0</td>\n",
              "      <td>0.0</td>\n",
              "      <td>2.6</td>\n",
              "      <td>노르웨이</td>\n",
              "    </tr>\n",
              "    <tr>\n",
              "      <th>2</th>\n",
              "      <td>1001</td>\n",
              "      <td>얀마이엔</td>\n",
              "      <td>2015-12-28</td>\n",
              "      <td>11.0</td>\n",
              "      <td>NaN</td>\n",
              "      <td>3.3</td>\n",
              "      <td>노르웨이</td>\n",
              "    </tr>\n",
              "    <tr>\n",
              "      <th>3</th>\n",
              "      <td>1001</td>\n",
              "      <td>얀마이엔</td>\n",
              "      <td>2015-12-28</td>\n",
              "      <td>13.0</td>\n",
              "      <td>0.1</td>\n",
              "      <td>3.4</td>\n",
              "      <td>노르웨이</td>\n",
              "    </tr>\n",
              "    <tr>\n",
              "      <th>4</th>\n",
              "      <td>1001</td>\n",
              "      <td>얀마이엔</td>\n",
              "      <td>2015-12-28</td>\n",
              "      <td>15.0</td>\n",
              "      <td>NaN</td>\n",
              "      <td>3.7</td>\n",
              "      <td>노르웨이</td>\n",
              "    </tr>\n",
              "    <tr>\n",
              "      <th>...</th>\n",
              "      <td>...</td>\n",
              "      <td>...</td>\n",
              "      <td>...</td>\n",
              "      <td>...</td>\n",
              "      <td>...</td>\n",
              "      <td>...</td>\n",
              "      <td>...</td>\n",
              "    </tr>\n",
              "    <tr>\n",
              "      <th>25067</th>\n",
              "      <td>1492</td>\n",
              "      <td>오슬로-블린데른</td>\n",
              "      <td>2020-06-01</td>\n",
              "      <td>3.0</td>\n",
              "      <td>NaN</td>\n",
              "      <td>12.8</td>\n",
              "      <td>노르웨이</td>\n",
              "    </tr>\n",
              "    <tr>\n",
              "      <th>25068</th>\n",
              "      <td>1492</td>\n",
              "      <td>오슬로-블린데른</td>\n",
              "      <td>2020-06-01</td>\n",
              "      <td>1.0</td>\n",
              "      <td>NaN</td>\n",
              "      <td>18.1</td>\n",
              "      <td>노르웨이</td>\n",
              "    </tr>\n",
              "    <tr>\n",
              "      <th>25069</th>\n",
              "      <td>1492</td>\n",
              "      <td>오슬로-블린데른</td>\n",
              "      <td>2020-06-01</td>\n",
              "      <td>2.0</td>\n",
              "      <td>NaN</td>\n",
              "      <td>22.9</td>\n",
              "      <td>노르웨이</td>\n",
              "    </tr>\n",
              "    <tr>\n",
              "      <th>25070</th>\n",
              "      <td>1492</td>\n",
              "      <td>오슬로-블린데른</td>\n",
              "      <td>2020-06-01</td>\n",
              "      <td>3.0</td>\n",
              "      <td>NaN</td>\n",
              "      <td>24.0</td>\n",
              "      <td>노르웨이</td>\n",
              "    </tr>\n",
              "    <tr>\n",
              "      <th>25071</th>\n",
              "      <td>1492</td>\n",
              "      <td>오슬로-블린데른</td>\n",
              "      <td>2020-06-01</td>\n",
              "      <td>1.0</td>\n",
              "      <td>NaN</td>\n",
              "      <td>17.0</td>\n",
              "      <td>노르웨이</td>\n",
              "    </tr>\n",
              "  </tbody>\n",
              "</table>\n",
              "<p>39218 rows × 7 columns</p>\n",
              "</div>"
            ],
            "text/plain": [
              "         지점       지점명         일시    풍속  강수량    기온    국가\n",
              "0      1001      얀마이엔 2015-12-28  11.0  NaN   2.3  노르웨이\n",
              "1      1001      얀마이엔 2015-12-28  13.0  0.0   2.6  노르웨이\n",
              "2      1001      얀마이엔 2015-12-28  11.0  NaN   3.3  노르웨이\n",
              "3      1001      얀마이엔 2015-12-28  13.0  0.1   3.4  노르웨이\n",
              "4      1001      얀마이엔 2015-12-28  15.0  NaN   3.7  노르웨이\n",
              "...     ...       ...        ...   ...  ...   ...   ...\n",
              "25067  1492  오슬로-블린데른 2020-06-01   3.0  NaN  12.8  노르웨이\n",
              "25068  1492  오슬로-블린데른 2020-06-01   1.0  NaN  18.1  노르웨이\n",
              "25069  1492  오슬로-블린데른 2020-06-01   2.0  NaN  22.9  노르웨이\n",
              "25070  1492  오슬로-블린데른 2020-06-01   3.0  NaN  24.0  노르웨이\n",
              "25071  1492  오슬로-블린데른 2020-06-01   1.0  NaN  17.0  노르웨이\n",
              "\n",
              "[39218 rows x 7 columns]"
            ]
          },
          "metadata": {},
          "execution_count": 328
        }
      ]
    },
    {
      "cell_type": "code",
      "metadata": {
        "id": "wB4_k9lBNIht",
        "colab": {
          "base_uri": "https://localhost:8080/"
        },
        "outputId": "bcc79a97-0fd2-4e59-eab2-5c182ef80423"
      },
      "source": [
        "rwt_nor['풍속'].isna().sum()"
      ],
      "execution_count": 329,
      "outputs": [
        {
          "output_type": "execute_result",
          "data": {
            "text/plain": [
              "327"
            ]
          },
          "metadata": {},
          "execution_count": 329
        }
      ]
    },
    {
      "cell_type": "code",
      "metadata": {
        "id": "S0JnIQjvNNI1",
        "colab": {
          "base_uri": "https://localhost:8080/",
          "height": 0
        },
        "outputId": "92b6ff43-fbf9-4a32-bb75-d578f3e42c6b"
      },
      "source": [
        "sns.boxplot(x = rwt_nor['풍속'].unique())\n",
        "plt.xlabel('풍속')\n",
        "plt.show()\n",
        "# 이상치 제거 필요"
      ],
      "execution_count": 330,
      "outputs": [
        {
          "output_type": "display_data",
          "data": {
            "image/png": "[encoded data removed]",
            "text/plain": [
              "<Figure size 432x288 with 1 Axes>"
            ]
          },
          "metadata": {
            "needs_background": "light"
          }
        }
      ]
    },
    {
      "cell_type": "code",
      "metadata": {
        "id": "8kU_XHoONUJx",
        "colab": {
          "base_uri": "https://localhost:8080/",
          "height": 0
        },
        "outputId": "a6bc45ff-9c9a-40ee-a49f-507e9179be26"
      },
      "source": [
        "rwt_nor[rwt_nor['풍속']<0]"
      ],
      "execution_count": 331,
      "outputs": [
        {
          "output_type": "execute_result",
          "data": {
            "text/html": [
              "<div>\n",
              "<style scoped>\n",
              "    .dataframe tbody tr th:only-of-type {\n",
              "        vertical-align: middle;\n",
              "    }\n",
              "\n",
              "    .dataframe tbody tr th {\n",
              "        vertical-align: top;\n",
              "    }\n",
              "\n",
              "    .dataframe thead th {\n",
              "        text-align: right;\n",
              "    }\n",
              "</style>\n",
              "<table border=\"1\" class=\"dataframe\">\n",
              "  <thead>\n",
              "    <tr style=\"text-align: right;\">\n",
              "      <th></th>\n",
              "      <th>지점</th>\n",
              "      <th>지점명</th>\n",
              "      <th>일시</th>\n",
              "      <th>풍속</th>\n",
              "      <th>강수량</th>\n",
              "      <th>기온</th>\n",
              "      <th>국가</th>\n",
              "    </tr>\n",
              "  </thead>\n",
              "  <tbody>\n",
              "    <tr>\n",
              "      <th>872</th>\n",
              "      <td>1001</td>\n",
              "      <td>얀마이엔</td>\n",
              "      <td>2018-04-16</td>\n",
              "      <td>-998.0</td>\n",
              "      <td>0.1</td>\n",
              "      <td>1.6</td>\n",
              "      <td>노르웨이</td>\n",
              "    </tr>\n",
              "    <tr>\n",
              "      <th>18969</th>\n",
              "      <td>1065</td>\n",
              "      <td>카라스요크</td>\n",
              "      <td>2018-01-29</td>\n",
              "      <td>-998.0</td>\n",
              "      <td>0.3</td>\n",
              "      <td>-19.0</td>\n",
              "      <td>노르웨이</td>\n",
              "    </tr>\n",
              "  </tbody>\n",
              "</table>\n",
              "</div>"
            ],
            "text/plain": [
              "         지점    지점명         일시     풍속  강수량    기온    국가\n",
              "872    1001   얀마이엔 2018-04-16 -998.0  0.1   1.6  노르웨이\n",
              "18969  1065  카라스요크 2018-01-29 -998.0  0.3 -19.0  노르웨이"
            ]
          },
          "metadata": {},
          "execution_count": 331
        }
      ]
    },
    {
      "cell_type": "code",
      "metadata": {
        "id": "ixxDqIjENVrM",
        "colab": {
          "base_uri": "https://localhost:8080/",
          "height": 0
        },
        "outputId": "8dc4a94a-7598-40f1-f7ab-d93ec49dbd7c"
      },
      "source": [
        "rwt_nor = rwt_nor[(rwt_nor['풍속']>=0) | (rwt_nor['풍속'].isna())] # 강수량 음수 제거\n",
        "\n",
        "rwt_nor"
      ],
      "execution_count": 332,
      "outputs": [
        {
          "output_type": "execute_result",
          "data": {
            "text/html": [
              "<div>\n",
              "<style scoped>\n",
              "    .dataframe tbody tr th:only-of-type {\n",
              "        vertical-align: middle;\n",
              "    }\n",
              "\n",
              "    .dataframe tbody tr th {\n",
              "        vertical-align: top;\n",
              "    }\n",
              "\n",
              "    .dataframe thead th {\n",
              "        text-align: right;\n",
              "    }\n",
              "</style>\n",
              "<table border=\"1\" class=\"dataframe\">\n",
              "  <thead>\n",
              "    <tr style=\"text-align: right;\">\n",
              "      <th></th>\n",
              "      <th>지점</th>\n",
              "      <th>지점명</th>\n",
              "      <th>일시</th>\n",
              "      <th>풍속</th>\n",
              "      <th>강수량</th>\n",
              "      <th>기온</th>\n",
              "      <th>국가</th>\n",
              "    </tr>\n",
              "  </thead>\n",
              "  <tbody>\n",
              "    <tr>\n",
              "      <th>0</th>\n",
              "      <td>1001</td>\n",
              "      <td>얀마이엔</td>\n",
              "      <td>2015-12-28</td>\n",
              "      <td>11.0</td>\n",
              "      <td>NaN</td>\n",
              "      <td>2.3</td>\n",
              "      <td>노르웨이</td>\n",
              "    </tr>\n",
              "    <tr>\n",
              "      <th>1</th>\n",
              "      <td>1001</td>\n",
              "      <td>얀마이엔</td>\n",
              "      <td>2015-12-28</td>\n",
              "      <td>13.0</td>\n",
              "      <td>0.0</td>\n",
              "      <td>2.6</td>\n",
              "      <td>노르웨이</td>\n",
              "    </tr>\n",
              "    <tr>\n",
              "      <th>2</th>\n",
              "      <td>1001</td>\n",
              "      <td>얀마이엔</td>\n",
              "      <td>2015-12-28</td>\n",
              "      <td>11.0</td>\n",
              "      <td>NaN</td>\n",
              "      <td>3.3</td>\n",
              "      <td>노르웨이</td>\n",
              "    </tr>\n",
              "    <tr>\n",
              "      <th>3</th>\n",
              "      <td>1001</td>\n",
              "      <td>얀마이엔</td>\n",
              "      <td>2015-12-28</td>\n",
              "      <td>13.0</td>\n",
              "      <td>0.1</td>\n",
              "      <td>3.4</td>\n",
              "      <td>노르웨이</td>\n",
              "    </tr>\n",
              "    <tr>\n",
              "      <th>4</th>\n",
              "      <td>1001</td>\n",
              "      <td>얀마이엔</td>\n",
              "      <td>2015-12-28</td>\n",
              "      <td>15.0</td>\n",
              "      <td>NaN</td>\n",
              "      <td>3.7</td>\n",
              "      <td>노르웨이</td>\n",
              "    </tr>\n",
              "    <tr>\n",
              "      <th>...</th>\n",
              "      <td>...</td>\n",
              "      <td>...</td>\n",
              "      <td>...</td>\n",
              "      <td>...</td>\n",
              "      <td>...</td>\n",
              "      <td>...</td>\n",
              "      <td>...</td>\n",
              "    </tr>\n",
              "    <tr>\n",
              "      <th>25067</th>\n",
              "      <td>1492</td>\n",
              "      <td>오슬로-블린데른</td>\n",
              "      <td>2020-06-01</td>\n",
              "      <td>3.0</td>\n",
              "      <td>NaN</td>\n",
              "      <td>12.8</td>\n",
              "      <td>노르웨이</td>\n",
              "    </tr>\n",
              "    <tr>\n",
              "      <th>25068</th>\n",
              "      <td>1492</td>\n",
              "      <td>오슬로-블린데른</td>\n",
              "      <td>2020-06-01</td>\n",
              "      <td>1.0</td>\n",
              "      <td>NaN</td>\n",
              "      <td>18.1</td>\n",
              "      <td>노르웨이</td>\n",
              "    </tr>\n",
              "    <tr>\n",
              "      <th>25069</th>\n",
              "      <td>1492</td>\n",
              "      <td>오슬로-블린데른</td>\n",
              "      <td>2020-06-01</td>\n",
              "      <td>2.0</td>\n",
              "      <td>NaN</td>\n",
              "      <td>22.9</td>\n",
              "      <td>노르웨이</td>\n",
              "    </tr>\n",
              "    <tr>\n",
              "      <th>25070</th>\n",
              "      <td>1492</td>\n",
              "      <td>오슬로-블린데른</td>\n",
              "      <td>2020-06-01</td>\n",
              "      <td>3.0</td>\n",
              "      <td>NaN</td>\n",
              "      <td>24.0</td>\n",
              "      <td>노르웨이</td>\n",
              "    </tr>\n",
              "    <tr>\n",
              "      <th>25071</th>\n",
              "      <td>1492</td>\n",
              "      <td>오슬로-블린데른</td>\n",
              "      <td>2020-06-01</td>\n",
              "      <td>1.0</td>\n",
              "      <td>NaN</td>\n",
              "      <td>17.0</td>\n",
              "      <td>노르웨이</td>\n",
              "    </tr>\n",
              "  </tbody>\n",
              "</table>\n",
              "<p>39216 rows × 7 columns</p>\n",
              "</div>"
            ],
            "text/plain": [
              "         지점       지점명         일시    풍속  강수량    기온    국가\n",
              "0      1001      얀마이엔 2015-12-28  11.0  NaN   2.3  노르웨이\n",
              "1      1001      얀마이엔 2015-12-28  13.0  0.0   2.6  노르웨이\n",
              "2      1001      얀마이엔 2015-12-28  11.0  NaN   3.3  노르웨이\n",
              "3      1001      얀마이엔 2015-12-28  13.0  0.1   3.4  노르웨이\n",
              "4      1001      얀마이엔 2015-12-28  15.0  NaN   3.7  노르웨이\n",
              "...     ...       ...        ...   ...  ...   ...   ...\n",
              "25067  1492  오슬로-블린데른 2020-06-01   3.0  NaN  12.8  노르웨이\n",
              "25068  1492  오슬로-블린데른 2020-06-01   1.0  NaN  18.1  노르웨이\n",
              "25069  1492  오슬로-블린데른 2020-06-01   2.0  NaN  22.9  노르웨이\n",
              "25070  1492  오슬로-블린데른 2020-06-01   3.0  NaN  24.0  노르웨이\n",
              "25071  1492  오슬로-블린데른 2020-06-01   1.0  NaN  17.0  노르웨이\n",
              "\n",
              "[39216 rows x 7 columns]"
            ]
          },
          "metadata": {},
          "execution_count": 332
        }
      ]
    },
    {
      "cell_type": "code",
      "metadata": {
        "id": "P7PwJnvKNXw6",
        "colab": {
          "base_uri": "https://localhost:8080/"
        },
        "outputId": "0df2e4b4-8b68-4ef9-e4e8-a04e27d6fb31"
      },
      "source": [
        "rwt_nor['기온'].isna().sum()"
      ],
      "execution_count": 333,
      "outputs": [
        {
          "output_type": "execute_result",
          "data": {
            "text/plain": [
              "71"
            ]
          },
          "metadata": {},
          "execution_count": 333
        }
      ]
    },
    {
      "cell_type": "code",
      "metadata": {
        "id": "V1NWzMDfNZVZ",
        "colab": {
          "base_uri": "https://localhost:8080/",
          "height": 0
        },
        "outputId": "b368cfce-f0b7-48fd-da95-e6f2f4a5aa50"
      },
      "source": [
        "sns.boxplot(x = rwt_nor['기온'].unique())\n",
        "plt.xlabel('기온')\n",
        "plt.show()\n",
        "\n",
        "# 노르웨이 최저기온은 영하 40도까지 내려간적 있으므로 오류값은 없는 것으로 판단"
      ],
      "execution_count": 334,
      "outputs": [
        {
          "output_type": "display_data",
          "data": {
            "image/png": "[encoded data removed]",
            "text/plain": [
              "<Figure size 432x288 with 1 Axes>"
            ]
          },
          "metadata": {
            "needs_background": "light"
          }
        }
      ]
    },
    {
      "cell_type": "code",
      "metadata": {
        "id": "YFBo09_nNaba",
        "colab": {
          "base_uri": "https://localhost:8080/",
          "height": 0
        },
        "outputId": "4003b260-2701-437c-9903-92ffd3823f2d"
      },
      "source": [
        "rwt_nor = pd.DataFrame(rwt_nor.groupby(['일시'])[['강수량','풍속','기온']].mean())\n",
        "\n",
        "rwt_nor"
      ],
      "execution_count": 335,
      "outputs": [
        {
          "output_type": "execute_result",
          "data": {
            "text/html": [
              "<div>\n",
              "<style scoped>\n",
              "    .dataframe tbody tr th:only-of-type {\n",
              "        vertical-align: middle;\n",
              "    }\n",
              "\n",
              "    .dataframe tbody tr th {\n",
              "        vertical-align: top;\n",
              "    }\n",
              "\n",
              "    .dataframe thead th {\n",
              "        text-align: right;\n",
              "    }\n",
              "</style>\n",
              "<table border=\"1\" class=\"dataframe\">\n",
              "  <thead>\n",
              "    <tr style=\"text-align: right;\">\n",
              "      <th></th>\n",
              "      <th>강수량</th>\n",
              "      <th>풍속</th>\n",
              "      <th>기온</th>\n",
              "    </tr>\n",
              "    <tr>\n",
              "      <th>일시</th>\n",
              "      <th></th>\n",
              "      <th></th>\n",
              "      <th></th>\n",
              "    </tr>\n",
              "  </thead>\n",
              "  <tbody>\n",
              "    <tr>\n",
              "      <th>2015-12-28</th>\n",
              "      <td>1.904762</td>\n",
              "      <td>5.264286</td>\n",
              "      <td>-3.103401</td>\n",
              "    </tr>\n",
              "    <tr>\n",
              "      <th>2016-01-04</th>\n",
              "      <td>0.664286</td>\n",
              "      <td>4.750000</td>\n",
              "      <td>-6.495031</td>\n",
              "    </tr>\n",
              "    <tr>\n",
              "      <th>2016-01-11</th>\n",
              "      <td>1.151724</td>\n",
              "      <td>5.583851</td>\n",
              "      <td>-3.889091</td>\n",
              "    </tr>\n",
              "    <tr>\n",
              "      <th>2016-01-18</th>\n",
              "      <td>0.934884</td>\n",
              "      <td>4.645714</td>\n",
              "      <td>-6.916477</td>\n",
              "    </tr>\n",
              "    <tr>\n",
              "      <th>2016-01-25</th>\n",
              "      <td>1.352174</td>\n",
              "      <td>4.857143</td>\n",
              "      <td>0.376437</td>\n",
              "    </tr>\n",
              "    <tr>\n",
              "      <th>...</th>\n",
              "      <td>...</td>\n",
              "      <td>...</td>\n",
              "      <td>...</td>\n",
              "    </tr>\n",
              "    <tr>\n",
              "      <th>2020-04-27</th>\n",
              "      <td>1.630233</td>\n",
              "      <td>3.590643</td>\n",
              "      <td>1.893296</td>\n",
              "    </tr>\n",
              "    <tr>\n",
              "      <th>2020-05-04</th>\n",
              "      <td>1.078571</td>\n",
              "      <td>4.689441</td>\n",
              "      <td>2.907101</td>\n",
              "    </tr>\n",
              "    <tr>\n",
              "      <th>2020-05-18</th>\n",
              "      <td>0.595455</td>\n",
              "      <td>3.433333</td>\n",
              "      <td>4.728346</td>\n",
              "    </tr>\n",
              "    <tr>\n",
              "      <th>2020-05-25</th>\n",
              "      <td>0.583333</td>\n",
              "      <td>3.700935</td>\n",
              "      <td>8.707477</td>\n",
              "    </tr>\n",
              "    <tr>\n",
              "      <th>2020-06-01</th>\n",
              "      <td>0.584615</td>\n",
              "      <td>3.135135</td>\n",
              "      <td>12.523423</td>\n",
              "    </tr>\n",
              "  </tbody>\n",
              "</table>\n",
              "<p>231 rows × 3 columns</p>\n",
              "</div>"
            ],
            "text/plain": [
              "                 강수량        풍속         기온\n",
              "일시                                       \n",
              "2015-12-28  1.904762  5.264286  -3.103401\n",
              "2016-01-04  0.664286  4.750000  -6.495031\n",
              "2016-01-11  1.151724  5.583851  -3.889091\n",
              "2016-01-18  0.934884  4.645714  -6.916477\n",
              "2016-01-25  1.352174  4.857143   0.376437\n",
              "...              ...       ...        ...\n",
              "2020-04-27  1.630233  3.590643   1.893296\n",
              "2020-05-04  1.078571  4.689441   2.907101\n",
              "2020-05-18  0.595455  3.433333   4.728346\n",
              "2020-05-25  0.583333  3.700935   8.707477\n",
              "2020-06-01  0.584615  3.135135  12.523423\n",
              "\n",
              "[231 rows x 3 columns]"
            ]
          },
          "metadata": {},
          "execution_count": 335
        }
      ]
    },
    {
      "cell_type": "code",
      "metadata": {
        "id": "b4duypRiNcXh",
        "colab": {
          "base_uri": "https://localhost:8080/",
          "height": 0
        },
        "outputId": "0796b711-f5b3-4511-9001-4758df4c9174"
      },
      "source": [
        "rwt_nor.describe()"
      ],
      "execution_count": 336,
      "outputs": [
        {
          "output_type": "execute_result",
          "data": {
            "text/html": [
              "<div>\n",
              "<style scoped>\n",
              "    .dataframe tbody tr th:only-of-type {\n",
              "        vertical-align: middle;\n",
              "    }\n",
              "\n",
              "    .dataframe tbody tr th {\n",
              "        vertical-align: top;\n",
              "    }\n",
              "\n",
              "    .dataframe thead th {\n",
              "        text-align: right;\n",
              "    }\n",
              "</style>\n",
              "<table border=\"1\" class=\"dataframe\">\n",
              "  <thead>\n",
              "    <tr style=\"text-align: right;\">\n",
              "      <th></th>\n",
              "      <th>강수량</th>\n",
              "      <th>풍속</th>\n",
              "      <th>기온</th>\n",
              "    </tr>\n",
              "  </thead>\n",
              "  <tbody>\n",
              "    <tr>\n",
              "      <th>count</th>\n",
              "      <td>231.000000</td>\n",
              "      <td>231.000000</td>\n",
              "      <td>231.000000</td>\n",
              "    </tr>\n",
              "    <tr>\n",
              "      <th>mean</th>\n",
              "      <td>1.932161</td>\n",
              "      <td>4.742379</td>\n",
              "      <td>3.725899</td>\n",
              "    </tr>\n",
              "    <tr>\n",
              "      <th>std</th>\n",
              "      <td>1.208719</td>\n",
              "      <td>1.153567</td>\n",
              "      <td>6.116537</td>\n",
              "    </tr>\n",
              "    <tr>\n",
              "      <th>min</th>\n",
              "      <td>0.133333</td>\n",
              "      <td>2.719298</td>\n",
              "      <td>-8.041341</td>\n",
              "    </tr>\n",
              "    <tr>\n",
              "      <th>25%</th>\n",
              "      <td>1.070952</td>\n",
              "      <td>3.947098</td>\n",
              "      <td>-1.357529</td>\n",
              "    </tr>\n",
              "    <tr>\n",
              "      <th>50%</th>\n",
              "      <td>1.736364</td>\n",
              "      <td>4.691429</td>\n",
              "      <td>3.158427</td>\n",
              "    </tr>\n",
              "    <tr>\n",
              "      <th>75%</th>\n",
              "      <td>2.407143</td>\n",
              "      <td>5.366473</td>\n",
              "      <td>9.759586</td>\n",
              "    </tr>\n",
              "    <tr>\n",
              "      <th>max</th>\n",
              "      <td>7.274000</td>\n",
              "      <td>9.661111</td>\n",
              "      <td>17.711765</td>\n",
              "    </tr>\n",
              "  </tbody>\n",
              "</table>\n",
              "</div>"
            ],
            "text/plain": [
              "              강수량          풍속          기온\n",
              "count  231.000000  231.000000  231.000000\n",
              "mean     1.932161    4.742379    3.725899\n",
              "std      1.208719    1.153567    6.116537\n",
              "min      0.133333    2.719298   -8.041341\n",
              "25%      1.070952    3.947098   -1.357529\n",
              "50%      1.736364    4.691429    3.158427\n",
              "75%      2.407143    5.366473    9.759586\n",
              "max      7.274000    9.661111   17.711765"
            ]
          },
          "metadata": {},
          "execution_count": 336
        }
      ]
    },
    {
      "cell_type": "code",
      "metadata": {
        "id": "Q6_CVTTpNd-H",
        "colab": {
          "base_uri": "https://localhost:8080/"
        },
        "outputId": "94b59e0d-9fe5-488c-9613-eec840825585"
      },
      "source": [
        "rwt_nor.isna().sum()"
      ],
      "execution_count": 337,
      "outputs": [
        {
          "output_type": "execute_result",
          "data": {
            "text/plain": [
              "강수량    0\n",
              "풍속     0\n",
              "기온     0\n",
              "dtype: int64"
            ]
          },
          "metadata": {},
          "execution_count": 337
        }
      ]
    },
    {
      "cell_type": "markdown",
      "metadata": {
        "id": "HhcLzriHL9a8"
      },
      "source": [
        "#### 베트남 Weather"
      ]
    },
    {
      "cell_type": "code",
      "metadata": {
        "id": "MKK9RPuwLcBY",
        "colab": {
          "base_uri": "https://localhost:8080/",
          "height": 417
        },
        "outputId": "66cb1adb-0100-4ada-ed84-e7ac1ed55f1f"
      },
      "source": [
        "rwt_vit = pd.DataFrame()\n",
        "\n",
        "for i in [48914, 48808, 48870, 48877, 48845, 48840, 48887, 48917, 48820]:\n",
        "    rwt_vit = rwt_vit.append(rwt[rwt['지점']==i])\n",
        "\n",
        "rwt_vit = rwt_vit.sort_values(by=['지점명','일시'])\n",
        "\n",
        "rwt_vit['국가'] = '베트남'\n",
        "\n",
        "rwt_vit['일시'] = rwt_vit['일시'].str[:10] # 시간 부분 삭제\n",
        "\n",
        "rwt_vit['일시'] = rwt_vit['일시'].astype('datetime64')\n",
        "\n",
        "rwt_vit = rwt_vit.query('일시.dt.dayofweek == 0') # 일시를 일주일 간격으로 변환\n",
        "\n",
        "rwt_vit # 베트남 풍속,강수량,기온"
      ],
      "execution_count": 338,
      "outputs": [
        {
          "output_type": "execute_result",
          "data": {
            "text/html": [
              "<div>\n",
              "<style scoped>\n",
              "    .dataframe tbody tr th:only-of-type {\n",
              "        vertical-align: middle;\n",
              "    }\n",
              "\n",
              "    .dataframe tbody tr th {\n",
              "        vertical-align: top;\n",
              "    }\n",
              "\n",
              "    .dataframe thead th {\n",
              "        text-align: right;\n",
              "    }\n",
              "</style>\n",
              "<table border=\"1\" class=\"dataframe\">\n",
              "  <thead>\n",
              "    <tr style=\"text-align: right;\">\n",
              "      <th></th>\n",
              "      <th>지점</th>\n",
              "      <th>지점명</th>\n",
              "      <th>일시</th>\n",
              "      <th>풍속</th>\n",
              "      <th>강수량</th>\n",
              "      <th>기온</th>\n",
              "      <th>국가</th>\n",
              "    </tr>\n",
              "  </thead>\n",
              "  <tbody>\n",
              "    <tr>\n",
              "      <th>122236</th>\n",
              "      <td>48914</td>\n",
              "      <td>까마우</td>\n",
              "      <td>2015-12-28</td>\n",
              "      <td>5.0</td>\n",
              "      <td>NaN</td>\n",
              "      <td>29.2</td>\n",
              "      <td>베트남</td>\n",
              "    </tr>\n",
              "    <tr>\n",
              "      <th>122237</th>\n",
              "      <td>48914</td>\n",
              "      <td>까마우</td>\n",
              "      <td>2015-12-28</td>\n",
              "      <td>5.0</td>\n",
              "      <td>NaN</td>\n",
              "      <td>30.6</td>\n",
              "      <td>베트남</td>\n",
              "    </tr>\n",
              "    <tr>\n",
              "      <th>122238</th>\n",
              "      <td>48914</td>\n",
              "      <td>까마우</td>\n",
              "      <td>2015-12-28</td>\n",
              "      <td>5.0</td>\n",
              "      <td>NaN</td>\n",
              "      <td>30.3</td>\n",
              "      <td>베트남</td>\n",
              "    </tr>\n",
              "    <tr>\n",
              "      <th>122239</th>\n",
              "      <td>48914</td>\n",
              "      <td>까마우</td>\n",
              "      <td>2015-12-28</td>\n",
              "      <td>2.0</td>\n",
              "      <td>NaN</td>\n",
              "      <td>28.2</td>\n",
              "      <td>베트남</td>\n",
              "    </tr>\n",
              "    <tr>\n",
              "      <th>122240</th>\n",
              "      <td>48914</td>\n",
              "      <td>까마우</td>\n",
              "      <td>2015-12-28</td>\n",
              "      <td>0.0</td>\n",
              "      <td>NaN</td>\n",
              "      <td>26.4</td>\n",
              "      <td>베트남</td>\n",
              "    </tr>\n",
              "    <tr>\n",
              "      <th>...</th>\n",
              "      <td>...</td>\n",
              "      <td>...</td>\n",
              "      <td>...</td>\n",
              "      <td>...</td>\n",
              "      <td>...</td>\n",
              "      <td>...</td>\n",
              "      <td>...</td>\n",
              "    </tr>\n",
              "    <tr>\n",
              "      <th>27303</th>\n",
              "      <td>48917</td>\n",
              "      <td>푸꾸옥</td>\n",
              "      <td>2021-08-16</td>\n",
              "      <td>0.0</td>\n",
              "      <td>NaN</td>\n",
              "      <td>27.2</td>\n",
              "      <td>베트남</td>\n",
              "    </tr>\n",
              "    <tr>\n",
              "      <th>27304</th>\n",
              "      <td>48917</td>\n",
              "      <td>푸꾸옥</td>\n",
              "      <td>2021-08-16</td>\n",
              "      <td>2.0</td>\n",
              "      <td>NaN</td>\n",
              "      <td>26.8</td>\n",
              "      <td>베트남</td>\n",
              "    </tr>\n",
              "    <tr>\n",
              "      <th>107856</th>\n",
              "      <td>48820</td>\n",
              "      <td>하노이</td>\n",
              "      <td>2016-12-12</td>\n",
              "      <td>2.0</td>\n",
              "      <td>NaN</td>\n",
              "      <td>28.0</td>\n",
              "      <td>베트남</td>\n",
              "    </tr>\n",
              "    <tr>\n",
              "      <th>107857</th>\n",
              "      <td>48820</td>\n",
              "      <td>하노이</td>\n",
              "      <td>2016-12-12</td>\n",
              "      <td>3.0</td>\n",
              "      <td>NaN</td>\n",
              "      <td>25.4</td>\n",
              "      <td>베트남</td>\n",
              "    </tr>\n",
              "    <tr>\n",
              "      <th>107858</th>\n",
              "      <td>48820</td>\n",
              "      <td>하노이</td>\n",
              "      <td>2016-12-12</td>\n",
              "      <td>2.0</td>\n",
              "      <td>NaN</td>\n",
              "      <td>23.1</td>\n",
              "      <td>베트남</td>\n",
              "    </tr>\n",
              "  </tbody>\n",
              "</table>\n",
              "<p>17732 rows × 7 columns</p>\n",
              "</div>"
            ],
            "text/plain": [
              "           지점  지점명         일시   풍속  강수량    기온   국가\n",
              "122236  48914  까마우 2015-12-28  5.0  NaN  29.2  베트남\n",
              "122237  48914  까마우 2015-12-28  5.0  NaN  30.6  베트남\n",
              "122238  48914  까마우 2015-12-28  5.0  NaN  30.3  베트남\n",
              "122239  48914  까마우 2015-12-28  2.0  NaN  28.2  베트남\n",
              "122240  48914  까마우 2015-12-28  0.0  NaN  26.4  베트남\n",
              "...       ...  ...        ...  ...  ...   ...  ...\n",
              "27303   48917  푸꾸옥 2021-08-16  0.0  NaN  27.2  베트남\n",
              "27304   48917  푸꾸옥 2021-08-16  2.0  NaN  26.8  베트남\n",
              "107856  48820  하노이 2016-12-12  2.0  NaN  28.0  베트남\n",
              "107857  48820  하노이 2016-12-12  3.0  NaN  25.4  베트남\n",
              "107858  48820  하노이 2016-12-12  2.0  NaN  23.1  베트남\n",
              "\n",
              "[17732 rows x 7 columns]"
            ]
          },
          "metadata": {},
          "execution_count": 338
        }
      ]
    },
    {
      "cell_type": "markdown",
      "metadata": {
        "id": "IJnd1IKwNnuu"
      },
      "source": [
        "##### Preprocessing"
      ]
    },
    {
      "cell_type": "code",
      "metadata": {
        "id": "YYsUDokLMHF0",
        "colab": {
          "base_uri": "https://localhost:8080/"
        },
        "outputId": "b87c6cbf-4e28-41c0-cbaa-981308587bb6"
      },
      "source": [
        "rwt_vit['강수량'].isna().sum()"
      ],
      "execution_count": 339,
      "outputs": [
        {
          "output_type": "execute_result",
          "data": {
            "text/plain": [
              "13788"
            ]
          },
          "metadata": {},
          "execution_count": 339
        }
      ]
    },
    {
      "cell_type": "code",
      "metadata": {
        "id": "44jaXfzuNqt5",
        "colab": {
          "base_uri": "https://localhost:8080/",
          "height": 0
        },
        "outputId": "a9b469d3-1cc2-4223-8d7e-adaa9995717e"
      },
      "source": [
        "sns.boxplot(x = rwt_vit['강수량'].unique())\n",
        "plt.xlabel('강수량')\n",
        "plt.show()\n",
        "\n",
        "# 음수인 이상치 제거 필요"
      ],
      "execution_count": 340,
      "outputs": [
        {
          "output_type": "display_data",
          "data": {
            "image/png": "[encoded data removed]",
            "text/plain": [
              "<Figure size 432x288 with 1 Axes>"
            ]
          },
          "metadata": {
            "needs_background": "light"
          }
        }
      ]
    },
    {
      "cell_type": "code",
      "metadata": {
        "id": "NBgJyojbNsRR",
        "colab": {
          "base_uri": "https://localhost:8080/",
          "height": 0
        },
        "outputId": "a6a3732b-7d2f-412a-d55c-6a976aee4489"
      },
      "source": [
        "rwt_vit[rwt_vit['강수량']<0]"
      ],
      "execution_count": 341,
      "outputs": [
        {
          "output_type": "execute_result",
          "data": {
            "text/html": [
              "<div>\n",
              "<style scoped>\n",
              "    .dataframe tbody tr th:only-of-type {\n",
              "        vertical-align: middle;\n",
              "    }\n",
              "\n",
              "    .dataframe tbody tr th {\n",
              "        vertical-align: top;\n",
              "    }\n",
              "\n",
              "    .dataframe thead th {\n",
              "        text-align: right;\n",
              "    }\n",
              "</style>\n",
              "<table border=\"1\" class=\"dataframe\">\n",
              "  <thead>\n",
              "    <tr style=\"text-align: right;\">\n",
              "      <th></th>\n",
              "      <th>지점</th>\n",
              "      <th>지점명</th>\n",
              "      <th>일시</th>\n",
              "      <th>풍속</th>\n",
              "      <th>강수량</th>\n",
              "      <th>기온</th>\n",
              "      <th>국가</th>\n",
              "    </tr>\n",
              "  </thead>\n",
              "  <tbody>\n",
              "    <tr>\n",
              "      <th>122518</th>\n",
              "      <td>48914</td>\n",
              "      <td>까마우</td>\n",
              "      <td>2016-02-01</td>\n",
              "      <td>2.0</td>\n",
              "      <td>-99.8</td>\n",
              "      <td>28.0</td>\n",
              "      <td>베트남</td>\n",
              "    </tr>\n",
              "    <tr>\n",
              "      <th>122625</th>\n",
              "      <td>48914</td>\n",
              "      <td>까마우</td>\n",
              "      <td>2016-02-15</td>\n",
              "      <td>1.0</td>\n",
              "      <td>-99.8</td>\n",
              "      <td>30.1</td>\n",
              "      <td>베트남</td>\n",
              "    </tr>\n",
              "    <tr>\n",
              "      <th>122626</th>\n",
              "      <td>48914</td>\n",
              "      <td>까마우</td>\n",
              "      <td>2016-02-15</td>\n",
              "      <td>3.0</td>\n",
              "      <td>-99.8</td>\n",
              "      <td>31.5</td>\n",
              "      <td>베트남</td>\n",
              "    </tr>\n",
              "    <tr>\n",
              "      <th>122627</th>\n",
              "      <td>48914</td>\n",
              "      <td>까마우</td>\n",
              "      <td>2016-02-15</td>\n",
              "      <td>3.0</td>\n",
              "      <td>-99.8</td>\n",
              "      <td>30.8</td>\n",
              "      <td>베트남</td>\n",
              "    </tr>\n",
              "    <tr>\n",
              "      <th>122628</th>\n",
              "      <td>48914</td>\n",
              "      <td>까마우</td>\n",
              "      <td>2016-02-15</td>\n",
              "      <td>3.0</td>\n",
              "      <td>-99.8</td>\n",
              "      <td>28.1</td>\n",
              "      <td>베트남</td>\n",
              "    </tr>\n",
              "    <tr>\n",
              "      <th>...</th>\n",
              "      <td>...</td>\n",
              "      <td>...</td>\n",
              "      <td>...</td>\n",
              "      <td>...</td>\n",
              "      <td>...</td>\n",
              "      <td>...</td>\n",
              "      <td>...</td>\n",
              "    </tr>\n",
              "    <tr>\n",
              "      <th>26181</th>\n",
              "      <td>48917</td>\n",
              "      <td>푸꾸옥</td>\n",
              "      <td>2021-02-22</td>\n",
              "      <td>5.0</td>\n",
              "      <td>-99.8</td>\n",
              "      <td>28.0</td>\n",
              "      <td>베트남</td>\n",
              "    </tr>\n",
              "    <tr>\n",
              "      <th>26182</th>\n",
              "      <td>48917</td>\n",
              "      <td>푸꾸옥</td>\n",
              "      <td>2021-02-22</td>\n",
              "      <td>3.0</td>\n",
              "      <td>-99.8</td>\n",
              "      <td>26.8</td>\n",
              "      <td>베트남</td>\n",
              "    </tr>\n",
              "    <tr>\n",
              "      <th>26183</th>\n",
              "      <td>48917</td>\n",
              "      <td>푸꾸옥</td>\n",
              "      <td>2021-02-22</td>\n",
              "      <td>0.0</td>\n",
              "      <td>-99.8</td>\n",
              "      <td>25.7</td>\n",
              "      <td>베트남</td>\n",
              "    </tr>\n",
              "    <tr>\n",
              "      <th>26184</th>\n",
              "      <td>48917</td>\n",
              "      <td>푸꾸옥</td>\n",
              "      <td>2021-02-22</td>\n",
              "      <td>2.0</td>\n",
              "      <td>-99.8</td>\n",
              "      <td>24.0</td>\n",
              "      <td>베트남</td>\n",
              "    </tr>\n",
              "    <tr>\n",
              "      <th>26281</th>\n",
              "      <td>48917</td>\n",
              "      <td>푸꾸옥</td>\n",
              "      <td>2021-03-15</td>\n",
              "      <td>0.0</td>\n",
              "      <td>-99.8</td>\n",
              "      <td>24.8</td>\n",
              "      <td>베트남</td>\n",
              "    </tr>\n",
              "  </tbody>\n",
              "</table>\n",
              "<p>1131 rows × 7 columns</p>\n",
              "</div>"
            ],
            "text/plain": [
              "           지점  지점명         일시   풍속   강수량    기온   국가\n",
              "122518  48914  까마우 2016-02-01  2.0 -99.8  28.0  베트남\n",
              "122625  48914  까마우 2016-02-15  1.0 -99.8  30.1  베트남\n",
              "122626  48914  까마우 2016-02-15  3.0 -99.8  31.5  베트남\n",
              "122627  48914  까마우 2016-02-15  3.0 -99.8  30.8  베트남\n",
              "122628  48914  까마우 2016-02-15  3.0 -99.8  28.1  베트남\n",
              "...       ...  ...        ...  ...   ...   ...  ...\n",
              "26181   48917  푸꾸옥 2021-02-22  5.0 -99.8  28.0  베트남\n",
              "26182   48917  푸꾸옥 2021-02-22  3.0 -99.8  26.8  베트남\n",
              "26183   48917  푸꾸옥 2021-02-22  0.0 -99.8  25.7  베트남\n",
              "26184   48917  푸꾸옥 2021-02-22  2.0 -99.8  24.0  베트남\n",
              "26281   48917  푸꾸옥 2021-03-15  0.0 -99.8  24.8  베트남\n",
              "\n",
              "[1131 rows x 7 columns]"
            ]
          },
          "metadata": {},
          "execution_count": 341
        }
      ]
    },
    {
      "cell_type": "code",
      "metadata": {
        "id": "_RhmbRk8NvW_",
        "colab": {
          "base_uri": "https://localhost:8080/",
          "height": 0
        },
        "outputId": "343c2133-0ae9-4cb1-efa5-6ff660d4942f"
      },
      "source": [
        "rwt_vit = rwt_vit[(rwt_vit['강수량']>=0) | (rwt_vit['강수량'].isna())] # 강수량 음수 제거\n",
        "\n",
        "rwt_vit"
      ],
      "execution_count": 342,
      "outputs": [
        {
          "output_type": "execute_result",
          "data": {
            "text/html": [
              "<div>\n",
              "<style scoped>\n",
              "    .dataframe tbody tr th:only-of-type {\n",
              "        vertical-align: middle;\n",
              "    }\n",
              "\n",
              "    .dataframe tbody tr th {\n",
              "        vertical-align: top;\n",
              "    }\n",
              "\n",
              "    .dataframe thead th {\n",
              "        text-align: right;\n",
              "    }\n",
              "</style>\n",
              "<table border=\"1\" class=\"dataframe\">\n",
              "  <thead>\n",
              "    <tr style=\"text-align: right;\">\n",
              "      <th></th>\n",
              "      <th>지점</th>\n",
              "      <th>지점명</th>\n",
              "      <th>일시</th>\n",
              "      <th>풍속</th>\n",
              "      <th>강수량</th>\n",
              "      <th>기온</th>\n",
              "      <th>국가</th>\n",
              "    </tr>\n",
              "  </thead>\n",
              "  <tbody>\n",
              "    <tr>\n",
              "      <th>122236</th>\n",
              "      <td>48914</td>\n",
              "      <td>까마우</td>\n",
              "      <td>2015-12-28</td>\n",
              "      <td>5.0</td>\n",
              "      <td>NaN</td>\n",
              "      <td>29.2</td>\n",
              "      <td>베트남</td>\n",
              "    </tr>\n",
              "    <tr>\n",
              "      <th>122237</th>\n",
              "      <td>48914</td>\n",
              "      <td>까마우</td>\n",
              "      <td>2015-12-28</td>\n",
              "      <td>5.0</td>\n",
              "      <td>NaN</td>\n",
              "      <td>30.6</td>\n",
              "      <td>베트남</td>\n",
              "    </tr>\n",
              "    <tr>\n",
              "      <th>122238</th>\n",
              "      <td>48914</td>\n",
              "      <td>까마우</td>\n",
              "      <td>2015-12-28</td>\n",
              "      <td>5.0</td>\n",
              "      <td>NaN</td>\n",
              "      <td>30.3</td>\n",
              "      <td>베트남</td>\n",
              "    </tr>\n",
              "    <tr>\n",
              "      <th>122239</th>\n",
              "      <td>48914</td>\n",
              "      <td>까마우</td>\n",
              "      <td>2015-12-28</td>\n",
              "      <td>2.0</td>\n",
              "      <td>NaN</td>\n",
              "      <td>28.2</td>\n",
              "      <td>베트남</td>\n",
              "    </tr>\n",
              "    <tr>\n",
              "      <th>122240</th>\n",
              "      <td>48914</td>\n",
              "      <td>까마우</td>\n",
              "      <td>2015-12-28</td>\n",
              "      <td>0.0</td>\n",
              "      <td>NaN</td>\n",
              "      <td>26.4</td>\n",
              "      <td>베트남</td>\n",
              "    </tr>\n",
              "    <tr>\n",
              "      <th>...</th>\n",
              "      <td>...</td>\n",
              "      <td>...</td>\n",
              "      <td>...</td>\n",
              "      <td>...</td>\n",
              "      <td>...</td>\n",
              "      <td>...</td>\n",
              "      <td>...</td>\n",
              "    </tr>\n",
              "    <tr>\n",
              "      <th>27303</th>\n",
              "      <td>48917</td>\n",
              "      <td>푸꾸옥</td>\n",
              "      <td>2021-08-16</td>\n",
              "      <td>0.0</td>\n",
              "      <td>NaN</td>\n",
              "      <td>27.2</td>\n",
              "      <td>베트남</td>\n",
              "    </tr>\n",
              "    <tr>\n",
              "      <th>27304</th>\n",
              "      <td>48917</td>\n",
              "      <td>푸꾸옥</td>\n",
              "      <td>2021-08-16</td>\n",
              "      <td>2.0</td>\n",
              "      <td>NaN</td>\n",
              "      <td>26.8</td>\n",
              "      <td>베트남</td>\n",
              "    </tr>\n",
              "    <tr>\n",
              "      <th>107856</th>\n",
              "      <td>48820</td>\n",
              "      <td>하노이</td>\n",
              "      <td>2016-12-12</td>\n",
              "      <td>2.0</td>\n",
              "      <td>NaN</td>\n",
              "      <td>28.0</td>\n",
              "      <td>베트남</td>\n",
              "    </tr>\n",
              "    <tr>\n",
              "      <th>107857</th>\n",
              "      <td>48820</td>\n",
              "      <td>하노이</td>\n",
              "      <td>2016-12-12</td>\n",
              "      <td>3.0</td>\n",
              "      <td>NaN</td>\n",
              "      <td>25.4</td>\n",
              "      <td>베트남</td>\n",
              "    </tr>\n",
              "    <tr>\n",
              "      <th>107858</th>\n",
              "      <td>48820</td>\n",
              "      <td>하노이</td>\n",
              "      <td>2016-12-12</td>\n",
              "      <td>2.0</td>\n",
              "      <td>NaN</td>\n",
              "      <td>23.1</td>\n",
              "      <td>베트남</td>\n",
              "    </tr>\n",
              "  </tbody>\n",
              "</table>\n",
              "<p>16601 rows × 7 columns</p>\n",
              "</div>"
            ],
            "text/plain": [
              "           지점  지점명         일시   풍속  강수량    기온   국가\n",
              "122236  48914  까마우 2015-12-28  5.0  NaN  29.2  베트남\n",
              "122237  48914  까마우 2015-12-28  5.0  NaN  30.6  베트남\n",
              "122238  48914  까마우 2015-12-28  5.0  NaN  30.3  베트남\n",
              "122239  48914  까마우 2015-12-28  2.0  NaN  28.2  베트남\n",
              "122240  48914  까마우 2015-12-28  0.0  NaN  26.4  베트남\n",
              "...       ...  ...        ...  ...  ...   ...  ...\n",
              "27303   48917  푸꾸옥 2021-08-16  0.0  NaN  27.2  베트남\n",
              "27304   48917  푸꾸옥 2021-08-16  2.0  NaN  26.8  베트남\n",
              "107856  48820  하노이 2016-12-12  2.0  NaN  28.0  베트남\n",
              "107857  48820  하노이 2016-12-12  3.0  NaN  25.4  베트남\n",
              "107858  48820  하노이 2016-12-12  2.0  NaN  23.1  베트남\n",
              "\n",
              "[16601 rows x 7 columns]"
            ]
          },
          "metadata": {},
          "execution_count": 342
        }
      ]
    },
    {
      "cell_type": "code",
      "metadata": {
        "id": "It85fhIeNxzY",
        "colab": {
          "base_uri": "https://localhost:8080/"
        },
        "outputId": "d351f941-05e2-4164-8c86-26d051769d6b"
      },
      "source": [
        "rwt_vit['풍속'].isna().sum()"
      ],
      "execution_count": 343,
      "outputs": [
        {
          "output_type": "execute_result",
          "data": {
            "text/plain": [
              "1"
            ]
          },
          "metadata": {},
          "execution_count": 343
        }
      ]
    },
    {
      "cell_type": "code",
      "metadata": {
        "id": "sA3xuPSuNzYj",
        "colab": {
          "base_uri": "https://localhost:8080/",
          "height": 0
        },
        "outputId": "69414e7e-742e-46f9-9765-99572ff39dbe"
      },
      "source": [
        "sns.boxplot(x = rwt_vit['풍속'].unique())\n",
        "plt.xlabel('풍속')\n",
        "plt.show()"
      ],
      "execution_count": 344,
      "outputs": [
        {
          "output_type": "display_data",
          "data": {
            "image/png": "[encoded data removed]",
            "text/plain": [
              "<Figure size 432x288 with 1 Axes>"
            ]
          },
          "metadata": {
            "needs_background": "light"
          }
        }
      ]
    },
    {
      "cell_type": "code",
      "metadata": {
        "id": "xgShuGCMN0Ta",
        "colab": {
          "base_uri": "https://localhost:8080/"
        },
        "outputId": "7c0aca8d-f88d-497e-ddeb-0e02f8418263"
      },
      "source": [
        "rwt_vit['풍속'][rwt_vit['풍속']<0]"
      ],
      "execution_count": 345,
      "outputs": [
        {
          "output_type": "execute_result",
          "data": {
            "text/plain": [
              "Series([], Name: 풍속, dtype: float64)"
            ]
          },
          "metadata": {},
          "execution_count": 345
        }
      ]
    },
    {
      "cell_type": "code",
      "metadata": {
        "id": "cc-DdBN0N1cw",
        "colab": {
          "base_uri": "https://localhost:8080/"
        },
        "outputId": "66301528-d703-4d86-d994-7ca92dad5957"
      },
      "source": [
        "rwt_vit['기온'].isna().sum()"
      ],
      "execution_count": 346,
      "outputs": [
        {
          "output_type": "execute_result",
          "data": {
            "text/plain": [
              "9"
            ]
          },
          "metadata": {},
          "execution_count": 346
        }
      ]
    },
    {
      "cell_type": "code",
      "metadata": {
        "id": "vlzhf7RQN3KB",
        "colab": {
          "base_uri": "https://localhost:8080/",
          "height": 0
        },
        "outputId": "388bd0b4-bedc-4260-a5c0-01b9110a3204"
      },
      "source": [
        "sns.boxplot(x = rwt_vit['기온'].unique())\n",
        "plt.xlabel('기온')\n",
        "plt.show()\n",
        "\n",
        "# 이상치 없음."
      ],
      "execution_count": 347,
      "outputs": [
        {
          "output_type": "display_data",
          "data": {
            "image/png": "[encoded data removed]",
            "text/plain": [
              "<Figure size 432x288 with 1 Axes>"
            ]
          },
          "metadata": {
            "needs_background": "light"
          }
        }
      ]
    },
    {
      "cell_type": "code",
      "metadata": {
        "id": "wqkpHE-7N60d",
        "colab": {
          "base_uri": "https://localhost:8080/",
          "height": 0
        },
        "outputId": "cae2718f-f397-419d-e7ba-2fbb393313a3"
      },
      "source": [
        "rwt_vit2 = pd.DataFrame(rwt_vit.groupby(['일시']).mean()[['강수량','풍속','기온']])\n",
        "\n",
        "rwt_vit2 = rwt_vit2[rwt_vit2.index<='2021-06-28']\n",
        "\n",
        "rwt_vit2"
      ],
      "execution_count": 348,
      "outputs": [
        {
          "output_type": "execute_result",
          "data": {
            "text/html": [
              "<div>\n",
              "<style scoped>\n",
              "    .dataframe tbody tr th:only-of-type {\n",
              "        vertical-align: middle;\n",
              "    }\n",
              "\n",
              "    .dataframe tbody tr th {\n",
              "        vertical-align: top;\n",
              "    }\n",
              "\n",
              "    .dataframe thead th {\n",
              "        text-align: right;\n",
              "    }\n",
              "</style>\n",
              "<table border=\"1\" class=\"dataframe\">\n",
              "  <thead>\n",
              "    <tr style=\"text-align: right;\">\n",
              "      <th></th>\n",
              "      <th>강수량</th>\n",
              "      <th>풍속</th>\n",
              "      <th>기온</th>\n",
              "    </tr>\n",
              "    <tr>\n",
              "      <th>일시</th>\n",
              "      <th></th>\n",
              "      <th></th>\n",
              "      <th></th>\n",
              "    </tr>\n",
              "  </thead>\n",
              "  <tbody>\n",
              "    <tr>\n",
              "      <th>2015-12-28</th>\n",
              "      <td>0.828571</td>\n",
              "      <td>2.375000</td>\n",
              "      <td>23.098214</td>\n",
              "    </tr>\n",
              "    <tr>\n",
              "      <th>2016-01-04</th>\n",
              "      <td>19.000000</td>\n",
              "      <td>1.666667</td>\n",
              "      <td>24.580328</td>\n",
              "    </tr>\n",
              "    <tr>\n",
              "      <th>2016-01-11</th>\n",
              "      <td>0.000000</td>\n",
              "      <td>2.015625</td>\n",
              "      <td>24.165625</td>\n",
              "    </tr>\n",
              "    <tr>\n",
              "      <th>2016-01-18</th>\n",
              "      <td>3.000000</td>\n",
              "      <td>1.822581</td>\n",
              "      <td>24.020968</td>\n",
              "    </tr>\n",
              "    <tr>\n",
              "      <th>2016-01-25</th>\n",
              "      <td>2.521429</td>\n",
              "      <td>3.250000</td>\n",
              "      <td>18.212500</td>\n",
              "    </tr>\n",
              "    <tr>\n",
              "      <th>...</th>\n",
              "      <td>...</td>\n",
              "      <td>...</td>\n",
              "      <td>...</td>\n",
              "    </tr>\n",
              "    <tr>\n",
              "      <th>2021-05-31</th>\n",
              "      <td>0.500000</td>\n",
              "      <td>2.156250</td>\n",
              "      <td>31.271875</td>\n",
              "    </tr>\n",
              "    <tr>\n",
              "      <th>2021-06-07</th>\n",
              "      <td>17.043750</td>\n",
              "      <td>2.078125</td>\n",
              "      <td>28.542188</td>\n",
              "    </tr>\n",
              "    <tr>\n",
              "      <th>2021-06-14</th>\n",
              "      <td>3.080000</td>\n",
              "      <td>2.234375</td>\n",
              "      <td>29.495313</td>\n",
              "    </tr>\n",
              "    <tr>\n",
              "      <th>2021-06-21</th>\n",
              "      <td>4.450000</td>\n",
              "      <td>2.484375</td>\n",
              "      <td>30.651562</td>\n",
              "    </tr>\n",
              "    <tr>\n",
              "      <th>2021-06-28</th>\n",
              "      <td>0.000000</td>\n",
              "      <td>2.578125</td>\n",
              "      <td>30.442188</td>\n",
              "    </tr>\n",
              "  </tbody>\n",
              "</table>\n",
              "<p>288 rows × 3 columns</p>\n",
              "</div>"
            ],
            "text/plain": [
              "                  강수량        풍속         기온\n",
              "일시                                        \n",
              "2015-12-28   0.828571  2.375000  23.098214\n",
              "2016-01-04  19.000000  1.666667  24.580328\n",
              "2016-01-11   0.000000  2.015625  24.165625\n",
              "2016-01-18   3.000000  1.822581  24.020968\n",
              "2016-01-25   2.521429  3.250000  18.212500\n",
              "...               ...       ...        ...\n",
              "2021-05-31   0.500000  2.156250  31.271875\n",
              "2021-06-07  17.043750  2.078125  28.542188\n",
              "2021-06-14   3.080000  2.234375  29.495313\n",
              "2021-06-21   4.450000  2.484375  30.651562\n",
              "2021-06-28   0.000000  2.578125  30.442188\n",
              "\n",
              "[288 rows x 3 columns]"
            ]
          },
          "metadata": {},
          "execution_count": 348
        }
      ]
    },
    {
      "cell_type": "code",
      "metadata": {
        "id": "NX-G9YRXOCHW",
        "colab": {
          "base_uri": "https://localhost:8080/",
          "height": 0
        },
        "outputId": "4c3edd10-9504-4f05-fdef-be6841274204"
      },
      "source": [
        "rwt_vit2.describe()"
      ],
      "execution_count": 349,
      "outputs": [
        {
          "output_type": "execute_result",
          "data": {
            "text/html": [
              "<div>\n",
              "<style scoped>\n",
              "    .dataframe tbody tr th:only-of-type {\n",
              "        vertical-align: middle;\n",
              "    }\n",
              "\n",
              "    .dataframe tbody tr th {\n",
              "        vertical-align: top;\n",
              "    }\n",
              "\n",
              "    .dataframe thead th {\n",
              "        text-align: right;\n",
              "    }\n",
              "</style>\n",
              "<table border=\"1\" class=\"dataframe\">\n",
              "  <thead>\n",
              "    <tr style=\"text-align: right;\">\n",
              "      <th></th>\n",
              "      <th>강수량</th>\n",
              "      <th>풍속</th>\n",
              "      <th>기온</th>\n",
              "    </tr>\n",
              "  </thead>\n",
              "  <tbody>\n",
              "    <tr>\n",
              "      <th>count</th>\n",
              "      <td>273.000000</td>\n",
              "      <td>288.000000</td>\n",
              "      <td>288.000000</td>\n",
              "    </tr>\n",
              "    <tr>\n",
              "      <th>mean</th>\n",
              "      <td>7.190637</td>\n",
              "      <td>2.119864</td>\n",
              "      <td>26.465741</td>\n",
              "    </tr>\n",
              "    <tr>\n",
              "      <th>std</th>\n",
              "      <td>7.661904</td>\n",
              "      <td>0.414989</td>\n",
              "      <td>2.839870</td>\n",
              "    </tr>\n",
              "    <tr>\n",
              "      <th>min</th>\n",
              "      <td>0.000000</td>\n",
              "      <td>0.647059</td>\n",
              "      <td>17.800000</td>\n",
              "    </tr>\n",
              "    <tr>\n",
              "      <th>25%</th>\n",
              "      <td>1.000000</td>\n",
              "      <td>1.858817</td>\n",
              "      <td>24.403084</td>\n",
              "    </tr>\n",
              "    <tr>\n",
              "      <th>50%</th>\n",
              "      <td>4.736364</td>\n",
              "      <td>2.078125</td>\n",
              "      <td>26.842169</td>\n",
              "    </tr>\n",
              "    <tr>\n",
              "      <th>75%</th>\n",
              "      <td>10.554545</td>\n",
              "      <td>2.355932</td>\n",
              "      <td>28.883946</td>\n",
              "    </tr>\n",
              "    <tr>\n",
              "      <th>max</th>\n",
              "      <td>40.572222</td>\n",
              "      <td>3.546875</td>\n",
              "      <td>31.271875</td>\n",
              "    </tr>\n",
              "  </tbody>\n",
              "</table>\n",
              "</div>"
            ],
            "text/plain": [
              "              강수량          풍속          기온\n",
              "count  273.000000  288.000000  288.000000\n",
              "mean     7.190637    2.119864   26.465741\n",
              "std      7.661904    0.414989    2.839870\n",
              "min      0.000000    0.647059   17.800000\n",
              "25%      1.000000    1.858817   24.403084\n",
              "50%      4.736364    2.078125   26.842169\n",
              "75%     10.554545    2.355932   28.883946\n",
              "max     40.572222    3.546875   31.271875"
            ]
          },
          "metadata": {},
          "execution_count": 349
        }
      ]
    },
    {
      "cell_type": "code",
      "metadata": {
        "id": "MFxJjrhEOAdE",
        "colab": {
          "base_uri": "https://localhost:8080/"
        },
        "outputId": "0f67b271-1522-4a9f-d4c1-c0927b237486"
      },
      "source": [
        "rwt_vit2.isna().sum()"
      ],
      "execution_count": 350,
      "outputs": [
        {
          "output_type": "execute_result",
          "data": {
            "text/plain": [
              "강수량    15\n",
              "풍속      0\n",
              "기온      0\n",
              "dtype: int64"
            ]
          },
          "metadata": {},
          "execution_count": 350
        }
      ]
    },
    {
      "cell_type": "code",
      "metadata": {
        "id": "3DlrrhEqOD9J",
        "colab": {
          "base_uri": "https://localhost:8080/",
          "height": 0
        },
        "outputId": "b2c32931-51fc-4910-fa52-d6cb989b51cf"
      },
      "source": [
        "rwt_vit2[rwt_vit2['강수량'].isna()] # 해당 월 평균 강수량 데이터로 결측값 대치해보자! "
      ],
      "execution_count": 351,
      "outputs": [
        {
          "output_type": "execute_result",
          "data": {
            "text/html": [
              "<div>\n",
              "<style scoped>\n",
              "    .dataframe tbody tr th:only-of-type {\n",
              "        vertical-align: middle;\n",
              "    }\n",
              "\n",
              "    .dataframe tbody tr th {\n",
              "        vertical-align: top;\n",
              "    }\n",
              "\n",
              "    .dataframe thead th {\n",
              "        text-align: right;\n",
              "    }\n",
              "</style>\n",
              "<table border=\"1\" class=\"dataframe\">\n",
              "  <thead>\n",
              "    <tr style=\"text-align: right;\">\n",
              "      <th></th>\n",
              "      <th>강수량</th>\n",
              "      <th>풍속</th>\n",
              "      <th>기온</th>\n",
              "    </tr>\n",
              "    <tr>\n",
              "      <th>일시</th>\n",
              "      <th></th>\n",
              "      <th></th>\n",
              "      <th></th>\n",
              "    </tr>\n",
              "  </thead>\n",
              "  <tbody>\n",
              "    <tr>\n",
              "      <th>2016-02-08</th>\n",
              "      <td>NaN</td>\n",
              "      <td>2.355932</td>\n",
              "      <td>19.338596</td>\n",
              "    </tr>\n",
              "    <tr>\n",
              "      <th>2016-02-29</th>\n",
              "      <td>NaN</td>\n",
              "      <td>2.946429</td>\n",
              "      <td>22.907143</td>\n",
              "    </tr>\n",
              "    <tr>\n",
              "      <th>2017-02-06</th>\n",
              "      <td>NaN</td>\n",
              "      <td>2.343750</td>\n",
              "      <td>23.735938</td>\n",
              "    </tr>\n",
              "    <tr>\n",
              "      <th>2017-12-18</th>\n",
              "      <td>NaN</td>\n",
              "      <td>2.921875</td>\n",
              "      <td>20.045313</td>\n",
              "    </tr>\n",
              "    <tr>\n",
              "      <th>2018-02-05</th>\n",
              "      <td>NaN</td>\n",
              "      <td>3.125000</td>\n",
              "      <td>19.448437</td>\n",
              "    </tr>\n",
              "    <tr>\n",
              "      <th>2018-04-02</th>\n",
              "      <td>NaN</td>\n",
              "      <td>2.156250</td>\n",
              "      <td>25.909375</td>\n",
              "    </tr>\n",
              "    <tr>\n",
              "      <th>2018-04-09</th>\n",
              "      <td>NaN</td>\n",
              "      <td>2.269841</td>\n",
              "      <td>25.173016</td>\n",
              "    </tr>\n",
              "    <tr>\n",
              "      <th>2019-01-28</th>\n",
              "      <td>NaN</td>\n",
              "      <td>2.031250</td>\n",
              "      <td>23.398438</td>\n",
              "    </tr>\n",
              "    <tr>\n",
              "      <th>2019-02-04</th>\n",
              "      <td>NaN</td>\n",
              "      <td>2.609375</td>\n",
              "      <td>25.159375</td>\n",
              "    </tr>\n",
              "    <tr>\n",
              "      <th>2019-12-09</th>\n",
              "      <td>NaN</td>\n",
              "      <td>2.312500</td>\n",
              "      <td>20.801563</td>\n",
              "    </tr>\n",
              "    <tr>\n",
              "      <th>2020-03-09</th>\n",
              "      <td>NaN</td>\n",
              "      <td>2.156250</td>\n",
              "      <td>27.378125</td>\n",
              "    </tr>\n",
              "    <tr>\n",
              "      <th>2020-04-20</th>\n",
              "      <td>NaN</td>\n",
              "      <td>2.135593</td>\n",
              "      <td>28.591525</td>\n",
              "    </tr>\n",
              "    <tr>\n",
              "      <th>2021-02-15</th>\n",
              "      <td>NaN</td>\n",
              "      <td>2.052632</td>\n",
              "      <td>22.994737</td>\n",
              "    </tr>\n",
              "    <tr>\n",
              "      <th>2021-02-22</th>\n",
              "      <td>NaN</td>\n",
              "      <td>2.700000</td>\n",
              "      <td>22.560000</td>\n",
              "    </tr>\n",
              "    <tr>\n",
              "      <th>2021-03-15</th>\n",
              "      <td>NaN</td>\n",
              "      <td>1.789474</td>\n",
              "      <td>24.384211</td>\n",
              "    </tr>\n",
              "  </tbody>\n",
              "</table>\n",
              "</div>"
            ],
            "text/plain": [
              "            강수량        풍속         기온\n",
              "일시                                  \n",
              "2016-02-08  NaN  2.355932  19.338596\n",
              "2016-02-29  NaN  2.946429  22.907143\n",
              "2017-02-06  NaN  2.343750  23.735938\n",
              "2017-12-18  NaN  2.921875  20.045313\n",
              "2018-02-05  NaN  3.125000  19.448437\n",
              "2018-04-02  NaN  2.156250  25.909375\n",
              "2018-04-09  NaN  2.269841  25.173016\n",
              "2019-01-28  NaN  2.031250  23.398438\n",
              "2019-02-04  NaN  2.609375  25.159375\n",
              "2019-12-09  NaN  2.312500  20.801563\n",
              "2020-03-09  NaN  2.156250  27.378125\n",
              "2020-04-20  NaN  2.135593  28.591525\n",
              "2021-02-15  NaN  2.052632  22.994737\n",
              "2021-02-22  NaN  2.700000  22.560000\n",
              "2021-03-15  NaN  1.789474  24.384211"
            ]
          },
          "metadata": {},
          "execution_count": 351
        }
      ]
    },
    {
      "cell_type": "code",
      "metadata": {
        "id": "sr2tA3rIOHP2"
      },
      "source": [
        "rwt_vit2['일시'] = rwt_vit2.index\n",
        "rwt_vit2['일시'] = rwt_vit2['일시'].astype('string')\n",
        "\n",
        "rain_1602 = float(rwt_vit2[rwt_vit2['일시'].str.contains('2016-02')].mean()['강수량']) # 2016년 2월 강수량 평균\n",
        "rain_1702 = float(rwt_vit2[rwt_vit2['일시'].str.contains('2017-02')].mean()['강수량']) # 2017년 2월 강수량 평균\n",
        "rain_1712 = float(rwt_vit2[rwt_vit2['일시'].str.contains('2017-12')].mean()['강수량']) # 2017년 12월 강수량 평균\n",
        "rain_1802 = float(rwt_vit2[rwt_vit2['일시'].str.contains('2018-02')].mean()['강수량']) # 2018년 2월 강수량 평균\n",
        "rain_1804 = float(rwt_vit2[rwt_vit2['일시'].str.contains('2018-04')].mean()['강수량']) # 2018년 4월 강수량 평균\n",
        "rain_1901 = float(rwt_vit2[rwt_vit2['일시'].str.contains('2019-01')].mean()['강수량']) # 2019년 1월 강수량 평균\n",
        "rain_1902 = float(rwt_vit2[rwt_vit2['일시'].str.contains('2019-02')].mean()['강수량']) # 2019년 2월 강수량 평균\n",
        "rain_1912 = float(rwt_vit2[rwt_vit2['일시'].str.contains('2019-12')].mean()['강수량']) # 2019년 12월 강수량 평균\n",
        "rain_2003 = float(rwt_vit2[rwt_vit2['일시'].str.contains('2020-03')].mean()['강수량']) # 2020년 3월 강수량 평균\n",
        "rain_2004 = float(rwt_vit2[rwt_vit2['일시'].str.contains('2020-04')].mean()['강수량']) # 2020년 4월 강수량 평균\n",
        "rain_2102 = float(rwt_vit2[rwt_vit2['일시'].str.contains('2021-02')].mean()['강수량']) # 2021년 2월 강수량 평균\n",
        "rain_2103 = float(rwt_vit2[rwt_vit2['일시'].str.contains('2021-03')].mean()['강수량']) # 2021년 3월 강수량 평균"
      ],
      "execution_count": 352,
      "outputs": []
    },
    {
      "cell_type": "code",
      "metadata": {
        "id": "nSVo5bxiOKpT",
        "colab": {
          "base_uri": "https://localhost:8080/"
        },
        "outputId": "9f55d04a-923e-4e12-fc82-5b1702dab7e9"
      },
      "source": [
        "rwt_vit2[rwt_vit2['일시'].str.contains('2016-02')]['강수량'].fillna(rain_1602) # 2016년 2월 강수량 평균으로 결측값 대치\n",
        "rwt_vit2[rwt_vit2['일시'].str.contains('2017-02')]['강수량'].fillna(rain_1702) # 2017년 2월 강수량 평균으로 결측값 대치\n",
        "rwt_vit2[rwt_vit2['일시'].str.contains('2017-12')]['강수량'].fillna(rain_1712) # 2017년 12월 강수량 평균으로 결측값 대치\n",
        "rwt_vit2[rwt_vit2['일시'].str.contains('2018-02')]['강수량'].fillna(rain_1802) # 2018년 2월 강수량 평균으로 결측값 대치\n",
        "rwt_vit2[rwt_vit2['일시'].str.contains('2018-04')]['강수량'].fillna(rain_1804) # 2018년 4월 강수량 평균으로 결측값 대치\n",
        "rwt_vit2[rwt_vit2['일시'].str.contains('2019-01')]['강수량'].fillna(rain_1901) # 2019년 1월 강수량 평균으로 결측값 대치\n",
        "rwt_vit2[rwt_vit2['일시'].str.contains('2019-02')]['강수량'].fillna(rain_1902) # 2019년 2월 강수량 평균으로 결측값 대치\n",
        "rwt_vit2[rwt_vit2['일시'].str.contains('2019-12')]['강수량'].fillna(rain_1912) # 2019년 12월 강수량 평균으로 결측값 대치\n",
        "rwt_vit2[rwt_vit2['일시'].str.contains('2020-03')]['강수량'].fillna(rain_2003) # 2020년 3월 강수량 평균으로 결측값 대치\n",
        "rwt_vit2[rwt_vit2['일시'].str.contains('2020-04')]['강수량'].fillna(rain_2004) # 2020년 4월 강수량 평균으로 결측값 대치\n",
        "rwt_vit2[rwt_vit2['일시'].str.contains('2021-02')]['강수량'].fillna(rain_2102) # 2021년 2월 강수량 평균으로 결측값 대치\n",
        "rwt_vit2[rwt_vit2['일시'].str.contains('2021-03')]['강수량'].fillna(rain_2103) # 2021년 3월 강수량 평균으로 결측값 대치\n",
        "\n",
        "rwt_vit2.isna().sum()"
      ],
      "execution_count": 353,
      "outputs": [
        {
          "output_type": "execute_result",
          "data": {
            "text/plain": [
              "강수량    15\n",
              "풍속      0\n",
              "기온      0\n",
              "일시      0\n",
              "dtype: int64"
            ]
          },
          "metadata": {},
          "execution_count": 353
        }
      ]
    },
    {
      "cell_type": "markdown",
      "metadata": {
        "id": "vhGEzx9zg25v"
      },
      "source": [
        "#### 중국 Weather"
      ]
    },
    {
      "cell_type": "code",
      "metadata": {
        "colab": {
          "base_uri": "https://localhost:8080/",
          "height": 417
        },
        "id": "kIUug79Wg9g4",
        "outputId": "cd085399-dce3-4535-f7c7-2dac7d029315"
      },
      "source": [
        "data = pd.read_csv(\"/content/drive/MyDrive/빅콘/Seafood_Import_Price_Prediction/DATA/weather/rwt_china_raw.csv\",encoding='cp949')\n",
        "\n",
        "data"
      ],
      "execution_count": 310,
      "outputs": [
        {
          "output_type": "execute_result",
          "data": {
            "text/html": [
              "<div>\n",
              "<style scoped>\n",
              "    .dataframe tbody tr th:only-of-type {\n",
              "        vertical-align: middle;\n",
              "    }\n",
              "\n",
              "    .dataframe tbody tr th {\n",
              "        vertical-align: top;\n",
              "    }\n",
              "\n",
              "    .dataframe thead th {\n",
              "        text-align: right;\n",
              "    }\n",
              "</style>\n",
              "<table border=\"1\" class=\"dataframe\">\n",
              "  <thead>\n",
              "    <tr style=\"text-align: right;\">\n",
              "      <th></th>\n",
              "      <th>Unnamed: 0</th>\n",
              "      <th>지점</th>\n",
              "      <th>지점명</th>\n",
              "      <th>일시</th>\n",
              "      <th>풍속</th>\n",
              "      <th>강수량</th>\n",
              "      <th>기온</th>\n",
              "    </tr>\n",
              "  </thead>\n",
              "  <tbody>\n",
              "    <tr>\n",
              "      <th>0</th>\n",
              "      <td>127994</td>\n",
              "      <td>50527</td>\n",
              "      <td>하일라르</td>\n",
              "      <td>2015-12-28 03:00</td>\n",
              "      <td>2.0</td>\n",
              "      <td>NaN</td>\n",
              "      <td>-28.8</td>\n",
              "    </tr>\n",
              "    <tr>\n",
              "      <th>1</th>\n",
              "      <td>127995</td>\n",
              "      <td>50527</td>\n",
              "      <td>하일라르</td>\n",
              "      <td>2015-12-28 06:00</td>\n",
              "      <td>2.0</td>\n",
              "      <td>NaN</td>\n",
              "      <td>-24.2</td>\n",
              "    </tr>\n",
              "    <tr>\n",
              "      <th>2</th>\n",
              "      <td>127996</td>\n",
              "      <td>50527</td>\n",
              "      <td>하일라르</td>\n",
              "      <td>2015-12-28 09:00</td>\n",
              "      <td>4.0</td>\n",
              "      <td>NaN</td>\n",
              "      <td>-26.6</td>\n",
              "    </tr>\n",
              "    <tr>\n",
              "      <th>3</th>\n",
              "      <td>127997</td>\n",
              "      <td>50527</td>\n",
              "      <td>하일라르</td>\n",
              "      <td>2015-12-28 12:00</td>\n",
              "      <td>3.0</td>\n",
              "      <td>NaN</td>\n",
              "      <td>-25.3</td>\n",
              "    </tr>\n",
              "    <tr>\n",
              "      <th>4</th>\n",
              "      <td>127998</td>\n",
              "      <td>50527</td>\n",
              "      <td>하일라르</td>\n",
              "      <td>2015-12-28 15:00</td>\n",
              "      <td>6.0</td>\n",
              "      <td>NaN</td>\n",
              "      <td>-29.5</td>\n",
              "    </tr>\n",
              "    <tr>\n",
              "      <th>...</th>\n",
              "      <td>...</td>\n",
              "      <td>...</td>\n",
              "      <td>...</td>\n",
              "      <td>...</td>\n",
              "      <td>...</td>\n",
              "      <td>...</td>\n",
              "      <td>...</td>\n",
              "    </tr>\n",
              "    <tr>\n",
              "      <th>1115542</th>\n",
              "      <td>106881</td>\n",
              "      <td>59981</td>\n",
              "      <td>시사다오</td>\n",
              "      <td>2021-08-17 12:00</td>\n",
              "      <td>1.0</td>\n",
              "      <td>NaN</td>\n",
              "      <td>28.8</td>\n",
              "    </tr>\n",
              "    <tr>\n",
              "      <th>1115543</th>\n",
              "      <td>106882</td>\n",
              "      <td>59981</td>\n",
              "      <td>시사다오</td>\n",
              "      <td>2021-08-17 15:00</td>\n",
              "      <td>1.0</td>\n",
              "      <td>NaN</td>\n",
              "      <td>28.3</td>\n",
              "    </tr>\n",
              "    <tr>\n",
              "      <th>1115544</th>\n",
              "      <td>106883</td>\n",
              "      <td>59981</td>\n",
              "      <td>시사다오</td>\n",
              "      <td>2021-08-17 18:00</td>\n",
              "      <td>0.0</td>\n",
              "      <td>NaN</td>\n",
              "      <td>27.6</td>\n",
              "    </tr>\n",
              "    <tr>\n",
              "      <th>1115545</th>\n",
              "      <td>106884</td>\n",
              "      <td>59981</td>\n",
              "      <td>시사다오</td>\n",
              "      <td>2021-08-17 21:00</td>\n",
              "      <td>2.0</td>\n",
              "      <td>NaN</td>\n",
              "      <td>27.8</td>\n",
              "    </tr>\n",
              "    <tr>\n",
              "      <th>1115546</th>\n",
              "      <td>106885</td>\n",
              "      <td>59981</td>\n",
              "      <td>시사다오</td>\n",
              "      <td>2021-08-18 00:00</td>\n",
              "      <td>2.0</td>\n",
              "      <td>NaN</td>\n",
              "      <td>29.4</td>\n",
              "    </tr>\n",
              "  </tbody>\n",
              "</table>\n",
              "<p>1115547 rows × 7 columns</p>\n",
              "</div>"
            ],
            "text/plain": [
              "         Unnamed: 0     지점   지점명                일시   풍속  강수량    기온\n",
              "0            127994  50527  하일라르  2015-12-28 03:00  2.0  NaN -28.8\n",
              "1            127995  50527  하일라르  2015-12-28 06:00  2.0  NaN -24.2\n",
              "2            127996  50527  하일라르  2015-12-28 09:00  4.0  NaN -26.6\n",
              "3            127997  50527  하일라르  2015-12-28 12:00  3.0  NaN -25.3\n",
              "4            127998  50527  하일라르  2015-12-28 15:00  6.0  NaN -29.5\n",
              "...             ...    ...   ...               ...  ...  ...   ...\n",
              "1115542      106881  59981  시사다오  2021-08-17 12:00  1.0  NaN  28.8\n",
              "1115543      106882  59981  시사다오  2021-08-17 15:00  1.0  NaN  28.3\n",
              "1115544      106883  59981  시사다오  2021-08-17 18:00  0.0  NaN  27.6\n",
              "1115545      106884  59981  시사다오  2021-08-17 21:00  2.0  NaN  27.8\n",
              "1115546      106885  59981  시사다오  2021-08-18 00:00  2.0  NaN  29.4\n",
              "\n",
              "[1115547 rows x 7 columns]"
            ]
          },
          "metadata": {},
          "execution_count": 310
        }
      ]
    },
    {
      "cell_type": "code",
      "metadata": {
        "colab": {
          "base_uri": "https://localhost:8080/",
          "height": 417
        },
        "id": "cJD9u_Eihl1A",
        "outputId": "d2ff2c48-7318-4644-f0b9-f9433e7e4d24"
      },
      "source": [
        "data['일시'] = data['일시'].astype('string')\n",
        "\n",
        "data['일시'] = data['일시'].str[:10]\n",
        "\n",
        "data['일시'] = data['일시'].astype('datetime64')\n",
        "\n",
        "data = data.query('일시.dt.dayofweek == 0')\n",
        "\n",
        "data['국가'] = '중국'\n",
        "\n",
        "data # 중국 일주일간 rwt 데이터"
      ],
      "execution_count": 311,
      "outputs": [
        {
          "output_type": "execute_result",
          "data": {
            "text/html": [
              "<div>\n",
              "<style scoped>\n",
              "    .dataframe tbody tr th:only-of-type {\n",
              "        vertical-align: middle;\n",
              "    }\n",
              "\n",
              "    .dataframe tbody tr th {\n",
              "        vertical-align: top;\n",
              "    }\n",
              "\n",
              "    .dataframe thead th {\n",
              "        text-align: right;\n",
              "    }\n",
              "</style>\n",
              "<table border=\"1\" class=\"dataframe\">\n",
              "  <thead>\n",
              "    <tr style=\"text-align: right;\">\n",
              "      <th></th>\n",
              "      <th>Unnamed: 0</th>\n",
              "      <th>지점</th>\n",
              "      <th>지점명</th>\n",
              "      <th>일시</th>\n",
              "      <th>풍속</th>\n",
              "      <th>강수량</th>\n",
              "      <th>기온</th>\n",
              "      <th>국가</th>\n",
              "    </tr>\n",
              "  </thead>\n",
              "  <tbody>\n",
              "    <tr>\n",
              "      <th>0</th>\n",
              "      <td>127994</td>\n",
              "      <td>50527</td>\n",
              "      <td>하일라르</td>\n",
              "      <td>2015-12-28</td>\n",
              "      <td>2.0</td>\n",
              "      <td>NaN</td>\n",
              "      <td>-28.8</td>\n",
              "      <td>중국</td>\n",
              "    </tr>\n",
              "    <tr>\n",
              "      <th>1</th>\n",
              "      <td>127995</td>\n",
              "      <td>50527</td>\n",
              "      <td>하일라르</td>\n",
              "      <td>2015-12-28</td>\n",
              "      <td>2.0</td>\n",
              "      <td>NaN</td>\n",
              "      <td>-24.2</td>\n",
              "      <td>중국</td>\n",
              "    </tr>\n",
              "    <tr>\n",
              "      <th>2</th>\n",
              "      <td>127996</td>\n",
              "      <td>50527</td>\n",
              "      <td>하일라르</td>\n",
              "      <td>2015-12-28</td>\n",
              "      <td>4.0</td>\n",
              "      <td>NaN</td>\n",
              "      <td>-26.6</td>\n",
              "      <td>중국</td>\n",
              "    </tr>\n",
              "    <tr>\n",
              "      <th>3</th>\n",
              "      <td>127997</td>\n",
              "      <td>50527</td>\n",
              "      <td>하일라르</td>\n",
              "      <td>2015-12-28</td>\n",
              "      <td>3.0</td>\n",
              "      <td>NaN</td>\n",
              "      <td>-25.3</td>\n",
              "      <td>중국</td>\n",
              "    </tr>\n",
              "    <tr>\n",
              "      <th>4</th>\n",
              "      <td>127998</td>\n",
              "      <td>50527</td>\n",
              "      <td>하일라르</td>\n",
              "      <td>2015-12-28</td>\n",
              "      <td>6.0</td>\n",
              "      <td>NaN</td>\n",
              "      <td>-29.5</td>\n",
              "      <td>중국</td>\n",
              "    </tr>\n",
              "    <tr>\n",
              "      <th>...</th>\n",
              "      <td>...</td>\n",
              "      <td>...</td>\n",
              "      <td>...</td>\n",
              "      <td>...</td>\n",
              "      <td>...</td>\n",
              "      <td>...</td>\n",
              "      <td>...</td>\n",
              "      <td>...</td>\n",
              "    </tr>\n",
              "    <tr>\n",
              "      <th>1115533</th>\n",
              "      <td>106872</td>\n",
              "      <td>59981</td>\n",
              "      <td>시사다오</td>\n",
              "      <td>2021-08-16</td>\n",
              "      <td>2.0</td>\n",
              "      <td>NaN</td>\n",
              "      <td>31.4</td>\n",
              "      <td>중국</td>\n",
              "    </tr>\n",
              "    <tr>\n",
              "      <th>1115534</th>\n",
              "      <td>106873</td>\n",
              "      <td>59981</td>\n",
              "      <td>시사다오</td>\n",
              "      <td>2021-08-16</td>\n",
              "      <td>1.0</td>\n",
              "      <td>NaN</td>\n",
              "      <td>29.0</td>\n",
              "      <td>중국</td>\n",
              "    </tr>\n",
              "    <tr>\n",
              "      <th>1115535</th>\n",
              "      <td>106874</td>\n",
              "      <td>59981</td>\n",
              "      <td>시사다오</td>\n",
              "      <td>2021-08-16</td>\n",
              "      <td>3.0</td>\n",
              "      <td>NaN</td>\n",
              "      <td>28.5</td>\n",
              "      <td>중국</td>\n",
              "    </tr>\n",
              "    <tr>\n",
              "      <th>1115536</th>\n",
              "      <td>106875</td>\n",
              "      <td>59981</td>\n",
              "      <td>시사다오</td>\n",
              "      <td>2021-08-16</td>\n",
              "      <td>1.0</td>\n",
              "      <td>NaN</td>\n",
              "      <td>27.8</td>\n",
              "      <td>중국</td>\n",
              "    </tr>\n",
              "    <tr>\n",
              "      <th>1115537</th>\n",
              "      <td>106876</td>\n",
              "      <td>59981</td>\n",
              "      <td>시사다오</td>\n",
              "      <td>2021-08-16</td>\n",
              "      <td>1.0</td>\n",
              "      <td>NaN</td>\n",
              "      <td>27.5</td>\n",
              "      <td>중국</td>\n",
              "    </tr>\n",
              "  </tbody>\n",
              "</table>\n",
              "<p>159953 rows × 8 columns</p>\n",
              "</div>"
            ],
            "text/plain": [
              "         Unnamed: 0     지점   지점명         일시   풍속  강수량    기온  국가\n",
              "0            127994  50527  하일라르 2015-12-28  2.0  NaN -28.8  중국\n",
              "1            127995  50527  하일라르 2015-12-28  2.0  NaN -24.2  중국\n",
              "2            127996  50527  하일라르 2015-12-28  4.0  NaN -26.6  중국\n",
              "3            127997  50527  하일라르 2015-12-28  3.0  NaN -25.3  중국\n",
              "4            127998  50527  하일라르 2015-12-28  6.0  NaN -29.5  중국\n",
              "...             ...    ...   ...        ...  ...  ...   ...  ..\n",
              "1115533      106872  59981  시사다오 2021-08-16  2.0  NaN  31.4  중국\n",
              "1115534      106873  59981  시사다오 2021-08-16  1.0  NaN  29.0  중국\n",
              "1115535      106874  59981  시사다오 2021-08-16  3.0  NaN  28.5  중국\n",
              "1115536      106875  59981  시사다오 2021-08-16  1.0  NaN  27.8  중국\n",
              "1115537      106876  59981  시사다오 2021-08-16  1.0  NaN  27.5  중국\n",
              "\n",
              "[159953 rows x 8 columns]"
            ]
          },
          "metadata": {},
          "execution_count": 311
        }
      ]
    },
    {
      "cell_type": "code",
      "metadata": {
        "colab": {
          "base_uri": "https://localhost:8080/",
          "height": 417
        },
        "id": "yg3bXMG6ikWI",
        "outputId": "5944cb9a-e0ce-44f7-97e0-a665c96ccb52"
      },
      "source": [
        "data = data[data['일시']<='2021-06-28']\n",
        "\n",
        "data = data.iloc[:,1:]\n",
        "\n",
        "data"
      ],
      "execution_count": 312,
      "outputs": [
        {
          "output_type": "execute_result",
          "data": {
            "text/html": [
              "<div>\n",
              "<style scoped>\n",
              "    .dataframe tbody tr th:only-of-type {\n",
              "        vertical-align: middle;\n",
              "    }\n",
              "\n",
              "    .dataframe tbody tr th {\n",
              "        vertical-align: top;\n",
              "    }\n",
              "\n",
              "    .dataframe thead th {\n",
              "        text-align: right;\n",
              "    }\n",
              "</style>\n",
              "<table border=\"1\" class=\"dataframe\">\n",
              "  <thead>\n",
              "    <tr style=\"text-align: right;\">\n",
              "      <th></th>\n",
              "      <th>지점</th>\n",
              "      <th>지점명</th>\n",
              "      <th>일시</th>\n",
              "      <th>풍속</th>\n",
              "      <th>강수량</th>\n",
              "      <th>기온</th>\n",
              "      <th>국가</th>\n",
              "    </tr>\n",
              "  </thead>\n",
              "  <tbody>\n",
              "    <tr>\n",
              "      <th>0</th>\n",
              "      <td>50527</td>\n",
              "      <td>하일라르</td>\n",
              "      <td>2015-12-28</td>\n",
              "      <td>2.0</td>\n",
              "      <td>NaN</td>\n",
              "      <td>-28.8</td>\n",
              "      <td>중국</td>\n",
              "    </tr>\n",
              "    <tr>\n",
              "      <th>1</th>\n",
              "      <td>50527</td>\n",
              "      <td>하일라르</td>\n",
              "      <td>2015-12-28</td>\n",
              "      <td>2.0</td>\n",
              "      <td>NaN</td>\n",
              "      <td>-24.2</td>\n",
              "      <td>중국</td>\n",
              "    </tr>\n",
              "    <tr>\n",
              "      <th>2</th>\n",
              "      <td>50527</td>\n",
              "      <td>하일라르</td>\n",
              "      <td>2015-12-28</td>\n",
              "      <td>4.0</td>\n",
              "      <td>NaN</td>\n",
              "      <td>-26.6</td>\n",
              "      <td>중국</td>\n",
              "    </tr>\n",
              "    <tr>\n",
              "      <th>3</th>\n",
              "      <td>50527</td>\n",
              "      <td>하일라르</td>\n",
              "      <td>2015-12-28</td>\n",
              "      <td>3.0</td>\n",
              "      <td>NaN</td>\n",
              "      <td>-25.3</td>\n",
              "      <td>중국</td>\n",
              "    </tr>\n",
              "    <tr>\n",
              "      <th>4</th>\n",
              "      <td>50527</td>\n",
              "      <td>하일라르</td>\n",
              "      <td>2015-12-28</td>\n",
              "      <td>6.0</td>\n",
              "      <td>NaN</td>\n",
              "      <td>-29.5</td>\n",
              "      <td>중국</td>\n",
              "    </tr>\n",
              "    <tr>\n",
              "      <th>...</th>\n",
              "      <td>...</td>\n",
              "      <td>...</td>\n",
              "      <td>...</td>\n",
              "      <td>...</td>\n",
              "      <td>...</td>\n",
              "      <td>...</td>\n",
              "      <td>...</td>\n",
              "    </tr>\n",
              "    <tr>\n",
              "      <th>1115148</th>\n",
              "      <td>59981</td>\n",
              "      <td>시사다오</td>\n",
              "      <td>2021-06-28</td>\n",
              "      <td>7.0</td>\n",
              "      <td>NaN</td>\n",
              "      <td>30.8</td>\n",
              "      <td>중국</td>\n",
              "    </tr>\n",
              "    <tr>\n",
              "      <th>1115149</th>\n",
              "      <td>59981</td>\n",
              "      <td>시사다오</td>\n",
              "      <td>2021-06-28</td>\n",
              "      <td>4.0</td>\n",
              "      <td>NaN</td>\n",
              "      <td>29.5</td>\n",
              "      <td>중국</td>\n",
              "    </tr>\n",
              "    <tr>\n",
              "      <th>1115150</th>\n",
              "      <td>59981</td>\n",
              "      <td>시사다오</td>\n",
              "      <td>2021-06-28</td>\n",
              "      <td>3.0</td>\n",
              "      <td>NaN</td>\n",
              "      <td>29.2</td>\n",
              "      <td>중국</td>\n",
              "    </tr>\n",
              "    <tr>\n",
              "      <th>1115151</th>\n",
              "      <td>59981</td>\n",
              "      <td>시사다오</td>\n",
              "      <td>2021-06-28</td>\n",
              "      <td>6.0</td>\n",
              "      <td>NaN</td>\n",
              "      <td>29.2</td>\n",
              "      <td>중국</td>\n",
              "    </tr>\n",
              "    <tr>\n",
              "      <th>1115152</th>\n",
              "      <td>59981</td>\n",
              "      <td>시사다오</td>\n",
              "      <td>2021-06-28</td>\n",
              "      <td>5.0</td>\n",
              "      <td>NaN</td>\n",
              "      <td>29.2</td>\n",
              "      <td>중국</td>\n",
              "    </tr>\n",
              "  </tbody>\n",
              "</table>\n",
              "<p>155583 rows × 7 columns</p>\n",
              "</div>"
            ],
            "text/plain": [
              "            지점   지점명         일시   풍속  강수량    기온  국가\n",
              "0        50527  하일라르 2015-12-28  2.0  NaN -28.8  중국\n",
              "1        50527  하일라르 2015-12-28  2.0  NaN -24.2  중국\n",
              "2        50527  하일라르 2015-12-28  4.0  NaN -26.6  중국\n",
              "3        50527  하일라르 2015-12-28  3.0  NaN -25.3  중국\n",
              "4        50527  하일라르 2015-12-28  6.0  NaN -29.5  중국\n",
              "...        ...   ...        ...  ...  ...   ...  ..\n",
              "1115148  59981  시사다오 2021-06-28  7.0  NaN  30.8  중국\n",
              "1115149  59981  시사다오 2021-06-28  4.0  NaN  29.5  중국\n",
              "1115150  59981  시사다오 2021-06-28  3.0  NaN  29.2  중국\n",
              "1115151  59981  시사다오 2021-06-28  6.0  NaN  29.2  중국\n",
              "1115152  59981  시사다오 2021-06-28  5.0  NaN  29.2  중국\n",
              "\n",
              "[155583 rows x 7 columns]"
            ]
          },
          "metadata": {},
          "execution_count": 312
        }
      ]
    },
    {
      "cell_type": "code",
      "metadata": {
        "colab": {
          "base_uri": "https://localhost:8080/",
          "height": 279
        },
        "id": "t-gHQfvoimEd",
        "outputId": "70ec17ae-c4b4-4773-8c55-f4787dca13c0"
      },
      "source": [
        "sns.boxplot(data['강수량'].unique())\n",
        "plt.xlabel('강수량')\n",
        "plt.show()"
      ],
      "execution_count": 313,
      "outputs": [
        {
          "output_type": "display_data",
          "data": {
            "image/png": "[encoded data removed]",
            "text/plain": [
              "<Figure size 432x288 with 1 Axes>"
            ]
          },
          "metadata": {
            "needs_background": "light"
          }
        }
      ]
    },
    {
      "cell_type": "code",
      "metadata": {
        "colab": {
          "base_uri": "https://localhost:8080/",
          "height": 417
        },
        "id": "GB9DELxXioMf",
        "outputId": "7b778b4c-de0f-47bf-f8e5-6f1aeaa92393"
      },
      "source": [
        "data[data['강수량']<0] # 2% 비율이고 값을 알 수 없으므로 drop하기"
      ],
      "execution_count": 314,
      "outputs": [
        {
          "output_type": "execute_result",
          "data": {
            "text/html": [
              "<div>\n",
              "<style scoped>\n",
              "    .dataframe tbody tr th:only-of-type {\n",
              "        vertical-align: middle;\n",
              "    }\n",
              "\n",
              "    .dataframe tbody tr th {\n",
              "        vertical-align: top;\n",
              "    }\n",
              "\n",
              "    .dataframe thead th {\n",
              "        text-align: right;\n",
              "    }\n",
              "</style>\n",
              "<table border=\"1\" class=\"dataframe\">\n",
              "  <thead>\n",
              "    <tr style=\"text-align: right;\">\n",
              "      <th></th>\n",
              "      <th>지점</th>\n",
              "      <th>지점명</th>\n",
              "      <th>일시</th>\n",
              "      <th>풍속</th>\n",
              "      <th>강수량</th>\n",
              "      <th>기온</th>\n",
              "      <th>국가</th>\n",
              "    </tr>\n",
              "  </thead>\n",
              "  <tbody>\n",
              "    <tr>\n",
              "      <th>389</th>\n",
              "      <td>50527</td>\n",
              "      <td>하일라르</td>\n",
              "      <td>2016-02-15</td>\n",
              "      <td>3.0</td>\n",
              "      <td>-99.8</td>\n",
              "      <td>-16.6</td>\n",
              "      <td>중국</td>\n",
              "    </tr>\n",
              "    <tr>\n",
              "      <th>391</th>\n",
              "      <td>50527</td>\n",
              "      <td>하일라르</td>\n",
              "      <td>2016-02-15</td>\n",
              "      <td>4.0</td>\n",
              "      <td>-99.8</td>\n",
              "      <td>-14.5</td>\n",
              "      <td>중국</td>\n",
              "    </tr>\n",
              "    <tr>\n",
              "      <th>393</th>\n",
              "      <td>50527</td>\n",
              "      <td>하일라르</td>\n",
              "      <td>2016-02-15</td>\n",
              "      <td>5.0</td>\n",
              "      <td>-99.8</td>\n",
              "      <td>-19.1</td>\n",
              "      <td>중국</td>\n",
              "    </tr>\n",
              "    <tr>\n",
              "      <th>394</th>\n",
              "      <td>50527</td>\n",
              "      <td>하일라르</td>\n",
              "      <td>2016-02-15</td>\n",
              "      <td>3.0</td>\n",
              "      <td>-99.8</td>\n",
              "      <td>-18.0</td>\n",
              "      <td>중국</td>\n",
              "    </tr>\n",
              "    <tr>\n",
              "      <th>395</th>\n",
              "      <td>50527</td>\n",
              "      <td>하일라르</td>\n",
              "      <td>2016-02-15</td>\n",
              "      <td>3.0</td>\n",
              "      <td>-99.8</td>\n",
              "      <td>-18.2</td>\n",
              "      <td>중국</td>\n",
              "    </tr>\n",
              "    <tr>\n",
              "      <th>...</th>\n",
              "      <td>...</td>\n",
              "      <td>...</td>\n",
              "      <td>...</td>\n",
              "      <td>...</td>\n",
              "      <td>...</td>\n",
              "      <td>...</td>\n",
              "      <td>...</td>\n",
              "    </tr>\n",
              "    <tr>\n",
              "      <th>1100479</th>\n",
              "      <td>58027</td>\n",
              "      <td>쉬저우</td>\n",
              "      <td>2021-02-08</td>\n",
              "      <td>3.0</td>\n",
              "      <td>-999.0</td>\n",
              "      <td>1.6</td>\n",
              "      <td>중국</td>\n",
              "    </tr>\n",
              "    <tr>\n",
              "      <th>1101579</th>\n",
              "      <td>58238</td>\n",
              "      <td>난징</td>\n",
              "      <td>2021-04-19</td>\n",
              "      <td>5.0</td>\n",
              "      <td>-999.0</td>\n",
              "      <td>14.9</td>\n",
              "      <td>중국</td>\n",
              "    </tr>\n",
              "    <tr>\n",
              "      <th>1105478</th>\n",
              "      <td>58666</td>\n",
              "      <td>다천다오</td>\n",
              "      <td>2021-02-08</td>\n",
              "      <td>10.0</td>\n",
              "      <td>-999.0</td>\n",
              "      <td>7.3</td>\n",
              "      <td>중국</td>\n",
              "    </tr>\n",
              "    <tr>\n",
              "      <th>1113583</th>\n",
              "      <td>59948</td>\n",
              "      <td>야샨</td>\n",
              "      <td>2021-02-08</td>\n",
              "      <td>8.0</td>\n",
              "      <td>-999.0</td>\n",
              "      <td>19.2</td>\n",
              "      <td>중국</td>\n",
              "    </tr>\n",
              "    <tr>\n",
              "      <th>1114601</th>\n",
              "      <td>59981</td>\n",
              "      <td>시사다오</td>\n",
              "      <td>2021-02-08</td>\n",
              "      <td>3.0</td>\n",
              "      <td>-999.0</td>\n",
              "      <td>23.5</td>\n",
              "      <td>중국</td>\n",
              "    </tr>\n",
              "  </tbody>\n",
              "</table>\n",
              "<p>3669 rows × 7 columns</p>\n",
              "</div>"
            ],
            "text/plain": [
              "            지점   지점명         일시    풍속    강수량    기온  국가\n",
              "389      50527  하일라르 2016-02-15   3.0  -99.8 -16.6  중국\n",
              "391      50527  하일라르 2016-02-15   4.0  -99.8 -14.5  중국\n",
              "393      50527  하일라르 2016-02-15   5.0  -99.8 -19.1  중국\n",
              "394      50527  하일라르 2016-02-15   3.0  -99.8 -18.0  중국\n",
              "395      50527  하일라르 2016-02-15   3.0  -99.8 -18.2  중국\n",
              "...        ...   ...        ...   ...    ...   ...  ..\n",
              "1100479  58027   쉬저우 2021-02-08   3.0 -999.0   1.6  중국\n",
              "1101579  58238    난징 2021-04-19   5.0 -999.0  14.9  중국\n",
              "1105478  58666  다천다오 2021-02-08  10.0 -999.0   7.3  중국\n",
              "1113583  59948    야샨 2021-02-08   8.0 -999.0  19.2  중국\n",
              "1114601  59981  시사다오 2021-02-08   3.0 -999.0  23.5  중국\n",
              "\n",
              "[3669 rows x 7 columns]"
            ]
          },
          "metadata": {},
          "execution_count": 314
        }
      ]
    },
    {
      "cell_type": "code",
      "metadata": {
        "colab": {
          "base_uri": "https://localhost:8080/",
          "height": 417
        },
        "id": "OGbdu1dOip7T",
        "outputId": "bd231e54-9a86-477b-bc9f-cd5dc3cf7e61"
      },
      "source": [
        "data = data[(data['강수량']>=0) | (data['강수량'].isna())] # 강수량 음수 제거\n",
        "\n",
        "data"
      ],
      "execution_count": 315,
      "outputs": [
        {
          "output_type": "execute_result",
          "data": {
            "text/html": [
              "<div>\n",
              "<style scoped>\n",
              "    .dataframe tbody tr th:only-of-type {\n",
              "        vertical-align: middle;\n",
              "    }\n",
              "\n",
              "    .dataframe tbody tr th {\n",
              "        vertical-align: top;\n",
              "    }\n",
              "\n",
              "    .dataframe thead th {\n",
              "        text-align: right;\n",
              "    }\n",
              "</style>\n",
              "<table border=\"1\" class=\"dataframe\">\n",
              "  <thead>\n",
              "    <tr style=\"text-align: right;\">\n",
              "      <th></th>\n",
              "      <th>지점</th>\n",
              "      <th>지점명</th>\n",
              "      <th>일시</th>\n",
              "      <th>풍속</th>\n",
              "      <th>강수량</th>\n",
              "      <th>기온</th>\n",
              "      <th>국가</th>\n",
              "    </tr>\n",
              "  </thead>\n",
              "  <tbody>\n",
              "    <tr>\n",
              "      <th>0</th>\n",
              "      <td>50527</td>\n",
              "      <td>하일라르</td>\n",
              "      <td>2015-12-28</td>\n",
              "      <td>2.0</td>\n",
              "      <td>NaN</td>\n",
              "      <td>-28.8</td>\n",
              "      <td>중국</td>\n",
              "    </tr>\n",
              "    <tr>\n",
              "      <th>1</th>\n",
              "      <td>50527</td>\n",
              "      <td>하일라르</td>\n",
              "      <td>2015-12-28</td>\n",
              "      <td>2.0</td>\n",
              "      <td>NaN</td>\n",
              "      <td>-24.2</td>\n",
              "      <td>중국</td>\n",
              "    </tr>\n",
              "    <tr>\n",
              "      <th>2</th>\n",
              "      <td>50527</td>\n",
              "      <td>하일라르</td>\n",
              "      <td>2015-12-28</td>\n",
              "      <td>4.0</td>\n",
              "      <td>NaN</td>\n",
              "      <td>-26.6</td>\n",
              "      <td>중국</td>\n",
              "    </tr>\n",
              "    <tr>\n",
              "      <th>3</th>\n",
              "      <td>50527</td>\n",
              "      <td>하일라르</td>\n",
              "      <td>2015-12-28</td>\n",
              "      <td>3.0</td>\n",
              "      <td>NaN</td>\n",
              "      <td>-25.3</td>\n",
              "      <td>중국</td>\n",
              "    </tr>\n",
              "    <tr>\n",
              "      <th>4</th>\n",
              "      <td>50527</td>\n",
              "      <td>하일라르</td>\n",
              "      <td>2015-12-28</td>\n",
              "      <td>6.0</td>\n",
              "      <td>NaN</td>\n",
              "      <td>-29.5</td>\n",
              "      <td>중국</td>\n",
              "    </tr>\n",
              "    <tr>\n",
              "      <th>...</th>\n",
              "      <td>...</td>\n",
              "      <td>...</td>\n",
              "      <td>...</td>\n",
              "      <td>...</td>\n",
              "      <td>...</td>\n",
              "      <td>...</td>\n",
              "      <td>...</td>\n",
              "    </tr>\n",
              "    <tr>\n",
              "      <th>1115148</th>\n",
              "      <td>59981</td>\n",
              "      <td>시사다오</td>\n",
              "      <td>2021-06-28</td>\n",
              "      <td>7.0</td>\n",
              "      <td>NaN</td>\n",
              "      <td>30.8</td>\n",
              "      <td>중국</td>\n",
              "    </tr>\n",
              "    <tr>\n",
              "      <th>1115149</th>\n",
              "      <td>59981</td>\n",
              "      <td>시사다오</td>\n",
              "      <td>2021-06-28</td>\n",
              "      <td>4.0</td>\n",
              "      <td>NaN</td>\n",
              "      <td>29.5</td>\n",
              "      <td>중국</td>\n",
              "    </tr>\n",
              "    <tr>\n",
              "      <th>1115150</th>\n",
              "      <td>59981</td>\n",
              "      <td>시사다오</td>\n",
              "      <td>2021-06-28</td>\n",
              "      <td>3.0</td>\n",
              "      <td>NaN</td>\n",
              "      <td>29.2</td>\n",
              "      <td>중국</td>\n",
              "    </tr>\n",
              "    <tr>\n",
              "      <th>1115151</th>\n",
              "      <td>59981</td>\n",
              "      <td>시사다오</td>\n",
              "      <td>2021-06-28</td>\n",
              "      <td>6.0</td>\n",
              "      <td>NaN</td>\n",
              "      <td>29.2</td>\n",
              "      <td>중국</td>\n",
              "    </tr>\n",
              "    <tr>\n",
              "      <th>1115152</th>\n",
              "      <td>59981</td>\n",
              "      <td>시사다오</td>\n",
              "      <td>2021-06-28</td>\n",
              "      <td>5.0</td>\n",
              "      <td>NaN</td>\n",
              "      <td>29.2</td>\n",
              "      <td>중국</td>\n",
              "    </tr>\n",
              "  </tbody>\n",
              "</table>\n",
              "<p>151914 rows × 7 columns</p>\n",
              "</div>"
            ],
            "text/plain": [
              "            지점   지점명         일시   풍속  강수량    기온  국가\n",
              "0        50527  하일라르 2015-12-28  2.0  NaN -28.8  중국\n",
              "1        50527  하일라르 2015-12-28  2.0  NaN -24.2  중국\n",
              "2        50527  하일라르 2015-12-28  4.0  NaN -26.6  중국\n",
              "3        50527  하일라르 2015-12-28  3.0  NaN -25.3  중국\n",
              "4        50527  하일라르 2015-12-28  6.0  NaN -29.5  중국\n",
              "...        ...   ...        ...  ...  ...   ...  ..\n",
              "1115148  59981  시사다오 2021-06-28  7.0  NaN  30.8  중국\n",
              "1115149  59981  시사다오 2021-06-28  4.0  NaN  29.5  중국\n",
              "1115150  59981  시사다오 2021-06-28  3.0  NaN  29.2  중국\n",
              "1115151  59981  시사다오 2021-06-28  6.0  NaN  29.2  중국\n",
              "1115152  59981  시사다오 2021-06-28  5.0  NaN  29.2  중국\n",
              "\n",
              "[151914 rows x 7 columns]"
            ]
          },
          "metadata": {},
          "execution_count": 315
        }
      ]
    },
    {
      "cell_type": "code",
      "metadata": {
        "colab": {
          "base_uri": "https://localhost:8080/",
          "height": 279
        },
        "id": "aQ9hLWOaisBT",
        "outputId": "650ddd81-a4a0-4bfe-d3a4-fff71bfeb6ba"
      },
      "source": [
        "sns.boxplot(data['풍속'].unique())\n",
        "plt.xlabel('풍속')\n",
        "plt.show()\n",
        "\n",
        "# 이상치 없음."
      ],
      "execution_count": 316,
      "outputs": [
        {
          "output_type": "display_data",
          "data": {
            "image/png": "[encoded data removed]",
            "text/plain": [
              "<Figure size 432x288 with 1 Axes>"
            ]
          },
          "metadata": {
            "needs_background": "light"
          }
        }
      ]
    },
    {
      "cell_type": "code",
      "metadata": {
        "colab": {
          "base_uri": "https://localhost:8080/",
          "height": 279
        },
        "id": "GmLgVegWit_r",
        "outputId": "82051a37-7343-4802-c9cd-f5cd31c681ce"
      },
      "source": [
        "sns.boxplot(data['기온'].unique())\n",
        "plt.xlabel('기온')\n",
        "plt.show()\n",
        "\n",
        "# 이상치 없음."
      ],
      "execution_count": 317,
      "outputs": [
        {
          "output_type": "display_data",
          "data": {
            "image/png": "[encoded data removed]",
            "text/plain": [
              "<Figure size 432x288 with 1 Axes>"
            ]
          },
          "metadata": {
            "needs_background": "light"
          }
        }
      ]
    },
    {
      "cell_type": "code",
      "metadata": {
        "colab": {
          "base_uri": "https://localhost:8080/",
          "height": 447
        },
        "id": "BGUWQte8ivV2",
        "outputId": "34974802-848b-4a23-bd18-65221ac83df8"
      },
      "source": [
        "chn_rwt = pd.DataFrame(data.groupby('일시').mean())\n",
        "\n",
        "chn_rwt = chn_rwt[['풍속','강수량','기온']]\n",
        "\n",
        "chn_rwt"
      ],
      "execution_count": 318,
      "outputs": [
        {
          "output_type": "execute_result",
          "data": {
            "text/html": [
              "<div>\n",
              "<style scoped>\n",
              "    .dataframe tbody tr th:only-of-type {\n",
              "        vertical-align: middle;\n",
              "    }\n",
              "\n",
              "    .dataframe tbody tr th {\n",
              "        vertical-align: top;\n",
              "    }\n",
              "\n",
              "    .dataframe thead th {\n",
              "        text-align: right;\n",
              "    }\n",
              "</style>\n",
              "<table border=\"1\" class=\"dataframe\">\n",
              "  <thead>\n",
              "    <tr style=\"text-align: right;\">\n",
              "      <th></th>\n",
              "      <th>풍속</th>\n",
              "      <th>강수량</th>\n",
              "      <th>기온</th>\n",
              "    </tr>\n",
              "    <tr>\n",
              "      <th>일시</th>\n",
              "      <th></th>\n",
              "      <th></th>\n",
              "      <th></th>\n",
              "    </tr>\n",
              "  </thead>\n",
              "  <tbody>\n",
              "    <tr>\n",
              "      <th>2015-12-28</th>\n",
              "      <td>2.338129</td>\n",
              "      <td>0.708333</td>\n",
              "      <td>-0.262050</td>\n",
              "    </tr>\n",
              "    <tr>\n",
              "      <th>2016-01-04</th>\n",
              "      <td>2.358491</td>\n",
              "      <td>2.372093</td>\n",
              "      <td>0.026772</td>\n",
              "    </tr>\n",
              "    <tr>\n",
              "      <th>2016-01-11</th>\n",
              "      <td>2.552050</td>\n",
              "      <td>1.794366</td>\n",
              "      <td>-2.603943</td>\n",
              "    </tr>\n",
              "    <tr>\n",
              "      <th>2016-01-18</th>\n",
              "      <td>2.481132</td>\n",
              "      <td>1.052778</td>\n",
              "      <td>-3.982704</td>\n",
              "    </tr>\n",
              "    <tr>\n",
              "      <th>2016-01-25</th>\n",
              "      <td>2.214173</td>\n",
              "      <td>0.525000</td>\n",
              "      <td>-6.559213</td>\n",
              "    </tr>\n",
              "    <tr>\n",
              "      <th>...</th>\n",
              "      <td>...</td>\n",
              "      <td>...</td>\n",
              "      <td>...</td>\n",
              "    </tr>\n",
              "    <tr>\n",
              "      <th>2021-05-31</th>\n",
              "      <td>2.718799</td>\n",
              "      <td>5.530818</td>\n",
              "      <td>20.851501</td>\n",
              "    </tr>\n",
              "    <tr>\n",
              "      <th>2021-06-07</th>\n",
              "      <td>2.575277</td>\n",
              "      <td>6.135652</td>\n",
              "      <td>22.328051</td>\n",
              "    </tr>\n",
              "    <tr>\n",
              "      <th>2021-06-14</th>\n",
              "      <td>2.808847</td>\n",
              "      <td>6.745064</td>\n",
              "      <td>22.666352</td>\n",
              "    </tr>\n",
              "    <tr>\n",
              "      <th>2021-06-21</th>\n",
              "      <td>2.229642</td>\n",
              "      <td>7.475862</td>\n",
              "      <td>22.965961</td>\n",
              "    </tr>\n",
              "    <tr>\n",
              "      <th>2021-06-28</th>\n",
              "      <td>2.293930</td>\n",
              "      <td>10.386667</td>\n",
              "      <td>23.971086</td>\n",
              "    </tr>\n",
              "  </tbody>\n",
              "</table>\n",
              "<p>288 rows × 3 columns</p>\n",
              "</div>"
            ],
            "text/plain": [
              "                  풍속        강수량         기온\n",
              "일시                                        \n",
              "2015-12-28  2.338129   0.708333  -0.262050\n",
              "2016-01-04  2.358491   2.372093   0.026772\n",
              "2016-01-11  2.552050   1.794366  -2.603943\n",
              "2016-01-18  2.481132   1.052778  -3.982704\n",
              "2016-01-25  2.214173   0.525000  -6.559213\n",
              "...              ...        ...        ...\n",
              "2021-05-31  2.718799   5.530818  20.851501\n",
              "2021-06-07  2.575277   6.135652  22.328051\n",
              "2021-06-14  2.808847   6.745064  22.666352\n",
              "2021-06-21  2.229642   7.475862  22.965961\n",
              "2021-06-28  2.293930  10.386667  23.971086\n",
              "\n",
              "[288 rows x 3 columns]"
            ]
          },
          "metadata": {},
          "execution_count": 318
        }
      ]
    },
    {
      "cell_type": "code",
      "metadata": {
        "colab": {
          "base_uri": "https://localhost:8080/",
          "height": 295
        },
        "id": "4q9UIJDTiwh_",
        "outputId": "cc60164a-69d4-4aae-9331-12bd55df79df"
      },
      "source": [
        "chn_rwt.describe()"
      ],
      "execution_count": 319,
      "outputs": [
        {
          "output_type": "execute_result",
          "data": {
            "text/html": [
              "<div>\n",
              "<style scoped>\n",
              "    .dataframe tbody tr th:only-of-type {\n",
              "        vertical-align: middle;\n",
              "    }\n",
              "\n",
              "    .dataframe tbody tr th {\n",
              "        vertical-align: top;\n",
              "    }\n",
              "\n",
              "    .dataframe thead th {\n",
              "        text-align: right;\n",
              "    }\n",
              "</style>\n",
              "<table border=\"1\" class=\"dataframe\">\n",
              "  <thead>\n",
              "    <tr style=\"text-align: right;\">\n",
              "      <th></th>\n",
              "      <th>풍속</th>\n",
              "      <th>강수량</th>\n",
              "      <th>기온</th>\n",
              "    </tr>\n",
              "  </thead>\n",
              "  <tbody>\n",
              "    <tr>\n",
              "      <th>count</th>\n",
              "      <td>288.000000</td>\n",
              "      <td>287.000000</td>\n",
              "      <td>288.000000</td>\n",
              "    </tr>\n",
              "    <tr>\n",
              "      <th>mean</th>\n",
              "      <td>2.441163</td>\n",
              "      <td>3.006765</td>\n",
              "      <td>12.015510</td>\n",
              "    </tr>\n",
              "    <tr>\n",
              "      <th>std</th>\n",
              "      <td>0.286882</td>\n",
              "      <td>2.139905</td>\n",
              "      <td>9.517001</td>\n",
              "    </tr>\n",
              "    <tr>\n",
              "      <th>min</th>\n",
              "      <td>1.771739</td>\n",
              "      <td>0.033333</td>\n",
              "      <td>-6.559213</td>\n",
              "    </tr>\n",
              "    <tr>\n",
              "      <th>25%</th>\n",
              "      <td>2.250591</td>\n",
              "      <td>1.510653</td>\n",
              "      <td>3.128850</td>\n",
              "    </tr>\n",
              "    <tr>\n",
              "      <th>50%</th>\n",
              "      <td>2.406681</td>\n",
              "      <td>2.604167</td>\n",
              "      <td>13.320644</td>\n",
              "    </tr>\n",
              "    <tr>\n",
              "      <th>75%</th>\n",
              "      <td>2.593325</td>\n",
              "      <td>4.041554</td>\n",
              "      <td>21.004752</td>\n",
              "    </tr>\n",
              "    <tr>\n",
              "      <th>max</th>\n",
              "      <td>4.026316</td>\n",
              "      <td>12.142105</td>\n",
              "      <td>26.110147</td>\n",
              "    </tr>\n",
              "  </tbody>\n",
              "</table>\n",
              "</div>"
            ],
            "text/plain": [
              "               풍속         강수량          기온\n",
              "count  288.000000  287.000000  288.000000\n",
              "mean     2.441163    3.006765   12.015510\n",
              "std      0.286882    2.139905    9.517001\n",
              "min      1.771739    0.033333   -6.559213\n",
              "25%      2.250591    1.510653    3.128850\n",
              "50%      2.406681    2.604167   13.320644\n",
              "75%      2.593325    4.041554   21.004752\n",
              "max      4.026316   12.142105   26.110147"
            ]
          },
          "metadata": {},
          "execution_count": 319
        }
      ]
    },
    {
      "cell_type": "code",
      "metadata": {
        "colab": {
          "base_uri": "https://localhost:8080/"
        },
        "id": "wuSlXSkqiyYW",
        "outputId": "764c64ce-64b9-4e27-fa51-f1a7bb4b87c5"
      },
      "source": [
        "chn_rwt.isna().sum()"
      ],
      "execution_count": 320,
      "outputs": [
        {
          "output_type": "execute_result",
          "data": {
            "text/plain": [
              "풍속     0\n",
              "강수량    1\n",
              "기온     0\n",
              "dtype: int64"
            ]
          },
          "metadata": {},
          "execution_count": 320
        }
      ]
    },
    {
      "cell_type": "code",
      "metadata": {
        "colab": {
          "base_uri": "https://localhost:8080/",
          "height": 447
        },
        "id": "z9WhqrwIi0AD",
        "outputId": "bc467aff-52bd-40fc-ac85-41a8fcd0766d"
      },
      "source": [
        "chn_rwt['일시'] = chn_rwt.index\n",
        "\n",
        "chn_rwt"
      ],
      "execution_count": 321,
      "outputs": [
        {
          "output_type": "execute_result",
          "data": {
            "text/html": [
              "<div>\n",
              "<style scoped>\n",
              "    .dataframe tbody tr th:only-of-type {\n",
              "        vertical-align: middle;\n",
              "    }\n",
              "\n",
              "    .dataframe tbody tr th {\n",
              "        vertical-align: top;\n",
              "    }\n",
              "\n",
              "    .dataframe thead th {\n",
              "        text-align: right;\n",
              "    }\n",
              "</style>\n",
              "<table border=\"1\" class=\"dataframe\">\n",
              "  <thead>\n",
              "    <tr style=\"text-align: right;\">\n",
              "      <th></th>\n",
              "      <th>풍속</th>\n",
              "      <th>강수량</th>\n",
              "      <th>기온</th>\n",
              "      <th>일시</th>\n",
              "    </tr>\n",
              "    <tr>\n",
              "      <th>일시</th>\n",
              "      <th></th>\n",
              "      <th></th>\n",
              "      <th></th>\n",
              "      <th></th>\n",
              "    </tr>\n",
              "  </thead>\n",
              "  <tbody>\n",
              "    <tr>\n",
              "      <th>2015-12-28</th>\n",
              "      <td>2.338129</td>\n",
              "      <td>0.708333</td>\n",
              "      <td>-0.262050</td>\n",
              "      <td>2015-12-28</td>\n",
              "    </tr>\n",
              "    <tr>\n",
              "      <th>2016-01-04</th>\n",
              "      <td>2.358491</td>\n",
              "      <td>2.372093</td>\n",
              "      <td>0.026772</td>\n",
              "      <td>2016-01-04</td>\n",
              "    </tr>\n",
              "    <tr>\n",
              "      <th>2016-01-11</th>\n",
              "      <td>2.552050</td>\n",
              "      <td>1.794366</td>\n",
              "      <td>-2.603943</td>\n",
              "      <td>2016-01-11</td>\n",
              "    </tr>\n",
              "    <tr>\n",
              "      <th>2016-01-18</th>\n",
              "      <td>2.481132</td>\n",
              "      <td>1.052778</td>\n",
              "      <td>-3.982704</td>\n",
              "      <td>2016-01-18</td>\n",
              "    </tr>\n",
              "    <tr>\n",
              "      <th>2016-01-25</th>\n",
              "      <td>2.214173</td>\n",
              "      <td>0.525000</td>\n",
              "      <td>-6.559213</td>\n",
              "      <td>2016-01-25</td>\n",
              "    </tr>\n",
              "    <tr>\n",
              "      <th>...</th>\n",
              "      <td>...</td>\n",
              "      <td>...</td>\n",
              "      <td>...</td>\n",
              "      <td>...</td>\n",
              "    </tr>\n",
              "    <tr>\n",
              "      <th>2021-05-31</th>\n",
              "      <td>2.718799</td>\n",
              "      <td>5.530818</td>\n",
              "      <td>20.851501</td>\n",
              "      <td>2021-05-31</td>\n",
              "    </tr>\n",
              "    <tr>\n",
              "      <th>2021-06-07</th>\n",
              "      <td>2.575277</td>\n",
              "      <td>6.135652</td>\n",
              "      <td>22.328051</td>\n",
              "      <td>2021-06-07</td>\n",
              "    </tr>\n",
              "    <tr>\n",
              "      <th>2021-06-14</th>\n",
              "      <td>2.808847</td>\n",
              "      <td>6.745064</td>\n",
              "      <td>22.666352</td>\n",
              "      <td>2021-06-14</td>\n",
              "    </tr>\n",
              "    <tr>\n",
              "      <th>2021-06-21</th>\n",
              "      <td>2.229642</td>\n",
              "      <td>7.475862</td>\n",
              "      <td>22.965961</td>\n",
              "      <td>2021-06-21</td>\n",
              "    </tr>\n",
              "    <tr>\n",
              "      <th>2021-06-28</th>\n",
              "      <td>2.293930</td>\n",
              "      <td>10.386667</td>\n",
              "      <td>23.971086</td>\n",
              "      <td>2021-06-28</td>\n",
              "    </tr>\n",
              "  </tbody>\n",
              "</table>\n",
              "<p>288 rows × 4 columns</p>\n",
              "</div>"
            ],
            "text/plain": [
              "                  풍속        강수량         기온         일시\n",
              "일시                                                   \n",
              "2015-12-28  2.338129   0.708333  -0.262050 2015-12-28\n",
              "2016-01-04  2.358491   2.372093   0.026772 2016-01-04\n",
              "2016-01-11  2.552050   1.794366  -2.603943 2016-01-11\n",
              "2016-01-18  2.481132   1.052778  -3.982704 2016-01-18\n",
              "2016-01-25  2.214173   0.525000  -6.559213 2016-01-25\n",
              "...              ...        ...        ...        ...\n",
              "2021-05-31  2.718799   5.530818  20.851501 2021-05-31\n",
              "2021-06-07  2.575277   6.135652  22.328051 2021-06-07\n",
              "2021-06-14  2.808847   6.745064  22.666352 2021-06-14\n",
              "2021-06-21  2.229642   7.475862  22.965961 2021-06-21\n",
              "2021-06-28  2.293930  10.386667  23.971086 2021-06-28\n",
              "\n",
              "[288 rows x 4 columns]"
            ]
          },
          "metadata": {},
          "execution_count": 321
        }
      ]
    },
    {
      "cell_type": "code",
      "metadata": {
        "colab": {
          "base_uri": "https://localhost:8080/"
        },
        "id": "06hP0eL0i1RQ",
        "outputId": "0280630d-1320-4a70-9438-651330bf12ce"
      },
      "source": [
        "chn_rwt['일시'] = chn_rwt['일시'].astype('string')\n",
        "\n",
        "rain_2102 = chn_rwt[chn_rwt['일시'].str.contains('2021-02')].mean()['강수량'] # 2021년 2월 강수량 평균으로 결측값 대치\n",
        "\n",
        "chn_rwt = chn_rwt.fillna(rain_2102)\n",
        "\n",
        "chn_rwt.isna().sum()"
      ],
      "execution_count": 322,
      "outputs": [
        {
          "output_type": "execute_result",
          "data": {
            "text/plain": [
              "풍속     0\n",
              "강수량    0\n",
              "기온     0\n",
              "일시     0\n",
              "dtype: int64"
            ]
          },
          "metadata": {},
          "execution_count": 322
        }
      ]
    },
    {
      "cell_type": "code",
      "metadata": {
        "colab": {
          "base_uri": "https://localhost:8080/",
          "height": 447
        },
        "id": "1xPMRIzFi2RP",
        "outputId": "8dec9e02-29dc-41df-de65-11eb9040ec2e"
      },
      "source": [
        "chn_rwt.drop('일시',axis=1,inplace=True)\n",
        "\n",
        "chn_rwt"
      ],
      "execution_count": 323,
      "outputs": [
        {
          "output_type": "execute_result",
          "data": {
            "text/html": [
              "<div>\n",
              "<style scoped>\n",
              "    .dataframe tbody tr th:only-of-type {\n",
              "        vertical-align: middle;\n",
              "    }\n",
              "\n",
              "    .dataframe tbody tr th {\n",
              "        vertical-align: top;\n",
              "    }\n",
              "\n",
              "    .dataframe thead th {\n",
              "        text-align: right;\n",
              "    }\n",
              "</style>\n",
              "<table border=\"1\" class=\"dataframe\">\n",
              "  <thead>\n",
              "    <tr style=\"text-align: right;\">\n",
              "      <th></th>\n",
              "      <th>풍속</th>\n",
              "      <th>강수량</th>\n",
              "      <th>기온</th>\n",
              "    </tr>\n",
              "    <tr>\n",
              "      <th>일시</th>\n",
              "      <th></th>\n",
              "      <th></th>\n",
              "      <th></th>\n",
              "    </tr>\n",
              "  </thead>\n",
              "  <tbody>\n",
              "    <tr>\n",
              "      <th>2015-12-28</th>\n",
              "      <td>2.338129</td>\n",
              "      <td>0.708333</td>\n",
              "      <td>-0.262050</td>\n",
              "    </tr>\n",
              "    <tr>\n",
              "      <th>2016-01-04</th>\n",
              "      <td>2.358491</td>\n",
              "      <td>2.372093</td>\n",
              "      <td>0.026772</td>\n",
              "    </tr>\n",
              "    <tr>\n",
              "      <th>2016-01-11</th>\n",
              "      <td>2.552050</td>\n",
              "      <td>1.794366</td>\n",
              "      <td>-2.603943</td>\n",
              "    </tr>\n",
              "    <tr>\n",
              "      <th>2016-01-18</th>\n",
              "      <td>2.481132</td>\n",
              "      <td>1.052778</td>\n",
              "      <td>-3.982704</td>\n",
              "    </tr>\n",
              "    <tr>\n",
              "      <th>2016-01-25</th>\n",
              "      <td>2.214173</td>\n",
              "      <td>0.525000</td>\n",
              "      <td>-6.559213</td>\n",
              "    </tr>\n",
              "    <tr>\n",
              "      <th>...</th>\n",
              "      <td>...</td>\n",
              "      <td>...</td>\n",
              "      <td>...</td>\n",
              "    </tr>\n",
              "    <tr>\n",
              "      <th>2021-05-31</th>\n",
              "      <td>2.718799</td>\n",
              "      <td>5.530818</td>\n",
              "      <td>20.851501</td>\n",
              "    </tr>\n",
              "    <tr>\n",
              "      <th>2021-06-07</th>\n",
              "      <td>2.575277</td>\n",
              "      <td>6.135652</td>\n",
              "      <td>22.328051</td>\n",
              "    </tr>\n",
              "    <tr>\n",
              "      <th>2021-06-14</th>\n",
              "      <td>2.808847</td>\n",
              "      <td>6.745064</td>\n",
              "      <td>22.666352</td>\n",
              "    </tr>\n",
              "    <tr>\n",
              "      <th>2021-06-21</th>\n",
              "      <td>2.229642</td>\n",
              "      <td>7.475862</td>\n",
              "      <td>22.965961</td>\n",
              "    </tr>\n",
              "    <tr>\n",
              "      <th>2021-06-28</th>\n",
              "      <td>2.293930</td>\n",
              "      <td>10.386667</td>\n",
              "      <td>23.971086</td>\n",
              "    </tr>\n",
              "  </tbody>\n",
              "</table>\n",
              "<p>288 rows × 3 columns</p>\n",
              "</div>"
            ],
            "text/plain": [
              "                  풍속        강수량         기온\n",
              "일시                                        \n",
              "2015-12-28  2.338129   0.708333  -0.262050\n",
              "2016-01-04  2.358491   2.372093   0.026772\n",
              "2016-01-11  2.552050   1.794366  -2.603943\n",
              "2016-01-18  2.481132   1.052778  -3.982704\n",
              "2016-01-25  2.214173   0.525000  -6.559213\n",
              "...              ...        ...        ...\n",
              "2021-05-31  2.718799   5.530818  20.851501\n",
              "2021-06-07  2.575277   6.135652  22.328051\n",
              "2021-06-14  2.808847   6.745064  22.666352\n",
              "2021-06-21  2.229642   7.475862  22.965961\n",
              "2021-06-28  2.293930  10.386667  23.971086\n",
              "\n",
              "[288 rows x 3 columns]"
            ]
          },
          "metadata": {},
          "execution_count": 323
        }
      ]
    },
    {
      "cell_type": "code",
      "metadata": {
        "id": "LY_d__2Wi6sM"
      },
      "source": [
        ""
      ],
      "execution_count": null,
      "outputs": []
    },
    {
      "cell_type": "markdown",
      "metadata": {
        "id": "6Bcx08HU7TKr"
      },
      "source": [
        "## Add to Training Data"
      ]
    },
    {
      "cell_type": "code",
      "metadata": {
        "id": "eya8U1xR7TKr"
      },
      "source": [
        "df_train = pd.merge(df_train, df_weather, how='left', on=['year', 'month', 'day', 'CTRY_1'])"
      ],
      "execution_count": null,
      "outputs": []
    },
    {
      "cell_type": "code",
      "metadata": {
        "id": "NGACU4IW7TKr"
      },
      "source": [
        "pd.set_option(\"display.max_columns\", None)\n",
        "df_train.sample(5)"
      ],
      "execution_count": null,
      "outputs": []
    },
    {
      "cell_type": "markdown",
      "metadata": {
        "id": "351DAvcP7TKs"
      },
      "source": [
        "---"
      ]
    },
    {
      "cell_type": "markdown",
      "metadata": {
        "id": "gp3zCFeg7TKs"
      },
      "source": [
        "# Salinity"
      ]
    },
    {
      "cell_type": "markdown",
      "metadata": {
        "id": "600RYV_S7TKs"
      },
      "source": [
        "## Import Data"
      ]
    },
    {
      "cell_type": "code",
      "metadata": {
        "id": "hiXlsChx7TKs"
      },
      "source": [
        "# df_salinity = pd.read_csv(os.path.join(root, 'raw_salinity.csv'))"
      ],
      "execution_count": null,
      "outputs": []
    },
    {
      "cell_type": "markdown",
      "metadata": {
        "id": "5nG6S2767TKs"
      },
      "source": [
        "## Drop Columns & Rows"
      ]
    },
    {
      "cell_type": "code",
      "metadata": {
        "id": "OiA00iG97TKs"
      },
      "source": [
        "# df_salinity.drop(df_salinity.columns[2], inplace=True, axis=1)\n",
        "# df_salinity = df_salinity[(2015 <= df_salinity['obs_year']) & (df_salinity['obs_year'] <= 2021)]"
      ],
      "execution_count": null,
      "outputs": []
    },
    {
      "cell_type": "markdown",
      "metadata": {
        "id": "L65N0d8w7TKs"
      },
      "source": [
        "2020, 2021 데이터의 부재로 인해 보류"
      ]
    },
    {
      "cell_type": "markdown",
      "metadata": {
        "id": "_HH1O6bj7TKs"
      },
      "source": [
        "---"
      ]
    },
    {
      "cell_type": "markdown",
      "metadata": {
        "id": "acx-1jLF7TKt"
      },
      "source": [
        "# Oil"
      ]
    },
    {
      "cell_type": "markdown",
      "metadata": {
        "id": "oCJclrSZ7TKt"
      },
      "source": [
        "## Import Data"
      ]
    },
    {
      "cell_type": "code",
      "metadata": {
        "id": "rZoXA4Hq7TKt"
      },
      "source": [
        "df_oil = pd.read_csv(os.path.join(root, 'raw_oil.csv'))\n",
        "df_oil_dubai = pd.read_csv(os.path.join(root, 'raw_oil_dubai.csv'))\n",
        "df_oil_brent = pd.read_csv(os.path.join(root, 'raw_oil_brent.csv'))"
      ],
      "execution_count": null,
      "outputs": []
    },
    {
      "cell_type": "markdown",
      "metadata": {
        "id": "r5qohDxB7TKt"
      },
      "source": [
        "## Preprocess"
      ]
    },
    {
      "cell_type": "code",
      "metadata": {
        "id": "B6fv1TdP7TKt"
      },
      "source": [
        "def preprocess_oil(df):\n",
        "    df['year'] = df['날짜'].str[:4].astype('int')\n",
        "    df['month'] = df['날짜'].str[6:8].astype('int')\n",
        "    df['day'] = df['날짜'].str[10:12].astype('int')\n",
        "#     df['date'] = pd.to_datetime(df['날짜'].str[:4] + df['날짜'].str[6:8] + df['날짜'].str[10:12])\n",
        "#     df = df.query('date.dt.dayofweek == 0')\n",
        "    df.drop(columns = ['날짜', '오픈', '고가', '저가', '거래량', '변동 %'], inplace=True, axis=1)\n",
        "    df.sort_index(ascending=False)\n",
        "    return df"
      ],
      "execution_count": null,
      "outputs": []
    },
    {
      "cell_type": "code",
      "metadata": {
        "scrolled": false,
        "id": "K9anYpOM7TKt"
      },
      "source": [
        "df_oil = preprocess_oil(df_oil)\n",
        "df_oil_dubai = preprocess_oil(df_oil_dubai)\n",
        "df_oil_brent = preprocess_oil(df_oil_brent)"
      ],
      "execution_count": null,
      "outputs": []
    },
    {
      "cell_type": "markdown",
      "metadata": {
        "id": "pyvGCh4F7TKt"
      },
      "source": [
        "## Check"
      ]
    },
    {
      "cell_type": "code",
      "metadata": {
        "id": "bMwUgDPN7TKt"
      },
      "source": [
        "print(\"oil:\", len(df_oil), \"\\ndubai:\", len(df_oil_dubai), \"\\nbrent:\", len(df_oil_brent))"
      ],
      "execution_count": null,
      "outputs": []
    },
    {
      "cell_type": "markdown",
      "metadata": {
        "id": "S0xEY7ox7TKt"
      },
      "source": [
        "oil과 비교하였을 때 dubai의 경우 28개, brent의 경우 3개의 데이터가 적다  \n",
        "따라서 df_oil 데이터를 사용하도록 한다"
      ]
    },
    {
      "cell_type": "markdown",
      "metadata": {
        "id": "P6aYxyz67TKt"
      },
      "source": [
        "## Add to Training Data"
      ]
    },
    {
      "cell_type": "code",
      "metadata": {
        "id": "1Muczrc27TKt"
      },
      "source": [
        "df_train = pd.merge(df_train, df_oil, how='left', on=['year', 'month', 'day'])"
      ],
      "execution_count": null,
      "outputs": []
    },
    {
      "cell_type": "code",
      "metadata": {
        "id": "0dYBbImg7TKu"
      },
      "source": [
        "pd.set_option(\"display.max_columns\", None)\n",
        "df_train.sample(5)"
      ],
      "execution_count": null,
      "outputs": []
    },
    {
      "cell_type": "markdown",
      "metadata": {
        "id": "piIkfoXt7TKu"
      },
      "source": [
        "---"
      ]
    },
    {
      "cell_type": "markdown",
      "metadata": {
        "id": "B1Ds8aYs7TKu"
      },
      "source": [
        "# Korea Weather"
      ]
    },
    {
      "cell_type": "markdown",
      "metadata": {
        "id": "5XbJR-Ul7TKu"
      },
      "source": [
        "## Import Data"
      ]
    },
    {
      "cell_type": "code",
      "metadata": {
        "id": "pb-geJf27TKu"
      },
      "source": [
        "df_weather_kr = pd.read_csv(os.path.join(root, 'raw_weather_korea.csv'), encoding='euc-kr')"
      ],
      "execution_count": null,
      "outputs": []
    },
    {
      "cell_type": "markdown",
      "metadata": {
        "id": "kYt6KcQk7TKu"
      },
      "source": [
        "## Group\n",
        "일자 별로 평균 구하기"
      ]
    },
    {
      "cell_type": "code",
      "metadata": {
        "id": "aihGWxu47TKu"
      },
      "source": [
        "df_weather_kr['wind_kr'] = df_weather_kr[['일시', '평균 풍속(m/s)']].groupby(['일시']).transform('mean')\n",
        "df_weather_kr['temperature_kr'] = df_weather_kr[['일시', '평균 기온(°C)']].groupby(['일시']).transform('mean')\n",
        "df_weather_kr['water_temp_kr'] = df_weather_kr[['일시', '평균 수온(°C)']].groupby(['일시']).transform('mean')"
      ],
      "execution_count": null,
      "outputs": []
    },
    {
      "cell_type": "markdown",
      "metadata": {
        "id": "FlOKa7c37TKu"
      },
      "source": [
        "## Preprocess Date"
      ]
    },
    {
      "cell_type": "code",
      "metadata": {
        "id": "thyMSwfu7TKu"
      },
      "source": [
        "df_weather_kr['year'] = df_weather_kr['일시'].str[:4].astype('int')\n",
        "df_weather_kr['month'] = df_weather_kr['일시'].str[5:7].astype('int')\n",
        "df_weather_kr['day'] = df_weather_kr['일시'].str[8:].astype('int')"
      ],
      "execution_count": null,
      "outputs": []
    },
    {
      "cell_type": "markdown",
      "metadata": {
        "id": "iRuMRtrf7TKu"
      },
      "source": [
        "## Drop Column\n",
        "어차피 전부 해안가 대한민국이라 지점은 필요없다  \n",
        "사용한 컬럼은 제거한다"
      ]
    },
    {
      "cell_type": "code",
      "metadata": {
        "id": "e1Yd77_L7TKu"
      },
      "source": [
        "drop = ['지점', '일시', '평균 풍속(m/s)', '평균 기온(°C)', '평균 수온(°C)']"
      ],
      "execution_count": null,
      "outputs": []
    },
    {
      "cell_type": "code",
      "metadata": {
        "id": "cDy5qdfk7TKv"
      },
      "source": [
        "df_weather_kr.drop(columns=drop, inplace=True, axis=1)"
      ],
      "execution_count": null,
      "outputs": []
    },
    {
      "cell_type": "markdown",
      "metadata": {
        "id": "gH6G-gCb7TKv"
      },
      "source": [
        "## Add to Training Data"
      ]
    },
    {
      "cell_type": "code",
      "metadata": {
        "id": "pAeFVJZm7TKv"
      },
      "source": [
        "df_train = pd.merge(df_train, df_weather_kr, how='left', on=['year', 'month', 'day'])"
      ],
      "execution_count": null,
      "outputs": []
    },
    {
      "cell_type": "code",
      "metadata": {
        "id": "wbUyFL9R7TKv"
      },
      "source": [
        "pd.set_option(\"display.max_columns\", None)\n",
        "df_train.sample(5)"
      ],
      "execution_count": null,
      "outputs": []
    },
    {
      "cell_type": "markdown",
      "metadata": {
        "id": "0s4waw097TKv"
      },
      "source": [
        "---"
      ]
    },
    {
      "cell_type": "markdown",
      "metadata": {
        "id": "L0rIG3y37TKv"
      },
      "source": [
        "# 소비자물가지수"
      ]
    },
    {
      "cell_type": "markdown",
      "metadata": {
        "id": "UEjWmwdM7TKv"
      },
      "source": [
        "## Import Data"
      ]
    },
    {
      "cell_type": "code",
      "metadata": {
        "id": "TcpeFP4j7TKv"
      },
      "source": [
        "cpi_purpose = pd.read_csv(\"/content/drive/MyDrive/빅콘/Seafood_Import_Price_Prediction/DATA/cpi/raw_cpi_purpose.csv\",encoding='cp949')  # CPI\n",
        "\n",
        "cpi_purpose"
      ],
      "execution_count": null,
      "outputs": []
    },
    {
      "cell_type": "markdown",
      "metadata": {
        "id": "miqYSGQFFeUR"
      },
      "source": [
        "## 소비자물가 총지수"
      ]
    },
    {
      "cell_type": "markdown",
      "metadata": {
        "id": "lusxs6UZF3mJ"
      },
      "source": [
        "### Drop Columns/Rows"
      ]
    },
    {
      "cell_type": "code",
      "metadata": {
        "id": "8E0xt4saFiKH"
      },
      "source": [
        "cpi_purpose.drop('시도별',axis=1,inplace=True)\n",
        "\n",
        "cpi_purpose_copy = cpi_purpose.copy()\n",
        "\n",
        "cpi_purpose_copy.drop('지출목적별',axis=1,inplace=True)\n",
        "\n",
        "cpi_total = cpi_purpose_copy.iloc[0,:] # 전국 소비자물가 총지수만 추출\n",
        "\n",
        "cpi_total = pd.DataFrame(cpi_total.values,columns=['cpi'],index=cpi_total.index)\n",
        "\n",
        "cpi_total"
      ],
      "execution_count": null,
      "outputs": []
    },
    {
      "cell_type": "markdown",
      "metadata": {
        "id": "REUhHqUwFswV"
      },
      "source": [
        "### Pivoting"
      ]
    },
    {
      "cell_type": "code",
      "metadata": {
        "id": "rBe0CV3CFu3k"
      },
      "source": [
        "cpi_purpose_copy = cpi_purpose.copy()\n",
        "\n",
        "cpi_purpose_copy.drop('지출목적별',axis=1,inplace=True)\n",
        "\n",
        "cpi_total = cpi_purpose_copy.iloc[0,:] # 전국 소비자물가 총지수만 추출\n",
        "\n",
        "cpi_total = pd.DataFrame(cpi_total.values,columns=['cpi'],index=cpi_total.index)\n",
        "\n",
        "cpi_total"
      ],
      "execution_count": null,
      "outputs": []
    },
    {
      "cell_type": "markdown",
      "metadata": {
        "id": "LE451chsESbg"
      },
      "source": [
        "## 지출목적별 소비자물가지수"
      ]
    },
    {
      "cell_type": "code",
      "metadata": {
        "id": "0VfK9Sjy7TKw",
        "colab": {
          "base_uri": "https://localhost:8080/",
          "height": 433
        },
        "outputId": "82c96735-312f-4014-dcc7-cb691797e528"
      },
      "source": [
        "cpi_purpose2 = cpi_purpose.iloc[[1,11],:]\n",
        "\n",
        "cpi_purpose2 # 전국 식료품별, 음식서비스별 cpi만 추출"
      ],
      "execution_count": 354,
      "outputs": [
        {
          "output_type": "execute_result",
          "data": {
            "text/html": [
              "<div>\n",
              "<style scoped>\n",
              "    .dataframe tbody tr th:only-of-type {\n",
              "        vertical-align: middle;\n",
              "    }\n",
              "\n",
              "    .dataframe tbody tr th {\n",
              "        vertical-align: top;\n",
              "    }\n",
              "\n",
              "    .dataframe thead th {\n",
              "        text-align: right;\n",
              "    }\n",
              "</style>\n",
              "<table border=\"1\" class=\"dataframe\">\n",
              "  <thead>\n",
              "    <tr style=\"text-align: right;\">\n",
              "      <th></th>\n",
              "      <th>지출목적별</th>\n",
              "      <th>2015. 12</th>\n",
              "      <th>2016. 01</th>\n",
              "      <th>2016. 02</th>\n",
              "      <th>2016. 03</th>\n",
              "      <th>2016. 04</th>\n",
              "      <th>2016. 05</th>\n",
              "      <th>2016. 06</th>\n",
              "      <th>2016. 07</th>\n",
              "      <th>2016. 08</th>\n",
              "      <th>2016. 09</th>\n",
              "      <th>2016. 10</th>\n",
              "      <th>2016. 11</th>\n",
              "      <th>2016. 12</th>\n",
              "      <th>2017. 01</th>\n",
              "      <th>2017. 02</th>\n",
              "      <th>2017. 03</th>\n",
              "      <th>2017. 04</th>\n",
              "      <th>2017. 05</th>\n",
              "      <th>2017. 06</th>\n",
              "      <th>2017. 07</th>\n",
              "      <th>2017. 08</th>\n",
              "      <th>2017. 09</th>\n",
              "      <th>2017. 10</th>\n",
              "      <th>2017. 11</th>\n",
              "      <th>2017. 12</th>\n",
              "      <th>2018. 01</th>\n",
              "      <th>2018. 02</th>\n",
              "      <th>2018. 03</th>\n",
              "      <th>2018. 04</th>\n",
              "      <th>2018. 05</th>\n",
              "      <th>2018. 06</th>\n",
              "      <th>2018. 07</th>\n",
              "      <th>2018. 08</th>\n",
              "      <th>2018. 09</th>\n",
              "      <th>2018. 10</th>\n",
              "      <th>2018. 11</th>\n",
              "      <th>2018. 12</th>\n",
              "      <th>2019. 01</th>\n",
              "      <th>2019. 02</th>\n",
              "      <th>2019. 03</th>\n",
              "      <th>2019. 04</th>\n",
              "      <th>2019. 05</th>\n",
              "      <th>2019. 06</th>\n",
              "      <th>2019. 07</th>\n",
              "      <th>2019. 08</th>\n",
              "      <th>2019. 09</th>\n",
              "      <th>2019. 10</th>\n",
              "      <th>2019. 11</th>\n",
              "      <th>2019. 12</th>\n",
              "      <th>2020. 01</th>\n",
              "      <th>2020. 02</th>\n",
              "      <th>2020. 03</th>\n",
              "      <th>2020. 04</th>\n",
              "      <th>2020. 05</th>\n",
              "      <th>2020. 06</th>\n",
              "      <th>2020. 07</th>\n",
              "      <th>2020. 08</th>\n",
              "      <th>2020. 09</th>\n",
              "      <th>2020. 10</th>\n",
              "      <th>2020. 11</th>\n",
              "      <th>2020. 12</th>\n",
              "      <th>2021. 01</th>\n",
              "      <th>2021. 02</th>\n",
              "      <th>2021. 03</th>\n",
              "      <th>2021. 04</th>\n",
              "      <th>2021. 05</th>\n",
              "      <th>2021. 06</th>\n",
              "    </tr>\n",
              "  </thead>\n",
              "  <tbody>\n",
              "    <tr>\n",
              "      <th>1</th>\n",
              "      <td>01 식료품 · 비주류음료</td>\n",
              "      <td>99.95</td>\n",
              "      <td>100.76</td>\n",
              "      <td>103.43</td>\n",
              "      <td>102.25</td>\n",
              "      <td>102.30</td>\n",
              "      <td>101.24</td>\n",
              "      <td>99.66</td>\n",
              "      <td>99.65</td>\n",
              "      <td>101.02</td>\n",
              "      <td>105.94</td>\n",
              "      <td>104.48</td>\n",
              "      <td>102.93</td>\n",
              "      <td>104.02</td>\n",
              "      <td>107.16</td>\n",
              "      <td>107.26</td>\n",
              "      <td>106.32</td>\n",
              "      <td>105.19</td>\n",
              "      <td>104.85</td>\n",
              "      <td>104.09</td>\n",
              "      <td>104.39</td>\n",
              "      <td>107.5</td>\n",
              "      <td>108.84</td>\n",
              "      <td>106.16</td>\n",
              "      <td>103.20</td>\n",
              "      <td>104.44</td>\n",
              "      <td>106.00</td>\n",
              "      <td>109.07</td>\n",
              "      <td>107.32</td>\n",
              "      <td>107.86</td>\n",
              "      <td>106.85</td>\n",
              "      <td>105.48</td>\n",
              "      <td>105.80</td>\n",
              "      <td>111.34</td>\n",
              "      <td>115.20</td>\n",
              "      <td>112.16</td>\n",
              "      <td>108.67</td>\n",
              "      <td>108.86</td>\n",
              "      <td>108.8</td>\n",
              "      <td>109.54</td>\n",
              "      <td>108.48</td>\n",
              "      <td>109.4</td>\n",
              "      <td>108.83</td>\n",
              "      <td>107.64</td>\n",
              "      <td>106.68</td>\n",
              "      <td>107.70</td>\n",
              "      <td>110.52</td>\n",
              "      <td>110.74</td>\n",
              "      <td>107.89</td>\n",
              "      <td>109.01</td>\n",
              "      <td>110.81</td>\n",
              "      <td>110.27</td>\n",
              "      <td>111.26</td>\n",
              "      <td>111.29</td>\n",
              "      <td>111.48</td>\n",
              "      <td>111.18</td>\n",
              "      <td>111.28</td>\n",
              "      <td>114.78</td>\n",
              "      <td>119.68</td>\n",
              "      <td>119.82</td>\n",
              "      <td>115.35</td>\n",
              "      <td>115.79</td>\n",
              "      <td>118.04</td>\n",
              "      <td>120.97</td>\n",
              "      <td>120.61</td>\n",
              "      <td>120.34</td>\n",
              "      <td>119.70</td>\n",
              "      <td>118.43</td>\n",
              "    </tr>\n",
              "    <tr>\n",
              "      <th>11</th>\n",
              "      <td>11 음식 및 숙박</td>\n",
              "      <td>101.06</td>\n",
              "      <td>101.40</td>\n",
              "      <td>101.67</td>\n",
              "      <td>101.98</td>\n",
              "      <td>102.26</td>\n",
              "      <td>102.40</td>\n",
              "      <td>102.50</td>\n",
              "      <td>102.74</td>\n",
              "      <td>102.91</td>\n",
              "      <td>102.92</td>\n",
              "      <td>103.02</td>\n",
              "      <td>103.07</td>\n",
              "      <td>103.27</td>\n",
              "      <td>103.75</td>\n",
              "      <td>104.02</td>\n",
              "      <td>104.31</td>\n",
              "      <td>104.49</td>\n",
              "      <td>104.80</td>\n",
              "      <td>104.87</td>\n",
              "      <td>105.20</td>\n",
              "      <td>105.5</td>\n",
              "      <td>105.36</td>\n",
              "      <td>105.57</td>\n",
              "      <td>105.67</td>\n",
              "      <td>106.07</td>\n",
              "      <td>106.55</td>\n",
              "      <td>106.94</td>\n",
              "      <td>107.29</td>\n",
              "      <td>107.70</td>\n",
              "      <td>108.07</td>\n",
              "      <td>108.17</td>\n",
              "      <td>108.52</td>\n",
              "      <td>108.76</td>\n",
              "      <td>108.58</td>\n",
              "      <td>108.74</td>\n",
              "      <td>108.96</td>\n",
              "      <td>109.35</td>\n",
              "      <td>109.7</td>\n",
              "      <td>109.89</td>\n",
              "      <td>109.63</td>\n",
              "      <td>109.8</td>\n",
              "      <td>110.01</td>\n",
              "      <td>110.11</td>\n",
              "      <td>110.35</td>\n",
              "      <td>110.64</td>\n",
              "      <td>110.09</td>\n",
              "      <td>110.27</td>\n",
              "      <td>110.29</td>\n",
              "      <td>110.45</td>\n",
              "      <td>110.97</td>\n",
              "      <td>110.93</td>\n",
              "      <td>110.82</td>\n",
              "      <td>110.90</td>\n",
              "      <td>110.86</td>\n",
              "      <td>110.95</td>\n",
              "      <td>111.13</td>\n",
              "      <td>111.35</td>\n",
              "      <td>111.25</td>\n",
              "      <td>111.51</td>\n",
              "      <td>111.41</td>\n",
              "      <td>111.67</td>\n",
              "      <td>111.96</td>\n",
              "      <td>112.26</td>\n",
              "      <td>112.42</td>\n",
              "      <td>112.93</td>\n",
              "      <td>113.11</td>\n",
              "      <td>113.37</td>\n",
              "    </tr>\n",
              "  </tbody>\n",
              "</table>\n",
              "</div>"
            ],
            "text/plain": [
              "             지출목적별  2015. 12  2016. 01  ...  2021. 04  2021. 05  2021. 06\n",
              "1   01 식료품 · 비주류음료     99.95    100.76  ...    120.34    119.70    118.43\n",
              "11      11 음식 및 숙박    101.06    101.40  ...    112.93    113.11    113.37\n",
              "\n",
              "[2 rows x 68 columns]"
            ]
          },
          "metadata": {},
          "execution_count": 354
        }
      ]
    },
    {
      "cell_type": "code",
      "metadata": {
        "id": "v3IqwmxIDoKz",
        "colab": {
          "base_uri": "https://localhost:8080/",
          "height": 417
        },
        "outputId": "eea093d7-f300-4893-ec3e-a16888ee75e2"
      },
      "source": [
        "cpi_purpose3 = pd.DataFrame(cpi_purpose2.iloc[0,:].values,index = cpi_purpose2.columns,columns=['식료품 cpi'])\n",
        "\n",
        "cpi_purpose3['음식 및 숙박 cpi'] = cpi_purpose2.iloc[1,:].values\n",
        "\n",
        "cpi_purpose3.drop('지출목적별',axis=0,inplace=True) # 지출목적별 행 삭제\n",
        "\n",
        "cpi_purpose3 # 식료품, 음식 cpi"
      ],
      "execution_count": 355,
      "outputs": [
        {
          "output_type": "execute_result",
          "data": {
            "text/html": [
              "<div>\n",
              "<style scoped>\n",
              "    .dataframe tbody tr th:only-of-type {\n",
              "        vertical-align: middle;\n",
              "    }\n",
              "\n",
              "    .dataframe tbody tr th {\n",
              "        vertical-align: top;\n",
              "    }\n",
              "\n",
              "    .dataframe thead th {\n",
              "        text-align: right;\n",
              "    }\n",
              "</style>\n",
              "<table border=\"1\" class=\"dataframe\">\n",
              "  <thead>\n",
              "    <tr style=\"text-align: right;\">\n",
              "      <th></th>\n",
              "      <th>식료품 cpi</th>\n",
              "      <th>음식 및 숙박 cpi</th>\n",
              "    </tr>\n",
              "  </thead>\n",
              "  <tbody>\n",
              "    <tr>\n",
              "      <th>2015. 12</th>\n",
              "      <td>99.95</td>\n",
              "      <td>101.06</td>\n",
              "    </tr>\n",
              "    <tr>\n",
              "      <th>2016. 01</th>\n",
              "      <td>100.76</td>\n",
              "      <td>101.4</td>\n",
              "    </tr>\n",
              "    <tr>\n",
              "      <th>2016. 02</th>\n",
              "      <td>103.43</td>\n",
              "      <td>101.67</td>\n",
              "    </tr>\n",
              "    <tr>\n",
              "      <th>2016. 03</th>\n",
              "      <td>102.25</td>\n",
              "      <td>101.98</td>\n",
              "    </tr>\n",
              "    <tr>\n",
              "      <th>2016. 04</th>\n",
              "      <td>102.3</td>\n",
              "      <td>102.26</td>\n",
              "    </tr>\n",
              "    <tr>\n",
              "      <th>...</th>\n",
              "      <td>...</td>\n",
              "      <td>...</td>\n",
              "    </tr>\n",
              "    <tr>\n",
              "      <th>2021. 02</th>\n",
              "      <td>120.97</td>\n",
              "      <td>112.26</td>\n",
              "    </tr>\n",
              "    <tr>\n",
              "      <th>2021. 03</th>\n",
              "      <td>120.61</td>\n",
              "      <td>112.42</td>\n",
              "    </tr>\n",
              "    <tr>\n",
              "      <th>2021. 04</th>\n",
              "      <td>120.34</td>\n",
              "      <td>112.93</td>\n",
              "    </tr>\n",
              "    <tr>\n",
              "      <th>2021. 05</th>\n",
              "      <td>119.7</td>\n",
              "      <td>113.11</td>\n",
              "    </tr>\n",
              "    <tr>\n",
              "      <th>2021. 06</th>\n",
              "      <td>118.43</td>\n",
              "      <td>113.37</td>\n",
              "    </tr>\n",
              "  </tbody>\n",
              "</table>\n",
              "<p>67 rows × 2 columns</p>\n",
              "</div>"
            ],
            "text/plain": [
              "         식료품 cpi 음식 및 숙박 cpi\n",
              "2015. 12   99.95      101.06\n",
              "2016. 01  100.76       101.4\n",
              "2016. 02  103.43      101.67\n",
              "2016. 03  102.25      101.98\n",
              "2016. 04   102.3      102.26\n",
              "...          ...         ...\n",
              "2021. 02  120.97      112.26\n",
              "2021. 03  120.61      112.42\n",
              "2021. 04  120.34      112.93\n",
              "2021. 05   119.7      113.11\n",
              "2021. 06  118.43      113.37\n",
              "\n",
              "[67 rows x 2 columns]"
            ]
          },
          "metadata": {},
          "execution_count": 355
        }
      ]
    },
    {
      "cell_type": "markdown",
      "metadata": {
        "id": "enlfpfJd7TKw"
      },
      "source": [
        "## Preprocess Date"
      ]
    },
    {
      "cell_type": "code",
      "metadata": {
        "id": "TYyzi8rh7TKw"
      },
      "source": [
        "cpi_total.reset_index(inplace=True)  # 날짜 인덱스 > 컬럼으로 변경\n",
        "cpi_purpose3.reset_index(inplace=True)  # 날짜 인덱스 > 컬럼으로 변경"
      ],
      "execution_count": null,
      "outputs": []
    },
    {
      "cell_type": "code",
      "metadata": {
        "id": "6-jU3p587TKw"
      },
      "source": [
        "cpi_total['year'] = cpi_total['index'].str[:4].astype('int')\n",
        "cpi_total['month'] = cpi_total['index'].str[5:].astype('int')\n",
        "cpi_total.drop(columns=['index'], inplace=True, axis=1)\n",
        "\n",
        "cpi_purpose3['year'] = cpi_purpose3['index'].str[:4].astype('int')\n",
        "cpi_purpose3['month'] = cpi_purpose3['index'].str[5:].astype('int')\n",
        "cpi_purpose3.drop(columns=['index'], inplace=True, axis=1)"
      ],
      "execution_count": null,
      "outputs": []
    },
    {
      "cell_type": "markdown",
      "metadata": {
        "id": "0ow1qhem7TKw"
      },
      "source": [
        "## Add to Training Data"
      ]
    },
    {
      "cell_type": "code",
      "metadata": {
        "id": "LkF8mrnC7TKw"
      },
      "source": [
        "df_train = pd.merge(df_train, df_cpi1, how='left', on=['year', 'month'])\n",
        "df_train = pd.merge(df_train, df_cpi2, how='left', on=['year', 'month'])"
      ],
      "execution_count": null,
      "outputs": []
    },
    {
      "cell_type": "code",
      "metadata": {
        "id": "XesE8rQK7TKw"
      },
      "source": [
        "pd.set_option(\"display.max_columns\", None)\n",
        "df_train.sample(5)"
      ],
      "execution_count": null,
      "outputs": []
    },
    {
      "cell_type": "markdown",
      "metadata": {
        "id": "PBX2gc1s7TKw"
      },
      "source": [
        "---"
      ]
    },
    {
      "cell_type": "markdown",
      "metadata": {
        "id": "prmrs50a7TKw"
      },
      "source": [
        "# Final"
      ]
    },
    {
      "cell_type": "markdown",
      "metadata": {
        "id": "Ui7PhQlm7TKw"
      },
      "source": [
        "## One-hot Encoding"
      ]
    },
    {
      "cell_type": "code",
      "metadata": {
        "id": "D2wAIEY_7TKw"
      },
      "source": [
        "one_hot = ['CTRY_1', 'CTRY_2', 'P_PURPOSE', 'CATEGORY_1', 'CATEGORY_2', 'P_NAME']"
      ],
      "execution_count": null,
      "outputs": []
    },
    {
      "cell_type": "code",
      "metadata": {
        "id": "pRKkcACh7TKw"
      },
      "source": [
        "df_train = pd.get_dummies(df_train, columns=one_hot)"
      ],
      "execution_count": null,
      "outputs": []
    },
    {
      "cell_type": "markdown",
      "metadata": {
        "id": "9TjOq4PM7TKx"
      },
      "source": [
        "## Drop Columns"
      ]
    },
    {
      "cell_type": "code",
      "metadata": {
        "id": "02DqP-aR7TKx"
      },
      "source": [
        "drop = ['REG_DATE', 'P_TYPE', 'P_IMPORT_TYPE']"
      ],
      "execution_count": null,
      "outputs": []
    },
    {
      "cell_type": "code",
      "metadata": {
        "id": "Yr1Q_9kz7TKx"
      },
      "source": [
        "df_train.drop(columns = drop, inplace=True)"
      ],
      "execution_count": null,
      "outputs": []
    },
    {
      "cell_type": "code",
      "metadata": {
        "scrolled": false,
        "id": "0FCfWLME7TKx"
      },
      "source": [
        "pd.set_option(\"display.max_columns\", None)\n",
        "df_train.sample(5)"
      ],
      "execution_count": null,
      "outputs": []
    },
    {
      "cell_type": "markdown",
      "metadata": {
        "id": "tgHQpmnw7TKx"
      },
      "source": [
        "## Save Files"
      ]
    },
    {
      "cell_type": "code",
      "metadata": {
        "id": "qbtEbNmE7TKx"
      },
      "source": [
        "def save_file(df, file_name):\n",
        "    df.to_csv(os.path.join(root, file_name), encoding='utf-8')"
      ],
      "execution_count": null,
      "outputs": []
    },
    {
      "cell_type": "code",
      "metadata": {
        "id": "x2Ynh9N27TKx"
      },
      "source": [
        "save_file(df_weather, 'preprocessed_weather.csv')  # 제조국 날씨\n",
        "save_file(df_oil, 'preprocessed_oil.csv')  # 원유 종가\n",
        "save_file(df_weather_kr, 'preprocessed_weather_korea.csv')  # 한국 날씨\n",
        "save_file(df_cpi1, 'preprocessed_cpi_region.csv')  # 전체 소비자물가지수\n",
        "save_file(df_cpi2, 'preprocessed_cpi_purpose.csv')  # 음식/음식서비스 소비자물가지수\n",
        "save_file(df_train, 'preprocessed_train.csv')  # 최종 df"
      ],
      "execution_count": null,
      "outputs": []
    },
    {
      "cell_type": "code",
      "metadata": {
        "id": "EJzpvZz-7TKx"
      },
      "source": [
        ""
      ],
      "execution_count": null,
      "outputs": []
    }
  ]
}