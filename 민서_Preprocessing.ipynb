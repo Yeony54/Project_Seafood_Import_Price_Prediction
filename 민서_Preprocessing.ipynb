{
  "nbformat": 4,
  "nbformat_minor": 0,
  "metadata": {
    "colab": {
      "name": "민서_Preprocessing.ipynb",
      "provenance": [],
      "collapsed_sections": [
        "600RYV_S7TKs",
        "5nG6S2767TKs",
        "prmrs50a7TKw",
        "Ui7PhQlm7TKw",
        "9TjOq4PM7TKx",
        "tgHQpmnw7TKx"
      ]
    },
    "kernelspec": {
      "display_name": "Python 3",
      "language": "python",
      "name": "python3"
    },
    "language_info": {
      "codemirror_mode": {
        "name": "ipython",
        "version": 3
      },
      "file_extension": ".py",
      "mimetype": "text/x-python",
      "name": "python",
      "nbconvert_exporter": "python",
      "pygments_lexer": "ipython3",
      "version": "3.8.3"
    }
  },
  "cells": [
    {
      "cell_type": "markdown",
      "metadata": {
        "id": "DACPIbVx7TKg"
      },
      "source": [
        "# Import Library"
      ]
    },
    {
      "cell_type": "code",
      "metadata": {
        "id": "83--jW2p7TKi"
      },
      "source": [
        "# Import Libraries\n",
        "import os\n",
        "import pandas as pd\n",
        "import numpy as np\n",
        "from scipy.stats import norm\n",
        "from sklearn.preprocessing import StandardScaler\n",
        "from scipy import stats\n",
        "import warnings\n",
        "warnings.filterwarnings('ignore')\n",
        "%matplotlib inline\n",
        "\n",
        "# Visuzliation Setting\n",
        "import matplotlib.pyplot as plt\n",
        "import matplotlib.font_manager as fm\n",
        "from matplotlib import rc\n",
        "from matplotlib import colors\n",
        "import seaborn as sns"
      ],
      "execution_count": 2,
      "outputs": []
    },
    {
      "cell_type": "markdown",
      "metadata": {
        "id": "Ap-G6EzN7TKk"
      },
      "source": [
        "---"
      ]
    },
    {
      "cell_type": "code",
      "metadata": {
        "id": "TWB8ocwr7TKk"
      },
      "source": [
        "root = os.path.join(os.getcwd(), 'DATA')"
      ],
      "execution_count": 3,
      "outputs": []
    },
    {
      "cell_type": "code",
      "metadata": {
        "id": "FODjTCUA-j7r"
      },
      "source": [
        "from datetime import date, timedelta\n",
        "\n",
        "\n",
        "def set_week(df, date):\n",
        "    '''\n",
        "    df : datetime 형식의 컬럼을 가지고 있는 dataframe\n",
        "    date : df에서 datetime 형식을 가진 컬럼명\n",
        "    return : date의 연도 컬럼과 주차 컬럼을 추가한 dataframe\n",
        "    '''\n",
        "    df[date] = pd.to_datetime(df[date])\n",
        "    df[date] = df[date].dt.date\n",
        "    df['year'] = df.apply(func=lambda x: x[date].isocalendar()[0], axis=1)\n",
        "    df['week'] = df.apply(func=lambda x: x[date].isocalendar()[1], axis=1)\n",
        "    df.drop(date, axis=1, inplace=True)\n",
        "    \n",
        "\n",
        "def check_week(df):\n",
        "    '''\n",
        "    df에 date가 전부 있는지 확인\n",
        "    '''\n",
        "    cnt = 0\n",
        "    sdate = date(2015, 12, 28)   # start date\n",
        "    edate = date(2019, 12, 30)   # end date\n",
        "    delta = edate - sdate       # as timedelta\n",
        "    mem = set()\n",
        "    \n",
        "    for i in range(delta.days + 1):\n",
        "        day = sdate + timedelta(days=i)\n",
        "        year, week = day.isocalendar()[0], day.isocalendar()[1]\n",
        "        if year * 100 + week in mem:\n",
        "          continue\n",
        "        mem.add(year * 100 + week)\n",
        "        if df[(df['year'] == year) & (df['week'] == week)].empty:\n",
        "          print((year, week), end=\"\")\n",
        "          cnt += 1\n",
        "    if cnt > 0:\n",
        "        print()\n",
        "    print(\"missing\", cnt, \"values\")    "
      ],
      "execution_count": 4,
      "outputs": []
    },
    {
      "cell_type": "markdown",
      "metadata": {
        "id": "n0koSwxa7TKl"
      },
      "source": [
        "# Training Data\n",
        "빅콘테스트 제공 데이터 전처리"
      ]
    },
    {
      "cell_type": "markdown",
      "metadata": {
        "id": "xdBOsf7e7TKl"
      },
      "source": [
        "## Import Data"
      ]
    },
    {
      "cell_type": "code",
      "metadata": {
        "id": "KJCPDskn7TKl"
      },
      "source": [
        "df_raw = pd.read_excel(os.path.join(root, 'train.xlsx'))\n",
        "df_train = df_raw.copy()"
      ],
      "execution_count": 8,
      "outputs": []
    },
    {
      "cell_type": "markdown",
      "metadata": {
        "id": "h3OU0ctu7TKo"
      },
      "source": [
        "### One hot encoding\n",
        "P_IMPORT_TYPE 이라는 특수한 컬럼에 대한 전처리"
      ]
    },
    {
      "cell_type": "code",
      "metadata": {
        "id": "WfYJ0J9I7TKo"
      },
      "source": [
        "import_type_list = set()\n",
        "for tmp in df_train.P_IMPORT_TYPE.unique():\n",
        "    for a in tmp.split(','):\n",
        "        import_type_list.add(a)"
      ],
      "execution_count": 9,
      "outputs": []
    },
    {
      "cell_type": "code",
      "metadata": {
        "id": "9Sem0cl37TKo"
      },
      "source": [
        "for name in import_type_list:\n",
        "    df_train[name] = 0\n",
        "    df_train.loc[df_train['P_IMPORT_TYPE'].str.contains(name, regex=False), name] = 1"
      ],
      "execution_count": 10,
      "outputs": []
    },
    {
      "cell_type": "markdown",
      "metadata": {
        "id": "8GgRtMPI7TKm"
      },
      "source": [
        "### Add Columns"
      ]
    },
    {
      "cell_type": "code",
      "metadata": {
        "id": "VvRUXfdN-j7u"
      },
      "source": [
        "set_week(df_train, 'REG_DATE')"
      ],
      "execution_count": 11,
      "outputs": []
    },
    {
      "cell_type": "code",
      "metadata": {
        "colab": {
          "base_uri": "https://localhost:8080/"
        },
        "id": "k34yDLwC-j7v",
        "outputId": "921de05f-cea4-4b3f-f174-d85f673583f6"
      },
      "source": [
        "check_week(df_train)"
      ],
      "execution_count": 12,
      "outputs": [
        {
          "output_type": "stream",
          "text": [
            "(2017, 2)\n",
            "missing 1 values\n"
          ],
          "name": "stdout"
        }
      ]
    },
    {
      "cell_type": "code",
      "metadata": {
        "id": "iOcPWO0-7TKn"
      },
      "source": [
        "# 어종별 수 컬럼 추가\n",
        "df_train['name_cnt'] = 0;\n",
        "value_dict = {}\n",
        "for name, value in zip(df_train['P_NAME'].value_counts().index,df_train['P_NAME'].value_counts()):\n",
        "    value_dict[name] = value\n",
        "\n",
        "def value(col):\n",
        "    return value_dict[col]\n",
        "\n",
        "df_train['name_cnt'] = df_train['P_NAME'].apply(value)"
      ],
      "execution_count": 13,
      "outputs": []
    },
    {
      "cell_type": "code",
      "metadata": {
        "id": "lb4mHSBR-j7w"
      },
      "source": [
        "# 가공 여부 컬럼 추가\n",
        "df_train['is_processed'] = (df_train['CTRY_1'] != df_train['CTRY_2'])"
      ],
      "execution_count": 14,
      "outputs": []
    },
    {
      "cell_type": "code",
      "metadata": {
        "id": "m82lBhXZ-j7x"
      },
      "source": [
        "df_train['import_cnt'] = 0\n",
        "for i, row in df_train.iterrows():\n",
        "    for name in import_type_list:\n",
        "        if row[name] == 1:\n",
        "            df_train.at[i, 'import_cnt'] += 1"
      ],
      "execution_count": 15,
      "outputs": []
    },
    {
      "cell_type": "markdown",
      "metadata": {
        "id": "uDZd3vUe7TKp"
      },
      "source": [
        "---"
      ]
    },
    {
      "cell_type": "markdown",
      "metadata": {
        "id": "Yohf5ddY7TKp"
      },
      "source": [
        "# Weather data"
      ]
    },
    {
      "cell_type": "markdown",
      "metadata": {
        "id": "KF2OAGuX7TKp"
      },
      "source": [
        "## Import Data"
      ]
    },
    {
      "cell_type": "code",
      "metadata": {
        "id": "d1lx8F_f7TKp"
      },
      "source": [
        "df_weather_code = pd.read_csv(os.path.join(root, 'raw_weather_code.csv'), header=0, index_col=0)"
      ],
      "execution_count": 16,
      "outputs": []
    },
    {
      "cell_type": "code",
      "metadata": {
        "id": "7jgUNwso7TKp"
      },
      "source": [
        "weather_list = [pd.read_csv(os.path.join(root, 'raw_weather_20151228_20161227.csv'), encoding='euc-kr') , \n",
        "                pd.read_csv(os.path.join(root, 'raw_weather_20161228_20171227.csv'), encoding='euc-kr') , \n",
        "                pd.read_csv(os.path.join(root, 'raw_weather_20171228_20181227.csv'), encoding='euc-kr') , \n",
        "                pd.read_csv(os.path.join(root, 'raw_weather_20181228_20191227.csv'), encoding='euc-kr') , \n",
        "                pd.read_csv(os.path.join(root, 'raw_weather_20191228_20201227.csv'), encoding='euc-kr') , \n",
        "                pd.read_csv(os.path.join(root, 'raw_weather_20201228_20210818.csv'), encoding='euc-kr')]"
      ],
      "execution_count": 17,
      "outputs": []
    },
    {
      "cell_type": "markdown",
      "metadata": {
        "id": "8M2cvvz67TKp"
      },
      "source": [
        "\n",
        "## Preprocess\n",
        "- '지점'에 따른 나라명 컬럼(CTRY_1)과 해안가여부(is_waterfront) 추가\n",
        "- 각 나라, 일자 별로 평균 강수량, 풍속, 기온 계산"
      ]
    },
    {
      "cell_type": "code",
      "metadata": {
        "id": "L3SeGp1A-j72"
      },
      "source": [
        "# 지점에 따라 나라명 추가\n",
        "def set_country(row):\n",
        "    data = df_weather_code[df_weather_code['지점'] == row['지점']]\n",
        "    if data.empty:\n",
        "        return \"\"\n",
        "    return data.iloc[0]['국가명']\n",
        "\n",
        "\n",
        "def set_waterfront(row):\n",
        "    data = df_weather_code[df_weather_code['지점'] == row['지점']]\n",
        "    if data.empty or data.iloc[0]['해안가여부'] != 1:\n",
        "        return False\n",
        "    return True\n",
        "    \n",
        "\n",
        "def preprocess_weather(df):\n",
        "    df = df[(df['강수량'] >= 0) & (df['풍속'] >= 0)] # 이상치/결측치 제거\n",
        "    set_week(df, '일시')  # 날짜 정보 처리\n",
        "    \n",
        "    # 1차 평균\n",
        "    columns = ['year', 'week', '지점']\n",
        "    df['rain'] = df[columns + ['강수량']].groupby(columns).transform('mean')\n",
        "    df['wind'] = df[columns + ['풍속']].groupby(columns).transform('mean')\n",
        "    df['temperature'] = df[columns + ['기온']].groupby(columns).transform('mean')\n",
        "    \n",
        "    # 나라명 추가\n",
        "    df['CTRY_1'] = \"\"\n",
        "    for i, row in df.iterrows():\n",
        "        df.at[i, 'CTRY_1'] = set_country(row)\n",
        "    \n",
        "    # 해안가 여부 추가\n",
        "    df['is_waterfront'] = False\n",
        "    for i, row in df.iterrows():\n",
        "        df.at[i, 'is_waterfront'] = set_waterfront(row)\n",
        "        \n",
        "#     df = df[df['is_waterfront']]  # 해안가가 아닌 데이터 제외\n",
        "    \n",
        "    # 2차 평균\n",
        "    columns = ['year', 'week', 'CTRY_1']\n",
        "    df['rain'] = df[columns + ['강수량']].groupby(columns).transform('mean')\n",
        "    df['wind'] = df[columns + ['풍속']].groupby(columns).transform('mean')\n",
        "    df['temperature'] = df[columns + ['기온']].groupby(columns).transform('mean')\n",
        "\n",
        "    # 컬럼/행 정리\n",
        "    df.drop(columns=['지점명', '지점', '강수량', '풍속', '기온', 'is_waterfront'], inplace=True)\n",
        "    df.drop_duplicates(inplace=True)\n",
        "    df.reset_index(drop=True, inplace=True)\n",
        "    \n",
        "    return df"
      ],
      "execution_count": 18,
      "outputs": []
    },
    {
      "cell_type": "code",
      "metadata": {
        "id": "WxLOBtPv7TKq",
        "scrolled": false
      },
      "source": [
        "for i in range(len(weather_list)):\n",
        "    weather_list[i] = preprocess_weather(weather_list[i])"
      ],
      "execution_count": 19,
      "outputs": []
    },
    {
      "cell_type": "code",
      "metadata": {
        "id": "SgY8-RqhDcx6"
      },
      "source": [
        "df_weather = pd.concat(weather_list)"
      ],
      "execution_count": 39,
      "outputs": []
    },
    {
      "cell_type": "markdown",
      "metadata": {
        "id": "iXUr44A3-j77"
      },
      "source": [
        "## Check"
      ]
    },
    {
      "cell_type": "code",
      "metadata": {
        "id": "3DvVEvAt7TKq",
        "colab": {
          "base_uri": "https://localhost:8080/",
          "height": 295
        },
        "outputId": "53a0f033-145f-4c91-a118-7930e34dd147"
      },
      "source": [
        "df_weather.describe()"
      ],
      "execution_count": 40,
      "outputs": [
        {
          "output_type": "execute_result",
          "data": {
            "text/html": [
              "<div>\n",
              "<style scoped>\n",
              "    .dataframe tbody tr th:only-of-type {\n",
              "        vertical-align: middle;\n",
              "    }\n",
              "\n",
              "    .dataframe tbody tr th {\n",
              "        vertical-align: top;\n",
              "    }\n",
              "\n",
              "    .dataframe thead th {\n",
              "        text-align: right;\n",
              "    }\n",
              "</style>\n",
              "<table border=\"1\" class=\"dataframe\">\n",
              "  <thead>\n",
              "    <tr style=\"text-align: right;\">\n",
              "      <th></th>\n",
              "      <th>year</th>\n",
              "      <th>week</th>\n",
              "      <th>rain</th>\n",
              "      <th>wind</th>\n",
              "      <th>temperature</th>\n",
              "    </tr>\n",
              "  </thead>\n",
              "  <tbody>\n",
              "    <tr>\n",
              "      <th>count</th>\n",
              "      <td>1679.000000</td>\n",
              "      <td>1679.000000</td>\n",
              "      <td>1679.000000</td>\n",
              "      <td>1679.000000</td>\n",
              "      <td>1679.000000</td>\n",
              "    </tr>\n",
              "    <tr>\n",
              "      <th>mean</th>\n",
              "      <td>2018.232877</td>\n",
              "      <td>25.856462</td>\n",
              "      <td>5.981158</td>\n",
              "      <td>3.642640</td>\n",
              "      <td>14.906772</td>\n",
              "    </tr>\n",
              "    <tr>\n",
              "      <th>std</th>\n",
              "      <td>1.607481</td>\n",
              "      <td>15.124088</td>\n",
              "      <td>32.371218</td>\n",
              "      <td>3.200572</td>\n",
              "      <td>10.536941</td>\n",
              "    </tr>\n",
              "    <tr>\n",
              "      <th>min</th>\n",
              "      <td>2015.000000</td>\n",
              "      <td>1.000000</td>\n",
              "      <td>0.000000</td>\n",
              "      <td>0.000000</td>\n",
              "      <td>-21.600000</td>\n",
              "    </tr>\n",
              "    <tr>\n",
              "      <th>25%</th>\n",
              "      <td>2017.000000</td>\n",
              "      <td>13.000000</td>\n",
              "      <td>1.489908</td>\n",
              "      <td>1.869608</td>\n",
              "      <td>8.266627</td>\n",
              "    </tr>\n",
              "    <tr>\n",
              "      <th>50%</th>\n",
              "      <td>2018.000000</td>\n",
              "      <td>25.000000</td>\n",
              "      <td>2.750000</td>\n",
              "      <td>2.452555</td>\n",
              "      <td>15.382857</td>\n",
              "    </tr>\n",
              "    <tr>\n",
              "      <th>75%</th>\n",
              "      <td>2020.000000</td>\n",
              "      <td>39.000000</td>\n",
              "      <td>6.504304</td>\n",
              "      <td>5.111601</td>\n",
              "      <td>25.430698</td>\n",
              "    </tr>\n",
              "    <tr>\n",
              "      <th>max</th>\n",
              "      <td>2021.000000</td>\n",
              "      <td>53.000000</td>\n",
              "      <td>915.000000</td>\n",
              "      <td>60.000000</td>\n",
              "      <td>30.100000</td>\n",
              "    </tr>\n",
              "  </tbody>\n",
              "</table>\n",
              "</div>"
            ],
            "text/plain": [
              "              year         week         rain         wind  temperature\n",
              "count  1679.000000  1679.000000  1679.000000  1679.000000  1679.000000\n",
              "mean   2018.232877    25.856462     5.981158     3.642640    14.906772\n",
              "std       1.607481    15.124088    32.371218     3.200572    10.536941\n",
              "min    2015.000000     1.000000     0.000000     0.000000   -21.600000\n",
              "25%    2017.000000    13.000000     1.489908     1.869608     8.266627\n",
              "50%    2018.000000    25.000000     2.750000     2.452555    15.382857\n",
              "75%    2020.000000    39.000000     6.504304     5.111601    25.430698\n",
              "max    2021.000000    53.000000   915.000000    60.000000    30.100000"
            ]
          },
          "metadata": {},
          "execution_count": 40
        }
      ]
    },
    {
      "cell_type": "code",
      "metadata": {
        "colab": {
          "base_uri": "https://localhost:8080/"
        },
        "id": "j6dGZ7AJ-j8I",
        "outputId": "5845300d-ab44-4059-fa5f-e56ce1d76e9a"
      },
      "source": [
        "for country in df_weather['CTRY_1'].unique():\n",
        "    if country == \"\":\n",
        "        continue\n",
        "    print()\n",
        "    print(country, \"총\", len(df_weather[df_weather['CTRY_1'] == country]), \"개\")\n",
        "    check_week(df_weather[df_weather['CTRY_1'] == country])"
      ],
      "execution_count": 41,
      "outputs": [
        {
          "output_type": "stream",
          "text": [
            "\n",
            "노르웨이 총 236 개\n",
            "missing 0 values\n",
            "\n",
            "태국 총 297 개\n",
            "(2016, 11)\n",
            "missing 1 values\n",
            "\n",
            "베트남 총 298 개\n",
            "(2016, 6)\n",
            "missing 1 values\n",
            "\n",
            "중국 총 299 개\n",
            "missing 0 values\n",
            "\n",
            "페루 총 7 개\n",
            "(2015, 53)(2016, 1)(2016, 2)(2016, 3)(2016, 4)(2016, 5)(2016, 6)(2016, 7)(2016, 8)(2016, 9)(2016, 10)(2016, 11)(2016, 12)(2016, 13)(2016, 14)(2016, 15)(2016, 16)(2016, 17)(2016, 18)(2016, 19)(2016, 20)(2016, 21)(2016, 22)(2016, 23)(2016, 24)(2016, 25)(2016, 26)(2016, 27)(2016, 28)(2016, 29)(2016, 30)(2016, 31)(2016, 32)(2016, 33)(2016, 34)(2016, 35)(2016, 36)(2016, 37)(2016, 38)(2016, 39)(2016, 40)(2016, 41)(2016, 42)(2016, 43)(2016, 44)(2016, 45)(2016, 46)(2016, 47)(2016, 48)(2016, 49)(2016, 51)(2016, 52)(2017, 1)(2017, 2)(2017, 3)(2017, 4)(2017, 5)(2017, 6)(2017, 7)(2017, 8)(2017, 9)(2017, 10)(2017, 12)(2017, 13)(2017, 14)(2017, 15)(2017, 16)(2017, 17)(2017, 18)(2017, 19)(2017, 20)(2017, 21)(2017, 22)(2017, 23)(2017, 24)(2017, 25)(2017, 26)(2017, 27)(2017, 28)(2017, 29)(2017, 30)(2017, 31)(2017, 32)(2017, 33)(2017, 34)(2017, 35)(2017, 36)(2017, 37)(2017, 38)(2017, 39)(2017, 40)(2017, 41)(2017, 42)(2017, 43)(2017, 44)(2017, 45)(2017, 46)(2017, 47)(2017, 48)(2017, 50)(2017, 51)(2017, 52)(2018, 1)(2018, 2)(2018, 3)(2018, 4)(2018, 5)(2018, 6)(2018, 8)(2018, 9)(2018, 10)(2018, 11)(2018, 12)(2018, 13)(2018, 14)(2018, 15)(2018, 16)(2018, 17)(2018, 18)(2018, 19)(2018, 20)(2018, 21)(2018, 22)(2018, 23)(2018, 24)(2018, 25)(2018, 26)(2018, 27)(2018, 28)(2018, 29)(2018, 30)(2018, 31)(2018, 32)(2018, 33)(2018, 34)(2018, 35)(2018, 36)(2018, 37)(2018, 38)(2018, 39)(2018, 40)(2018, 41)(2018, 42)(2018, 43)(2018, 44)(2018, 45)(2018, 46)(2018, 47)(2018, 48)(2018, 49)(2018, 51)(2018, 52)(2019, 1)(2019, 2)(2019, 3)(2019, 4)(2019, 5)(2019, 6)(2019, 7)(2019, 8)(2019, 9)(2019, 10)(2019, 11)(2019, 12)(2019, 13)(2019, 14)(2019, 15)(2019, 16)(2019, 17)(2019, 18)(2019, 19)(2019, 20)(2019, 21)(2019, 22)(2019, 23)(2019, 24)(2019, 25)(2019, 26)(2019, 27)(2019, 28)(2019, 29)(2019, 30)(2019, 31)(2019, 32)(2019, 33)(2019, 34)(2019, 35)(2019, 36)(2019, 37)(2019, 38)(2019, 39)(2019, 40)(2019, 41)(2019, 42)(2019, 43)(2019, 44)(2019, 45)(2019, 46)(2019, 47)(2019, 48)(2019, 50)(2019, 51)(2019, 52)(2020, 1)\n",
            "missing 204 values\n",
            "\n",
            "칠레 총 297 개\n",
            "(2016, 5)\n",
            "missing 1 values\n"
          ],
          "name": "stdout"
        }
      ]
    },
    {
      "cell_type": "markdown",
      "metadata": {
        "id": "nc5kcuRK-j8K"
      },
      "source": [
        "## Filling Missing Values\n",
        "\n",
        "- 노르웨이, 중국은 결측치 없음\n",
        "- 태국, 베트남, 칠레는 결측치 1개\n",
        "> 전/차주 데이터 평균으로 채워넣기\n",
        "- 페루는 결측치 299개\n",
        "> 사용 불가"
      ]
    },
    {
      "cell_type": "code",
      "metadata": {
        "id": "_l7A9A8TsW83"
      },
      "source": [
        "def get_avg(year, week, country, value):\n",
        "  return (df_weather[(df_weather['year'] == year) & (df_weather['week'] == week + 1) & (df_weather['CTRY_1'] == country)].iloc[0][value] \n",
        "          + df_weather[(df_weather['year'] == year) & (df_weather['week'] == week - 1) & (df_weather['CTRY_1'] == country)].iloc[0][value]) / 2"
      ],
      "execution_count": 42,
      "outputs": []
    },
    {
      "cell_type": "code",
      "metadata": {
        "id": "Aj4zQYt6-j8N",
        "colab": {
          "base_uri": "https://localhost:8080/"
        },
        "outputId": "26209764-e44f-4f8f-de3f-60e8a7d53530"
      },
      "source": [
        "df_weather = df_weather.append({'year': 2016,\n",
        "                                'week': 11,\n",
        "                                'CTRY_1': '태국',\n",
        "                                'rain': get_avg(2016, 11, '태국', 'rain'),\n",
        "                                'wind': get_avg(2016, 11, '태국', 'wind'),\n",
        "                                'temperature': get_avg(2016, 11, '태국', 'temperature')},\n",
        "                               ignore_index=True)\n",
        "df_weather = df_weather.append({'year': 2016,\n",
        "                                'week': 6,\n",
        "                                'CTRY_1': '베트남',\n",
        "                                'rain': get_avg(2016, 6, '베트남', 'rain'),\n",
        "                                'wind': get_avg(2016, 6, '베트남', 'wind'),\n",
        "                                'temperature': get_avg(2016, 6, '베트남', 'temperature')},\n",
        "                               ignore_index=True)\n",
        "df_weather = df_weather.append({'year': 2016,\n",
        "                                'week': 5,\n",
        "                                'CTRY_1': '칠레',\n",
        "                                'rain': get_avg(2016, 5, '칠레', 'rain'),\n",
        "                                'wind': get_avg(2016, 5, '칠레', 'wind'),\n",
        "                                'temperature': get_avg(2016, 5, '칠레', 'temperature')},\n",
        "                               ignore_index=True)\n",
        "\n",
        "for country in [\"태국\", \"베트남\", \"칠레\"]:\n",
        "    print()\n",
        "    print(country, \"총\", len(df_weather[df_weather['CTRY_1'] == country]), \"개\")\n",
        "    check_week(df_weather[df_weather['CTRY_1'] == country])"
      ],
      "execution_count": 43,
      "outputs": [
        {
          "output_type": "stream",
          "text": [
            "\n",
            "태국 총 298 개\n",
            "missing 0 values\n",
            "\n",
            "베트남 총 299 개\n",
            "missing 0 values\n",
            "\n",
            "칠레 총 298 개\n",
            "missing 0 values\n"
          ],
          "name": "stdout"
        }
      ]
    },
    {
      "cell_type": "markdown",
      "metadata": {
        "id": "6Bcx08HU7TKr"
      },
      "source": [
        "## Add to Training Data"
      ]
    },
    {
      "cell_type": "code",
      "metadata": {
        "id": "eya8U1xR7TKr"
      },
      "source": [
        "df_train = pd.merge(df_train, df_weather, how='left', on=['year', 'week', 'CTRY_1'])"
      ],
      "execution_count": 46,
      "outputs": []
    },
    {
      "cell_type": "markdown",
      "metadata": {
        "id": "351DAvcP7TKs"
      },
      "source": [
        "---"
      ]
    },
    {
      "cell_type": "markdown",
      "metadata": {
        "id": "gp3zCFeg7TKs"
      },
      "source": [
        "# Salinity"
      ]
    },
    {
      "cell_type": "markdown",
      "metadata": {
        "id": "600RYV_S7TKs"
      },
      "source": [
        "## Import Data"
      ]
    },
    {
      "cell_type": "code",
      "metadata": {
        "id": "hiXlsChx7TKs"
      },
      "source": [
        "# df_salinity = pd.read_csv(os.path.join(root, 'raw_salinity.csv'))"
      ],
      "execution_count": null,
      "outputs": []
    },
    {
      "cell_type": "markdown",
      "metadata": {
        "id": "5nG6S2767TKs"
      },
      "source": [
        "## Drop Columns & Rows"
      ]
    },
    {
      "cell_type": "code",
      "metadata": {
        "id": "OiA00iG97TKs"
      },
      "source": [
        "# df_salinity.drop(df_salinity.columns[2], inplace=True, axis=1)\n",
        "# df_salinity = df_salinity[(2015 <= df_salinity['obs_year']) & (df_salinity['obs_year'] <= 2021)]"
      ],
      "execution_count": null,
      "outputs": []
    },
    {
      "cell_type": "markdown",
      "metadata": {
        "id": "L65N0d8w7TKs"
      },
      "source": [
        "2020, 2021 데이터의 부재로 인해 보류"
      ]
    },
    {
      "cell_type": "markdown",
      "metadata": {
        "id": "_HH1O6bj7TKs"
      },
      "source": [
        "---"
      ]
    },
    {
      "cell_type": "markdown",
      "metadata": {
        "id": "acx-1jLF7TKt"
      },
      "source": [
        "# Oil"
      ]
    },
    {
      "cell_type": "markdown",
      "metadata": {
        "id": "oCJclrSZ7TKt"
      },
      "source": [
        "## Import Data"
      ]
    },
    {
      "cell_type": "code",
      "metadata": {
        "id": "rZoXA4Hq7TKt"
      },
      "source": [
        "df_oil = pd.read_csv(os.path.join(root, 'raw_oil.csv'))\n",
        "df_oil_dubai = pd.read_csv(os.path.join(root, 'raw_oil_dubai.csv'))\n",
        "df_oil_brent = pd.read_csv(os.path.join(root, 'raw_oil_brent.csv'))"
      ],
      "execution_count": 111,
      "outputs": []
    },
    {
      "cell_type": "markdown",
      "metadata": {
        "id": "r5qohDxB7TKt"
      },
      "source": [
        "## Preprocess"
      ]
    },
    {
      "cell_type": "code",
      "metadata": {
        "id": "B6fv1TdP7TKt"
      },
      "source": [
        "from datetime import datetime\n",
        "def preprocess_oil(df):\n",
        "    df['date'] = pd.to_datetime(df['날짜'].str[:4] + df['날짜'].str[6:8] + df['날짜'].str[10:12])\n",
        "    set_week(df, 'date')  # 날짜 데이터 정리\n",
        "    df['oil'] = df[['year', 'week', '종가']].groupby(['year', 'week']).transform('mean')\n",
        "    df.drop(columns = ['날짜', '오픈', '고가', '저가', '거래량', '변동 %', '종가'], inplace=True, axis=1)\n",
        "    df.drop_duplicates(inplace=True)\n",
        "    return df"
      ],
      "execution_count": 112,
      "outputs": []
    },
    {
      "cell_type": "code",
      "metadata": {
        "id": "K9anYpOM7TKt",
        "scrolled": false
      },
      "source": [
        "df_oil = preprocess_oil(df_oil)\n",
        "df_oil_dubai = preprocess_oil(df_oil_dubai)\n",
        "df_oil_brent = preprocess_oil(df_oil_brent)"
      ],
      "execution_count": 113,
      "outputs": []
    },
    {
      "cell_type": "markdown",
      "metadata": {
        "id": "pyvGCh4F7TKt"
      },
      "source": [
        "## Check"
      ]
    },
    {
      "cell_type": "code",
      "metadata": {
        "id": "z65asRITx3tD"
      },
      "source": [
        "for i in range(1, 53):\n",
        "  if i not in (list(df_oil_brent[df_oil_brent['year'] == 2019].sort_values(by=['year', 'week'])['week'])):\n",
        "    print(i)"
      ],
      "execution_count": 131,
      "outputs": []
    },
    {
      "cell_type": "code",
      "metadata": {
        "id": "bMwUgDPN7TKt",
        "colab": {
          "base_uri": "https://localhost:8080/"
        },
        "outputId": "0ffa1531-ad6c-401c-8578-116b67cbe1c7"
      },
      "source": [
        "check_week(df_oil)\n",
        "check_week(df_oil_dubai)\n",
        "check_week(df_oil_brent)"
      ],
      "execution_count": 114,
      "outputs": [
        {
          "output_type": "stream",
          "text": [
            "missing 0 values\n",
            "missing 0 values\n",
            "missing 0 values\n"
          ],
          "name": "stdout"
        }
      ]
    },
    {
      "cell_type": "markdown",
      "metadata": {
        "id": "S0xEY7ox7TKt"
      },
      "source": [
        "모든 데이터가 결측치는 없지만,  \n",
        "df_oil 에 해당하는 wti 종가가 가장 예민하게 반응하는 값이므로  \n",
        "이를 사용하도록 한다"
      ]
    },
    {
      "cell_type": "markdown",
      "metadata": {
        "id": "P6aYxyz67TKt"
      },
      "source": [
        "## Add to Training Data"
      ]
    },
    {
      "cell_type": "code",
      "metadata": {
        "id": "1Muczrc27TKt"
      },
      "source": [
        "df_train = pd.merge(df_train, df_oil, how='left', on=['year', 'week'])"
      ],
      "execution_count": 132,
      "outputs": []
    },
    {
      "cell_type": "markdown",
      "metadata": {
        "id": "piIkfoXt7TKu"
      },
      "source": [
        "---"
      ]
    },
    {
      "cell_type": "markdown",
      "metadata": {
        "id": "B1Ds8aYs7TKu"
      },
      "source": [
        "# Korea Weather"
      ]
    },
    {
      "cell_type": "markdown",
      "metadata": {
        "id": "5XbJR-Ul7TKu"
      },
      "source": [
        "## Import Data"
      ]
    },
    {
      "cell_type": "code",
      "metadata": {
        "id": "pb-geJf27TKu"
      },
      "source": [
        "df_weather_kr = pd.read_csv(os.path.join(root, 'raw_weather_korea.csv'), encoding='euc-kr')"
      ],
      "execution_count": 134,
      "outputs": []
    },
    {
      "cell_type": "markdown",
      "metadata": {
        "id": "FlOKa7c37TKu"
      },
      "source": [
        "## Preprocess Date"
      ]
    },
    {
      "cell_type": "code",
      "metadata": {
        "id": "thyMSwfu7TKu"
      },
      "source": [
        "df_weather_kr['date'] = pd.to_datetime(df_weather_kr['일시'].str[:4] + df_weather_kr['일시'].str[5:7] + df_weather_kr['일시'].str[8:])\n",
        "set_week(df_weather_kr, 'date')"
      ],
      "execution_count": 136,
      "outputs": []
    },
    {
      "cell_type": "code",
      "metadata": {
        "colab": {
          "base_uri": "https://localhost:8080/",
          "height": 203
        },
        "id": "T6YO3-xS01o2",
        "outputId": "175db995-fa87-4395-c5cd-aeb962365021"
      },
      "source": [
        "df_weather_kr.sample(5)"
      ],
      "execution_count": 137,
      "outputs": [
        {
          "output_type": "execute_result",
          "data": {
            "text/html": [
              "<div>\n",
              "<style scoped>\n",
              "    .dataframe tbody tr th:only-of-type {\n",
              "        vertical-align: middle;\n",
              "    }\n",
              "\n",
              "    .dataframe tbody tr th {\n",
              "        vertical-align: top;\n",
              "    }\n",
              "\n",
              "    .dataframe thead th {\n",
              "        text-align: right;\n",
              "    }\n",
              "</style>\n",
              "<table border=\"1\" class=\"dataframe\">\n",
              "  <thead>\n",
              "    <tr style=\"text-align: right;\">\n",
              "      <th></th>\n",
              "      <th>지점</th>\n",
              "      <th>일시</th>\n",
              "      <th>평균 풍속(m/s)</th>\n",
              "      <th>평균 기온(°C)</th>\n",
              "      <th>평균 수온(°C)</th>\n",
              "      <th>year</th>\n",
              "      <th>week</th>\n",
              "    </tr>\n",
              "  </thead>\n",
              "  <tbody>\n",
              "    <tr>\n",
              "      <th>26211</th>\n",
              "      <td>22187</td>\n",
              "      <td>2018-02-14</td>\n",
              "      <td>9.3</td>\n",
              "      <td>12.6</td>\n",
              "      <td>15.8</td>\n",
              "      <td>2018</td>\n",
              "      <td>7</td>\n",
              "    </tr>\n",
              "    <tr>\n",
              "      <th>11323</th>\n",
              "      <td>22105</td>\n",
              "      <td>2019-12-21</td>\n",
              "      <td>6.4</td>\n",
              "      <td>7.9</td>\n",
              "      <td>17.2</td>\n",
              "      <td>2019</td>\n",
              "      <td>51</td>\n",
              "    </tr>\n",
              "    <tr>\n",
              "      <th>14597</th>\n",
              "      <td>22107</td>\n",
              "      <td>2018-02-03</td>\n",
              "      <td>NaN</td>\n",
              "      <td>3.4</td>\n",
              "      <td>14.9</td>\n",
              "      <td>2018</td>\n",
              "      <td>5</td>\n",
              "    </tr>\n",
              "    <tr>\n",
              "      <th>25327</th>\n",
              "      <td>22186</td>\n",
              "      <td>2021-02-01</td>\n",
              "      <td>6.2</td>\n",
              "      <td>7.4</td>\n",
              "      <td>7.5</td>\n",
              "      <td>2021</td>\n",
              "      <td>5</td>\n",
              "    </tr>\n",
              "    <tr>\n",
              "      <th>18648</th>\n",
              "      <td>22183</td>\n",
              "      <td>2018-06-19</td>\n",
              "      <td>1.8</td>\n",
              "      <td>20.3</td>\n",
              "      <td>20.0</td>\n",
              "      <td>2018</td>\n",
              "      <td>25</td>\n",
              "    </tr>\n",
              "  </tbody>\n",
              "</table>\n",
              "</div>"
            ],
            "text/plain": [
              "          지점          일시  평균 풍속(m/s)  평균 기온(°C)  평균 수온(°C)  year  week\n",
              "26211  22187  2018-02-14         9.3       12.6       15.8  2018     7\n",
              "11323  22105  2019-12-21         6.4        7.9       17.2  2019    51\n",
              "14597  22107  2018-02-03         NaN        3.4       14.9  2018     5\n",
              "25327  22186  2021-02-01         6.2        7.4        7.5  2021     5\n",
              "18648  22183  2018-06-19         1.8       20.3       20.0  2018    25"
            ]
          },
          "metadata": {},
          "execution_count": 137
        }
      ]
    },
    {
      "cell_type": "markdown",
      "metadata": {
        "id": "kYt6KcQk7TKu"
      },
      "source": [
        "## Group\n",
        "일자 별로 평균 구하기"
      ]
    },
    {
      "cell_type": "code",
      "metadata": {
        "id": "aihGWxu47TKu"
      },
      "source": [
        "df_weather_kr['wind_kr'] = df_weather_kr[['year', 'week', '평균 풍속(m/s)']].groupby(['year', 'week']).transform('mean')\n",
        "df_weather_kr['temperature_kr'] = df_weather_kr[['year', 'week', '평균 기온(°C)']].groupby(['year', 'week']).transform('mean')\n",
        "df_weather_kr['water_temp_kr'] = df_weather_kr[['year', 'week', '평균 수온(°C)']].groupby(['year', 'week']).transform('mean')"
      ],
      "execution_count": 138,
      "outputs": []
    },
    {
      "cell_type": "markdown",
      "metadata": {
        "id": "iRuMRtrf7TKu"
      },
      "source": [
        "## Drop Column\n",
        "어차피 전부 해안가 대한민국이라 지점은 필요없다  \n",
        "사용한 컬럼은 제거한다"
      ]
    },
    {
      "cell_type": "code",
      "metadata": {
        "id": "e1Yd77_L7TKu"
      },
      "source": [
        "drop = ['지점', '일시', '평균 풍속(m/s)', '평균 기온(°C)', '평균 수온(°C)']"
      ],
      "execution_count": 139,
      "outputs": []
    },
    {
      "cell_type": "code",
      "metadata": {
        "id": "cDy5qdfk7TKv"
      },
      "source": [
        "df_weather_kr.drop(columns=drop, inplace=True, axis=1)\n",
        "df_weather_kr.drop_duplicates(inplace=True)"
      ],
      "execution_count": 140,
      "outputs": []
    },
    {
      "cell_type": "markdown",
      "metadata": {
        "id": "19HD2UlJ1asv"
      },
      "source": [
        "## Check"
      ]
    },
    {
      "cell_type": "code",
      "metadata": {
        "colab": {
          "base_uri": "https://localhost:8080/"
        },
        "id": "T-Oxuayn1ZUr",
        "outputId": "1127afe4-e2f1-41b0-8e56-c602b84b82cf"
      },
      "source": [
        "check_week(df_weather_kr)"
      ],
      "execution_count": 142,
      "outputs": [
        {
          "output_type": "stream",
          "text": [
            "missing 0 values\n"
          ],
          "name": "stdout"
        }
      ]
    },
    {
      "cell_type": "markdown",
      "metadata": {
        "id": "gH6G-gCb7TKv"
      },
      "source": [
        "## Add to Training Data"
      ]
    },
    {
      "cell_type": "code",
      "metadata": {
        "id": "pAeFVJZm7TKv"
      },
      "source": [
        "df_train = pd.merge(df_train, df_weather_kr, how='left', on=['year', 'week'])"
      ],
      "execution_count": 143,
      "outputs": []
    },
    {
      "cell_type": "markdown",
      "metadata": {
        "id": "0s4waw097TKv"
      },
      "source": [
        "---"
      ]
    },
    {
      "cell_type": "markdown",
      "metadata": {
        "id": "L0rIG3y37TKv"
      },
      "source": [
        "# 소비자물가지수"
      ]
    },
    {
      "cell_type": "markdown",
      "metadata": {
        "id": "UEjWmwdM7TKv"
      },
      "source": [
        "## Import Data"
      ]
    },
    {
      "cell_type": "code",
      "metadata": {
        "id": "TcpeFP4j7TKv"
      },
      "source": [
        "cpi = pd.read_csv(os.path.join(root, 'raw_cpi_purpose.csv'), encoding='cp949')  # CPI"
      ],
      "execution_count": null,
      "outputs": []
    },
    {
      "cell_type": "markdown",
      "metadata": {
        "id": "miqYSGQFFeUR"
      },
      "source": [
        "## 소비자물가 총지수"
      ]
    },
    {
      "cell_type": "markdown",
      "metadata": {
        "id": "lusxs6UZF3mJ"
      },
      "source": [
        "### Drop Columns/Rows"
      ]
    },
    {
      "cell_type": "code",
      "metadata": {
        "id": "8E0xt4saFiKH"
      },
      "source": [
        "cpi_purpose.drop('시도별',axis=1,inplace=True)\n",
        "\n",
        "cpi_purpose_copy = cpi_purpose.copy()\n",
        "\n",
        "cpi_purpose_copy.drop('지출목적별',axis=1,inplace=True)\n",
        "\n",
        "cpi_total = cpi_purpose_copy.iloc[0,:] # 전국 소비자물가 총지수만 추출\n",
        "\n",
        "cpi_total = pd.DataFrame(cpi_total.values,columns=['cpi'],index=cpi_total.index)\n",
        "\n",
        "cpi_total"
      ],
      "execution_count": null,
      "outputs": []
    },
    {
      "cell_type": "markdown",
      "metadata": {
        "id": "REUhHqUwFswV"
      },
      "source": [
        "### Pivoting"
      ]
    },
    {
      "cell_type": "code",
      "metadata": {
        "id": "rBe0CV3CFu3k"
      },
      "source": [
        "cpi_purpose_copy = cpi_purpose.copy()\n",
        "\n",
        "cpi_purpose_copy.drop('지출목적별',axis=1,inplace=True)\n",
        "\n",
        "cpi_total = cpi_purpose_copy.iloc[0,:] # 전국 소비자물가 총지수만 추출\n",
        "\n",
        "cpi_total = pd.DataFrame(cpi_total.values,columns=['cpi'],index=cpi_total.index)\n",
        "\n",
        "cpi_total"
      ],
      "execution_count": null,
      "outputs": []
    },
    {
      "cell_type": "markdown",
      "metadata": {
        "id": "LE451chsESbg"
      },
      "source": [
        "## 지출목적별 소비자물가지수"
      ]
    },
    {
      "cell_type": "code",
      "metadata": {
        "colab": {
          "base_uri": "https://localhost:8080/",
          "height": 433
        },
        "id": "0VfK9Sjy7TKw",
        "outputId": "82c96735-312f-4014-dcc7-cb691797e528"
      },
      "source": [
        "cpi_purpose2 = cpi_purpose.iloc[[1,11],:]\n",
        "\n",
        "cpi_purpose2 # 전국 식료품별, 음식서비스별 cpi만 추출"
      ],
      "execution_count": null,
      "outputs": [
        {
          "data": {
            "text/html": [
              "<div>\n",
              "<style scoped>\n",
              "    .dataframe tbody tr th:only-of-type {\n",
              "        vertical-align: middle;\n",
              "    }\n",
              "\n",
              "    .dataframe tbody tr th {\n",
              "        vertical-align: top;\n",
              "    }\n",
              "\n",
              "    .dataframe thead th {\n",
              "        text-align: right;\n",
              "    }\n",
              "</style>\n",
              "<table border=\"1\" class=\"dataframe\">\n",
              "  <thead>\n",
              "    <tr style=\"text-align: right;\">\n",
              "      <th></th>\n",
              "      <th>지출목적별</th>\n",
              "      <th>2015. 12</th>\n",
              "      <th>2016. 01</th>\n",
              "      <th>2016. 02</th>\n",
              "      <th>2016. 03</th>\n",
              "      <th>2016. 04</th>\n",
              "      <th>2016. 05</th>\n",
              "      <th>2016. 06</th>\n",
              "      <th>2016. 07</th>\n",
              "      <th>2016. 08</th>\n",
              "      <th>2016. 09</th>\n",
              "      <th>2016. 10</th>\n",
              "      <th>2016. 11</th>\n",
              "      <th>2016. 12</th>\n",
              "      <th>2017. 01</th>\n",
              "      <th>2017. 02</th>\n",
              "      <th>2017. 03</th>\n",
              "      <th>2017. 04</th>\n",
              "      <th>2017. 05</th>\n",
              "      <th>2017. 06</th>\n",
              "      <th>2017. 07</th>\n",
              "      <th>2017. 08</th>\n",
              "      <th>2017. 09</th>\n",
              "      <th>2017. 10</th>\n",
              "      <th>2017. 11</th>\n",
              "      <th>2017. 12</th>\n",
              "      <th>2018. 01</th>\n",
              "      <th>2018. 02</th>\n",
              "      <th>2018. 03</th>\n",
              "      <th>2018. 04</th>\n",
              "      <th>2018. 05</th>\n",
              "      <th>2018. 06</th>\n",
              "      <th>2018. 07</th>\n",
              "      <th>2018. 08</th>\n",
              "      <th>2018. 09</th>\n",
              "      <th>2018. 10</th>\n",
              "      <th>2018. 11</th>\n",
              "      <th>2018. 12</th>\n",
              "      <th>2019. 01</th>\n",
              "      <th>2019. 02</th>\n",
              "      <th>2019. 03</th>\n",
              "      <th>2019. 04</th>\n",
              "      <th>2019. 05</th>\n",
              "      <th>2019. 06</th>\n",
              "      <th>2019. 07</th>\n",
              "      <th>2019. 08</th>\n",
              "      <th>2019. 09</th>\n",
              "      <th>2019. 10</th>\n",
              "      <th>2019. 11</th>\n",
              "      <th>2019. 12</th>\n",
              "      <th>2020. 01</th>\n",
              "      <th>2020. 02</th>\n",
              "      <th>2020. 03</th>\n",
              "      <th>2020. 04</th>\n",
              "      <th>2020. 05</th>\n",
              "      <th>2020. 06</th>\n",
              "      <th>2020. 07</th>\n",
              "      <th>2020. 08</th>\n",
              "      <th>2020. 09</th>\n",
              "      <th>2020. 10</th>\n",
              "      <th>2020. 11</th>\n",
              "      <th>2020. 12</th>\n",
              "      <th>2021. 01</th>\n",
              "      <th>2021. 02</th>\n",
              "      <th>2021. 03</th>\n",
              "      <th>2021. 04</th>\n",
              "      <th>2021. 05</th>\n",
              "      <th>2021. 06</th>\n",
              "    </tr>\n",
              "  </thead>\n",
              "  <tbody>\n",
              "    <tr>\n",
              "      <th>1</th>\n",
              "      <td>01 식료품 · 비주류음료</td>\n",
              "      <td>99.95</td>\n",
              "      <td>100.76</td>\n",
              "      <td>103.43</td>\n",
              "      <td>102.25</td>\n",
              "      <td>102.30</td>\n",
              "      <td>101.24</td>\n",
              "      <td>99.66</td>\n",
              "      <td>99.65</td>\n",
              "      <td>101.02</td>\n",
              "      <td>105.94</td>\n",
              "      <td>104.48</td>\n",
              "      <td>102.93</td>\n",
              "      <td>104.02</td>\n",
              "      <td>107.16</td>\n",
              "      <td>107.26</td>\n",
              "      <td>106.32</td>\n",
              "      <td>105.19</td>\n",
              "      <td>104.85</td>\n",
              "      <td>104.09</td>\n",
              "      <td>104.39</td>\n",
              "      <td>107.5</td>\n",
              "      <td>108.84</td>\n",
              "      <td>106.16</td>\n",
              "      <td>103.20</td>\n",
              "      <td>104.44</td>\n",
              "      <td>106.00</td>\n",
              "      <td>109.07</td>\n",
              "      <td>107.32</td>\n",
              "      <td>107.86</td>\n",
              "      <td>106.85</td>\n",
              "      <td>105.48</td>\n",
              "      <td>105.80</td>\n",
              "      <td>111.34</td>\n",
              "      <td>115.20</td>\n",
              "      <td>112.16</td>\n",
              "      <td>108.67</td>\n",
              "      <td>108.86</td>\n",
              "      <td>108.8</td>\n",
              "      <td>109.54</td>\n",
              "      <td>108.48</td>\n",
              "      <td>109.4</td>\n",
              "      <td>108.83</td>\n",
              "      <td>107.64</td>\n",
              "      <td>106.68</td>\n",
              "      <td>107.70</td>\n",
              "      <td>110.52</td>\n",
              "      <td>110.74</td>\n",
              "      <td>107.89</td>\n",
              "      <td>109.01</td>\n",
              "      <td>110.81</td>\n",
              "      <td>110.27</td>\n",
              "      <td>111.26</td>\n",
              "      <td>111.29</td>\n",
              "      <td>111.48</td>\n",
              "      <td>111.18</td>\n",
              "      <td>111.28</td>\n",
              "      <td>114.78</td>\n",
              "      <td>119.68</td>\n",
              "      <td>119.82</td>\n",
              "      <td>115.35</td>\n",
              "      <td>115.79</td>\n",
              "      <td>118.04</td>\n",
              "      <td>120.97</td>\n",
              "      <td>120.61</td>\n",
              "      <td>120.34</td>\n",
              "      <td>119.70</td>\n",
              "      <td>118.43</td>\n",
              "    </tr>\n",
              "    <tr>\n",
              "      <th>11</th>\n",
              "      <td>11 음식 및 숙박</td>\n",
              "      <td>101.06</td>\n",
              "      <td>101.40</td>\n",
              "      <td>101.67</td>\n",
              "      <td>101.98</td>\n",
              "      <td>102.26</td>\n",
              "      <td>102.40</td>\n",
              "      <td>102.50</td>\n",
              "      <td>102.74</td>\n",
              "      <td>102.91</td>\n",
              "      <td>102.92</td>\n",
              "      <td>103.02</td>\n",
              "      <td>103.07</td>\n",
              "      <td>103.27</td>\n",
              "      <td>103.75</td>\n",
              "      <td>104.02</td>\n",
              "      <td>104.31</td>\n",
              "      <td>104.49</td>\n",
              "      <td>104.80</td>\n",
              "      <td>104.87</td>\n",
              "      <td>105.20</td>\n",
              "      <td>105.5</td>\n",
              "      <td>105.36</td>\n",
              "      <td>105.57</td>\n",
              "      <td>105.67</td>\n",
              "      <td>106.07</td>\n",
              "      <td>106.55</td>\n",
              "      <td>106.94</td>\n",
              "      <td>107.29</td>\n",
              "      <td>107.70</td>\n",
              "      <td>108.07</td>\n",
              "      <td>108.17</td>\n",
              "      <td>108.52</td>\n",
              "      <td>108.76</td>\n",
              "      <td>108.58</td>\n",
              "      <td>108.74</td>\n",
              "      <td>108.96</td>\n",
              "      <td>109.35</td>\n",
              "      <td>109.7</td>\n",
              "      <td>109.89</td>\n",
              "      <td>109.63</td>\n",
              "      <td>109.8</td>\n",
              "      <td>110.01</td>\n",
              "      <td>110.11</td>\n",
              "      <td>110.35</td>\n",
              "      <td>110.64</td>\n",
              "      <td>110.09</td>\n",
              "      <td>110.27</td>\n",
              "      <td>110.29</td>\n",
              "      <td>110.45</td>\n",
              "      <td>110.97</td>\n",
              "      <td>110.93</td>\n",
              "      <td>110.82</td>\n",
              "      <td>110.90</td>\n",
              "      <td>110.86</td>\n",
              "      <td>110.95</td>\n",
              "      <td>111.13</td>\n",
              "      <td>111.35</td>\n",
              "      <td>111.25</td>\n",
              "      <td>111.51</td>\n",
              "      <td>111.41</td>\n",
              "      <td>111.67</td>\n",
              "      <td>111.96</td>\n",
              "      <td>112.26</td>\n",
              "      <td>112.42</td>\n",
              "      <td>112.93</td>\n",
              "      <td>113.11</td>\n",
              "      <td>113.37</td>\n",
              "    </tr>\n",
              "  </tbody>\n",
              "</table>\n",
              "</div>"
            ],
            "text/plain": [
              "             지출목적별  2015. 12  2016. 01  ...  2021. 04  2021. 05  2021. 06\n",
              "1   01 식료품 · 비주류음료     99.95    100.76  ...    120.34    119.70    118.43\n",
              "11      11 음식 및 숙박    101.06    101.40  ...    112.93    113.11    113.37\n",
              "\n",
              "[2 rows x 68 columns]"
            ]
          },
          "execution_count": 354,
          "metadata": {},
          "output_type": "execute_result"
        }
      ]
    },
    {
      "cell_type": "code",
      "metadata": {
        "colab": {
          "base_uri": "https://localhost:8080/",
          "height": 417
        },
        "id": "v3IqwmxIDoKz",
        "outputId": "eea093d7-f300-4893-ec3e-a16888ee75e2"
      },
      "source": [
        "cpi_purpose3 = pd.DataFrame(cpi_purpose2.iloc[0,:].values,index = cpi_purpose2.columns,columns=['식료품 cpi'])\n",
        "\n",
        "cpi_purpose3['음식 및 숙박 cpi'] = cpi_purpose2.iloc[1,:].values\n",
        "\n",
        "cpi_purpose3.drop('지출목적별',axis=0,inplace=True) # 지출목적별 행 삭제\n",
        "\n",
        "cpi_purpose3 # 식료품, 음식 cpi"
      ],
      "execution_count": null,
      "outputs": [
        {
          "data": {
            "text/html": [
              "<div>\n",
              "<style scoped>\n",
              "    .dataframe tbody tr th:only-of-type {\n",
              "        vertical-align: middle;\n",
              "    }\n",
              "\n",
              "    .dataframe tbody tr th {\n",
              "        vertical-align: top;\n",
              "    }\n",
              "\n",
              "    .dataframe thead th {\n",
              "        text-align: right;\n",
              "    }\n",
              "</style>\n",
              "<table border=\"1\" class=\"dataframe\">\n",
              "  <thead>\n",
              "    <tr style=\"text-align: right;\">\n",
              "      <th></th>\n",
              "      <th>식료품 cpi</th>\n",
              "      <th>음식 및 숙박 cpi</th>\n",
              "    </tr>\n",
              "  </thead>\n",
              "  <tbody>\n",
              "    <tr>\n",
              "      <th>2015. 12</th>\n",
              "      <td>99.95</td>\n",
              "      <td>101.06</td>\n",
              "    </tr>\n",
              "    <tr>\n",
              "      <th>2016. 01</th>\n",
              "      <td>100.76</td>\n",
              "      <td>101.4</td>\n",
              "    </tr>\n",
              "    <tr>\n",
              "      <th>2016. 02</th>\n",
              "      <td>103.43</td>\n",
              "      <td>101.67</td>\n",
              "    </tr>\n",
              "    <tr>\n",
              "      <th>2016. 03</th>\n",
              "      <td>102.25</td>\n",
              "      <td>101.98</td>\n",
              "    </tr>\n",
              "    <tr>\n",
              "      <th>2016. 04</th>\n",
              "      <td>102.3</td>\n",
              "      <td>102.26</td>\n",
              "    </tr>\n",
              "    <tr>\n",
              "      <th>...</th>\n",
              "      <td>...</td>\n",
              "      <td>...</td>\n",
              "    </tr>\n",
              "    <tr>\n",
              "      <th>2021. 02</th>\n",
              "      <td>120.97</td>\n",
              "      <td>112.26</td>\n",
              "    </tr>\n",
              "    <tr>\n",
              "      <th>2021. 03</th>\n",
              "      <td>120.61</td>\n",
              "      <td>112.42</td>\n",
              "    </tr>\n",
              "    <tr>\n",
              "      <th>2021. 04</th>\n",
              "      <td>120.34</td>\n",
              "      <td>112.93</td>\n",
              "    </tr>\n",
              "    <tr>\n",
              "      <th>2021. 05</th>\n",
              "      <td>119.7</td>\n",
              "      <td>113.11</td>\n",
              "    </tr>\n",
              "    <tr>\n",
              "      <th>2021. 06</th>\n",
              "      <td>118.43</td>\n",
              "      <td>113.37</td>\n",
              "    </tr>\n",
              "  </tbody>\n",
              "</table>\n",
              "<p>67 rows × 2 columns</p>\n",
              "</div>"
            ],
            "text/plain": [
              "         식료품 cpi 음식 및 숙박 cpi\n",
              "2015. 12   99.95      101.06\n",
              "2016. 01  100.76       101.4\n",
              "2016. 02  103.43      101.67\n",
              "2016. 03  102.25      101.98\n",
              "2016. 04   102.3      102.26\n",
              "...          ...         ...\n",
              "2021. 02  120.97      112.26\n",
              "2021. 03  120.61      112.42\n",
              "2021. 04  120.34      112.93\n",
              "2021. 05   119.7      113.11\n",
              "2021. 06  118.43      113.37\n",
              "\n",
              "[67 rows x 2 columns]"
            ]
          },
          "execution_count": 355,
          "metadata": {},
          "output_type": "execute_result"
        }
      ]
    },
    {
      "cell_type": "markdown",
      "metadata": {
        "id": "enlfpfJd7TKw"
      },
      "source": [
        "## Preprocess Date"
      ]
    },
    {
      "cell_type": "code",
      "metadata": {
        "id": "TYyzi8rh7TKw"
      },
      "source": [
        "cpi_total.reset_index(inplace=True)  # 날짜 인덱스 > 컬럼으로 변경\n",
        "cpi_purpose3.reset_index(inplace=True)  # 날짜 인덱스 > 컬럼으로 변경"
      ],
      "execution_count": null,
      "outputs": []
    },
    {
      "cell_type": "code",
      "metadata": {
        "id": "6-jU3p587TKw"
      },
      "source": [
        "cpi_total['year'] = cpi_total['index'].str[:4].astype('int')\n",
        "cpi_total['month'] = cpi_total['index'].str[5:].astype('int')\n",
        "cpi_total.drop(columns=['index'], inplace=True, axis=1)\n",
        "\n",
        "cpi_purpose3['year'] = cpi_purpose3['index'].str[:4].astype('int')\n",
        "cpi_purpose3['month'] = cpi_purpose3['index'].str[5:].astype('int')\n",
        "cpi_purpose3.drop(columns=['index'], inplace=True, axis=1)"
      ],
      "execution_count": null,
      "outputs": []
    },
    {
      "cell_type": "markdown",
      "metadata": {
        "id": "0ow1qhem7TKw"
      },
      "source": [
        "## Add to Training Data"
      ]
    },
    {
      "cell_type": "code",
      "metadata": {
        "id": "LkF8mrnC7TKw"
      },
      "source": [
        "df_train = pd.merge(df_train, df_cpi1, how='left', on=['year', 'month'])\n",
        "df_train = pd.merge(df_train, df_cpi2, how='left', on=['year', 'month'])"
      ],
      "execution_count": null,
      "outputs": []
    },
    {
      "cell_type": "code",
      "metadata": {
        "id": "XesE8rQK7TKw"
      },
      "source": [
        "pd.set_option(\"display.max_columns\", None)\n",
        "df_train.sample(5)"
      ],
      "execution_count": null,
      "outputs": []
    },
    {
      "cell_type": "markdown",
      "metadata": {
        "id": "PBX2gc1s7TKw"
      },
      "source": [
        "---"
      ]
    },
    {
      "cell_type": "markdown",
      "metadata": {
        "id": "prmrs50a7TKw"
      },
      "source": [
        "# Final"
      ]
    },
    {
      "cell_type": "markdown",
      "metadata": {
        "id": "Ui7PhQlm7TKw"
      },
      "source": [
        "## One-hot Encoding"
      ]
    },
    {
      "cell_type": "code",
      "metadata": {
        "id": "D2wAIEY_7TKw"
      },
      "source": [
        "one_hot = ['CTRY_1', 'CTRY_2', 'P_PURPOSE', 'CATEGORY_1', 'CATEGORY_2', 'P_NAME']"
      ],
      "execution_count": null,
      "outputs": []
    },
    {
      "cell_type": "code",
      "metadata": {
        "id": "pRKkcACh7TKw"
      },
      "source": [
        "df_train = pd.get_dummies(df_train, columns=one_hot)"
      ],
      "execution_count": null,
      "outputs": []
    },
    {
      "cell_type": "markdown",
      "metadata": {
        "id": "9TjOq4PM7TKx"
      },
      "source": [
        "## Drop Columns"
      ]
    },
    {
      "cell_type": "code",
      "metadata": {
        "id": "02DqP-aR7TKx"
      },
      "source": [
        "drop = ['REG_DATE', 'P_TYPE', 'P_IMPORT_TYPE']"
      ],
      "execution_count": null,
      "outputs": []
    },
    {
      "cell_type": "code",
      "metadata": {
        "id": "Yr1Q_9kz7TKx"
      },
      "source": [
        "df_train.drop(columns = drop, inplace=True)"
      ],
      "execution_count": null,
      "outputs": []
    },
    {
      "cell_type": "code",
      "metadata": {
        "id": "0FCfWLME7TKx",
        "scrolled": false
      },
      "source": [
        "pd.set_option(\"display.max_columns\", None)\n",
        "df_train.sample(5)"
      ],
      "execution_count": null,
      "outputs": []
    },
    {
      "cell_type": "markdown",
      "metadata": {
        "id": "tgHQpmnw7TKx"
      },
      "source": [
        "## Save Files"
      ]
    },
    {
      "cell_type": "code",
      "metadata": {
        "id": "qbtEbNmE7TKx"
      },
      "source": [
        "def save_file(df, file_name):\n",
        "    df.to_csv(os.path.join(root, file_name), encoding='utf-8', index=False)"
      ],
      "execution_count": null,
      "outputs": []
    },
    {
      "cell_type": "code",
      "metadata": {
        "id": "x2Ynh9N27TKx"
      },
      "source": [
        "save_file(df_weather, 'preprocessed_weather.csv')  # 제조국 날씨\n",
        "save_file(df_oil, 'preprocessed_oil.csv')  # 원유 종가\n",
        "save_file(df_weather_kr, 'preprocessed_weather_korea.csv')  # 한국 날씨\n",
        "save_file(df_cpi1, 'preprocessed_cpi_region.csv')  # 전체 소비자물가지수\n",
        "save_file(df_cpi2, 'preprocessed_cpi_purpose.csv')  # 음식/음식서비스 소비자물가지수\n",
        "save_file(df_train, 'preprocessed_train.csv')  # 최종 df"
      ],
      "execution_count": null,
      "outputs": []
    },
    {
      "cell_type": "code",
      "metadata": {
        "id": "EJzpvZz-7TKx"
      },
      "source": [
        ""
      ],
      "execution_count": null,
      "outputs": []
    }
  ]
}