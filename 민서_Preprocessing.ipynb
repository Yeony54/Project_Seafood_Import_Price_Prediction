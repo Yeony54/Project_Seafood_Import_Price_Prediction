{
 "cells": [
  {
   "cell_type": "markdown",
   "metadata": {},
   "source": [
    "# Import"
   ]
  },
  {
   "cell_type": "markdown",
   "metadata": {},
   "source": [
    "## Library"
   ]
  },
  {
   "cell_type": "code",
   "execution_count": 64,
   "metadata": {},
   "outputs": [],
   "source": [
    "# Import Libraries\n",
    "import os\n",
    "import pandas as pd\n",
    "import numpy as np\n",
    "from scipy.stats import norm\n",
    "from sklearn.preprocessing import StandardScaler\n",
    "from scipy import stats\n",
    "import warnings\n",
    "warnings.filterwarnings('ignore')\n",
    "%matplotlib inline\n",
    "\n",
    "# Visuzliation Setting\n",
    "import matplotlib.pyplot as plt\n",
    "import matplotlib.font_manager as fm\n",
    "from matplotlib import rc\n",
    "from matplotlib import colors\n",
    "import seaborn as sns"
   ]
  },
  {
   "cell_type": "markdown",
   "metadata": {},
   "source": [
    "## Data"
   ]
  },
  {
   "cell_type": "code",
   "execution_count": 65,
   "metadata": {},
   "outputs": [],
   "source": [
    "root = os.path.join(os.getcwd(), 'DATA')"
   ]
  },
  {
   "cell_type": "code",
   "execution_count": 66,
   "metadata": {},
   "outputs": [],
   "source": [
    "df_raw = pd.read_excel(os.path.join(root, 'train.xlsx'))\n",
    "df_train = df_raw.copy()"
   ]
  },
  {
   "cell_type": "code",
   "execution_count": 101,
   "metadata": {},
   "outputs": [],
   "source": [
    "df_weather1 = pd.read_csv(os.path.join(root, 'GTS_SYNOP_TIM_20151228-20161227.csv'), encoding='euc-kr')\n",
    "df_weather2 = pd.read_csv(os.path.join(root, 'GTS_SYNOP_TIM_20161228-20171227.csv'), encoding='euc-kr')\n",
    "df_weather3 = pd.read_csv(os.path.join(root, 'GTS_SYNOP_TIM_20171228-20181227.csv'), encoding='euc-kr')\n",
    "df_weather4 = pd.read_csv(os.path.join(root, 'GTS_SYNOP_TIM_20181228-20191227.csv'), encoding='euc-kr')\n",
    "df_weather_code = pd.read_excel(os.path.join(root, '강수량번호국가매칭.xlsx'), header=None)"
   ]
  },
  {
   "cell_type": "code",
   "execution_count": null,
   "metadata": {},
   "outputs": [],
   "source": [
    "df_salinity = pd.read_csv(os.path.join(root, ''))"
   ]
  },
  {
   "cell_type": "markdown",
   "metadata": {},
   "source": [
    "# Preprocess"
   ]
  },
  {
   "cell_type": "code",
   "execution_count": 67,
   "metadata": {},
   "outputs": [],
   "source": [
    "df_train['year'] = df_train['REG_DATE'].dt.year\n",
    "df_train['month'] = df_train['REG_DATE'].dt.month\n",
    "df_train['day'] = df_train['REG_DATE'].dt.day"
   ]
  },
  {
   "cell_type": "code",
   "execution_count": 68,
   "metadata": {},
   "outputs": [],
   "source": [
    "import_type_list = set()\n",
    "for tmp in df_train.P_IMPORT_TYPE.unique():\n",
    "    for a in tmp.split(','):\n",
    "        import_type_list.add(a)"
   ]
  },
  {
   "cell_type": "code",
   "execution_count": 69,
   "metadata": {},
   "outputs": [],
   "source": [
    "for name in import_type_list:\n",
    "    df_train[name] = 0\n",
    "    df_train.loc[df_train['P_IMPORT_TYPE'].str.contains(name, regex=False), name] = 1"
   ]
  },
  {
   "cell_type": "code",
   "execution_count": 70,
   "metadata": {},
   "outputs": [],
   "source": [
    "df_train['VALUE_COUNT'] = 0;\n",
    "value_dict = {}\n",
    "for name, value in zip(df_train['P_NAME'].value_counts().index,df_train['P_NAME'].value_counts()):\n",
    "    value_dict[name] = value\n",
    "\n",
    "def value(col):\n",
    "    return value_dict[col]\n",
    "\n",
    "df_train['VALUE_COUNT'] = df_train['P_NAME'].apply(value)"
   ]
  },
  {
   "cell_type": "markdown",
   "metadata": {},
   "source": [
    "## add weather data"
   ]
  },
  {
   "cell_type": "code",
   "execution_count": 123,
   "metadata": {},
   "outputs": [],
   "source": [
    "df_train['wind'] = np.NaN\n",
    "df_train['rain'] = np.NaN\n",
    "df_train['temp'] = np.NaN"
   ]
  },
  {
   "cell_type": "markdown",
   "metadata": {},
   "source": [
    "**전처리해햘 부분**\n",
    "- \"지점/지점명\"을 기본데이터의 CTYR_1의 나라명과 맞춰줘야함\n",
    "    - df_weather_code을 사용하여 변경 필요\n",
    "    - df_wather# 에 CTTRY_1 컬럼을 추가하여 사용\n",
    "- 하루에 한 지점에서 측정한 데이터가 여러개임\n",
    "    - 하루에 한 데이터가 나오도록 전처리 필요\n",
    "- 강수량의 경우 NaN 값이 너무 많음\n",
    "    - 위 전처리들을 한 후에도 많다면 사용불가\n",
    "    - 위 전처리 후에는 적다면 전날/다음날 데이터 기반으로 채워넣기 진행"
   ]
  },
  {
   "cell_type": "code",
   "execution_count": null,
   "metadata": {},
   "outputs": [],
   "source": [
    "df_train['CTRY_1']"
   ]
  },
  {
   "cell_type": "code",
   "execution_count": 115,
   "metadata": {},
   "outputs": [
    {
     "data": {
      "text/html": [
       "<div>\n",
       "<style scoped>\n",
       "    .dataframe tbody tr th:only-of-type {\n",
       "        vertical-align: middle;\n",
       "    }\n",
       "\n",
       "    .dataframe tbody tr th {\n",
       "        vertical-align: top;\n",
       "    }\n",
       "\n",
       "    .dataframe thead th {\n",
       "        text-align: right;\n",
       "    }\n",
       "</style>\n",
       "<table border=\"1\" class=\"dataframe\">\n",
       "  <thead>\n",
       "    <tr style=\"text-align: right;\">\n",
       "      <th></th>\n",
       "      <th>지점</th>\n",
       "      <th>지점명</th>\n",
       "      <th>일시</th>\n",
       "      <th>풍속</th>\n",
       "      <th>강수량</th>\n",
       "      <th>기온</th>\n",
       "    </tr>\n",
       "  </thead>\n",
       "  <tbody>\n",
       "    <tr>\n",
       "      <th>0</th>\n",
       "      <td>1001</td>\n",
       "      <td>얀마이엔</td>\n",
       "      <td>2015-12-28 03:00</td>\n",
       "      <td>11.0</td>\n",
       "      <td>NaN</td>\n",
       "      <td>2.3</td>\n",
       "    </tr>\n",
       "    <tr>\n",
       "      <th>1</th>\n",
       "      <td>1001</td>\n",
       "      <td>얀마이엔</td>\n",
       "      <td>2015-12-28 06:00</td>\n",
       "      <td>13.0</td>\n",
       "      <td>0.0</td>\n",
       "      <td>2.6</td>\n",
       "    </tr>\n",
       "    <tr>\n",
       "      <th>2</th>\n",
       "      <td>1001</td>\n",
       "      <td>얀마이엔</td>\n",
       "      <td>2015-12-28 09:00</td>\n",
       "      <td>11.0</td>\n",
       "      <td>NaN</td>\n",
       "      <td>3.3</td>\n",
       "    </tr>\n",
       "    <tr>\n",
       "      <th>3</th>\n",
       "      <td>1001</td>\n",
       "      <td>얀마이엔</td>\n",
       "      <td>2015-12-28 12:00</td>\n",
       "      <td>13.0</td>\n",
       "      <td>0.1</td>\n",
       "      <td>3.4</td>\n",
       "    </tr>\n",
       "    <tr>\n",
       "      <th>4</th>\n",
       "      <td>1001</td>\n",
       "      <td>얀마이엔</td>\n",
       "      <td>2015-12-28 15:00</td>\n",
       "      <td>15.0</td>\n",
       "      <td>NaN</td>\n",
       "      <td>3.7</td>\n",
       "    </tr>\n",
       "    <tr>\n",
       "      <th>...</th>\n",
       "      <td>...</td>\n",
       "      <td>...</td>\n",
       "      <td>...</td>\n",
       "      <td>...</td>\n",
       "      <td>...</td>\n",
       "      <td>...</td>\n",
       "    </tr>\n",
       "    <tr>\n",
       "      <th>388384</th>\n",
       "      <td>85874</td>\n",
       "      <td>발마세다</td>\n",
       "      <td>2015-12-28 12:00</td>\n",
       "      <td>22.0</td>\n",
       "      <td>NaN</td>\n",
       "      <td>15.1</td>\n",
       "    </tr>\n",
       "    <tr>\n",
       "      <th>388385</th>\n",
       "      <td>85874</td>\n",
       "      <td>발마세다</td>\n",
       "      <td>2015-12-28 18:00</td>\n",
       "      <td>22.0</td>\n",
       "      <td>0.0</td>\n",
       "      <td>16.4</td>\n",
       "    </tr>\n",
       "    <tr>\n",
       "      <th>389093</th>\n",
       "      <td>85934</td>\n",
       "      <td>푼타아레나스</td>\n",
       "      <td>2015-12-28 06:00</td>\n",
       "      <td>3.0</td>\n",
       "      <td>NaN</td>\n",
       "      <td>3.7</td>\n",
       "    </tr>\n",
       "    <tr>\n",
       "      <th>389094</th>\n",
       "      <td>85934</td>\n",
       "      <td>푼타아레나스</td>\n",
       "      <td>2015-12-28 12:00</td>\n",
       "      <td>4.0</td>\n",
       "      <td>NaN</td>\n",
       "      <td>8.8</td>\n",
       "    </tr>\n",
       "    <tr>\n",
       "      <th>389095</th>\n",
       "      <td>85934</td>\n",
       "      <td>푼타아레나스</td>\n",
       "      <td>2015-12-28 18:00</td>\n",
       "      <td>11.0</td>\n",
       "      <td>NaN</td>\n",
       "      <td>13.1</td>\n",
       "    </tr>\n",
       "  </tbody>\n",
       "</table>\n",
       "<p>986 rows × 6 columns</p>\n",
       "</div>"
      ],
      "text/plain": [
       "           지점     지점명                일시    풍속  강수량    기온\n",
       "0        1001    얀마이엔  2015-12-28 03:00  11.0  NaN   2.3\n",
       "1        1001    얀마이엔  2015-12-28 06:00  13.0  0.0   2.6\n",
       "2        1001    얀마이엔  2015-12-28 09:00  11.0  NaN   3.3\n",
       "3        1001    얀마이엔  2015-12-28 12:00  13.0  0.1   3.4\n",
       "4        1001    얀마이엔  2015-12-28 15:00  15.0  NaN   3.7\n",
       "...       ...     ...               ...   ...  ...   ...\n",
       "388384  85874    발마세다  2015-12-28 12:00  22.0  NaN  15.1\n",
       "388385  85874    발마세다  2015-12-28 18:00  22.0  0.0  16.4\n",
       "389093  85934  푼타아레나스  2015-12-28 06:00   3.0  NaN   3.7\n",
       "389094  85934  푼타아레나스  2015-12-28 12:00   4.0  NaN   8.8\n",
       "389095  85934  푼타아레나스  2015-12-28 18:00  11.0  NaN  13.1\n",
       "\n",
       "[986 rows x 6 columns]"
      ]
     },
     "execution_count": 115,
     "metadata": {},
     "output_type": "execute_result"
    }
   ],
   "source": [
    "df_weather1[df_weather1['일시'].astype('str').str.contains('2015-12-28')]"
   ]
  },
  {
   "cell_type": "code",
   "execution_count": 109,
   "metadata": {},
   "outputs": [
    {
     "data": {
      "text/plain": [
       "array(['아르헨티나', '바레인', '칠레', '중국', '프랑스', '인도네시아', '일본', '대한민국', '모로코',\n",
       "       '멕시코', '말레이시아', '노르웨이', '페루', '러시아', '시에라리온', '세네갈', '태국', '튀니지',\n",
       "       '대만', '미국', '베트남', '남아프리카 공화국', '기니', '인도', '필리핀', '포르투갈',\n",
       "       '사우디아라비아', '뉴질랜드', '파키스탄', '아랍에미리트', '캐나다', '에콰도르', '아일랜드', '터키',\n",
       "       '스페인', '아이슬란드', '모리타니', '호주', '바누아투', '영국', '소말리아', '불가리아', '피지',\n",
       "       '우크라이나', '리비아', '세이셸', '이탈리아', '키리바시', '기니비사우', '브라질', '스리랑카',\n",
       "       '우루과이', '세인트빈센트 그레나딘', '에스토니아', '이란', '미얀마', '파푸아뉴기니', '가나',\n",
       "       '방글라데시', '네덜란드', '파나마', '감비아', '크로아티아', '앙골라', '베네수엘라', '싱가포르',\n",
       "       '포클랜드 제도', '모잠비크', '이집트', '수리남', '루마니아', '몰타', '라트비아', '나미비아',\n",
       "       '오만', '그리스', '그린란드', '알제리', '니카라과', '쿡 제도', '팔라우', '쿠바', '라이베리아',\n",
       "       '마다가스카르', '미크로네시아 연방', '사이프러스', '콜롬비아'], dtype=object)"
      ]
     },
     "execution_count": 109,
     "metadata": {},
     "output_type": "execute_result"
    }
   ],
   "source": [
    "df_raw['CTRY_1'].unique()"
   ]
  },
  {
   "cell_type": "markdown",
   "metadata": {},
   "source": [
    "## add salinity"
   ]
  },
  {
   "cell_type": "code",
   "execution_count": null,
   "metadata": {},
   "outputs": [],
   "source": []
  },
  {
   "cell_type": "code",
   "execution_count": null,
   "metadata": {},
   "outputs": [],
   "source": []
  },
  {
   "cell_type": "markdown",
   "metadata": {},
   "source": [
    "## onehot encoding"
   ]
  },
  {
   "cell_type": "code",
   "execution_count": 71,
   "metadata": {},
   "outputs": [],
   "source": [
    "one_hot = ['CTRY_1', 'CTRY_2', 'P_PURPOSE', 'CATEGORY_1', 'CATEGORY_2', 'P_NAME']"
   ]
  },
  {
   "cell_type": "code",
   "execution_count": 72,
   "metadata": {},
   "outputs": [],
   "source": [
    "df_train = pd.get_dummies(df_train, columns=one_hot)"
   ]
  },
  {
   "cell_type": "markdown",
   "metadata": {},
   "source": [
    "## drop columns"
   ]
  },
  {
   "cell_type": "code",
   "execution_count": null,
   "metadata": {},
   "outputs": [],
   "source": [
    "drop = ['REG_DATE', 'P_TYPE', 'P_IMPORT_TYPE']"
   ]
  },
  {
   "cell_type": "code",
   "execution_count": 73,
   "metadata": {},
   "outputs": [],
   "source": [
    "df_train.drop(columns = drop, inplace=True)"
   ]
  },
  {
   "cell_type": "markdown",
   "metadata": {},
   "source": [
    "# Train"
   ]
  },
  {
   "cell_type": "code",
   "execution_count": 74,
   "metadata": {},
   "outputs": [],
   "source": [
    "from sklearn.model_selection import train_test_split\n",
    "from sklearn.model_selection import cross_val_score\n",
    "from sklearn.ensemble import RandomForestRegressor\n",
    "from sklearn.metrics import accuracy_score\n",
    "from sklearn.ensemble import AdaBoostRegressor"
   ]
  },
  {
   "cell_type": "code",
   "execution_count": 75,
   "metadata": {},
   "outputs": [],
   "source": [
    "target = df_train['P_PRICE']\n",
    "df_train.drop(columns = 'P_PRICE', inplace=True)\n",
    "\n",
    "x_train, x_test, y_train, y_test = train_test_split(df_train, target, random_state = 0)"
   ]
  },
  {
   "cell_type": "code",
   "execution_count": null,
   "metadata": {},
   "outputs": [],
   "source": [
    "model = RandomForestRegressor(n_estimators=500,random_state=0)\n",
    "model.fit(x_train,y_train)\n",
    "cross = cross_val_score(model,x_test,y_test,cv = 5)\n",
    "\n",
    "print('cross_tree',cross.mean())"
   ]
  },
  {
   "cell_type": "code",
   "execution_count": null,
   "metadata": {},
   "outputs": [],
   "source": [
    "from sklearn.svm import SVR\n",
    "model = SVR()\n",
    "model.fit(x_train,y_train)\n",
    "cross_svr = cross_val_score(model,x_test,y_test,cv = 5)\n",
    "print('cross_svr',cross_svr.mean())"
   ]
  },
  {
   "cell_type": "code",
   "execution_count": null,
   "metadata": {},
   "outputs": [],
   "source": [
    "from xgboost import XGBRegressor\n",
    "model = XGBRegressor(n_estimators=500,learning_rate=0.05,max_depth=3)\n",
    "model.fit(x_train,y_train)\n",
    "cross_xgboost = cross_val_score(model,x_test,y_test,cv = 5)\n",
    "\n",
    "print('cross_xgboost : ',cross_xgboost.mean())"
   ]
  },
  {
   "cell_type": "code",
   "execution_count": null,
   "metadata": {},
   "outputs": [],
   "source": [
    "from sklearn.linear_model import LinearRegression\n",
    "\n",
    "model = LinearRegression()\n",
    "model.fit(x_train,y_train)\n",
    "\n",
    "cross_linear = cross_val_score(model,x_test,y_test,cv = 5)\n",
    "print(cross_linear)\n",
    "print('cross_linear : ',cross_linear.mean())"
   ]
  },
  {
   "cell_type": "code",
   "execution_count": null,
   "metadata": {},
   "outputs": [],
   "source": [
    "from sklearn.neural_network import MLPRegressor\n",
    "\n",
    "model = MLPRegressor().fit(x_train,y_train)\n",
    "cross_MLP = cross_val_score(model,x_test,y_test,cv = 5)\n",
    "\n",
    "print('croos_MLP : ',cross_MLP.mean())"
   ]
  }
 ],
 "metadata": {
  "kernelspec": {
   "display_name": "Python 3",
   "language": "python",
   "name": "python3"
  },
  "language_info": {
   "codemirror_mode": {
    "name": "ipython",
    "version": 3
   },
   "file_extension": ".py",
   "mimetype": "text/x-python",
   "name": "python",
   "nbconvert_exporter": "python",
   "pygments_lexer": "ipython3",
   "version": "3.8.3"
  }
 },
 "nbformat": 4,
 "nbformat_minor": 4
}
