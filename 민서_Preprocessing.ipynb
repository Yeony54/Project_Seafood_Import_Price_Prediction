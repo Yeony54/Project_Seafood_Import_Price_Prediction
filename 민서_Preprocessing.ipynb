{
 "cells": [
  {
   "cell_type": "markdown",
   "metadata": {},
   "source": [
    "# Import Library"
   ]
  },
  {
   "cell_type": "code",
   "execution_count": 1,
   "metadata": {},
   "outputs": [],
   "source": [
    "# Import Libraries\n",
    "import os\n",
    "import pandas as pd\n",
    "import numpy as np\n",
    "from scipy.stats import norm\n",
    "from sklearn.preprocessing import StandardScaler\n",
    "from scipy import stats\n",
    "import warnings\n",
    "warnings.filterwarnings('ignore')\n",
    "%matplotlib inline\n",
    "\n",
    "# Visuzliation Setting\n",
    "import matplotlib.pyplot as plt\n",
    "import matplotlib.font_manager as fm\n",
    "from matplotlib import rc\n",
    "from matplotlib import colors\n",
    "import seaborn as sns"
   ]
  },
  {
   "cell_type": "markdown",
   "metadata": {},
   "source": [
    "---"
   ]
  },
  {
   "cell_type": "code",
   "execution_count": 2,
   "metadata": {},
   "outputs": [],
   "source": [
    "root = os.path.join(os.getcwd(), 'DATA')"
   ]
  },
  {
   "cell_type": "markdown",
   "metadata": {},
   "source": [
    "# Training Data\n",
    "빅콘테스트 제공 데이터 전처리"
   ]
  },
  {
   "cell_type": "markdown",
   "metadata": {},
   "source": [
    "## Import Data"
   ]
  },
  {
   "cell_type": "code",
   "execution_count": 3,
   "metadata": {},
   "outputs": [],
   "source": [
    "df_raw = pd.read_excel(os.path.join(root, 'train.xlsx'))\n",
    "df_train = df_raw.copy()"
   ]
  },
  {
   "cell_type": "markdown",
   "metadata": {},
   "source": [
    "### Add Columns"
   ]
  },
  {
   "cell_type": "code",
   "execution_count": 4,
   "metadata": {},
   "outputs": [],
   "source": [
    "# 날짜변수 추가\n",
    "df_train['year'] = df_train['REG_DATE'].dt.year\n",
    "df_train['month'] = df_train['REG_DATE'].dt.month\n",
    "df_train['day'] = df_train['REG_DATE'].dt.day"
   ]
  },
  {
   "cell_type": "code",
   "execution_count": 7,
   "metadata": {},
   "outputs": [],
   "source": [
    "df_train['VALUE_COUNT'] = 0;\n",
    "value_dict = {}\n",
    "for name, value in zip(df_train['P_NAME'].value_counts().index,df_train['P_NAME'].value_counts()):\n",
    "    value_dict[name] = value\n",
    "\n",
    "def value(col):\n",
    "    return value_dict[col]\n",
    "\n",
    "df_train['VALUE_COUNT'] = df_train['P_NAME'].apply(value)"
   ]
  },
  {
   "cell_type": "markdown",
   "metadata": {},
   "source": [
    "### One hot encoding\n",
    "P_IMPORT_TYPE 이라는 특수한 컬럼에 대한 전처리"
   ]
  },
  {
   "cell_type": "code",
   "execution_count": 5,
   "metadata": {},
   "outputs": [],
   "source": [
    "import_type_list = set()\n",
    "for tmp in df_train.P_IMPORT_TYPE.unique():\n",
    "    for a in tmp.split(','):\n",
    "        import_type_list.add(a)"
   ]
  },
  {
   "cell_type": "code",
   "execution_count": 6,
   "metadata": {},
   "outputs": [],
   "source": [
    "for name in import_type_list:\n",
    "    df_train[name] = 0\n",
    "    df_train.loc[df_train['P_IMPORT_TYPE'].str.contains(name, regex=False), name] = 1"
   ]
  },
  {
   "cell_type": "markdown",
   "metadata": {},
   "source": [
    "---"
   ]
  },
  {
   "cell_type": "markdown",
   "metadata": {},
   "source": [
    "# Weather data"
   ]
  },
  {
   "cell_type": "markdown",
   "metadata": {},
   "source": [
    "## Import Data"
   ]
  },
  {
   "cell_type": "code",
   "execution_count": 96,
   "metadata": {},
   "outputs": [],
   "source": [
    "df_weather_code = pd.read_excel(os.path.join(root, 'weather_code.xlsx'), header=None, index_col=0)"
   ]
  },
  {
   "cell_type": "code",
   "execution_count": 97,
   "metadata": {},
   "outputs": [],
   "source": [
    "weather_list = [pd.read_csv(os.path.join(root, 'weather_raw_20151228-20161227.csv'), encoding='euc-kr') , \n",
    "                pd.read_csv(os.path.join(root, 'weather_raw_20161228-20171227.csv'), encoding='euc-kr') , \n",
    "                pd.read_csv(os.path.join(root, 'weather_raw_20171228-20181227.csv'), encoding='euc-kr') , \n",
    "                pd.read_csv(os.path.join(root, 'weather_raw_20181228-20191227.csv'), encoding='euc-kr') , \n",
    "                pd.read_csv(os.path.join(root, 'weather_raw_20191228-20201227.csv'), encoding='euc-kr') , \n",
    "                pd.read_csv(os.path.join(root, 'weather_raw_20201228-20210818.csv'), encoding='euc-kr')]"
   ]
  },
  {
   "cell_type": "markdown",
   "metadata": {},
   "source": [
    "## Preprocess\n",
    "- '지점'에 따른 나라명 컬럼 (country) 추가\n",
    "- 각 나라, 일자 별로 평균 강수량, 풍속, 기온 계산"
   ]
  },
  {
   "cell_type": "code",
   "execution_count": 98,
   "metadata": {},
   "outputs": [],
   "source": [
    "# 지점에 따라 나라명 추가\n",
    "def set_country(row):\n",
    "    data = df_weather_code[df_weather_code[1] == row['지점']]\n",
    "    if data.empty:\n",
    "        return \"\"\n",
    "    return data.iloc[0][2]\n",
    "\n",
    "\n",
    "def preprocess_weather(df_weather):\n",
    "    # 날짜 정보 정리\n",
    "    df_weather['year'] = df_weather['일시'].astype('str').str[:4].astype('int')\n",
    "    df_weather['month'] = df_weather['일시'].astype('str').str[5:7].astype('int')\n",
    "    df_weather['day'] = df_weather['일시'].astype('str').str[8:10].astype('int')\n",
    "    # 1차 평균\n",
    "    df_weather['rain'] = df_weather[['지점', 'year', 'month', 'day', '강수량']].groupby(['지점', 'year', 'month', 'day']).transform('mean')\n",
    "    df_weather['wind'] = df_weather[['지점', 'year', 'month', 'day', '풍속']].groupby(['지점', 'year', 'month', 'day']).transform('mean')\n",
    "    df_weather['temperature'] = df_weather[['지점', 'year', 'month', 'day', '기온']].groupby(['지점', 'year', 'month', 'day']).transform('mean')\n",
    "    # 컬럼/행 정리\n",
    "    df_weather.drop(columns = ['지점명', '일시', '강수량', '풍속', '기온'], inplace=True)\n",
    "    df_weather.drop_duplicates(inplace=True)\n",
    "    # 나라명 추가\n",
    "    df_weather['country'] = \"\"\n",
    "    for i, row in df_weather.iterrows():\n",
    "        df_weather.at[i, 'country'] = set_country(row)\n",
    "    # 2차 평균\n",
    "    df_weather['rain'] = df_weather[['country', 'year', 'month', 'day', 'rain']].groupby(['country', 'year', 'month', 'day']).transform('mean')\n",
    "    df_weather['wind'] = df_weather[['country', 'year', 'month', 'day', 'wind']].groupby(['country', 'year', 'month', 'day']).transform('mean')\n",
    "    df_weather['temperature'] = df_weather[['country', 'year', 'month', 'day', 'temperature']].groupby(['country', 'year', 'month', 'day']).transform('mean')\n",
    "    # 컬럼/행 정리\n",
    "    df_weather.drop(columns = ['지점'], inplace=True)\n",
    "    df_weather.drop_duplicates(inplace=True)\n",
    "    # 인덱스 정리\n",
    "    df_weather.reset_index(drop=True, inplace=True)"
   ]
  },
  {
   "cell_type": "code",
   "execution_count": 99,
   "metadata": {
    "scrolled": false
   },
   "outputs": [],
   "source": [
    "for df in weather_list:\n",
    "    preprocess_weather(df)\n",
    "df_weather = pd.concat(rwt_list)"
   ]
  },
  {
   "cell_type": "code",
   "execution_count": 107,
   "metadata": {},
   "outputs": [
    {
     "data": {
      "text/html": [
       "<div>\n",
       "<style scoped>\n",
       "    .dataframe tbody tr th:only-of-type {\n",
       "        vertical-align: middle;\n",
       "    }\n",
       "\n",
       "    .dataframe tbody tr th {\n",
       "        vertical-align: top;\n",
       "    }\n",
       "\n",
       "    .dataframe thead th {\n",
       "        text-align: right;\n",
       "    }\n",
       "</style>\n",
       "<table border=\"1\" class=\"dataframe\">\n",
       "  <thead>\n",
       "    <tr style=\"text-align: right;\">\n",
       "      <th></th>\n",
       "      <th>year</th>\n",
       "      <th>month</th>\n",
       "      <th>day</th>\n",
       "      <th>rain</th>\n",
       "      <th>wind</th>\n",
       "      <th>temperature</th>\n",
       "    </tr>\n",
       "  </thead>\n",
       "  <tbody>\n",
       "    <tr>\n",
       "      <th>count</th>\n",
       "      <td>13947.000000</td>\n",
       "      <td>13947.000000</td>\n",
       "      <td>13947.000000</td>\n",
       "      <td>9561.000000</td>\n",
       "      <td>11895.000000</td>\n",
       "      <td>11895.000000</td>\n",
       "    </tr>\n",
       "    <tr>\n",
       "      <th>mean</th>\n",
       "      <td>2018.258407</td>\n",
       "      <td>6.276762</td>\n",
       "      <td>15.697426</td>\n",
       "      <td>-20.158210</td>\n",
       "      <td>3.535292</td>\n",
       "      <td>17.914166</td>\n",
       "    </tr>\n",
       "    <tr>\n",
       "      <th>std</th>\n",
       "      <td>1.613987</td>\n",
       "      <td>3.414373</td>\n",
       "      <td>8.809565</td>\n",
       "      <td>79.127632</td>\n",
       "      <td>5.846954</td>\n",
       "      <td>9.676148</td>\n",
       "    </tr>\n",
       "    <tr>\n",
       "      <th>min</th>\n",
       "      <td>2015.000000</td>\n",
       "      <td>1.000000</td>\n",
       "      <td>1.000000</td>\n",
       "      <td>-999.000000</td>\n",
       "      <td>-156.116667</td>\n",
       "      <td>-10.577841</td>\n",
       "    </tr>\n",
       "    <tr>\n",
       "      <th>25%</th>\n",
       "      <td>2017.000000</td>\n",
       "      <td>3.000000</td>\n",
       "      <td>8.000000</td>\n",
       "      <td>-6.661111</td>\n",
       "      <td>2.168701</td>\n",
       "      <td>11.250038</td>\n",
       "    </tr>\n",
       "    <tr>\n",
       "      <th>50%</th>\n",
       "      <td>2018.000000</td>\n",
       "      <td>6.000000</td>\n",
       "      <td>16.000000</td>\n",
       "      <td>1.165833</td>\n",
       "      <td>2.958333</td>\n",
       "      <td>20.135000</td>\n",
       "    </tr>\n",
       "    <tr>\n",
       "      <th>75%</th>\n",
       "      <td>2020.000000</td>\n",
       "      <td>9.000000</td>\n",
       "      <td>23.000000</td>\n",
       "      <td>3.915909</td>\n",
       "      <td>5.768750</td>\n",
       "      <td>25.950781</td>\n",
       "    </tr>\n",
       "    <tr>\n",
       "      <th>max</th>\n",
       "      <td>2021.000000</td>\n",
       "      <td>12.000000</td>\n",
       "      <td>31.000000</td>\n",
       "      <td>915.000000</td>\n",
       "      <td>15.125000</td>\n",
       "      <td>33.145833</td>\n",
       "    </tr>\n",
       "  </tbody>\n",
       "</table>\n",
       "</div>"
      ],
      "text/plain": [
       "               year         month           day         rain          wind  \\\n",
       "count  13947.000000  13947.000000  13947.000000  9561.000000  11895.000000   \n",
       "mean    2018.258407      6.276762     15.697426   -20.158210      3.535292   \n",
       "std        1.613987      3.414373      8.809565    79.127632      5.846954   \n",
       "min     2015.000000      1.000000      1.000000  -999.000000   -156.116667   \n",
       "25%     2017.000000      3.000000      8.000000    -6.661111      2.168701   \n",
       "50%     2018.000000      6.000000     16.000000     1.165833      2.958333   \n",
       "75%     2020.000000      9.000000     23.000000     3.915909      5.768750   \n",
       "max     2021.000000     12.000000     31.000000   915.000000     15.125000   \n",
       "\n",
       "        temperature  \n",
       "count  11895.000000  \n",
       "mean      17.914166  \n",
       "std        9.676148  \n",
       "min      -10.577841  \n",
       "25%       11.250038  \n",
       "50%       20.135000  \n",
       "75%       25.950781  \n",
       "max       33.145833  "
      ]
     },
     "execution_count": 107,
     "metadata": {},
     "output_type": "execute_result"
    }
   ],
   "source": [
    "df_weather.describe()"
   ]
  },
  {
   "cell_type": "markdown",
   "metadata": {},
   "source": [
    "#### 확인필요\n",
    "- outlier 찾아내기 > 값이 너무 크거나 작은 경우 제외\n",
    "- 날짜별로 확인 후 비어있는 값 채워넣기 (전/다음날 이용)\n",
    "    - 13947개 데이터 중 rain, wind, temperature 갯수 보면 몇개 비어있는지 확인 가능\n",
    "- 합치기..\n",
    "- 강수량의 경우 NaN 값이 너무 많음\n",
    "    - 위 전처리들을 한 후에도 많다면 사용불가\n",
    "    - 위 전처리 후에는 적다면 전날/다음날 데이터 기반으로 채워넣기 진행"
   ]
  },
  {
   "cell_type": "markdown",
   "metadata": {},
   "source": [
    "## Add to Training Data"
   ]
  },
  {
   "cell_type": "code",
   "execution_count": null,
   "metadata": {},
   "outputs": [],
   "source": [
    "# \n",
    "def set_rwt(row):\n",
    "    country = df_weather_code[df_weather_code[2] == row['CTRY_1']]\n",
    "    if country.empty:\n",
    "        return np.NaN\n",
    "    data = df_weather[(df_weather['year'] == row['year']) \n",
    "                      & (df_weather['month'] == row['month']) \n",
    "                      & (df_weather['day'] == row['day'])\n",
    "                      & (df_weather['지점'] == country[1])]\n",
    "    return"
   ]
  },
  {
   "cell_type": "code",
   "execution_count": null,
   "metadata": {},
   "outputs": [],
   "source": [
    "df_train['rain'] = np.NaN\n",
    "df_train['wind'] = np.NaN\n",
    "df_train['temperature'] = np.NaN"
   ]
  },
  {
   "cell_type": "markdown",
   "metadata": {},
   "source": [
    "---"
   ]
  },
  {
   "cell_type": "markdown",
   "metadata": {},
   "source": [
    "# Salinity"
   ]
  },
  {
   "cell_type": "markdown",
   "metadata": {},
   "source": [
    "## Import Data"
   ]
  },
  {
   "cell_type": "code",
   "execution_count": 154,
   "metadata": {},
   "outputs": [],
   "source": [
    "# df_salinity = pd.read_csv(os.path.join(root, 'salinity_raw.csv'))"
   ]
  },
  {
   "cell_type": "markdown",
   "metadata": {},
   "source": [
    "## Drop Columns & Rows"
   ]
  },
  {
   "cell_type": "code",
   "execution_count": 155,
   "metadata": {},
   "outputs": [],
   "source": [
    "# df_salinity.drop(df_salinity.columns[2], inplace=True, axis=1)\n",
    "# df_salinity = df_salinity[(2015 <= df_salinity['obs_year']) & (df_salinity['obs_year'] <= 2021)]"
   ]
  },
  {
   "cell_type": "markdown",
   "metadata": {},
   "source": [
    "2020, 2021 데이터의 부재로 인해 보류"
   ]
  },
  {
   "cell_type": "markdown",
   "metadata": {},
   "source": [
    "---"
   ]
  },
  {
   "cell_type": "markdown",
   "metadata": {},
   "source": [
    "# Oil"
   ]
  },
  {
   "cell_type": "markdown",
   "metadata": {},
   "source": [
    "## Import Data"
   ]
  },
  {
   "cell_type": "code",
   "execution_count": 157,
   "metadata": {},
   "outputs": [],
   "source": [
    "df_oil = pd.read_csv(os.path.join(root, 'oil_raw.csv'))\n",
    "df_oil_dubai = pd.read_csv(os.path.join(root, 'oil_raw_dubai.csv'))\n",
    "df_oil_brent = pd.read_csv(os.path.join(root, 'oil_raw_brent.csv'))"
   ]
  },
  {
   "cell_type": "code",
   "execution_count": 163,
   "metadata": {},
   "outputs": [
    {
     "data": {
      "text/plain": [
       "<bound method NDFrame.describe of 0       2021년 06월 28일\n",
       "1       2021년 06월 25일\n",
       "2       2021년 06월 24일\n",
       "3       2021년 06월 23일\n",
       "4       2021년 06월 22일\n",
       "            ...      \n",
       "1446    2016년 01월 04일\n",
       "1447    2015년 12월 31일\n",
       "1448    2015년 12월 30일\n",
       "1449    2015년 12월 29일\n",
       "1450    2015년 12월 28일\n",
       "Name: 날짜, Length: 1451, dtype: object>"
      ]
     },
     "execution_count": 163,
     "metadata": {},
     "output_type": "execute_result"
    }
   ],
   "source": [
    "df_oil['날짜'].describe"
   ]
  },
  {
   "cell_type": "code",
   "execution_count": 182,
   "metadata": {},
   "outputs": [],
   "source": [
    "def preprocess_oil(df):\n",
    "    df['year'] = df['날짜'].str[:4]\n",
    "    df['month'] = df['날짜'].str[6:8]\n",
    "    df['day'] = df['날짜'].str[10:12]\n",
    "    df['date'] = pd.to_datetime(df['year'] + df['month'] + df['day'])\n",
    "    df = df.query('date.dt.dayofweek == 0')\n",
    "    print(df.head())\n",
    "    df.sort_index(ascending=False)"
   ]
  },
  {
   "cell_type": "code",
   "execution_count": 183,
   "metadata": {},
   "outputs": [
    {
     "name": "stdout",
     "output_type": "stream",
     "text": [
      "               날짜     종가     오픈     고가     저가      거래량    변동 %  year month  \\\n",
      "0   2021년 06월 28일  72.91  73.99  74.45  72.62  354.70K  -1.54%  2021    06   \n",
      "5   2021년 06월 21일  73.66  71.52  73.96  71.15  123.66K   2.82%  2021    06   \n",
      "10  2021년 06월 14일  70.88  70.65  71.78  70.65  319.64K  -0.04%  2021    06   \n",
      "15  2021년 06월 07일  69.23  69.52  70.00  68.93  365.62K  -0.56%  2021    06   \n",
      "20  2021년 05월 31일  66.96  66.58  67.41  66.41        -   0.56%  2021    05   \n",
      "\n",
      "   day       date  \n",
      "0   28 2021-06-28  \n",
      "5   21 2021-06-21  \n",
      "10  14 2021-06-14  \n",
      "15  07 2021-06-07  \n",
      "20  31 2021-05-31  \n"
     ]
    }
   ],
   "source": [
    "preprocess_oil(df_oil)"
   ]
  },
  {
   "cell_type": "code",
   "execution_count": 180,
   "metadata": {},
   "outputs": [
    {
     "data": {
      "text/html": [
       "<div>\n",
       "<style scoped>\n",
       "    .dataframe tbody tr th:only-of-type {\n",
       "        vertical-align: middle;\n",
       "    }\n",
       "\n",
       "    .dataframe tbody tr th {\n",
       "        vertical-align: top;\n",
       "    }\n",
       "\n",
       "    .dataframe thead th {\n",
       "        text-align: right;\n",
       "    }\n",
       "</style>\n",
       "<table border=\"1\" class=\"dataframe\">\n",
       "  <thead>\n",
       "    <tr style=\"text-align: right;\">\n",
       "      <th></th>\n",
       "      <th>날짜</th>\n",
       "      <th>종가</th>\n",
       "      <th>오픈</th>\n",
       "      <th>고가</th>\n",
       "      <th>저가</th>\n",
       "      <th>거래량</th>\n",
       "      <th>변동 %</th>\n",
       "      <th>year</th>\n",
       "      <th>month</th>\n",
       "      <th>day</th>\n",
       "      <th>date</th>\n",
       "    </tr>\n",
       "  </thead>\n",
       "  <tbody>\n",
       "    <tr>\n",
       "      <th>0</th>\n",
       "      <td>2021년 06월 28일</td>\n",
       "      <td>72.91</td>\n",
       "      <td>73.99</td>\n",
       "      <td>74.45</td>\n",
       "      <td>72.62</td>\n",
       "      <td>354.70K</td>\n",
       "      <td>-1.54%</td>\n",
       "      <td>2021</td>\n",
       "      <td>06</td>\n",
       "      <td>28</td>\n",
       "      <td>2021-06-28</td>\n",
       "    </tr>\n",
       "    <tr>\n",
       "      <th>1</th>\n",
       "      <td>2021년 06월 25일</td>\n",
       "      <td>74.05</td>\n",
       "      <td>73.32</td>\n",
       "      <td>74.18</td>\n",
       "      <td>72.85</td>\n",
       "      <td>364.72K</td>\n",
       "      <td>1.02%</td>\n",
       "      <td>2021</td>\n",
       "      <td>06</td>\n",
       "      <td>25</td>\n",
       "      <td>2021-06-25</td>\n",
       "    </tr>\n",
       "    <tr>\n",
       "      <th>2</th>\n",
       "      <td>2021년 06월 24일</td>\n",
       "      <td>73.30</td>\n",
       "      <td>73.28</td>\n",
       "      <td>73.61</td>\n",
       "      <td>72.32</td>\n",
       "      <td>334.83K</td>\n",
       "      <td>0.30%</td>\n",
       "      <td>2021</td>\n",
       "      <td>06</td>\n",
       "      <td>24</td>\n",
       "      <td>2021-06-24</td>\n",
       "    </tr>\n",
       "    <tr>\n",
       "      <th>3</th>\n",
       "      <td>2021년 06월 23일</td>\n",
       "      <td>73.08</td>\n",
       "      <td>72.91</td>\n",
       "      <td>74.25</td>\n",
       "      <td>72.82</td>\n",
       "      <td>429.21K</td>\n",
       "      <td>0.03%</td>\n",
       "      <td>2021</td>\n",
       "      <td>06</td>\n",
       "      <td>23</td>\n",
       "      <td>2021-06-23</td>\n",
       "    </tr>\n",
       "    <tr>\n",
       "      <th>4</th>\n",
       "      <td>2021년 06월 22일</td>\n",
       "      <td>73.06</td>\n",
       "      <td>73.41</td>\n",
       "      <td>73.95</td>\n",
       "      <td>72.94</td>\n",
       "      <td>29.00K</td>\n",
       "      <td>-0.81%</td>\n",
       "      <td>2021</td>\n",
       "      <td>06</td>\n",
       "      <td>22</td>\n",
       "      <td>2021-06-22</td>\n",
       "    </tr>\n",
       "    <tr>\n",
       "      <th>...</th>\n",
       "      <td>...</td>\n",
       "      <td>...</td>\n",
       "      <td>...</td>\n",
       "      <td>...</td>\n",
       "      <td>...</td>\n",
       "      <td>...</td>\n",
       "      <td>...</td>\n",
       "      <td>...</td>\n",
       "      <td>...</td>\n",
       "      <td>...</td>\n",
       "      <td>...</td>\n",
       "    </tr>\n",
       "    <tr>\n",
       "      <th>1446</th>\n",
       "      <td>2016년 01월 04일</td>\n",
       "      <td>36.76</td>\n",
       "      <td>37.60</td>\n",
       "      <td>38.39</td>\n",
       "      <td>36.33</td>\n",
       "      <td>431.99K</td>\n",
       "      <td>-0.76%</td>\n",
       "      <td>2016</td>\n",
       "      <td>01</td>\n",
       "      <td>04</td>\n",
       "      <td>2016-01-04</td>\n",
       "    </tr>\n",
       "    <tr>\n",
       "      <th>1447</th>\n",
       "      <td>2015년 12월 31일</td>\n",
       "      <td>37.04</td>\n",
       "      <td>36.81</td>\n",
       "      <td>37.79</td>\n",
       "      <td>36.22</td>\n",
       "      <td>283.62K</td>\n",
       "      <td>1.20%</td>\n",
       "      <td>2015</td>\n",
       "      <td>12</td>\n",
       "      <td>31</td>\n",
       "      <td>2015-12-31</td>\n",
       "    </tr>\n",
       "    <tr>\n",
       "      <th>1448</th>\n",
       "      <td>2015년 12월 30일</td>\n",
       "      <td>36.60</td>\n",
       "      <td>37.36</td>\n",
       "      <td>37.40</td>\n",
       "      <td>36.40</td>\n",
       "      <td>267.91K</td>\n",
       "      <td>-3.35%</td>\n",
       "      <td>2015</td>\n",
       "      <td>12</td>\n",
       "      <td>30</td>\n",
       "      <td>2015-12-30</td>\n",
       "    </tr>\n",
       "    <tr>\n",
       "      <th>1449</th>\n",
       "      <td>2015년 12월 29일</td>\n",
       "      <td>37.87</td>\n",
       "      <td>36.70</td>\n",
       "      <td>37.94</td>\n",
       "      <td>36.66</td>\n",
       "      <td>241.95K</td>\n",
       "      <td>2.88%</td>\n",
       "      <td>2015</td>\n",
       "      <td>12</td>\n",
       "      <td>29</td>\n",
       "      <td>2015-12-29</td>\n",
       "    </tr>\n",
       "    <tr>\n",
       "      <th>1450</th>\n",
       "      <td>2015년 12월 28일</td>\n",
       "      <td>36.81</td>\n",
       "      <td>38.00</td>\n",
       "      <td>38.09</td>\n",
       "      <td>36.60</td>\n",
       "      <td>220.64K</td>\n",
       "      <td>-3.39%</td>\n",
       "      <td>2015</td>\n",
       "      <td>12</td>\n",
       "      <td>28</td>\n",
       "      <td>2015-12-28</td>\n",
       "    </tr>\n",
       "  </tbody>\n",
       "</table>\n",
       "<p>1451 rows × 11 columns</p>\n",
       "</div>"
      ],
      "text/plain": [
       "                 날짜     종가     오픈     고가     저가      거래량    변동 %  year month  \\\n",
       "0     2021년 06월 28일  72.91  73.99  74.45  72.62  354.70K  -1.54%  2021    06   \n",
       "1     2021년 06월 25일  74.05  73.32  74.18  72.85  364.72K   1.02%  2021    06   \n",
       "2     2021년 06월 24일  73.30  73.28  73.61  72.32  334.83K   0.30%  2021    06   \n",
       "3     2021년 06월 23일  73.08  72.91  74.25  72.82  429.21K   0.03%  2021    06   \n",
       "4     2021년 06월 22일  73.06  73.41  73.95  72.94   29.00K  -0.81%  2021    06   \n",
       "...             ...    ...    ...    ...    ...      ...     ...   ...   ...   \n",
       "1446  2016년 01월 04일  36.76  37.60  38.39  36.33  431.99K  -0.76%  2016    01   \n",
       "1447  2015년 12월 31일  37.04  36.81  37.79  36.22  283.62K   1.20%  2015    12   \n",
       "1448  2015년 12월 30일  36.60  37.36  37.40  36.40  267.91K  -3.35%  2015    12   \n",
       "1449  2015년 12월 29일  37.87  36.70  37.94  36.66  241.95K   2.88%  2015    12   \n",
       "1450  2015년 12월 28일  36.81  38.00  38.09  36.60  220.64K  -3.39%  2015    12   \n",
       "\n",
       "     day       date  \n",
       "0     28 2021-06-28  \n",
       "1     25 2021-06-25  \n",
       "2     24 2021-06-24  \n",
       "3     23 2021-06-23  \n",
       "4     22 2021-06-22  \n",
       "...   ..        ...  \n",
       "1446  04 2016-01-04  \n",
       "1447  31 2015-12-31  \n",
       "1448  30 2015-12-30  \n",
       "1449  29 2015-12-29  \n",
       "1450  28 2015-12-28  \n",
       "\n",
       "[1451 rows x 11 columns]"
      ]
     },
     "execution_count": 180,
     "metadata": {},
     "output_type": "execute_result"
    }
   ],
   "source": [
    "df_oil"
   ]
  },
  {
   "cell_type": "markdown",
   "metadata": {},
   "source": [
    "---"
   ]
  },
  {
   "cell_type": "markdown",
   "metadata": {},
   "source": [
    "# Final"
   ]
  },
  {
   "cell_type": "markdown",
   "metadata": {},
   "source": [
    "## onehot encoding"
   ]
  },
  {
   "cell_type": "code",
   "execution_count": null,
   "metadata": {},
   "outputs": [],
   "source": [
    "one_hot = ['CTRY_1', 'CTRY_2', 'P_PURPOSE', 'CATEGORY_1', 'CATEGORY_2', 'P_NAME']"
   ]
  },
  {
   "cell_type": "code",
   "execution_count": null,
   "metadata": {},
   "outputs": [],
   "source": [
    "df_train = pd.get_dummies(df_train, columns=one_hot)"
   ]
  },
  {
   "cell_type": "markdown",
   "metadata": {},
   "source": [
    "## drop columns"
   ]
  },
  {
   "cell_type": "code",
   "execution_count": null,
   "metadata": {},
   "outputs": [],
   "source": [
    "drop = ['REG_DATE', 'P_TYPE', 'P_IMPORT_TYPE']"
   ]
  },
  {
   "cell_type": "code",
   "execution_count": null,
   "metadata": {},
   "outputs": [],
   "source": [
    "df_train.drop(columns = drop, inplace=True)"
   ]
  },
  {
   "cell_type": "markdown",
   "metadata": {},
   "source": [
    "## Save files"
   ]
  },
  {
   "cell_type": "code",
   "execution_count": null,
   "metadata": {},
   "outputs": [],
   "source": []
  },
  {
   "cell_type": "markdown",
   "metadata": {},
   "source": [
    "# Train"
   ]
  },
  {
   "cell_type": "markdown",
   "metadata": {},
   "source": [
    "## Set Metric"
   ]
  },
  {
   "cell_type": "code",
   "execution_count": 108,
   "metadata": {},
   "outputs": [],
   "source": [
    "from sklearn.metrics import mean_absolute_error\n",
    "from sklearn.linear_model import LinearRegression\n",
    "\n",
    "# Function to print the MAE (Mean Absolute Error) score\n",
    "def print_score(m : LinearRegression):\n",
    "    res = ['mae train: ', mean_absolute_error(m.predict(X_train), y_train), \n",
    "           'mae val: ', mean_absolute_error(m.predict(X_valid), y_valid)]\n",
    "    if hasattr(m, 'oob_score_'): res.append(m.oob_score_)\n",
    "    print(res)"
   ]
  },
  {
   "cell_type": "markdown",
   "metadata": {},
   "source": [
    "## Set Data"
   ]
  },
  {
   "cell_type": "code",
   "execution_count": 109,
   "metadata": {},
   "outputs": [],
   "source": [
    "target = df_train['P_PRICE']\n",
    "df_train.drop(columns = 'P_PRICE', inplace=True)"
   ]
  },
  {
   "cell_type": "code",
   "execution_count": 110,
   "metadata": {},
   "outputs": [
    {
     "ename": "NameError",
     "evalue": "name 'train_test_split' is not defined",
     "output_type": "error",
     "traceback": [
      "\u001b[1;31m---------------------------------------------------------------------------\u001b[0m",
      "\u001b[1;31mNameError\u001b[0m                                 Traceback (most recent call last)",
      "\u001b[1;32m<ipython-input-110-9655fa28f670>\u001b[0m in \u001b[0;36m<module>\u001b[1;34m\u001b[0m\n\u001b[1;32m----> 1\u001b[1;33m \u001b[0mx_train\u001b[0m\u001b[1;33m,\u001b[0m \u001b[0mx_test\u001b[0m\u001b[1;33m,\u001b[0m \u001b[0my_train\u001b[0m\u001b[1;33m,\u001b[0m \u001b[0my_test\u001b[0m \u001b[1;33m=\u001b[0m \u001b[0mtrain_test_split\u001b[0m\u001b[1;33m(\u001b[0m\u001b[0mdf_train\u001b[0m\u001b[1;33m,\u001b[0m \u001b[0mtarget\u001b[0m\u001b[1;33m,\u001b[0m \u001b[0mrandom_state\u001b[0m \u001b[1;33m=\u001b[0m \u001b[1;36m0\u001b[0m\u001b[1;33m)\u001b[0m\u001b[1;33m\u001b[0m\u001b[1;33m\u001b[0m\u001b[0m\n\u001b[0m",
      "\u001b[1;31mNameError\u001b[0m: name 'train_test_split' is not defined"
     ]
    }
   ],
   "source": [
    "# x_train, x_test, y_train, y_test = train_test_split(df_train, target, random_state = 0)"
   ]
  },
  {
   "cell_type": "code",
   "execution_count": null,
   "metadata": {},
   "outputs": [],
   "source": [
    "#Standardization\n",
    "from sklearn.preprocessing import StandardScaler\n",
    "sc=StandardScaler()\n",
    "\n",
    "# Function for splitting training and validation data\n",
    "def split_vals(a, n : int): \n",
    "    return a[:n].copy(), a[n:].copy()\n",
    "\n",
    "val_perc = 0.1 # % to use for validation set\n",
    "n_valid = int(val_perc * 100000) \n",
    "n_trn = len(df_train)-n_valid\n",
    "\n",
    "# Split data\n",
    "raw_train, raw_valid = split_vals(df_train, n_trn)\n",
    "X_train, X_valid = split_vals(df_train, n_trn)\n",
    "y_train, y_valid = split_vals(target, n_trn)\n",
    "\n",
    "X_train=sc.fit_transform(X_train)\n",
    "X_valid=sc.transform(X_valid)\n",
    "\n",
    "# Check dimensions of samples\n",
    "print('Sample train shape: ', X_train.shape, \n",
    "      '\\nSample target shape: ', y_train.shape, \n",
    "      '\\nSample validation shape: ', X_valid.shape)"
   ]
  },
  {
   "cell_type": "code",
   "execution_count": null,
   "metadata": {},
   "outputs": [],
   "source": []
  },
  {
   "cell_type": "markdown",
   "metadata": {},
   "source": [
    "- metric 선정하기\n",
    "- base model 선정 > 전처리 최소화 + linear regression model 로 정확도 구하기\n",
    "- 모델마다 최적화하기\n",
    "- 모델끼리 비교하기"
   ]
  },
  {
   "cell_type": "code",
   "execution_count": null,
   "metadata": {},
   "outputs": [],
   "source": [
    "from sklearn.model_selection import train_test_split\n",
    "from sklearn.model_selection import cross_val_score\n",
    "from sklearn.ensemble import RandomForestRegressor\n",
    "from sklearn.metrics import accuracy_score\n",
    "from sklearn.ensemble import AdaBoostRegressor"
   ]
  },
  {
   "cell_type": "code",
   "execution_count": null,
   "metadata": {},
   "outputs": [],
   "source": [
    "model = RandomForestRegressor(n_estimators=500,random_state=0)\n",
    "model.fit(x_train,y_train)\n",
    "cross = cross_val_score(model,x_test,y_test,cv = 5)\n",
    "\n",
    "print('cross_tree',cross.mean())"
   ]
  },
  {
   "cell_type": "code",
   "execution_count": null,
   "metadata": {},
   "outputs": [],
   "source": [
    "from sklearn.svm import SVR\n",
    "model = SVR()\n",
    "model.fit(x_train,y_train)\n",
    "cross_svr = cross_val_score(model,x_test,y_test,cv = 5)\n",
    "print('cross_svr',cross_svr.mean())"
   ]
  },
  {
   "cell_type": "code",
   "execution_count": null,
   "metadata": {},
   "outputs": [],
   "source": [
    "from xgboost import XGBRegressor\n",
    "model = XGBRegressor(n_estimators=500,learning_rate=0.05,max_depth=3)\n",
    "model.fit(x_train,y_train)\n",
    "cross_xgboost = cross_val_score(model,x_test,y_test,cv = 5)\n",
    "\n",
    "print('cross_xgboost : ',cross_xgboost.mean())"
   ]
  },
  {
   "cell_type": "code",
   "execution_count": null,
   "metadata": {},
   "outputs": [],
   "source": [
    "from sklearn.linear_model import LinearRegression\n",
    "\n",
    "model = LinearRegression()\n",
    "model.fit(x_train,y_train)\n",
    "\n",
    "cross_linear = cross_val_score(model,x_test,y_test,cv = 5)\n",
    "print(cross_linear)\n",
    "print('cross_linear : ',cross_linear.mean())"
   ]
  },
  {
   "cell_type": "code",
   "execution_count": null,
   "metadata": {},
   "outputs": [],
   "source": [
    "from sklearn.neural_network import MLPRegressor\n",
    "\n",
    "model = MLPRegressor().fit(x_train,y_train)\n",
    "cross_MLP = cross_val_score(model,x_test,y_test,cv = 5)\n",
    "\n",
    "print('croos_MLP : ',cross_MLP.mean())"
   ]
  },
  {
   "cell_type": "code",
   "execution_count": null,
   "metadata": {},
   "outputs": [],
   "source": []
  }
 ],
 "metadata": {
  "kernelspec": {
   "display_name": "Python 3",
   "language": "python",
   "name": "python3"
  },
  "language_info": {
   "codemirror_mode": {
    "name": "ipython",
    "version": 3
   },
   "file_extension": ".py",
   "mimetype": "text/x-python",
   "name": "python",
   "nbconvert_exporter": "python",
   "pygments_lexer": "ipython3",
   "version": "3.8.3"
  }
 },
 "nbformat": 4,
 "nbformat_minor": 4
}
