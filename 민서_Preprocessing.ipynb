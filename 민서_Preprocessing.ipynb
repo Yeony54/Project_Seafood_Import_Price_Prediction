{
 "cells": [
  {
   "cell_type": "markdown",
   "metadata": {
    "id": "DACPIbVx7TKg"
   },
   "source": [
    "# Import Library"
   ]
  },
  {
   "cell_type": "code",
   "execution_count": 141,
   "metadata": {
    "id": "83--jW2p7TKi"
   },
   "outputs": [],
   "source": [
    "# Import Libraries\n",
    "import os\n",
    "import pandas as pd\n",
    "import numpy as np\n",
    "from scipy.stats import norm\n",
    "from sklearn.preprocessing import StandardScaler\n",
    "from scipy import stats\n",
    "import warnings\n",
    "warnings.filterwarnings('ignore')\n",
    "%matplotlib inline\n",
    "\n",
    "# Visuzliation Setting\n",
    "import matplotlib.pyplot as plt\n",
    "import matplotlib.font_manager as fm\n",
    "from matplotlib import rc\n",
    "from matplotlib import colors\n",
    "import seaborn as sns"
   ]
  },
  {
   "cell_type": "markdown",
   "metadata": {
    "id": "Ap-G6EzN7TKk"
   },
   "source": [
    "---"
   ]
  },
  {
   "cell_type": "code",
   "execution_count": null,
   "metadata": {
    "colab": {
     "base_uri": "https://localhost:8080/"
    },
    "id": "Vd981FIv9NUn",
    "outputId": "5e8cb746-a86a-4032-a34e-33c8ba221552"
   },
   "outputs": [
    {
     "name": "stdout",
     "output_type": "stream",
     "text": [
      "Drive already mounted at /content/drive; to attempt to forcibly remount, call drive.mount(\"/content/drive\", force_remount=True).\n"
     ]
    }
   ],
   "source": [
    "# from google.colab import drive\n",
    "# drive.mount('/content/drive')"
   ]
  },
  {
   "cell_type": "code",
   "execution_count": 142,
   "metadata": {
    "id": "TWB8ocwr7TKk"
   },
   "outputs": [],
   "source": [
    "root = os.path.join(os.getcwd(), 'DATA')"
   ]
  },
  {
   "cell_type": "code",
   "execution_count": 226,
   "metadata": {},
   "outputs": [],
   "source": [
    "from datetime import datetime\n",
    "\n",
    "\n",
    "def set_week(df, date):\n",
    "    '''\n",
    "    df : datetime 형식의 컬럼을 가지고 있는 dataframe\n",
    "    date : df에서 datetime 형식을 가진 컬럼명\n",
    "    return : date의 연도 컬럼과 주차 컬럼을 추가한 dataframe\n",
    "    '''\n",
    "    df[date] = pd.to_datetime(df[date])\n",
    "    df[date] = df[date].dt.date\n",
    "    df['year'] = df.apply(func=lambda x: x[date].isocalendar()[0], axis=1)\n",
    "    df['week'] = df.apply(func=lambda x: x[date].isocalendar()[1], axis=1)\n",
    "    df.drop(date, axis=1, inplace=True)\n",
    "    \n",
    "\n",
    "def check_week(df):\n",
    "    '''\n",
    "    df에 date가 전부 있는지 확인\n",
    "    '''\n",
    "    cnt = 0\n",
    "    year, week = 2015, datetime(2015, 12, 28).isocalendar()[1]\n",
    "    if df[(df['year'] == year) & (df['week'] == week)].empty:\n",
    "        print((year, week), end=\"\")\n",
    "        cnt += 1\n",
    "    for year in range(2016, 2020):\n",
    "        for week in range(datetime(year, 1, 1).isocalendar()[1], datetime(year, 12, 31).isocalendar()[1] + 1):\n",
    "            if df[(df['year'] == year) & (df['week'] == week)].empty:\n",
    "                print((year, week), end=\"\")\n",
    "                cnt += 1\n",
    "    if cnt > 0:\n",
    "        print()\n",
    "    print(\"missing\", cnt, \"values\")    "
   ]
  },
  {
   "cell_type": "markdown",
   "metadata": {
    "id": "n0koSwxa7TKl"
   },
   "source": [
    "# Training Data\n",
    "빅콘테스트 제공 데이터 전처리"
   ]
  },
  {
   "cell_type": "markdown",
   "metadata": {
    "id": "xdBOsf7e7TKl"
   },
   "source": [
    "## Import Data"
   ]
  },
  {
   "cell_type": "code",
   "execution_count": 152,
   "metadata": {
    "id": "KJCPDskn7TKl"
   },
   "outputs": [],
   "source": [
    "df_raw = pd.read_excel(os.path.join(root, 'train.xlsx'))\n",
    "df_train = df_raw.copy()"
   ]
  },
  {
   "cell_type": "markdown",
   "metadata": {
    "id": "h3OU0ctu7TKo"
   },
   "source": [
    "### One hot encoding\n",
    "P_IMPORT_TYPE 이라는 특수한 컬럼에 대한 전처리"
   ]
  },
  {
   "cell_type": "code",
   "execution_count": 189,
   "metadata": {
    "id": "WfYJ0J9I7TKo"
   },
   "outputs": [],
   "source": [
    "import_type_list = set()\n",
    "for tmp in df_train.P_IMPORT_TYPE.unique():\n",
    "    for a in tmp.split(','):\n",
    "        import_type_list.add(a)"
   ]
  },
  {
   "cell_type": "code",
   "execution_count": 190,
   "metadata": {
    "id": "9Sem0cl37TKo"
   },
   "outputs": [],
   "source": [
    "for name in import_type_list:\n",
    "    df_train[name] = 0\n",
    "    df_train.loc[df_train['P_IMPORT_TYPE'].str.contains(name, regex=False), name] = 1"
   ]
  },
  {
   "cell_type": "markdown",
   "metadata": {
    "id": "8GgRtMPI7TKm"
   },
   "source": [
    "### Add Columns"
   ]
  },
  {
   "cell_type": "code",
   "execution_count": 156,
   "metadata": {},
   "outputs": [],
   "source": [
    "set_week(df_train, 'REG_DATE')"
   ]
  },
  {
   "cell_type": "code",
   "execution_count": 178,
   "metadata": {},
   "outputs": [
    {
     "name": "stdout",
     "output_type": "stream",
     "text": [
      "missing 0 values\n"
     ]
    }
   ],
   "source": [
    "check_week(df_train)"
   ]
  },
  {
   "cell_type": "code",
   "execution_count": 179,
   "metadata": {
    "id": "iOcPWO0-7TKn"
   },
   "outputs": [],
   "source": [
    "# 어종별 수 컬럼 추가\n",
    "df_train['name_cnt'] = 0;\n",
    "value_dict = {}\n",
    "for name, value in zip(df_train['P_NAME'].value_counts().index,df_train['P_NAME'].value_counts()):\n",
    "    value_dict[name] = value\n",
    "\n",
    "def value(col):\n",
    "    return value_dict[col]\n",
    "\n",
    "df_train['name_cnt'] = df_train['P_NAME'].apply(value)"
   ]
  },
  {
   "cell_type": "code",
   "execution_count": 186,
   "metadata": {},
   "outputs": [],
   "source": [
    "# 가공 여부 컬럼 추가\n",
    "df_train['is_processed'] = (df_train['CTRY_1'] != df_train['CTRY_2'])"
   ]
  },
  {
   "cell_type": "code",
   "execution_count": null,
   "metadata": {},
   "outputs": [],
   "source": [
    "df_train['import_cnt'] = 0\n",
    "for i, row in df_train.iterrows():\n",
    "    for name in import_type_list:\n",
    "        if row[name] == 1:\n",
    "            df_train.at[i, 'import_cnt'] += 1"
   ]
  },
  {
   "cell_type": "markdown",
   "metadata": {
    "id": "uDZd3vUe7TKp"
   },
   "source": [
    "---"
   ]
  },
  {
   "cell_type": "markdown",
   "metadata": {
    "id": "Yohf5ddY7TKp"
   },
   "source": [
    "# Weather data"
   ]
  },
  {
   "cell_type": "markdown",
   "metadata": {
    "id": "KF2OAGuX7TKp"
   },
   "source": [
    "## Import Data"
   ]
  },
  {
   "cell_type": "code",
   "execution_count": 15,
   "metadata": {
    "id": "d1lx8F_f7TKp"
   },
   "outputs": [],
   "source": [
    "df_weather_code = pd.read_csv(os.path.join(root, 'raw_weather_code.csv'), header=0, index_col=0)"
   ]
  },
  {
   "cell_type": "code",
   "execution_count": 138,
   "metadata": {
    "id": "7jgUNwso7TKp"
   },
   "outputs": [],
   "source": [
    "weather_list = [pd.read_csv(os.path.join(root, 'raw_weather_20151228_20161227.csv'), encoding='euc-kr') , \n",
    "                pd.read_csv(os.path.join(root, 'raw_weather_20161228_20171227.csv'), encoding='euc-kr') , \n",
    "                pd.read_csv(os.path.join(root, 'raw_weather_20171228_20181227.csv'), encoding='euc-kr') , \n",
    "                pd.read_csv(os.path.join(root, 'raw_weather_20181228_20191227.csv'), encoding='euc-kr') , \n",
    "                pd.read_csv(os.path.join(root, 'raw_weather_20191228_20201227.csv'), encoding='euc-kr') , \n",
    "                pd.read_csv(os.path.join(root, 'raw_weather_20201228_20210818.csv'), encoding='euc-kr')]"
   ]
  },
  {
   "cell_type": "markdown",
   "metadata": {
    "id": "8M2cvvz67TKp"
   },
   "source": [
    "\n",
    "## Preprocess\n",
    "- '지점'에 따른 나라명 컬럼(CTRY_1)과 해안가여부(is_waterfront) 추가\n",
    "- 각 나라, 일자 별로 평균 강수량, 풍속, 기온 계산"
   ]
  },
  {
   "cell_type": "code",
   "execution_count": 191,
   "metadata": {},
   "outputs": [],
   "source": [
    "# 지점에 따라 나라명 추가\n",
    "def set_country(row):\n",
    "    data = df_weather_code[df_weather_code['지점'] == row['지점']]\n",
    "    if data.empty:\n",
    "        return \"\"\n",
    "    return data.iloc[0]['국가명']\n",
    "\n",
    "\n",
    "def set_waterfront(row):\n",
    "    data = df_weather_code[df_weather_code['지점'] == row['지점']]\n",
    "    if data.empty or data.iloc[0]['해안가여부'] != 1:\n",
    "        return False\n",
    "    return True\n",
    "    \n",
    "\n",
    "def preprocess_weather(df):\n",
    "    df = df[(df['강수량'] >= 0) & (df['풍속'] >= 0)] # 이상치/결측치 제거\n",
    "    set_week(df, '일시')  # 날짜 정보 처리\n",
    "    \n",
    "    # 나라명 추가\n",
    "    df['CTRY_1'] = \"\"\n",
    "    for i, row in df.iterrows():\n",
    "        df.at[i, 'CTRY_1'] = set_country(row)\n",
    "    \n",
    "    # 해안가 여부 추가\n",
    "    df['is_waterfront'] = False\n",
    "    for i, row in df.iterrows():\n",
    "        df.at[i, 'is_waterfront'] = set_waterfront(row)\n",
    "        \n",
    "#     df = df[df['is_waterfront']]  # 해안가가 아닌 데이터 제외\n",
    "    \n",
    "    # 평균\n",
    "    columns = ['year', 'week', 'CTRY_1']\n",
    "    df['rain'] = df[columns + ['강수량']].groupby(columns).transform('mean')\n",
    "    df['wind'] = df[columns + ['풍속']].groupby(columns).transform('mean')\n",
    "    df['temperature'] = df[columns + ['기온']].groupby(columns).transform('mean')\n",
    "\n",
    "    # 컬럼/행 정리\n",
    "    df.drop(columns=['지점명', '지점', '강수량', '풍속', '기온', 'is_waterfront'], inplace=True)\n",
    "    df.drop_duplicates(inplace=True)\n",
    "    df.reset_index(drop=True, inplace=True)\n",
    "    \n",
    "    return df"
   ]
  },
  {
   "cell_type": "code",
   "execution_count": 197,
   "metadata": {
    "id": "WxLOBtPv7TKq",
    "scrolled": false
   },
   "outputs": [],
   "source": [
    "for i in range(len(weather_list)):\n",
    "    weather_list[i] = preprocess_weather(weather_list[i])\n",
    "df_weather = pd.concat(weather_list)"
   ]
  },
  {
   "cell_type": "markdown",
   "metadata": {},
   "source": [
    "## Check"
   ]
  },
  {
   "cell_type": "code",
   "execution_count": 198,
   "metadata": {
    "id": "3DvVEvAt7TKq"
   },
   "outputs": [
    {
     "data": {
      "text/html": [
       "<div>\n",
       "<style scoped>\n",
       "    .dataframe tbody tr th:only-of-type {\n",
       "        vertical-align: middle;\n",
       "    }\n",
       "\n",
       "    .dataframe tbody tr th {\n",
       "        vertical-align: top;\n",
       "    }\n",
       "\n",
       "    .dataframe thead th {\n",
       "        text-align: right;\n",
       "    }\n",
       "</style>\n",
       "<table border=\"1\" class=\"dataframe\">\n",
       "  <thead>\n",
       "    <tr style=\"text-align: right;\">\n",
       "      <th></th>\n",
       "      <th>year</th>\n",
       "      <th>week</th>\n",
       "      <th>rain</th>\n",
       "      <th>wind</th>\n",
       "      <th>temperature</th>\n",
       "    </tr>\n",
       "  </thead>\n",
       "  <tbody>\n",
       "    <tr>\n",
       "      <th>count</th>\n",
       "      <td>3042.000000</td>\n",
       "      <td>3042.000000</td>\n",
       "      <td>3042.000000</td>\n",
       "      <td>3042.000000</td>\n",
       "      <td>3042.000000</td>\n",
       "    </tr>\n",
       "    <tr>\n",
       "      <th>mean</th>\n",
       "      <td>2018.241617</td>\n",
       "      <td>25.810980</td>\n",
       "      <td>5.599044</td>\n",
       "      <td>3.729863</td>\n",
       "      <td>15.529427</td>\n",
       "    </tr>\n",
       "    <tr>\n",
       "      <th>std</th>\n",
       "      <td>1.597784</td>\n",
       "      <td>14.990738</td>\n",
       "      <td>24.266469</td>\n",
       "      <td>2.941408</td>\n",
       "      <td>10.109316</td>\n",
       "    </tr>\n",
       "    <tr>\n",
       "      <th>min</th>\n",
       "      <td>2015.000000</td>\n",
       "      <td>1.000000</td>\n",
       "      <td>0.000000</td>\n",
       "      <td>0.000000</td>\n",
       "      <td>-21.600000</td>\n",
       "    </tr>\n",
       "    <tr>\n",
       "      <th>25%</th>\n",
       "      <td>2017.000000</td>\n",
       "      <td>13.000000</td>\n",
       "      <td>1.601130</td>\n",
       "      <td>1.931809</td>\n",
       "      <td>8.719672</td>\n",
       "    </tr>\n",
       "    <tr>\n",
       "      <th>50%</th>\n",
       "      <td>2018.000000</td>\n",
       "      <td>25.000000</td>\n",
       "      <td>2.925263</td>\n",
       "      <td>2.500000</td>\n",
       "      <td>15.845238</td>\n",
       "    </tr>\n",
       "    <tr>\n",
       "      <th>75%</th>\n",
       "      <td>2020.000000</td>\n",
       "      <td>38.000000</td>\n",
       "      <td>6.950630</td>\n",
       "      <td>5.372435</td>\n",
       "      <td>25.754902</td>\n",
       "    </tr>\n",
       "    <tr>\n",
       "      <th>max</th>\n",
       "      <td>2021.000000</td>\n",
       "      <td>53.000000</td>\n",
       "      <td>915.000000</td>\n",
       "      <td>60.000000</td>\n",
       "      <td>30.100000</td>\n",
       "    </tr>\n",
       "  </tbody>\n",
       "</table>\n",
       "</div>"
      ],
      "text/plain": [
       "              year         week         rain         wind  temperature\n",
       "count  3042.000000  3042.000000  3042.000000  3042.000000  3042.000000\n",
       "mean   2018.241617    25.810980     5.599044     3.729863    15.529427\n",
       "std       1.597784    14.990738    24.266469     2.941408    10.109316\n",
       "min    2015.000000     1.000000     0.000000     0.000000   -21.600000\n",
       "25%    2017.000000    13.000000     1.601130     1.931809     8.719672\n",
       "50%    2018.000000    25.000000     2.925263     2.500000    15.845238\n",
       "75%    2020.000000    38.000000     6.950630     5.372435    25.754902\n",
       "max    2021.000000    53.000000   915.000000    60.000000    30.100000"
      ]
     },
     "execution_count": 198,
     "metadata": {},
     "output_type": "execute_result"
    }
   ],
   "source": [
    "df_weather.describe()"
   ]
  },
  {
   "cell_type": "code",
   "execution_count": 229,
   "metadata": {},
   "outputs": [
    {
     "name": "stdout",
     "output_type": "stream",
     "text": [
      "\n",
      "노르웨이\n",
      "missing 0 values\n",
      "\n",
      "태국\n",
      "missing 0 values\n",
      "\n",
      "베트남\n",
      "missing 0 values\n",
      "\n",
      "중국\n",
      "missing 0 values\n",
      "\n",
      "페루\n",
      "(2015, 53)(2017, 52)(2018, 1)(2019, 1)\n",
      "missing 4 values\n",
      "\n",
      "칠레\n",
      "missing 0 values\n"
     ]
    }
   ],
   "source": [
    "for country in df_weather['CTRY_1'].unique():\n",
    "    if country == \"\":\n",
    "        continue\n",
    "    print()\n",
    "    print(country)\n",
    "    check_week(df_weather[df_weather['CTRY_1'] == country])"
   ]
  },
  {
   "cell_type": "markdown",
   "metadata": {},
   "source": [
    "## Filling Missing Values\n",
    "\n",
    "페루의 경우 결측치가 존재  \n",
    "전주/차주 데이터 값의 평균으로 채워넣기"
   ]
  },
  {
   "cell_type": "code",
   "execution_count": 238,
   "metadata": {},
   "outputs": [
    {
     "data": {
      "text/plain": [
       "dtype('int64')"
      ]
     },
     "execution_count": 238,
     "metadata": {},
     "output_type": "execute_result"
    }
   ],
   "source": [
    "df_weather['year'].dtype"
   ]
  },
  {
   "cell_type": "code",
   "execution_count": 239,
   "metadata": {},
   "outputs": [
    {
     "name": "stdout",
     "output_type": "stream",
     "text": [
      "(2015, 53)(2017, 52)(2018, 1)(2019, 1)\n",
      "missing 4 values\n"
     ]
    }
   ],
   "source": [
    "df_weather.append({'year': 2015, 'week': 53, \"CTRY_1\": \"페루\"}, ignore_index=True)\n",
    "df_weather.append({'year': 2017, 'week': 52, \"CTRY_1\": \"페루\"}, ignore_index=True)\n",
    "df_weather.append({'year': 2018, 'week': 1, \"CTRY_1\": \"페루\"}, ignore_index=True)\n",
    "df_weather.append({'year': 2019, 'week': 1, \"CTRY_1\": \"페루\"}, ignore_index=True)\n",
    "check_week(df_weather[df_weather['CTRY_1'] == \"페루\"])"
   ]
  },
  {
   "cell_type": "code",
   "execution_count": 243,
   "metadata": {},
   "outputs": [
    {
     "data": {
      "text/html": [
       "<div>\n",
       "<style scoped>\n",
       "    .dataframe tbody tr th:only-of-type {\n",
       "        vertical-align: middle;\n",
       "    }\n",
       "\n",
       "    .dataframe tbody tr th {\n",
       "        vertical-align: top;\n",
       "    }\n",
       "\n",
       "    .dataframe thead th {\n",
       "        text-align: right;\n",
       "    }\n",
       "</style>\n",
       "<table border=\"1\" class=\"dataframe\">\n",
       "  <thead>\n",
       "    <tr style=\"text-align: right;\">\n",
       "      <th></th>\n",
       "      <th>year</th>\n",
       "      <th>week</th>\n",
       "      <th>CTRY_1</th>\n",
       "      <th>is_waterfront</th>\n",
       "      <th>rain</th>\n",
       "      <th>wind</th>\n",
       "      <th>temperature</th>\n",
       "    </tr>\n",
       "  </thead>\n",
       "  <tbody>\n",
       "    <tr>\n",
       "      <th>457</th>\n",
       "      <td>2016</td>\n",
       "      <td>50</td>\n",
       "      <td>페루</td>\n",
       "      <td>False</td>\n",
       "      <td>0.1</td>\n",
       "      <td>4.0</td>\n",
       "      <td>25.6</td>\n",
       "    </tr>\n",
       "    <tr>\n",
       "      <th>468</th>\n",
       "      <td>2017</td>\n",
       "      <td>11</td>\n",
       "      <td>페루</td>\n",
       "      <td>False</td>\n",
       "      <td>0.0</td>\n",
       "      <td>3.0</td>\n",
       "      <td>19.0</td>\n",
       "    </tr>\n",
       "    <tr>\n",
       "      <th>467</th>\n",
       "      <td>2017</td>\n",
       "      <td>49</td>\n",
       "      <td>페루</td>\n",
       "      <td>False</td>\n",
       "      <td>1.0</td>\n",
       "      <td>3.0</td>\n",
       "      <td>25.2</td>\n",
       "    </tr>\n",
       "    <tr>\n",
       "      <th>463</th>\n",
       "      <td>2018</td>\n",
       "      <td>7</td>\n",
       "      <td>페루</td>\n",
       "      <td>True</td>\n",
       "      <td>161.0</td>\n",
       "      <td>60.0</td>\n",
       "      <td>23.2</td>\n",
       "    </tr>\n",
       "    <tr>\n",
       "      <th>464</th>\n",
       "      <td>2018</td>\n",
       "      <td>50</td>\n",
       "      <td>페루</td>\n",
       "      <td>False</td>\n",
       "      <td>888.0</td>\n",
       "      <td>5.0</td>\n",
       "      <td>16.7</td>\n",
       "    </tr>\n",
       "    <tr>\n",
       "      <th>458</th>\n",
       "      <td>2019</td>\n",
       "      <td>49</td>\n",
       "      <td>페루</td>\n",
       "      <td>False</td>\n",
       "      <td>300.0</td>\n",
       "      <td>60.0</td>\n",
       "      <td>27.9</td>\n",
       "    </tr>\n",
       "    <tr>\n",
       "      <th>225</th>\n",
       "      <td>2021</td>\n",
       "      <td>28</td>\n",
       "      <td>페루</td>\n",
       "      <td>False</td>\n",
       "      <td>915.0</td>\n",
       "      <td>3.0</td>\n",
       "      <td>2.3</td>\n",
       "    </tr>\n",
       "  </tbody>\n",
       "</table>\n",
       "</div>"
      ],
      "text/plain": [
       "     year  week CTRY_1  is_waterfront   rain  wind  temperature\n",
       "457  2016    50     페루          False    0.1   4.0         25.6\n",
       "468  2017    11     페루          False    0.0   3.0         19.0\n",
       "467  2017    49     페루          False    1.0   3.0         25.2\n",
       "463  2018     7     페루           True  161.0  60.0         23.2\n",
       "464  2018    50     페루          False  888.0   5.0         16.7\n",
       "458  2019    49     페루          False  300.0  60.0         27.9\n",
       "225  2021    28     페루          False  915.0   3.0          2.3"
      ]
     },
     "execution_count": 243,
     "metadata": {},
     "output_type": "execute_result"
    }
   ],
   "source": [
    "df_weather[df_weather['CTRY_1'] == \"페루\"].sort_values(by=['year', 'week'])"
   ]
  },
  {
   "cell_type": "code",
   "execution_count": 244,
   "metadata": {},
   "outputs": [
    {
     "data": {
      "text/html": [
       "<div>\n",
       "<style scoped>\n",
       "    .dataframe tbody tr th:only-of-type {\n",
       "        vertical-align: middle;\n",
       "    }\n",
       "\n",
       "    .dataframe tbody tr th {\n",
       "        vertical-align: top;\n",
       "    }\n",
       "\n",
       "    .dataframe thead th {\n",
       "        text-align: right;\n",
       "    }\n",
       "</style>\n",
       "<table border=\"1\" class=\"dataframe\">\n",
       "  <thead>\n",
       "    <tr style=\"text-align: right;\">\n",
       "      <th></th>\n",
       "      <th>year</th>\n",
       "      <th>week</th>\n",
       "      <th>CTRY_1</th>\n",
       "      <th>is_waterfront</th>\n",
       "      <th>rain</th>\n",
       "      <th>wind</th>\n",
       "      <th>temperature</th>\n",
       "    </tr>\n",
       "  </thead>\n",
       "  <tbody>\n",
       "    <tr>\n",
       "      <th>476</th>\n",
       "      <td>2015</td>\n",
       "      <td>53</td>\n",
       "      <td>칠레</td>\n",
       "      <td>True</td>\n",
       "      <td>0.580000</td>\n",
       "      <td>6.833333</td>\n",
       "      <td>16.963333</td>\n",
       "    </tr>\n",
       "    <tr>\n",
       "      <th>504</th>\n",
       "      <td>2015</td>\n",
       "      <td>53</td>\n",
       "      <td>칠레</td>\n",
       "      <td>False</td>\n",
       "      <td>0.580000</td>\n",
       "      <td>6.833333</td>\n",
       "      <td>16.963333</td>\n",
       "    </tr>\n",
       "    <tr>\n",
       "      <th>470</th>\n",
       "      <td>2016</td>\n",
       "      <td>1</td>\n",
       "      <td>칠레</td>\n",
       "      <td>True</td>\n",
       "      <td>2.600000</td>\n",
       "      <td>6.000000</td>\n",
       "      <td>19.366667</td>\n",
       "    </tr>\n",
       "    <tr>\n",
       "      <th>503</th>\n",
       "      <td>2016</td>\n",
       "      <td>2</td>\n",
       "      <td>칠레</td>\n",
       "      <td>True</td>\n",
       "      <td>1.000000</td>\n",
       "      <td>2.666667</td>\n",
       "      <td>15.333333</td>\n",
       "    </tr>\n",
       "    <tr>\n",
       "      <th>529</th>\n",
       "      <td>2016</td>\n",
       "      <td>3</td>\n",
       "      <td>칠레</td>\n",
       "      <td>False</td>\n",
       "      <td>1.500000</td>\n",
       "      <td>3.500000</td>\n",
       "      <td>15.200000</td>\n",
       "    </tr>\n",
       "    <tr>\n",
       "      <th>...</th>\n",
       "      <td>...</td>\n",
       "      <td>...</td>\n",
       "      <td>...</td>\n",
       "      <td>...</td>\n",
       "      <td>...</td>\n",
       "      <td>...</td>\n",
       "      <td>...</td>\n",
       "    </tr>\n",
       "    <tr>\n",
       "      <th>257</th>\n",
       "      <td>2021</td>\n",
       "      <td>31</td>\n",
       "      <td>칠레</td>\n",
       "      <td>False</td>\n",
       "      <td>1.979452</td>\n",
       "      <td>7.287671</td>\n",
       "      <td>8.743836</td>\n",
       "    </tr>\n",
       "    <tr>\n",
       "      <th>251</th>\n",
       "      <td>2021</td>\n",
       "      <td>32</td>\n",
       "      <td>칠레</td>\n",
       "      <td>True</td>\n",
       "      <td>0.752778</td>\n",
       "      <td>8.722222</td>\n",
       "      <td>10.780556</td>\n",
       "    </tr>\n",
       "    <tr>\n",
       "      <th>286</th>\n",
       "      <td>2021</td>\n",
       "      <td>32</td>\n",
       "      <td>칠레</td>\n",
       "      <td>False</td>\n",
       "      <td>0.752778</td>\n",
       "      <td>8.722222</td>\n",
       "      <td>10.780556</td>\n",
       "    </tr>\n",
       "    <tr>\n",
       "      <th>235</th>\n",
       "      <td>2021</td>\n",
       "      <td>33</td>\n",
       "      <td>칠레</td>\n",
       "      <td>True</td>\n",
       "      <td>3.554839</td>\n",
       "      <td>10.612903</td>\n",
       "      <td>10.017742</td>\n",
       "    </tr>\n",
       "    <tr>\n",
       "      <th>276</th>\n",
       "      <td>2021</td>\n",
       "      <td>33</td>\n",
       "      <td>칠레</td>\n",
       "      <td>False</td>\n",
       "      <td>3.554839</td>\n",
       "      <td>10.612903</td>\n",
       "      <td>10.017742</td>\n",
       "    </tr>\n",
       "  </tbody>\n",
       "</table>\n",
       "<p>568 rows × 7 columns</p>\n",
       "</div>"
      ],
      "text/plain": [
       "     year  week CTRY_1  is_waterfront      rain       wind  temperature\n",
       "476  2015    53     칠레           True  0.580000   6.833333    16.963333\n",
       "504  2015    53     칠레          False  0.580000   6.833333    16.963333\n",
       "470  2016     1     칠레           True  2.600000   6.000000    19.366667\n",
       "503  2016     2     칠레           True  1.000000   2.666667    15.333333\n",
       "529  2016     3     칠레          False  1.500000   3.500000    15.200000\n",
       "..    ...   ...    ...            ...       ...        ...          ...\n",
       "257  2021    31     칠레          False  1.979452   7.287671     8.743836\n",
       "251  2021    32     칠레           True  0.752778   8.722222    10.780556\n",
       "286  2021    32     칠레          False  0.752778   8.722222    10.780556\n",
       "235  2021    33     칠레           True  3.554839  10.612903    10.017742\n",
       "276  2021    33     칠레          False  3.554839  10.612903    10.017742\n",
       "\n",
       "[568 rows x 7 columns]"
      ]
     },
     "execution_count": 244,
     "metadata": {},
     "output_type": "execute_result"
    }
   ],
   "source": [
    "df_weather[df_weather['CTRY_1'] == \"칠레\"].sort_values(by=['year', 'week'])"
   ]
  },
  {
   "cell_type": "markdown",
   "metadata": {
    "id": "6Bcx08HU7TKr"
   },
   "source": [
    "## Add to Training Data"
   ]
  },
  {
   "cell_type": "code",
   "execution_count": null,
   "metadata": {
    "id": "eya8U1xR7TKr"
   },
   "outputs": [],
   "source": [
    "df_train = pd.merge(df_train, df_weather, how='left', on=['year', 'week', 'CTRY_1'])"
   ]
  },
  {
   "cell_type": "code",
   "execution_count": null,
   "metadata": {
    "id": "NGACU4IW7TKr"
   },
   "outputs": [],
   "source": [
    "pd.set_option(\"display.max_columns\", None)\n",
    "df_train.sample(5)"
   ]
  },
  {
   "cell_type": "markdown",
   "metadata": {
    "id": "351DAvcP7TKs"
   },
   "source": [
    "---"
   ]
  },
  {
   "cell_type": "markdown",
   "metadata": {
    "id": "gp3zCFeg7TKs"
   },
   "source": [
    "# Salinity"
   ]
  },
  {
   "cell_type": "markdown",
   "metadata": {
    "id": "600RYV_S7TKs"
   },
   "source": [
    "## Import Data"
   ]
  },
  {
   "cell_type": "code",
   "execution_count": null,
   "metadata": {
    "id": "hiXlsChx7TKs"
   },
   "outputs": [],
   "source": [
    "# df_salinity = pd.read_csv(os.path.join(root, 'raw_salinity.csv'))"
   ]
  },
  {
   "cell_type": "markdown",
   "metadata": {
    "id": "5nG6S2767TKs"
   },
   "source": [
    "## Drop Columns & Rows"
   ]
  },
  {
   "cell_type": "code",
   "execution_count": null,
   "metadata": {
    "id": "OiA00iG97TKs"
   },
   "outputs": [],
   "source": [
    "# df_salinity.drop(df_salinity.columns[2], inplace=True, axis=1)\n",
    "# df_salinity = df_salinity[(2015 <= df_salinity['obs_year']) & (df_salinity['obs_year'] <= 2021)]"
   ]
  },
  {
   "cell_type": "markdown",
   "metadata": {
    "id": "L65N0d8w7TKs"
   },
   "source": [
    "2020, 2021 데이터의 부재로 인해 보류"
   ]
  },
  {
   "cell_type": "markdown",
   "metadata": {
    "id": "_HH1O6bj7TKs"
   },
   "source": [
    "---"
   ]
  },
  {
   "cell_type": "markdown",
   "metadata": {
    "id": "acx-1jLF7TKt"
   },
   "source": [
    "# Oil"
   ]
  },
  {
   "cell_type": "markdown",
   "metadata": {
    "id": "oCJclrSZ7TKt"
   },
   "source": [
    "## Import Data"
   ]
  },
  {
   "cell_type": "code",
   "execution_count": null,
   "metadata": {
    "id": "rZoXA4Hq7TKt"
   },
   "outputs": [],
   "source": [
    "df_oil = pd.read_csv(os.path.join(root, 'raw_oil.csv'))\n",
    "df_oil_dubai = pd.read_csv(os.path.join(root, 'raw_oil_dubai.csv'))\n",
    "df_oil_brent = pd.read_csv(os.path.join(root, 'raw_oil_brent.csv'))"
   ]
  },
  {
   "cell_type": "markdown",
   "metadata": {
    "id": "r5qohDxB7TKt"
   },
   "source": [
    "## Preprocess"
   ]
  },
  {
   "cell_type": "code",
   "execution_count": null,
   "metadata": {
    "id": "B6fv1TdP7TKt"
   },
   "outputs": [],
   "source": [
    "def preprocess_oil(df):\n",
    "    df['date'] = datetime(df['날짜'].str[:4] + df['날짜'].str[6:8] + df['날짜'].str[10:12])\n",
    "    set_week(df, 'date')  # 날짜 데이터 정리\n",
    "    df['oil'] = df['year', 'week', '종가'].groupby(['year', 'week']).transform('mean')\n",
    "    df.drop(columns = ['오픈', '고가', '저가', '거래량', '변동 %'], inplace=True, axis=1)\n",
    "    df.sort_index(ascending=False)\n",
    "    return df"
   ]
  },
  {
   "cell_type": "code",
   "execution_count": null,
   "metadata": {
    "id": "K9anYpOM7TKt",
    "scrolled": false
   },
   "outputs": [],
   "source": [
    "df_oil = preprocess_oil(df_oil)\n",
    "df_oil_dubai = preprocess_oil(df_oil_dubai)\n",
    "df_oil_brent = preprocess_oil(df_oil_brent)"
   ]
  },
  {
   "cell_type": "markdown",
   "metadata": {
    "id": "pyvGCh4F7TKt"
   },
   "source": [
    "## Check"
   ]
  },
  {
   "cell_type": "code",
   "execution_count": null,
   "metadata": {
    "id": "bMwUgDPN7TKt"
   },
   "outputs": [],
   "source": [
    "check_week(df_oil)\n",
    "check_week(df_oil_dubai)\n",
    "check_week(df_oil_brent)"
   ]
  },
  {
   "cell_type": "markdown",
   "metadata": {
    "id": "S0xEY7ox7TKt"
   },
   "source": [
    "oil과 비교하였을 때 dubai의 경우 28개, brent의 경우 3개의 데이터가 적다  \n",
    "따라서 df_oil 데이터를 사용하도록 한다"
   ]
  },
  {
   "cell_type": "markdown",
   "metadata": {
    "id": "P6aYxyz67TKt"
   },
   "source": [
    "## Add to Training Data"
   ]
  },
  {
   "cell_type": "code",
   "execution_count": null,
   "metadata": {
    "id": "1Muczrc27TKt"
   },
   "outputs": [],
   "source": [
    "df_train = pd.merge(df_train, df_oil, how='left', on=['year', 'week'])"
   ]
  },
  {
   "cell_type": "code",
   "execution_count": null,
   "metadata": {
    "id": "0dYBbImg7TKu"
   },
   "outputs": [],
   "source": [
    "pd.set_option(\"display.max_columns\", None)\n",
    "df_train.sample(5)"
   ]
  },
  {
   "cell_type": "markdown",
   "metadata": {
    "id": "piIkfoXt7TKu"
   },
   "source": [
    "---"
   ]
  },
  {
   "cell_type": "markdown",
   "metadata": {
    "id": "B1Ds8aYs7TKu"
   },
   "source": [
    "# Korea Weather"
   ]
  },
  {
   "cell_type": "markdown",
   "metadata": {
    "id": "5XbJR-Ul7TKu"
   },
   "source": [
    "## Import Data"
   ]
  },
  {
   "cell_type": "code",
   "execution_count": null,
   "metadata": {
    "id": "pb-geJf27TKu"
   },
   "outputs": [],
   "source": [
    "df_weather_kr = pd.read_csv(os.path.join(root, 'raw_weather_korea.csv'), encoding='euc-kr')"
   ]
  },
  {
   "cell_type": "markdown",
   "metadata": {
    "id": "FlOKa7c37TKu"
   },
   "source": [
    "## Preprocess Date"
   ]
  },
  {
   "cell_type": "code",
   "execution_count": null,
   "metadata": {
    "id": "thyMSwfu7TKu"
   },
   "outputs": [],
   "source": [
    "df_weather_kr['date'] = datetime(df_weather_kr['일시'].str[:4] + df_weather_kr['일시'].str[5:7] + df_weather_kr['일시'].str[8:])\n",
    "set_week(df_weather_kr, 'date')"
   ]
  },
  {
   "cell_type": "markdown",
   "metadata": {
    "id": "kYt6KcQk7TKu"
   },
   "source": [
    "## Group\n",
    "일자 별로 평균 구하기"
   ]
  },
  {
   "cell_type": "code",
   "execution_count": null,
   "metadata": {
    "id": "aihGWxu47TKu"
   },
   "outputs": [],
   "source": [
    "df_weather_kr['wind_kr'] = df_weather_kr[['일시', '평균 풍속(m/s)']].groupby(['일시']).transform('mean')\n",
    "df_weather_kr['temperature_kr'] = df_weather_kr[['일시', '평균 기온(°C)']].groupby(['일시']).transform('mean')\n",
    "df_weather_kr['water_temp_kr'] = df_weather_kr[['일시', '평균 수온(°C)']].groupby(['일시']).transform('mean')"
   ]
  },
  {
   "cell_type": "markdown",
   "metadata": {
    "id": "iRuMRtrf7TKu"
   },
   "source": [
    "## Drop Column\n",
    "어차피 전부 해안가 대한민국이라 지점은 필요없다  \n",
    "사용한 컬럼은 제거한다"
   ]
  },
  {
   "cell_type": "code",
   "execution_count": null,
   "metadata": {
    "id": "e1Yd77_L7TKu"
   },
   "outputs": [],
   "source": [
    "drop = ['지점', '평균 풍속(m/s)', '평균 기온(°C)', '평균 수온(°C)']"
   ]
  },
  {
   "cell_type": "code",
   "execution_count": null,
   "metadata": {
    "id": "cDy5qdfk7TKv"
   },
   "outputs": [],
   "source": [
    "df_weather_kr.drop(columns=drop, inplace=True, axis=1)"
   ]
  },
  {
   "cell_type": "markdown",
   "metadata": {
    "id": "gH6G-gCb7TKv"
   },
   "source": [
    "## Add to Training Data"
   ]
  },
  {
   "cell_type": "code",
   "execution_count": null,
   "metadata": {
    "id": "pAeFVJZm7TKv"
   },
   "outputs": [],
   "source": [
    "df_train = pd.merge(df_train, df_weather_kr, how='left', on=['year', 'week'])"
   ]
  },
  {
   "cell_type": "code",
   "execution_count": null,
   "metadata": {
    "id": "wbUyFL9R7TKv"
   },
   "outputs": [],
   "source": [
    "pd.set_option(\"display.max_columns\", None)\n",
    "df_train.sample(5)"
   ]
  },
  {
   "cell_type": "markdown",
   "metadata": {
    "id": "0s4waw097TKv"
   },
   "source": [
    "---"
   ]
  },
  {
   "cell_type": "markdown",
   "metadata": {
    "id": "L0rIG3y37TKv"
   },
   "source": [
    "# 소비자물가지수"
   ]
  },
  {
   "cell_type": "markdown",
   "metadata": {
    "id": "UEjWmwdM7TKv"
   },
   "source": [
    "## Import Data"
   ]
  },
  {
   "cell_type": "code",
   "execution_count": null,
   "metadata": {
    "id": "TcpeFP4j7TKv"
   },
   "outputs": [],
   "source": [
    "cpi_purpose = pd.read_csv(\"/content/drive/MyDrive/빅콘/Seafood_Import_Price_Prediction/DATA/cpi/raw_cpi_purpose.csv\",encoding='cp949')  # CPI\n",
    "\n",
    "cpi_purpose"
   ]
  },
  {
   "cell_type": "markdown",
   "metadata": {
    "id": "miqYSGQFFeUR"
   },
   "source": [
    "## 소비자물가 총지수"
   ]
  },
  {
   "cell_type": "markdown",
   "metadata": {
    "id": "lusxs6UZF3mJ"
   },
   "source": [
    "### Drop Columns/Rows"
   ]
  },
  {
   "cell_type": "code",
   "execution_count": null,
   "metadata": {
    "id": "8E0xt4saFiKH"
   },
   "outputs": [],
   "source": [
    "cpi_purpose.drop('시도별',axis=1,inplace=True)\n",
    "\n",
    "cpi_purpose_copy = cpi_purpose.copy()\n",
    "\n",
    "cpi_purpose_copy.drop('지출목적별',axis=1,inplace=True)\n",
    "\n",
    "cpi_total = cpi_purpose_copy.iloc[0,:] # 전국 소비자물가 총지수만 추출\n",
    "\n",
    "cpi_total = pd.DataFrame(cpi_total.values,columns=['cpi'],index=cpi_total.index)\n",
    "\n",
    "cpi_total"
   ]
  },
  {
   "cell_type": "markdown",
   "metadata": {
    "id": "REUhHqUwFswV"
   },
   "source": [
    "### Pivoting"
   ]
  },
  {
   "cell_type": "code",
   "execution_count": null,
   "metadata": {
    "id": "rBe0CV3CFu3k"
   },
   "outputs": [],
   "source": [
    "cpi_purpose_copy = cpi_purpose.copy()\n",
    "\n",
    "cpi_purpose_copy.drop('지출목적별',axis=1,inplace=True)\n",
    "\n",
    "cpi_total = cpi_purpose_copy.iloc[0,:] # 전국 소비자물가 총지수만 추출\n",
    "\n",
    "cpi_total = pd.DataFrame(cpi_total.values,columns=['cpi'],index=cpi_total.index)\n",
    "\n",
    "cpi_total"
   ]
  },
  {
   "cell_type": "markdown",
   "metadata": {
    "id": "LE451chsESbg"
   },
   "source": [
    "## 지출목적별 소비자물가지수"
   ]
  },
  {
   "cell_type": "code",
   "execution_count": 354,
   "metadata": {
    "colab": {
     "base_uri": "https://localhost:8080/",
     "height": 433
    },
    "id": "0VfK9Sjy7TKw",
    "outputId": "82c96735-312f-4014-dcc7-cb691797e528"
   },
   "outputs": [
    {
     "data": {
      "text/html": [
       "<div>\n",
       "<style scoped>\n",
       "    .dataframe tbody tr th:only-of-type {\n",
       "        vertical-align: middle;\n",
       "    }\n",
       "\n",
       "    .dataframe tbody tr th {\n",
       "        vertical-align: top;\n",
       "    }\n",
       "\n",
       "    .dataframe thead th {\n",
       "        text-align: right;\n",
       "    }\n",
       "</style>\n",
       "<table border=\"1\" class=\"dataframe\">\n",
       "  <thead>\n",
       "    <tr style=\"text-align: right;\">\n",
       "      <th></th>\n",
       "      <th>지출목적별</th>\n",
       "      <th>2015. 12</th>\n",
       "      <th>2016. 01</th>\n",
       "      <th>2016. 02</th>\n",
       "      <th>2016. 03</th>\n",
       "      <th>2016. 04</th>\n",
       "      <th>2016. 05</th>\n",
       "      <th>2016. 06</th>\n",
       "      <th>2016. 07</th>\n",
       "      <th>2016. 08</th>\n",
       "      <th>2016. 09</th>\n",
       "      <th>2016. 10</th>\n",
       "      <th>2016. 11</th>\n",
       "      <th>2016. 12</th>\n",
       "      <th>2017. 01</th>\n",
       "      <th>2017. 02</th>\n",
       "      <th>2017. 03</th>\n",
       "      <th>2017. 04</th>\n",
       "      <th>2017. 05</th>\n",
       "      <th>2017. 06</th>\n",
       "      <th>2017. 07</th>\n",
       "      <th>2017. 08</th>\n",
       "      <th>2017. 09</th>\n",
       "      <th>2017. 10</th>\n",
       "      <th>2017. 11</th>\n",
       "      <th>2017. 12</th>\n",
       "      <th>2018. 01</th>\n",
       "      <th>2018. 02</th>\n",
       "      <th>2018. 03</th>\n",
       "      <th>2018. 04</th>\n",
       "      <th>2018. 05</th>\n",
       "      <th>2018. 06</th>\n",
       "      <th>2018. 07</th>\n",
       "      <th>2018. 08</th>\n",
       "      <th>2018. 09</th>\n",
       "      <th>2018. 10</th>\n",
       "      <th>2018. 11</th>\n",
       "      <th>2018. 12</th>\n",
       "      <th>2019. 01</th>\n",
       "      <th>2019. 02</th>\n",
       "      <th>2019. 03</th>\n",
       "      <th>2019. 04</th>\n",
       "      <th>2019. 05</th>\n",
       "      <th>2019. 06</th>\n",
       "      <th>2019. 07</th>\n",
       "      <th>2019. 08</th>\n",
       "      <th>2019. 09</th>\n",
       "      <th>2019. 10</th>\n",
       "      <th>2019. 11</th>\n",
       "      <th>2019. 12</th>\n",
       "      <th>2020. 01</th>\n",
       "      <th>2020. 02</th>\n",
       "      <th>2020. 03</th>\n",
       "      <th>2020. 04</th>\n",
       "      <th>2020. 05</th>\n",
       "      <th>2020. 06</th>\n",
       "      <th>2020. 07</th>\n",
       "      <th>2020. 08</th>\n",
       "      <th>2020. 09</th>\n",
       "      <th>2020. 10</th>\n",
       "      <th>2020. 11</th>\n",
       "      <th>2020. 12</th>\n",
       "      <th>2021. 01</th>\n",
       "      <th>2021. 02</th>\n",
       "      <th>2021. 03</th>\n",
       "      <th>2021. 04</th>\n",
       "      <th>2021. 05</th>\n",
       "      <th>2021. 06</th>\n",
       "    </tr>\n",
       "  </thead>\n",
       "  <tbody>\n",
       "    <tr>\n",
       "      <th>1</th>\n",
       "      <td>01 식료품 · 비주류음료</td>\n",
       "      <td>99.95</td>\n",
       "      <td>100.76</td>\n",
       "      <td>103.43</td>\n",
       "      <td>102.25</td>\n",
       "      <td>102.30</td>\n",
       "      <td>101.24</td>\n",
       "      <td>99.66</td>\n",
       "      <td>99.65</td>\n",
       "      <td>101.02</td>\n",
       "      <td>105.94</td>\n",
       "      <td>104.48</td>\n",
       "      <td>102.93</td>\n",
       "      <td>104.02</td>\n",
       "      <td>107.16</td>\n",
       "      <td>107.26</td>\n",
       "      <td>106.32</td>\n",
       "      <td>105.19</td>\n",
       "      <td>104.85</td>\n",
       "      <td>104.09</td>\n",
       "      <td>104.39</td>\n",
       "      <td>107.5</td>\n",
       "      <td>108.84</td>\n",
       "      <td>106.16</td>\n",
       "      <td>103.20</td>\n",
       "      <td>104.44</td>\n",
       "      <td>106.00</td>\n",
       "      <td>109.07</td>\n",
       "      <td>107.32</td>\n",
       "      <td>107.86</td>\n",
       "      <td>106.85</td>\n",
       "      <td>105.48</td>\n",
       "      <td>105.80</td>\n",
       "      <td>111.34</td>\n",
       "      <td>115.20</td>\n",
       "      <td>112.16</td>\n",
       "      <td>108.67</td>\n",
       "      <td>108.86</td>\n",
       "      <td>108.8</td>\n",
       "      <td>109.54</td>\n",
       "      <td>108.48</td>\n",
       "      <td>109.4</td>\n",
       "      <td>108.83</td>\n",
       "      <td>107.64</td>\n",
       "      <td>106.68</td>\n",
       "      <td>107.70</td>\n",
       "      <td>110.52</td>\n",
       "      <td>110.74</td>\n",
       "      <td>107.89</td>\n",
       "      <td>109.01</td>\n",
       "      <td>110.81</td>\n",
       "      <td>110.27</td>\n",
       "      <td>111.26</td>\n",
       "      <td>111.29</td>\n",
       "      <td>111.48</td>\n",
       "      <td>111.18</td>\n",
       "      <td>111.28</td>\n",
       "      <td>114.78</td>\n",
       "      <td>119.68</td>\n",
       "      <td>119.82</td>\n",
       "      <td>115.35</td>\n",
       "      <td>115.79</td>\n",
       "      <td>118.04</td>\n",
       "      <td>120.97</td>\n",
       "      <td>120.61</td>\n",
       "      <td>120.34</td>\n",
       "      <td>119.70</td>\n",
       "      <td>118.43</td>\n",
       "    </tr>\n",
       "    <tr>\n",
       "      <th>11</th>\n",
       "      <td>11 음식 및 숙박</td>\n",
       "      <td>101.06</td>\n",
       "      <td>101.40</td>\n",
       "      <td>101.67</td>\n",
       "      <td>101.98</td>\n",
       "      <td>102.26</td>\n",
       "      <td>102.40</td>\n",
       "      <td>102.50</td>\n",
       "      <td>102.74</td>\n",
       "      <td>102.91</td>\n",
       "      <td>102.92</td>\n",
       "      <td>103.02</td>\n",
       "      <td>103.07</td>\n",
       "      <td>103.27</td>\n",
       "      <td>103.75</td>\n",
       "      <td>104.02</td>\n",
       "      <td>104.31</td>\n",
       "      <td>104.49</td>\n",
       "      <td>104.80</td>\n",
       "      <td>104.87</td>\n",
       "      <td>105.20</td>\n",
       "      <td>105.5</td>\n",
       "      <td>105.36</td>\n",
       "      <td>105.57</td>\n",
       "      <td>105.67</td>\n",
       "      <td>106.07</td>\n",
       "      <td>106.55</td>\n",
       "      <td>106.94</td>\n",
       "      <td>107.29</td>\n",
       "      <td>107.70</td>\n",
       "      <td>108.07</td>\n",
       "      <td>108.17</td>\n",
       "      <td>108.52</td>\n",
       "      <td>108.76</td>\n",
       "      <td>108.58</td>\n",
       "      <td>108.74</td>\n",
       "      <td>108.96</td>\n",
       "      <td>109.35</td>\n",
       "      <td>109.7</td>\n",
       "      <td>109.89</td>\n",
       "      <td>109.63</td>\n",
       "      <td>109.8</td>\n",
       "      <td>110.01</td>\n",
       "      <td>110.11</td>\n",
       "      <td>110.35</td>\n",
       "      <td>110.64</td>\n",
       "      <td>110.09</td>\n",
       "      <td>110.27</td>\n",
       "      <td>110.29</td>\n",
       "      <td>110.45</td>\n",
       "      <td>110.97</td>\n",
       "      <td>110.93</td>\n",
       "      <td>110.82</td>\n",
       "      <td>110.90</td>\n",
       "      <td>110.86</td>\n",
       "      <td>110.95</td>\n",
       "      <td>111.13</td>\n",
       "      <td>111.35</td>\n",
       "      <td>111.25</td>\n",
       "      <td>111.51</td>\n",
       "      <td>111.41</td>\n",
       "      <td>111.67</td>\n",
       "      <td>111.96</td>\n",
       "      <td>112.26</td>\n",
       "      <td>112.42</td>\n",
       "      <td>112.93</td>\n",
       "      <td>113.11</td>\n",
       "      <td>113.37</td>\n",
       "    </tr>\n",
       "  </tbody>\n",
       "</table>\n",
       "</div>"
      ],
      "text/plain": [
       "             지출목적별  2015. 12  2016. 01  ...  2021. 04  2021. 05  2021. 06\n",
       "1   01 식료품 · 비주류음료     99.95    100.76  ...    120.34    119.70    118.43\n",
       "11      11 음식 및 숙박    101.06    101.40  ...    112.93    113.11    113.37\n",
       "\n",
       "[2 rows x 68 columns]"
      ]
     },
     "execution_count": 354,
     "metadata": {},
     "output_type": "execute_result"
    }
   ],
   "source": [
    "cpi_purpose2 = cpi_purpose.iloc[[1,11],:]\n",
    "\n",
    "cpi_purpose2 # 전국 식료품별, 음식서비스별 cpi만 추출"
   ]
  },
  {
   "cell_type": "code",
   "execution_count": 355,
   "metadata": {
    "colab": {
     "base_uri": "https://localhost:8080/",
     "height": 417
    },
    "id": "v3IqwmxIDoKz",
    "outputId": "eea093d7-f300-4893-ec3e-a16888ee75e2"
   },
   "outputs": [
    {
     "data": {
      "text/html": [
       "<div>\n",
       "<style scoped>\n",
       "    .dataframe tbody tr th:only-of-type {\n",
       "        vertical-align: middle;\n",
       "    }\n",
       "\n",
       "    .dataframe tbody tr th {\n",
       "        vertical-align: top;\n",
       "    }\n",
       "\n",
       "    .dataframe thead th {\n",
       "        text-align: right;\n",
       "    }\n",
       "</style>\n",
       "<table border=\"1\" class=\"dataframe\">\n",
       "  <thead>\n",
       "    <tr style=\"text-align: right;\">\n",
       "      <th></th>\n",
       "      <th>식료품 cpi</th>\n",
       "      <th>음식 및 숙박 cpi</th>\n",
       "    </tr>\n",
       "  </thead>\n",
       "  <tbody>\n",
       "    <tr>\n",
       "      <th>2015. 12</th>\n",
       "      <td>99.95</td>\n",
       "      <td>101.06</td>\n",
       "    </tr>\n",
       "    <tr>\n",
       "      <th>2016. 01</th>\n",
       "      <td>100.76</td>\n",
       "      <td>101.4</td>\n",
       "    </tr>\n",
       "    <tr>\n",
       "      <th>2016. 02</th>\n",
       "      <td>103.43</td>\n",
       "      <td>101.67</td>\n",
       "    </tr>\n",
       "    <tr>\n",
       "      <th>2016. 03</th>\n",
       "      <td>102.25</td>\n",
       "      <td>101.98</td>\n",
       "    </tr>\n",
       "    <tr>\n",
       "      <th>2016. 04</th>\n",
       "      <td>102.3</td>\n",
       "      <td>102.26</td>\n",
       "    </tr>\n",
       "    <tr>\n",
       "      <th>...</th>\n",
       "      <td>...</td>\n",
       "      <td>...</td>\n",
       "    </tr>\n",
       "    <tr>\n",
       "      <th>2021. 02</th>\n",
       "      <td>120.97</td>\n",
       "      <td>112.26</td>\n",
       "    </tr>\n",
       "    <tr>\n",
       "      <th>2021. 03</th>\n",
       "      <td>120.61</td>\n",
       "      <td>112.42</td>\n",
       "    </tr>\n",
       "    <tr>\n",
       "      <th>2021. 04</th>\n",
       "      <td>120.34</td>\n",
       "      <td>112.93</td>\n",
       "    </tr>\n",
       "    <tr>\n",
       "      <th>2021. 05</th>\n",
       "      <td>119.7</td>\n",
       "      <td>113.11</td>\n",
       "    </tr>\n",
       "    <tr>\n",
       "      <th>2021. 06</th>\n",
       "      <td>118.43</td>\n",
       "      <td>113.37</td>\n",
       "    </tr>\n",
       "  </tbody>\n",
       "</table>\n",
       "<p>67 rows × 2 columns</p>\n",
       "</div>"
      ],
      "text/plain": [
       "         식료품 cpi 음식 및 숙박 cpi\n",
       "2015. 12   99.95      101.06\n",
       "2016. 01  100.76       101.4\n",
       "2016. 02  103.43      101.67\n",
       "2016. 03  102.25      101.98\n",
       "2016. 04   102.3      102.26\n",
       "...          ...         ...\n",
       "2021. 02  120.97      112.26\n",
       "2021. 03  120.61      112.42\n",
       "2021. 04  120.34      112.93\n",
       "2021. 05   119.7      113.11\n",
       "2021. 06  118.43      113.37\n",
       "\n",
       "[67 rows x 2 columns]"
      ]
     },
     "execution_count": 355,
     "metadata": {},
     "output_type": "execute_result"
    }
   ],
   "source": [
    "cpi_purpose3 = pd.DataFrame(cpi_purpose2.iloc[0,:].values,index = cpi_purpose2.columns,columns=['식료품 cpi'])\n",
    "\n",
    "cpi_purpose3['음식 및 숙박 cpi'] = cpi_purpose2.iloc[1,:].values\n",
    "\n",
    "cpi_purpose3.drop('지출목적별',axis=0,inplace=True) # 지출목적별 행 삭제\n",
    "\n",
    "cpi_purpose3 # 식료품, 음식 cpi"
   ]
  },
  {
   "cell_type": "markdown",
   "metadata": {
    "id": "enlfpfJd7TKw"
   },
   "source": [
    "## Preprocess Date"
   ]
  },
  {
   "cell_type": "code",
   "execution_count": null,
   "metadata": {
    "id": "TYyzi8rh7TKw"
   },
   "outputs": [],
   "source": [
    "cpi_total.reset_index(inplace=True)  # 날짜 인덱스 > 컬럼으로 변경\n",
    "cpi_purpose3.reset_index(inplace=True)  # 날짜 인덱스 > 컬럼으로 변경"
   ]
  },
  {
   "cell_type": "code",
   "execution_count": null,
   "metadata": {
    "id": "6-jU3p587TKw"
   },
   "outputs": [],
   "source": [
    "cpi_total['year'] = cpi_total['index'].str[:4].astype('int')\n",
    "cpi_total['month'] = cpi_total['index'].str[5:].astype('int')\n",
    "cpi_total.drop(columns=['index'], inplace=True, axis=1)\n",
    "\n",
    "cpi_purpose3['year'] = cpi_purpose3['index'].str[:4].astype('int')\n",
    "cpi_purpose3['month'] = cpi_purpose3['index'].str[5:].astype('int')\n",
    "cpi_purpose3.drop(columns=['index'], inplace=True, axis=1)"
   ]
  },
  {
   "cell_type": "markdown",
   "metadata": {
    "id": "0ow1qhem7TKw"
   },
   "source": [
    "## Add to Training Data"
   ]
  },
  {
   "cell_type": "code",
   "execution_count": null,
   "metadata": {
    "id": "LkF8mrnC7TKw"
   },
   "outputs": [],
   "source": [
    "df_train = pd.merge(df_train, df_cpi1, how='left', on=['year', 'month'])\n",
    "df_train = pd.merge(df_train, df_cpi2, how='left', on=['year', 'month'])"
   ]
  },
  {
   "cell_type": "code",
   "execution_count": null,
   "metadata": {
    "id": "XesE8rQK7TKw"
   },
   "outputs": [],
   "source": [
    "pd.set_option(\"display.max_columns\", None)\n",
    "df_train.sample(5)"
   ]
  },
  {
   "cell_type": "markdown",
   "metadata": {
    "id": "PBX2gc1s7TKw"
   },
   "source": [
    "---"
   ]
  },
  {
   "cell_type": "markdown",
   "metadata": {
    "id": "prmrs50a7TKw"
   },
   "source": [
    "# Final"
   ]
  },
  {
   "cell_type": "markdown",
   "metadata": {
    "id": "Ui7PhQlm7TKw"
   },
   "source": [
    "## One-hot Encoding"
   ]
  },
  {
   "cell_type": "code",
   "execution_count": null,
   "metadata": {
    "id": "D2wAIEY_7TKw"
   },
   "outputs": [],
   "source": [
    "one_hot = ['CTRY_1', 'CTRY_2', 'P_PURPOSE', 'CATEGORY_1', 'CATEGORY_2', 'P_NAME']"
   ]
  },
  {
   "cell_type": "code",
   "execution_count": null,
   "metadata": {
    "id": "pRKkcACh7TKw"
   },
   "outputs": [],
   "source": [
    "df_train = pd.get_dummies(df_train, columns=one_hot)"
   ]
  },
  {
   "cell_type": "markdown",
   "metadata": {
    "id": "9TjOq4PM7TKx"
   },
   "source": [
    "## Drop Columns"
   ]
  },
  {
   "cell_type": "code",
   "execution_count": null,
   "metadata": {
    "id": "02DqP-aR7TKx"
   },
   "outputs": [],
   "source": [
    "drop = ['REG_DATE', 'P_TYPE', 'P_IMPORT_TYPE']"
   ]
  },
  {
   "cell_type": "code",
   "execution_count": null,
   "metadata": {
    "id": "Yr1Q_9kz7TKx"
   },
   "outputs": [],
   "source": [
    "df_train.drop(columns = drop, inplace=True)"
   ]
  },
  {
   "cell_type": "code",
   "execution_count": null,
   "metadata": {
    "id": "0FCfWLME7TKx",
    "scrolled": false
   },
   "outputs": [],
   "source": [
    "pd.set_option(\"display.max_columns\", None)\n",
    "df_train.sample(5)"
   ]
  },
  {
   "cell_type": "markdown",
   "metadata": {
    "id": "tgHQpmnw7TKx"
   },
   "source": [
    "## Save Files"
   ]
  },
  {
   "cell_type": "code",
   "execution_count": null,
   "metadata": {
    "id": "qbtEbNmE7TKx"
   },
   "outputs": [],
   "source": [
    "def save_file(df, file_name):\n",
    "    df.to_csv(os.path.join(root, file_name), encoding='utf-8', index=False)"
   ]
  },
  {
   "cell_type": "code",
   "execution_count": null,
   "metadata": {
    "id": "x2Ynh9N27TKx"
   },
   "outputs": [],
   "source": [
    "save_file(df_weather, 'preprocessed_weather.csv')  # 제조국 날씨\n",
    "save_file(df_oil, 'preprocessed_oil.csv')  # 원유 종가\n",
    "save_file(df_weather_kr, 'preprocessed_weather_korea.csv')  # 한국 날씨\n",
    "save_file(df_cpi1, 'preprocessed_cpi_region.csv')  # 전체 소비자물가지수\n",
    "save_file(df_cpi2, 'preprocessed_cpi_purpose.csv')  # 음식/음식서비스 소비자물가지수\n",
    "save_file(df_train, 'preprocessed_train.csv')  # 최종 df"
   ]
  },
  {
   "cell_type": "code",
   "execution_count": null,
   "metadata": {
    "id": "EJzpvZz-7TKx"
   },
   "outputs": [],
   "source": []
  }
 ],
 "metadata": {
  "colab": {
   "collapsed_sections": [
    "DACPIbVx7TKg",
    "KF2OAGuX7TKp",
    "8M2cvvz67TKp",
    "Ri1gh7AmKrOO",
    "qHGpgasILfLx",
    "DUxLnVF_Mdae",
    "IJnd1IKwNnuu",
    "6Bcx08HU7TKr",
    "gp3zCFeg7TKs",
    "600RYV_S7TKs",
    "5nG6S2767TKs",
    "acx-1jLF7TKt",
    "oCJclrSZ7TKt",
    "r5qohDxB7TKt",
    "pyvGCh4F7TKt",
    "P6aYxyz67TKt",
    "B1Ds8aYs7TKu",
    "kYt6KcQk7TKu",
    "FlOKa7c37TKu",
    "iRuMRtrf7TKu",
    "gH6G-gCb7TKv",
    "L0rIG3y37TKv",
    "UEjWmwdM7TKv",
    "miqYSGQFFeUR",
    "lusxs6UZF3mJ",
    "LE451chsESbg",
    "prmrs50a7TKw",
    "Ui7PhQlm7TKw",
    "9TjOq4PM7TKx",
    "tgHQpmnw7TKx"
   ],
   "name": "Final_Preprocessing.ipynb",
   "provenance": []
  },
  "kernelspec": {
   "display_name": "Python 3",
   "language": "python",
   "name": "python3"
  },
  "language_info": {
   "codemirror_mode": {
    "name": "ipython",
    "version": 3
   },
   "file_extension": ".py",
   "mimetype": "text/x-python",
   "name": "python",
   "nbconvert_exporter": "python",
   "pygments_lexer": "ipython3",
   "version": "3.8.3"
  }
 },
 "nbformat": 4,
 "nbformat_minor": 1
}
